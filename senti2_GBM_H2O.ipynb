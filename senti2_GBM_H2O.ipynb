{
  "nbformat": 4,
  "nbformat_minor": 0,
  "metadata": {
    "colab": {
      "name": "senti2_GBM_H2O",
      "provenance": [],
      "collapsed_sections": [],
      "authorship_tag": "ABX9TyOKJiXNj+8NE3Fk/xQvbXA0",
      "include_colab_link": true
    },
    "kernelspec": {
      "name": "python3",
      "display_name": "Python 3"
    },
    "accelerator": "GPU",
    "widgets": {
      "application/vnd.jupyter.widget-state+json": {
        "2ed230c4f35844408b3df738c0e8f210": {
          "model_module": "@jupyter-widgets/controls",
          "model_name": "HBoxModel",
          "state": {
            "_view_name": "HBoxView",
            "_dom_classes": [],
            "_model_name": "HBoxModel",
            "_view_module": "@jupyter-widgets/controls",
            "_model_module_version": "1.5.0",
            "_view_count": null,
            "_view_module_version": "1.5.0",
            "box_style": "",
            "layout": "IPY_MODEL_976b7686390f473583080cdd65a3b024",
            "_model_module": "@jupyter-widgets/controls",
            "children": [
              "IPY_MODEL_cc1c82b736fa47868250e4c309abaf7a",
              "IPY_MODEL_f0a7ff7678034e98b39d011ff7450ea5"
            ]
          }
        },
        "976b7686390f473583080cdd65a3b024": {
          "model_module": "@jupyter-widgets/base",
          "model_name": "LayoutModel",
          "state": {
            "_view_name": "LayoutView",
            "grid_template_rows": null,
            "right": null,
            "justify_content": null,
            "_view_module": "@jupyter-widgets/base",
            "overflow": null,
            "_model_module_version": "1.2.0",
            "_view_count": null,
            "flex_flow": null,
            "width": null,
            "min_width": null,
            "border": null,
            "align_items": null,
            "bottom": null,
            "_model_module": "@jupyter-widgets/base",
            "top": null,
            "grid_column": null,
            "overflow_y": null,
            "overflow_x": null,
            "grid_auto_flow": null,
            "grid_area": null,
            "grid_template_columns": null,
            "flex": null,
            "_model_name": "LayoutModel",
            "justify_items": null,
            "grid_row": null,
            "max_height": null,
            "align_content": null,
            "visibility": null,
            "align_self": null,
            "height": null,
            "min_height": null,
            "padding": null,
            "grid_auto_rows": null,
            "grid_gap": null,
            "max_width": null,
            "order": null,
            "_view_module_version": "1.2.0",
            "grid_template_areas": null,
            "object_position": null,
            "object_fit": null,
            "grid_auto_columns": null,
            "margin": null,
            "display": null,
            "left": null
          }
        },
        "cc1c82b736fa47868250e4c309abaf7a": {
          "model_module": "@jupyter-widgets/controls",
          "model_name": "FloatProgressModel",
          "state": {
            "_view_name": "ProgressView",
            "style": "IPY_MODEL_5ab947f402384d0186ffefe6d94db04e",
            "_dom_classes": [],
            "description": "Dl Completed...: 100%",
            "_model_name": "FloatProgressModel",
            "bar_style": "success",
            "max": 1,
            "_view_module": "@jupyter-widgets/controls",
            "_model_module_version": "1.5.0",
            "value": 1,
            "_view_count": null,
            "_view_module_version": "1.5.0",
            "orientation": "horizontal",
            "min": 0,
            "description_tooltip": null,
            "_model_module": "@jupyter-widgets/controls",
            "layout": "IPY_MODEL_e16c5e23b8354cf8880e456c159f4cc5"
          }
        },
        "f0a7ff7678034e98b39d011ff7450ea5": {
          "model_module": "@jupyter-widgets/controls",
          "model_name": "HTMLModel",
          "state": {
            "_view_name": "HTMLView",
            "style": "IPY_MODEL_97db91df561540b4bf431fa52f212406",
            "_dom_classes": [],
            "description": "",
            "_model_name": "HTMLModel",
            "placeholder": "​",
            "_view_module": "@jupyter-widgets/controls",
            "_model_module_version": "1.5.0",
            "value": " 1/1 [00:02&lt;00:00,  2.23s/ url]",
            "_view_count": null,
            "_view_module_version": "1.5.0",
            "description_tooltip": null,
            "_model_module": "@jupyter-widgets/controls",
            "layout": "IPY_MODEL_8a6b5564b90240bd9e6f0257e2a32d86"
          }
        },
        "5ab947f402384d0186ffefe6d94db04e": {
          "model_module": "@jupyter-widgets/controls",
          "model_name": "ProgressStyleModel",
          "state": {
            "_view_name": "StyleView",
            "_model_name": "ProgressStyleModel",
            "description_width": "initial",
            "_view_module": "@jupyter-widgets/base",
            "_model_module_version": "1.5.0",
            "_view_count": null,
            "_view_module_version": "1.2.0",
            "bar_color": null,
            "_model_module": "@jupyter-widgets/controls"
          }
        },
        "e16c5e23b8354cf8880e456c159f4cc5": {
          "model_module": "@jupyter-widgets/base",
          "model_name": "LayoutModel",
          "state": {
            "_view_name": "LayoutView",
            "grid_template_rows": null,
            "right": null,
            "justify_content": null,
            "_view_module": "@jupyter-widgets/base",
            "overflow": null,
            "_model_module_version": "1.2.0",
            "_view_count": null,
            "flex_flow": null,
            "width": null,
            "min_width": null,
            "border": null,
            "align_items": null,
            "bottom": null,
            "_model_module": "@jupyter-widgets/base",
            "top": null,
            "grid_column": null,
            "overflow_y": null,
            "overflow_x": null,
            "grid_auto_flow": null,
            "grid_area": null,
            "grid_template_columns": null,
            "flex": null,
            "_model_name": "LayoutModel",
            "justify_items": null,
            "grid_row": null,
            "max_height": null,
            "align_content": null,
            "visibility": null,
            "align_self": null,
            "height": null,
            "min_height": null,
            "padding": null,
            "grid_auto_rows": null,
            "grid_gap": null,
            "max_width": null,
            "order": null,
            "_view_module_version": "1.2.0",
            "grid_template_areas": null,
            "object_position": null,
            "object_fit": null,
            "grid_auto_columns": null,
            "margin": null,
            "display": null,
            "left": null
          }
        },
        "97db91df561540b4bf431fa52f212406": {
          "model_module": "@jupyter-widgets/controls",
          "model_name": "DescriptionStyleModel",
          "state": {
            "_view_name": "StyleView",
            "_model_name": "DescriptionStyleModel",
            "description_width": "",
            "_view_module": "@jupyter-widgets/base",
            "_model_module_version": "1.5.0",
            "_view_count": null,
            "_view_module_version": "1.2.0",
            "_model_module": "@jupyter-widgets/controls"
          }
        },
        "8a6b5564b90240bd9e6f0257e2a32d86": {
          "model_module": "@jupyter-widgets/base",
          "model_name": "LayoutModel",
          "state": {
            "_view_name": "LayoutView",
            "grid_template_rows": null,
            "right": null,
            "justify_content": null,
            "_view_module": "@jupyter-widgets/base",
            "overflow": null,
            "_model_module_version": "1.2.0",
            "_view_count": null,
            "flex_flow": null,
            "width": null,
            "min_width": null,
            "border": null,
            "align_items": null,
            "bottom": null,
            "_model_module": "@jupyter-widgets/base",
            "top": null,
            "grid_column": null,
            "overflow_y": null,
            "overflow_x": null,
            "grid_auto_flow": null,
            "grid_area": null,
            "grid_template_columns": null,
            "flex": null,
            "_model_name": "LayoutModel",
            "justify_items": null,
            "grid_row": null,
            "max_height": null,
            "align_content": null,
            "visibility": null,
            "align_self": null,
            "height": null,
            "min_height": null,
            "padding": null,
            "grid_auto_rows": null,
            "grid_gap": null,
            "max_width": null,
            "order": null,
            "_view_module_version": "1.2.0",
            "grid_template_areas": null,
            "object_position": null,
            "object_fit": null,
            "grid_auto_columns": null,
            "margin": null,
            "display": null,
            "left": null
          }
        },
        "85cacffb75bc4035a6edcd94df3fb0a2": {
          "model_module": "@jupyter-widgets/controls",
          "model_name": "HBoxModel",
          "state": {
            "_view_name": "HBoxView",
            "_dom_classes": [],
            "_model_name": "HBoxModel",
            "_view_module": "@jupyter-widgets/controls",
            "_model_module_version": "1.5.0",
            "_view_count": null,
            "_view_module_version": "1.5.0",
            "box_style": "",
            "layout": "IPY_MODEL_fce098c5bbba4abaadf4489c47a195c0",
            "_model_module": "@jupyter-widgets/controls",
            "children": [
              "IPY_MODEL_27eb8bd848404e44b727d7ae30f99ecf",
              "IPY_MODEL_c4e50cc489bc476e9eab4b5676400b19"
            ]
          }
        },
        "fce098c5bbba4abaadf4489c47a195c0": {
          "model_module": "@jupyter-widgets/base",
          "model_name": "LayoutModel",
          "state": {
            "_view_name": "LayoutView",
            "grid_template_rows": null,
            "right": null,
            "justify_content": null,
            "_view_module": "@jupyter-widgets/base",
            "overflow": null,
            "_model_module_version": "1.2.0",
            "_view_count": null,
            "flex_flow": null,
            "width": null,
            "min_width": null,
            "border": null,
            "align_items": null,
            "bottom": null,
            "_model_module": "@jupyter-widgets/base",
            "top": null,
            "grid_column": null,
            "overflow_y": null,
            "overflow_x": null,
            "grid_auto_flow": null,
            "grid_area": null,
            "grid_template_columns": null,
            "flex": null,
            "_model_name": "LayoutModel",
            "justify_items": null,
            "grid_row": null,
            "max_height": null,
            "align_content": null,
            "visibility": null,
            "align_self": null,
            "height": null,
            "min_height": null,
            "padding": null,
            "grid_auto_rows": null,
            "grid_gap": null,
            "max_width": null,
            "order": null,
            "_view_module_version": "1.2.0",
            "grid_template_areas": null,
            "object_position": null,
            "object_fit": null,
            "grid_auto_columns": null,
            "margin": null,
            "display": null,
            "left": null
          }
        },
        "27eb8bd848404e44b727d7ae30f99ecf": {
          "model_module": "@jupyter-widgets/controls",
          "model_name": "FloatProgressModel",
          "state": {
            "_view_name": "ProgressView",
            "style": "IPY_MODEL_e135962a3e0547e5999c879c1cc67a88",
            "_dom_classes": [],
            "description": "Dl Size...: 100%",
            "_model_name": "FloatProgressModel",
            "bar_style": "success",
            "max": 1,
            "_view_module": "@jupyter-widgets/controls",
            "_model_module_version": "1.5.0",
            "value": 1,
            "_view_count": null,
            "_view_module_version": "1.5.0",
            "orientation": "horizontal",
            "min": 0,
            "description_tooltip": null,
            "_model_module": "@jupyter-widgets/controls",
            "layout": "IPY_MODEL_59af0e64cf7647c39ccf9407299ccf9d"
          }
        },
        "c4e50cc489bc476e9eab4b5676400b19": {
          "model_module": "@jupyter-widgets/controls",
          "model_name": "HTMLModel",
          "state": {
            "_view_name": "HTMLView",
            "style": "IPY_MODEL_9e2b4ffb0c07445ab6b346d928852a9c",
            "_dom_classes": [],
            "description": "",
            "_model_name": "HTMLModel",
            "placeholder": "​",
            "_view_module": "@jupyter-widgets/controls",
            "_model_module_version": "1.5.0",
            "value": " 16/16 [00:02&lt;00:00,  7.27 MiB/s]",
            "_view_count": null,
            "_view_module_version": "1.5.0",
            "description_tooltip": null,
            "_model_module": "@jupyter-widgets/controls",
            "layout": "IPY_MODEL_902cd1fae6ce46aa99d6c7206baf2638"
          }
        },
        "e135962a3e0547e5999c879c1cc67a88": {
          "model_module": "@jupyter-widgets/controls",
          "model_name": "ProgressStyleModel",
          "state": {
            "_view_name": "StyleView",
            "_model_name": "ProgressStyleModel",
            "description_width": "initial",
            "_view_module": "@jupyter-widgets/base",
            "_model_module_version": "1.5.0",
            "_view_count": null,
            "_view_module_version": "1.2.0",
            "bar_color": null,
            "_model_module": "@jupyter-widgets/controls"
          }
        },
        "59af0e64cf7647c39ccf9407299ccf9d": {
          "model_module": "@jupyter-widgets/base",
          "model_name": "LayoutModel",
          "state": {
            "_view_name": "LayoutView",
            "grid_template_rows": null,
            "right": null,
            "justify_content": null,
            "_view_module": "@jupyter-widgets/base",
            "overflow": null,
            "_model_module_version": "1.2.0",
            "_view_count": null,
            "flex_flow": null,
            "width": null,
            "min_width": null,
            "border": null,
            "align_items": null,
            "bottom": null,
            "_model_module": "@jupyter-widgets/base",
            "top": null,
            "grid_column": null,
            "overflow_y": null,
            "overflow_x": null,
            "grid_auto_flow": null,
            "grid_area": null,
            "grid_template_columns": null,
            "flex": null,
            "_model_name": "LayoutModel",
            "justify_items": null,
            "grid_row": null,
            "max_height": null,
            "align_content": null,
            "visibility": null,
            "align_self": null,
            "height": null,
            "min_height": null,
            "padding": null,
            "grid_auto_rows": null,
            "grid_gap": null,
            "max_width": null,
            "order": null,
            "_view_module_version": "1.2.0",
            "grid_template_areas": null,
            "object_position": null,
            "object_fit": null,
            "grid_auto_columns": null,
            "margin": null,
            "display": null,
            "left": null
          }
        },
        "9e2b4ffb0c07445ab6b346d928852a9c": {
          "model_module": "@jupyter-widgets/controls",
          "model_name": "DescriptionStyleModel",
          "state": {
            "_view_name": "StyleView",
            "_model_name": "DescriptionStyleModel",
            "description_width": "",
            "_view_module": "@jupyter-widgets/base",
            "_model_module_version": "1.5.0",
            "_view_count": null,
            "_view_module_version": "1.2.0",
            "_model_module": "@jupyter-widgets/controls"
          }
        },
        "902cd1fae6ce46aa99d6c7206baf2638": {
          "model_module": "@jupyter-widgets/base",
          "model_name": "LayoutModel",
          "state": {
            "_view_name": "LayoutView",
            "grid_template_rows": null,
            "right": null,
            "justify_content": null,
            "_view_module": "@jupyter-widgets/base",
            "overflow": null,
            "_model_module_version": "1.2.0",
            "_view_count": null,
            "flex_flow": null,
            "width": null,
            "min_width": null,
            "border": null,
            "align_items": null,
            "bottom": null,
            "_model_module": "@jupyter-widgets/base",
            "top": null,
            "grid_column": null,
            "overflow_y": null,
            "overflow_x": null,
            "grid_auto_flow": null,
            "grid_area": null,
            "grid_template_columns": null,
            "flex": null,
            "_model_name": "LayoutModel",
            "justify_items": null,
            "grid_row": null,
            "max_height": null,
            "align_content": null,
            "visibility": null,
            "align_self": null,
            "height": null,
            "min_height": null,
            "padding": null,
            "grid_auto_rows": null,
            "grid_gap": null,
            "max_width": null,
            "order": null,
            "_view_module_version": "1.2.0",
            "grid_template_areas": null,
            "object_position": null,
            "object_fit": null,
            "grid_auto_columns": null,
            "margin": null,
            "display": null,
            "left": null
          }
        },
        "04af9656fe39484e83ce897dcb1b733e": {
          "model_module": "@jupyter-widgets/controls",
          "model_name": "HBoxModel",
          "state": {
            "_view_name": "HBoxView",
            "_dom_classes": [],
            "_model_name": "HBoxModel",
            "_view_module": "@jupyter-widgets/controls",
            "_model_module_version": "1.5.0",
            "_view_count": null,
            "_view_module_version": "1.5.0",
            "box_style": "",
            "layout": "IPY_MODEL_05f37271660842dbab420ad860607279",
            "_model_module": "@jupyter-widgets/controls",
            "children": [
              "IPY_MODEL_e82600551a1c4c229aa939e617957a75",
              "IPY_MODEL_b37e564d81054ae5a4d9fbe3abacc495"
            ]
          }
        },
        "05f37271660842dbab420ad860607279": {
          "model_module": "@jupyter-widgets/base",
          "model_name": "LayoutModel",
          "state": {
            "_view_name": "LayoutView",
            "grid_template_rows": null,
            "right": null,
            "justify_content": null,
            "_view_module": "@jupyter-widgets/base",
            "overflow": null,
            "_model_module_version": "1.2.0",
            "_view_count": null,
            "flex_flow": null,
            "width": null,
            "min_width": null,
            "border": null,
            "align_items": null,
            "bottom": null,
            "_model_module": "@jupyter-widgets/base",
            "top": null,
            "grid_column": null,
            "overflow_y": null,
            "overflow_x": null,
            "grid_auto_flow": null,
            "grid_area": null,
            "grid_template_columns": null,
            "flex": null,
            "_model_name": "LayoutModel",
            "justify_items": null,
            "grid_row": null,
            "max_height": null,
            "align_content": null,
            "visibility": null,
            "align_self": null,
            "height": null,
            "min_height": null,
            "padding": null,
            "grid_auto_rows": null,
            "grid_gap": null,
            "max_width": null,
            "order": null,
            "_view_module_version": "1.2.0",
            "grid_template_areas": null,
            "object_position": null,
            "object_fit": null,
            "grid_auto_columns": null,
            "margin": null,
            "display": null,
            "left": null
          }
        },
        "e82600551a1c4c229aa939e617957a75": {
          "model_module": "@jupyter-widgets/controls",
          "model_name": "FloatProgressModel",
          "state": {
            "_view_name": "ProgressView",
            "style": "IPY_MODEL_94ec19c640d04d749b5c3c7241f1e2a5",
            "_dom_classes": [],
            "description": "Extraction completed...: 100%",
            "_model_name": "FloatProgressModel",
            "bar_style": "success",
            "max": 1,
            "_view_module": "@jupyter-widgets/controls",
            "_model_module_version": "1.5.0",
            "value": 1,
            "_view_count": null,
            "_view_module_version": "1.5.0",
            "orientation": "horizontal",
            "min": 0,
            "description_tooltip": null,
            "_model_module": "@jupyter-widgets/controls",
            "layout": "IPY_MODEL_2b25995372ad42368cb26740ee035d4b"
          }
        },
        "b37e564d81054ae5a4d9fbe3abacc495": {
          "model_module": "@jupyter-widgets/controls",
          "model_name": "HTMLModel",
          "state": {
            "_view_name": "HTMLView",
            "style": "IPY_MODEL_8e3fc119ab9e47bba6a690c935dfe8e5",
            "_dom_classes": [],
            "description": "",
            "_model_name": "HTMLModel",
            "placeholder": "​",
            "_view_module": "@jupyter-widgets/controls",
            "_model_module_version": "1.5.0",
            "value": " 1/1 [00:02&lt;00:00,  2.17s/ file]",
            "_view_count": null,
            "_view_module_version": "1.5.0",
            "description_tooltip": null,
            "_model_module": "@jupyter-widgets/controls",
            "layout": "IPY_MODEL_f57f13a85cbb4edc80faea6534180cc5"
          }
        },
        "94ec19c640d04d749b5c3c7241f1e2a5": {
          "model_module": "@jupyter-widgets/controls",
          "model_name": "ProgressStyleModel",
          "state": {
            "_view_name": "StyleView",
            "_model_name": "ProgressStyleModel",
            "description_width": "initial",
            "_view_module": "@jupyter-widgets/base",
            "_model_module_version": "1.5.0",
            "_view_count": null,
            "_view_module_version": "1.2.0",
            "bar_color": null,
            "_model_module": "@jupyter-widgets/controls"
          }
        },
        "2b25995372ad42368cb26740ee035d4b": {
          "model_module": "@jupyter-widgets/base",
          "model_name": "LayoutModel",
          "state": {
            "_view_name": "LayoutView",
            "grid_template_rows": null,
            "right": null,
            "justify_content": null,
            "_view_module": "@jupyter-widgets/base",
            "overflow": null,
            "_model_module_version": "1.2.0",
            "_view_count": null,
            "flex_flow": null,
            "width": null,
            "min_width": null,
            "border": null,
            "align_items": null,
            "bottom": null,
            "_model_module": "@jupyter-widgets/base",
            "top": null,
            "grid_column": null,
            "overflow_y": null,
            "overflow_x": null,
            "grid_auto_flow": null,
            "grid_area": null,
            "grid_template_columns": null,
            "flex": null,
            "_model_name": "LayoutModel",
            "justify_items": null,
            "grid_row": null,
            "max_height": null,
            "align_content": null,
            "visibility": null,
            "align_self": null,
            "height": null,
            "min_height": null,
            "padding": null,
            "grid_auto_rows": null,
            "grid_gap": null,
            "max_width": null,
            "order": null,
            "_view_module_version": "1.2.0",
            "grid_template_areas": null,
            "object_position": null,
            "object_fit": null,
            "grid_auto_columns": null,
            "margin": null,
            "display": null,
            "left": null
          }
        },
        "8e3fc119ab9e47bba6a690c935dfe8e5": {
          "model_module": "@jupyter-widgets/controls",
          "model_name": "DescriptionStyleModel",
          "state": {
            "_view_name": "StyleView",
            "_model_name": "DescriptionStyleModel",
            "description_width": "",
            "_view_module": "@jupyter-widgets/base",
            "_model_module_version": "1.5.0",
            "_view_count": null,
            "_view_module_version": "1.2.0",
            "_model_module": "@jupyter-widgets/controls"
          }
        },
        "f57f13a85cbb4edc80faea6534180cc5": {
          "model_module": "@jupyter-widgets/base",
          "model_name": "LayoutModel",
          "state": {
            "_view_name": "LayoutView",
            "grid_template_rows": null,
            "right": null,
            "justify_content": null,
            "_view_module": "@jupyter-widgets/base",
            "overflow": null,
            "_model_module_version": "1.2.0",
            "_view_count": null,
            "flex_flow": null,
            "width": null,
            "min_width": null,
            "border": null,
            "align_items": null,
            "bottom": null,
            "_model_module": "@jupyter-widgets/base",
            "top": null,
            "grid_column": null,
            "overflow_y": null,
            "overflow_x": null,
            "grid_auto_flow": null,
            "grid_area": null,
            "grid_template_columns": null,
            "flex": null,
            "_model_name": "LayoutModel",
            "justify_items": null,
            "grid_row": null,
            "max_height": null,
            "align_content": null,
            "visibility": null,
            "align_self": null,
            "height": null,
            "min_height": null,
            "padding": null,
            "grid_auto_rows": null,
            "grid_gap": null,
            "max_width": null,
            "order": null,
            "_view_module_version": "1.2.0",
            "grid_template_areas": null,
            "object_position": null,
            "object_fit": null,
            "grid_auto_columns": null,
            "margin": null,
            "display": null,
            "left": null
          }
        },
        "0742683527a143daa6758e096def0f2d": {
          "model_module": "@jupyter-widgets/controls",
          "model_name": "HBoxModel",
          "state": {
            "_view_name": "HBoxView",
            "_dom_classes": [],
            "_model_name": "HBoxModel",
            "_view_module": "@jupyter-widgets/controls",
            "_model_module_version": "1.5.0",
            "_view_count": null,
            "_view_module_version": "1.5.0",
            "box_style": "",
            "layout": "IPY_MODEL_b1f418fa58394db8b86e10a39a4b8574",
            "_model_module": "@jupyter-widgets/controls",
            "children": [
              "IPY_MODEL_d025031713074d7c96268645c093f1ef",
              "IPY_MODEL_02d9e7a065424ec1a15fa282aecd7e67"
            ]
          }
        },
        "b1f418fa58394db8b86e10a39a4b8574": {
          "model_module": "@jupyter-widgets/base",
          "model_name": "LayoutModel",
          "state": {
            "_view_name": "LayoutView",
            "grid_template_rows": null,
            "right": null,
            "justify_content": null,
            "_view_module": "@jupyter-widgets/base",
            "overflow": null,
            "_model_module_version": "1.2.0",
            "_view_count": null,
            "flex_flow": null,
            "width": null,
            "min_width": null,
            "border": null,
            "align_items": null,
            "bottom": null,
            "_model_module": "@jupyter-widgets/base",
            "top": null,
            "grid_column": null,
            "overflow_y": null,
            "overflow_x": null,
            "grid_auto_flow": null,
            "grid_area": null,
            "grid_template_columns": null,
            "flex": null,
            "_model_name": "LayoutModel",
            "justify_items": null,
            "grid_row": null,
            "max_height": null,
            "align_content": null,
            "visibility": null,
            "align_self": null,
            "height": null,
            "min_height": null,
            "padding": null,
            "grid_auto_rows": null,
            "grid_gap": null,
            "max_width": null,
            "order": null,
            "_view_module_version": "1.2.0",
            "grid_template_areas": null,
            "object_position": null,
            "object_fit": null,
            "grid_auto_columns": null,
            "margin": null,
            "display": null,
            "left": null
          }
        },
        "d025031713074d7c96268645c093f1ef": {
          "model_module": "@jupyter-widgets/controls",
          "model_name": "FloatProgressModel",
          "state": {
            "_view_name": "ProgressView",
            "style": "IPY_MODEL_ff476997127343799dd52a1bb7aec3d5",
            "_dom_classes": [],
            "description": "",
            "_model_name": "FloatProgressModel",
            "bar_style": "info",
            "max": 1,
            "_view_module": "@jupyter-widgets/controls",
            "_model_module_version": "1.5.0",
            "value": 1,
            "_view_count": null,
            "_view_module_version": "1.5.0",
            "orientation": "horizontal",
            "min": 0,
            "description_tooltip": null,
            "_model_module": "@jupyter-widgets/controls",
            "layout": "IPY_MODEL_3c5a89f18a6f4eaabc8d564e39826f19"
          }
        },
        "02d9e7a065424ec1a15fa282aecd7e67": {
          "model_module": "@jupyter-widgets/controls",
          "model_name": "HTMLModel",
          "state": {
            "_view_name": "HTMLView",
            "style": "IPY_MODEL_d6f21e2a0d22465e94e2a5acd567213f",
            "_dom_classes": [],
            "description": "",
            "_model_name": "HTMLModel",
            "placeholder": "​",
            "_view_module": "@jupyter-widgets/controls",
            "_model_module_version": "1.5.0",
            "value": " 85981/0 [01:29&lt;00:00, 969.55 examples/s]",
            "_view_count": null,
            "_view_module_version": "1.5.0",
            "description_tooltip": null,
            "_model_module": "@jupyter-widgets/controls",
            "layout": "IPY_MODEL_42a42befea0640b79494f7698e15a44a"
          }
        },
        "ff476997127343799dd52a1bb7aec3d5": {
          "model_module": "@jupyter-widgets/controls",
          "model_name": "ProgressStyleModel",
          "state": {
            "_view_name": "StyleView",
            "_model_name": "ProgressStyleModel",
            "description_width": "initial",
            "_view_module": "@jupyter-widgets/base",
            "_model_module_version": "1.5.0",
            "_view_count": null,
            "_view_module_version": "1.2.0",
            "bar_color": null,
            "_model_module": "@jupyter-widgets/controls"
          }
        },
        "3c5a89f18a6f4eaabc8d564e39826f19": {
          "model_module": "@jupyter-widgets/base",
          "model_name": "LayoutModel",
          "state": {
            "_view_name": "LayoutView",
            "grid_template_rows": null,
            "right": null,
            "justify_content": null,
            "_view_module": "@jupyter-widgets/base",
            "overflow": null,
            "_model_module_version": "1.2.0",
            "_view_count": null,
            "flex_flow": null,
            "width": null,
            "min_width": null,
            "border": null,
            "align_items": null,
            "bottom": null,
            "_model_module": "@jupyter-widgets/base",
            "top": null,
            "grid_column": null,
            "overflow_y": null,
            "overflow_x": null,
            "grid_auto_flow": null,
            "grid_area": null,
            "grid_template_columns": null,
            "flex": null,
            "_model_name": "LayoutModel",
            "justify_items": null,
            "grid_row": null,
            "max_height": null,
            "align_content": null,
            "visibility": null,
            "align_self": null,
            "height": null,
            "min_height": null,
            "padding": null,
            "grid_auto_rows": null,
            "grid_gap": null,
            "max_width": null,
            "order": null,
            "_view_module_version": "1.2.0",
            "grid_template_areas": null,
            "object_position": null,
            "object_fit": null,
            "grid_auto_columns": null,
            "margin": null,
            "display": null,
            "left": null
          }
        },
        "d6f21e2a0d22465e94e2a5acd567213f": {
          "model_module": "@jupyter-widgets/controls",
          "model_name": "DescriptionStyleModel",
          "state": {
            "_view_name": "StyleView",
            "_model_name": "DescriptionStyleModel",
            "description_width": "",
            "_view_module": "@jupyter-widgets/base",
            "_model_module_version": "1.5.0",
            "_view_count": null,
            "_view_module_version": "1.2.0",
            "_model_module": "@jupyter-widgets/controls"
          }
        },
        "42a42befea0640b79494f7698e15a44a": {
          "model_module": "@jupyter-widgets/base",
          "model_name": "LayoutModel",
          "state": {
            "_view_name": "LayoutView",
            "grid_template_rows": null,
            "right": null,
            "justify_content": null,
            "_view_module": "@jupyter-widgets/base",
            "overflow": null,
            "_model_module_version": "1.2.0",
            "_view_count": null,
            "flex_flow": null,
            "width": null,
            "min_width": null,
            "border": null,
            "align_items": null,
            "bottom": null,
            "_model_module": "@jupyter-widgets/base",
            "top": null,
            "grid_column": null,
            "overflow_y": null,
            "overflow_x": null,
            "grid_auto_flow": null,
            "grid_area": null,
            "grid_template_columns": null,
            "flex": null,
            "_model_name": "LayoutModel",
            "justify_items": null,
            "grid_row": null,
            "max_height": null,
            "align_content": null,
            "visibility": null,
            "align_self": null,
            "height": null,
            "min_height": null,
            "padding": null,
            "grid_auto_rows": null,
            "grid_gap": null,
            "max_width": null,
            "order": null,
            "_view_module_version": "1.2.0",
            "grid_template_areas": null,
            "object_position": null,
            "object_fit": null,
            "grid_auto_columns": null,
            "margin": null,
            "display": null,
            "left": null
          }
        },
        "957955f0bac049bcabd89d84e9772f84": {
          "model_module": "@jupyter-widgets/controls",
          "model_name": "HBoxModel",
          "state": {
            "_view_name": "HBoxView",
            "_dom_classes": [],
            "_model_name": "HBoxModel",
            "_view_module": "@jupyter-widgets/controls",
            "_model_module_version": "1.5.0",
            "_view_count": null,
            "_view_module_version": "1.5.0",
            "box_style": "",
            "layout": "IPY_MODEL_c895d1bd41fd4550af42a641cfe40900",
            "_model_module": "@jupyter-widgets/controls",
            "children": [
              "IPY_MODEL_89dc09d7a4e548acaedcc1da31892565",
              "IPY_MODEL_d38dde7746b244a08879d9b60cf21781"
            ]
          }
        },
        "c895d1bd41fd4550af42a641cfe40900": {
          "model_module": "@jupyter-widgets/base",
          "model_name": "LayoutModel",
          "state": {
            "_view_name": "LayoutView",
            "grid_template_rows": null,
            "right": null,
            "justify_content": null,
            "_view_module": "@jupyter-widgets/base",
            "overflow": null,
            "_model_module_version": "1.2.0",
            "_view_count": null,
            "flex_flow": null,
            "width": null,
            "min_width": null,
            "border": null,
            "align_items": null,
            "bottom": null,
            "_model_module": "@jupyter-widgets/base",
            "top": null,
            "grid_column": null,
            "overflow_y": null,
            "overflow_x": null,
            "grid_auto_flow": null,
            "grid_area": null,
            "grid_template_columns": null,
            "flex": null,
            "_model_name": "LayoutModel",
            "justify_items": null,
            "grid_row": null,
            "max_height": null,
            "align_content": null,
            "visibility": null,
            "align_self": null,
            "height": null,
            "min_height": null,
            "padding": null,
            "grid_auto_rows": null,
            "grid_gap": null,
            "max_width": null,
            "order": null,
            "_view_module_version": "1.2.0",
            "grid_template_areas": null,
            "object_position": null,
            "object_fit": null,
            "grid_auto_columns": null,
            "margin": null,
            "display": null,
            "left": null
          }
        },
        "89dc09d7a4e548acaedcc1da31892565": {
          "model_module": "@jupyter-widgets/controls",
          "model_name": "FloatProgressModel",
          "state": {
            "_view_name": "ProgressView",
            "style": "IPY_MODEL_ed7354cafcef491298c88ab29ceacdab",
            "_dom_classes": [],
            "description": " 99%",
            "_model_name": "FloatProgressModel",
            "bar_style": "danger",
            "max": 85981,
            "_view_module": "@jupyter-widgets/controls",
            "_model_module_version": "1.5.0",
            "value": 85407,
            "_view_count": null,
            "_view_module_version": "1.5.0",
            "orientation": "horizontal",
            "min": 0,
            "description_tooltip": null,
            "_model_module": "@jupyter-widgets/controls",
            "layout": "IPY_MODEL_d5477b6d2f0c495885adc4e273a8c995"
          }
        },
        "d38dde7746b244a08879d9b60cf21781": {
          "model_module": "@jupyter-widgets/controls",
          "model_name": "HTMLModel",
          "state": {
            "_view_name": "HTMLView",
            "style": "IPY_MODEL_1a2ee11bcbc94a7d9201a4fd04d3bd52",
            "_dom_classes": [],
            "description": "",
            "_model_name": "HTMLModel",
            "placeholder": "​",
            "_view_module": "@jupyter-widgets/controls",
            "_model_module_version": "1.5.0",
            "value": " 85407/85981 [00:08&lt;00:30, 18.99 examples/s]",
            "_view_count": null,
            "_view_module_version": "1.5.0",
            "description_tooltip": null,
            "_model_module": "@jupyter-widgets/controls",
            "layout": "IPY_MODEL_9599b33507de492a823363847ca2db83"
          }
        },
        "ed7354cafcef491298c88ab29ceacdab": {
          "model_module": "@jupyter-widgets/controls",
          "model_name": "ProgressStyleModel",
          "state": {
            "_view_name": "StyleView",
            "_model_name": "ProgressStyleModel",
            "description_width": "initial",
            "_view_module": "@jupyter-widgets/base",
            "_model_module_version": "1.5.0",
            "_view_count": null,
            "_view_module_version": "1.2.0",
            "bar_color": null,
            "_model_module": "@jupyter-widgets/controls"
          }
        },
        "d5477b6d2f0c495885adc4e273a8c995": {
          "model_module": "@jupyter-widgets/base",
          "model_name": "LayoutModel",
          "state": {
            "_view_name": "LayoutView",
            "grid_template_rows": null,
            "right": null,
            "justify_content": null,
            "_view_module": "@jupyter-widgets/base",
            "overflow": null,
            "_model_module_version": "1.2.0",
            "_view_count": null,
            "flex_flow": null,
            "width": null,
            "min_width": null,
            "border": null,
            "align_items": null,
            "bottom": null,
            "_model_module": "@jupyter-widgets/base",
            "top": null,
            "grid_column": null,
            "overflow_y": null,
            "overflow_x": null,
            "grid_auto_flow": null,
            "grid_area": null,
            "grid_template_columns": null,
            "flex": null,
            "_model_name": "LayoutModel",
            "justify_items": null,
            "grid_row": null,
            "max_height": null,
            "align_content": null,
            "visibility": null,
            "align_self": null,
            "height": null,
            "min_height": null,
            "padding": null,
            "grid_auto_rows": null,
            "grid_gap": null,
            "max_width": null,
            "order": null,
            "_view_module_version": "1.2.0",
            "grid_template_areas": null,
            "object_position": null,
            "object_fit": null,
            "grid_auto_columns": null,
            "margin": null,
            "display": null,
            "left": null
          }
        },
        "1a2ee11bcbc94a7d9201a4fd04d3bd52": {
          "model_module": "@jupyter-widgets/controls",
          "model_name": "DescriptionStyleModel",
          "state": {
            "_view_name": "StyleView",
            "_model_name": "DescriptionStyleModel",
            "description_width": "",
            "_view_module": "@jupyter-widgets/base",
            "_model_module_version": "1.5.0",
            "_view_count": null,
            "_view_module_version": "1.2.0",
            "_model_module": "@jupyter-widgets/controls"
          }
        },
        "9599b33507de492a823363847ca2db83": {
          "model_module": "@jupyter-widgets/base",
          "model_name": "LayoutModel",
          "state": {
            "_view_name": "LayoutView",
            "grid_template_rows": null,
            "right": null,
            "justify_content": null,
            "_view_module": "@jupyter-widgets/base",
            "overflow": null,
            "_model_module_version": "1.2.0",
            "_view_count": null,
            "flex_flow": null,
            "width": null,
            "min_width": null,
            "border": null,
            "align_items": null,
            "bottom": null,
            "_model_module": "@jupyter-widgets/base",
            "top": null,
            "grid_column": null,
            "overflow_y": null,
            "overflow_x": null,
            "grid_auto_flow": null,
            "grid_area": null,
            "grid_template_columns": null,
            "flex": null,
            "_model_name": "LayoutModel",
            "justify_items": null,
            "grid_row": null,
            "max_height": null,
            "align_content": null,
            "visibility": null,
            "align_self": null,
            "height": null,
            "min_height": null,
            "padding": null,
            "grid_auto_rows": null,
            "grid_gap": null,
            "max_width": null,
            "order": null,
            "_view_module_version": "1.2.0",
            "grid_template_areas": null,
            "object_position": null,
            "object_fit": null,
            "grid_auto_columns": null,
            "margin": null,
            "display": null,
            "left": null
          }
        },
        "60e92162684a4eb0b23dc60e911014d7": {
          "model_module": "@jupyter-widgets/controls",
          "model_name": "HBoxModel",
          "state": {
            "_view_name": "HBoxView",
            "_dom_classes": [],
            "_model_name": "HBoxModel",
            "_view_module": "@jupyter-widgets/controls",
            "_model_module_version": "1.5.0",
            "_view_count": null,
            "_view_module_version": "1.5.0",
            "box_style": "",
            "layout": "IPY_MODEL_b23b68dfc43648e1bb69753aaca5d434",
            "_model_module": "@jupyter-widgets/controls",
            "children": [
              "IPY_MODEL_d9e1f3fe490340a5959719476cd2c7c4",
              "IPY_MODEL_8ad902affd224a28a1027093ffad4532"
            ]
          }
        },
        "b23b68dfc43648e1bb69753aaca5d434": {
          "model_module": "@jupyter-widgets/base",
          "model_name": "LayoutModel",
          "state": {
            "_view_name": "LayoutView",
            "grid_template_rows": null,
            "right": null,
            "justify_content": null,
            "_view_module": "@jupyter-widgets/base",
            "overflow": null,
            "_model_module_version": "1.2.0",
            "_view_count": null,
            "flex_flow": null,
            "width": null,
            "min_width": null,
            "border": null,
            "align_items": null,
            "bottom": null,
            "_model_module": "@jupyter-widgets/base",
            "top": null,
            "grid_column": null,
            "overflow_y": null,
            "overflow_x": null,
            "grid_auto_flow": null,
            "grid_area": null,
            "grid_template_columns": null,
            "flex": null,
            "_model_name": "LayoutModel",
            "justify_items": null,
            "grid_row": null,
            "max_height": null,
            "align_content": null,
            "visibility": null,
            "align_self": null,
            "height": null,
            "min_height": null,
            "padding": null,
            "grid_auto_rows": null,
            "grid_gap": null,
            "max_width": null,
            "order": null,
            "_view_module_version": "1.2.0",
            "grid_template_areas": null,
            "object_position": null,
            "object_fit": null,
            "grid_auto_columns": null,
            "margin": null,
            "display": null,
            "left": null
          }
        },
        "d9e1f3fe490340a5959719476cd2c7c4": {
          "model_module": "@jupyter-widgets/controls",
          "model_name": "FloatProgressModel",
          "state": {
            "_view_name": "ProgressView",
            "style": "IPY_MODEL_2588b56a21d24e1aa4990e495a609235",
            "_dom_classes": [],
            "description": "Computing statistics...: 100%",
            "_model_name": "FloatProgressModel",
            "bar_style": "success",
            "max": 1,
            "_view_module": "@jupyter-widgets/controls",
            "_model_module_version": "1.5.0",
            "value": 1,
            "_view_count": null,
            "_view_module_version": "1.5.0",
            "orientation": "horizontal",
            "min": 0,
            "description_tooltip": null,
            "_model_module": "@jupyter-widgets/controls",
            "layout": "IPY_MODEL_b5e8df4d9dbf4b7b8dac98c65ffa7a5c"
          }
        },
        "8ad902affd224a28a1027093ffad4532": {
          "model_module": "@jupyter-widgets/controls",
          "model_name": "HTMLModel",
          "state": {
            "_view_name": "HTMLView",
            "style": "IPY_MODEL_eac1f3dfd54b47b8915bfd001bf27a96",
            "_dom_classes": [],
            "description": "",
            "_model_name": "HTMLModel",
            "placeholder": "​",
            "_view_module": "@jupyter-widgets/controls",
            "_model_module_version": "1.5.0",
            "value": " 1/1 [00:53&lt;00:00, 54.00s/ split]",
            "_view_count": null,
            "_view_module_version": "1.5.0",
            "description_tooltip": null,
            "_model_module": "@jupyter-widgets/controls",
            "layout": "IPY_MODEL_d169e10edf224a44bc9c764df4d1bec8"
          }
        },
        "2588b56a21d24e1aa4990e495a609235": {
          "model_module": "@jupyter-widgets/controls",
          "model_name": "ProgressStyleModel",
          "state": {
            "_view_name": "StyleView",
            "_model_name": "ProgressStyleModel",
            "description_width": "initial",
            "_view_module": "@jupyter-widgets/base",
            "_model_module_version": "1.5.0",
            "_view_count": null,
            "_view_module_version": "1.2.0",
            "bar_color": null,
            "_model_module": "@jupyter-widgets/controls"
          }
        },
        "b5e8df4d9dbf4b7b8dac98c65ffa7a5c": {
          "model_module": "@jupyter-widgets/base",
          "model_name": "LayoutModel",
          "state": {
            "_view_name": "LayoutView",
            "grid_template_rows": null,
            "right": null,
            "justify_content": null,
            "_view_module": "@jupyter-widgets/base",
            "overflow": null,
            "_model_module_version": "1.2.0",
            "_view_count": null,
            "flex_flow": null,
            "width": null,
            "min_width": null,
            "border": null,
            "align_items": null,
            "bottom": null,
            "_model_module": "@jupyter-widgets/base",
            "top": null,
            "grid_column": null,
            "overflow_y": null,
            "overflow_x": null,
            "grid_auto_flow": null,
            "grid_area": null,
            "grid_template_columns": null,
            "flex": null,
            "_model_name": "LayoutModel",
            "justify_items": null,
            "grid_row": null,
            "max_height": null,
            "align_content": null,
            "visibility": null,
            "align_self": null,
            "height": null,
            "min_height": null,
            "padding": null,
            "grid_auto_rows": null,
            "grid_gap": null,
            "max_width": null,
            "order": null,
            "_view_module_version": "1.2.0",
            "grid_template_areas": null,
            "object_position": null,
            "object_fit": null,
            "grid_auto_columns": null,
            "margin": null,
            "display": null,
            "left": null
          }
        },
        "eac1f3dfd54b47b8915bfd001bf27a96": {
          "model_module": "@jupyter-widgets/controls",
          "model_name": "DescriptionStyleModel",
          "state": {
            "_view_name": "StyleView",
            "_model_name": "DescriptionStyleModel",
            "description_width": "",
            "_view_module": "@jupyter-widgets/base",
            "_model_module_version": "1.5.0",
            "_view_count": null,
            "_view_module_version": "1.2.0",
            "_model_module": "@jupyter-widgets/controls"
          }
        },
        "d169e10edf224a44bc9c764df4d1bec8": {
          "model_module": "@jupyter-widgets/base",
          "model_name": "LayoutModel",
          "state": {
            "_view_name": "LayoutView",
            "grid_template_rows": null,
            "right": null,
            "justify_content": null,
            "_view_module": "@jupyter-widgets/base",
            "overflow": null,
            "_model_module_version": "1.2.0",
            "_view_count": null,
            "flex_flow": null,
            "width": null,
            "min_width": null,
            "border": null,
            "align_items": null,
            "bottom": null,
            "_model_module": "@jupyter-widgets/base",
            "top": null,
            "grid_column": null,
            "overflow_y": null,
            "overflow_x": null,
            "grid_auto_flow": null,
            "grid_area": null,
            "grid_template_columns": null,
            "flex": null,
            "_model_name": "LayoutModel",
            "justify_items": null,
            "grid_row": null,
            "max_height": null,
            "align_content": null,
            "visibility": null,
            "align_self": null,
            "height": null,
            "min_height": null,
            "padding": null,
            "grid_auto_rows": null,
            "grid_gap": null,
            "max_width": null,
            "order": null,
            "_view_module_version": "1.2.0",
            "grid_template_areas": null,
            "object_position": null,
            "object_fit": null,
            "grid_auto_columns": null,
            "margin": null,
            "display": null,
            "left": null
          }
        },
        "eff13bbc513b4fba95cf37c6a646f992": {
          "model_module": "@jupyter-widgets/controls",
          "model_name": "HBoxModel",
          "state": {
            "_view_name": "HBoxView",
            "_dom_classes": [],
            "_model_name": "HBoxModel",
            "_view_module": "@jupyter-widgets/controls",
            "_model_module_version": "1.5.0",
            "_view_count": null,
            "_view_module_version": "1.5.0",
            "box_style": "",
            "layout": "IPY_MODEL_3e529b3e40c64a7997583f1c406fb129",
            "_model_module": "@jupyter-widgets/controls",
            "children": [
              "IPY_MODEL_8e5a876569d54a6d938f50eb0527b7e5",
              "IPY_MODEL_ee1e610a1cc94b0aa1910cd071b7d170"
            ]
          }
        },
        "3e529b3e40c64a7997583f1c406fb129": {
          "model_module": "@jupyter-widgets/base",
          "model_name": "LayoutModel",
          "state": {
            "_view_name": "LayoutView",
            "grid_template_rows": null,
            "right": null,
            "justify_content": null,
            "_view_module": "@jupyter-widgets/base",
            "overflow": null,
            "_model_module_version": "1.2.0",
            "_view_count": null,
            "flex_flow": null,
            "width": null,
            "min_width": null,
            "border": null,
            "align_items": null,
            "bottom": null,
            "_model_module": "@jupyter-widgets/base",
            "top": null,
            "grid_column": null,
            "overflow_y": null,
            "overflow_x": null,
            "grid_auto_flow": null,
            "grid_area": null,
            "grid_template_columns": null,
            "flex": null,
            "_model_name": "LayoutModel",
            "justify_items": null,
            "grid_row": null,
            "max_height": null,
            "align_content": null,
            "visibility": null,
            "align_self": null,
            "height": null,
            "min_height": null,
            "padding": null,
            "grid_auto_rows": null,
            "grid_gap": null,
            "max_width": null,
            "order": null,
            "_view_module_version": "1.2.0",
            "grid_template_areas": null,
            "object_position": null,
            "object_fit": null,
            "grid_auto_columns": null,
            "margin": null,
            "display": null,
            "left": null
          }
        },
        "8e5a876569d54a6d938f50eb0527b7e5": {
          "model_module": "@jupyter-widgets/controls",
          "model_name": "FloatProgressModel",
          "state": {
            "_view_name": "ProgressView",
            "style": "IPY_MODEL_98c3c3530ecc4bfabc4c8cd102ea26ee",
            "_dom_classes": [],
            "description": "",
            "_model_name": "FloatProgressModel",
            "bar_style": "info",
            "max": 1,
            "_view_module": "@jupyter-widgets/controls",
            "_model_module_version": "1.5.0",
            "value": 1,
            "_view_count": null,
            "_view_module_version": "1.5.0",
            "orientation": "horizontal",
            "min": 0,
            "description_tooltip": null,
            "_model_module": "@jupyter-widgets/controls",
            "layout": "IPY_MODEL_780563904eed4613aa254ae07fd5af75"
          }
        },
        "ee1e610a1cc94b0aa1910cd071b7d170": {
          "model_module": "@jupyter-widgets/controls",
          "model_name": "HTMLModel",
          "state": {
            "_view_name": "HTMLView",
            "style": "IPY_MODEL_d101254b7ae245f89ebea3ca07a02889",
            "_dom_classes": [],
            "description": "",
            "_model_name": "HTMLModel",
            "placeholder": "​",
            "_view_module": "@jupyter-widgets/controls",
            "_model_module_version": "1.5.0",
            "value": " 85981/? [00:39&lt;00:00, 2178.25 examples/s]",
            "_view_count": null,
            "_view_module_version": "1.5.0",
            "description_tooltip": null,
            "_model_module": "@jupyter-widgets/controls",
            "layout": "IPY_MODEL_3e7b6620aa874f3086072a09406d3074"
          }
        },
        "98c3c3530ecc4bfabc4c8cd102ea26ee": {
          "model_module": "@jupyter-widgets/controls",
          "model_name": "ProgressStyleModel",
          "state": {
            "_view_name": "StyleView",
            "_model_name": "ProgressStyleModel",
            "description_width": "initial",
            "_view_module": "@jupyter-widgets/base",
            "_model_module_version": "1.5.0",
            "_view_count": null,
            "_view_module_version": "1.2.0",
            "bar_color": null,
            "_model_module": "@jupyter-widgets/controls"
          }
        },
        "780563904eed4613aa254ae07fd5af75": {
          "model_module": "@jupyter-widgets/base",
          "model_name": "LayoutModel",
          "state": {
            "_view_name": "LayoutView",
            "grid_template_rows": null,
            "right": null,
            "justify_content": null,
            "_view_module": "@jupyter-widgets/base",
            "overflow": null,
            "_model_module_version": "1.2.0",
            "_view_count": null,
            "flex_flow": null,
            "width": null,
            "min_width": null,
            "border": null,
            "align_items": null,
            "bottom": null,
            "_model_module": "@jupyter-widgets/base",
            "top": null,
            "grid_column": null,
            "overflow_y": null,
            "overflow_x": null,
            "grid_auto_flow": null,
            "grid_area": null,
            "grid_template_columns": null,
            "flex": null,
            "_model_name": "LayoutModel",
            "justify_items": null,
            "grid_row": null,
            "max_height": null,
            "align_content": null,
            "visibility": null,
            "align_self": null,
            "height": null,
            "min_height": null,
            "padding": null,
            "grid_auto_rows": null,
            "grid_gap": null,
            "max_width": null,
            "order": null,
            "_view_module_version": "1.2.0",
            "grid_template_areas": null,
            "object_position": null,
            "object_fit": null,
            "grid_auto_columns": null,
            "margin": null,
            "display": null,
            "left": null
          }
        },
        "d101254b7ae245f89ebea3ca07a02889": {
          "model_module": "@jupyter-widgets/controls",
          "model_name": "DescriptionStyleModel",
          "state": {
            "_view_name": "StyleView",
            "_model_name": "DescriptionStyleModel",
            "description_width": "",
            "_view_module": "@jupyter-widgets/base",
            "_model_module_version": "1.5.0",
            "_view_count": null,
            "_view_module_version": "1.2.0",
            "_model_module": "@jupyter-widgets/controls"
          }
        },
        "3e7b6620aa874f3086072a09406d3074": {
          "model_module": "@jupyter-widgets/base",
          "model_name": "LayoutModel",
          "state": {
            "_view_name": "LayoutView",
            "grid_template_rows": null,
            "right": null,
            "justify_content": null,
            "_view_module": "@jupyter-widgets/base",
            "overflow": null,
            "_model_module_version": "1.2.0",
            "_view_count": null,
            "flex_flow": null,
            "width": null,
            "min_width": null,
            "border": null,
            "align_items": null,
            "bottom": null,
            "_model_module": "@jupyter-widgets/base",
            "top": null,
            "grid_column": null,
            "overflow_y": null,
            "overflow_x": null,
            "grid_auto_flow": null,
            "grid_area": null,
            "grid_template_columns": null,
            "flex": null,
            "_model_name": "LayoutModel",
            "justify_items": null,
            "grid_row": null,
            "max_height": null,
            "align_content": null,
            "visibility": null,
            "align_self": null,
            "height": null,
            "min_height": null,
            "padding": null,
            "grid_auto_rows": null,
            "grid_gap": null,
            "max_width": null,
            "order": null,
            "_view_module_version": "1.2.0",
            "grid_template_areas": null,
            "object_position": null,
            "object_fit": null,
            "grid_auto_columns": null,
            "margin": null,
            "display": null,
            "left": null
          }
        }
      }
    }
  },
  "cells": [
    {
      "cell_type": "markdown",
      "metadata": {
        "id": "view-in-github",
        "colab_type": "text"
      },
      "source": [
        "<a href=\"https://colab.research.google.com/github/kappakpr/DeepLearning/blob/master/senti2_GBM_H2O.ipynb\" target=\"_parent\"><img src=\"https://colab.research.google.com/assets/colab-badge.svg\" alt=\"Open In Colab\"/></a>"
      ]
    },
    {
      "cell_type": "code",
      "metadata": {
        "id": "8qnNWWAGRDq0",
        "colab_type": "code",
        "colab": {
          "base_uri": "https://localhost:8080/",
          "height": 235
        },
        "outputId": "a1d6d541-2aa4-445e-f8a3-d63df191898c"
      },
      "source": [
        "!apt-get install default-jre\n",
        "!java -version"
      ],
      "execution_count": null,
      "outputs": [
        {
          "output_type": "stream",
          "text": [
            "\rReading package lists... 0%\r\rReading package lists... 0%\r\rReading package lists... 0%\r\rReading package lists... 6%\r\rReading package lists... 6%\r\rReading package lists... 6%\r\rReading package lists... 6%\r\rReading package lists... 61%\r\rReading package lists... 61%\r\rReading package lists... 62%\r\rReading package lists... 62%\r\rReading package lists... 70%\r\rReading package lists... 70%\r\rReading package lists... 71%\r\rReading package lists... 71%\r\rReading package lists... 79%\r\rReading package lists... 80%\r\rReading package lists... 80%\r\rReading package lists... 80%\r\rReading package lists... 80%\r\rReading package lists... 80%\r\rReading package lists... 80%\r\rReading package lists... 80%\r\rReading package lists... 80%\r\rReading package lists... 86%\r\rReading package lists... 86%\r\rReading package lists... 87%\r\rReading package lists... 87%\r\rReading package lists... 93%\r\rReading package lists... 93%\r\rReading package lists... 93%\r\rReading package lists... 93%\r\rReading package lists... 93%\r\rReading package lists... 93%\r\rReading package lists... 94%\r\rReading package lists... 94%\r\rReading package lists... 95%\r\rReading package lists... 95%\r\rReading package lists... 98%\r\rReading package lists... 98%\r\rReading package lists... 98%\r\rReading package lists... 98%\r\rReading package lists... Done\r\n",
            "\rBuilding dependency tree... 0%\r\rBuilding dependency tree... 0%\r\rBuilding dependency tree... 50%\r\rBuilding dependency tree... 50%\r\rBuilding dependency tree       \r\n",
            "\rReading state information... 0%\r\rReading state information... 0%\r\rReading state information... Done\r\n",
            "default-jre is already the newest version (2:1.11-68ubuntu1~18.04.1).\n",
            "default-jre set to manually installed.\n",
            "The following package was automatically installed and is no longer required:\n",
            "  libnvidia-common-440\n",
            "Use 'apt autoremove' to remove it.\n",
            "0 upgraded, 0 newly installed, 0 to remove and 35 not upgraded.\n",
            "openjdk version \"11.0.7\" 2020-04-14\n",
            "OpenJDK Runtime Environment (build 11.0.7+10-post-Ubuntu-2ubuntu218.04)\n",
            "OpenJDK 64-Bit Server VM (build 11.0.7+10-post-Ubuntu-2ubuntu218.04, mixed mode, sharing)\n"
          ],
          "name": "stdout"
        }
      ]
    },
    {
      "cell_type": "code",
      "metadata": {
        "id": "klfN28y0RgFo",
        "colab_type": "code",
        "colab": {
          "base_uri": "https://localhost:8080/",
          "height": 362
        },
        "outputId": "6b804f39-a6b8-4115-8dcf-86943e34ca56"
      },
      "source": [
        "!pip install h2o==3.30.0.1\n",
        "#can also install without specifying the version, pip will install the latest version available"
      ],
      "execution_count": null,
      "outputs": [
        {
          "output_type": "stream",
          "text": [
            "Collecting h2o==3.30.0.1\n",
            "\u001b[?25l  Downloading https://files.pythonhosted.org/packages/96/b2/b6f5e8c7fd1efe0f6d2640b34164b10b0e28231b89cc06542a6b3a3903a0/h2o-3.30.0.1.tar.gz (129.5MB)\n",
            "\u001b[K     |████████████████████████████████| 129.5MB 102kB/s \n",
            "\u001b[?25hRequirement already satisfied: requests in /usr/local/lib/python3.6/dist-packages (from h2o==3.30.0.1) (2.23.0)\n",
            "Requirement already satisfied: tabulate in /usr/local/lib/python3.6/dist-packages (from h2o==3.30.0.1) (0.8.7)\n",
            "Requirement already satisfied: future in /usr/local/lib/python3.6/dist-packages (from h2o==3.30.0.1) (0.16.0)\n",
            "Collecting colorama>=0.3.8\n",
            "  Downloading https://files.pythonhosted.org/packages/c9/dc/45cdef1b4d119eb96316b3117e6d5708a08029992b2fee2c143c7a0a5cc5/colorama-0.4.3-py2.py3-none-any.whl\n",
            "Requirement already satisfied: idna<3,>=2.5 in /usr/local/lib/python3.6/dist-packages (from requests->h2o==3.30.0.1) (2.10)\n",
            "Requirement already satisfied: chardet<4,>=3.0.2 in /usr/local/lib/python3.6/dist-packages (from requests->h2o==3.30.0.1) (3.0.4)\n",
            "Requirement already satisfied: urllib3!=1.25.0,!=1.25.1,<1.26,>=1.21.1 in /usr/local/lib/python3.6/dist-packages (from requests->h2o==3.30.0.1) (1.24.3)\n",
            "Requirement already satisfied: certifi>=2017.4.17 in /usr/local/lib/python3.6/dist-packages (from requests->h2o==3.30.0.1) (2020.6.20)\n",
            "Building wheels for collected packages: h2o\n",
            "  Building wheel for h2o (setup.py) ... \u001b[?25l\u001b[?25hdone\n",
            "  Created wheel for h2o: filename=h2o-3.30.0.1-py2.py3-none-any.whl size=129557718 sha256=e4acb80c46372a1ed727707a700da25d42c1fba6947c36643a48d9b2134d7538\n",
            "  Stored in directory: /root/.cache/pip/wheels/db/42/63/d118d7218432054da842f5d10bd4f99e978bde0931164e6c7a\n",
            "Successfully built h2o\n",
            "Installing collected packages: colorama, h2o\n",
            "Successfully installed colorama-0.4.3 h2o-3.30.0.1\n"
          ],
          "name": "stdout"
        }
      ]
    },
    {
      "cell_type": "code",
      "metadata": {
        "id": "qCrE21uLRoyS",
        "colab_type": "code",
        "colab": {}
      },
      "source": [
        "import tensorflow_datasets as tfds\n",
        "import h2o\n",
        "import numpy as np"
      ],
      "execution_count": null,
      "outputs": []
    },
    {
      "cell_type": "code",
      "metadata": {
        "id": "BjcgXsxyR3cW",
        "colab_type": "code",
        "colab": {
          "base_uri": "https://localhost:8080/",
          "height": 563
        },
        "outputId": "0538dcda-493b-4673-c370-2044242f8243"
      },
      "source": [
        "h2o.init()\n",
        "#started the h2o cluster.\n",
        "#gpu cluster is nto required"
      ],
      "execution_count": null,
      "outputs": [
        {
          "output_type": "stream",
          "text": [
            "Checking whether there is an H2O instance running at http://localhost:54321 ..... not found.\n",
            "Attempting to start a local H2O server...\n",
            "  Java Version: openjdk version \"11.0.7\" 2020-04-14; OpenJDK Runtime Environment (build 11.0.7+10-post-Ubuntu-2ubuntu218.04); OpenJDK 64-Bit Server VM (build 11.0.7+10-post-Ubuntu-2ubuntu218.04, mixed mode, sharing)\n",
            "  Starting server from /usr/local/lib/python3.6/dist-packages/h2o/backend/bin/h2o.jar\n",
            "  Ice root: /tmp/tmppo4hxyf3\n",
            "  JVM stdout: /tmp/tmppo4hxyf3/h2o_unknownUser_started_from_python.out\n",
            "  JVM stderr: /tmp/tmppo4hxyf3/h2o_unknownUser_started_from_python.err\n",
            "  Server is running at http://127.0.0.1:54321\n",
            "Connecting to H2O server at http://127.0.0.1:54321 ... successful.\n",
            "Warning: Your H2O cluster version is too old (3 months and 20 days)! Please download and install the latest version from http://h2o.ai/download/\n"
          ],
          "name": "stdout"
        },
        {
          "output_type": "display_data",
          "data": {
            "text/html": [
              "<div style=\"overflow:auto\"><table style=\"width:50%\"><tr><td>H2O_cluster_uptime:</td>\n",
              "<td>02 secs</td></tr>\n",
              "<tr><td>H2O_cluster_timezone:</td>\n",
              "<td>Etc/UTC</td></tr>\n",
              "<tr><td>H2O_data_parsing_timezone:</td>\n",
              "<td>UTC</td></tr>\n",
              "<tr><td>H2O_cluster_version:</td>\n",
              "<td>3.30.0.1</td></tr>\n",
              "<tr><td>H2O_cluster_version_age:</td>\n",
              "<td>3 months and 20 days !!!</td></tr>\n",
              "<tr><td>H2O_cluster_name:</td>\n",
              "<td>H2O_from_python_unknownUser_pxkgdb</td></tr>\n",
              "<tr><td>H2O_cluster_total_nodes:</td>\n",
              "<td>1</td></tr>\n",
              "<tr><td>H2O_cluster_free_memory:</td>\n",
              "<td>3.180 Gb</td></tr>\n",
              "<tr><td>H2O_cluster_total_cores:</td>\n",
              "<td>2</td></tr>\n",
              "<tr><td>H2O_cluster_allowed_cores:</td>\n",
              "<td>2</td></tr>\n",
              "<tr><td>H2O_cluster_status:</td>\n",
              "<td>accepting new members, healthy</td></tr>\n",
              "<tr><td>H2O_connection_url:</td>\n",
              "<td>http://127.0.0.1:54321</td></tr>\n",
              "<tr><td>H2O_connection_proxy:</td>\n",
              "<td>{\"http\": null, \"https\": null}</td></tr>\n",
              "<tr><td>H2O_internal_security:</td>\n",
              "<td>False</td></tr>\n",
              "<tr><td>H2O_API_Extensions:</td>\n",
              "<td>Amazon S3, XGBoost, Algos, AutoML, Core V3, TargetEncoder, Core V4</td></tr>\n",
              "<tr><td>Python_version:</td>\n",
              "<td>3.6.9 final</td></tr></table></div>"
            ],
            "text/plain": [
              "--------------------------  ------------------------------------------------------------------\n",
              "H2O_cluster_uptime:         02 secs\n",
              "H2O_cluster_timezone:       Etc/UTC\n",
              "H2O_data_parsing_timezone:  UTC\n",
              "H2O_cluster_version:        3.30.0.1\n",
              "H2O_cluster_version_age:    3 months and 20 days !!!\n",
              "H2O_cluster_name:           H2O_from_python_unknownUser_pxkgdb\n",
              "H2O_cluster_total_nodes:    1\n",
              "H2O_cluster_free_memory:    3.180 Gb\n",
              "H2O_cluster_total_cores:    2\n",
              "H2O_cluster_allowed_cores:  2\n",
              "H2O_cluster_status:         accepting new members, healthy\n",
              "H2O_connection_url:         http://127.0.0.1:54321\n",
              "H2O_connection_proxy:       {\"http\": null, \"https\": null}\n",
              "H2O_internal_security:      False\n",
              "H2O_API_Extensions:         Amazon S3, XGBoost, Algos, AutoML, Core V3, TargetEncoder, Core V4\n",
              "Python_version:             3.6.9 final\n",
              "--------------------------  ------------------------------------------------------------------"
            ]
          },
          "metadata": {
            "tags": []
          }
        }
      ]
    },
    {
      "cell_type": "markdown",
      "metadata": {
        "id": "g9aFxlchSDCB",
        "colab_type": "text"
      },
      "source": [
        "h2o is more efficient than the scikitlearn \n",
        "\n",
        "https://www.quora.com/Why-would-one-use-H2O-ai-over-scikit-learn-machine-learning-tool\n",
        "https://www.quora.com/Why-would-one-use-H2O-ai-over-scikit-learn-machine-learning-tool"
      ]
    },
    {
      "cell_type": "code",
      "metadata": {
        "id": "B7AGtprKUTHy",
        "colab_type": "code",
        "colab": {
          "base_uri": "https://localhost:8080/",
          "height": 524,
          "referenced_widgets": [
            "2ed230c4f35844408b3df738c0e8f210",
            "976b7686390f473583080cdd65a3b024",
            "cc1c82b736fa47868250e4c309abaf7a",
            "f0a7ff7678034e98b39d011ff7450ea5",
            "5ab947f402384d0186ffefe6d94db04e",
            "e16c5e23b8354cf8880e456c159f4cc5",
            "97db91df561540b4bf431fa52f212406",
            "8a6b5564b90240bd9e6f0257e2a32d86",
            "85cacffb75bc4035a6edcd94df3fb0a2",
            "fce098c5bbba4abaadf4489c47a195c0",
            "27eb8bd848404e44b727d7ae30f99ecf",
            "c4e50cc489bc476e9eab4b5676400b19",
            "e135962a3e0547e5999c879c1cc67a88",
            "59af0e64cf7647c39ccf9407299ccf9d",
            "9e2b4ffb0c07445ab6b346d928852a9c",
            "902cd1fae6ce46aa99d6c7206baf2638",
            "04af9656fe39484e83ce897dcb1b733e",
            "05f37271660842dbab420ad860607279",
            "e82600551a1c4c229aa939e617957a75",
            "b37e564d81054ae5a4d9fbe3abacc495",
            "94ec19c640d04d749b5c3c7241f1e2a5",
            "2b25995372ad42368cb26740ee035d4b",
            "8e3fc119ab9e47bba6a690c935dfe8e5",
            "f57f13a85cbb4edc80faea6534180cc5",
            "0742683527a143daa6758e096def0f2d",
            "b1f418fa58394db8b86e10a39a4b8574",
            "d025031713074d7c96268645c093f1ef",
            "02d9e7a065424ec1a15fa282aecd7e67",
            "ff476997127343799dd52a1bb7aec3d5",
            "3c5a89f18a6f4eaabc8d564e39826f19",
            "d6f21e2a0d22465e94e2a5acd567213f",
            "42a42befea0640b79494f7698e15a44a",
            "957955f0bac049bcabd89d84e9772f84",
            "c895d1bd41fd4550af42a641cfe40900",
            "89dc09d7a4e548acaedcc1da31892565",
            "d38dde7746b244a08879d9b60cf21781",
            "ed7354cafcef491298c88ab29ceacdab",
            "d5477b6d2f0c495885adc4e273a8c995",
            "1a2ee11bcbc94a7d9201a4fd04d3bd52",
            "9599b33507de492a823363847ca2db83",
            "60e92162684a4eb0b23dc60e911014d7",
            "b23b68dfc43648e1bb69753aaca5d434",
            "d9e1f3fe490340a5959719476cd2c7c4",
            "8ad902affd224a28a1027093ffad4532",
            "2588b56a21d24e1aa4990e495a609235",
            "b5e8df4d9dbf4b7b8dac98c65ffa7a5c",
            "eac1f3dfd54b47b8915bfd001bf27a96",
            "d169e10edf224a44bc9c764df4d1bec8",
            "eff13bbc513b4fba95cf37c6a646f992",
            "3e529b3e40c64a7997583f1c406fb129",
            "8e5a876569d54a6d938f50eb0527b7e5",
            "ee1e610a1cc94b0aa1910cd071b7d170",
            "98c3c3530ecc4bfabc4c8cd102ea26ee",
            "780563904eed4613aa254ae07fd5af75",
            "d101254b7ae245f89ebea3ca07a02889",
            "3e7b6620aa874f3086072a09406d3074"
          ]
        },
        "outputId": "997437f1-a1fa-4fd6-c744-1c6d8cc3c13d"
      },
      "source": [
        "from google.colab import drive\n",
        "drive.mount('/content/gdrive')\n",
        "dataset, info = tfds.load('amazon_us_reviews/Personal_Care_Appliances_v1_00',with_info=True,batch_size=-1,data_dir='/content/drive/My Drive/colabfiles')\n",
        "train_dataset=dataset['train']"
      ],
      "execution_count": null,
      "outputs": [
        {
          "output_type": "stream",
          "text": [
            "Go to this URL in a browser: https://accounts.google.com/o/oauth2/auth?client_id=947318989803-6bn6qk8qdgf4n4g3pfee6491hc0brc4i.apps.googleusercontent.com&redirect_uri=urn%3aietf%3awg%3aoauth%3a2.0%3aoob&response_type=code&scope=email%20https%3a%2f%2fwww.googleapis.com%2fauth%2fdocs.test%20https%3a%2f%2fwww.googleapis.com%2fauth%2fdrive%20https%3a%2f%2fwww.googleapis.com%2fauth%2fdrive.photos.readonly%20https%3a%2f%2fwww.googleapis.com%2fauth%2fpeopleapi.readonly\n",
            "\n",
            "Enter your authorization code:\n",
            "··········\n",
            "Mounted at /content/gdrive\n",
            "Downloading and preparing dataset amazon_us_reviews/Personal_Care_Appliances_v1_00/0.1.0 (download: 16.82 MiB, generated: Unknown size, total: 16.82 MiB) to /content/drive/My Drive/colabfiles/amazon_us_reviews/Personal_Care_Appliances_v1_00/0.1.0...\n"
          ],
          "name": "stdout"
        },
        {
          "output_type": "display_data",
          "data": {
            "application/vnd.jupyter.widget-view+json": {
              "model_id": "2ed230c4f35844408b3df738c0e8f210",
              "version_minor": 0,
              "version_major": 2
            },
            "text/plain": [
              "HBox(children=(FloatProgress(value=1.0, bar_style='info', description='Dl Completed...', max=1.0, style=Progre…"
            ]
          },
          "metadata": {
            "tags": []
          }
        },
        {
          "output_type": "display_data",
          "data": {
            "application/vnd.jupyter.widget-view+json": {
              "model_id": "85cacffb75bc4035a6edcd94df3fb0a2",
              "version_minor": 0,
              "version_major": 2
            },
            "text/plain": [
              "HBox(children=(FloatProgress(value=1.0, bar_style='info', description='Dl Size...', max=1.0, style=ProgressSty…"
            ]
          },
          "metadata": {
            "tags": []
          }
        },
        {
          "output_type": "display_data",
          "data": {
            "application/vnd.jupyter.widget-view+json": {
              "model_id": "04af9656fe39484e83ce897dcb1b733e",
              "version_minor": 0,
              "version_major": 2
            },
            "text/plain": [
              "HBox(children=(FloatProgress(value=1.0, bar_style='info', description='Extraction completed...', max=1.0, styl…"
            ]
          },
          "metadata": {
            "tags": []
          }
        },
        {
          "output_type": "stream",
          "text": [
            "/usr/local/lib/python3.6/dist-packages/urllib3/connectionpool.py:847: InsecureRequestWarning: Unverified HTTPS request is being made. Adding certificate verification is strongly advised. See: https://urllib3.readthedocs.io/en/latest/advanced-usage.html#ssl-warnings\n",
            "  InsecureRequestWarning)\n"
          ],
          "name": "stderr"
        },
        {
          "output_type": "stream",
          "text": [
            "\n",
            "\n",
            "\n",
            "\n",
            "\n",
            "\n"
          ],
          "name": "stdout"
        },
        {
          "output_type": "display_data",
          "data": {
            "application/vnd.jupyter.widget-view+json": {
              "model_id": "0742683527a143daa6758e096def0f2d",
              "version_minor": 0,
              "version_major": 2
            },
            "text/plain": [
              "HBox(children=(FloatProgress(value=1.0, bar_style='info', max=1.0), HTML(value='')))"
            ]
          },
          "metadata": {
            "tags": []
          }
        },
        {
          "output_type": "stream",
          "text": [
            "\rShuffling and writing examples to /content/drive/My Drive/colabfiles/amazon_us_reviews/Personal_Care_Appliances_v1_00/0.1.0.incompleteL7U3MX/amazon_us_reviews-train.tfrecord\n"
          ],
          "name": "stdout"
        },
        {
          "output_type": "display_data",
          "data": {
            "application/vnd.jupyter.widget-view+json": {
              "model_id": "957955f0bac049bcabd89d84e9772f84",
              "version_minor": 0,
              "version_major": 2
            },
            "text/plain": [
              "HBox(children=(FloatProgress(value=0.0, max=85981.0), HTML(value='')))"
            ]
          },
          "metadata": {
            "tags": []
          }
        },
        {
          "output_type": "display_data",
          "data": {
            "application/vnd.jupyter.widget-view+json": {
              "model_id": "60e92162684a4eb0b23dc60e911014d7",
              "version_minor": 0,
              "version_major": 2
            },
            "text/plain": [
              "HBox(children=(FloatProgress(value=0.0, description='Computing statistics...', max=1.0, style=ProgressStyle(de…"
            ]
          },
          "metadata": {
            "tags": []
          }
        },
        {
          "output_type": "stream",
          "text": [
            "\r"
          ],
          "name": "stdout"
        },
        {
          "output_type": "display_data",
          "data": {
            "application/vnd.jupyter.widget-view+json": {
              "model_id": "eff13bbc513b4fba95cf37c6a646f992",
              "version_minor": 0,
              "version_major": 2
            },
            "text/plain": [
              "HBox(children=(FloatProgress(value=1.0, bar_style='info', max=1.0), HTML(value='')))"
            ]
          },
          "metadata": {
            "tags": []
          }
        },
        {
          "output_type": "stream",
          "text": [
            "\r"
          ],
          "name": "stdout"
        },
        {
          "output_type": "stream",
          "text": [
            "ERROR:absl:Statistics generation doesn't work for nested structures yet\n"
          ],
          "name": "stderr"
        },
        {
          "output_type": "stream",
          "text": [
            "\n",
            "Dataset amazon_us_reviews downloaded and prepared to /content/drive/My Drive/colabfiles/amazon_us_reviews/Personal_Care_Appliances_v1_00/0.1.0. Subsequent calls will reuse this data.\n"
          ],
          "name": "stdout"
        }
      ]
    },
    {
      "cell_type": "code",
      "metadata": {
        "id": "6CCtpedGVD4o",
        "colab_type": "code",
        "colab": {
          "base_uri": "https://localhost:8080/",
          "height": 1000
        },
        "outputId": "7a88e3b8-7afa-48b5-d974-98ab0811d7b2"
      },
      "source": [
        "info"
      ],
      "execution_count": null,
      "outputs": [
        {
          "output_type": "execute_result",
          "data": {
            "text/plain": [
              "tfds.core.DatasetInfo(\n",
              "    name='amazon_us_reviews',\n",
              "    version=0.1.0,\n",
              "    description='Amazon Customer Reviews (a.k.a. Product Reviews) is one of Amazons iconic products. In a period of over two decades since the first review in 1995, millions of Amazon customers have contributed over a hundred million reviews to express opinions and describe their experiences regarding products on the Amazon.com website. This makes Amazon Customer Reviews a rich source of information for academic researchers in the fields of Natural Language Processing (NLP), Information Retrieval (IR), and Machine Learning (ML), amongst others. Accordingly, we are releasing this data to further research in multiple disciplines related to understanding customer product experiences. Specifically, this dataset was constructed to represent a sample of customer evaluations and opinions, variation in the perception of a product across geographical regions, and promotional intent or bias in reviews.\n",
              "\n",
              "Over 130+ million customer reviews are available to researchers as part of this release. The data is available in TSV files in the amazon-reviews-pds S3 bucket in AWS US East Region. Each line in the data files corresponds to an individual review (tab delimited, with no quote and escape characters).\n",
              "\n",
              "Each Dataset contains the following columns : \n",
              "  marketplace       - 2 letter country code of the marketplace where the review was written.\n",
              "  customer_id       - Random identifier that can be used to aggregate reviews written by a single author.\n",
              "  review_id         - The unique ID of the review.\n",
              "  product_id        - The unique Product ID the review pertains to. In the multilingual dataset the reviews\n",
              "                      for the same product in different countries can be grouped by the same product_id.\n",
              "  product_parent    - Random identifier that can be used to aggregate reviews for the same product.\n",
              "  product_title     - Title of the product.\n",
              "  product_category  - Broad product category that can be used to group reviews \n",
              "                      (also used to group the dataset into coherent parts).\n",
              "  star_rating       - The 1-5 star rating of the review.\n",
              "  helpful_votes     - Number of helpful votes.\n",
              "  total_votes       - Number of total votes the review received.\n",
              "  vine              - Review was written as part of the Vine program.\n",
              "  verified_purchase - The review is on a verified purchase.\n",
              "  review_headline   - The title of the review.\n",
              "  review_body       - The review text.\n",
              "  review_date       - The date the review was written.\n",
              "',\n",
              "    homepage='https://s3.amazonaws.com/amazon-reviews-pds/readme.html',\n",
              "    features=FeaturesDict({\n",
              "        'data': FeaturesDict({\n",
              "            'customer_id': tf.string,\n",
              "            'helpful_votes': tf.int32,\n",
              "            'marketplace': tf.string,\n",
              "            'product_category': tf.string,\n",
              "            'product_id': tf.string,\n",
              "            'product_parent': tf.string,\n",
              "            'product_title': tf.string,\n",
              "            'review_body': tf.string,\n",
              "            'review_date': tf.string,\n",
              "            'review_headline': tf.string,\n",
              "            'review_id': tf.string,\n",
              "            'star_rating': tf.int32,\n",
              "            'total_votes': tf.int32,\n",
              "            'verified_purchase': ClassLabel(shape=(), dtype=tf.int64, num_classes=2),\n",
              "            'vine': ClassLabel(shape=(), dtype=tf.int64, num_classes=2),\n",
              "        }),\n",
              "    }),\n",
              "    total_num_examples=85981,\n",
              "    splits={\n",
              "        'train': 85981,\n",
              "    },\n",
              "    supervised_keys=None,\n",
              "    citation=\"\"\"\"\"\",\n",
              "    redistribution_info=,\n",
              ")"
            ]
          },
          "metadata": {
            "tags": []
          },
          "execution_count": 6
        }
      ]
    },
    {
      "cell_type": "code",
      "metadata": {
        "id": "h7GD2WT7VFH8",
        "colab_type": "code",
        "colab": {}
      },
      "source": [
        "dataset=tfds.as_numpy(train_dataset)"
      ],
      "execution_count": null,
      "outputs": []
    },
    {
      "cell_type": "code",
      "metadata": {
        "id": "aBDCGsxCVK2H",
        "colab_type": "code",
        "colab": {
          "base_uri": "https://localhost:8080/",
          "height": 782
        },
        "outputId": "e114448b-6194-4759-985f-9ef4d89399b4"
      },
      "source": [
        "dataset"
      ],
      "execution_count": null,
      "outputs": [
        {
          "output_type": "execute_result",
          "data": {
            "text/plain": [
              "{'data': {'customer_id': array([b'13986323', b'50574716', b'50593972', ..., b'40719682',\n",
              "         b'35596948', b'29430209'], dtype=object),\n",
              "  'helpful_votes': array([0, 3, 0, ..., 0, 0, 0], dtype=int32),\n",
              "  'marketplace': array([b'US', b'US', b'US', ..., b'US', b'US', b'US'], dtype=object),\n",
              "  'product_category': array([b'Personal_Care_Appliances', b'Personal_Care_Appliances',\n",
              "         b'Personal_Care_Appliances', ..., b'Personal_Care_Appliances',\n",
              "         b'Personal_Care_Appliances', b'Personal_Care_Appliances'],\n",
              "        dtype=object),\n",
              "  'product_id': array([b'B00847JQZ6', b'B00N5HD340', b'B0077L1X24', ..., b'B000UZ8X2W',\n",
              "         b'B000NURPPK', b'B001EY5GNW'], dtype=object),\n",
              "  'product_parent': array([b'997683625', b'955577225', b'120764066', ..., b'96066145',\n",
              "         b'58591097', b'986877728'], dtype=object),\n",
              "  'product_title': array([b'SE - Reading Glass - Spring Loaded Hinges, 4.0x - RTS62400',\n",
              "         b'Straight Razor',\n",
              "         b'Philips Sonicare Flexcare & Healthy White Plastic Travel Handle Case New Bulk Package',\n",
              "         ...,\n",
              "         b'Remington R-9200 Microflex Ultra TCT Shaver [Health and Beauty]',\n",
              "         b'SUNBEAM Cool Mist HUMIDIFIER with PermaFilter # 1120 \\xe2\\x80\\x93 1 Ea',\n",
              "         b'Andis Blade Set for T-Outliner Trimmer'], dtype=object),\n",
              "  'review_body': array([b\"These glasses are an excellent value.  The fit is good and they are very comfortable.  Because of my legal blindness, there aren't a lot of options to try to see better, but I believe these help with my other visual aids, and because they are reasonably priced I can have more than one pair available.\",\n",
              "         b\"Always wanted to try straight razor shaving (as a DE safety razor user), and this was a cheap way for me to determine I was not into it.<br /><br />Because the blades are disposable and always sharp, I could put a new one in and reasonably rely upon that fact that cuts were probably due to my technique and not the blade.<br /><br />It's very hard to do straight razor shaving on yourself because the ANGLE is difficult to control without switching hands. Being very right-handed, I really couldn't do that. I bet I could shave someone else's face with it though.<br /><br />An immediate upside? Using a DE safety razor (slant edged even) seems SUPER safe now! I'm increased my speed with the DE due to that confidence, and I'd been using it for years now.\",\n",
              "         b'I usually either throw my toothbrush in a plastic bag with spare head so this product is very convenient for keeping all the parts apart, dry and undamaged, and i now keep it in my travel bag all the time ready to go.',\n",
              "         ...,\n",
              "         b\"I have had a Remington before but needed a new one when the batteries died and the cutters were all but gone.  It was cheaper to buy a new one.  The new one has a nice charge level but the trimmer didn't work when I got it.\",\n",
              "         b\"I was surprised that it really didn't do much compared to the 1950s version that I'd inherited. Keeping a wet wash cloth next to my bed for when I start coughing in the middle of the night works better.\",\n",
              "         b'The blades were an excellent fit for my T-line trimmers.  Within five minutes I had my trimmers cleaned, the blades installed, and was putting them to use.  I saw the blades in several locations for almost twice the price I paid, so this worked out to be an awesome deal.'],\n",
              "        dtype=object),\n",
              "  'review_date': array([b'2015-01-04', b'2015-08-05', b'2012-11-17', ..., b'2008-02-08',\n",
              "         b'2007-09-07', b'2012-07-26'], dtype=object),\n",
              "  'review_headline': array([b'These glasses are an excellent value. The fit is good and they are ...',\n",
              "         b'A fantastic way to cheaply try straight razor shaving.',\n",
              "         b'Great for travel', ..., b'Trimmer Not Working',\n",
              "         b'Loud and ineffectual', b'Excellent product, awesomoe price'],\n",
              "        dtype=object),\n",
              "  'review_id': array([b'R3VEUFVA9QJY55', b'R2DTQV5SMJ0CK7', b'R3OJ06NK99WLNJ', ...,\n",
              "         b'R1ZQ0XZXOD9N18', b'R1FJ9OU429X00Y', b'RI28R1W94N1R6'],\n",
              "        dtype=object),\n",
              "  'star_rating': array([4, 5, 4, ..., 3, 2, 5], dtype=int32),\n",
              "  'total_votes': array([0, 3, 0, ..., 0, 0, 0], dtype=int32),\n",
              "  'verified_purchase': array([0, 0, 0, ..., 1, 0, 0]),\n",
              "  'vine': array([1, 1, 1, ..., 1, 1, 1])}}"
            ]
          },
          "metadata": {
            "tags": []
          },
          "execution_count": 8
        }
      ]
    },
    {
      "cell_type": "code",
      "metadata": {
        "id": "wg9SxLdOVMB6",
        "colab_type": "code",
        "colab": {}
      },
      "source": [
        "helpful_votes = dataset['data']['helpful_votes']\n",
        "review_headline = dataset['data']['review_headline']\n",
        "review_body = dataset['data']['review_body']\n",
        "rating = dataset['data']['star_rating']"
      ],
      "execution_count": null,
      "outputs": []
    },
    {
      "cell_type": "code",
      "metadata": {
        "id": "TemMp7XY985A",
        "colab_type": "code",
        "colab": {
          "base_uri": "https://localhost:8080/",
          "height": 35
        },
        "outputId": "ed300a54-4ca3-46e7-a859-c56c3fad9aaf"
      },
      "source": [
        "h2o_df = h2o.H2OFrame(np.hstack((helpful_votes[:,None],review_headline[:,None],review_body[:,None],rating[:,None])),column_names=['votes','headline','reviews','rating'],column_types=['numeric','string','string','numeric'])"
      ],
      "execution_count": null,
      "outputs": [
        {
          "output_type": "stream",
          "text": [
            "Parse progress: |█████████████████████████████████████████████████████████| 100%\n"
          ],
          "name": "stdout"
        }
      ]
    },
    {
      "cell_type": "code",
      "metadata": {
        "id": "37Eog674_zE-",
        "colab_type": "code",
        "colab": {
          "base_uri": "https://localhost:8080/",
          "height": 723
        },
        "outputId": "0a8bf631-ec25-4056-8440-9bb75a854d98"
      },
      "source": [
        "h2o_df"
      ],
      "execution_count": null,
      "outputs": [
        {
          "output_type": "display_data",
          "data": {
            "text/html": [
              "<table>\n",
              "<thead>\n",
              "<tr><th style=\"text-align: right;\">  votes</th><th>headline                                                                 </th><th>reviews                                                                                                                                                                                                                                                                                                                                                                                                                                                                                                                                                                                                                                                                                                                                                                                                                                                                                                                                                                                                                                                                                                                           </th><th style=\"text-align: right;\">  rating</th></tr>\n",
              "</thead>\n",
              "<tbody>\n",
              "<tr><td style=\"text-align: right;\">      0</td><td>b&#x27;These glasses are an excellent value. The fit is good and they are ...&#x27;</td><td>b&quot;These glasses are an excellent value.  The fit is good and they are very comfortable.  Because of my legal blindness, there aren&#x27;t a lot of options to try to see better, but I believe these help with my other visual aids, and because they are reasonably priced I can have more than one pair available.&quot;                                                                                                                                                                                                                                                                                                                                                                                                                                                                                                                                                                                                                                                                                                                                                                                                                  </td><td style=\"text-align: right;\">       4</td></tr>\n",
              "<tr><td style=\"text-align: right;\">      3</td><td>b&#x27;A fantastic way to cheaply try straight razor shaving.&#x27;                </td><td>b&quot;Always wanted to try straight razor shaving (as a DE safety razor user), and this was a cheap way for me to determine I was not into it.&lt;br /&gt;&lt;br /&gt;Because the blades are disposable and always sharp, I could put a new one in and reasonably rely upon that fact that cuts were probably due to my technique and not the blade.&lt;br /&gt;&lt;br /&gt;It&#x27;s very hard to do straight razor shaving on yourself because the ANGLE is difficult to control without switching hands. Being very right-handed, I really couldn&#x27;t do that. I bet I could shave someone else&#x27;s face with it though.&lt;br /&gt;&lt;br /&gt;An immediate upside? Using a DE safety razor (slant edged even) seems SUPER safe now! I&#x27;m increased my speed with the DE due to that confidence, and I&#x27;d been using it for years now.&quot;                                                                                                                                                                                                                                                                                                                                          </td><td style=\"text-align: right;\">       5</td></tr>\n",
              "<tr><td style=\"text-align: right;\">      0</td><td>b&#x27;Great for travel&#x27;                                                      </td><td>b&#x27;I usually either throw my toothbrush in a plastic bag with spare head so this product is very convenient for keeping all the parts apart, dry and undamaged, and i now keep it in my travel bag all the time ready to go.&#x27;                                                                                                                                                                                                                                                                                                                                                                                                                                                                                                                                                                                                                                                                                                                                                                                                                                                                                                      </td><td style=\"text-align: right;\">       4</td></tr>\n",
              "<tr><td style=\"text-align: right;\">      0</td><td>b&#x27;Five Stars&#x27;                                                            </td><td>b&#x27;Top quality.&#x27;                                                                                                                                                                                                                                                                                                                                                                                                                                                                                                                                                                                                                                                                                                                                                                                                                                                                                                                                                                                                                                                                                                                   </td><td style=\"text-align: right;\">       5</td></tr>\n",
              "<tr><td style=\"text-align: right;\">      1</td><td>b&#x27;*Product sent not as shown&#x27;                                            </td><td>b&#x27;Today I received  1 Fl. Oz, Natures Balance AlkaMAX alkaline booster liquid unflavored (formally TriMedica) a glass brown bottle with eye dropper.&lt;br /&gt;Supplement Facts; Serving Size: 10 Drops (Approx. 0.5 mL). Servings per Container: Approx. 60&lt;br /&gt;Amount Per Serving % Daily Value&lt;br /&gt;Magnesium (as Magnesium Chloride) 40 mg 10%&lt;br /&gt;Chloride (as Magnesium Chloride) 64 mg 2%&lt;br /&gt;Other Ingredients: Deionized water and trace mineral complex.&lt;br /&gt;Directions: Add 10 drops to 8 oz. of water or other beverage daily as needed or as directed by your health care practitioner. Store in a cool, dry place.&lt;br /&gt;&lt;br /&gt;I have not used product as of yet with changed ingredients of original/as shown in AlkaMax alkaline support white squeeze bottle.&lt;br /&gt;but had to rate to post...heck this new may be better for all I know.&#x27;                                                                                                                                                                                                                                                                          </td><td style=\"text-align: right;\">       3</td></tr>\n",
              "<tr><td style=\"text-align: right;\">      6</td><td>b&#x27;Seems to work well!&#x27;                                                   </td><td>b&#x27;I recently picked this unit up at Bed and Bath where it was $99.00. With a 20% coupon the price was $80 (so comparison shop!) It\\&#x27;s easy to use and seems to work well. I agree with other reviewers about the noise level (loud like a tea kettle boiling), but I use this unit in the living room area so sleeping is not an issue. Having the 2 separate water reservoirs to fill is much easier, weight-wise, as I previously had another humidifier which had one large water reservoir and it was very heavy when full. The unit comes apart quite easily for cleaning and since frequent cleaning is recommended (I usually do it 1x per week, not daily) this is a definite plus. Additionally, one only needs to use vinegar to clean the inside reservoir, which is a lot cheaper than having to buy some kind of \\\\\\\\&quot;special\\\\\\\\&quot; cleaning solution. My one complaint is that it doesn\\&#x27;t, but should, have an automatic shut off when both tanks are empty.I have to remember to turn the unit off when I leave the house. My previous humidifiers all had this auto turn off; seems like every humidifier should.&#x27;</td><td style=\"text-align: right;\">       4</td></tr>\n",
              "<tr><td style=\"text-align: right;\">      8</td><td>b&#x27;deep heat?????&#x27;                                                        </td><td>b&#x27;Not sure what previous reviewer was talking about. The product uses ULTRASOUND waves for pain relief NOT heat.  After repeated use, the pain in my knee and shoulder was feeling great. I think you should re-read the description and reconsider your opinion. Great product sold by a great company.&#x27;                                                                                                                                                                                                                                                                                                                                                                                                                                                                                                                                                                                                                                                                                                                                                                                                                         </td><td style=\"text-align: right;\">       5</td></tr>\n",
              "<tr><td style=\"text-align: right;\">      2</td><td>b&#x27;Thermometer for a toddler&#x27;                                             </td><td>b&quot;The shippers were great....willing to consider speedier shipping options, but in the end the standard shipping arrived quickly enough. The thermometer is fun and easy to use, but with an inquisitive toddler, it would be nice to have the plastic cap attached to the body so that it doesn&#x27;t disappear.  Would buy it again from these sellers.&quot;                                                                                                                                                                                                                                                                                                                                                                                                                                                                                                                                                                                                                                                                                                                                                                            </td><td style=\"text-align: right;\">       4</td></tr>\n",
              "<tr><td style=\"text-align: right;\">      2</td><td>b&#x27;Wow!&#x27;                                                                  </td><td>b&quot;Man, for all you who know what I&#x27;m talking about, this is the best thing I&#x27;ve ever had on my back.  I suffer from back pain constantly and find myself waking up in the middle of the night pushing parts of my back and neck on the edges of walls on the corners of doors and sometimes lying down on tennis or racket balls to get pressure on those dang trigger points.  I opted for the body sticks package not knowing what they would do and it was a good thing.  They are like have racket balls on the ends of sticks to beat your muscle spasms and to lie down on them rolling around on your back. It is worth the money.  They use a device similar to this in physical therapy so if you get your doctor to write you a script for it, insurance may very well pay for it like mine did.  Even so, paid or not, buy this sucker.  Buy two, I thought, just in case it breaks and they for some reason stop manufacturing this thing.  Good stuff.&quot;                                                                                                                                                              </td><td style=\"text-align: right;\">       5</td></tr>\n",
              "<tr><td style=\"text-align: right;\">      1</td><td>b&#x27;Great cane for people with hand and wrist issues&#x27;                      </td><td>b&quot;I purchased this cane to assist me when I have to walk long distances.  I have rheumatoid arthritis that has particularly affected my low back and hips, and it sometimes makes walking difficult.  The problem with using a cane when you have RA is that RA doesn&#x27;t just affect your lower extremities.  My hands, wrists, and shoulders are also affected.  When I tried a normal cane, it was agonizingly painful for my hand and wrist in particular.  That made it not worth using, even though it did help my hip and back.  A friend with similar issues recommended this one, and the difference was amazing.  It is still a bit hard on my hand after awhile, but not to the point that would make it not worth using.  There really is no perfect solution for this circumstance short of a wheelchair, and I&#x27;m nowhere near ready for that yet!  The forearm rest makes it bearable to use this cane, and it does really help me to walk longer distances when I need to!  It is a great product, and I&#x27;m happy that I purchased it!&quot;                                                                               </td><td style=\"text-align: right;\">       4</td></tr>\n",
              "</tbody>\n",
              "</table>"
            ]
          },
          "metadata": {
            "tags": []
          }
        },
        {
          "output_type": "execute_result",
          "data": {
            "text/plain": [
              ""
            ]
          },
          "metadata": {
            "tags": []
          },
          "execution_count": 11
        }
      ]
    },
    {
      "cell_type": "code",
      "metadata": {
        "id": "HS8W5JL5AbuJ",
        "colab_type": "code",
        "colab": {}
      },
      "source": [
        "h2o_df[\"target\"] = (h2o_df[\"rating\"] >= 4).ifelse(\"1\",\"0\")"
      ],
      "execution_count": null,
      "outputs": []
    },
    {
      "cell_type": "code",
      "metadata": {
        "id": "cIF2Y9nS_1sz",
        "colab_type": "code",
        "colab": {
          "base_uri": "https://localhost:8080/",
          "height": 35
        },
        "outputId": "ccf06b23-d692-4078-858b-390a48d2bd3b"
      },
      "source": [
        "h2o_df.shape"
      ],
      "execution_count": null,
      "outputs": [
        {
          "output_type": "execute_result",
          "data": {
            "text/plain": [
              "(85981, 5)"
            ]
          },
          "metadata": {
            "tags": []
          },
          "execution_count": 13
        }
      ]
    },
    {
      "cell_type": "code",
      "metadata": {
        "id": "G0gcBnV8AGt0",
        "colab_type": "code",
        "colab": {
          "base_uri": "https://localhost:8080/",
          "height": 83
        },
        "outputId": "9de458f1-5664-4d8d-e962-368f650819bb"
      },
      "source": [
        "h2o_df[\"target\"].table()\n",
        "# from output we can see it is an imbalanced dataset positive vs negative wise"
      ],
      "execution_count": null,
      "outputs": [
        {
          "output_type": "display_data",
          "data": {
            "text/html": [
              "<table>\n",
              "<thead>\n",
              "<tr><th style=\"text-align: right;\">  target</th><th style=\"text-align: right;\">  Count</th></tr>\n",
              "</thead>\n",
              "<tbody>\n",
              "<tr><td style=\"text-align: right;\">       0</td><td style=\"text-align: right;\">  23427</td></tr>\n",
              "<tr><td style=\"text-align: right;\">       1</td><td style=\"text-align: right;\">  62554</td></tr>\n",
              "</tbody>\n",
              "</table>"
            ]
          },
          "metadata": {
            "tags": []
          }
        },
        {
          "output_type": "execute_result",
          "data": {
            "text/plain": [
              ""
            ]
          },
          "metadata": {
            "tags": []
          },
          "execution_count": 14
        }
      ]
    },
    {
      "cell_type": "code",
      "metadata": {
        "id": "gvkgtsntANH_",
        "colab_type": "code",
        "colab": {
          "base_uri": "https://localhost:8080/",
          "height": 1000
        },
        "outputId": "30f90c28-3a69-4ab1-baed-2be000b0e059"
      },
      "source": [
        "h2o_df.describe()"
      ],
      "execution_count": null,
      "outputs": [
        {
          "output_type": "stream",
          "text": [
            "Rows:85981\n",
            "Cols:5\n",
            "\n",
            "\n"
          ],
          "name": "stdout"
        },
        {
          "output_type": "display_data",
          "data": {
            "text/html": [
              "<table>\n",
              "<thead>\n",
              "<tr><th>       </th><th>votes             </th><th>headline                                                                 </th><th>reviews                                                                                                                                                                                                                                                                                                                                                                                                                                                                                                                                                                                                                                                                                                                                                                                                                                                                                                                                                                                                                                                                                                                           </th><th>rating           </th><th>target  </th></tr>\n",
              "</thead>\n",
              "<tbody>\n",
              "<tr><td>type   </td><td>int               </td><td>string                                                                   </td><td>string                                                                                                                                                                                                                                                                                                                                                                                                                                                                                                                                                                                                                                                                                                                                                                                                                                                                                                                                                                                                                                                                                                                            </td><td>int              </td><td>enum    </td></tr>\n",
              "<tr><td>mins   </td><td>0.0               </td><td>NaN                                                                      </td><td>NaN                                                                                                                                                                                                                                                                                                                                                                                                                                                                                                                                                                                                                                                                                                                                                                                                                                                                                                                                                                                                                                                                                                                               </td><td>1.0              </td><td>        </td></tr>\n",
              "<tr><td>mean   </td><td>3.3494841883672   </td><td>NaN                                                                      </td><td>NaN                                                                                                                                                                                                                                                                                                                                                                                                                                                                                                                                                                                                                                                                                                                                                                                                                                                                                                                                                                                                                                                                                                                               </td><td>3.977401984159291</td><td>        </td></tr>\n",
              "<tr><td>maxs   </td><td>2785.0            </td><td>NaN                                                                      </td><td>NaN                                                                                                                                                                                                                                                                                                                                                                                                                                                                                                                                                                                                                                                                                                                                                                                                                                                                                                                                                                                                                                                                                                                               </td><td>5.0              </td><td>        </td></tr>\n",
              "<tr><td>sigma  </td><td>19.483167220712946</td><td>NaN                                                                      </td><td>NaN                                                                                                                                                                                                                                                                                                                                                                                                                                                                                                                                                                                                                                                                                                                                                                                                                                                                                                                                                                                                                                                                                                                               </td><td>1.433130291971473</td><td>        </td></tr>\n",
              "<tr><td>zeros  </td><td>44555             </td><td>0                                                                        </td><td>0                                                                                                                                                                                                                                                                                                                                                                                                                                                                                                                                                                                                                                                                                                                                                                                                                                                                                                                                                                                                                                                                                                                                 </td><td>0                </td><td>        </td></tr>\n",
              "<tr><td>missing</td><td>0                 </td><td>0                                                                        </td><td>0                                                                                                                                                                                                                                                                                                                                                                                                                                                                                                                                                                                                                                                                                                                                                                                                                                                                                                                                                                                                                                                                                                                                 </td><td>0                </td><td>0       </td></tr>\n",
              "<tr><td>0      </td><td>0.0               </td><td>b&#x27;These glasses are an excellent value. The fit is good and they are ...&#x27;</td><td>b&quot;These glasses are an excellent value.  The fit is good and they are very comfortable.  Because of my legal blindness, there aren&#x27;t a lot of options to try to see better, but I believe these help with my other visual aids, and because they are reasonably priced I can have more than one pair available.&quot;                                                                                                                                                                                                                                                                                                                                                                                                                                                                                                                                                                                                                                                                                                                                                                                                                  </td><td>4.0              </td><td>1       </td></tr>\n",
              "<tr><td>1      </td><td>3.0               </td><td>b&#x27;A fantastic way to cheaply try straight razor shaving.&#x27;                </td><td>b&quot;Always wanted to try straight razor shaving (as a DE safety razor user), and this was a cheap way for me to determine I was not into it.&lt;br /&gt;&lt;br /&gt;Because the blades are disposable and always sharp, I could put a new one in and reasonably rely upon that fact that cuts were probably due to my technique and not the blade.&lt;br /&gt;&lt;br /&gt;It&#x27;s very hard to do straight razor shaving on yourself because the ANGLE is difficult to control without switching hands. Being very right-handed, I really couldn&#x27;t do that. I bet I could shave someone else&#x27;s face with it though.&lt;br /&gt;&lt;br /&gt;An immediate upside? Using a DE safety razor (slant edged even) seems SUPER safe now! I&#x27;m increased my speed with the DE due to that confidence, and I&#x27;d been using it for years now.&quot;                                                                                                                                                                                                                                                                                                                                          </td><td>5.0              </td><td>1       </td></tr>\n",
              "<tr><td>2      </td><td>0.0               </td><td>b&#x27;Great for travel&#x27;                                                      </td><td>b&#x27;I usually either throw my toothbrush in a plastic bag with spare head so this product is very convenient for keeping all the parts apart, dry and undamaged, and i now keep it in my travel bag all the time ready to go.&#x27;                                                                                                                                                                                                                                                                                                                                                                                                                                                                                                                                                                                                                                                                                                                                                                                                                                                                                                      </td><td>4.0              </td><td>1       </td></tr>\n",
              "<tr><td>3      </td><td>0.0               </td><td>b&#x27;Five Stars&#x27;                                                            </td><td>b&#x27;Top quality.&#x27;                                                                                                                                                                                                                                                                                                                                                                                                                                                                                                                                                                                                                                                                                                                                                                                                                                                                                                                                                                                                                                                                                                                   </td><td>5.0              </td><td>1       </td></tr>\n",
              "<tr><td>4      </td><td>1.0               </td><td>b&#x27;*Product sent not as shown&#x27;                                            </td><td>b&#x27;Today I received  1 Fl. Oz, Natures Balance AlkaMAX alkaline booster liquid unflavored (formally TriMedica) a glass brown bottle with eye dropper.&lt;br /&gt;Supplement Facts; Serving Size: 10 Drops (Approx. 0.5 mL). Servings per Container: Approx. 60&lt;br /&gt;Amount Per Serving % Daily Value&lt;br /&gt;Magnesium (as Magnesium Chloride) 40 mg 10%&lt;br /&gt;Chloride (as Magnesium Chloride) 64 mg 2%&lt;br /&gt;Other Ingredients: Deionized water and trace mineral complex.&lt;br /&gt;Directions: Add 10 drops to 8 oz. of water or other beverage daily as needed or as directed by your health care practitioner. Store in a cool, dry place.&lt;br /&gt;&lt;br /&gt;I have not used product as of yet with changed ingredients of original/as shown in AlkaMax alkaline support white squeeze bottle.&lt;br /&gt;but had to rate to post...heck this new may be better for all I know.&#x27;                                                                                                                                                                                                                                                                          </td><td>3.0              </td><td>0       </td></tr>\n",
              "<tr><td>5      </td><td>6.0               </td><td>b&#x27;Seems to work well!&#x27;                                                   </td><td>b&#x27;I recently picked this unit up at Bed and Bath where it was $99.00. With a 20% coupon the price was $80 (so comparison shop!) It\\&#x27;s easy to use and seems to work well. I agree with other reviewers about the noise level (loud like a tea kettle boiling), but I use this unit in the living room area so sleeping is not an issue. Having the 2 separate water reservoirs to fill is much easier, weight-wise, as I previously had another humidifier which had one large water reservoir and it was very heavy when full. The unit comes apart quite easily for cleaning and since frequent cleaning is recommended (I usually do it 1x per week, not daily) this is a definite plus. Additionally, one only needs to use vinegar to clean the inside reservoir, which is a lot cheaper than having to buy some kind of \\\\\\\\&quot;special\\\\\\\\&quot; cleaning solution. My one complaint is that it doesn\\&#x27;t, but should, have an automatic shut off when both tanks are empty.I have to remember to turn the unit off when I leave the house. My previous humidifiers all had this auto turn off; seems like every humidifier should.&#x27;</td><td>4.0              </td><td>1       </td></tr>\n",
              "<tr><td>6      </td><td>8.0               </td><td>b&#x27;deep heat?????&#x27;                                                        </td><td>b&#x27;Not sure what previous reviewer was talking about. The product uses ULTRASOUND waves for pain relief NOT heat.  After repeated use, the pain in my knee and shoulder was feeling great. I think you should re-read the description and reconsider your opinion. Great product sold by a great company.&#x27;                                                                                                                                                                                                                                                                                                                                                                                                                                                                                                                                                                                                                                                                                                                                                                                                                         </td><td>5.0              </td><td>1       </td></tr>\n",
              "<tr><td>7      </td><td>2.0               </td><td>b&#x27;Thermometer for a toddler&#x27;                                             </td><td>b&quot;The shippers were great....willing to consider speedier shipping options, but in the end the standard shipping arrived quickly enough. The thermometer is fun and easy to use, but with an inquisitive toddler, it would be nice to have the plastic cap attached to the body so that it doesn&#x27;t disappear.  Would buy it again from these sellers.&quot;                                                                                                                                                                                                                                                                                                                                                                                                                                                                                                                                                                                                                                                                                                                                                                            </td><td>4.0              </td><td>1       </td></tr>\n",
              "<tr><td>8      </td><td>2.0               </td><td>b&#x27;Wow!&#x27;                                                                  </td><td>b&quot;Man, for all you who know what I&#x27;m talking about, this is the best thing I&#x27;ve ever had on my back.  I suffer from back pain constantly and find myself waking up in the middle of the night pushing parts of my back and neck on the edges of walls on the corners of doors and sometimes lying down on tennis or racket balls to get pressure on those dang trigger points.  I opted for the body sticks package not knowing what they would do and it was a good thing.  They are like have racket balls on the ends of sticks to beat your muscle spasms and to lie down on them rolling around on your back. It is worth the money.  They use a device similar to this in physical therapy so if you get your doctor to write you a script for it, insurance may very well pay for it like mine did.  Even so, paid or not, buy this sucker.  Buy two, I thought, just in case it breaks and they for some reason stop manufacturing this thing.  Good stuff.&quot;                                                                                                                                                              </td><td>5.0              </td><td>1       </td></tr>\n",
              "<tr><td>9      </td><td>1.0               </td><td>b&#x27;Great cane for people with hand and wrist issues&#x27;                      </td><td>b&quot;I purchased this cane to assist me when I have to walk long distances.  I have rheumatoid arthritis that has particularly affected my low back and hips, and it sometimes makes walking difficult.  The problem with using a cane when you have RA is that RA doesn&#x27;t just affect your lower extremities.  My hands, wrists, and shoulders are also affected.  When I tried a normal cane, it was agonizingly painful for my hand and wrist in particular.  That made it not worth using, even though it did help my hip and back.  A friend with similar issues recommended this one, and the difference was amazing.  It is still a bit hard on my hand after awhile, but not to the point that would make it not worth using.  There really is no perfect solution for this circumstance short of a wheelchair, and I&#x27;m nowhere near ready for that yet!  The forearm rest makes it bearable to use this cane, and it does really help me to walk longer distances when I need to!  It is a great product, and I&#x27;m happy that I purchased it!&quot;                                                                               </td><td>4.0              </td><td>1       </td></tr>\n",
              "</tbody>\n",
              "</table>"
            ]
          },
          "metadata": {
            "tags": []
          }
        }
      ]
    },
    {
      "cell_type": "code",
      "metadata": {
        "id": "REOXDoLdFCaF",
        "colab_type": "code",
        "colab": {
          "base_uri": "https://localhost:8080/",
          "height": 53
        },
        "outputId": "6a74fef7-71f4-4280-e8ff-b2cb5dd2869f"
      },
      "source": [
        "import nltk\n",
        "from nltk.corpus import stopwords\n",
        "nltk.download('stopwords')\n",
        "stop_words = set(stopwords.words('english'))"
      ],
      "execution_count": null,
      "outputs": [
        {
          "output_type": "stream",
          "text": [
            "[nltk_data] Downloading package stopwords to /root/nltk_data...\n",
            "[nltk_data]   Unzipping corpora/stopwords.zip.\n"
          ],
          "name": "stdout"
        }
      ]
    },
    {
      "cell_type": "code",
      "metadata": {
        "id": "TRUo-8feFZGc",
        "colab_type": "code",
        "colab": {}
      },
      "source": [
        "def tokenize(line):\n",
        "  tokenized = line.tokenize(\"\\\\W+\")\n",
        "  tokenized = tokenized.tolower()\n",
        "  tokenized = tokenized[(tokenized.nchar() >= 2) | (tokenized.isna()),:] #keep any value length of words greater than 2 ignore to , it etc. kind of words\n",
        "  tokenized_filter = tokenized[(tokenized.isna()) | (~ tokenized.isin(stop_words)),:] #filter and remove if in the stop words list\n",
        "  return tokenized_filter"
      ],
      "execution_count": null,
      "outputs": []
    },
    {
      "cell_type": "code",
      "metadata": {
        "id": "4LW2U1vzGR74",
        "colab_type": "code",
        "colab": {}
      },
      "source": [
        "words_reviews = tokenize(h2o_df[\"reviews\"])"
      ],
      "execution_count": null,
      "outputs": []
    },
    {
      "cell_type": "code",
      "metadata": {
        "id": "7XYF4p-9HDnF",
        "colab_type": "code",
        "colab": {}
      },
      "source": [
        "words_headline = tokenize(h2o_df[\"headline\"])"
      ],
      "execution_count": null,
      "outputs": []
    },
    {
      "cell_type": "code",
      "metadata": {
        "id": "oFSizIAKHKil",
        "colab_type": "code",
        "colab": {
          "base_uri": "https://localhost:8080/",
          "height": 254
        },
        "outputId": "b23db829-6a33-417e-e246-7fee8ffcaf57"
      },
      "source": [
        "words_reviews.head()"
      ],
      "execution_count": null,
      "outputs": [
        {
          "output_type": "display_data",
          "data": {
            "text/html": [
              "<table>\n",
              "<thead>\n",
              "<tr><th>C1         </th></tr>\n",
              "</thead>\n",
              "<tbody>\n",
              "<tr><td>glasses    </td></tr>\n",
              "<tr><td>excellent  </td></tr>\n",
              "<tr><td>value      </td></tr>\n",
              "<tr><td>fit        </td></tr>\n",
              "<tr><td>good       </td></tr>\n",
              "<tr><td>comfortable</td></tr>\n",
              "<tr><td>legal      </td></tr>\n",
              "<tr><td>blindness  </td></tr>\n",
              "<tr><td>lot        </td></tr>\n",
              "<tr><td>options    </td></tr>\n",
              "</tbody>\n",
              "</table>"
            ]
          },
          "metadata": {
            "tags": []
          }
        },
        {
          "output_type": "execute_result",
          "data": {
            "text/plain": [
              ""
            ]
          },
          "metadata": {
            "tags": []
          },
          "execution_count": 20
        }
      ]
    },
    {
      "cell_type": "code",
      "metadata": {
        "id": "9GgNuwerHPqZ",
        "colab_type": "code",
        "colab": {
          "base_uri": "https://localhost:8080/",
          "height": 237
        },
        "outputId": "bb012364-ffb8-4c61-fcce-ffabbbb2b797"
      },
      "source": [
        "words_headline.head()"
      ],
      "execution_count": null,
      "outputs": [
        {
          "output_type": "display_data",
          "data": {
            "text/html": [
              "<table>\n",
              "<thead>\n",
              "<tr><th>C1       </th></tr>\n",
              "</thead>\n",
              "<tbody>\n",
              "<tr><td>glasses  </td></tr>\n",
              "<tr><td>excellent</td></tr>\n",
              "<tr><td>value    </td></tr>\n",
              "<tr><td>fit      </td></tr>\n",
              "<tr><td>good     </td></tr>\n",
              "<tr><td>         </td></tr>\n",
              "<tr><td>fantastic</td></tr>\n",
              "<tr><td>way      </td></tr>\n",
              "<tr><td>cheaply  </td></tr>\n",
              "<tr><td>try      </td></tr>\n",
              "</tbody>\n",
              "</table>"
            ]
          },
          "metadata": {
            "tags": []
          }
        },
        {
          "output_type": "execute_result",
          "data": {
            "text/plain": [
              ""
            ]
          },
          "metadata": {
            "tags": []
          },
          "execution_count": 21
        }
      ]
    },
    {
      "cell_type": "code",
      "metadata": {
        "id": "H0c-PphuHS3E",
        "colab_type": "code",
        "colab": {
          "base_uri": "https://localhost:8080/",
          "height": 35
        },
        "outputId": "a74e13fb-e2fa-4746-b8f8-d1f0578d3f8b"
      },
      "source": [
        "words_reviews.shape"
      ],
      "execution_count": null,
      "outputs": [
        {
          "output_type": "execute_result",
          "data": {
            "text/plain": [
              "(2797601, 1)"
            ]
          },
          "metadata": {
            "tags": []
          },
          "execution_count": 22
        }
      ]
    },
    {
      "cell_type": "code",
      "metadata": {
        "id": "dzjWnkvEHXXZ",
        "colab_type": "code",
        "colab": {}
      },
      "source": [
        "from h2o.estimators.word2vec import H2OWord2vecEstimator\n",
        "from h2o.estimators import H2OGradientBoostingEstimator, H2OXGBoostEstimator\n",
        "\n",
        "#word2vec model - words which share a close meaning or relation are stored closer in the vector\n",
        "#better than tfidf vectors because in H2OWord2vecEstimator the context of the word is maintained"
      ],
      "execution_count": null,
      "outputs": []
    },
    {
      "cell_type": "code",
      "metadata": {
        "id": "qA-kBDyFH-B_",
        "colab_type": "code",
        "colab": {
          "base_uri": "https://localhost:8080/",
          "height": 35
        },
        "outputId": "667866bc-0343-4853-d374-240d185d9be4"
      },
      "source": [
        "vec_model = H2OWord2vecEstimator(vec_size = 100, model_id = \"w2v_amazon.model\")\n",
        "vec_model.train(training_frame=words_reviews)"
      ],
      "execution_count": null,
      "outputs": [
        {
          "output_type": "stream",
          "text": [
            "word2vec Model Build progress: |██████████████████████████████████████████| 100%\n"
          ],
          "name": "stdout"
        }
      ]
    },
    {
      "cell_type": "code",
      "metadata": {
        "id": "b7QfER4AIPTx",
        "colab_type": "code",
        "colab": {
          "base_uri": "https://localhost:8080/",
          "height": 36
        },
        "outputId": "78a32eaa-814d-45b0-e135-2dd28f4d548a"
      },
      "source": [
        "h2o.save_model(vec_model,path='/content/drive/My Drive/colabfiles/',force=True)"
      ],
      "execution_count": null,
      "outputs": [
        {
          "output_type": "execute_result",
          "data": {
            "application/vnd.google.colaboratory.intrinsic+json": {
              "type": "string"
            },
            "text/plain": [
              "'/content/drive/My Drive/colabfiles/w2v_amazon.model'"
            ]
          },
          "metadata": {
            "tags": []
          },
          "execution_count": 25
        }
      ]
    },
    {
      "cell_type": "code",
      "metadata": {
        "id": "GLh07L3DCtrv",
        "colab_type": "code",
        "colab": {}
      },
      "source": [
        "#specify the full path to model \n",
        "vec_model=h2o.load_model('/content/drive/My Drive/colabfiles/w2v_amazon.model')"
      ],
      "execution_count": null,
      "outputs": []
    },
    {
      "cell_type": "code",
      "metadata": {
        "id": "7v_4OXUOC3WD",
        "colab_type": "code",
        "colab": {
          "base_uri": "https://localhost:8080/",
          "height": 108
        },
        "outputId": "693fdb4b-ae34-4df9-c90a-4f7b757f41ac"
      },
      "source": [
        "#sanity check of model\n",
        "#takes text corpus as input and produces word vector as output\n",
        "vec_model.find_synonyms(\"perfumes\",count=5)"
      ],
      "execution_count": null,
      "outputs": [
        {
          "output_type": "execute_result",
          "data": {
            "text/plain": [
              "OrderedDict([('febreze', 0.7339320182800293),\n",
              "             ('scents', 0.7271350622177124),\n",
              "             ('patchouli', 0.714663565158844),\n",
              "             ('fragrances', 0.6899129748344421),\n",
              "             ('wintergreen', 0.6881152987480164)])"
            ]
          },
          "metadata": {
            "tags": []
          },
          "execution_count": 27
        }
      ]
    },
    {
      "cell_type": "code",
      "metadata": {
        "id": "BlRJF65XC-WW",
        "colab_type": "code",
        "colab": {
          "base_uri": "https://localhost:8080/",
          "height": 108
        },
        "outputId": "86a63752-be68-41eb-f5b3-8b0e2121a271"
      },
      "source": [
        "vec_model.find_synonyms(\"toothpaste\",count=5)"
      ],
      "execution_count": null,
      "outputs": [
        {
          "output_type": "execute_result",
          "data": {
            "text/plain": [
              "OrderedDict([('mouthwash', 0.7377598881721497),\n",
              "             ('listerine', 0.7372656464576721),\n",
              "             ('mentadent', 0.6838812828063965),\n",
              "             ('whitening', 0.6795799136161804),\n",
              "             ('plax', 0.6735897064208984)])"
            ]
          },
          "metadata": {
            "tags": []
          },
          "execution_count": 28
        }
      ]
    },
    {
      "cell_type": "code",
      "metadata": {
        "id": "XvM-Hg8pDBYL",
        "colab_type": "code",
        "colab": {
          "base_uri": "https://localhost:8080/",
          "height": 108
        },
        "outputId": "ae2f1fb9-0710-42d8-8d8a-fe34eb35950d"
      },
      "source": [
        "vec_model.find_synonyms(\"glasses\",count=5)"
      ],
      "execution_count": null,
      "outputs": [
        {
          "output_type": "execute_result",
          "data": {
            "text/plain": [
              "OrderedDict([('sunglasses', 0.892582356929779),\n",
              "             ('readers', 0.8543447852134705),\n",
              "             ('bifocals', 0.8046402931213379),\n",
              "             ('bifocal', 0.7965686917304993),\n",
              "             ('lenses', 0.7770854234695435)])"
            ]
          },
          "metadata": {
            "tags": []
          },
          "execution_count": 29
        }
      ]
    },
    {
      "cell_type": "code",
      "metadata": {
        "id": "kp9ZBM3sDEFy",
        "colab_type": "code",
        "colab": {}
      },
      "source": [
        "reviews_vecs = vec_model.transform(words_reviews,aggregate_method=\"AVERAGE\")\n",
        "#transform the words_reviews and transform to a vector representation as in a numeric representation that the model can understand. model cannot understand string objects\n",
        "#aggregate = NONE , dont aggregate each input word is mapped to a single word vector\n",
        "# average = input is treated as a sequence of words delimited by each sentence. each sentence is mapped to a vector. vector belonging to same sentence is averaged. look into more details."
      ],
      "execution_count": null,
      "outputs": []
    },
    {
      "cell_type": "code",
      "metadata": {
        "id": "wM9g2NjaDjVX",
        "colab_type": "code",
        "colab": {
          "base_uri": "https://localhost:8080/",
          "height": 35
        },
        "outputId": "2c7399d7-d9fe-4bc0-a328-e0603e4f4bad"
      },
      "source": [
        "reviews_vecs.shape"
      ],
      "execution_count": null,
      "outputs": [
        {
          "output_type": "execute_result",
          "data": {
            "text/plain": [
              "(85981, 100)"
            ]
          },
          "metadata": {
            "tags": []
          },
          "execution_count": 31
        }
      ]
    },
    {
      "cell_type": "code",
      "metadata": {
        "id": "TDU3g32ODtcH",
        "colab_type": "code",
        "colab": {
          "base_uri": "https://localhost:8080/",
          "height": 274
        },
        "outputId": "51bdfc94-8a18-4926-8e77-0f1c6d4b0d80"
      },
      "source": [
        "reviews_vecs.head()"
      ],
      "execution_count": null,
      "outputs": [
        {
          "output_type": "display_data",
          "data": {
            "text/html": [
              "<table>\n",
              "<thead>\n",
              "<tr><th style=\"text-align: right;\">        C1</th><th style=\"text-align: right;\">         C2</th><th style=\"text-align: right;\">         C3</th><th style=\"text-align: right;\">        C4</th><th style=\"text-align: right;\">         C5</th><th style=\"text-align: right;\">        C6</th><th style=\"text-align: right;\">        C7</th><th style=\"text-align: right;\">          C8</th><th style=\"text-align: right;\">        C9</th><th style=\"text-align: right;\">       C10</th><th style=\"text-align: right;\">       C11</th><th style=\"text-align: right;\">        C12</th><th style=\"text-align: right;\">        C13</th><th style=\"text-align: right;\">        C14</th><th style=\"text-align: right;\">         C15</th><th style=\"text-align: right;\">       C16</th><th style=\"text-align: right;\">       C17</th><th style=\"text-align: right;\">       C18</th><th style=\"text-align: right;\">         C19</th><th style=\"text-align: right;\">        C20</th><th style=\"text-align: right;\">       C21</th><th style=\"text-align: right;\">       C22</th><th style=\"text-align: right;\">      C23</th><th style=\"text-align: right;\">        C24</th><th style=\"text-align: right;\">       C25</th><th style=\"text-align: right;\">       C26</th><th style=\"text-align: right;\">        C27</th><th style=\"text-align: right;\">       C28</th><th style=\"text-align: right;\">       C29</th><th style=\"text-align: right;\">      C30</th><th style=\"text-align: right;\">       C31</th><th style=\"text-align: right;\">      C32</th><th style=\"text-align: right;\">       C33</th><th style=\"text-align: right;\">     C34</th><th style=\"text-align: right;\">       C35</th><th style=\"text-align: right;\">        C36</th><th style=\"text-align: right;\">       C37</th><th style=\"text-align: right;\">        C38</th><th style=\"text-align: right;\">        C39</th><th style=\"text-align: right;\">       C40</th><th style=\"text-align: right;\">       C41</th><th style=\"text-align: right;\">      C42</th><th style=\"text-align: right;\">       C43</th><th style=\"text-align: right;\">       C44</th><th style=\"text-align: right;\">       C45</th><th style=\"text-align: right;\">        C46</th><th style=\"text-align: right;\">        C47</th><th style=\"text-align: right;\">         C48</th><th style=\"text-align: right;\">       C49</th><th style=\"text-align: right;\">        C50</th><th style=\"text-align: right;\">         C51</th><th style=\"text-align: right;\">      C52</th><th style=\"text-align: right;\">        C53</th><th style=\"text-align: right;\">        C54</th><th style=\"text-align: right;\">        C55</th><th style=\"text-align: right;\">        C56</th><th style=\"text-align: right;\">       C57</th><th style=\"text-align: right;\">       C58</th><th style=\"text-align: right;\">         C59</th><th style=\"text-align: right;\">       C60</th><th style=\"text-align: right;\">        C61</th><th style=\"text-align: right;\">        C62</th><th style=\"text-align: right;\">       C63</th><th style=\"text-align: right;\">        C64</th><th style=\"text-align: right;\">        C65</th><th style=\"text-align: right;\">      C66</th><th style=\"text-align: right;\">       C67</th><th style=\"text-align: right;\">       C68</th><th style=\"text-align: right;\">       C69</th><th style=\"text-align: right;\">       C70</th><th style=\"text-align: right;\">       C71</th><th style=\"text-align: right;\">        C72</th><th style=\"text-align: right;\">       C73</th><th style=\"text-align: right;\">       C74</th><th style=\"text-align: right;\">       C75</th><th style=\"text-align: right;\">        C76</th><th style=\"text-align: right;\">        C77</th><th style=\"text-align: right;\">        C78</th><th style=\"text-align: right;\">      C79</th><th style=\"text-align: right;\">       C80</th><th style=\"text-align: right;\">        C81</th><th style=\"text-align: right;\">       C82</th><th style=\"text-align: right;\">        C83</th><th style=\"text-align: right;\">       C84</th><th style=\"text-align: right;\">        C85</th><th style=\"text-align: right;\">        C86</th><th style=\"text-align: right;\">        C87</th><th style=\"text-align: right;\">        C88</th><th style=\"text-align: right;\">       C89</th><th style=\"text-align: right;\">      C90</th><th style=\"text-align: right;\">       C91</th><th style=\"text-align: right;\">       C92</th><th style=\"text-align: right;\">       C93</th><th style=\"text-align: right;\">      C94</th><th style=\"text-align: right;\">       C95</th><th style=\"text-align: right;\">       C96</th><th style=\"text-align: right;\">        C97</th><th style=\"text-align: right;\">      C98</th><th style=\"text-align: right;\">        C99</th><th style=\"text-align: right;\">       C100</th></tr>\n",
              "</thead>\n",
              "<tbody>\n",
              "<tr><td style=\"text-align: right;\">-0.0223372</td><td style=\"text-align: right;\">-0.101462  </td><td style=\"text-align: right;\">-0.114809  </td><td style=\"text-align: right;\"> 0.0168284</td><td style=\"text-align: right;\">-0.0164921 </td><td style=\"text-align: right;\">-0.209223 </td><td style=\"text-align: right;\"> 0.118498 </td><td style=\"text-align: right;\">-0.0710567  </td><td style=\"text-align: right;\"> 0.0210932</td><td style=\"text-align: right;\">-0.154157 </td><td style=\"text-align: right;\"> 0.0635977</td><td style=\"text-align: right;\">-0.00185601</td><td style=\"text-align: right;\">-0.0727741 </td><td style=\"text-align: right;\">-0.0610006 </td><td style=\"text-align: right;\"> 0.102627   </td><td style=\"text-align: right;\">-0.0395098</td><td style=\"text-align: right;\">0.0940937 </td><td style=\"text-align: right;\"> 0.0677023</td><td style=\"text-align: right;\">-0.0380843  </td><td style=\"text-align: right;\">-0.0447035 </td><td style=\"text-align: right;\">-0.0230255</td><td style=\"text-align: right;\"> 0.0230214</td><td style=\"text-align: right;\">0.0187316</td><td style=\"text-align: right;\">-0.0904272 </td><td style=\"text-align: right;\"> 0.0431126</td><td style=\"text-align: right;\"> 0.0424661</td><td style=\"text-align: right;\">-0.0318441 </td><td style=\"text-align: right;\">-0.128164 </td><td style=\"text-align: right;\"> 0.0253027</td><td style=\"text-align: right;\">-0.120625</td><td style=\"text-align: right;\">0.00727081</td><td style=\"text-align: right;\">0.016413 </td><td style=\"text-align: right;\">-0.180465 </td><td style=\"text-align: right;\">0.190324</td><td style=\"text-align: right;\"> 0.149646 </td><td style=\"text-align: right;\">-0.0606092 </td><td style=\"text-align: right;\">-0.043471 </td><td style=\"text-align: right;\">-0.0721251 </td><td style=\"text-align: right;\"> 0.0530331 </td><td style=\"text-align: right;\">-0.0879348</td><td style=\"text-align: right;\">-0.0577949</td><td style=\"text-align: right;\">0.0812804</td><td style=\"text-align: right;\">-0.10003  </td><td style=\"text-align: right;\"> 0.0465885</td><td style=\"text-align: right;\">-0.217203 </td><td style=\"text-align: right;\">-0.124892  </td><td style=\"text-align: right;\"> 0.0971409 </td><td style=\"text-align: right;\"> 0.165828   </td><td style=\"text-align: right;\"> 0.119346 </td><td style=\"text-align: right;\">-0.0368911 </td><td style=\"text-align: right;\"> 0.0144467  </td><td style=\"text-align: right;\">0.227636 </td><td style=\"text-align: right;\">-0.047465  </td><td style=\"text-align: right;\">-0.0402355 </td><td style=\"text-align: right;\">-0.0318393 </td><td style=\"text-align: right;\"> 0.0225555 </td><td style=\"text-align: right;\">-0.154678 </td><td style=\"text-align: right;\">-0.101554 </td><td style=\"text-align: right;\">-0.064337   </td><td style=\"text-align: right;\">-0.120972 </td><td style=\"text-align: right;\"> 0.0605503 </td><td style=\"text-align: right;\"> 0.0218879 </td><td style=\"text-align: right;\">-0.0178567</td><td style=\"text-align: right;\"> 0.069446  </td><td style=\"text-align: right;\">-0.0695093 </td><td style=\"text-align: right;\">0.12788  </td><td style=\"text-align: right;\">-0.100261 </td><td style=\"text-align: right;\"> 0.200735 </td><td style=\"text-align: right;\">0.0134966 </td><td style=\"text-align: right;\">-0.001627 </td><td style=\"text-align: right;\">-0.0622683</td><td style=\"text-align: right;\">-0.166953  </td><td style=\"text-align: right;\">-0.0527882</td><td style=\"text-align: right;\"> 0.0973388</td><td style=\"text-align: right;\">-0.0543453</td><td style=\"text-align: right;\">-0.0653365 </td><td style=\"text-align: right;\"> 0.040781  </td><td style=\"text-align: right;\"> 0.0344796 </td><td style=\"text-align: right;\">0.0962445</td><td style=\"text-align: right;\">-0.0734966</td><td style=\"text-align: right;\">-0.0314222 </td><td style=\"text-align: right;\">-0.126654 </td><td style=\"text-align: right;\"> 0.0556344 </td><td style=\"text-align: right;\">-0.0908684</td><td style=\"text-align: right;\">-0.0590143 </td><td style=\"text-align: right;\">-0.0167966 </td><td style=\"text-align: right;\"> 0.00991901</td><td style=\"text-align: right;\">-0.127366  </td><td style=\"text-align: right;\">-0.0127771</td><td style=\"text-align: right;\">0.225748 </td><td style=\"text-align: right;\">-0.049723 </td><td style=\"text-align: right;\">-0.0184968</td><td style=\"text-align: right;\">-0.0520713</td><td style=\"text-align: right;\">0.238112 </td><td style=\"text-align: right;\">-0.0866913</td><td style=\"text-align: right;\">-0.0329198</td><td style=\"text-align: right;\"> 0.0293844 </td><td style=\"text-align: right;\">0.075375 </td><td style=\"text-align: right;\">-0.0104086 </td><td style=\"text-align: right;\"> 0.0773219 </td></tr>\n",
              "<tr><td style=\"text-align: right;\">-0.136996 </td><td style=\"text-align: right;\">-0.0239934 </td><td style=\"text-align: right;\">-0.0489472 </td><td style=\"text-align: right;\">-0.0402272</td><td style=\"text-align: right;\">-0.186143  </td><td style=\"text-align: right;\">-0.093279 </td><td style=\"text-align: right;\">-0.0615365</td><td style=\"text-align: right;\">-0.000900622</td><td style=\"text-align: right;\">-0.0532523</td><td style=\"text-align: right;\">-0.187389 </td><td style=\"text-align: right;\">-0.0556242</td><td style=\"text-align: right;\"> 0.108798  </td><td style=\"text-align: right;\">-0.0359381 </td><td style=\"text-align: right;\">-0.0619173 </td><td style=\"text-align: right;\"> 0.0246503  </td><td style=\"text-align: right;\">-0.0744232</td><td style=\"text-align: right;\">0.0486362 </td><td style=\"text-align: right;\"> 0.113203 </td><td style=\"text-align: right;\">-0.059835   </td><td style=\"text-align: right;\"> 0.0568855 </td><td style=\"text-align: right;\">-0.130378 </td><td style=\"text-align: right;\">-0.0411388</td><td style=\"text-align: right;\">0.0167374</td><td style=\"text-align: right;\">-0.0506131 </td><td style=\"text-align: right;\">-0.0144306</td><td style=\"text-align: right;\">-0.0990224</td><td style=\"text-align: right;\">-0.126376  </td><td style=\"text-align: right;\">-0.0816124</td><td style=\"text-align: right;\">-0.0704906</td><td style=\"text-align: right;\">-0.110884</td><td style=\"text-align: right;\">0.0948975 </td><td style=\"text-align: right;\">0.0281437</td><td style=\"text-align: right;\">-0.121605 </td><td style=\"text-align: right;\">0.208672</td><td style=\"text-align: right;\"> 0.0744946</td><td style=\"text-align: right;\">-0.00386399</td><td style=\"text-align: right;\">-0.113247 </td><td style=\"text-align: right;\">-0.110769  </td><td style=\"text-align: right;\">-0.00765534</td><td style=\"text-align: right;\">-0.0896168</td><td style=\"text-align: right;\">-0.143238 </td><td style=\"text-align: right;\">0.0931658</td><td style=\"text-align: right;\">-0.0967818</td><td style=\"text-align: right;\"> 0.176493 </td><td style=\"text-align: right;\">-0.0381162</td><td style=\"text-align: right;\">-0.0167409 </td><td style=\"text-align: right;\"> 0.111841  </td><td style=\"text-align: right;\">-0.0345709  </td><td style=\"text-align: right;\">-0.0242533</td><td style=\"text-align: right;\">-0.166238  </td><td style=\"text-align: right;\">-0.0330263  </td><td style=\"text-align: right;\">0.104666 </td><td style=\"text-align: right;\"> 0.029422  </td><td style=\"text-align: right;\">-0.0727858 </td><td style=\"text-align: right;\">-0.132182  </td><td style=\"text-align: right;\"> 0.122911  </td><td style=\"text-align: right;\">-0.209581 </td><td style=\"text-align: right;\">-0.0849035</td><td style=\"text-align: right;\">-0.101283   </td><td style=\"text-align: right;\">-0.0597167</td><td style=\"text-align: right;\"> 0.0165561 </td><td style=\"text-align: right;\">-0.0851909 </td><td style=\"text-align: right;\"> 0.0193177</td><td style=\"text-align: right;\"> 0.0302354 </td><td style=\"text-align: right;\">-0.157376  </td><td style=\"text-align: right;\">0.124675 </td><td style=\"text-align: right;\">-0.0594362</td><td style=\"text-align: right;\">-0.0744537</td><td style=\"text-align: right;\">0.131549  </td><td style=\"text-align: right;\"> 0.0719131</td><td style=\"text-align: right;\">-0.0992874</td><td style=\"text-align: right;\">-0.0206939 </td><td style=\"text-align: right;\">-0.0347529</td><td style=\"text-align: right;\"> 0.0540405</td><td style=\"text-align: right;\">-0.0944306</td><td style=\"text-align: right;\">-0.0783156 </td><td style=\"text-align: right;\"> 0.0184564 </td><td style=\"text-align: right;\">-0.0388355 </td><td style=\"text-align: right;\">0.160488 </td><td style=\"text-align: right;\"> 0.113828 </td><td style=\"text-align: right;\">-0.00211146</td><td style=\"text-align: right;\">-0.0624577</td><td style=\"text-align: right;\">-0.0154023 </td><td style=\"text-align: right;\">-0.101557 </td><td style=\"text-align: right;\">-0.0347585 </td><td style=\"text-align: right;\">-0.00437551</td><td style=\"text-align: right;\"> 0.123074  </td><td style=\"text-align: right;\"> 0.114834  </td><td style=\"text-align: right;\"> 0.0688567</td><td style=\"text-align: right;\">0.184029 </td><td style=\"text-align: right;\">-0.0948786</td><td style=\"text-align: right;\"> 0.079469 </td><td style=\"text-align: right;\">-0.0738043</td><td style=\"text-align: right;\">0.170165 </td><td style=\"text-align: right;\"> 0.0719352</td><td style=\"text-align: right;\"> 0.115536 </td><td style=\"text-align: right;\"> 0.102509  </td><td style=\"text-align: right;\">0.134626 </td><td style=\"text-align: right;\"> 0.0825497 </td><td style=\"text-align: right;\"> 0.0675708 </td></tr>\n",
              "<tr><td style=\"text-align: right;\">-0.212388 </td><td style=\"text-align: right;\"> 0.00652189</td><td style=\"text-align: right;\"> 0.0658496 </td><td style=\"text-align: right;\"> 0.0424047</td><td style=\"text-align: right;\">-0.0110207 </td><td style=\"text-align: right;\">-0.147592 </td><td style=\"text-align: right;\">-0.0532086</td><td style=\"text-align: right;\">-0.185885   </td><td style=\"text-align: right;\">-0.0590879</td><td style=\"text-align: right;\">-0.222026 </td><td style=\"text-align: right;\">-0.0163362</td><td style=\"text-align: right;\">-0.0225729 </td><td style=\"text-align: right;\">-0.0142185 </td><td style=\"text-align: right;\"> 0.0440302 </td><td style=\"text-align: right;\"> 0.022743   </td><td style=\"text-align: right;\"> 0.0469395</td><td style=\"text-align: right;\">0.0253259 </td><td style=\"text-align: right;\"> 0.0223948</td><td style=\"text-align: right;\"> 0.083519   </td><td style=\"text-align: right;\">-0.11347   </td><td style=\"text-align: right;\">-0.032101 </td><td style=\"text-align: right;\"> 0.0108971</td><td style=\"text-align: right;\">0.062278 </td><td style=\"text-align: right;\"> 0.0731622 </td><td style=\"text-align: right;\">-0.0977755</td><td style=\"text-align: right;\">-0.0886781</td><td style=\"text-align: right;\"> 0.0151407 </td><td style=\"text-align: right;\">-0.0285916</td><td style=\"text-align: right;\">-0.0509108</td><td style=\"text-align: right;\">-0.191279</td><td style=\"text-align: right;\">0.18123   </td><td style=\"text-align: right;\">0.217127 </td><td style=\"text-align: right;\">-0.227604 </td><td style=\"text-align: right;\">0.188706</td><td style=\"text-align: right;\"> 0.0540873</td><td style=\"text-align: right;\">-0.116662  </td><td style=\"text-align: right;\"> 0.0861551</td><td style=\"text-align: right;\">-0.144579  </td><td style=\"text-align: right;\">-0.0649543 </td><td style=\"text-align: right;\">-0.0708254</td><td style=\"text-align: right;\">-0.162795 </td><td style=\"text-align: right;\">0.0466426</td><td style=\"text-align: right;\">-0.11952  </td><td style=\"text-align: right;\">-0.0187003</td><td style=\"text-align: right;\">-0.121088 </td><td style=\"text-align: right;\">-0.0103177 </td><td style=\"text-align: right;\">-0.0554456 </td><td style=\"text-align: right;\">-0.054683   </td><td style=\"text-align: right;\">-0.0431289</td><td style=\"text-align: right;\">-0.0157412 </td><td style=\"text-align: right;\">-0.000244728</td><td style=\"text-align: right;\">0.110252 </td><td style=\"text-align: right;\"> 0.0510185 </td><td style=\"text-align: right;\"> 0.051659  </td><td style=\"text-align: right;\">-0.109823  </td><td style=\"text-align: right;\">-0.0511373 </td><td style=\"text-align: right;\">-0.193149 </td><td style=\"text-align: right;\">-0.170353 </td><td style=\"text-align: right;\">-0.0735276  </td><td style=\"text-align: right;\">-0.0744272</td><td style=\"text-align: right;\"> 0.0356884 </td><td style=\"text-align: right;\">-0.00494533</td><td style=\"text-align: right;\"> 0.0331938</td><td style=\"text-align: right;\">-0.0488368 </td><td style=\"text-align: right;\">-0.0161255 </td><td style=\"text-align: right;\">0.181769 </td><td style=\"text-align: right;\">-0.157657 </td><td style=\"text-align: right;\"> 0.0742077</td><td style=\"text-align: right;\">0.116055  </td><td style=\"text-align: right;\"> 0.0168685</td><td style=\"text-align: right;\">-0.160803 </td><td style=\"text-align: right;\">-0.168904  </td><td style=\"text-align: right;\">-0.0114127</td><td style=\"text-align: right;\">-0.0828324</td><td style=\"text-align: right;\">-0.0114552</td><td style=\"text-align: right;\"> 0.00476511</td><td style=\"text-align: right;\"> 0.0921959 </td><td style=\"text-align: right;\"> 0.0667538 </td><td style=\"text-align: right;\">0.106212 </td><td style=\"text-align: right;\">-0.0121606</td><td style=\"text-align: right;\"> 0.0112704 </td><td style=\"text-align: right;\">-0.03159  </td><td style=\"text-align: right;\"> 0.129403  </td><td style=\"text-align: right;\"> 0.0352619</td><td style=\"text-align: right;\">-0.153241  </td><td style=\"text-align: right;\">-0.0352671 </td><td style=\"text-align: right;\">-0.0662767 </td><td style=\"text-align: right;\"> 0.045565  </td><td style=\"text-align: right;\">-0.0776007</td><td style=\"text-align: right;\">0.0347061</td><td style=\"text-align: right;\">-0.0663268</td><td style=\"text-align: right;\"> 0.107787 </td><td style=\"text-align: right;\">-0.0462603</td><td style=\"text-align: right;\">0.114454 </td><td style=\"text-align: right;\"> 0.0922654</td><td style=\"text-align: right;\"> 0.0580654</td><td style=\"text-align: right;\"> 0.100692  </td><td style=\"text-align: right;\">0.0679778</td><td style=\"text-align: right;\"> 0.0320616 </td><td style=\"text-align: right;\">-0.11726   </td></tr>\n",
              "<tr><td style=\"text-align: right;\">-0.217122 </td><td style=\"text-align: right;\">-0.0379145 </td><td style=\"text-align: right;\">-0.0765657 </td><td style=\"text-align: right;\"> 0.0394752</td><td style=\"text-align: right;\">-0.00110029</td><td style=\"text-align: right;\">-0.293891 </td><td style=\"text-align: right;\"> 0.0909564</td><td style=\"text-align: right;\">-0.173212   </td><td style=\"text-align: right;\">-0.13246  </td><td style=\"text-align: right;\">-0.0277798</td><td style=\"text-align: right;\">-0.177144 </td><td style=\"text-align: right;\"> 0.160363  </td><td style=\"text-align: right;\"> 0.0733087 </td><td style=\"text-align: right;\">-0.0449078 </td><td style=\"text-align: right;\">-0.111026   </td><td style=\"text-align: right;\"> 0.163685 </td><td style=\"text-align: right;\">0.34625   </td><td style=\"text-align: right;\">-0.0626887</td><td style=\"text-align: right;\"> 0.075182   </td><td style=\"text-align: right;\">-0.220576  </td><td style=\"text-align: right;\">-0.0984852</td><td style=\"text-align: right;\">-0.0134038</td><td style=\"text-align: right;\">0.0149136</td><td style=\"text-align: right;\"> 0.0378664 </td><td style=\"text-align: right;\"> 0.289688 </td><td style=\"text-align: right;\"> 0.0496132</td><td style=\"text-align: right;\"> 0.0276733 </td><td style=\"text-align: right;\">-0.102476 </td><td style=\"text-align: right;\"> 0.154272 </td><td style=\"text-align: right;\">-0.11592 </td><td style=\"text-align: right;\">0.0849512 </td><td style=\"text-align: right;\">0.128222 </td><td style=\"text-align: right;\">-0.180523 </td><td style=\"text-align: right;\">0.205903</td><td style=\"text-align: right;\"> 0.101697 </td><td style=\"text-align: right;\">-0.0338849 </td><td style=\"text-align: right;\">-0.122362 </td><td style=\"text-align: right;\">-0.131733  </td><td style=\"text-align: right;\">-0.0723143 </td><td style=\"text-align: right;\">-0.0679974</td><td style=\"text-align: right;\"> 0.1563   </td><td style=\"text-align: right;\">0.162016 </td><td style=\"text-align: right;\"> 0.173107 </td><td style=\"text-align: right;\">-0.0390539</td><td style=\"text-align: right;\">-0.397896 </td><td style=\"text-align: right;\">-0.117175  </td><td style=\"text-align: right;\">-0.163055  </td><td style=\"text-align: right;\"> 0.0366099  </td><td style=\"text-align: right;\">-0.0850992</td><td style=\"text-align: right;\">-0.156719  </td><td style=\"text-align: right;\">-0.0747754  </td><td style=\"text-align: right;\">0.161029 </td><td style=\"text-align: right;\"> 0.293004  </td><td style=\"text-align: right;\"> 0.00764813</td><td style=\"text-align: right;\">-0.258956  </td><td style=\"text-align: right;\"> 0.00921009</td><td style=\"text-align: right;\">-0.113354 </td><td style=\"text-align: right;\">-0.0617833</td><td style=\"text-align: right;\">-0.125177   </td><td style=\"text-align: right;\">-0.139348 </td><td style=\"text-align: right;\">-0.151506  </td><td style=\"text-align: right;\">-0.0483318 </td><td style=\"text-align: right;\">-0.0818634</td><td style=\"text-align: right;\"> 0.0982191 </td><td style=\"text-align: right;\"> 0.0204227 </td><td style=\"text-align: right;\">0.110591 </td><td style=\"text-align: right;\"> 0.107152 </td><td style=\"text-align: right;\"> 0.166288 </td><td style=\"text-align: right;\">0.156354  </td><td style=\"text-align: right;\"> 0.17091  </td><td style=\"text-align: right;\">-0.198504 </td><td style=\"text-align: right;\">-0.0965172 </td><td style=\"text-align: right;\"> 0.06737  </td><td style=\"text-align: right;\"> 0.306878 </td><td style=\"text-align: right;\">-0.128152 </td><td style=\"text-align: right;\">-0.119639  </td><td style=\"text-align: right;\"> 0.249156  </td><td style=\"text-align: right;\">-0.00991759</td><td style=\"text-align: right;\">0.0639917</td><td style=\"text-align: right;\"> 0.0959275</td><td style=\"text-align: right;\"> 0.0224301 </td><td style=\"text-align: right;\"> 0.180254 </td><td style=\"text-align: right;\"> 0.0296124 </td><td style=\"text-align: right;\"> 0.121342 </td><td style=\"text-align: right;\">-0.138775  </td><td style=\"text-align: right;\"> 0.0551752 </td><td style=\"text-align: right;\"> 0.145495  </td><td style=\"text-align: right;\">-0.0054366 </td><td style=\"text-align: right;\"> 0.0848417</td><td style=\"text-align: right;\">0.238733 </td><td style=\"text-align: right;\">-0.149104 </td><td style=\"text-align: right;\"> 0.0611704</td><td style=\"text-align: right;\">-0.0745691</td><td style=\"text-align: right;\">0.315587 </td><td style=\"text-align: right;\"> 0.0170121</td><td style=\"text-align: right;\">-0.128338 </td><td style=\"text-align: right;\"> 0.088343  </td><td style=\"text-align: right;\">0.0405423</td><td style=\"text-align: right;\"> 0.145446  </td><td style=\"text-align: right;\"> 0.032947  </td></tr>\n",
              "<tr><td style=\"text-align: right;\"> 0.0397307</td><td style=\"text-align: right;\">-0.065276  </td><td style=\"text-align: right;\"> 0.00741232</td><td style=\"text-align: right;\"> 0.093454 </td><td style=\"text-align: right;\"> 0.088019  </td><td style=\"text-align: right;\">-0.197031 </td><td style=\"text-align: right;\">-0.0564054</td><td style=\"text-align: right;\">-0.0809809  </td><td style=\"text-align: right;\">-0.0394639</td><td style=\"text-align: right;\">-0.0535318</td><td style=\"text-align: right;\"> 0.0343339</td><td style=\"text-align: right;\"> 0.0876263 </td><td style=\"text-align: right;\">-0.0632166 </td><td style=\"text-align: right;\">-0.109698  </td><td style=\"text-align: right;\">-0.0180793  </td><td style=\"text-align: right;\"> 0.0298514</td><td style=\"text-align: right;\">0.0646844 </td><td style=\"text-align: right;\"> 0.0679954</td><td style=\"text-align: right;\">-0.0574268  </td><td style=\"text-align: right;\">-0.0128533 </td><td style=\"text-align: right;\">-0.0749732</td><td style=\"text-align: right;\">-0.105288 </td><td style=\"text-align: right;\">0.05909  </td><td style=\"text-align: right;\"> 0.0120524 </td><td style=\"text-align: right;\"> 0.0140894</td><td style=\"text-align: right;\">-0.0225579</td><td style=\"text-align: right;\">-0.0679918 </td><td style=\"text-align: right;\"> 0.0500567</td><td style=\"text-align: right;\"> 0.108566 </td><td style=\"text-align: right;\">-0.15394 </td><td style=\"text-align: right;\">0.17134   </td><td style=\"text-align: right;\">0.256071 </td><td style=\"text-align: right;\">-0.187886 </td><td style=\"text-align: right;\">0.135793</td><td style=\"text-align: right;\">-0.05985  </td><td style=\"text-align: right;\">-0.139617  </td><td style=\"text-align: right;\">-0.096105 </td><td style=\"text-align: right;\"> 0.0239629 </td><td style=\"text-align: right;\"> 0.0589676 </td><td style=\"text-align: right;\">-0.125431 </td><td style=\"text-align: right;\">-0.238679 </td><td style=\"text-align: right;\">0.0119619</td><td style=\"text-align: right;\"> 0.0653513</td><td style=\"text-align: right;\"> 0.0152901</td><td style=\"text-align: right;\">-0.0927409</td><td style=\"text-align: right;\">-0.117481  </td><td style=\"text-align: right;\">-0.124515  </td><td style=\"text-align: right;\"> 0.129034   </td><td style=\"text-align: right;\"> 0.0413429</td><td style=\"text-align: right;\"> 0.0690145 </td><td style=\"text-align: right;\">-0.0143918  </td><td style=\"text-align: right;\">0.0607932</td><td style=\"text-align: right;\">-0.130571  </td><td style=\"text-align: right;\">-0.18025   </td><td style=\"text-align: right;\">-0.0509844 </td><td style=\"text-align: right;\"> 0.132394  </td><td style=\"text-align: right;\">-0.0986528</td><td style=\"text-align: right;\">-0.222764 </td><td style=\"text-align: right;\">-0.00542027 </td><td style=\"text-align: right;\"> 0.0917266</td><td style=\"text-align: right;\"> 0.0249182 </td><td style=\"text-align: right;\"> 0.0698474 </td><td style=\"text-align: right;\"> 0.0819298</td><td style=\"text-align: right;\">-0.136565  </td><td style=\"text-align: right;\">-0.170441  </td><td style=\"text-align: right;\">0.0716728</td><td style=\"text-align: right;\">-0.0381272</td><td style=\"text-align: right;\"> 0.14474  </td><td style=\"text-align: right;\">0.0101387 </td><td style=\"text-align: right;\">-0.154457 </td><td style=\"text-align: right;\">-0.117588 </td><td style=\"text-align: right;\">-0.0175866 </td><td style=\"text-align: right;\"> 0.0735802</td><td style=\"text-align: right;\"> 0.112952 </td><td style=\"text-align: right;\">-0.015332 </td><td style=\"text-align: right;\">-0.143296  </td><td style=\"text-align: right;\">-0.0352184 </td><td style=\"text-align: right;\">-0.0911978 </td><td style=\"text-align: right;\">0.0852977</td><td style=\"text-align: right;\">-0.12484  </td><td style=\"text-align: right;\"> 0.070562  </td><td style=\"text-align: right;\">-0.211448 </td><td style=\"text-align: right;\"> 0.00744097</td><td style=\"text-align: right;\"> 0.128464 </td><td style=\"text-align: right;\">-0.164394  </td><td style=\"text-align: right;\"> 0.150986  </td><td style=\"text-align: right;\"> 0.128171  </td><td style=\"text-align: right;\"> 0.0021897 </td><td style=\"text-align: right;\"> 0.0501183</td><td style=\"text-align: right;\">0.173888 </td><td style=\"text-align: right;\">-0.175343 </td><td style=\"text-align: right;\">-0.030022 </td><td style=\"text-align: right;\"> 0.0630846</td><td style=\"text-align: right;\">0.089515 </td><td style=\"text-align: right;\"> 0.142613 </td><td style=\"text-align: right;\"> 0.0774401</td><td style=\"text-align: right;\">-0.150984  </td><td style=\"text-align: right;\">0.0983053</td><td style=\"text-align: right;\"> 0.0447101 </td><td style=\"text-align: right;\">-0.0343453 </td></tr>\n",
              "<tr><td style=\"text-align: right;\">-0.0477186</td><td style=\"text-align: right;\"> 0.0521288 </td><td style=\"text-align: right;\"> 0.0448329 </td><td style=\"text-align: right;\"> 0.0848881</td><td style=\"text-align: right;\">-0.0338131 </td><td style=\"text-align: right;\">-0.182584 </td><td style=\"text-align: right;\">-0.092581 </td><td style=\"text-align: right;\">-0.114308   </td><td style=\"text-align: right;\">-0.0725533</td><td style=\"text-align: right;\">-0.0872311</td><td style=\"text-align: right;\">-0.0161835</td><td style=\"text-align: right;\"> 0.147183  </td><td style=\"text-align: right;\">-0.112079  </td><td style=\"text-align: right;\"> 0.00547381</td><td style=\"text-align: right;\"> 0.0158731  </td><td style=\"text-align: right;\"> 0.0270733</td><td style=\"text-align: right;\">0.00605064</td><td style=\"text-align: right;\"> 0.0588798</td><td style=\"text-align: right;\"> 0.0329661  </td><td style=\"text-align: right;\">-0.0522601 </td><td style=\"text-align: right;\">-0.0421182</td><td style=\"text-align: right;\"> 0.0671119</td><td style=\"text-align: right;\">0.0687923</td><td style=\"text-align: right;\"> 0.0647077 </td><td style=\"text-align: right;\">-0.056875 </td><td style=\"text-align: right;\">-0.0443207</td><td style=\"text-align: right;\"> 0.0172464 </td><td style=\"text-align: right;\">-0.10801  </td><td style=\"text-align: right;\"> 0.0225524</td><td style=\"text-align: right;\">-0.152302</td><td style=\"text-align: right;\">0.120774  </td><td style=\"text-align: right;\">0.201931 </td><td style=\"text-align: right;\">-0.063768 </td><td style=\"text-align: right;\">0.118438</td><td style=\"text-align: right;\"> 0.0295355</td><td style=\"text-align: right;\">-0.0621668 </td><td style=\"text-align: right;\">-0.0501627</td><td style=\"text-align: right;\">-0.16682   </td><td style=\"text-align: right;\"> 0.0149372 </td><td style=\"text-align: right;\">-0.110852 </td><td style=\"text-align: right;\">-0.0788958</td><td style=\"text-align: right;\">0.0373667</td><td style=\"text-align: right;\">-0.0103253</td><td style=\"text-align: right;\"> 0.0635553</td><td style=\"text-align: right;\">-0.0808221</td><td style=\"text-align: right;\">-0.090852  </td><td style=\"text-align: right;\">-0.0742489 </td><td style=\"text-align: right;\"> 0.00472996 </td><td style=\"text-align: right;\"> 0.0776736</td><td style=\"text-align: right;\">-0.0184863 </td><td style=\"text-align: right;\"> 0.010009   </td><td style=\"text-align: right;\">0.085224 </td><td style=\"text-align: right;\">-0.0170952 </td><td style=\"text-align: right;\">-0.142094  </td><td style=\"text-align: right;\">-0.070645  </td><td style=\"text-align: right;\"> 0.107754  </td><td style=\"text-align: right;\">-0.218468 </td><td style=\"text-align: right;\">-0.105738 </td><td style=\"text-align: right;\">-0.000669331</td><td style=\"text-align: right;\">-0.0571712</td><td style=\"text-align: right;\">-0.00661826</td><td style=\"text-align: right;\"> 0.00348666</td><td style=\"text-align: right;\"> 0.0543676</td><td style=\"text-align: right;\">-0.0578621 </td><td style=\"text-align: right;\">-0.0246541 </td><td style=\"text-align: right;\">0.135966 </td><td style=\"text-align: right;\">-0.0917457</td><td style=\"text-align: right;\"> 0.0705439</td><td style=\"text-align: right;\">0.0443493 </td><td style=\"text-align: right;\">-0.0424102</td><td style=\"text-align: right;\">-0.162637 </td><td style=\"text-align: right;\">-0.0973383 </td><td style=\"text-align: right;\"> 0.0855448</td><td style=\"text-align: right;\">-0.0193218</td><td style=\"text-align: right;\">-0.0124985</td><td style=\"text-align: right;\">-0.0413631 </td><td style=\"text-align: right;\"> 0.0285019 </td><td style=\"text-align: right;\"> 0.0893659 </td><td style=\"text-align: right;\">0.0565701</td><td style=\"text-align: right;\">-0.0478409</td><td style=\"text-align: right;\">-0.0299073 </td><td style=\"text-align: right;\">-0.0961449</td><td style=\"text-align: right;\"> 0.0656242 </td><td style=\"text-align: right;\"> 0.0948342</td><td style=\"text-align: right;\">-0.112729  </td><td style=\"text-align: right;\"> 0.0360957 </td><td style=\"text-align: right;\"> 0.0589671 </td><td style=\"text-align: right;\">-0.0339519 </td><td style=\"text-align: right;\">-0.0306893</td><td style=\"text-align: right;\">0.247353 </td><td style=\"text-align: right;\">-0.0761177</td><td style=\"text-align: right;\"> 0.118055 </td><td style=\"text-align: right;\">-0.0817715</td><td style=\"text-align: right;\">0.0744052</td><td style=\"text-align: right;\">-0.0253834</td><td style=\"text-align: right;\"> 0.0912567</td><td style=\"text-align: right;\"> 0.00988346</td><td style=\"text-align: right;\">0.105714 </td><td style=\"text-align: right;\"> 0.00263921</td><td style=\"text-align: right;\">-0.00096592</td></tr>\n",
              "<tr><td style=\"text-align: right;\"> 0.0537101</td><td style=\"text-align: right;\"> 0.00972422</td><td style=\"text-align: right;\"> 0.0391609 </td><td style=\"text-align: right;\"> 0.0121519</td><td style=\"text-align: right;\"> 0.0166046 </td><td style=\"text-align: right;\">-0.0776216</td><td style=\"text-align: right;\">-0.0163785</td><td style=\"text-align: right;\">-0.109073   </td><td style=\"text-align: right;\">-0.0780414</td><td style=\"text-align: right;\">-0.147096 </td><td style=\"text-align: right;\">-0.107371 </td><td style=\"text-align: right;\"> 0.0559898 </td><td style=\"text-align: right;\"> 0.00982425</td><td style=\"text-align: right;\">-0.0472874 </td><td style=\"text-align: right;\"> 0.0491958  </td><td style=\"text-align: right;\">-0.0579812</td><td style=\"text-align: right;\">0.0980366 </td><td style=\"text-align: right;\">-0.0240299</td><td style=\"text-align: right;\">-0.0181518  </td><td style=\"text-align: right;\"> 0.0212642 </td><td style=\"text-align: right;\">-0.0968686</td><td style=\"text-align: right;\"> 0.120306 </td><td style=\"text-align: right;\">0.0917285</td><td style=\"text-align: right;\">-0.00507816</td><td style=\"text-align: right;\"> 0.0593743</td><td style=\"text-align: right;\">-0.0043889</td><td style=\"text-align: right;\"> 0.0564269 </td><td style=\"text-align: right;\">-0.0791527</td><td style=\"text-align: right;\">-0.0628572</td><td style=\"text-align: right;\">-0.177016</td><td style=\"text-align: right;\">0.018615  </td><td style=\"text-align: right;\">0.0973184</td><td style=\"text-align: right;\">-0.126958 </td><td style=\"text-align: right;\">0.207058</td><td style=\"text-align: right;\"> 0.0380599</td><td style=\"text-align: right;\">-0.0792784 </td><td style=\"text-align: right;\">-0.154837 </td><td style=\"text-align: right;\">-0.00715282</td><td style=\"text-align: right;\"> 0.0679569 </td><td style=\"text-align: right;\">-0.0646114</td><td style=\"text-align: right;\">-0.080094 </td><td style=\"text-align: right;\">0.179978 </td><td style=\"text-align: right;\">-0.0785799</td><td style=\"text-align: right;\"> 0.0606104</td><td style=\"text-align: right;\">-0.0569911</td><td style=\"text-align: right;\"> 0.114096  </td><td style=\"text-align: right;\"> 0.0549225 </td><td style=\"text-align: right;\"> 0.048169   </td><td style=\"text-align: right;\"> 0.112768 </td><td style=\"text-align: right;\">-0.0723623 </td><td style=\"text-align: right;\"> 0.0486155  </td><td style=\"text-align: right;\">0.0715229</td><td style=\"text-align: right;\">-0.172974  </td><td style=\"text-align: right;\">-0.11997   </td><td style=\"text-align: right;\">-0.00280353</td><td style=\"text-align: right;\">-0.0057355 </td><td style=\"text-align: right;\">-0.15439  </td><td style=\"text-align: right;\">-0.0494753</td><td style=\"text-align: right;\">-0.0440693  </td><td style=\"text-align: right;\">-0.0656034</td><td style=\"text-align: right;\"> 0.0991509 </td><td style=\"text-align: right;\"> 0.0126689 </td><td style=\"text-align: right;\"> 0.0408903</td><td style=\"text-align: right;\">-0.0129867 </td><td style=\"text-align: right;\">-0.00872827</td><td style=\"text-align: right;\">0.0967149</td><td style=\"text-align: right;\">-0.0625122</td><td style=\"text-align: right;\"> 0.093926 </td><td style=\"text-align: right;\">0.00565651</td><td style=\"text-align: right;\">-0.0354425</td><td style=\"text-align: right;\">-0.0582511</td><td style=\"text-align: right;\">-0.0582884 </td><td style=\"text-align: right;\"> 0.0897966</td><td style=\"text-align: right;\">-0.0419598</td><td style=\"text-align: right;\">-0.0664266</td><td style=\"text-align: right;\"> 0.0372881 </td><td style=\"text-align: right;\">-0.00893031</td><td style=\"text-align: right;\"> 0.0246384 </td><td style=\"text-align: right;\">0.12855  </td><td style=\"text-align: right;\">-0.0883225</td><td style=\"text-align: right;\">-0.014172  </td><td style=\"text-align: right;\">-0.12961  </td><td style=\"text-align: right;\"> 0.0177823 </td><td style=\"text-align: right;\"> 0.0219764</td><td style=\"text-align: right;\">-0.028314  </td><td style=\"text-align: right;\"> 0.101952  </td><td style=\"text-align: right;\"> 0.133824  </td><td style=\"text-align: right;\">-0.0924397 </td><td style=\"text-align: right;\"> 0.0848267</td><td style=\"text-align: right;\">0.173645 </td><td style=\"text-align: right;\"> 0.0477681</td><td style=\"text-align: right;\"> 0.135143 </td><td style=\"text-align: right;\">-0.137468 </td><td style=\"text-align: right;\">0.123869 </td><td style=\"text-align: right;\"> 0.0158982</td><td style=\"text-align: right;\">-0.0810069</td><td style=\"text-align: right;\"> 0.0445253 </td><td style=\"text-align: right;\">0.209154 </td><td style=\"text-align: right;\"> 0.0560254 </td><td style=\"text-align: right;\"> 0.161871  </td></tr>\n",
              "<tr><td style=\"text-align: right;\">-0.0983368</td><td style=\"text-align: right;\"> 0.0657293 </td><td style=\"text-align: right;\"> 0.0313987 </td><td style=\"text-align: right;\"> 0.0153246</td><td style=\"text-align: right;\"> 0.016388  </td><td style=\"text-align: right;\">-0.164216 </td><td style=\"text-align: right;\"> 0.0171795</td><td style=\"text-align: right;\">-0.124027   </td><td style=\"text-align: right;\">-0.0198623</td><td style=\"text-align: right;\">-0.0956543</td><td style=\"text-align: right;\">-0.109219 </td><td style=\"text-align: right;\">-0.0245343 </td><td style=\"text-align: right;\">-0.0625198 </td><td style=\"text-align: right;\"> 0.0495986 </td><td style=\"text-align: right;\"> 0.0580533  </td><td style=\"text-align: right;\">-0.0162032</td><td style=\"text-align: right;\">0.22431   </td><td style=\"text-align: right;\">-0.0204056</td><td style=\"text-align: right;\">-0.000871771</td><td style=\"text-align: right;\">-0.0857149 </td><td style=\"text-align: right;\">-0.0408031</td><td style=\"text-align: right;\">-0.0162381</td><td style=\"text-align: right;\">0.191292 </td><td style=\"text-align: right;\">-0.0685123 </td><td style=\"text-align: right;\">-0.0429801</td><td style=\"text-align: right;\">-0.0175337</td><td style=\"text-align: right;\">-0.0227328 </td><td style=\"text-align: right;\">-0.0545869</td><td style=\"text-align: right;\">-0.0281576</td><td style=\"text-align: right;\">-0.183746</td><td style=\"text-align: right;\">0.0622726 </td><td style=\"text-align: right;\">0.100693 </td><td style=\"text-align: right;\">-0.140288 </td><td style=\"text-align: right;\">0.209664</td><td style=\"text-align: right;\"> 0.0841571</td><td style=\"text-align: right;\">-0.0201193 </td><td style=\"text-align: right;\">-0.0559146</td><td style=\"text-align: right;\">-0.0537318 </td><td style=\"text-align: right;\"> 0.00563147</td><td style=\"text-align: right;\">-0.0626691</td><td style=\"text-align: right;\">-0.0295615</td><td style=\"text-align: right;\">0.0463256</td><td style=\"text-align: right;\">-0.103759 </td><td style=\"text-align: right;\"> 0.0197397</td><td style=\"text-align: right;\">-0.149292 </td><td style=\"text-align: right;\">-0.0394404 </td><td style=\"text-align: right;\">-0.00303659</td><td style=\"text-align: right;\"> 0.0334275  </td><td style=\"text-align: right;\">-0.0210321</td><td style=\"text-align: right;\">-0.00996738</td><td style=\"text-align: right;\">-0.0151384  </td><td style=\"text-align: right;\">0.0459657</td><td style=\"text-align: right;\">-0.0104829 </td><td style=\"text-align: right;\">-0.0644481 </td><td style=\"text-align: right;\">-0.118176  </td><td style=\"text-align: right;\">-0.0356793 </td><td style=\"text-align: right;\">-0.185764 </td><td style=\"text-align: right;\">-0.170019 </td><td style=\"text-align: right;\">-0.0962611  </td><td style=\"text-align: right;\">-0.124688 </td><td style=\"text-align: right;\"> 0.0652549 </td><td style=\"text-align: right;\">-0.0294808 </td><td style=\"text-align: right;\"> 0.0155559</td><td style=\"text-align: right;\">-0.0387848 </td><td style=\"text-align: right;\">-0.0487052 </td><td style=\"text-align: right;\">0.154427 </td><td style=\"text-align: right;\">-0.176373 </td><td style=\"text-align: right;\"> 0.131352 </td><td style=\"text-align: right;\">0.0952625 </td><td style=\"text-align: right;\">-0.0407863</td><td style=\"text-align: right;\">-0.0350449</td><td style=\"text-align: right;\">-0.0446196 </td><td style=\"text-align: right;\"> 0.0454164</td><td style=\"text-align: right;\"> 0.0334349</td><td style=\"text-align: right;\">-0.159445 </td><td style=\"text-align: right;\">-0.0422731 </td><td style=\"text-align: right;\">-0.00777801</td><td style=\"text-align: right;\"> 0.0936683 </td><td style=\"text-align: right;\">0.0525736</td><td style=\"text-align: right;\">-0.10604  </td><td style=\"text-align: right;\"> 0.0266166 </td><td style=\"text-align: right;\">-0.100421 </td><td style=\"text-align: right;\"> 0.00867249</td><td style=\"text-align: right;\"> 0.0415421</td><td style=\"text-align: right;\">-0.00304606</td><td style=\"text-align: right;\">-0.0742948 </td><td style=\"text-align: right;\"> 0.0498602 </td><td style=\"text-align: right;\">-0.00144154</td><td style=\"text-align: right;\"> 0.0559012</td><td style=\"text-align: right;\">0.121126 </td><td style=\"text-align: right;\">-0.104808 </td><td style=\"text-align: right;\"> 0.0723406</td><td style=\"text-align: right;\">-0.0750132</td><td style=\"text-align: right;\">0.187483 </td><td style=\"text-align: right;\"> 0.0266422</td><td style=\"text-align: right;\"> 0.0402857</td><td style=\"text-align: right;\"> 0.0429352 </td><td style=\"text-align: right;\">0.0695729</td><td style=\"text-align: right;\"> 0.0324937 </td><td style=\"text-align: right;\"> 0.0372264 </td></tr>\n",
              "<tr><td style=\"text-align: right;\">-0.0239217</td><td style=\"text-align: right;\"> 0.0243709 </td><td style=\"text-align: right;\"> 0.0454166 </td><td style=\"text-align: right;\">-0.0202213</td><td style=\"text-align: right;\"> 0.0195206 </td><td style=\"text-align: right;\">-0.165544 </td><td style=\"text-align: right;\">-0.0235304</td><td style=\"text-align: right;\">-0.0042681  </td><td style=\"text-align: right;\">-0.0289433</td><td style=\"text-align: right;\">-0.190513 </td><td style=\"text-align: right;\">-0.0640362</td><td style=\"text-align: right;\"> 0.0458146 </td><td style=\"text-align: right;\">-0.0413388 </td><td style=\"text-align: right;\"> 0.0348128 </td><td style=\"text-align: right;\">-0.0372237  </td><td style=\"text-align: right;\"> 0.0133557</td><td style=\"text-align: right;\">0.130036  </td><td style=\"text-align: right;\"> 0.0857758</td><td style=\"text-align: right;\">-0.0195434  </td><td style=\"text-align: right;\"> 0.00988243</td><td style=\"text-align: right;\">-0.0818364</td><td style=\"text-align: right;\"> 0.0745099</td><td style=\"text-align: right;\">0.116091 </td><td style=\"text-align: right;\"> 0.0240411 </td><td style=\"text-align: right;\"> 0.108298 </td><td style=\"text-align: right;\">-0.0731968</td><td style=\"text-align: right;\"> 0.0410227 </td><td style=\"text-align: right;\">-0.070965 </td><td style=\"text-align: right;\">-0.154389 </td><td style=\"text-align: right;\">-0.104692</td><td style=\"text-align: right;\">0.0046069 </td><td style=\"text-align: right;\">0.0841813</td><td style=\"text-align: right;\">-0.0769146</td><td style=\"text-align: right;\">0.20376 </td><td style=\"text-align: right;\">-0.0770124</td><td style=\"text-align: right;\">-0.0971068 </td><td style=\"text-align: right;\">-0.156926 </td><td style=\"text-align: right;\"> 0.0107548 </td><td style=\"text-align: right;\"> 0.0125611 </td><td style=\"text-align: right;\">-0.128555 </td><td style=\"text-align: right;\">-0.130174 </td><td style=\"text-align: right;\">0.0550998</td><td style=\"text-align: right;\">-0.11608  </td><td style=\"text-align: right;\"> 0.074782 </td><td style=\"text-align: right;\">-0.0888045</td><td style=\"text-align: right;\"> 0.00679334</td><td style=\"text-align: right;\">-0.048285  </td><td style=\"text-align: right;\"> 0.0242896  </td><td style=\"text-align: right;\"> 0.0989886</td><td style=\"text-align: right;\">-0.136314  </td><td style=\"text-align: right;\"> 0.0872177  </td><td style=\"text-align: right;\">0.114495 </td><td style=\"text-align: right;\">-0.00128213</td><td style=\"text-align: right;\">-0.0756204 </td><td style=\"text-align: right;\">-0.0141633 </td><td style=\"text-align: right;\">-0.0888953 </td><td style=\"text-align: right;\">-0.187575 </td><td style=\"text-align: right;\">-0.0641854</td><td style=\"text-align: right;\">-0.0313413  </td><td style=\"text-align: right;\">-0.102615 </td><td style=\"text-align: right;\"> 0.0338401 </td><td style=\"text-align: right;\"> 0.0567165 </td><td style=\"text-align: right;\"> 0.0742776</td><td style=\"text-align: right;\"> 0.0160936 </td><td style=\"text-align: right;\">-0.078883  </td><td style=\"text-align: right;\">0.139509 </td><td style=\"text-align: right;\">-0.1162   </td><td style=\"text-align: right;\"> 0.104776 </td><td style=\"text-align: right;\">0.0919288 </td><td style=\"text-align: right;\"> 0.0844008</td><td style=\"text-align: right;\">-0.0550343</td><td style=\"text-align: right;\"> 0.00460685</td><td style=\"text-align: right;\"> 0.0993339</td><td style=\"text-align: right;\">-0.0583599</td><td style=\"text-align: right;\">-0.086449 </td><td style=\"text-align: right;\">-0.0407736 </td><td style=\"text-align: right;\"> 0.0498409 </td><td style=\"text-align: right;\"> 0.0466552 </td><td style=\"text-align: right;\">0.110321 </td><td style=\"text-align: right;\">-0.0653351</td><td style=\"text-align: right;\">-0.00906287</td><td style=\"text-align: right;\">-0.064094 </td><td style=\"text-align: right;\"> 0.0938774 </td><td style=\"text-align: right;\"> 0.0553056</td><td style=\"text-align: right;\">-0.0771368 </td><td style=\"text-align: right;\">-0.0429937 </td><td style=\"text-align: right;\"> 0.0332478 </td><td style=\"text-align: right;\">-0.039004  </td><td style=\"text-align: right;\"> 0.0873406</td><td style=\"text-align: right;\">0.133115 </td><td style=\"text-align: right;\"> 0.0526529</td><td style=\"text-align: right;\"> 0.0736993</td><td style=\"text-align: right;\">-0.102334 </td><td style=\"text-align: right;\">0.127062 </td><td style=\"text-align: right;\"> 0.0481595</td><td style=\"text-align: right;\"> 0.0126945</td><td style=\"text-align: right;\"> 0.0482119 </td><td style=\"text-align: right;\">0.100826 </td><td style=\"text-align: right;\"> 0.0968883 </td><td style=\"text-align: right;\"> 0.0067774 </td></tr>\n",
              "<tr><td style=\"text-align: right;\"> 0.108407 </td><td style=\"text-align: right;\"> 0.0374692 </td><td style=\"text-align: right;\">-0.0482207 </td><td style=\"text-align: right;\">-0.0157109</td><td style=\"text-align: right;\">-0.0319836 </td><td style=\"text-align: right;\">-0.119566 </td><td style=\"text-align: right;\">-0.0516051</td><td style=\"text-align: right;\">-0.0490043  </td><td style=\"text-align: right;\">-0.0654675</td><td style=\"text-align: right;\">-0.143896 </td><td style=\"text-align: right;\">-0.0785652</td><td style=\"text-align: right;\">-0.00710876</td><td style=\"text-align: right;\">-0.103597  </td><td style=\"text-align: right;\"> 0.0660499 </td><td style=\"text-align: right;\"> 0.000269195</td><td style=\"text-align: right;\"> 0.0557362</td><td style=\"text-align: right;\">0.0188121 </td><td style=\"text-align: right;\"> 0.0705923</td><td style=\"text-align: right;\">-0.0401105  </td><td style=\"text-align: right;\"> 0.0402104 </td><td style=\"text-align: right;\">-0.0349297</td><td style=\"text-align: right;\"> 0.0184679</td><td style=\"text-align: right;\">0.0331472</td><td style=\"text-align: right;\">-0.0288494 </td><td style=\"text-align: right;\"> 0.0643358</td><td style=\"text-align: right;\">-0.0628863</td><td style=\"text-align: right;\">-0.00984223</td><td style=\"text-align: right;\">-0.157297 </td><td style=\"text-align: right;\">-0.0529327</td><td style=\"text-align: right;\">-0.178825</td><td style=\"text-align: right;\">0.00131181</td><td style=\"text-align: right;\">0.0263398</td><td style=\"text-align: right;\">-0.193814 </td><td style=\"text-align: right;\">0.184727</td><td style=\"text-align: right;\"> 0.0331216</td><td style=\"text-align: right;\">-0.109312  </td><td style=\"text-align: right;\">-0.202669 </td><td style=\"text-align: right;\">-0.0145121 </td><td style=\"text-align: right;\">-0.0806791 </td><td style=\"text-align: right;\">-0.100926 </td><td style=\"text-align: right;\">-0.0653633</td><td style=\"text-align: right;\">0.135904 </td><td style=\"text-align: right;\">-0.110909 </td><td style=\"text-align: right;\"> 0.0739244</td><td style=\"text-align: right;\">-0.108689 </td><td style=\"text-align: right;\"> 0.117161  </td><td style=\"text-align: right;\"> 0.00871807</td><td style=\"text-align: right;\"> 0.000985936</td><td style=\"text-align: right;\"> 0.111138 </td><td style=\"text-align: right;\">-0.179414  </td><td style=\"text-align: right;\"> 0.125921   </td><td style=\"text-align: right;\">0.064698 </td><td style=\"text-align: right;\">-0.0600732 </td><td style=\"text-align: right;\">-0.155079  </td><td style=\"text-align: right;\">-0.10725   </td><td style=\"text-align: right;\">-0.0530417 </td><td style=\"text-align: right;\">-0.181667 </td><td style=\"text-align: right;\">-0.0823671</td><td style=\"text-align: right;\">-0.070988   </td><td style=\"text-align: right;\">-0.102726 </td><td style=\"text-align: right;\"> 0.018259  </td><td style=\"text-align: right;\"> 0.100539  </td><td style=\"text-align: right;\"> 0.063692 </td><td style=\"text-align: right;\">-0.00124149</td><td style=\"text-align: right;\">-0.0556576 </td><td style=\"text-align: right;\">0.0980347</td><td style=\"text-align: right;\">-0.0422829</td><td style=\"text-align: right;\"> 0.0720827</td><td style=\"text-align: right;\">0.0465418 </td><td style=\"text-align: right;\"> 0.0104269</td><td style=\"text-align: right;\">-0.0797032</td><td style=\"text-align: right;\">-0.0742989 </td><td style=\"text-align: right;\"> 0.0747988</td><td style=\"text-align: right;\">-0.0463163</td><td style=\"text-align: right;\">-0.0205138</td><td style=\"text-align: right;\">-0.0503886 </td><td style=\"text-align: right;\"> 0.0113503 </td><td style=\"text-align: right;\"> 0.0765256 </td><td style=\"text-align: right;\">0.106867 </td><td style=\"text-align: right;\">-0.0895637</td><td style=\"text-align: right;\">-0.024982  </td><td style=\"text-align: right;\">-0.0483772</td><td style=\"text-align: right;\"> 0.132625  </td><td style=\"text-align: right;\">-0.087546 </td><td style=\"text-align: right;\"> 0.0224911 </td><td style=\"text-align: right;\">-0.0373219 </td><td style=\"text-align: right;\"> 0.0890031 </td><td style=\"text-align: right;\">-0.0716769 </td><td style=\"text-align: right;\"> 0.0748597</td><td style=\"text-align: right;\">0.145442 </td><td style=\"text-align: right;\"> 0.0501798</td><td style=\"text-align: right;\"> 0.0799065</td><td style=\"text-align: right;\">-0.0688645</td><td style=\"text-align: right;\">0.114335 </td><td style=\"text-align: right;\"> 0.0661445</td><td style=\"text-align: right;\"> 0.0642704</td><td style=\"text-align: right;\">-0.0488028 </td><td style=\"text-align: right;\">0.0815671</td><td style=\"text-align: right;\">-0.0686302 </td><td style=\"text-align: right;\"> 0.0677783 </td></tr>\n",
              "</tbody>\n",
              "</table>"
            ]
          },
          "metadata": {
            "tags": []
          }
        },
        {
          "output_type": "execute_result",
          "data": {
            "text/plain": [
              ""
            ]
          },
          "metadata": {
            "tags": []
          },
          "execution_count": 32
        }
      ]
    },
    {
      "cell_type": "code",
      "metadata": {
        "id": "oO3N1dUuDxG-",
        "colab_type": "code",
        "colab": {}
      },
      "source": [
        "h2o_df_ext=h2o_df.cbind(reviews_vecs)"
      ],
      "execution_count": null,
      "outputs": []
    },
    {
      "cell_type": "code",
      "metadata": {
        "id": "EYeT-blSKSbA",
        "colab_type": "code",
        "colab": {}
      },
      "source": [
        "h2o_train,h2o_valid = h2o_df_ext.split_frame(ratios=[0.8])"
      ],
      "execution_count": null,
      "outputs": []
    },
    {
      "cell_type": "code",
      "metadata": {
        "id": "u_mcxr9aL2fH",
        "colab_type": "code",
        "colab": {
          "base_uri": "https://localhost:8080/",
          "height": 83
        },
        "outputId": "6f6e50d6-ad09-4c05-9db1-f4a0eb739e56"
      },
      "source": [
        "h2o_valid['target'].table()"
      ],
      "execution_count": null,
      "outputs": [
        {
          "output_type": "display_data",
          "data": {
            "text/html": [
              "<table>\n",
              "<thead>\n",
              "<tr><th style=\"text-align: right;\">  target</th><th style=\"text-align: right;\">  Count</th></tr>\n",
              "</thead>\n",
              "<tbody>\n",
              "<tr><td style=\"text-align: right;\">       0</td><td style=\"text-align: right;\">   4599</td></tr>\n",
              "<tr><td style=\"text-align: right;\">       1</td><td style=\"text-align: right;\">  12693</td></tr>\n",
              "</tbody>\n",
              "</table>"
            ]
          },
          "metadata": {
            "tags": []
          }
        },
        {
          "output_type": "execute_result",
          "data": {
            "text/plain": [
              ""
            ]
          },
          "metadata": {
            "tags": []
          },
          "execution_count": 35
        }
      ]
    },
    {
      "cell_type": "code",
      "metadata": {
        "id": "74QLnVAbL8D6",
        "colab_type": "code",
        "colab": {}
      },
      "source": [
        "gbm_baseline = H2OGradientBoostingEstimator(stopping_metric=\"AUC\", stopping_tolerance=0.001, stopping_rounds=5, score_tree_interval=10)\n",
        "# every 10 tree score and check the model performance"
      ],
      "execution_count": null,
      "outputs": []
    },
    {
      "cell_type": "code",
      "metadata": {
        "id": "Lznwud2TMYjD",
        "colab_type": "code",
        "colab": {
          "base_uri": "https://localhost:8080/",
          "height": 35
        },
        "outputId": "ec438fb6-1f5b-4232-dc6a-8f90261f5861"
      },
      "source": [
        "gbm_baseline.train(x=reviews_vecs.names,y='target',training_frame=h2o_train,validation_frame=h2o_valid)"
      ],
      "execution_count": null,
      "outputs": [
        {
          "output_type": "stream",
          "text": [
            "gbm Model Build progress: |███████████████████████████████████████████████| 100%\n"
          ],
          "name": "stdout"
        }
      ]
    },
    {
      "cell_type": "code",
      "metadata": {
        "id": "NekaLtMLMw-P",
        "colab_type": "code",
        "colab": {
          "base_uri": "https://localhost:8080/",
          "height": 35
        },
        "outputId": "46f7291d-bb89-4a85-a0de-ee1358ea104c"
      },
      "source": [
        "print(\"Baseline AUC : \" + str(round(gbm_baseline.auc(valid=True),3)))"
      ],
      "execution_count": null,
      "outputs": [
        {
          "output_type": "stream",
          "text": [
            "Baseline AUC : 0.871\n"
          ],
          "name": "stdout"
        }
      ]
    },
    {
      "cell_type": "code",
      "metadata": {
        "id": "nWhqFOnwNHwe",
        "colab_type": "code",
        "colab": {
          "base_uri": "https://localhost:8080/",
          "height": 180
        },
        "outputId": "77ef032a-59c8-4f43-ad74-8fea014852bc"
      },
      "source": [
        "gbm_baseline.confusion_matrix(valid=True)"
      ],
      "execution_count": null,
      "outputs": [
        {
          "output_type": "stream",
          "text": [
            "\n",
            "Confusion Matrix (Act/Pred) for max f1 @ threshold = 0.4995541831165068: \n"
          ],
          "name": "stdout"
        },
        {
          "output_type": "display_data",
          "data": {
            "text/html": [
              "<div>\n",
              "<style scoped>\n",
              "    .dataframe tbody tr th:only-of-type {\n",
              "        vertical-align: middle;\n",
              "    }\n",
              "\n",
              "    .dataframe tbody tr th {\n",
              "        vertical-align: top;\n",
              "    }\n",
              "\n",
              "    .dataframe thead th {\n",
              "        text-align: right;\n",
              "    }\n",
              "</style>\n",
              "<table border=\"1\" class=\"dataframe\">\n",
              "  <thead>\n",
              "    <tr style=\"text-align: right;\">\n",
              "      <th></th>\n",
              "      <th></th>\n",
              "      <th>0</th>\n",
              "      <th>1</th>\n",
              "      <th>Error</th>\n",
              "      <th>Rate</th>\n",
              "    </tr>\n",
              "  </thead>\n",
              "  <tbody>\n",
              "    <tr>\n",
              "      <th>0</th>\n",
              "      <td>0</td>\n",
              "      <td>2214.0</td>\n",
              "      <td>2385.0</td>\n",
              "      <td>0.5186</td>\n",
              "      <td>(2385.0/4599.0)</td>\n",
              "    </tr>\n",
              "    <tr>\n",
              "      <th>1</th>\n",
              "      <td>1</td>\n",
              "      <td>600.0</td>\n",
              "      <td>12093.0</td>\n",
              "      <td>0.0473</td>\n",
              "      <td>(600.0/12693.0)</td>\n",
              "    </tr>\n",
              "    <tr>\n",
              "      <th>2</th>\n",
              "      <td>Total</td>\n",
              "      <td>2814.0</td>\n",
              "      <td>14478.0</td>\n",
              "      <td>0.1726</td>\n",
              "      <td>(2985.0/17292.0)</td>\n",
              "    </tr>\n",
              "  </tbody>\n",
              "</table>\n",
              "</div>"
            ],
            "text/plain": [
              "               0        1   Error               Rate\n",
              "0      0  2214.0   2385.0  0.5186    (2385.0/4599.0)\n",
              "1      1   600.0  12093.0  0.0473    (600.0/12693.0)\n",
              "2  Total  2814.0  14478.0  0.1726   (2985.0/17292.0)"
            ]
          },
          "metadata": {
            "tags": []
          }
        },
        {
          "output_type": "execute_result",
          "data": {
            "text/plain": [
              ""
            ]
          },
          "metadata": {
            "tags": []
          },
          "execution_count": 39
        }
      ]
    },
    {
      "cell_type": "code",
      "metadata": {
        "id": "JX7jLqDBNlsc",
        "colab_type": "code",
        "colab": {}
      },
      "source": [
        "gbm_balanced = H2OGradientBoostingEstimator(stopping_metric=\"AUC\", stopping_tolerance=0.001, stopping_rounds=5, score_tree_interval=10, balance_classes=True)"
      ],
      "execution_count": null,
      "outputs": []
    },
    {
      "cell_type": "code",
      "metadata": {
        "id": "wRsGlKoVN5jS",
        "colab_type": "code",
        "colab": {
          "base_uri": "https://localhost:8080/",
          "height": 35
        },
        "outputId": "77b28cf8-d50d-4282-9677-8dacc574aecd"
      },
      "source": [
        "gbm_balanced.train(x=reviews_vecs.names,y='target',training_frame=h2o_train,validation_frame=h2o_valid)"
      ],
      "execution_count": null,
      "outputs": [
        {
          "output_type": "stream",
          "text": [
            "gbm Model Build progress: |███████████████████████████████████████████████| 100%\n"
          ],
          "name": "stdout"
        }
      ]
    },
    {
      "cell_type": "code",
      "metadata": {
        "id": "kkEKlyXJOByP",
        "colab_type": "code",
        "colab": {
          "base_uri": "https://localhost:8080/",
          "height": 35
        },
        "outputId": "322b6722-eb24-4197-baa2-c5dbebb9f22f"
      },
      "source": [
        "print(\"Balanced AUC : \" + str(round(gbm_balanced.auc(valid=True),3)))"
      ],
      "execution_count": null,
      "outputs": [
        {
          "output_type": "stream",
          "text": [
            "Balanced AUC : 0.872\n"
          ],
          "name": "stdout"
        }
      ]
    },
    {
      "cell_type": "code",
      "metadata": {
        "id": "j20NpwGDOMWr",
        "colab_type": "code",
        "colab": {
          "base_uri": "https://localhost:8080/",
          "height": 180
        },
        "outputId": "5ee53182-ac21-403f-9da9-d72ba5e5e485"
      },
      "source": [
        "gbm_balanced.confusion_matrix(valid=True)"
      ],
      "execution_count": null,
      "outputs": [
        {
          "output_type": "stream",
          "text": [
            "\n",
            "Confusion Matrix (Act/Pred) for max f1 @ threshold = 0.5139255679929973: \n"
          ],
          "name": "stdout"
        },
        {
          "output_type": "display_data",
          "data": {
            "text/html": [
              "<div>\n",
              "<style scoped>\n",
              "    .dataframe tbody tr th:only-of-type {\n",
              "        vertical-align: middle;\n",
              "    }\n",
              "\n",
              "    .dataframe tbody tr th {\n",
              "        vertical-align: top;\n",
              "    }\n",
              "\n",
              "    .dataframe thead th {\n",
              "        text-align: right;\n",
              "    }\n",
              "</style>\n",
              "<table border=\"1\" class=\"dataframe\">\n",
              "  <thead>\n",
              "    <tr style=\"text-align: right;\">\n",
              "      <th></th>\n",
              "      <th></th>\n",
              "      <th>0</th>\n",
              "      <th>1</th>\n",
              "      <th>Error</th>\n",
              "      <th>Rate</th>\n",
              "    </tr>\n",
              "  </thead>\n",
              "  <tbody>\n",
              "    <tr>\n",
              "      <th>0</th>\n",
              "      <td>0</td>\n",
              "      <td>2202.0</td>\n",
              "      <td>2397.0</td>\n",
              "      <td>0.5212</td>\n",
              "      <td>(2397.0/4599.0)</td>\n",
              "    </tr>\n",
              "    <tr>\n",
              "      <th>1</th>\n",
              "      <td>1</td>\n",
              "      <td>567.0</td>\n",
              "      <td>12126.0</td>\n",
              "      <td>0.0447</td>\n",
              "      <td>(567.0/12693.0)</td>\n",
              "    </tr>\n",
              "    <tr>\n",
              "      <th>2</th>\n",
              "      <td>Total</td>\n",
              "      <td>2769.0</td>\n",
              "      <td>14523.0</td>\n",
              "      <td>0.1714</td>\n",
              "      <td>(2964.0/17292.0)</td>\n",
              "    </tr>\n",
              "  </tbody>\n",
              "</table>\n",
              "</div>"
            ],
            "text/plain": [
              "               0        1   Error               Rate\n",
              "0      0  2202.0   2397.0  0.5212    (2397.0/4599.0)\n",
              "1      1   567.0  12126.0  0.0447    (567.0/12693.0)\n",
              "2  Total  2769.0  14523.0  0.1714   (2964.0/17292.0)"
            ]
          },
          "metadata": {
            "tags": []
          }
        },
        {
          "output_type": "execute_result",
          "data": {
            "text/plain": [
              ""
            ]
          },
          "metadata": {
            "tags": []
          },
          "execution_count": 43
        }
      ]
    },
    {
      "cell_type": "code",
      "metadata": {
        "id": "S4UWYVKsOs8e",
        "colab_type": "code",
        "colab": {
          "base_uri": "https://localhost:8080/",
          "height": 568
        },
        "outputId": "b55adcf9-0371-4ae3-d134-58226b9fc34e"
      },
      "source": [
        "h2o_train.head(1)"
      ],
      "execution_count": null,
      "outputs": [
        {
          "output_type": "display_data",
          "data": {
            "text/html": [
              "<table>\n",
              "<thead>\n",
              "<tr><th style=\"text-align: right;\">  votes</th><th>headline                                                                 </th><th>reviews                                                                                                                                                                                                                                                                                                         </th><th style=\"text-align: right;\">  rating</th><th style=\"text-align: right;\">  target</th><th style=\"text-align: right;\">        C1</th><th style=\"text-align: right;\">       C2</th><th style=\"text-align: right;\">       C3</th><th style=\"text-align: right;\">       C4</th><th style=\"text-align: right;\">        C5</th><th style=\"text-align: right;\">       C6</th><th style=\"text-align: right;\">      C7</th><th style=\"text-align: right;\">        C8</th><th style=\"text-align: right;\">       C9</th><th style=\"text-align: right;\">      C10</th><th style=\"text-align: right;\">      C11</th><th style=\"text-align: right;\">        C12</th><th style=\"text-align: right;\">       C13</th><th style=\"text-align: right;\">       C14</th><th style=\"text-align: right;\">     C15</th><th style=\"text-align: right;\">       C16</th><th style=\"text-align: right;\">      C17</th><th style=\"text-align: right;\">      C18</th><th style=\"text-align: right;\">       C19</th><th style=\"text-align: right;\">       C20</th><th style=\"text-align: right;\">       C21</th><th style=\"text-align: right;\">      C22</th><th style=\"text-align: right;\">      C23</th><th style=\"text-align: right;\">       C24</th><th style=\"text-align: right;\">      C25</th><th style=\"text-align: right;\">      C26</th><th style=\"text-align: right;\">       C27</th><th style=\"text-align: right;\">      C28</th><th style=\"text-align: right;\">      C29</th><th style=\"text-align: right;\">      C30</th><th style=\"text-align: right;\">       C31</th><th style=\"text-align: right;\">     C32</th><th style=\"text-align: right;\">      C33</th><th style=\"text-align: right;\">     C34</th><th style=\"text-align: right;\">     C35</th><th style=\"text-align: right;\">       C36</th><th style=\"text-align: right;\">      C37</th><th style=\"text-align: right;\">       C38</th><th style=\"text-align: right;\">      C39</th><th style=\"text-align: right;\">       C40</th><th style=\"text-align: right;\">       C41</th><th style=\"text-align: right;\">      C42</th><th style=\"text-align: right;\">     C43</th><th style=\"text-align: right;\">      C44</th><th style=\"text-align: right;\">      C45</th><th style=\"text-align: right;\">      C46</th><th style=\"text-align: right;\">      C47</th><th style=\"text-align: right;\">     C48</th><th style=\"text-align: right;\">     C49</th><th style=\"text-align: right;\">       C50</th><th style=\"text-align: right;\">      C51</th><th style=\"text-align: right;\">     C52</th><th style=\"text-align: right;\">      C53</th><th style=\"text-align: right;\">       C54</th><th style=\"text-align: right;\">       C55</th><th style=\"text-align: right;\">      C56</th><th style=\"text-align: right;\">      C57</th><th style=\"text-align: right;\">      C58</th><th style=\"text-align: right;\">      C59</th><th style=\"text-align: right;\">      C60</th><th style=\"text-align: right;\">      C61</th><th style=\"text-align: right;\">      C62</th><th style=\"text-align: right;\">       C63</th><th style=\"text-align: right;\">     C64</th><th style=\"text-align: right;\">       C65</th><th style=\"text-align: right;\">    C66</th><th style=\"text-align: right;\">      C67</th><th style=\"text-align: right;\">     C68</th><th style=\"text-align: right;\">      C69</th><th style=\"text-align: right;\">      C70</th><th style=\"text-align: right;\">       C71</th><th style=\"text-align: right;\">      C72</th><th style=\"text-align: right;\">       C73</th><th style=\"text-align: right;\">      C74</th><th style=\"text-align: right;\">       C75</th><th style=\"text-align: right;\">       C76</th><th style=\"text-align: right;\">     C77</th><th style=\"text-align: right;\">      C78</th><th style=\"text-align: right;\">      C79</th><th style=\"text-align: right;\">       C80</th><th style=\"text-align: right;\">       C81</th><th style=\"text-align: right;\">      C82</th><th style=\"text-align: right;\">      C83</th><th style=\"text-align: right;\">       C84</th><th style=\"text-align: right;\">       C85</th><th style=\"text-align: right;\">       C86</th><th style=\"text-align: right;\">       C87</th><th style=\"text-align: right;\">      C88</th><th style=\"text-align: right;\">       C89</th><th style=\"text-align: right;\">     C90</th><th style=\"text-align: right;\">      C91</th><th style=\"text-align: right;\">       C92</th><th style=\"text-align: right;\">       C93</th><th style=\"text-align: right;\">     C94</th><th style=\"text-align: right;\">       C95</th><th style=\"text-align: right;\">       C96</th><th style=\"text-align: right;\">      C97</th><th style=\"text-align: right;\">     C98</th><th style=\"text-align: right;\">       C99</th><th style=\"text-align: right;\">     C100</th></tr>\n",
              "</thead>\n",
              "<tbody>\n",
              "<tr><td style=\"text-align: right;\">      0</td><td>b&#x27;These glasses are an excellent value. The fit is good and they are ...&#x27;</td><td>b&quot;These glasses are an excellent value.  The fit is good and they are very comfortable.  Because of my legal blindness, there aren&#x27;t a lot of options to try to see better, but I believe these help with my other visual aids, and because they are reasonably priced I can have more than one pair available.&quot;</td><td style=\"text-align: right;\">       4</td><td style=\"text-align: right;\">       1</td><td style=\"text-align: right;\">-0.0223372</td><td style=\"text-align: right;\">-0.101462</td><td style=\"text-align: right;\">-0.114809</td><td style=\"text-align: right;\">0.0168284</td><td style=\"text-align: right;\">-0.0164921</td><td style=\"text-align: right;\">-0.209223</td><td style=\"text-align: right;\">0.118498</td><td style=\"text-align: right;\">-0.0710567</td><td style=\"text-align: right;\">0.0210932</td><td style=\"text-align: right;\">-0.154157</td><td style=\"text-align: right;\">0.0635977</td><td style=\"text-align: right;\">-0.00185601</td><td style=\"text-align: right;\">-0.0727741</td><td style=\"text-align: right;\">-0.0610006</td><td style=\"text-align: right;\">0.102627</td><td style=\"text-align: right;\">-0.0395098</td><td style=\"text-align: right;\">0.0940937</td><td style=\"text-align: right;\">0.0677023</td><td style=\"text-align: right;\">-0.0380843</td><td style=\"text-align: right;\">-0.0447035</td><td style=\"text-align: right;\">-0.0230255</td><td style=\"text-align: right;\">0.0230214</td><td style=\"text-align: right;\">0.0187316</td><td style=\"text-align: right;\">-0.0904272</td><td style=\"text-align: right;\">0.0431126</td><td style=\"text-align: right;\">0.0424661</td><td style=\"text-align: right;\">-0.0318441</td><td style=\"text-align: right;\">-0.128164</td><td style=\"text-align: right;\">0.0253027</td><td style=\"text-align: right;\">-0.120625</td><td style=\"text-align: right;\">0.00727081</td><td style=\"text-align: right;\">0.016413</td><td style=\"text-align: right;\">-0.180465</td><td style=\"text-align: right;\">0.190324</td><td style=\"text-align: right;\">0.149646</td><td style=\"text-align: right;\">-0.0606092</td><td style=\"text-align: right;\">-0.043471</td><td style=\"text-align: right;\">-0.0721251</td><td style=\"text-align: right;\">0.0530331</td><td style=\"text-align: right;\">-0.0879348</td><td style=\"text-align: right;\">-0.0577949</td><td style=\"text-align: right;\">0.0812804</td><td style=\"text-align: right;\">-0.10003</td><td style=\"text-align: right;\">0.0465885</td><td style=\"text-align: right;\">-0.217203</td><td style=\"text-align: right;\">-0.124892</td><td style=\"text-align: right;\">0.0971409</td><td style=\"text-align: right;\">0.165828</td><td style=\"text-align: right;\">0.119346</td><td style=\"text-align: right;\">-0.0368911</td><td style=\"text-align: right;\">0.0144467</td><td style=\"text-align: right;\">0.227636</td><td style=\"text-align: right;\">-0.047465</td><td style=\"text-align: right;\">-0.0402355</td><td style=\"text-align: right;\">-0.0318393</td><td style=\"text-align: right;\">0.0225555</td><td style=\"text-align: right;\">-0.154678</td><td style=\"text-align: right;\">-0.101554</td><td style=\"text-align: right;\">-0.064337</td><td style=\"text-align: right;\">-0.120972</td><td style=\"text-align: right;\">0.0605503</td><td style=\"text-align: right;\">0.0218879</td><td style=\"text-align: right;\">-0.0178567</td><td style=\"text-align: right;\">0.069446</td><td style=\"text-align: right;\">-0.0695093</td><td style=\"text-align: right;\">0.12788</td><td style=\"text-align: right;\">-0.100261</td><td style=\"text-align: right;\">0.200735</td><td style=\"text-align: right;\">0.0134966</td><td style=\"text-align: right;\">-0.001627</td><td style=\"text-align: right;\">-0.0622683</td><td style=\"text-align: right;\">-0.166953</td><td style=\"text-align: right;\">-0.0527882</td><td style=\"text-align: right;\">0.0973388</td><td style=\"text-align: right;\">-0.0543453</td><td style=\"text-align: right;\">-0.0653365</td><td style=\"text-align: right;\">0.040781</td><td style=\"text-align: right;\">0.0344796</td><td style=\"text-align: right;\">0.0962445</td><td style=\"text-align: right;\">-0.0734966</td><td style=\"text-align: right;\">-0.0314222</td><td style=\"text-align: right;\">-0.126654</td><td style=\"text-align: right;\">0.0556344</td><td style=\"text-align: right;\">-0.0908684</td><td style=\"text-align: right;\">-0.0590143</td><td style=\"text-align: right;\">-0.0167966</td><td style=\"text-align: right;\">0.00991901</td><td style=\"text-align: right;\">-0.127366</td><td style=\"text-align: right;\">-0.0127771</td><td style=\"text-align: right;\">0.225748</td><td style=\"text-align: right;\">-0.049723</td><td style=\"text-align: right;\">-0.0184968</td><td style=\"text-align: right;\">-0.0520713</td><td style=\"text-align: right;\">0.238112</td><td style=\"text-align: right;\">-0.0866913</td><td style=\"text-align: right;\">-0.0329198</td><td style=\"text-align: right;\">0.0293844</td><td style=\"text-align: right;\">0.075375</td><td style=\"text-align: right;\">-0.0104086</td><td style=\"text-align: right;\">0.0773219</td></tr>\n",
              "</tbody>\n",
              "</table>"
            ]
          },
          "metadata": {
            "tags": []
          }
        },
        {
          "output_type": "execute_result",
          "data": {
            "text/plain": [
              ""
            ]
          },
          "metadata": {
            "tags": []
          },
          "execution_count": 44
        }
      ]
    },
    {
      "cell_type": "code",
      "metadata": {
        "id": "Q4MOPtz1OWK4",
        "colab_type": "code",
        "colab": {}
      },
      "source": [
        "gbm_add_cols = H2OGradientBoostingEstimator(stopping_metric=\"AUC\", stopping_tolerance=0.001, stopping_rounds=5, score_tree_interval=10)"
      ],
      "execution_count": null,
      "outputs": []
    },
    {
      "cell_type": "code",
      "metadata": {
        "id": "7CIbnESvOe_Q",
        "colab_type": "code",
        "colab": {
          "base_uri": "https://localhost:8080/",
          "height": 35
        },
        "outputId": "054cc619-52d1-4e3f-c8fc-4d0feddd767e"
      },
      "source": [
        "gbm_add_cols.train(x=['votes']+reviews_vecs.names,y='target',training_frame=h2o_train,validation_frame=h2o_valid)"
      ],
      "execution_count": null,
      "outputs": [
        {
          "output_type": "stream",
          "text": [
            "gbm Model Build progress: |███████████████████████████████████████████████| 100%\n"
          ],
          "name": "stdout"
        }
      ]
    },
    {
      "cell_type": "code",
      "metadata": {
        "id": "72f8bL35O41T",
        "colab_type": "code",
        "colab": {
          "base_uri": "https://localhost:8080/",
          "height": 35
        },
        "outputId": "d776ad20-e781-4826-ec5a-dd0b4e5fecf9"
      },
      "source": [
        "print(\"Add Columns AUC : \" + str(round(gbm_add_cols.auc(valid=True),3)))"
      ],
      "execution_count": null,
      "outputs": [
        {
          "output_type": "stream",
          "text": [
            "Add Columns AUC : 0.871\n"
          ],
          "name": "stdout"
        }
      ]
    },
    {
      "cell_type": "code",
      "metadata": {
        "id": "C9CiTKx0PBUK",
        "colab_type": "code",
        "colab": {
          "base_uri": "https://localhost:8080/",
          "height": 180
        },
        "outputId": "11305c0b-1d3f-4ce3-8b70-05eb74230e83"
      },
      "source": [
        "gbm_add_cols.confusion_matrix(valid=True)"
      ],
      "execution_count": null,
      "outputs": [
        {
          "output_type": "stream",
          "text": [
            "\n",
            "Confusion Matrix (Act/Pred) for max f1 @ threshold = 0.4995541831165068: \n"
          ],
          "name": "stdout"
        },
        {
          "output_type": "display_data",
          "data": {
            "text/html": [
              "<div>\n",
              "<style scoped>\n",
              "    .dataframe tbody tr th:only-of-type {\n",
              "        vertical-align: middle;\n",
              "    }\n",
              "\n",
              "    .dataframe tbody tr th {\n",
              "        vertical-align: top;\n",
              "    }\n",
              "\n",
              "    .dataframe thead th {\n",
              "        text-align: right;\n",
              "    }\n",
              "</style>\n",
              "<table border=\"1\" class=\"dataframe\">\n",
              "  <thead>\n",
              "    <tr style=\"text-align: right;\">\n",
              "      <th></th>\n",
              "      <th></th>\n",
              "      <th>0</th>\n",
              "      <th>1</th>\n",
              "      <th>Error</th>\n",
              "      <th>Rate</th>\n",
              "    </tr>\n",
              "  </thead>\n",
              "  <tbody>\n",
              "    <tr>\n",
              "      <th>0</th>\n",
              "      <td>0</td>\n",
              "      <td>2214.0</td>\n",
              "      <td>2385.0</td>\n",
              "      <td>0.5186</td>\n",
              "      <td>(2385.0/4599.0)</td>\n",
              "    </tr>\n",
              "    <tr>\n",
              "      <th>1</th>\n",
              "      <td>1</td>\n",
              "      <td>600.0</td>\n",
              "      <td>12093.0</td>\n",
              "      <td>0.0473</td>\n",
              "      <td>(600.0/12693.0)</td>\n",
              "    </tr>\n",
              "    <tr>\n",
              "      <th>2</th>\n",
              "      <td>Total</td>\n",
              "      <td>2814.0</td>\n",
              "      <td>14478.0</td>\n",
              "      <td>0.1726</td>\n",
              "      <td>(2985.0/17292.0)</td>\n",
              "    </tr>\n",
              "  </tbody>\n",
              "</table>\n",
              "</div>"
            ],
            "text/plain": [
              "               0        1   Error               Rate\n",
              "0      0  2214.0   2385.0  0.5186    (2385.0/4599.0)\n",
              "1      1   600.0  12093.0  0.0473    (600.0/12693.0)\n",
              "2  Total  2814.0  14478.0  0.1726   (2985.0/17292.0)"
            ]
          },
          "metadata": {
            "tags": []
          }
        },
        {
          "output_type": "execute_result",
          "data": {
            "text/plain": [
              ""
            ]
          },
          "metadata": {
            "tags": []
          },
          "execution_count": 48
        }
      ]
    },
    {
      "cell_type": "code",
      "metadata": {
        "id": "q7_N7dqAPNGy",
        "colab_type": "code",
        "colab": {}
      },
      "source": [
        "headlines_vecs=vec_model.transform(words_headline,aggregate_method=\"AVERAGE\")\n",
        "headlines_vecs.names=[\"headline_\" + s for s in headlines_vecs.names]\n",
        "#as c1, c2 etc is already used by the first vector for review_vecs prefix headline in front of each of the vector column names"
      ],
      "execution_count": null,
      "outputs": []
    },
    {
      "cell_type": "code",
      "metadata": {
        "id": "raT-TAZeP4U8",
        "colab_type": "code",
        "colab": {
          "base_uri": "https://localhost:8080/",
          "height": 274
        },
        "outputId": "f1f5ce53-c735-4e60-bc76-e93345f75d79"
      },
      "source": [
        "headlines_vecs.head()"
      ],
      "execution_count": null,
      "outputs": [
        {
          "output_type": "display_data",
          "data": {
            "text/html": [
              "<table>\n",
              "<thead>\n",
              "<tr><th style=\"text-align: right;\">  headline_C1</th><th style=\"text-align: right;\">  headline_C2</th><th style=\"text-align: right;\">  headline_C3</th><th style=\"text-align: right;\">  headline_C4</th><th style=\"text-align: right;\">  headline_C5</th><th style=\"text-align: right;\">  headline_C6</th><th style=\"text-align: right;\">  headline_C7</th><th style=\"text-align: right;\">  headline_C8</th><th style=\"text-align: right;\">  headline_C9</th><th style=\"text-align: right;\">  headline_C10</th><th style=\"text-align: right;\">  headline_C11</th><th style=\"text-align: right;\">  headline_C12</th><th style=\"text-align: right;\">  headline_C13</th><th style=\"text-align: right;\">  headline_C14</th><th style=\"text-align: right;\">  headline_C15</th><th style=\"text-align: right;\">  headline_C16</th><th style=\"text-align: right;\">  headline_C17</th><th style=\"text-align: right;\">  headline_C18</th><th style=\"text-align: right;\">  headline_C19</th><th style=\"text-align: right;\">  headline_C20</th><th style=\"text-align: right;\">  headline_C21</th><th style=\"text-align: right;\">  headline_C22</th><th style=\"text-align: right;\">  headline_C23</th><th style=\"text-align: right;\">  headline_C24</th><th style=\"text-align: right;\">  headline_C25</th><th style=\"text-align: right;\">  headline_C26</th><th style=\"text-align: right;\">  headline_C27</th><th style=\"text-align: right;\">  headline_C28</th><th style=\"text-align: right;\">  headline_C29</th><th style=\"text-align: right;\">  headline_C30</th><th style=\"text-align: right;\">  headline_C31</th><th style=\"text-align: right;\">  headline_C32</th><th style=\"text-align: right;\">  headline_C33</th><th style=\"text-align: right;\">  headline_C34</th><th style=\"text-align: right;\">  headline_C35</th><th style=\"text-align: right;\">  headline_C36</th><th style=\"text-align: right;\">  headline_C37</th><th style=\"text-align: right;\">  headline_C38</th><th style=\"text-align: right;\">  headline_C39</th><th style=\"text-align: right;\">  headline_C40</th><th style=\"text-align: right;\">  headline_C41</th><th style=\"text-align: right;\">  headline_C42</th><th style=\"text-align: right;\">  headline_C43</th><th style=\"text-align: right;\">  headline_C44</th><th style=\"text-align: right;\">  headline_C45</th><th style=\"text-align: right;\">  headline_C46</th><th style=\"text-align: right;\">  headline_C47</th><th style=\"text-align: right;\">  headline_C48</th><th style=\"text-align: right;\">  headline_C49</th><th style=\"text-align: right;\">  headline_C50</th><th style=\"text-align: right;\">  headline_C51</th><th style=\"text-align: right;\">  headline_C52</th><th style=\"text-align: right;\">  headline_C53</th><th style=\"text-align: right;\">  headline_C54</th><th style=\"text-align: right;\">  headline_C55</th><th style=\"text-align: right;\">  headline_C56</th><th style=\"text-align: right;\">  headline_C57</th><th style=\"text-align: right;\">  headline_C58</th><th style=\"text-align: right;\">  headline_C59</th><th style=\"text-align: right;\">  headline_C60</th><th style=\"text-align: right;\">  headline_C61</th><th style=\"text-align: right;\">  headline_C62</th><th style=\"text-align: right;\">  headline_C63</th><th style=\"text-align: right;\">  headline_C64</th><th style=\"text-align: right;\">  headline_C65</th><th style=\"text-align: right;\">  headline_C66</th><th style=\"text-align: right;\">  headline_C67</th><th style=\"text-align: right;\">  headline_C68</th><th style=\"text-align: right;\">  headline_C69</th><th style=\"text-align: right;\">  headline_C70</th><th style=\"text-align: right;\">  headline_C71</th><th style=\"text-align: right;\">  headline_C72</th><th style=\"text-align: right;\">  headline_C73</th><th style=\"text-align: right;\">  headline_C74</th><th style=\"text-align: right;\">  headline_C75</th><th style=\"text-align: right;\">  headline_C76</th><th style=\"text-align: right;\">  headline_C77</th><th style=\"text-align: right;\">  headline_C78</th><th style=\"text-align: right;\">  headline_C79</th><th style=\"text-align: right;\">  headline_C80</th><th style=\"text-align: right;\">  headline_C81</th><th style=\"text-align: right;\">  headline_C82</th><th style=\"text-align: right;\">  headline_C83</th><th style=\"text-align: right;\">  headline_C84</th><th style=\"text-align: right;\">  headline_C85</th><th style=\"text-align: right;\">  headline_C86</th><th style=\"text-align: right;\">  headline_C87</th><th style=\"text-align: right;\">  headline_C88</th><th style=\"text-align: right;\">  headline_C89</th><th style=\"text-align: right;\">  headline_C90</th><th style=\"text-align: right;\">  headline_C91</th><th style=\"text-align: right;\">  headline_C92</th><th style=\"text-align: right;\">  headline_C93</th><th style=\"text-align: right;\">  headline_C94</th><th style=\"text-align: right;\">  headline_C95</th><th style=\"text-align: right;\">  headline_C96</th><th style=\"text-align: right;\">  headline_C97</th><th style=\"text-align: right;\">  headline_C98</th><th style=\"text-align: right;\">  headline_C99</th><th style=\"text-align: right;\">  headline_C100</th></tr>\n",
              "</thead>\n",
              "<tbody>\n",
              "<tr><td style=\"text-align: right;\">  -0.21047   </td><td style=\"text-align: right;\">   -0.13496  </td><td style=\"text-align: right;\">  -0.176786  </td><td style=\"text-align: right;\">   -0.117084 </td><td style=\"text-align: right;\">    0.18315  </td><td style=\"text-align: right;\">   -0.173888 </td><td style=\"text-align: right;\">    0.0589595</td><td style=\"text-align: right;\">   -0.134445 </td><td style=\"text-align: right;\">   0.00850714</td><td style=\"text-align: right;\">    -0.0858592</td><td style=\"text-align: right;\">     0.0483999</td><td style=\"text-align: right;\">    -0.0624154</td><td style=\"text-align: right;\">    -0.0550178</td><td style=\"text-align: right;\">   -0.0622258 </td><td style=\"text-align: right;\">    0.21797   </td><td style=\"text-align: right;\">    -0.0749708</td><td style=\"text-align: right;\">     0.115848 </td><td style=\"text-align: right;\">   0.0160938  </td><td style=\"text-align: right;\">   -0.00990598</td><td style=\"text-align: right;\">   -0.175932  </td><td style=\"text-align: right;\">    -0.0906645</td><td style=\"text-align: right;\">   -0.00669685</td><td style=\"text-align: right;\">    -0.161357 </td><td style=\"text-align: right;\">    -0.152562 </td><td style=\"text-align: right;\">    0.125005  </td><td style=\"text-align: right;\">     0.0817904</td><td style=\"text-align: right;\">    -0.0914383</td><td style=\"text-align: right;\">     0.0391145</td><td style=\"text-align: right;\">    0.131607  </td><td style=\"text-align: right;\">  -0.194927   </td><td style=\"text-align: right;\">    -0.053142 </td><td style=\"text-align: right;\">     0.0577179</td><td style=\"text-align: right;\">    -0.307506 </td><td style=\"text-align: right;\">     0.246894 </td><td style=\"text-align: right;\">     0.294249 </td><td style=\"text-align: right;\">     0.0338993</td><td style=\"text-align: right;\">    -0.177282 </td><td style=\"text-align: right;\">    -0.0362244</td><td style=\"text-align: right;\">   -0.00835787</td><td style=\"text-align: right;\">   -0.111125  </td><td style=\"text-align: right;\">     0.0864011</td><td style=\"text-align: right;\">     0.0270139</td><td style=\"text-align: right;\">     0.0114754</td><td style=\"text-align: right;\">   0.0523982  </td><td style=\"text-align: right;\">    -0.300552 </td><td style=\"text-align: right;\">    -0.142601 </td><td style=\"text-align: right;\">     0.114948 </td><td style=\"text-align: right;\">     0.244404 </td><td style=\"text-align: right;\">    0.00502782</td><td style=\"text-align: right;\">    -0.0618724</td><td style=\"text-align: right;\">   -0.079735  </td><td style=\"text-align: right;\">     0.305631 </td><td style=\"text-align: right;\">    -0.0258607</td><td style=\"text-align: right;\">   -0.00076927</td><td style=\"text-align: right;\">    -0.0745405</td><td style=\"text-align: right;\">     0.0265026</td><td style=\"text-align: right;\">    -0.0410406</td><td style=\"text-align: right;\">     -0.128437</td><td style=\"text-align: right;\">   -0.238651  </td><td style=\"text-align: right;\">   -0.0957846 </td><td style=\"text-align: right;\">    0.0223648 </td><td style=\"text-align: right;\">     0.0529838</td><td style=\"text-align: right;\">     0.0454812</td><td style=\"text-align: right;\">    0.00395794</td><td style=\"text-align: right;\">   -0.0102454 </td><td style=\"text-align: right;\">     0.238035 </td><td style=\"text-align: right;\">   -0.0925555 </td><td style=\"text-align: right;\">   0.228241   </td><td style=\"text-align: right;\">    0.171618  </td><td style=\"text-align: right;\">     0.0654037</td><td style=\"text-align: right;\">    -0.0350108</td><td style=\"text-align: right;\">    -0.127281 </td><td style=\"text-align: right;\">    -0.118883 </td><td style=\"text-align: right;\">    0.255078  </td><td style=\"text-align: right;\">   0.0215669  </td><td style=\"text-align: right;\">    -0.0720879</td><td style=\"text-align: right;\">     0.0296391</td><td style=\"text-align: right;\">     0.156004 </td><td style=\"text-align: right;\">     0.0899398</td><td style=\"text-align: right;\">   -0.0472043 </td><td style=\"text-align: right;\">    -0.0793727</td><td style=\"text-align: right;\">    -0.0875394</td><td style=\"text-align: right;\">     0.253549 </td><td style=\"text-align: right;\">    -0.172655 </td><td style=\"text-align: right;\">   -0.210943  </td><td style=\"text-align: right;\">    -0.0487006</td><td style=\"text-align: right;\">    -0.118783 </td><td style=\"text-align: right;\">    -0.0711199</td><td style=\"text-align: right;\">    -0.0363366</td><td style=\"text-align: right;\">     0.235523 </td><td style=\"text-align: right;\">    -0.141892 </td><td style=\"text-align: right;\">   -0.00773375</td><td style=\"text-align: right;\">    -0.0300481</td><td style=\"text-align: right;\">     0.283934 </td><td style=\"text-align: right;\">   -0.0817923 </td><td style=\"text-align: right;\">   -0.155311  </td><td style=\"text-align: right;\">     0.111267 </td><td style=\"text-align: right;\">     0.0423128</td><td style=\"text-align: right;\">    -0.0258677</td><td style=\"text-align: right;\">     0.0367858 </td></tr>\n",
              "<tr><td style=\"text-align: right;\">  -0.208309  </td><td style=\"text-align: right;\">   -0.128063 </td><td style=\"text-align: right;\">  -0.0395338 </td><td style=\"text-align: right;\">    0.0305011</td><td style=\"text-align: right;\">   -0.116207 </td><td style=\"text-align: right;\">   -0.0355611</td><td style=\"text-align: right;\">   -0.0154546</td><td style=\"text-align: right;\">    0.093954 </td><td style=\"text-align: right;\">  -0.149475  </td><td style=\"text-align: right;\">    -0.204295 </td><td style=\"text-align: right;\">    -0.0858676</td><td style=\"text-align: right;\">     0.0451458</td><td style=\"text-align: right;\">     0.0163028</td><td style=\"text-align: right;\">    0.0305961 </td><td style=\"text-align: right;\">    0.00984072</td><td style=\"text-align: right;\">    -0.165958 </td><td style=\"text-align: right;\">     0.106866 </td><td style=\"text-align: right;\">   0.171307   </td><td style=\"text-align: right;\">   -0.0556255 </td><td style=\"text-align: right;\">   -0.0143744 </td><td style=\"text-align: right;\">    -0.154076 </td><td style=\"text-align: right;\">   -0.00744544</td><td style=\"text-align: right;\">     0.0743971</td><td style=\"text-align: right;\">     0.0120828</td><td style=\"text-align: right;\">   -0.00900041</td><td style=\"text-align: right;\">    -0.193418 </td><td style=\"text-align: right;\">    -0.112207 </td><td style=\"text-align: right;\">    -0.0129678</td><td style=\"text-align: right;\">   -0.107157  </td><td style=\"text-align: right;\">   0.000270335</td><td style=\"text-align: right;\">     0.119207 </td><td style=\"text-align: right;\">     0.0330417</td><td style=\"text-align: right;\">    -0.11577  </td><td style=\"text-align: right;\">     0.281185 </td><td style=\"text-align: right;\">     0.1646   </td><td style=\"text-align: right;\">     0.105497 </td><td style=\"text-align: right;\">    -0.0779472</td><td style=\"text-align: right;\">    -0.0964459</td><td style=\"text-align: right;\">    0.105444  </td><td style=\"text-align: right;\">   -0.00528075</td><td style=\"text-align: right;\">    -0.10065  </td><td style=\"text-align: right;\">     0.16231  </td><td style=\"text-align: right;\">    -0.174029 </td><td style=\"text-align: right;\">   0.15188    </td><td style=\"text-align: right;\">    -0.0546405</td><td style=\"text-align: right;\">     0.0187302</td><td style=\"text-align: right;\">     0.122977 </td><td style=\"text-align: right;\">    -0.125828 </td><td style=\"text-align: right;\">   -0.0461824 </td><td style=\"text-align: right;\">    -0.173369 </td><td style=\"text-align: right;\">   -0.184083  </td><td style=\"text-align: right;\">     0.200493 </td><td style=\"text-align: right;\">    -0.0175043</td><td style=\"text-align: right;\">    0.118525  </td><td style=\"text-align: right;\">    -0.185754 </td><td style=\"text-align: right;\">     0.0931662</td><td style=\"text-align: right;\">    -0.306941 </td><td style=\"text-align: right;\">     -0.093655</td><td style=\"text-align: right;\">   -0.188422  </td><td style=\"text-align: right;\">   -0.00608106</td><td style=\"text-align: right;\">    0.101994  </td><td style=\"text-align: right;\">    -0.157139 </td><td style=\"text-align: right;\">    -0.0116626</td><td style=\"text-align: right;\">    0.0608073 </td><td style=\"text-align: right;\">   -0.161463  </td><td style=\"text-align: right;\">     0.0875368</td><td style=\"text-align: right;\">    0.00864031</td><td style=\"text-align: right;\">  -0.0395032  </td><td style=\"text-align: right;\">    0.207404  </td><td style=\"text-align: right;\">     0.0309716</td><td style=\"text-align: right;\">    -0.143567 </td><td style=\"text-align: right;\">     0.0224621</td><td style=\"text-align: right;\">    -0.0916793</td><td style=\"text-align: right;\">    0.0232727 </td><td style=\"text-align: right;\">  -0.158451   </td><td style=\"text-align: right;\">    -0.100221 </td><td style=\"text-align: right;\">     0.050819 </td><td style=\"text-align: right;\">    -0.0661736</td><td style=\"text-align: right;\">     0.197943 </td><td style=\"text-align: right;\">    0.143747  </td><td style=\"text-align: right;\">     0.0313314</td><td style=\"text-align: right;\">    -0.0382877</td><td style=\"text-align: right;\">     0.0261292</td><td style=\"text-align: right;\">    -0.0807852</td><td style=\"text-align: right;\">   -0.20342   </td><td style=\"text-align: right;\">    -0.0306292</td><td style=\"text-align: right;\">     0.133555 </td><td style=\"text-align: right;\">     0.0975656</td><td style=\"text-align: right;\">     0.0796245</td><td style=\"text-align: right;\">     0.263755 </td><td style=\"text-align: right;\">    -0.0940085</td><td style=\"text-align: right;\">   -0.0428569 </td><td style=\"text-align: right;\">    -0.0736404</td><td style=\"text-align: right;\">     0.15638  </td><td style=\"text-align: right;\">    0.126444  </td><td style=\"text-align: right;\">    0.147561  </td><td style=\"text-align: right;\">     0.13743  </td><td style=\"text-align: right;\">     0.0875779</td><td style=\"text-align: right;\">     0.107771 </td><td style=\"text-align: right;\">    -0.014605  </td></tr>\n",
              "<tr><td style=\"text-align: right;\">  -0.202324  </td><td style=\"text-align: right;\">    0.108743 </td><td style=\"text-align: right;\">   0.0149813 </td><td style=\"text-align: right;\">    0.116521 </td><td style=\"text-align: right;\">    0.209196 </td><td style=\"text-align: right;\">   -0.144031 </td><td style=\"text-align: right;\">   -0.0545581</td><td style=\"text-align: right;\">   -0.165945 </td><td style=\"text-align: right;\">  -0.0988035 </td><td style=\"text-align: right;\">    -0.0764518</td><td style=\"text-align: right;\">    -0.023794 </td><td style=\"text-align: right;\">    -0.121876 </td><td style=\"text-align: right;\">    -0.151202 </td><td style=\"text-align: right;\">   -0.120592  </td><td style=\"text-align: right;\">    0.118247  </td><td style=\"text-align: right;\">     0.0622148</td><td style=\"text-align: right;\">    -0.0386878</td><td style=\"text-align: right;\">  -0.156783   </td><td style=\"text-align: right;\">    0.0234115 </td><td style=\"text-align: right;\">    0.00388896</td><td style=\"text-align: right;\">    -0.102925 </td><td style=\"text-align: right;\">   -0.104541  </td><td style=\"text-align: right;\">    -0.026303 </td><td style=\"text-align: right;\">     0.327168 </td><td style=\"text-align: right;\">    0.114017  </td><td style=\"text-align: right;\">    -0.0277633</td><td style=\"text-align: right;\">     0.154601 </td><td style=\"text-align: right;\">     0.0329728</td><td style=\"text-align: right;\">   -0.117902  </td><td style=\"text-align: right;\">  -0.117104   </td><td style=\"text-align: right;\">     0.192882 </td><td style=\"text-align: right;\">     0.156372 </td><td style=\"text-align: right;\">    -0.340458 </td><td style=\"text-align: right;\">     0.0987917</td><td style=\"text-align: right;\">     0.272769 </td><td style=\"text-align: right;\">     0.0426827</td><td style=\"text-align: right;\">    -0.177467 </td><td style=\"text-align: right;\">    -0.240042 </td><td style=\"text-align: right;\">   -0.174054  </td><td style=\"text-align: right;\">   -0.0837187 </td><td style=\"text-align: right;\">    -0.198166 </td><td style=\"text-align: right;\">    -0.0185263</td><td style=\"text-align: right;\">    -0.220625 </td><td style=\"text-align: right;\">  -0.000657529</td><td style=\"text-align: right;\">    -0.0378716</td><td style=\"text-align: right;\">    -0.153724 </td><td style=\"text-align: right;\">     0.0231038</td><td style=\"text-align: right;\">     0.0435331</td><td style=\"text-align: right;\">    0.00776891</td><td style=\"text-align: right;\">    -0.080055 </td><td style=\"text-align: right;\">    0.0386923 </td><td style=\"text-align: right;\">    -0.0651806</td><td style=\"text-align: right;\">    -0.0421736</td><td style=\"text-align: right;\">    0.208787  </td><td style=\"text-align: right;\">    -0.139224 </td><td style=\"text-align: right;\">    -0.0740662</td><td style=\"text-align: right;\">    -0.272181 </td><td style=\"text-align: right;\">     -0.126328</td><td style=\"text-align: right;\">   -0.12049   </td><td style=\"text-align: right;\">   -0.101314  </td><td style=\"text-align: right;\">    0.300291  </td><td style=\"text-align: right;\">    -0.184297 </td><td style=\"text-align: right;\">    -0.165309 </td><td style=\"text-align: right;\">   -0.101873  </td><td style=\"text-align: right;\">   -0.0172773 </td><td style=\"text-align: right;\">     0.262488 </td><td style=\"text-align: right;\">   -0.257632  </td><td style=\"text-align: right;\">   0.132917   </td><td style=\"text-align: right;\">    0.124494  </td><td style=\"text-align: right;\">    -0.0150022</td><td style=\"text-align: right;\">    -0.21174  </td><td style=\"text-align: right;\">    -0.380172 </td><td style=\"text-align: right;\">    -0.209866 </td><td style=\"text-align: right;\">    0.0382987 </td><td style=\"text-align: right;\">   0.263133   </td><td style=\"text-align: right;\">    -0.0131235</td><td style=\"text-align: right;\">    -0.0619201</td><td style=\"text-align: right;\">     0.188939 </td><td style=\"text-align: right;\">     0.157738 </td><td style=\"text-align: right;\">   -0.13345   </td><td style=\"text-align: right;\">    -0.027228 </td><td style=\"text-align: right;\">    -0.093281 </td><td style=\"text-align: right;\">     0.201664 </td><td style=\"text-align: right;\">     0.0212757</td><td style=\"text-align: right;\">   -0.356036  </td><td style=\"text-align: right;\">    -0.0645848</td><td style=\"text-align: right;\">    -0.0436085</td><td style=\"text-align: right;\">    -0.0819476</td><td style=\"text-align: right;\">    -0.159156 </td><td style=\"text-align: right;\">     0.0176682</td><td style=\"text-align: right;\">    -0.0988165</td><td style=\"text-align: right;\">    0.157731  </td><td style=\"text-align: right;\">    -0.135121 </td><td style=\"text-align: right;\">     0.135327 </td><td style=\"text-align: right;\">    0.00894647</td><td style=\"text-align: right;\">   -0.0574895 </td><td style=\"text-align: right;\">     0.133454 </td><td style=\"text-align: right;\">     0.0938464</td><td style=\"text-align: right;\">    -0.0649275</td><td style=\"text-align: right;\">    -0.00098455</td></tr>\n",
              "<tr><td style=\"text-align: right;\">  -0.0910021 </td><td style=\"text-align: right;\">    0.467233 </td><td style=\"text-align: right;\">   0.432512  </td><td style=\"text-align: right;\">   -0.128404 </td><td style=\"text-align: right;\">    0.025059 </td><td style=\"text-align: right;\">   -0.510295 </td><td style=\"text-align: right;\">   -0.263373 </td><td style=\"text-align: right;\">    0.0104407</td><td style=\"text-align: right;\">  -0.0666719 </td><td style=\"text-align: right;\">    -0.342684 </td><td style=\"text-align: right;\">     0.0959395</td><td style=\"text-align: right;\">    -0.0169978</td><td style=\"text-align: right;\">    -0.420025 </td><td style=\"text-align: right;\">   -0.374328  </td><td style=\"text-align: right;\">    0.0498196 </td><td style=\"text-align: right;\">    -0.203583 </td><td style=\"text-align: right;\">    -0.0272848</td><td style=\"text-align: right;\">   0.0775973  </td><td style=\"text-align: right;\">    0.0683618 </td><td style=\"text-align: right;\">   -0.0437704 </td><td style=\"text-align: right;\">    -0.498641 </td><td style=\"text-align: right;\">    0.466893  </td><td style=\"text-align: right;\">    -0.319906 </td><td style=\"text-align: right;\">    -0.128084 </td><td style=\"text-align: right;\">   -0.131466  </td><td style=\"text-align: right;\">     0.374011 </td><td style=\"text-align: right;\">    -0.103755 </td><td style=\"text-align: right;\">    -0.0520905</td><td style=\"text-align: right;\">   -0.00365382</td><td style=\"text-align: right;\">  -0.383351   </td><td style=\"text-align: right;\">    -0.03152  </td><td style=\"text-align: right;\">    -0.266791 </td><td style=\"text-align: right;\">    -0.140918 </td><td style=\"text-align: right;\">     0.457912 </td><td style=\"text-align: right;\">    -0.0504123</td><td style=\"text-align: right;\">    -0.328407 </td><td style=\"text-align: right;\">     0.0301182</td><td style=\"text-align: right;\">     0.17289  </td><td style=\"text-align: right;\">    0.204418  </td><td style=\"text-align: right;\">    0.273652  </td><td style=\"text-align: right;\">    -0.119176 </td><td style=\"text-align: right;\">     0.436189 </td><td style=\"text-align: right;\">    -0.193205 </td><td style=\"text-align: right;\">   0.198562   </td><td style=\"text-align: right;\">    -0.255602 </td><td style=\"text-align: right;\">     0.0100385</td><td style=\"text-align: right;\">    -0.306682 </td><td style=\"text-align: right;\">    -0.0156985</td><td style=\"text-align: right;\">   -0.282008  </td><td style=\"text-align: right;\">    -0.101629 </td><td style=\"text-align: right;\">   -0.302133  </td><td style=\"text-align: right;\">     0.325294 </td><td style=\"text-align: right;\">    -0.1577   </td><td style=\"text-align: right;\">   -0.399667  </td><td style=\"text-align: right;\">     0.142143 </td><td style=\"text-align: right;\">    -0.124075 </td><td style=\"text-align: right;\">    -0.213633 </td><td style=\"text-align: right;\">      0.223243</td><td style=\"text-align: right;\">   -0.123411  </td><td style=\"text-align: right;\">   -0.239751  </td><td style=\"text-align: right;\">    0.00510537</td><td style=\"text-align: right;\">    -0.34895  </td><td style=\"text-align: right;\">    -0.133238 </td><td style=\"text-align: right;\">   -0.0804468 </td><td style=\"text-align: right;\">    0.343595  </td><td style=\"text-align: right;\">     0.0360537</td><td style=\"text-align: right;\">    0.00531158</td><td style=\"text-align: right;\">   0.103577   </td><td style=\"text-align: right;\">   -0.0885978 </td><td style=\"text-align: right;\">    -0.496612 </td><td style=\"text-align: right;\">     0.180622 </td><td style=\"text-align: right;\">    -0.254236 </td><td style=\"text-align: right;\">     0.0648863</td><td style=\"text-align: right;\">    0.0279101 </td><td style=\"text-align: right;\">  -0.0956486  </td><td style=\"text-align: right;\">    -0.317243 </td><td style=\"text-align: right;\">    -0.136497 </td><td style=\"text-align: right;\">    -0.213788 </td><td style=\"text-align: right;\">    -0.0851031</td><td style=\"text-align: right;\">   -0.102489  </td><td style=\"text-align: right;\">     0.27139  </td><td style=\"text-align: right;\">    -0.0878954</td><td style=\"text-align: right;\">    -0.0486569</td><td style=\"text-align: right;\">     0.0421371</td><td style=\"text-align: right;\">   -0.220487  </td><td style=\"text-align: right;\">     0.234697 </td><td style=\"text-align: right;\">     0.0885172</td><td style=\"text-align: right;\">    -0.0783703</td><td style=\"text-align: right;\">     0.132177 </td><td style=\"text-align: right;\">     0.0655766</td><td style=\"text-align: right;\">    -0.405805 </td><td style=\"text-align: right;\">   -0.383319  </td><td style=\"text-align: right;\">     0.0643512</td><td style=\"text-align: right;\">    -0.0989005</td><td style=\"text-align: right;\">    0.29403   </td><td style=\"text-align: right;\">   -0.0763533 </td><td style=\"text-align: right;\">     0.308564 </td><td style=\"text-align: right;\">     0.0590085</td><td style=\"text-align: right;\">     0.18396  </td><td style=\"text-align: right;\">    -0.106234  </td></tr>\n",
              "<tr><td style=\"text-align: right;\">   0.176634  </td><td style=\"text-align: right;\">   -0.0548066</td><td style=\"text-align: right;\">  -0.0446626 </td><td style=\"text-align: right;\">    0.0063464</td><td style=\"text-align: right;\">    0.210067 </td><td style=\"text-align: right;\">   -0.112162 </td><td style=\"text-align: right;\">    0.036637 </td><td style=\"text-align: right;\">   -0.276268 </td><td style=\"text-align: right;\">  -0.0563104 </td><td style=\"text-align: right;\">    -0.25568  </td><td style=\"text-align: right;\">    -0.198692 </td><td style=\"text-align: right;\">     0.0639007</td><td style=\"text-align: right;\">     0.0355921</td><td style=\"text-align: right;\">    0.0708014 </td><td style=\"text-align: right;\">    0.0752256 </td><td style=\"text-align: right;\">    -0.124278 </td><td style=\"text-align: right;\">     0.129559 </td><td style=\"text-align: right;\">  -0.188585   </td><td style=\"text-align: right;\">    0.0734876 </td><td style=\"text-align: right;\">   -0.0718266 </td><td style=\"text-align: right;\">    -0.0487504</td><td style=\"text-align: right;\">    0.0107669 </td><td style=\"text-align: right;\">     0.208153 </td><td style=\"text-align: right;\">    -0.160891 </td><td style=\"text-align: right;\">   -0.191424  </td><td style=\"text-align: right;\">     0.023533 </td><td style=\"text-align: right;\">    -0.0127863</td><td style=\"text-align: right;\">    -0.103128 </td><td style=\"text-align: right;\">   -0.0446813 </td><td style=\"text-align: right;\">  -0.130097   </td><td style=\"text-align: right;\">     0.0454141</td><td style=\"text-align: right;\">    -0.0760313</td><td style=\"text-align: right;\">    -0.193251 </td><td style=\"text-align: right;\">     0.130025 </td><td style=\"text-align: right;\">    -0.166335 </td><td style=\"text-align: right;\">    -0.221857 </td><td style=\"text-align: right;\">     0.0222583</td><td style=\"text-align: right;\">     0.119297 </td><td style=\"text-align: right;\">    0.0652117 </td><td style=\"text-align: right;\">   -0.0696063 </td><td style=\"text-align: right;\">    -0.0186831</td><td style=\"text-align: right;\">     0.0895916</td><td style=\"text-align: right;\">     0.0360674</td><td style=\"text-align: right;\">   0.0196706  </td><td style=\"text-align: right;\">    -0.127722 </td><td style=\"text-align: right;\">     0.303436 </td><td style=\"text-align: right;\">     0.0658337</td><td style=\"text-align: right;\">     0.0912831</td><td style=\"text-align: right;\">    0.0206159 </td><td style=\"text-align: right;\">    -0.0544403</td><td style=\"text-align: right;\">   -0.18499   </td><td style=\"text-align: right;\">     0.254061 </td><td style=\"text-align: right;\">    -0.193112 </td><td style=\"text-align: right;\">    0.0280684 </td><td style=\"text-align: right;\">    -0.0876365</td><td style=\"text-align: right;\">    -0.142653 </td><td style=\"text-align: right;\">    -0.220464 </td><td style=\"text-align: right;\">     -0.376316</td><td style=\"text-align: right;\">   -0.0403036 </td><td style=\"text-align: right;\">   -0.329188  </td><td style=\"text-align: right;\">    0.0899631 </td><td style=\"text-align: right;\">    -0.135127 </td><td style=\"text-align: right;\">     0.0655889</td><td style=\"text-align: right;\">    0.0459591 </td><td style=\"text-align: right;\">   -0.0101972 </td><td style=\"text-align: right;\">     0.173032 </td><td style=\"text-align: right;\">    0.0485071 </td><td style=\"text-align: right;\">   0.169688   </td><td style=\"text-align: right;\">    0.0288908 </td><td style=\"text-align: right;\">    -0.0356295</td><td style=\"text-align: right;\">     0.0744773</td><td style=\"text-align: right;\">     0.0590109</td><td style=\"text-align: right;\">     0.0393016</td><td style=\"text-align: right;\">    0.218455  </td><td style=\"text-align: right;\">  -0.0718653  </td><td style=\"text-align: right;\">    -0.022652 </td><td style=\"text-align: right;\">    -0.18735  </td><td style=\"text-align: right;\">     0.0890468</td><td style=\"text-align: right;\">    -0.180888 </td><td style=\"text-align: right;\">   -0.0393606 </td><td style=\"text-align: right;\">     0.0116984</td><td style=\"text-align: right;\">    -0.178646 </td><td style=\"text-align: right;\">    -0.0295691</td><td style=\"text-align: right;\">     0.0216002</td><td style=\"text-align: right;\">   -0.185588  </td><td style=\"text-align: right;\">     0.192452 </td><td style=\"text-align: right;\">    -0.0337106</td><td style=\"text-align: right;\">    -0.0601693</td><td style=\"text-align: right;\">    -0.0377568</td><td style=\"text-align: right;\">     0.0277616</td><td style=\"text-align: right;\">    -0.0667697</td><td style=\"text-align: right;\">   -0.060062  </td><td style=\"text-align: right;\">    -0.162798 </td><td style=\"text-align: right;\">     0.186435 </td><td style=\"text-align: right;\">   -0.0703799 </td><td style=\"text-align: right;\">   -0.0759002 </td><td style=\"text-align: right;\">    -0.285419 </td><td style=\"text-align: right;\">     0.155961 </td><td style=\"text-align: right;\">     0.357414 </td><td style=\"text-align: right;\">     0.302596  </td></tr>\n",
              "<tr><td style=\"text-align: right;\">  -0.116674  </td><td style=\"text-align: right;\">   -0.224234 </td><td style=\"text-align: right;\">  -0.048849  </td><td style=\"text-align: right;\">    0.0806284</td><td style=\"text-align: right;\">    0.250382 </td><td style=\"text-align: right;\">   -0.1525   </td><td style=\"text-align: right;\">   -0.112472 </td><td style=\"text-align: right;\">   -0.0291211</td><td style=\"text-align: right;\">  -0.0346327 </td><td style=\"text-align: right;\">    -0.154617 </td><td style=\"text-align: right;\">     0.0401366</td><td style=\"text-align: right;\">     0.0112508</td><td style=\"text-align: right;\">    -0.0882592</td><td style=\"text-align: right;\">    0.0242519 </td><td style=\"text-align: right;\">    0.0635869 </td><td style=\"text-align: right;\">    -0.121145 </td><td style=\"text-align: right;\">    -0.0621884</td><td style=\"text-align: right;\">   0.000181296</td><td style=\"text-align: right;\">   -0.0666105 </td><td style=\"text-align: right;\">   -0.0464788 </td><td style=\"text-align: right;\">    -0.0444824</td><td style=\"text-align: right;\">   -0.0285508 </td><td style=\"text-align: right;\">     0.0748999</td><td style=\"text-align: right;\">    -0.0331243</td><td style=\"text-align: right;\">   -0.00134505</td><td style=\"text-align: right;\">     0.0412121</td><td style=\"text-align: right;\">     0.0673784</td><td style=\"text-align: right;\">    -0.0336295</td><td style=\"text-align: right;\">   -0.0608966 </td><td style=\"text-align: right;\">   0.09333    </td><td style=\"text-align: right;\">     0.110247 </td><td style=\"text-align: right;\">     0.045813 </td><td style=\"text-align: right;\">    -0.0548518</td><td style=\"text-align: right;\">     0.243472 </td><td style=\"text-align: right;\">     0.119141 </td><td style=\"text-align: right;\">    -0.100351 </td><td style=\"text-align: right;\">    -0.13331  </td><td style=\"text-align: right;\">    -0.036561 </td><td style=\"text-align: right;\">    0.00740698</td><td style=\"text-align: right;\">    0.00362081</td><td style=\"text-align: right;\">     0.0214375</td><td style=\"text-align: right;\">     0.105833 </td><td style=\"text-align: right;\">    -0.0625296</td><td style=\"text-align: right;\">   0.0386794  </td><td style=\"text-align: right;\">    -0.122321 </td><td style=\"text-align: right;\">     0.115515 </td><td style=\"text-align: right;\">    -0.0885809</td><td style=\"text-align: right;\">     0.0469845</td><td style=\"text-align: right;\">   -0.0767644 </td><td style=\"text-align: right;\">    -0.206488 </td><td style=\"text-align: right;\">    0.0873235 </td><td style=\"text-align: right;\">     0.235545 </td><td style=\"text-align: right;\">     0.0441396</td><td style=\"text-align: right;\">   -0.0608677 </td><td style=\"text-align: right;\">    -0.110885 </td><td style=\"text-align: right;\">     0.0749029</td><td style=\"text-align: right;\">    -0.0622721</td><td style=\"text-align: right;\">     -0.125811</td><td style=\"text-align: right;\">    0.00889653</td><td style=\"text-align: right;\">   -0.103596  </td><td style=\"text-align: right;\">    0.0721475 </td><td style=\"text-align: right;\">     0.145243 </td><td style=\"text-align: right;\">     0.0494   </td><td style=\"text-align: right;\">    0.105626  </td><td style=\"text-align: right;\">   -0.0570653 </td><td style=\"text-align: right;\">     0.198531 </td><td style=\"text-align: right;\">   -0.0445707 </td><td style=\"text-align: right;\">   0.0291719  </td><td style=\"text-align: right;\">    0.00503246</td><td style=\"text-align: right;\">    -0.0966916</td><td style=\"text-align: right;\">    -0.150529 </td><td style=\"text-align: right;\">    -0.226851 </td><td style=\"text-align: right;\">     0.0635398</td><td style=\"text-align: right;\">   -0.0400667 </td><td style=\"text-align: right;\">  -0.0912347  </td><td style=\"text-align: right;\">    -0.0989331</td><td style=\"text-align: right;\">     0.0270238</td><td style=\"text-align: right;\">     0.158864 </td><td style=\"text-align: right;\">     0.118148 </td><td style=\"text-align: right;\">   -0.00902922</td><td style=\"text-align: right;\">    -0.0494257</td><td style=\"text-align: right;\">    -0.222278 </td><td style=\"text-align: right;\">     0.115633 </td><td style=\"text-align: right;\">     0.112614 </td><td style=\"text-align: right;\">   -0.216154  </td><td style=\"text-align: right;\">    -0.146598 </td><td style=\"text-align: right;\">     0.161489 </td><td style=\"text-align: right;\">    -0.140895 </td><td style=\"text-align: right;\">     0.0506503</td><td style=\"text-align: right;\">     0.23231  </td><td style=\"text-align: right;\">    -0.0237909</td><td style=\"text-align: right;\">    0.0755163 </td><td style=\"text-align: right;\">    -0.0493847</td><td style=\"text-align: right;\">     0.264402 </td><td style=\"text-align: right;\">   -0.121705  </td><td style=\"text-align: right;\">   -0.118777  </td><td style=\"text-align: right;\">     0.128736 </td><td style=\"text-align: right;\">     0.115365 </td><td style=\"text-align: right;\">    -0.0958663</td><td style=\"text-align: right;\">     0.108163  </td></tr>\n",
              "<tr><td style=\"text-align: right;\">  -0.00726164</td><td style=\"text-align: right;\">    0.203667 </td><td style=\"text-align: right;\">   0.0282569 </td><td style=\"text-align: right;\">    0.0406147</td><td style=\"text-align: right;\">    0.109295 </td><td style=\"text-align: right;\">   -0.173575 </td><td style=\"text-align: right;\">   -0.307778 </td><td style=\"text-align: right;\">    0.293424 </td><td style=\"text-align: right;\">  -0.0298978 </td><td style=\"text-align: right;\">    -0.227596 </td><td style=\"text-align: right;\">    -0.214767 </td><td style=\"text-align: right;\">     0.0981828</td><td style=\"text-align: right;\">     0.0533224</td><td style=\"text-align: right;\">   -0.0613604 </td><td style=\"text-align: right;\">   -0.131563  </td><td style=\"text-align: right;\">     0.227276 </td><td style=\"text-align: right;\">     0.169363 </td><td style=\"text-align: right;\">  -0.153533   </td><td style=\"text-align: right;\">   -0.159493  </td><td style=\"text-align: right;\">    0.146847  </td><td style=\"text-align: right;\">     0.0730375</td><td style=\"text-align: right;\">    0.2463    </td><td style=\"text-align: right;\">     0.135113 </td><td style=\"text-align: right;\">     0.0118708</td><td style=\"text-align: right;\">    0.162202  </td><td style=\"text-align: right;\">     0.0300317</td><td style=\"text-align: right;\">     0.418021 </td><td style=\"text-align: right;\">    -0.111737 </td><td style=\"text-align: right;\">   -0.144509  </td><td style=\"text-align: right;\">  -0.399925   </td><td style=\"text-align: right;\">     0.132508 </td><td style=\"text-align: right;\">     0.0310716</td><td style=\"text-align: right;\">    -0.0781151</td><td style=\"text-align: right;\">     0.298927 </td><td style=\"text-align: right;\">    -0.0732326</td><td style=\"text-align: right;\">    -0.15535  </td><td style=\"text-align: right;\">    -0.0128815</td><td style=\"text-align: right;\">    -0.0768982</td><td style=\"text-align: right;\">   -0.0527244 </td><td style=\"text-align: right;\">   -0.0386829 </td><td style=\"text-align: right;\">    -0.221777 </td><td style=\"text-align: right;\">    -0.338575 </td><td style=\"text-align: right;\">     0.0513582</td><td style=\"text-align: right;\">  -0.0423545  </td><td style=\"text-align: right;\">     0.219412 </td><td style=\"text-align: right;\">    -0.132824 </td><td style=\"text-align: right;\">    -0.0606562</td><td style=\"text-align: right;\">    -0.214792 </td><td style=\"text-align: right;\">   -0.0624992 </td><td style=\"text-align: right;\">     0.155368 </td><td style=\"text-align: right;\">    0.378838  </td><td style=\"text-align: right;\">     0.0828622</td><td style=\"text-align: right;\">    -0.0662369</td><td style=\"text-align: right;\">   -0.427861  </td><td style=\"text-align: right;\">     0.103284 </td><td style=\"text-align: right;\">     0.087274 </td><td style=\"text-align: right;\">    -0.131914 </td><td style=\"text-align: right;\">     -0.137596</td><td style=\"text-align: right;\">   -0.353876  </td><td style=\"text-align: right;\">   -0.135232  </td><td style=\"text-align: right;\">   -0.0040762 </td><td style=\"text-align: right;\">     0.228212 </td><td style=\"text-align: right;\">     0.0788726</td><td style=\"text-align: right;\">   -0.136315  </td><td style=\"text-align: right;\">    0.0936527 </td><td style=\"text-align: right;\">    -0.159003 </td><td style=\"text-align: right;\">   -0.0384437 </td><td style=\"text-align: right;\">   0.0699847  </td><td style=\"text-align: right;\">    0.20992   </td><td style=\"text-align: right;\">     0.0369023</td><td style=\"text-align: right;\">     0.0657645</td><td style=\"text-align: right;\">    -0.0657815</td><td style=\"text-align: right;\">     0.309494 </td><td style=\"text-align: right;\">   -0.0691506 </td><td style=\"text-align: right;\">  -0.00832301 </td><td style=\"text-align: right;\">     0.0848265</td><td style=\"text-align: right;\">     0.209062 </td><td style=\"text-align: right;\">     0.0571159</td><td style=\"text-align: right;\">     0.388935 </td><td style=\"text-align: right;\">   -0.0306642 </td><td style=\"text-align: right;\">    -0.0373846</td><td style=\"text-align: right;\">    -0.0979673</td><td style=\"text-align: right;\">     0.11399  </td><td style=\"text-align: right;\">     0.0402307</td><td style=\"text-align: right;\">   -0.107697  </td><td style=\"text-align: right;\">     0.185229 </td><td style=\"text-align: right;\">    -0.0626299</td><td style=\"text-align: right;\">    -0.0754123</td><td style=\"text-align: right;\">     0.147179 </td><td style=\"text-align: right;\">     0.569111 </td><td style=\"text-align: right;\">     0.0443124</td><td style=\"text-align: right;\">    0.0409207 </td><td style=\"text-align: right;\">    -0.0202693</td><td style=\"text-align: right;\">     0.0435575</td><td style=\"text-align: right;\">    0.282209  </td><td style=\"text-align: right;\">   -0.492095  </td><td style=\"text-align: right;\">     0.263743 </td><td style=\"text-align: right;\">     0.411137 </td><td style=\"text-align: right;\">     0.0154189</td><td style=\"text-align: right;\">     0.265583  </td></tr>\n",
              "<tr><td style=\"text-align: right;\">  -0.12187   </td><td style=\"text-align: right;\">   -0.230463 </td><td style=\"text-align: right;\">   0.229787  </td><td style=\"text-align: right;\">   -0.43371  </td><td style=\"text-align: right;\">   -0.0679507</td><td style=\"text-align: right;\">   -0.212368 </td><td style=\"text-align: right;\">   -0.126026 </td><td style=\"text-align: right;\">   -0.349497 </td><td style=\"text-align: right;\">   0.322464  </td><td style=\"text-align: right;\">     0.270689 </td><td style=\"text-align: right;\">    -0.223424 </td><td style=\"text-align: right;\">    -0.0147522</td><td style=\"text-align: right;\">    -0.0562166</td><td style=\"text-align: right;\">    0.0440511 </td><td style=\"text-align: right;\">    0.479118  </td><td style=\"text-align: right;\">    -0.0811102</td><td style=\"text-align: right;\">     0.515341 </td><td style=\"text-align: right;\">  -0.135063   </td><td style=\"text-align: right;\">   -0.180468  </td><td style=\"text-align: right;\">   -0.0534743 </td><td style=\"text-align: right;\">     0.1917   </td><td style=\"text-align: right;\">    0.125728  </td><td style=\"text-align: right;\">     0.553124 </td><td style=\"text-align: right;\">    -0.296039 </td><td style=\"text-align: right;\">   -0.176061  </td><td style=\"text-align: right;\">    -0.475079 </td><td style=\"text-align: right;\">    -0.481391 </td><td style=\"text-align: right;\">    -0.121846 </td><td style=\"text-align: right;\">    0.253668  </td><td style=\"text-align: right;\">  -0.689027   </td><td style=\"text-align: right;\">    -0.0156803</td><td style=\"text-align: right;\">     0.0436549</td><td style=\"text-align: right;\">    -0.121627 </td><td style=\"text-align: right;\">     0.259011 </td><td style=\"text-align: right;\">     0.0613847</td><td style=\"text-align: right;\">     0.1018   </td><td style=\"text-align: right;\">     0.134486 </td><td style=\"text-align: right;\">     0.137904 </td><td style=\"text-align: right;\">    0.0248774 </td><td style=\"text-align: right;\">    0.156867  </td><td style=\"text-align: right;\">    -0.16224  </td><td style=\"text-align: right;\">    -0.429536 </td><td style=\"text-align: right;\">     0.128416 </td><td style=\"text-align: right;\">   0.478552   </td><td style=\"text-align: right;\">     0.0290331</td><td style=\"text-align: right;\">    -0.247557 </td><td style=\"text-align: right;\">     0.232996 </td><td style=\"text-align: right;\">    -0.212857 </td><td style=\"text-align: right;\">    0.0286096 </td><td style=\"text-align: right;\">     0.0243992</td><td style=\"text-align: right;\">    0.00639906</td><td style=\"text-align: right;\">    -0.403691 </td><td style=\"text-align: right;\">     0.168719 </td><td style=\"text-align: right;\">   -0.0214282 </td><td style=\"text-align: right;\">    -0.231799 </td><td style=\"text-align: right;\">    -0.047837 </td><td style=\"text-align: right;\">    -0.5733   </td><td style=\"text-align: right;\">      0.152213</td><td style=\"text-align: right;\">   -0.140046  </td><td style=\"text-align: right;\">   -0.00413021</td><td style=\"text-align: right;\">    0.282629  </td><td style=\"text-align: right;\">     0.161239 </td><td style=\"text-align: right;\">     0.193139 </td><td style=\"text-align: right;\">    0.379041  </td><td style=\"text-align: right;\">    0.0713957 </td><td style=\"text-align: right;\">     0.31865  </td><td style=\"text-align: right;\">   -0.522601  </td><td style=\"text-align: right;\">  -0.000575228</td><td style=\"text-align: right;\">   -0.447137  </td><td style=\"text-align: right;\">    -0.105258 </td><td style=\"text-align: right;\">    -0.288467 </td><td style=\"text-align: right;\">     0.0753702</td><td style=\"text-align: right;\">     0.354819 </td><td style=\"text-align: right;\">   -0.200791  </td><td style=\"text-align: right;\">  -0.156495   </td><td style=\"text-align: right;\">    -0.19984  </td><td style=\"text-align: right;\">    -0.389956 </td><td style=\"text-align: right;\">     0.0648278</td><td style=\"text-align: right;\">    -0.122691 </td><td style=\"text-align: right;\">   -0.330284  </td><td style=\"text-align: right;\">    -0.0203279</td><td style=\"text-align: right;\">    -0.125559 </td><td style=\"text-align: right;\">    -0.241514 </td><td style=\"text-align: right;\">     0.269276 </td><td style=\"text-align: right;\">   -0.024781  </td><td style=\"text-align: right;\">    -0.729615 </td><td style=\"text-align: right;\">    -0.0764129</td><td style=\"text-align: right;\">    -0.132676 </td><td style=\"text-align: right;\">    -0.0665312</td><td style=\"text-align: right;\">    -0.110467 </td><td style=\"text-align: right;\">    -0.294142 </td><td style=\"text-align: right;\">    0.0625375 </td><td style=\"text-align: right;\">    -0.0092012</td><td style=\"text-align: right;\">     0.191396 </td><td style=\"text-align: right;\">    0.115694  </td><td style=\"text-align: right;\">   -0.00223865</td><td style=\"text-align: right;\">     0.258829 </td><td style=\"text-align: right;\">     0.237287 </td><td style=\"text-align: right;\">    -0.0943689</td><td style=\"text-align: right;\">    -0.11553   </td></tr>\n",
              "<tr><td style=\"text-align: right;\">   0.0618393 </td><td style=\"text-align: right;\">   -0.188966 </td><td style=\"text-align: right;\">   0.00625416</td><td style=\"text-align: right;\">    0.157947 </td><td style=\"text-align: right;\">   -0.144279 </td><td style=\"text-align: right;\">   -0.270215 </td><td style=\"text-align: right;\">   -0.438038 </td><td style=\"text-align: right;\">    0.149107 </td><td style=\"text-align: right;\">  -0.271087  </td><td style=\"text-align: right;\">    -0.166959 </td><td style=\"text-align: right;\">    -0.265689 </td><td style=\"text-align: right;\">     0.207492 </td><td style=\"text-align: right;\">    -0.0293126</td><td style=\"text-align: right;\">    0.2085    </td><td style=\"text-align: right;\">   -0.152025  </td><td style=\"text-align: right;\">     0.124675 </td><td style=\"text-align: right;\">     0.297062 </td><td style=\"text-align: right;\">  -0.192297   </td><td style=\"text-align: right;\">   -0.302534  </td><td style=\"text-align: right;\">   -0.198383  </td><td style=\"text-align: right;\">    -0.230156 </td><td style=\"text-align: right;\">   -0.0445697 </td><td style=\"text-align: right;\">     0.0467006</td><td style=\"text-align: right;\">     0.0147076</td><td style=\"text-align: right;\">    0.148479  </td><td style=\"text-align: right;\">    -0.130382 </td><td style=\"text-align: right;\">     0.107898 </td><td style=\"text-align: right;\">     0.135364 </td><td style=\"text-align: right;\">   -0.0376399 </td><td style=\"text-align: right;\">   0.299967   </td><td style=\"text-align: right;\">    -0.107102 </td><td style=\"text-align: right;\">     0.272835 </td><td style=\"text-align: right;\">    -0.108818 </td><td style=\"text-align: right;\">     0.299624 </td><td style=\"text-align: right;\">    -0.072196 </td><td style=\"text-align: right;\">    -0.0357843</td><td style=\"text-align: right;\">    -0.340892 </td><td style=\"text-align: right;\">     0.0988651</td><td style=\"text-align: right;\">    0.30007   </td><td style=\"text-align: right;\">   -0.218163  </td><td style=\"text-align: right;\">    -0.159523 </td><td style=\"text-align: right;\">     0.225602 </td><td style=\"text-align: right;\">    -0.0453916</td><td style=\"text-align: right;\">   0.0773244  </td><td style=\"text-align: right;\">    -0.0214527</td><td style=\"text-align: right;\">    -0.19448  </td><td style=\"text-align: right;\">     0.216343 </td><td style=\"text-align: right;\">    -0.370462 </td><td style=\"text-align: right;\">    0.346938  </td><td style=\"text-align: right;\">     0.0434467</td><td style=\"text-align: right;\">    0.0113582 </td><td style=\"text-align: right;\">    -0.177208 </td><td style=\"text-align: right;\">    -0.201406 </td><td style=\"text-align: right;\">   -0.0280029 </td><td style=\"text-align: right;\">    -0.116723 </td><td style=\"text-align: right;\">    -0.019994 </td><td style=\"text-align: right;\">    -0.362384 </td><td style=\"text-align: right;\">     -0.277162</td><td style=\"text-align: right;\">   -0.246038  </td><td style=\"text-align: right;\">   -0.022559  </td><td style=\"text-align: right;\">   -0.212324  </td><td style=\"text-align: right;\">    -0.294808 </td><td style=\"text-align: right;\">    -0.294206 </td><td style=\"text-align: right;\">    0.154636  </td><td style=\"text-align: right;\">    0.0757181 </td><td style=\"text-align: right;\">     0.0779989</td><td style=\"text-align: right;\">   -0.119916  </td><td style=\"text-align: right;\">   0.362965   </td><td style=\"text-align: right;\">   -0.107103  </td><td style=\"text-align: right;\">    -0.0588954</td><td style=\"text-align: right;\">     0.142676 </td><td style=\"text-align: right;\">     0.0158679</td><td style=\"text-align: right;\">    -0.0763174</td><td style=\"text-align: right;\">    0.165545  </td><td style=\"text-align: right;\">  -0.148066   </td><td style=\"text-align: right;\">    -0.0220178</td><td style=\"text-align: right;\">    -0.0649453</td><td style=\"text-align: right;\">    -0.0875874</td><td style=\"text-align: right;\">     0.0478672</td><td style=\"text-align: right;\">    0.172921  </td><td style=\"text-align: right;\">    -0.0468261</td><td style=\"text-align: right;\">    -0.158101 </td><td style=\"text-align: right;\">     0.0113924</td><td style=\"text-align: right;\">    -0.207358 </td><td style=\"text-align: right;\">    0.0134314 </td><td style=\"text-align: right;\">    -0.251688 </td><td style=\"text-align: right;\">     0.114975 </td><td style=\"text-align: right;\">     0.120748 </td><td style=\"text-align: right;\">     0.342937 </td><td style=\"text-align: right;\">     0.0198979</td><td style=\"text-align: right;\">     0.0720233</td><td style=\"text-align: right;\">   -0.0555685 </td><td style=\"text-align: right;\">     0.0935633</td><td style=\"text-align: right;\">    -0.0286992</td><td style=\"text-align: right;\">    0.0542581 </td><td style=\"text-align: right;\">   -0.0328876 </td><td style=\"text-align: right;\">    -0.0450427</td><td style=\"text-align: right;\">     0.268987 </td><td style=\"text-align: right;\">     0.0168865</td><td style=\"text-align: right;\">     0.279082  </td></tr>\n",
              "<tr><td style=\"text-align: right;\">   0.151844  </td><td style=\"text-align: right;\">   -0.0260341</td><td style=\"text-align: right;\">  -0.146658  </td><td style=\"text-align: right;\">   -0.177289 </td><td style=\"text-align: right;\">   -0.0558742</td><td style=\"text-align: right;\">    0.0701016</td><td style=\"text-align: right;\">   -0.0268088</td><td style=\"text-align: right;\">   -0.0602084</td><td style=\"text-align: right;\">  -0.0708036 </td><td style=\"text-align: right;\">    -0.2106   </td><td style=\"text-align: right;\">    -0.109745 </td><td style=\"text-align: right;\">     0.0264096</td><td style=\"text-align: right;\">    -0.118921 </td><td style=\"text-align: right;\">    0.00432081</td><td style=\"text-align: right;\">    0.115591  </td><td style=\"text-align: right;\">    -0.0480511</td><td style=\"text-align: right;\">     0.093497 </td><td style=\"text-align: right;\">  -0.0686774  </td><td style=\"text-align: right;\">   -0.00149991</td><td style=\"text-align: right;\">    0.0747256 </td><td style=\"text-align: right;\">     0.109826 </td><td style=\"text-align: right;\">   -0.0200186 </td><td style=\"text-align: right;\">     0.0795595</td><td style=\"text-align: right;\">    -0.0234645</td><td style=\"text-align: right;\">    0.0167655 </td><td style=\"text-align: right;\">    -0.126234 </td><td style=\"text-align: right;\">    -0.0939268</td><td style=\"text-align: right;\">    -0.137848 </td><td style=\"text-align: right;\">   -0.114345  </td><td style=\"text-align: right;\">  -0.179444   </td><td style=\"text-align: right;\">     0.0265807</td><td style=\"text-align: right;\">     0.0888535</td><td style=\"text-align: right;\">    -0.337414 </td><td style=\"text-align: right;\">     0.0987408</td><td style=\"text-align: right;\">     0.0327004</td><td style=\"text-align: right;\">    -0.0500803</td><td style=\"text-align: right;\">    -0.343865 </td><td style=\"text-align: right;\">     0.118685 </td><td style=\"text-align: right;\">   -0.109694  </td><td style=\"text-align: right;\">   -0.131388  </td><td style=\"text-align: right;\">     0.0544831</td><td style=\"text-align: right;\">     0.109894 </td><td style=\"text-align: right;\">    -0.0519422</td><td style=\"text-align: right;\">   0.0180534  </td><td style=\"text-align: right;\">    -0.177461 </td><td style=\"text-align: right;\">     0.0118216</td><td style=\"text-align: right;\">    -0.0590518</td><td style=\"text-align: right;\">    -0.0628797</td><td style=\"text-align: right;\">    0.0785295 </td><td style=\"text-align: right;\">    -0.311393 </td><td style=\"text-align: right;\">    0.101467  </td><td style=\"text-align: right;\">     0.0568358</td><td style=\"text-align: right;\">    -0.0915758</td><td style=\"text-align: right;\">   -0.150382  </td><td style=\"text-align: right;\">    -0.167897 </td><td style=\"text-align: right;\">    -0.141578 </td><td style=\"text-align: right;\">    -0.291827 </td><td style=\"text-align: right;\">      0.046916</td><td style=\"text-align: right;\">   -0.0753475 </td><td style=\"text-align: right;\">   -0.13431   </td><td style=\"text-align: right;\">   -0.0694051 </td><td style=\"text-align: right;\">     0.144381 </td><td style=\"text-align: right;\">     0.053849 </td><td style=\"text-align: right;\">   -0.0733351 </td><td style=\"text-align: right;\">   -0.00806536</td><td style=\"text-align: right;\">     0.0916966</td><td style=\"text-align: right;\">   -0.0955385 </td><td style=\"text-align: right;\">   0.0725274  </td><td style=\"text-align: right;\">    0.0905443 </td><td style=\"text-align: right;\">    -0.0834116</td><td style=\"text-align: right;\">    -0.0552286</td><td style=\"text-align: right;\">    -0.118022 </td><td style=\"text-align: right;\">     0.123154 </td><td style=\"text-align: right;\">   -0.00112769</td><td style=\"text-align: right;\">  -0.000511071</td><td style=\"text-align: right;\">    -0.0517099</td><td style=\"text-align: right;\">     0.0757319</td><td style=\"text-align: right;\">     0.0950406</td><td style=\"text-align: right;\">     0.043409 </td><td style=\"text-align: right;\">   -0.158238  </td><td style=\"text-align: right;\">    -0.0100139</td><td style=\"text-align: right;\">    -0.047074 </td><td style=\"text-align: right;\">     0.152697 </td><td style=\"text-align: right;\">    -0.194501 </td><td style=\"text-align: right;\">    0.00378892</td><td style=\"text-align: right;\">    -0.0179644</td><td style=\"text-align: right;\">     0.18594  </td><td style=\"text-align: right;\">    -0.065246 </td><td style=\"text-align: right;\">     0.0546868</td><td style=\"text-align: right;\">     0.128867 </td><td style=\"text-align: right;\">     0.0602832</td><td style=\"text-align: right;\">    0.0840823 </td><td style=\"text-align: right;\">    -0.100045 </td><td style=\"text-align: right;\">     0.0837925</td><td style=\"text-align: right;\">    0.0848641 </td><td style=\"text-align: right;\">    0.0158237 </td><td style=\"text-align: right;\">     0.0749262</td><td style=\"text-align: right;\">     0.0766142</td><td style=\"text-align: right;\">    -0.0563293</td><td style=\"text-align: right;\">     0.0763985 </td></tr>\n",
              "</tbody>\n",
              "</table>"
            ]
          },
          "metadata": {
            "tags": []
          }
        },
        {
          "output_type": "execute_result",
          "data": {
            "text/plain": [
              ""
            ]
          },
          "metadata": {
            "tags": []
          },
          "execution_count": 50
        }
      ]
    },
    {
      "cell_type": "code",
      "metadata": {
        "id": "d6fr0kT9P8Kf",
        "colab_type": "code",
        "colab": {}
      },
      "source": [
        "h2o_df_ext = h2o_df_ext.cbind(headlines_vecs)"
      ],
      "execution_count": null,
      "outputs": []
    },
    {
      "cell_type": "code",
      "metadata": {
        "id": "xy2ivmKDQFMW",
        "colab_type": "code",
        "colab": {
          "base_uri": "https://localhost:8080/",
          "height": 568
        },
        "outputId": "0f23ea0a-6375-4959-85c5-211259ef0b43"
      },
      "source": [
        "h2o_df_ext.head(1)"
      ],
      "execution_count": null,
      "outputs": [
        {
          "output_type": "display_data",
          "data": {
            "text/html": [
              "<table>\n",
              "<thead>\n",
              "<tr><th style=\"text-align: right;\">  votes</th><th>headline                                                                 </th><th>reviews                                                                                                                                                                                                                                                                                                         </th><th style=\"text-align: right;\">  rating</th><th style=\"text-align: right;\">  target</th><th style=\"text-align: right;\">        C1</th><th style=\"text-align: right;\">       C2</th><th style=\"text-align: right;\">       C3</th><th style=\"text-align: right;\">       C4</th><th style=\"text-align: right;\">        C5</th><th style=\"text-align: right;\">       C6</th><th style=\"text-align: right;\">      C7</th><th style=\"text-align: right;\">        C8</th><th style=\"text-align: right;\">       C9</th><th style=\"text-align: right;\">      C10</th><th style=\"text-align: right;\">      C11</th><th style=\"text-align: right;\">        C12</th><th style=\"text-align: right;\">       C13</th><th style=\"text-align: right;\">       C14</th><th style=\"text-align: right;\">     C15</th><th style=\"text-align: right;\">       C16</th><th style=\"text-align: right;\">      C17</th><th style=\"text-align: right;\">      C18</th><th style=\"text-align: right;\">       C19</th><th style=\"text-align: right;\">       C20</th><th style=\"text-align: right;\">       C21</th><th style=\"text-align: right;\">      C22</th><th style=\"text-align: right;\">      C23</th><th style=\"text-align: right;\">       C24</th><th style=\"text-align: right;\">      C25</th><th style=\"text-align: right;\">      C26</th><th style=\"text-align: right;\">       C27</th><th style=\"text-align: right;\">      C28</th><th style=\"text-align: right;\">      C29</th><th style=\"text-align: right;\">      C30</th><th style=\"text-align: right;\">       C31</th><th style=\"text-align: right;\">     C32</th><th style=\"text-align: right;\">      C33</th><th style=\"text-align: right;\">     C34</th><th style=\"text-align: right;\">     C35</th><th style=\"text-align: right;\">       C36</th><th style=\"text-align: right;\">      C37</th><th style=\"text-align: right;\">       C38</th><th style=\"text-align: right;\">      C39</th><th style=\"text-align: right;\">       C40</th><th style=\"text-align: right;\">       C41</th><th style=\"text-align: right;\">      C42</th><th style=\"text-align: right;\">     C43</th><th style=\"text-align: right;\">      C44</th><th style=\"text-align: right;\">      C45</th><th style=\"text-align: right;\">      C46</th><th style=\"text-align: right;\">      C47</th><th style=\"text-align: right;\">     C48</th><th style=\"text-align: right;\">     C49</th><th style=\"text-align: right;\">       C50</th><th style=\"text-align: right;\">      C51</th><th style=\"text-align: right;\">     C52</th><th style=\"text-align: right;\">      C53</th><th style=\"text-align: right;\">       C54</th><th style=\"text-align: right;\">       C55</th><th style=\"text-align: right;\">      C56</th><th style=\"text-align: right;\">      C57</th><th style=\"text-align: right;\">      C58</th><th style=\"text-align: right;\">      C59</th><th style=\"text-align: right;\">      C60</th><th style=\"text-align: right;\">      C61</th><th style=\"text-align: right;\">      C62</th><th style=\"text-align: right;\">       C63</th><th style=\"text-align: right;\">     C64</th><th style=\"text-align: right;\">       C65</th><th style=\"text-align: right;\">    C66</th><th style=\"text-align: right;\">      C67</th><th style=\"text-align: right;\">     C68</th><th style=\"text-align: right;\">      C69</th><th style=\"text-align: right;\">      C70</th><th style=\"text-align: right;\">       C71</th><th style=\"text-align: right;\">      C72</th><th style=\"text-align: right;\">       C73</th><th style=\"text-align: right;\">      C74</th><th style=\"text-align: right;\">       C75</th><th style=\"text-align: right;\">       C76</th><th style=\"text-align: right;\">     C77</th><th style=\"text-align: right;\">      C78</th><th style=\"text-align: right;\">      C79</th><th style=\"text-align: right;\">       C80</th><th style=\"text-align: right;\">       C81</th><th style=\"text-align: right;\">      C82</th><th style=\"text-align: right;\">      C83</th><th style=\"text-align: right;\">       C84</th><th style=\"text-align: right;\">       C85</th><th style=\"text-align: right;\">       C86</th><th style=\"text-align: right;\">       C87</th><th style=\"text-align: right;\">      C88</th><th style=\"text-align: right;\">       C89</th><th style=\"text-align: right;\">     C90</th><th style=\"text-align: right;\">      C91</th><th style=\"text-align: right;\">       C92</th><th style=\"text-align: right;\">       C93</th><th style=\"text-align: right;\">     C94</th><th style=\"text-align: right;\">       C95</th><th style=\"text-align: right;\">       C96</th><th style=\"text-align: right;\">      C97</th><th style=\"text-align: right;\">     C98</th><th style=\"text-align: right;\">       C99</th><th style=\"text-align: right;\">     C100</th><th style=\"text-align: right;\">  headline_C1</th><th style=\"text-align: right;\">  headline_C2</th><th style=\"text-align: right;\">  headline_C3</th><th style=\"text-align: right;\">  headline_C4</th><th style=\"text-align: right;\">  headline_C5</th><th style=\"text-align: right;\">  headline_C6</th><th style=\"text-align: right;\">  headline_C7</th><th style=\"text-align: right;\">  headline_C8</th><th style=\"text-align: right;\">  headline_C9</th><th style=\"text-align: right;\">  headline_C10</th><th style=\"text-align: right;\">  headline_C11</th><th style=\"text-align: right;\">  headline_C12</th><th style=\"text-align: right;\">  headline_C13</th><th style=\"text-align: right;\">  headline_C14</th><th style=\"text-align: right;\">  headline_C15</th><th style=\"text-align: right;\">  headline_C16</th><th style=\"text-align: right;\">  headline_C17</th><th style=\"text-align: right;\">  headline_C18</th><th style=\"text-align: right;\">  headline_C19</th><th style=\"text-align: right;\">  headline_C20</th><th style=\"text-align: right;\">  headline_C21</th><th style=\"text-align: right;\">  headline_C22</th><th style=\"text-align: right;\">  headline_C23</th><th style=\"text-align: right;\">  headline_C24</th><th style=\"text-align: right;\">  headline_C25</th><th style=\"text-align: right;\">  headline_C26</th><th style=\"text-align: right;\">  headline_C27</th><th style=\"text-align: right;\">  headline_C28</th><th style=\"text-align: right;\">  headline_C29</th><th style=\"text-align: right;\">  headline_C30</th><th style=\"text-align: right;\">  headline_C31</th><th style=\"text-align: right;\">  headline_C32</th><th style=\"text-align: right;\">  headline_C33</th><th style=\"text-align: right;\">  headline_C34</th><th style=\"text-align: right;\">  headline_C35</th><th style=\"text-align: right;\">  headline_C36</th><th style=\"text-align: right;\">  headline_C37</th><th style=\"text-align: right;\">  headline_C38</th><th style=\"text-align: right;\">  headline_C39</th><th style=\"text-align: right;\">  headline_C40</th><th style=\"text-align: right;\">  headline_C41</th><th style=\"text-align: right;\">  headline_C42</th><th style=\"text-align: right;\">  headline_C43</th><th style=\"text-align: right;\">  headline_C44</th><th style=\"text-align: right;\">  headline_C45</th><th style=\"text-align: right;\">  headline_C46</th><th style=\"text-align: right;\">  headline_C47</th><th style=\"text-align: right;\">  headline_C48</th><th style=\"text-align: right;\">  headline_C49</th><th style=\"text-align: right;\">  headline_C50</th><th style=\"text-align: right;\">  headline_C51</th><th style=\"text-align: right;\">  headline_C52</th><th style=\"text-align: right;\">  headline_C53</th><th style=\"text-align: right;\">  headline_C54</th><th style=\"text-align: right;\">  headline_C55</th><th style=\"text-align: right;\">  headline_C56</th><th style=\"text-align: right;\">  headline_C57</th><th style=\"text-align: right;\">  headline_C58</th><th style=\"text-align: right;\">  headline_C59</th><th style=\"text-align: right;\">  headline_C60</th><th style=\"text-align: right;\">  headline_C61</th><th style=\"text-align: right;\">  headline_C62</th><th style=\"text-align: right;\">  headline_C63</th><th style=\"text-align: right;\">  headline_C64</th><th style=\"text-align: right;\">  headline_C65</th><th style=\"text-align: right;\">  headline_C66</th><th style=\"text-align: right;\">  headline_C67</th><th style=\"text-align: right;\">  headline_C68</th><th style=\"text-align: right;\">  headline_C69</th><th style=\"text-align: right;\">  headline_C70</th><th style=\"text-align: right;\">  headline_C71</th><th style=\"text-align: right;\">  headline_C72</th><th style=\"text-align: right;\">  headline_C73</th><th style=\"text-align: right;\">  headline_C74</th><th style=\"text-align: right;\">  headline_C75</th><th style=\"text-align: right;\">  headline_C76</th><th style=\"text-align: right;\">  headline_C77</th><th style=\"text-align: right;\">  headline_C78</th><th style=\"text-align: right;\">  headline_C79</th><th style=\"text-align: right;\">  headline_C80</th><th style=\"text-align: right;\">  headline_C81</th><th style=\"text-align: right;\">  headline_C82</th><th style=\"text-align: right;\">  headline_C83</th><th style=\"text-align: right;\">  headline_C84</th><th style=\"text-align: right;\">  headline_C85</th><th style=\"text-align: right;\">  headline_C86</th><th style=\"text-align: right;\">  headline_C87</th><th style=\"text-align: right;\">  headline_C88</th><th style=\"text-align: right;\">  headline_C89</th><th style=\"text-align: right;\">  headline_C90</th><th style=\"text-align: right;\">  headline_C91</th><th style=\"text-align: right;\">  headline_C92</th><th style=\"text-align: right;\">  headline_C93</th><th style=\"text-align: right;\">  headline_C94</th><th style=\"text-align: right;\">  headline_C95</th></tr>\n",
              "</thead>\n",
              "<tbody>\n",
              "<tr><td style=\"text-align: right;\">      0</td><td>b&#x27;These glasses are an excellent value. The fit is good and they are ...&#x27;</td><td>b&quot;These glasses are an excellent value.  The fit is good and they are very comfortable.  Because of my legal blindness, there aren&#x27;t a lot of options to try to see better, but I believe these help with my other visual aids, and because they are reasonably priced I can have more than one pair available.&quot;</td><td style=\"text-align: right;\">       4</td><td style=\"text-align: right;\">       1</td><td style=\"text-align: right;\">-0.0223372</td><td style=\"text-align: right;\">-0.101462</td><td style=\"text-align: right;\">-0.114809</td><td style=\"text-align: right;\">0.0168284</td><td style=\"text-align: right;\">-0.0164921</td><td style=\"text-align: right;\">-0.209223</td><td style=\"text-align: right;\">0.118498</td><td style=\"text-align: right;\">-0.0710567</td><td style=\"text-align: right;\">0.0210932</td><td style=\"text-align: right;\">-0.154157</td><td style=\"text-align: right;\">0.0635977</td><td style=\"text-align: right;\">-0.00185601</td><td style=\"text-align: right;\">-0.0727741</td><td style=\"text-align: right;\">-0.0610006</td><td style=\"text-align: right;\">0.102627</td><td style=\"text-align: right;\">-0.0395098</td><td style=\"text-align: right;\">0.0940937</td><td style=\"text-align: right;\">0.0677023</td><td style=\"text-align: right;\">-0.0380843</td><td style=\"text-align: right;\">-0.0447035</td><td style=\"text-align: right;\">-0.0230255</td><td style=\"text-align: right;\">0.0230214</td><td style=\"text-align: right;\">0.0187316</td><td style=\"text-align: right;\">-0.0904272</td><td style=\"text-align: right;\">0.0431126</td><td style=\"text-align: right;\">0.0424661</td><td style=\"text-align: right;\">-0.0318441</td><td style=\"text-align: right;\">-0.128164</td><td style=\"text-align: right;\">0.0253027</td><td style=\"text-align: right;\">-0.120625</td><td style=\"text-align: right;\">0.00727081</td><td style=\"text-align: right;\">0.016413</td><td style=\"text-align: right;\">-0.180465</td><td style=\"text-align: right;\">0.190324</td><td style=\"text-align: right;\">0.149646</td><td style=\"text-align: right;\">-0.0606092</td><td style=\"text-align: right;\">-0.043471</td><td style=\"text-align: right;\">-0.0721251</td><td style=\"text-align: right;\">0.0530331</td><td style=\"text-align: right;\">-0.0879348</td><td style=\"text-align: right;\">-0.0577949</td><td style=\"text-align: right;\">0.0812804</td><td style=\"text-align: right;\">-0.10003</td><td style=\"text-align: right;\">0.0465885</td><td style=\"text-align: right;\">-0.217203</td><td style=\"text-align: right;\">-0.124892</td><td style=\"text-align: right;\">0.0971409</td><td style=\"text-align: right;\">0.165828</td><td style=\"text-align: right;\">0.119346</td><td style=\"text-align: right;\">-0.0368911</td><td style=\"text-align: right;\">0.0144467</td><td style=\"text-align: right;\">0.227636</td><td style=\"text-align: right;\">-0.047465</td><td style=\"text-align: right;\">-0.0402355</td><td style=\"text-align: right;\">-0.0318393</td><td style=\"text-align: right;\">0.0225555</td><td style=\"text-align: right;\">-0.154678</td><td style=\"text-align: right;\">-0.101554</td><td style=\"text-align: right;\">-0.064337</td><td style=\"text-align: right;\">-0.120972</td><td style=\"text-align: right;\">0.0605503</td><td style=\"text-align: right;\">0.0218879</td><td style=\"text-align: right;\">-0.0178567</td><td style=\"text-align: right;\">0.069446</td><td style=\"text-align: right;\">-0.0695093</td><td style=\"text-align: right;\">0.12788</td><td style=\"text-align: right;\">-0.100261</td><td style=\"text-align: right;\">0.200735</td><td style=\"text-align: right;\">0.0134966</td><td style=\"text-align: right;\">-0.001627</td><td style=\"text-align: right;\">-0.0622683</td><td style=\"text-align: right;\">-0.166953</td><td style=\"text-align: right;\">-0.0527882</td><td style=\"text-align: right;\">0.0973388</td><td style=\"text-align: right;\">-0.0543453</td><td style=\"text-align: right;\">-0.0653365</td><td style=\"text-align: right;\">0.040781</td><td style=\"text-align: right;\">0.0344796</td><td style=\"text-align: right;\">0.0962445</td><td style=\"text-align: right;\">-0.0734966</td><td style=\"text-align: right;\">-0.0314222</td><td style=\"text-align: right;\">-0.126654</td><td style=\"text-align: right;\">0.0556344</td><td style=\"text-align: right;\">-0.0908684</td><td style=\"text-align: right;\">-0.0590143</td><td style=\"text-align: right;\">-0.0167966</td><td style=\"text-align: right;\">0.00991901</td><td style=\"text-align: right;\">-0.127366</td><td style=\"text-align: right;\">-0.0127771</td><td style=\"text-align: right;\">0.225748</td><td style=\"text-align: right;\">-0.049723</td><td style=\"text-align: right;\">-0.0184968</td><td style=\"text-align: right;\">-0.0520713</td><td style=\"text-align: right;\">0.238112</td><td style=\"text-align: right;\">-0.0866913</td><td style=\"text-align: right;\">-0.0329198</td><td style=\"text-align: right;\">0.0293844</td><td style=\"text-align: right;\">0.075375</td><td style=\"text-align: right;\">-0.0104086</td><td style=\"text-align: right;\">0.0773219</td><td style=\"text-align: right;\">     -0.21047</td><td style=\"text-align: right;\">     -0.13496</td><td style=\"text-align: right;\">    -0.176786</td><td style=\"text-align: right;\">    -0.117084</td><td style=\"text-align: right;\">      0.18315</td><td style=\"text-align: right;\">    -0.173888</td><td style=\"text-align: right;\">    0.0589595</td><td style=\"text-align: right;\">    -0.134445</td><td style=\"text-align: right;\">   0.00850714</td><td style=\"text-align: right;\">    -0.0858592</td><td style=\"text-align: right;\">     0.0483999</td><td style=\"text-align: right;\">    -0.0624154</td><td style=\"text-align: right;\">    -0.0550178</td><td style=\"text-align: right;\">    -0.0622258</td><td style=\"text-align: right;\">       0.21797</td><td style=\"text-align: right;\">    -0.0749708</td><td style=\"text-align: right;\">      0.115848</td><td style=\"text-align: right;\">     0.0160938</td><td style=\"text-align: right;\">   -0.00990598</td><td style=\"text-align: right;\">     -0.175932</td><td style=\"text-align: right;\">    -0.0906645</td><td style=\"text-align: right;\">   -0.00669685</td><td style=\"text-align: right;\">     -0.161357</td><td style=\"text-align: right;\">     -0.152562</td><td style=\"text-align: right;\">      0.125005</td><td style=\"text-align: right;\">     0.0817904</td><td style=\"text-align: right;\">    -0.0914383</td><td style=\"text-align: right;\">     0.0391145</td><td style=\"text-align: right;\">      0.131607</td><td style=\"text-align: right;\">     -0.194927</td><td style=\"text-align: right;\">     -0.053142</td><td style=\"text-align: right;\">     0.0577179</td><td style=\"text-align: right;\">     -0.307506</td><td style=\"text-align: right;\">      0.246894</td><td style=\"text-align: right;\">      0.294249</td><td style=\"text-align: right;\">     0.0338993</td><td style=\"text-align: right;\">     -0.177282</td><td style=\"text-align: right;\">    -0.0362244</td><td style=\"text-align: right;\">   -0.00835787</td><td style=\"text-align: right;\">     -0.111125</td><td style=\"text-align: right;\">     0.0864011</td><td style=\"text-align: right;\">     0.0270139</td><td style=\"text-align: right;\">     0.0114754</td><td style=\"text-align: right;\">     0.0523982</td><td style=\"text-align: right;\">     -0.300552</td><td style=\"text-align: right;\">     -0.142601</td><td style=\"text-align: right;\">      0.114948</td><td style=\"text-align: right;\">      0.244404</td><td style=\"text-align: right;\">    0.00502782</td><td style=\"text-align: right;\">    -0.0618724</td><td style=\"text-align: right;\">     -0.079735</td><td style=\"text-align: right;\">      0.305631</td><td style=\"text-align: right;\">    -0.0258607</td><td style=\"text-align: right;\">   -0.00076927</td><td style=\"text-align: right;\">    -0.0745405</td><td style=\"text-align: right;\">     0.0265026</td><td style=\"text-align: right;\">    -0.0410406</td><td style=\"text-align: right;\">     -0.128437</td><td style=\"text-align: right;\">     -0.238651</td><td style=\"text-align: right;\">    -0.0957846</td><td style=\"text-align: right;\">     0.0223648</td><td style=\"text-align: right;\">     0.0529838</td><td style=\"text-align: right;\">     0.0454812</td><td style=\"text-align: right;\">    0.00395794</td><td style=\"text-align: right;\">    -0.0102454</td><td style=\"text-align: right;\">      0.238035</td><td style=\"text-align: right;\">    -0.0925555</td><td style=\"text-align: right;\">      0.228241</td><td style=\"text-align: right;\">      0.171618</td><td style=\"text-align: right;\">     0.0654037</td><td style=\"text-align: right;\">    -0.0350108</td><td style=\"text-align: right;\">     -0.127281</td><td style=\"text-align: right;\">     -0.118883</td><td style=\"text-align: right;\">      0.255078</td><td style=\"text-align: right;\">     0.0215669</td><td style=\"text-align: right;\">    -0.0720879</td><td style=\"text-align: right;\">     0.0296391</td><td style=\"text-align: right;\">      0.156004</td><td style=\"text-align: right;\">     0.0899398</td><td style=\"text-align: right;\">    -0.0472043</td><td style=\"text-align: right;\">    -0.0793727</td><td style=\"text-align: right;\">    -0.0875394</td><td style=\"text-align: right;\">      0.253549</td><td style=\"text-align: right;\">     -0.172655</td><td style=\"text-align: right;\">     -0.210943</td><td style=\"text-align: right;\">    -0.0487006</td><td style=\"text-align: right;\">     -0.118783</td><td style=\"text-align: right;\">    -0.0711199</td><td style=\"text-align: right;\">    -0.0363366</td><td style=\"text-align: right;\">      0.235523</td><td style=\"text-align: right;\">     -0.141892</td><td style=\"text-align: right;\">   -0.00773375</td><td style=\"text-align: right;\">    -0.0300481</td><td style=\"text-align: right;\">      0.283934</td><td style=\"text-align: right;\">    -0.0817923</td></tr>\n",
              "</tbody>\n",
              "</table>"
            ]
          },
          "metadata": {
            "tags": []
          }
        },
        {
          "output_type": "execute_result",
          "data": {
            "text/plain": [
              ""
            ]
          },
          "metadata": {
            "tags": []
          },
          "execution_count": 52
        }
      ]
    },
    {
      "cell_type": "code",
      "metadata": {
        "id": "3DogUnx9QJeR",
        "colab_type": "code",
        "colab": {}
      },
      "source": [
        "h2o_train,h2o_valid = h2o_df_ext.split_frame(ratios=[0.8])"
      ],
      "execution_count": null,
      "outputs": []
    },
    {
      "cell_type": "code",
      "metadata": {
        "id": "cEhR6cZSQbOm",
        "colab_type": "code",
        "colab": {}
      },
      "source": [
        "gbm_all_cols = H2OGradientBoostingEstimator(stopping_metric=\"AUC\", stopping_tolerance=0.001, stopping_rounds=5, score_tree_interval=10)"
      ],
      "execution_count": null,
      "outputs": []
    },
    {
      "cell_type": "code",
      "metadata": {
        "id": "6126FTRpQrHn",
        "colab_type": "code",
        "colab": {
          "base_uri": "https://localhost:8080/",
          "height": 35
        },
        "outputId": "86f77221-9db3-4aba-ea82-4fd10c375d28"
      },
      "source": [
        "gbm_all_cols.train(x=['votes']+headlines_vecs.names+reviews_vecs.names,y='target',training_frame=h2o_train,validation_frame=h2o_valid)"
      ],
      "execution_count": null,
      "outputs": [
        {
          "output_type": "stream",
          "text": [
            "gbm Model Build progress: |███████████████████████████████████████████████| 100%\n"
          ],
          "name": "stdout"
        }
      ]
    },
    {
      "cell_type": "code",
      "metadata": {
        "colab_type": "code",
        "id": "8RM_Gcd9Q9Y1",
        "colab": {
          "base_uri": "https://localhost:8080/",
          "height": 35
        },
        "outputId": "96ae3ddd-73ab-41b0-9a9e-d78267306e81"
      },
      "source": [
        "print(\"All Columns AUC : \" + str(round(gbm_all_cols.auc(valid=True),3)))"
      ],
      "execution_count": null,
      "outputs": [
        {
          "output_type": "stream",
          "text": [
            "All Columns AUC : 0.918\n"
          ],
          "name": "stdout"
        }
      ]
    },
    {
      "cell_type": "code",
      "metadata": {
        "colab_type": "code",
        "id": "Ia_NbreJQ9Z-",
        "colab": {
          "base_uri": "https://localhost:8080/",
          "height": 180
        },
        "outputId": "04fae909-0a0c-4098-cc93-f59118c74aa0"
      },
      "source": [
        "gbm_all_cols.confusion_matrix(valid=True)"
      ],
      "execution_count": null,
      "outputs": [
        {
          "output_type": "stream",
          "text": [
            "\n",
            "Confusion Matrix (Act/Pred) for max f1 @ threshold = 0.5556967016019034: \n"
          ],
          "name": "stdout"
        },
        {
          "output_type": "display_data",
          "data": {
            "text/html": [
              "<div>\n",
              "<style scoped>\n",
              "    .dataframe tbody tr th:only-of-type {\n",
              "        vertical-align: middle;\n",
              "    }\n",
              "\n",
              "    .dataframe tbody tr th {\n",
              "        vertical-align: top;\n",
              "    }\n",
              "\n",
              "    .dataframe thead th {\n",
              "        text-align: right;\n",
              "    }\n",
              "</style>\n",
              "<table border=\"1\" class=\"dataframe\">\n",
              "  <thead>\n",
              "    <tr style=\"text-align: right;\">\n",
              "      <th></th>\n",
              "      <th></th>\n",
              "      <th>0</th>\n",
              "      <th>1</th>\n",
              "      <th>Error</th>\n",
              "      <th>Rate</th>\n",
              "    </tr>\n",
              "  </thead>\n",
              "  <tbody>\n",
              "    <tr>\n",
              "      <th>0</th>\n",
              "      <td>0</td>\n",
              "      <td>3045.0</td>\n",
              "      <td>1622.0</td>\n",
              "      <td>0.3475</td>\n",
              "      <td>(1622.0/4667.0)</td>\n",
              "    </tr>\n",
              "    <tr>\n",
              "      <th>1</th>\n",
              "      <td>1</td>\n",
              "      <td>670.0</td>\n",
              "      <td>11994.0</td>\n",
              "      <td>0.0529</td>\n",
              "      <td>(670.0/12664.0)</td>\n",
              "    </tr>\n",
              "    <tr>\n",
              "      <th>2</th>\n",
              "      <td>Total</td>\n",
              "      <td>3715.0</td>\n",
              "      <td>13616.0</td>\n",
              "      <td>0.1322</td>\n",
              "      <td>(2292.0/17331.0)</td>\n",
              "    </tr>\n",
              "  </tbody>\n",
              "</table>\n",
              "</div>"
            ],
            "text/plain": [
              "               0        1   Error               Rate\n",
              "0      0  3045.0   1622.0  0.3475    (1622.0/4667.0)\n",
              "1      1   670.0  11994.0  0.0529    (670.0/12664.0)\n",
              "2  Total  3715.0  13616.0  0.1322   (2292.0/17331.0)"
            ]
          },
          "metadata": {
            "tags": []
          }
        },
        {
          "output_type": "execute_result",
          "data": {
            "text/plain": [
              ""
            ]
          },
          "metadata": {
            "tags": []
          },
          "execution_count": 57
        }
      ]
    },
    {
      "cell_type": "code",
      "metadata": {
        "id": "744jYY79RFBa",
        "colab_type": "code",
        "colab": {
          "base_uri": "https://localhost:8080/",
          "height": 362
        },
        "outputId": "73bb015f-0587-41d4-ffae-a96b067add4a"
      },
      "source": [
        "gbm_all_cols.score_history()"
      ],
      "execution_count": null,
      "outputs": [
        {
          "output_type": "execute_result",
          "data": {
            "text/html": [
              "<div>\n",
              "<style scoped>\n",
              "    .dataframe tbody tr th:only-of-type {\n",
              "        vertical-align: middle;\n",
              "    }\n",
              "\n",
              "    .dataframe tbody tr th {\n",
              "        vertical-align: top;\n",
              "    }\n",
              "\n",
              "    .dataframe thead th {\n",
              "        text-align: right;\n",
              "    }\n",
              "</style>\n",
              "<table border=\"1\" class=\"dataframe\">\n",
              "  <thead>\n",
              "    <tr style=\"text-align: right;\">\n",
              "      <th></th>\n",
              "      <th></th>\n",
              "      <th>timestamp</th>\n",
              "      <th>duration</th>\n",
              "      <th>number_of_trees</th>\n",
              "      <th>training_rmse</th>\n",
              "      <th>training_logloss</th>\n",
              "      <th>training_auc</th>\n",
              "      <th>training_pr_auc</th>\n",
              "      <th>training_lift</th>\n",
              "      <th>training_classification_error</th>\n",
              "      <th>validation_rmse</th>\n",
              "      <th>validation_logloss</th>\n",
              "      <th>validation_auc</th>\n",
              "      <th>validation_pr_auc</th>\n",
              "      <th>validation_lift</th>\n",
              "      <th>validation_classification_error</th>\n",
              "    </tr>\n",
              "  </thead>\n",
              "  <tbody>\n",
              "    <tr>\n",
              "      <th>0</th>\n",
              "      <td></td>\n",
              "      <td>2020-07-23 22:09:25</td>\n",
              "      <td>0.004 sec</td>\n",
              "      <td>0.0</td>\n",
              "      <td>0.445638</td>\n",
              "      <td>0.586484</td>\n",
              "      <td>0.500000</td>\n",
              "      <td>0.726730</td>\n",
              "      <td>1.000000</td>\n",
              "      <td>0.273270</td>\n",
              "      <td>0.443607</td>\n",
              "      <td>0.582588</td>\n",
              "      <td>0.500000</td>\n",
              "      <td>0.730714</td>\n",
              "      <td>1.000000</td>\n",
              "      <td>0.269286</td>\n",
              "    </tr>\n",
              "    <tr>\n",
              "      <th>1</th>\n",
              "      <td></td>\n",
              "      <td>2020-07-23 22:09:32</td>\n",
              "      <td>7.911 sec</td>\n",
              "      <td>10.0</td>\n",
              "      <td>0.368210</td>\n",
              "      <td>0.433780</td>\n",
              "      <td>0.886393</td>\n",
              "      <td>0.950641</td>\n",
              "      <td>1.375508</td>\n",
              "      <td>0.160991</td>\n",
              "      <td>0.370604</td>\n",
              "      <td>0.438017</td>\n",
              "      <td>0.873631</td>\n",
              "      <td>0.945511</td>\n",
              "      <td>1.362285</td>\n",
              "      <td>0.168888</td>\n",
              "    </tr>\n",
              "    <tr>\n",
              "      <th>2</th>\n",
              "      <td></td>\n",
              "      <td>2020-07-23 22:09:40</td>\n",
              "      <td>15.260 sec</td>\n",
              "      <td>20.0</td>\n",
              "      <td>0.337113</td>\n",
              "      <td>0.374262</td>\n",
              "      <td>0.912997</td>\n",
              "      <td>0.962765</td>\n",
              "      <td>1.374027</td>\n",
              "      <td>0.139009</td>\n",
              "      <td>0.343165</td>\n",
              "      <td>0.384123</td>\n",
              "      <td>0.898279</td>\n",
              "      <td>0.956574</td>\n",
              "      <td>1.368525</td>\n",
              "      <td>0.152559</td>\n",
              "    </tr>\n",
              "    <tr>\n",
              "      <th>3</th>\n",
              "      <td></td>\n",
              "      <td>2020-07-23 22:09:47</td>\n",
              "      <td>22.679 sec</td>\n",
              "      <td>30.0</td>\n",
              "      <td>0.318907</td>\n",
              "      <td>0.338833</td>\n",
              "      <td>0.925634</td>\n",
              "      <td>0.968443</td>\n",
              "      <td>1.372021</td>\n",
              "      <td>0.127138</td>\n",
              "      <td>0.328743</td>\n",
              "      <td>0.354468</td>\n",
              "      <td>0.908043</td>\n",
              "      <td>0.960890</td>\n",
              "      <td>1.368525</td>\n",
              "      <td>0.139923</td>\n",
              "    </tr>\n",
              "    <tr>\n",
              "      <th>4</th>\n",
              "      <td></td>\n",
              "      <td>2020-07-23 22:09:55</td>\n",
              "      <td>30.299 sec</td>\n",
              "      <td>40.0</td>\n",
              "      <td>0.307046</td>\n",
              "      <td>0.315558</td>\n",
              "      <td>0.933454</td>\n",
              "      <td>0.972048</td>\n",
              "      <td>1.374140</td>\n",
              "      <td>0.120073</td>\n",
              "      <td>0.320042</td>\n",
              "      <td>0.336016</td>\n",
              "      <td>0.913970</td>\n",
              "      <td>0.963567</td>\n",
              "      <td>1.368525</td>\n",
              "      <td>0.135711</td>\n",
              "    </tr>\n",
              "    <tr>\n",
              "      <th>5</th>\n",
              "      <td></td>\n",
              "      <td>2020-07-23 22:10:02</td>\n",
              "      <td>37.715 sec</td>\n",
              "      <td>50.0</td>\n",
              "      <td>0.298171</td>\n",
              "      <td>0.298581</td>\n",
              "      <td>0.939524</td>\n",
              "      <td>0.974763</td>\n",
              "      <td>1.374024</td>\n",
              "      <td>0.113430</td>\n",
              "      <td>0.314107</td>\n",
              "      <td>0.323560</td>\n",
              "      <td>0.918219</td>\n",
              "      <td>0.965489</td>\n",
              "      <td>1.368525</td>\n",
              "      <td>0.132249</td>\n",
              "    </tr>\n",
              "  </tbody>\n",
              "</table>\n",
              "</div>"
            ],
            "text/plain": [
              "               timestamp  ... validation_lift  validation_classification_error\n",
              "0    2020-07-23 22:09:25  ...        1.000000                         0.269286\n",
              "1    2020-07-23 22:09:32  ...        1.362285                         0.168888\n",
              "2    2020-07-23 22:09:40  ...        1.368525                         0.152559\n",
              "3    2020-07-23 22:09:47  ...        1.368525                         0.139923\n",
              "4    2020-07-23 22:09:55  ...        1.368525                         0.135711\n",
              "5    2020-07-23 22:10:02  ...        1.368525                         0.132249\n",
              "\n",
              "[6 rows x 16 columns]"
            ]
          },
          "metadata": {
            "tags": []
          },
          "execution_count": 58
        }
      ]
    },
    {
      "cell_type": "code",
      "metadata": {
        "id": "OT9w1XsxRKqs",
        "colab_type": "code",
        "colab": {
          "base_uri": "https://localhost:8080/",
          "height": 612
        },
        "outputId": "acc346d2-369d-4cd5-dc87-4c0ab2d0ef82"
      },
      "source": [
        "gbm_all_cols.varimp_plot()"
      ],
      "execution_count": null,
      "outputs": [
        {
          "output_type": "display_data",
          "data": {
            "image/png": "[encoded data removed]",
            "text/plain": [
              "<Figure size 1008x720 with 1 Axes>"
            ]
          },
          "metadata": {
            "tags": [],
            "needs_background": "light"
          }
        }
      ]
    },
    {
      "cell_type": "code",
      "metadata": {
        "id": "UevRkYiHRPTl",
        "colab_type": "code",
        "colab": {}
      },
      "source": [
        ""
      ],
      "execution_count": null,
      "outputs": []
    },
    {
      "cell_type": "code",
      "metadata": {
        "id": "sSbhq4AELhST",
        "colab_type": "code",
        "colab": {}
      },
      "source": [
        "gbm_hyperparameters = H2OGradientBoostingEstimator(ntrees=100,max_depth=6,learn_rate=0.1)"
      ],
      "execution_count": null,
      "outputs": []
    },
    {
      "cell_type": "code",
      "metadata": {
        "id": "KXnZ3q2yMqBm",
        "colab_type": "code",
        "colab": {
          "base_uri": "https://localhost:8080/",
          "height": 35
        },
        "outputId": "4420e82f-c71b-4f5a-a415-bd41ef28d022"
      },
      "source": [
        "gbm_hyperparameters.train(x=headlines_vecs.names+reviews_vecs.names,y='target',training_frame=h2o_train, validation_frame=h2o_valid)"
      ],
      "execution_count": null,
      "outputs": [
        {
          "output_type": "stream",
          "text": [
            "gbm Model Build progress: |███████████████████████████████████████████████| 100%\n"
          ],
          "name": "stdout"
        }
      ]
    },
    {
      "cell_type": "code",
      "metadata": {
        "id": "H_RDnGEeNsP1",
        "colab_type": "code",
        "colab": {
          "base_uri": "https://localhost:8080/",
          "height": 35
        },
        "outputId": "4261f29b-fae5-423f-c683-430f3f30d5a9"
      },
      "source": [
        "print(\"Hyperparameter AUC : \" + str(round(gbm_hyperparameters.auc(valid=True),3)))"
      ],
      "execution_count": null,
      "outputs": [
        {
          "output_type": "stream",
          "text": [
            "Hyperparameter AUC : 0.931\n"
          ],
          "name": "stdout"
        }
      ]
    },
    {
      "cell_type": "code",
      "metadata": {
        "id": "vWpQFVWnN0BI",
        "colab_type": "code",
        "colab": {
          "base_uri": "https://localhost:8080/",
          "height": 180
        },
        "outputId": "dafe721e-601d-4336-dcb7-fedf813b7b7c"
      },
      "source": [
        "gbm_hyperparameters.confusion_matrix(valid=True)"
      ],
      "execution_count": null,
      "outputs": [
        {
          "output_type": "stream",
          "text": [
            "\n",
            "Confusion Matrix (Act/Pred) for max f1 @ threshold = 0.49470831451228964: \n"
          ],
          "name": "stdout"
        },
        {
          "output_type": "display_data",
          "data": {
            "text/html": [
              "<div>\n",
              "<style scoped>\n",
              "    .dataframe tbody tr th:only-of-type {\n",
              "        vertical-align: middle;\n",
              "    }\n",
              "\n",
              "    .dataframe tbody tr th {\n",
              "        vertical-align: top;\n",
              "    }\n",
              "\n",
              "    .dataframe thead th {\n",
              "        text-align: right;\n",
              "    }\n",
              "</style>\n",
              "<table border=\"1\" class=\"dataframe\">\n",
              "  <thead>\n",
              "    <tr style=\"text-align: right;\">\n",
              "      <th></th>\n",
              "      <th></th>\n",
              "      <th>0</th>\n",
              "      <th>1</th>\n",
              "      <th>Error</th>\n",
              "      <th>Rate</th>\n",
              "    </tr>\n",
              "  </thead>\n",
              "  <tbody>\n",
              "    <tr>\n",
              "      <th>0</th>\n",
              "      <td>0</td>\n",
              "      <td>3114.0</td>\n",
              "      <td>1553.0</td>\n",
              "      <td>0.3328</td>\n",
              "      <td>(1553.0/4667.0)</td>\n",
              "    </tr>\n",
              "    <tr>\n",
              "      <th>1</th>\n",
              "      <td>1</td>\n",
              "      <td>595.0</td>\n",
              "      <td>12069.0</td>\n",
              "      <td>0.047</td>\n",
              "      <td>(595.0/12664.0)</td>\n",
              "    </tr>\n",
              "    <tr>\n",
              "      <th>2</th>\n",
              "      <td>Total</td>\n",
              "      <td>3709.0</td>\n",
              "      <td>13622.0</td>\n",
              "      <td>0.1239</td>\n",
              "      <td>(2148.0/17331.0)</td>\n",
              "    </tr>\n",
              "  </tbody>\n",
              "</table>\n",
              "</div>"
            ],
            "text/plain": [
              "               0        1   Error               Rate\n",
              "0      0  3114.0   1553.0  0.3328    (1553.0/4667.0)\n",
              "1      1   595.0  12069.0   0.047    (595.0/12664.0)\n",
              "2  Total  3709.0  13622.0  0.1239   (2148.0/17331.0)"
            ]
          },
          "metadata": {
            "tags": []
          }
        },
        {
          "output_type": "execute_result",
          "data": {
            "text/plain": [
              ""
            ]
          },
          "metadata": {
            "tags": []
          },
          "execution_count": 63
        }
      ]
    },
    {
      "cell_type": "code",
      "metadata": {
        "id": "BkBhKFZ4N3gt",
        "colab_type": "code",
        "colab": {
          "base_uri": "https://localhost:8080/",
          "height": 1000
        },
        "outputId": "ad70d166-311a-4550-8cf6-3a75e2eaff83"
      },
      "source": [
        "gbm_hyperparameters.score_history()"
      ],
      "execution_count": null,
      "outputs": [
        {
          "output_type": "execute_result",
          "data": {
            "text/html": [
              "<div>\n",
              "<style scoped>\n",
              "    .dataframe tbody tr th:only-of-type {\n",
              "        vertical-align: middle;\n",
              "    }\n",
              "\n",
              "    .dataframe tbody tr th {\n",
              "        vertical-align: top;\n",
              "    }\n",
              "\n",
              "    .dataframe thead th {\n",
              "        text-align: right;\n",
              "    }\n",
              "</style>\n",
              "<table border=\"1\" class=\"dataframe\">\n",
              "  <thead>\n",
              "    <tr style=\"text-align: right;\">\n",
              "      <th></th>\n",
              "      <th></th>\n",
              "      <th>timestamp</th>\n",
              "      <th>duration</th>\n",
              "      <th>number_of_trees</th>\n",
              "      <th>training_rmse</th>\n",
              "      <th>training_logloss</th>\n",
              "      <th>training_auc</th>\n",
              "      <th>training_pr_auc</th>\n",
              "      <th>training_lift</th>\n",
              "      <th>training_classification_error</th>\n",
              "      <th>validation_rmse</th>\n",
              "      <th>validation_logloss</th>\n",
              "      <th>validation_auc</th>\n",
              "      <th>validation_pr_auc</th>\n",
              "      <th>validation_lift</th>\n",
              "      <th>validation_classification_error</th>\n",
              "    </tr>\n",
              "  </thead>\n",
              "  <tbody>\n",
              "    <tr>\n",
              "      <th>0</th>\n",
              "      <td></td>\n",
              "      <td>2020-07-23 22:10:03</td>\n",
              "      <td>0.002 sec</td>\n",
              "      <td>0.0</td>\n",
              "      <td>0.445638</td>\n",
              "      <td>0.586484</td>\n",
              "      <td>0.500000</td>\n",
              "      <td>0.726730</td>\n",
              "      <td>1.000000</td>\n",
              "      <td>0.273270</td>\n",
              "      <td>0.443607</td>\n",
              "      <td>0.582588</td>\n",
              "      <td>0.500000</td>\n",
              "      <td>0.730714</td>\n",
              "      <td>1.000000</td>\n",
              "      <td>0.269286</td>\n",
              "    </tr>\n",
              "    <tr>\n",
              "      <th>1</th>\n",
              "      <td></td>\n",
              "      <td>2020-07-23 22:10:04</td>\n",
              "      <td>1.121 sec</td>\n",
              "      <td>1.0</td>\n",
              "      <td>0.431348</td>\n",
              "      <td>0.555906</td>\n",
              "      <td>0.837422</td>\n",
              "      <td>0.926830</td>\n",
              "      <td>1.357789</td>\n",
              "      <td>0.192673</td>\n",
              "      <td>0.430087</td>\n",
              "      <td>0.553754</td>\n",
              "      <td>0.823529</td>\n",
              "      <td>0.921055</td>\n",
              "      <td>1.345894</td>\n",
              "      <td>0.196411</td>\n",
              "    </tr>\n",
              "    <tr>\n",
              "      <th>2</th>\n",
              "      <td></td>\n",
              "      <td>2020-07-23 22:10:05</td>\n",
              "      <td>2.090 sec</td>\n",
              "      <td>2.0</td>\n",
              "      <td>0.418905</td>\n",
              "      <td>0.530921</td>\n",
              "      <td>0.856639</td>\n",
              "      <td>0.936495</td>\n",
              "      <td>1.367517</td>\n",
              "      <td>0.181107</td>\n",
              "      <td>0.418593</td>\n",
              "      <td>0.530672</td>\n",
              "      <td>0.840950</td>\n",
              "      <td>0.930654</td>\n",
              "      <td>1.358307</td>\n",
              "      <td>0.187871</td>\n",
              "    </tr>\n",
              "    <tr>\n",
              "      <th>3</th>\n",
              "      <td></td>\n",
              "      <td>2020-07-23 22:10:06</td>\n",
              "      <td>3.089 sec</td>\n",
              "      <td>3.0</td>\n",
              "      <td>0.407631</td>\n",
              "      <td>0.509053</td>\n",
              "      <td>0.872159</td>\n",
              "      <td>0.944154</td>\n",
              "      <td>1.372800</td>\n",
              "      <td>0.169454</td>\n",
              "      <td>0.408132</td>\n",
              "      <td>0.510333</td>\n",
              "      <td>0.854854</td>\n",
              "      <td>0.936798</td>\n",
              "      <td>1.361674</td>\n",
              "      <td>0.178178</td>\n",
              "    </tr>\n",
              "    <tr>\n",
              "      <th>4</th>\n",
              "      <td></td>\n",
              "      <td>2020-07-23 22:10:11</td>\n",
              "      <td>7.617 sec</td>\n",
              "      <td>8.0</td>\n",
              "      <td>0.370008</td>\n",
              "      <td>0.438315</td>\n",
              "      <td>0.893703</td>\n",
              "      <td>0.953835</td>\n",
              "      <td>1.374811</td>\n",
              "      <td>0.153707</td>\n",
              "      <td>0.373649</td>\n",
              "      <td>0.444785</td>\n",
              "      <td>0.875809</td>\n",
              "      <td>0.946482</td>\n",
              "      <td>1.363948</td>\n",
              "      <td>0.164157</td>\n",
              "    </tr>\n",
              "    <tr>\n",
              "      <th>5</th>\n",
              "      <td></td>\n",
              "      <td>2020-07-23 22:10:15</td>\n",
              "      <td>12.147 sec</td>\n",
              "      <td>13.0</td>\n",
              "      <td>0.346224</td>\n",
              "      <td>0.393305</td>\n",
              "      <td>0.911727</td>\n",
              "      <td>0.961969</td>\n",
              "      <td>1.375015</td>\n",
              "      <td>0.139141</td>\n",
              "      <td>0.353371</td>\n",
              "      <td>0.405263</td>\n",
              "      <td>0.891053</td>\n",
              "      <td>0.953262</td>\n",
              "      <td>1.364942</td>\n",
              "      <td>0.155733</td>\n",
              "    </tr>\n",
              "    <tr>\n",
              "      <th>6</th>\n",
              "      <td></td>\n",
              "      <td>2020-07-23 22:10:20</td>\n",
              "      <td>16.623 sec</td>\n",
              "      <td>18.0</td>\n",
              "      <td>0.330184</td>\n",
              "      <td>0.362907</td>\n",
              "      <td>0.923426</td>\n",
              "      <td>0.967440</td>\n",
              "      <td>1.374369</td>\n",
              "      <td>0.130182</td>\n",
              "      <td>0.340398</td>\n",
              "      <td>0.379489</td>\n",
              "      <td>0.901035</td>\n",
              "      <td>0.957788</td>\n",
              "      <td>1.368525</td>\n",
              "      <td>0.147193</td>\n",
              "    </tr>\n",
              "    <tr>\n",
              "      <th>7</th>\n",
              "      <td></td>\n",
              "      <td>2020-07-23 22:10:24</td>\n",
              "      <td>21.325 sec</td>\n",
              "      <td>23.0</td>\n",
              "      <td>0.318182</td>\n",
              "      <td>0.340031</td>\n",
              "      <td>0.931002</td>\n",
              "      <td>0.970840</td>\n",
              "      <td>1.374265</td>\n",
              "      <td>0.122928</td>\n",
              "      <td>0.331364</td>\n",
              "      <td>0.360966</td>\n",
              "      <td>0.907286</td>\n",
              "      <td>0.960688</td>\n",
              "      <td>1.368525</td>\n",
              "      <td>0.142981</td>\n",
              "    </tr>\n",
              "    <tr>\n",
              "      <th>8</th>\n",
              "      <td></td>\n",
              "      <td>2020-07-23 22:10:29</td>\n",
              "      <td>25.790 sec</td>\n",
              "      <td>28.0</td>\n",
              "      <td>0.308678</td>\n",
              "      <td>0.322173</td>\n",
              "      <td>0.936870</td>\n",
              "      <td>0.973429</td>\n",
              "      <td>1.376027</td>\n",
              "      <td>0.117422</td>\n",
              "      <td>0.324578</td>\n",
              "      <td>0.347047</td>\n",
              "      <td>0.911747</td>\n",
              "      <td>0.962601</td>\n",
              "      <td>1.360660</td>\n",
              "      <td>0.138999</td>\n",
              "    </tr>\n",
              "    <tr>\n",
              "      <th>9</th>\n",
              "      <td></td>\n",
              "      <td>2020-07-23 22:10:33</td>\n",
              "      <td>30.242 sec</td>\n",
              "      <td>33.0</td>\n",
              "      <td>0.300902</td>\n",
              "      <td>0.307481</td>\n",
              "      <td>0.941418</td>\n",
              "      <td>0.975360</td>\n",
              "      <td>1.376027</td>\n",
              "      <td>0.112149</td>\n",
              "      <td>0.319619</td>\n",
              "      <td>0.336401</td>\n",
              "      <td>0.914937</td>\n",
              "      <td>0.963836</td>\n",
              "      <td>1.360793</td>\n",
              "      <td>0.137845</td>\n",
              "    </tr>\n",
              "    <tr>\n",
              "      <th>10</th>\n",
              "      <td></td>\n",
              "      <td>2020-07-23 22:10:38</td>\n",
              "      <td>34.715 sec</td>\n",
              "      <td>38.0</td>\n",
              "      <td>0.294478</td>\n",
              "      <td>0.295146</td>\n",
              "      <td>0.945043</td>\n",
              "      <td>0.976956</td>\n",
              "      <td>1.376027</td>\n",
              "      <td>0.107910</td>\n",
              "      <td>0.315698</td>\n",
              "      <td>0.327643</td>\n",
              "      <td>0.917649</td>\n",
              "      <td>0.965174</td>\n",
              "      <td>1.360660</td>\n",
              "      <td>0.134845</td>\n",
              "    </tr>\n",
              "    <tr>\n",
              "      <th>11</th>\n",
              "      <td></td>\n",
              "      <td>2020-07-23 22:10:42</td>\n",
              "      <td>39.221 sec</td>\n",
              "      <td>43.0</td>\n",
              "      <td>0.288865</td>\n",
              "      <td>0.284716</td>\n",
              "      <td>0.948242</td>\n",
              "      <td>0.978359</td>\n",
              "      <td>1.376027</td>\n",
              "      <td>0.103831</td>\n",
              "      <td>0.312609</td>\n",
              "      <td>0.320765</td>\n",
              "      <td>0.919923</td>\n",
              "      <td>0.966434</td>\n",
              "      <td>1.368525</td>\n",
              "      <td>0.132768</td>\n",
              "    </tr>\n",
              "    <tr>\n",
              "      <th>12</th>\n",
              "      <td></td>\n",
              "      <td>2020-07-23 22:10:47</td>\n",
              "      <td>43.801 sec</td>\n",
              "      <td>48.0</td>\n",
              "      <td>0.283996</td>\n",
              "      <td>0.275912</td>\n",
              "      <td>0.950975</td>\n",
              "      <td>0.979546</td>\n",
              "      <td>1.376027</td>\n",
              "      <td>0.100859</td>\n",
              "      <td>0.310078</td>\n",
              "      <td>0.315334</td>\n",
              "      <td>0.921592</td>\n",
              "      <td>0.967079</td>\n",
              "      <td>1.368525</td>\n",
              "      <td>0.130114</td>\n",
              "    </tr>\n",
              "    <tr>\n",
              "      <th>13</th>\n",
              "      <td></td>\n",
              "      <td>2020-07-23 22:10:51</td>\n",
              "      <td>48.361 sec</td>\n",
              "      <td>53.0</td>\n",
              "      <td>0.279723</td>\n",
              "      <td>0.268070</td>\n",
              "      <td>0.953398</td>\n",
              "      <td>0.980596</td>\n",
              "      <td>1.376027</td>\n",
              "      <td>0.099155</td>\n",
              "      <td>0.307992</td>\n",
              "      <td>0.310608</td>\n",
              "      <td>0.923173</td>\n",
              "      <td>0.967653</td>\n",
              "      <td>1.360660</td>\n",
              "      <td>0.128267</td>\n",
              "    </tr>\n",
              "    <tr>\n",
              "      <th>14</th>\n",
              "      <td></td>\n",
              "      <td>2020-07-23 22:10:56</td>\n",
              "      <td>52.902 sec</td>\n",
              "      <td>58.0</td>\n",
              "      <td>0.275772</td>\n",
              "      <td>0.260940</td>\n",
              "      <td>0.955605</td>\n",
              "      <td>0.981588</td>\n",
              "      <td>1.376027</td>\n",
              "      <td>0.096213</td>\n",
              "      <td>0.306183</td>\n",
              "      <td>0.306625</td>\n",
              "      <td>0.924469</td>\n",
              "      <td>0.968340</td>\n",
              "      <td>1.361543</td>\n",
              "      <td>0.128036</td>\n",
              "    </tr>\n",
              "    <tr>\n",
              "      <th>15</th>\n",
              "      <td></td>\n",
              "      <td>2020-07-23 22:11:00</td>\n",
              "      <td>57.545 sec</td>\n",
              "      <td>63.0</td>\n",
              "      <td>0.272177</td>\n",
              "      <td>0.254606</td>\n",
              "      <td>0.957598</td>\n",
              "      <td>0.982456</td>\n",
              "      <td>1.376027</td>\n",
              "      <td>0.093751</td>\n",
              "      <td>0.304649</td>\n",
              "      <td>0.303283</td>\n",
              "      <td>0.925629</td>\n",
              "      <td>0.968826</td>\n",
              "      <td>1.368525</td>\n",
              "      <td>0.125959</td>\n",
              "    </tr>\n",
              "    <tr>\n",
              "      <th>16</th>\n",
              "      <td></td>\n",
              "      <td>2020-07-23 22:11:05</td>\n",
              "      <td>1 min  1.999 sec</td>\n",
              "      <td>68.0</td>\n",
              "      <td>0.268753</td>\n",
              "      <td>0.248700</td>\n",
              "      <td>0.959503</td>\n",
              "      <td>0.983253</td>\n",
              "      <td>1.376027</td>\n",
              "      <td>0.091479</td>\n",
              "      <td>0.303358</td>\n",
              "      <td>0.300404</td>\n",
              "      <td>0.926625</td>\n",
              "      <td>0.969330</td>\n",
              "      <td>1.368525</td>\n",
              "      <td>0.127517</td>\n",
              "    </tr>\n",
              "    <tr>\n",
              "      <th>17</th>\n",
              "      <td></td>\n",
              "      <td>2020-07-23 22:11:09</td>\n",
              "      <td>1 min  6.450 sec</td>\n",
              "      <td>73.0</td>\n",
              "      <td>0.265557</td>\n",
              "      <td>0.243291</td>\n",
              "      <td>0.961256</td>\n",
              "      <td>0.984018</td>\n",
              "      <td>1.376027</td>\n",
              "      <td>0.088973</td>\n",
              "      <td>0.302462</td>\n",
              "      <td>0.298244</td>\n",
              "      <td>0.927297</td>\n",
              "      <td>0.969720</td>\n",
              "      <td>1.368525</td>\n",
              "      <td>0.125209</td>\n",
              "    </tr>\n",
              "    <tr>\n",
              "      <th>18</th>\n",
              "      <td></td>\n",
              "      <td>2020-07-23 22:11:14</td>\n",
              "      <td>1 min 10.921 sec</td>\n",
              "      <td>78.0</td>\n",
              "      <td>0.262633</td>\n",
              "      <td>0.238325</td>\n",
              "      <td>0.962854</td>\n",
              "      <td>0.984721</td>\n",
              "      <td>1.376027</td>\n",
              "      <td>0.087429</td>\n",
              "      <td>0.301465</td>\n",
              "      <td>0.296047</td>\n",
              "      <td>0.928071</td>\n",
              "      <td>0.970047</td>\n",
              "      <td>1.368525</td>\n",
              "      <td>0.126594</td>\n",
              "    </tr>\n",
              "    <tr>\n",
              "      <th>19</th>\n",
              "      <td></td>\n",
              "      <td>2020-07-23 22:11:18</td>\n",
              "      <td>1 min 15.375 sec</td>\n",
              "      <td>83.0</td>\n",
              "      <td>0.259635</td>\n",
              "      <td>0.233353</td>\n",
              "      <td>0.964458</td>\n",
              "      <td>0.985406</td>\n",
              "      <td>1.376027</td>\n",
              "      <td>0.085448</td>\n",
              "      <td>0.300261</td>\n",
              "      <td>0.293582</td>\n",
              "      <td>0.929035</td>\n",
              "      <td>0.970471</td>\n",
              "      <td>1.368525</td>\n",
              "      <td>0.126305</td>\n",
              "    </tr>\n",
              "    <tr>\n",
              "      <th>20</th>\n",
              "      <td></td>\n",
              "      <td>2020-07-23 22:11:23</td>\n",
              "      <td>1 min 19.939 sec</td>\n",
              "      <td>88.0</td>\n",
              "      <td>0.256674</td>\n",
              "      <td>0.228675</td>\n",
              "      <td>0.966031</td>\n",
              "      <td>0.986075</td>\n",
              "      <td>1.376027</td>\n",
              "      <td>0.082840</td>\n",
              "      <td>0.299267</td>\n",
              "      <td>0.291689</td>\n",
              "      <td>0.929702</td>\n",
              "      <td>0.970669</td>\n",
              "      <td>1.368525</td>\n",
              "      <td>0.123824</td>\n",
              "    </tr>\n",
              "    <tr>\n",
              "      <th>21</th>\n",
              "      <td></td>\n",
              "      <td>2020-07-23 22:11:28</td>\n",
              "      <td>1 min 24.664 sec</td>\n",
              "      <td>93.0</td>\n",
              "      <td>0.254533</td>\n",
              "      <td>0.225128</td>\n",
              "      <td>0.967115</td>\n",
              "      <td>0.986548</td>\n",
              "      <td>1.376027</td>\n",
              "      <td>0.081311</td>\n",
              "      <td>0.298565</td>\n",
              "      <td>0.290284</td>\n",
              "      <td>0.930140</td>\n",
              "      <td>0.970859</td>\n",
              "      <td>1.368525</td>\n",
              "      <td>0.125036</td>\n",
              "    </tr>\n",
              "    <tr>\n",
              "      <th>22</th>\n",
              "      <td></td>\n",
              "      <td>2020-07-23 22:11:32</td>\n",
              "      <td>1 min 29.173 sec</td>\n",
              "      <td>98.0</td>\n",
              "      <td>0.252026</td>\n",
              "      <td>0.221183</td>\n",
              "      <td>0.968369</td>\n",
              "      <td>0.987080</td>\n",
              "      <td>1.376027</td>\n",
              "      <td>0.079461</td>\n",
              "      <td>0.297947</td>\n",
              "      <td>0.288959</td>\n",
              "      <td>0.930645</td>\n",
              "      <td>0.971070</td>\n",
              "      <td>1.368525</td>\n",
              "      <td>0.124344</td>\n",
              "    </tr>\n",
              "    <tr>\n",
              "      <th>23</th>\n",
              "      <td></td>\n",
              "      <td>2020-07-23 22:11:35</td>\n",
              "      <td>1 min 32.219 sec</td>\n",
              "      <td>100.0</td>\n",
              "      <td>0.250956</td>\n",
              "      <td>0.219535</td>\n",
              "      <td>0.968950</td>\n",
              "      <td>0.987340</td>\n",
              "      <td>1.376027</td>\n",
              "      <td>0.078645</td>\n",
              "      <td>0.297713</td>\n",
              "      <td>0.288479</td>\n",
              "      <td>0.930838</td>\n",
              "      <td>0.971177</td>\n",
              "      <td>1.368525</td>\n",
              "      <td>0.123940</td>\n",
              "    </tr>\n",
              "  </tbody>\n",
              "</table>\n",
              "</div>"
            ],
            "text/plain": [
              "                timestamp  ... validation_lift  validation_classification_error\n",
              "0     2020-07-23 22:10:03  ...        1.000000                         0.269286\n",
              "1     2020-07-23 22:10:04  ...        1.345894                         0.196411\n",
              "2     2020-07-23 22:10:05  ...        1.358307                         0.187871\n",
              "3     2020-07-23 22:10:06  ...        1.361674                         0.178178\n",
              "4     2020-07-23 22:10:11  ...        1.363948                         0.164157\n",
              "5     2020-07-23 22:10:15  ...        1.364942                         0.155733\n",
              "6     2020-07-23 22:10:20  ...        1.368525                         0.147193\n",
              "7     2020-07-23 22:10:24  ...        1.368525                         0.142981\n",
              "8     2020-07-23 22:10:29  ...        1.360660                         0.138999\n",
              "9     2020-07-23 22:10:33  ...        1.360793                         0.137845\n",
              "10    2020-07-23 22:10:38  ...        1.360660                         0.134845\n",
              "11    2020-07-23 22:10:42  ...        1.368525                         0.132768\n",
              "12    2020-07-23 22:10:47  ...        1.368525                         0.130114\n",
              "13    2020-07-23 22:10:51  ...        1.360660                         0.128267\n",
              "14    2020-07-23 22:10:56  ...        1.361543                         0.128036\n",
              "15    2020-07-23 22:11:00  ...        1.368525                         0.125959\n",
              "16    2020-07-23 22:11:05  ...        1.368525                         0.127517\n",
              "17    2020-07-23 22:11:09  ...        1.368525                         0.125209\n",
              "18    2020-07-23 22:11:14  ...        1.368525                         0.126594\n",
              "19    2020-07-23 22:11:18  ...        1.368525                         0.126305\n",
              "20    2020-07-23 22:11:23  ...        1.368525                         0.123824\n",
              "21    2020-07-23 22:11:28  ...        1.368525                         0.125036\n",
              "22    2020-07-23 22:11:32  ...        1.368525                         0.124344\n",
              "23    2020-07-23 22:11:35  ...        1.368525                         0.123940\n",
              "\n",
              "[24 rows x 16 columns]"
            ]
          },
          "metadata": {
            "tags": []
          },
          "execution_count": 64
        }
      ]
    },
    {
      "cell_type": "code",
      "metadata": {
        "id": "kosPaWrHN8Wv",
        "colab_type": "code",
        "colab": {}
      },
      "source": [
        "xgb_all_feat=H2OXGBoostEstimator(ntrees=100,learn_rate=0.1,max_leaves=6,tree_method=\"hist\",grow_policy=\"lossguide\")"
      ],
      "execution_count": null,
      "outputs": []
    },
    {
      "cell_type": "code",
      "metadata": {
        "id": "64hBMAGsORuR",
        "colab_type": "code",
        "colab": {
          "base_uri": "https://localhost:8080/",
          "height": 35
        },
        "outputId": "3b7b4c75-8d42-4ce1-9451-1790bc1b5a31"
      },
      "source": [
        "xgb_all_feat.train(x=headlines_vecs.names+reviews_vecs.names,y='target',training_frame=h2o_train, validation_frame=h2o_valid)"
      ],
      "execution_count": null,
      "outputs": [
        {
          "output_type": "stream",
          "text": [
            "xgboost Model Build progress: |███████████████████████████████████████████| 100%\n"
          ],
          "name": "stdout"
        }
      ]
    },
    {
      "cell_type": "code",
      "metadata": {
        "id": "NPVbq1ZHOdYZ",
        "colab_type": "code",
        "colab": {
          "base_uri": "https://localhost:8080/",
          "height": 35
        },
        "outputId": "99c6b039-c6f4-44e8-e2bc-ed268cf524cd"
      },
      "source": [
        "print(\"XGBoost AUC : \" + str(round(xgb_all_feat.auc(valid=True),3)))"
      ],
      "execution_count": null,
      "outputs": [
        {
          "output_type": "stream",
          "text": [
            "XGBoost AUC : 0.917\n"
          ],
          "name": "stdout"
        }
      ]
    },
    {
      "cell_type": "code",
      "metadata": {
        "id": "BYjDt8PLOudQ",
        "colab_type": "code",
        "colab": {
          "base_uri": "https://localhost:8080/",
          "height": 180
        },
        "outputId": "a03b3502-8277-48be-ee70-8d2b3ab15d22"
      },
      "source": [
        "xgb_all_feat.confusion_matrix(valid=True)"
      ],
      "execution_count": null,
      "outputs": [
        {
          "output_type": "stream",
          "text": [
            "\n",
            "Confusion Matrix (Act/Pred) for max f1 @ threshold = 0.5129535297552744: \n"
          ],
          "name": "stdout"
        },
        {
          "output_type": "display_data",
          "data": {
            "text/html": [
              "<div>\n",
              "<style scoped>\n",
              "    .dataframe tbody tr th:only-of-type {\n",
              "        vertical-align: middle;\n",
              "    }\n",
              "\n",
              "    .dataframe tbody tr th {\n",
              "        vertical-align: top;\n",
              "    }\n",
              "\n",
              "    .dataframe thead th {\n",
              "        text-align: right;\n",
              "    }\n",
              "</style>\n",
              "<table border=\"1\" class=\"dataframe\">\n",
              "  <thead>\n",
              "    <tr style=\"text-align: right;\">\n",
              "      <th></th>\n",
              "      <th></th>\n",
              "      <th>0</th>\n",
              "      <th>1</th>\n",
              "      <th>Error</th>\n",
              "      <th>Rate</th>\n",
              "    </tr>\n",
              "  </thead>\n",
              "  <tbody>\n",
              "    <tr>\n",
              "      <th>0</th>\n",
              "      <td>0</td>\n",
              "      <td>2858.0</td>\n",
              "      <td>1809.0</td>\n",
              "      <td>0.3876</td>\n",
              "      <td>(1809.0/4667.0)</td>\n",
              "    </tr>\n",
              "    <tr>\n",
              "      <th>1</th>\n",
              "      <td>1</td>\n",
              "      <td>550.0</td>\n",
              "      <td>12114.0</td>\n",
              "      <td>0.0434</td>\n",
              "      <td>(550.0/12664.0)</td>\n",
              "    </tr>\n",
              "    <tr>\n",
              "      <th>2</th>\n",
              "      <td>Total</td>\n",
              "      <td>3408.0</td>\n",
              "      <td>13923.0</td>\n",
              "      <td>0.1361</td>\n",
              "      <td>(2359.0/17331.0)</td>\n",
              "    </tr>\n",
              "  </tbody>\n",
              "</table>\n",
              "</div>"
            ],
            "text/plain": [
              "               0        1   Error               Rate\n",
              "0      0  2858.0   1809.0  0.3876    (1809.0/4667.0)\n",
              "1      1   550.0  12114.0  0.0434    (550.0/12664.0)\n",
              "2  Total  3408.0  13923.0  0.1361   (2359.0/17331.0)"
            ]
          },
          "metadata": {
            "tags": []
          }
        },
        {
          "output_type": "execute_result",
          "data": {
            "text/plain": [
              ""
            ]
          },
          "metadata": {
            "tags": []
          },
          "execution_count": 68
        }
      ]
    },
    {
      "cell_type": "code",
      "metadata": {
        "id": "onLpRxtjOysn",
        "colab_type": "code",
        "colab": {
          "base_uri": "https://localhost:8080/",
          "height": 410
        },
        "outputId": "558c8a0c-2811-4497-cd04-a70ae0cea8ab"
      },
      "source": [
        "xgb_all_feat.score_history()"
      ],
      "execution_count": null,
      "outputs": [
        {
          "output_type": "execute_result",
          "data": {
            "text/html": [
              "<div>\n",
              "<style scoped>\n",
              "    .dataframe tbody tr th:only-of-type {\n",
              "        vertical-align: middle;\n",
              "    }\n",
              "\n",
              "    .dataframe tbody tr th {\n",
              "        vertical-align: top;\n",
              "    }\n",
              "\n",
              "    .dataframe thead th {\n",
              "        text-align: right;\n",
              "    }\n",
              "</style>\n",
              "<table border=\"1\" class=\"dataframe\">\n",
              "  <thead>\n",
              "    <tr style=\"text-align: right;\">\n",
              "      <th></th>\n",
              "      <th></th>\n",
              "      <th>timestamp</th>\n",
              "      <th>duration</th>\n",
              "      <th>number_of_trees</th>\n",
              "      <th>training_rmse</th>\n",
              "      <th>training_logloss</th>\n",
              "      <th>training_auc</th>\n",
              "      <th>training_pr_auc</th>\n",
              "      <th>training_lift</th>\n",
              "      <th>training_classification_error</th>\n",
              "      <th>validation_rmse</th>\n",
              "      <th>validation_logloss</th>\n",
              "      <th>validation_auc</th>\n",
              "      <th>validation_pr_auc</th>\n",
              "      <th>validation_lift</th>\n",
              "      <th>validation_classification_error</th>\n",
              "    </tr>\n",
              "  </thead>\n",
              "  <tbody>\n",
              "    <tr>\n",
              "      <th>0</th>\n",
              "      <td></td>\n",
              "      <td>2020-07-23 22:11:36</td>\n",
              "      <td>0.170 sec</td>\n",
              "      <td>0.0</td>\n",
              "      <td>0.500000</td>\n",
              "      <td>0.693147</td>\n",
              "      <td>0.500000</td>\n",
              "      <td>0.726730</td>\n",
              "      <td>1.000000</td>\n",
              "      <td>0.273270</td>\n",
              "      <td>0.500000</td>\n",
              "      <td>0.693147</td>\n",
              "      <td>0.500000</td>\n",
              "      <td>0.730714</td>\n",
              "      <td>1.000000</td>\n",
              "      <td>0.269286</td>\n",
              "    </tr>\n",
              "    <tr>\n",
              "      <th>1</th>\n",
              "      <td></td>\n",
              "      <td>2020-07-23 22:11:40</td>\n",
              "      <td>3.699 sec</td>\n",
              "      <td>1.0</td>\n",
              "      <td>0.483558</td>\n",
              "      <td>0.660752</td>\n",
              "      <td>0.741559</td>\n",
              "      <td>0.866412</td>\n",
              "      <td>1.255272</td>\n",
              "      <td>0.229658</td>\n",
              "      <td>0.483594</td>\n",
              "      <td>0.660821</td>\n",
              "      <td>0.732978</td>\n",
              "      <td>0.862846</td>\n",
              "      <td>1.239795</td>\n",
              "      <td>0.227396</td>\n",
              "    </tr>\n",
              "    <tr>\n",
              "      <th>2</th>\n",
              "      <td></td>\n",
              "      <td>2020-07-23 22:11:40</td>\n",
              "      <td>4.218 sec</td>\n",
              "      <td>2.0</td>\n",
              "      <td>0.468581</td>\n",
              "      <td>0.631941</td>\n",
              "      <td>0.799672</td>\n",
              "      <td>0.903186</td>\n",
              "      <td>1.317750</td>\n",
              "      <td>0.213780</td>\n",
              "      <td>0.468641</td>\n",
              "      <td>0.632055</td>\n",
              "      <td>0.789056</td>\n",
              "      <td>0.898608</td>\n",
              "      <td>1.303898</td>\n",
              "      <td>0.211817</td>\n",
              "    </tr>\n",
              "    <tr>\n",
              "      <th>3</th>\n",
              "      <td></td>\n",
              "      <td>2020-07-23 22:11:41</td>\n",
              "      <td>4.817 sec</td>\n",
              "      <td>3.0</td>\n",
              "      <td>0.456439</td>\n",
              "      <td>0.608912</td>\n",
              "      <td>0.816103</td>\n",
              "      <td>0.912838</td>\n",
              "      <td>1.338743</td>\n",
              "      <td>0.209847</td>\n",
              "      <td>0.456543</td>\n",
              "      <td>0.609107</td>\n",
              "      <td>0.807107</td>\n",
              "      <td>0.908963</td>\n",
              "      <td>1.324270</td>\n",
              "      <td>0.208297</td>\n",
              "    </tr>\n",
              "    <tr>\n",
              "      <th>4</th>\n",
              "      <td></td>\n",
              "      <td>2020-07-23 22:11:45</td>\n",
              "      <td>8.868 sec</td>\n",
              "      <td>45.0</td>\n",
              "      <td>0.336281</td>\n",
              "      <td>0.369593</td>\n",
              "      <td>0.907046</td>\n",
              "      <td>0.960034</td>\n",
              "      <td>1.376027</td>\n",
              "      <td>0.144151</td>\n",
              "      <td>0.338977</td>\n",
              "      <td>0.373961</td>\n",
              "      <td>0.898798</td>\n",
              "      <td>0.956854</td>\n",
              "      <td>1.368525</td>\n",
              "      <td>0.150713</td>\n",
              "    </tr>\n",
              "    <tr>\n",
              "      <th>5</th>\n",
              "      <td></td>\n",
              "      <td>2020-07-23 22:11:49</td>\n",
              "      <td>12.971 sec</td>\n",
              "      <td>84.0</td>\n",
              "      <td>0.314332</td>\n",
              "      <td>0.324426</td>\n",
              "      <td>0.923399</td>\n",
              "      <td>0.967609</td>\n",
              "      <td>1.376027</td>\n",
              "      <td>0.130066</td>\n",
              "      <td>0.319998</td>\n",
              "      <td>0.333476</td>\n",
              "      <td>0.913184</td>\n",
              "      <td>0.963491</td>\n",
              "      <td>1.368525</td>\n",
              "      <td>0.140500</td>\n",
              "    </tr>\n",
              "    <tr>\n",
              "      <th>6</th>\n",
              "      <td></td>\n",
              "      <td>2020-07-23 22:11:51</td>\n",
              "      <td>14.912 sec</td>\n",
              "      <td>100.0</td>\n",
              "      <td>0.308881</td>\n",
              "      <td>0.313686</td>\n",
              "      <td>0.927361</td>\n",
              "      <td>0.969408</td>\n",
              "      <td>1.376027</td>\n",
              "      <td>0.126555</td>\n",
              "      <td>0.315422</td>\n",
              "      <td>0.324065</td>\n",
              "      <td>0.916933</td>\n",
              "      <td>0.965154</td>\n",
              "      <td>1.368525</td>\n",
              "      <td>0.136114</td>\n",
              "    </tr>\n",
              "  </tbody>\n",
              "</table>\n",
              "</div>"
            ],
            "text/plain": [
              "               timestamp  ... validation_lift  validation_classification_error\n",
              "0    2020-07-23 22:11:36  ...        1.000000                         0.269286\n",
              "1    2020-07-23 22:11:40  ...        1.239795                         0.227396\n",
              "2    2020-07-23 22:11:40  ...        1.303898                         0.211817\n",
              "3    2020-07-23 22:11:41  ...        1.324270                         0.208297\n",
              "4    2020-07-23 22:11:45  ...        1.368525                         0.150713\n",
              "5    2020-07-23 22:11:49  ...        1.368525                         0.140500\n",
              "6    2020-07-23 22:11:51  ...        1.368525                         0.136114\n",
              "\n",
              "[7 rows x 16 columns]"
            ]
          },
          "metadata": {
            "tags": []
          },
          "execution_count": 69
        }
      ]
    },
    {
      "cell_type": "code",
      "metadata": {
        "id": "D9j5Axc_O0cR",
        "colab_type": "code",
        "colab": {}
      },
      "source": [
        "h2o_train,h2o_valid, h2o_test = h2o_df_ext.split_frame(ratios=[0.7,0.15])"
      ],
      "execution_count": null,
      "outputs": []
    },
    {
      "cell_type": "code",
      "metadata": {
        "id": "P9o1cyY_PqkI",
        "colab_type": "code",
        "colab": {}
      },
      "source": [
        "gbm_final = H2OGradientBoostingEstimator(ntrees=200,max_depth=6,learn_rate=0.1)"
      ],
      "execution_count": null,
      "outputs": []
    },
    {
      "cell_type": "code",
      "metadata": {
        "id": "Y83MZc1IQ32s",
        "colab_type": "code",
        "colab": {
          "base_uri": "https://localhost:8080/",
          "height": 35
        },
        "outputId": "a92f42a3-c737-409c-9439-97b14d7cfc7c"
      },
      "source": [
        "gbm_final.train(x=headlines_vecs.names+reviews_vecs.names,y='target',training_frame=h2o_train, validation_frame=h2o_valid)"
      ],
      "execution_count": null,
      "outputs": [
        {
          "output_type": "stream",
          "text": [
            "gbm Model Build progress: |███████████████████████████████████████████████| 100%\n"
          ],
          "name": "stdout"
        }
      ]
    },
    {
      "cell_type": "code",
      "metadata": {
        "id": "RGqtOvHURACz",
        "colab_type": "code",
        "colab": {
          "base_uri": "https://localhost:8080/",
          "height": 35
        },
        "outputId": "6c9bff2e-ff18-4afc-ddf9-6f16626fdb19"
      },
      "source": [
        "print(\"XGBoost AUC : \" + str(round(gbm_final.auc(valid=True),3)))"
      ],
      "execution_count": null,
      "outputs": [
        {
          "output_type": "stream",
          "text": [
            "XGBoost AUC : 0.94\n"
          ],
          "name": "stdout"
        }
      ]
    },
    {
      "cell_type": "code",
      "metadata": {
        "id": "r9ifnqqdRk-E",
        "colab_type": "code",
        "colab": {
          "base_uri": "https://localhost:8080/",
          "height": 180
        },
        "outputId": "a6a67e0a-35eb-43be-b541-d87b04a359e6"
      },
      "source": [
        "gbm_final.confusion_matrix(valid=True)"
      ],
      "execution_count": null,
      "outputs": [
        {
          "output_type": "stream",
          "text": [
            "\n",
            "Confusion Matrix (Act/Pred) for max f1 @ threshold = 0.5465247360331845: \n"
          ],
          "name": "stdout"
        },
        {
          "output_type": "display_data",
          "data": {
            "text/html": [
              "<div>\n",
              "<style scoped>\n",
              "    .dataframe tbody tr th:only-of-type {\n",
              "        vertical-align: middle;\n",
              "    }\n",
              "\n",
              "    .dataframe tbody tr th {\n",
              "        vertical-align: top;\n",
              "    }\n",
              "\n",
              "    .dataframe thead th {\n",
              "        text-align: right;\n",
              "    }\n",
              "</style>\n",
              "<table border=\"1\" class=\"dataframe\">\n",
              "  <thead>\n",
              "    <tr style=\"text-align: right;\">\n",
              "      <th></th>\n",
              "      <th></th>\n",
              "      <th>0</th>\n",
              "      <th>1</th>\n",
              "      <th>Error</th>\n",
              "      <th>Rate</th>\n",
              "    </tr>\n",
              "  </thead>\n",
              "  <tbody>\n",
              "    <tr>\n",
              "      <th>0</th>\n",
              "      <td>0</td>\n",
              "      <td>2579.0</td>\n",
              "      <td>964.0</td>\n",
              "      <td>0.2721</td>\n",
              "      <td>(964.0/3543.0)</td>\n",
              "    </tr>\n",
              "    <tr>\n",
              "      <th>1</th>\n",
              "      <td>1</td>\n",
              "      <td>524.0</td>\n",
              "      <td>8807.0</td>\n",
              "      <td>0.0562</td>\n",
              "      <td>(524.0/9331.0)</td>\n",
              "    </tr>\n",
              "    <tr>\n",
              "      <th>2</th>\n",
              "      <td>Total</td>\n",
              "      <td>3103.0</td>\n",
              "      <td>9771.0</td>\n",
              "      <td>0.1156</td>\n",
              "      <td>(1488.0/12874.0)</td>\n",
              "    </tr>\n",
              "  </tbody>\n",
              "</table>\n",
              "</div>"
            ],
            "text/plain": [
              "               0       1   Error               Rate\n",
              "0      0  2579.0   964.0  0.2721     (964.0/3543.0)\n",
              "1      1   524.0  8807.0  0.0562     (524.0/9331.0)\n",
              "2  Total  3103.0  9771.0  0.1156   (1488.0/12874.0)"
            ]
          },
          "metadata": {
            "tags": []
          }
        },
        {
          "output_type": "execute_result",
          "data": {
            "text/plain": [
              ""
            ]
          },
          "metadata": {
            "tags": []
          },
          "execution_count": 74
        }
      ]
    },
    {
      "cell_type": "code",
      "metadata": {
        "id": "1jQLwpZXRpyt",
        "colab_type": "code",
        "colab": {
          "base_uri": "https://localhost:8080/",
          "height": 612
        },
        "outputId": "921f65a6-19cf-4099-e294-9735c869ec99"
      },
      "source": [
        "gbm_final.varimp_plot()"
      ],
      "execution_count": null,
      "outputs": [
        {
          "output_type": "display_data",
          "data": {
            "image/png": "[encoded data removed]",
            "text/plain": [
              "<Figure size 1008x720 with 1 Axes>"
            ]
          },
          "metadata": {
            "tags": [],
            "needs_background": "light"
          }
        }
      ]
    },
    {
      "cell_type": "code",
      "metadata": {
        "id": "THAgI8Q5RuYP",
        "colab_type": "code",
        "colab": {}
      },
      "source": [
        "ntrees_opt=[100,200,250,300]\n",
        "max_dept_opt=[6,7,8]\n",
        "learn_rate_opt=[0.01,0.1]"
      ],
      "execution_count": null,
      "outputs": []
    },
    {
      "cell_type": "code",
      "metadata": {
        "id": "Spkrre6_SJ7V",
        "colab_type": "code",
        "colab": {}
      },
      "source": [
        "hyper_parameters={\"ntrees\":ntrees_opt,\"max_depth\":max_dept_opt,\"learn_rate\":learn_rate_opt}\n",
        "search_criteria={\"strategy\":\"RandomDiscrete\",\"max_models\":4}"
      ],
      "execution_count": null,
      "outputs": []
    },
    {
      "cell_type": "code",
      "metadata": {
        "id": "gD7BQwGeSlVf",
        "colab_type": "code",
        "colab": {}
      },
      "source": [
        "from h2o.grid.grid_search import H2OGridSearch\n",
        "gs = H2OGridSearch(H2OGradientBoostingEstimator,hyper_params=hyper_parameters,search_criteria=search_criteria) "
      ],
      "execution_count": null,
      "outputs": []
    },
    {
      "cell_type": "code",
      "metadata": {
        "id": "dJSSnHEuTTdV",
        "colab_type": "code",
        "colab": {
          "base_uri": "https://localhost:8080/",
          "height": 35
        },
        "outputId": "5bc8b03c-c301-483d-bcbf-986072de0ac2"
      },
      "source": [
        "gs.train(x=headlines_vecs.names+reviews_vecs.names,y='target',training_frame=h2o_train, validation_frame=h2o_valid)"
      ],
      "execution_count": null,
      "outputs": [
        {
          "output_type": "stream",
          "text": [
            "gbm Grid Build progress: |████████████████████████████████████████████████| 100%\n"
          ],
          "name": "stdout"
        }
      ]
    },
    {
      "cell_type": "code",
      "metadata": {
        "id": "NVQUi0VvTbPq",
        "colab_type": "code",
        "colab": {
          "base_uri": "https://localhost:8080/",
          "height": 162
        },
        "outputId": "a1b9614c-f5bb-4be3-fd93-34a8d53c50a7"
      },
      "source": [
        "print(gs.get_grid(sort_by='auc', decreasing=True))"
      ],
      "execution_count": null,
      "outputs": [
        {
          "output_type": "stream",
          "text": [
            "     ...                 auc\n",
            "0    ...  0.9409643296272235\n",
            "1    ...  0.9364425598960523\n",
            "2    ...  0.9249351620595363\n",
            "3    ...  0.9168520961739165\n",
            "\n",
            "[4 rows x 6 columns]\n",
            "\n"
          ],
          "name": "stdout"
        }
      ]
    },
    {
      "cell_type": "code",
      "metadata": {
        "id": "jLyP60HPTm2M",
        "colab_type": "code",
        "colab": {
          "base_uri": "https://localhost:8080/",
          "height": 1000
        },
        "outputId": "aa0bb18e-fd20-436f-890f-9434db0411aa"
      },
      "source": [
        "gs.models[0]"
      ],
      "execution_count": null,
      "outputs": [
        {
          "output_type": "stream",
          "text": [
            "Model Details\n",
            "=============\n",
            "H2OGradientBoostingEstimator :  Gradient Boosting Machine\n",
            "Model Key:  Grid_GBM_py_392_sid_aa59_model_python_1595541431585_200_model_3\n",
            "\n",
            "\n",
            "Model Summary: \n"
          ],
          "name": "stdout"
        },
        {
          "output_type": "display_data",
          "data": {
            "text/html": [
              "<div>\n",
              "<style scoped>\n",
              "    .dataframe tbody tr th:only-of-type {\n",
              "        vertical-align: middle;\n",
              "    }\n",
              "\n",
              "    .dataframe tbody tr th {\n",
              "        vertical-align: top;\n",
              "    }\n",
              "\n",
              "    .dataframe thead th {\n",
              "        text-align: right;\n",
              "    }\n",
              "</style>\n",
              "<table border=\"1\" class=\"dataframe\">\n",
              "  <thead>\n",
              "    <tr style=\"text-align: right;\">\n",
              "      <th></th>\n",
              "      <th></th>\n",
              "      <th>number_of_trees</th>\n",
              "      <th>number_of_internal_trees</th>\n",
              "      <th>model_size_in_bytes</th>\n",
              "      <th>min_depth</th>\n",
              "      <th>max_depth</th>\n",
              "      <th>mean_depth</th>\n",
              "      <th>min_leaves</th>\n",
              "      <th>max_leaves</th>\n",
              "      <th>mean_leaves</th>\n",
              "    </tr>\n",
              "  </thead>\n",
              "  <tbody>\n",
              "    <tr>\n",
              "      <th>0</th>\n",
              "      <td></td>\n",
              "      <td>250.0</td>\n",
              "      <td>250.0</td>\n",
              "      <td>362310.0</td>\n",
              "      <td>7.0</td>\n",
              "      <td>7.0</td>\n",
              "      <td>7.0</td>\n",
              "      <td>78.0</td>\n",
              "      <td>128.0</td>\n",
              "      <td>110.796</td>\n",
              "    </tr>\n",
              "  </tbody>\n",
              "</table>\n",
              "</div>"
            ],
            "text/plain": [
              "     number_of_trees  ...  max_leaves  mean_leaves\n",
              "0              250.0  ...       128.0      110.796\n",
              "\n",
              "[1 rows x 10 columns]"
            ]
          },
          "metadata": {
            "tags": []
          }
        },
        {
          "output_type": "stream",
          "text": [
            "\n",
            "\n",
            "ModelMetricsBinomial: gbm\n",
            "** Reported on train data. **\n",
            "\n",
            "MSE: 0.016650886545990305\n",
            "RMSE: 0.12903831425584536\n",
            "LogLoss: 0.08308500506583102\n",
            "Mean Per-Class Error: 0.012868300623717577\n",
            "AUC: 0.9988288421769057\n",
            "AUCPR: 0.999513837596876\n",
            "Gini: 0.9976576843538114\n",
            "\n",
            "Confusion Matrix (Act/Pred) for max f1 @ threshold = 0.5829506637991722: \n"
          ],
          "name": "stdout"
        },
        {
          "output_type": "display_data",
          "data": {
            "text/html": [
              "<div>\n",
              "<style scoped>\n",
              "    .dataframe tbody tr th:only-of-type {\n",
              "        vertical-align: middle;\n",
              "    }\n",
              "\n",
              "    .dataframe tbody tr th {\n",
              "        vertical-align: top;\n",
              "    }\n",
              "\n",
              "    .dataframe thead th {\n",
              "        text-align: right;\n",
              "    }\n",
              "</style>\n",
              "<table border=\"1\" class=\"dataframe\">\n",
              "  <thead>\n",
              "    <tr style=\"text-align: right;\">\n",
              "      <th></th>\n",
              "      <th></th>\n",
              "      <th>0</th>\n",
              "      <th>1</th>\n",
              "      <th>Error</th>\n",
              "      <th>Rate</th>\n",
              "    </tr>\n",
              "  </thead>\n",
              "  <tbody>\n",
              "    <tr>\n",
              "      <th>0</th>\n",
              "      <td>0</td>\n",
              "      <td>16058.0</td>\n",
              "      <td>358.0</td>\n",
              "      <td>0.0218</td>\n",
              "      <td>(358.0/16416.0)</td>\n",
              "    </tr>\n",
              "    <tr>\n",
              "      <th>1</th>\n",
              "      <td>1</td>\n",
              "      <td>261.0</td>\n",
              "      <td>43491.0</td>\n",
              "      <td>0.006</td>\n",
              "      <td>(261.0/43752.0)</td>\n",
              "    </tr>\n",
              "    <tr>\n",
              "      <th>2</th>\n",
              "      <td>Total</td>\n",
              "      <td>16319.0</td>\n",
              "      <td>43849.0</td>\n",
              "      <td>0.0103</td>\n",
              "      <td>(619.0/60168.0)</td>\n",
              "    </tr>\n",
              "  </tbody>\n",
              "</table>\n",
              "</div>"
            ],
            "text/plain": [
              "                0        1   Error              Rate\n",
              "0      0  16058.0    358.0  0.0218   (358.0/16416.0)\n",
              "1      1    261.0  43491.0   0.006   (261.0/43752.0)\n",
              "2  Total  16319.0  43849.0  0.0103   (619.0/60168.0)"
            ]
          },
          "metadata": {
            "tags": []
          }
        },
        {
          "output_type": "stream",
          "text": [
            "\n",
            "Maximum Metrics: Maximum metrics at their respective thresholds\n"
          ],
          "name": "stdout"
        },
        {
          "output_type": "display_data",
          "data": {
            "text/html": [
              "<div>\n",
              "<style scoped>\n",
              "    .dataframe tbody tr th:only-of-type {\n",
              "        vertical-align: middle;\n",
              "    }\n",
              "\n",
              "    .dataframe tbody tr th {\n",
              "        vertical-align: top;\n",
              "    }\n",
              "\n",
              "    .dataframe thead th {\n",
              "        text-align: right;\n",
              "    }\n",
              "</style>\n",
              "<table border=\"1\" class=\"dataframe\">\n",
              "  <thead>\n",
              "    <tr style=\"text-align: right;\">\n",
              "      <th></th>\n",
              "      <th>metric</th>\n",
              "      <th>threshold</th>\n",
              "      <th>value</th>\n",
              "      <th>idx</th>\n",
              "    </tr>\n",
              "  </thead>\n",
              "  <tbody>\n",
              "    <tr>\n",
              "      <th>0</th>\n",
              "      <td>max f1</td>\n",
              "      <td>0.582951</td>\n",
              "      <td>0.992934</td>\n",
              "      <td>197.0</td>\n",
              "    </tr>\n",
              "    <tr>\n",
              "      <th>1</th>\n",
              "      <td>max f2</td>\n",
              "      <td>0.492344</td>\n",
              "      <td>0.994605</td>\n",
              "      <td>217.0</td>\n",
              "    </tr>\n",
              "    <tr>\n",
              "      <th>2</th>\n",
              "      <td>max f0point5</td>\n",
              "      <td>0.671194</td>\n",
              "      <td>0.993558</td>\n",
              "      <td>178.0</td>\n",
              "    </tr>\n",
              "    <tr>\n",
              "      <th>3</th>\n",
              "      <td>max accuracy</td>\n",
              "      <td>0.582951</td>\n",
              "      <td>0.989712</td>\n",
              "      <td>197.0</td>\n",
              "    </tr>\n",
              "    <tr>\n",
              "      <th>4</th>\n",
              "      <td>max precision</td>\n",
              "      <td>0.999015</td>\n",
              "      <td>1.000000</td>\n",
              "      <td>0.0</td>\n",
              "    </tr>\n",
              "    <tr>\n",
              "      <th>5</th>\n",
              "      <td>max recall</td>\n",
              "      <td>0.040683</td>\n",
              "      <td>1.000000</td>\n",
              "      <td>372.0</td>\n",
              "    </tr>\n",
              "    <tr>\n",
              "      <th>6</th>\n",
              "      <td>max specificity</td>\n",
              "      <td>0.999015</td>\n",
              "      <td>1.000000</td>\n",
              "      <td>0.0</td>\n",
              "    </tr>\n",
              "    <tr>\n",
              "      <th>7</th>\n",
              "      <td>max absolute_mcc</td>\n",
              "      <td>0.582951</td>\n",
              "      <td>0.974033</td>\n",
              "      <td>197.0</td>\n",
              "    </tr>\n",
              "    <tr>\n",
              "      <th>8</th>\n",
              "      <td>max min_per_class_accuracy</td>\n",
              "      <td>0.666496</td>\n",
              "      <td>0.986995</td>\n",
              "      <td>179.0</td>\n",
              "    </tr>\n",
              "    <tr>\n",
              "      <th>9</th>\n",
              "      <td>max mean_per_class_accuracy</td>\n",
              "      <td>0.666496</td>\n",
              "      <td>0.987132</td>\n",
              "      <td>179.0</td>\n",
              "    </tr>\n",
              "    <tr>\n",
              "      <th>10</th>\n",
              "      <td>max tns</td>\n",
              "      <td>0.999015</td>\n",
              "      <td>16416.000000</td>\n",
              "      <td>0.0</td>\n",
              "    </tr>\n",
              "    <tr>\n",
              "      <th>11</th>\n",
              "      <td>max fns</td>\n",
              "      <td>0.999015</td>\n",
              "      <td>42439.000000</td>\n",
              "      <td>0.0</td>\n",
              "    </tr>\n",
              "    <tr>\n",
              "      <th>12</th>\n",
              "      <td>max fps</td>\n",
              "      <td>0.000964</td>\n",
              "      <td>16416.000000</td>\n",
              "      <td>399.0</td>\n",
              "    </tr>\n",
              "    <tr>\n",
              "      <th>13</th>\n",
              "      <td>max tps</td>\n",
              "      <td>0.040683</td>\n",
              "      <td>43752.000000</td>\n",
              "      <td>372.0</td>\n",
              "    </tr>\n",
              "    <tr>\n",
              "      <th>14</th>\n",
              "      <td>max tnr</td>\n",
              "      <td>0.999015</td>\n",
              "      <td>1.000000</td>\n",
              "      <td>0.0</td>\n",
              "    </tr>\n",
              "    <tr>\n",
              "      <th>15</th>\n",
              "      <td>max fnr</td>\n",
              "      <td>0.999015</td>\n",
              "      <td>0.969990</td>\n",
              "      <td>0.0</td>\n",
              "    </tr>\n",
              "    <tr>\n",
              "      <th>16</th>\n",
              "      <td>max fpr</td>\n",
              "      <td>0.000964</td>\n",
              "      <td>1.000000</td>\n",
              "      <td>399.0</td>\n",
              "    </tr>\n",
              "    <tr>\n",
              "      <th>17</th>\n",
              "      <td>max tpr</td>\n",
              "      <td>0.040683</td>\n",
              "      <td>1.000000</td>\n",
              "      <td>372.0</td>\n",
              "    </tr>\n",
              "  </tbody>\n",
              "</table>\n",
              "</div>"
            ],
            "text/plain": [
              "                         metric  threshold         value    idx\n",
              "0                        max f1   0.582951      0.992934  197.0\n",
              "1                        max f2   0.492344      0.994605  217.0\n",
              "2                  max f0point5   0.671194      0.993558  178.0\n",
              "3                  max accuracy   0.582951      0.989712  197.0\n",
              "4                 max precision   0.999015      1.000000    0.0\n",
              "5                    max recall   0.040683      1.000000  372.0\n",
              "6               max specificity   0.999015      1.000000    0.0\n",
              "7              max absolute_mcc   0.582951      0.974033  197.0\n",
              "8    max min_per_class_accuracy   0.666496      0.986995  179.0\n",
              "9   max mean_per_class_accuracy   0.666496      0.987132  179.0\n",
              "10                      max tns   0.999015  16416.000000    0.0\n",
              "11                      max fns   0.999015  42439.000000    0.0\n",
              "12                      max fps   0.000964  16416.000000  399.0\n",
              "13                      max tps   0.040683  43752.000000  372.0\n",
              "14                      max tnr   0.999015      1.000000    0.0\n",
              "15                      max fnr   0.999015      0.969990    0.0\n",
              "16                      max fpr   0.000964      1.000000  399.0\n",
              "17                      max tpr   0.040683      1.000000  372.0"
            ]
          },
          "metadata": {
            "tags": []
          }
        },
        {
          "output_type": "stream",
          "text": [
            "\n",
            "Gains/Lift Table: Avg response rate: 72.72 %, avg score: 72.71 %\n"
          ],
          "name": "stdout"
        },
        {
          "output_type": "display_data",
          "data": {
            "text/html": [
              "<div>\n",
              "<style scoped>\n",
              "    .dataframe tbody tr th:only-of-type {\n",
              "        vertical-align: middle;\n",
              "    }\n",
              "\n",
              "    .dataframe tbody tr th {\n",
              "        vertical-align: top;\n",
              "    }\n",
              "\n",
              "    .dataframe thead th {\n",
              "        text-align: right;\n",
              "    }\n",
              "</style>\n",
              "<table border=\"1\" class=\"dataframe\">\n",
              "  <thead>\n",
              "    <tr style=\"text-align: right;\">\n",
              "      <th></th>\n",
              "      <th></th>\n",
              "      <th>group</th>\n",
              "      <th>cumulative_data_fraction</th>\n",
              "      <th>lower_threshold</th>\n",
              "      <th>lift</th>\n",
              "      <th>cumulative_lift</th>\n",
              "      <th>response_rate</th>\n",
              "      <th>score</th>\n",
              "      <th>cumulative_response_rate</th>\n",
              "      <th>cumulative_score</th>\n",
              "      <th>capture_rate</th>\n",
              "      <th>cumulative_capture_rate</th>\n",
              "      <th>gain</th>\n",
              "      <th>cumulative_gain</th>\n",
              "    </tr>\n",
              "  </thead>\n",
              "  <tbody>\n",
              "    <tr>\n",
              "      <th>0</th>\n",
              "      <td></td>\n",
              "      <td>1</td>\n",
              "      <td>0.010005</td>\n",
              "      <td>0.999019</td>\n",
              "      <td>1.375206</td>\n",
              "      <td>1.375206</td>\n",
              "      <td>1.000000</td>\n",
              "      <td>0.999178</td>\n",
              "      <td>1.000000</td>\n",
              "      <td>0.999178</td>\n",
              "      <td>0.013759</td>\n",
              "      <td>0.013759</td>\n",
              "      <td>37.520570</td>\n",
              "      <td>37.520570</td>\n",
              "    </tr>\n",
              "    <tr>\n",
              "      <th>1</th>\n",
              "      <td></td>\n",
              "      <td>2</td>\n",
              "      <td>0.020011</td>\n",
              "      <td>0.998880</td>\n",
              "      <td>1.375206</td>\n",
              "      <td>1.375206</td>\n",
              "      <td>1.000000</td>\n",
              "      <td>0.998955</td>\n",
              "      <td>1.000000</td>\n",
              "      <td>0.999066</td>\n",
              "      <td>0.013759</td>\n",
              "      <td>0.027519</td>\n",
              "      <td>37.520570</td>\n",
              "      <td>37.520570</td>\n",
              "    </tr>\n",
              "    <tr>\n",
              "      <th>2</th>\n",
              "      <td></td>\n",
              "      <td>3</td>\n",
              "      <td>0.030016</td>\n",
              "      <td>0.998650</td>\n",
              "      <td>1.375206</td>\n",
              "      <td>1.375206</td>\n",
              "      <td>1.000000</td>\n",
              "      <td>0.998748</td>\n",
              "      <td>1.000000</td>\n",
              "      <td>0.998960</td>\n",
              "      <td>0.013759</td>\n",
              "      <td>0.041278</td>\n",
              "      <td>37.520570</td>\n",
              "      <td>37.520570</td>\n",
              "    </tr>\n",
              "    <tr>\n",
              "      <th>3</th>\n",
              "      <td></td>\n",
              "      <td>4</td>\n",
              "      <td>0.040005</td>\n",
              "      <td>0.998466</td>\n",
              "      <td>1.375206</td>\n",
              "      <td>1.375206</td>\n",
              "      <td>1.000000</td>\n",
              "      <td>0.998561</td>\n",
              "      <td>1.000000</td>\n",
              "      <td>0.998861</td>\n",
              "      <td>0.013737</td>\n",
              "      <td>0.055015</td>\n",
              "      <td>37.520570</td>\n",
              "      <td>37.520570</td>\n",
              "    </tr>\n",
              "    <tr>\n",
              "      <th>4</th>\n",
              "      <td></td>\n",
              "      <td>5</td>\n",
              "      <td>0.050492</td>\n",
              "      <td>0.998311</td>\n",
              "      <td>1.375206</td>\n",
              "      <td>1.375206</td>\n",
              "      <td>1.000000</td>\n",
              "      <td>0.998377</td>\n",
              "      <td>1.000000</td>\n",
              "      <td>0.998760</td>\n",
              "      <td>0.014422</td>\n",
              "      <td>0.069437</td>\n",
              "      <td>37.520570</td>\n",
              "      <td>37.520570</td>\n",
              "    </tr>\n",
              "    <tr>\n",
              "      <th>5</th>\n",
              "      <td></td>\n",
              "      <td>6</td>\n",
              "      <td>0.100003</td>\n",
              "      <td>0.997115</td>\n",
              "      <td>1.375206</td>\n",
              "      <td>1.375206</td>\n",
              "      <td>1.000000</td>\n",
              "      <td>0.997733</td>\n",
              "      <td>1.000000</td>\n",
              "      <td>0.998252</td>\n",
              "      <td>0.068088</td>\n",
              "      <td>0.137525</td>\n",
              "      <td>37.520570</td>\n",
              "      <td>37.520570</td>\n",
              "    </tr>\n",
              "    <tr>\n",
              "      <th>6</th>\n",
              "      <td></td>\n",
              "      <td>7</td>\n",
              "      <td>0.150263</td>\n",
              "      <td>0.995345</td>\n",
              "      <td>1.375206</td>\n",
              "      <td>1.375206</td>\n",
              "      <td>1.000000</td>\n",
              "      <td>0.996260</td>\n",
              "      <td>1.000000</td>\n",
              "      <td>0.997586</td>\n",
              "      <td>0.069117</td>\n",
              "      <td>0.206642</td>\n",
              "      <td>37.520570</td>\n",
              "      <td>37.520570</td>\n",
              "    </tr>\n",
              "    <tr>\n",
              "      <th>7</th>\n",
              "      <td></td>\n",
              "      <td>8</td>\n",
              "      <td>0.200007</td>\n",
              "      <td>0.993131</td>\n",
              "      <td>1.374746</td>\n",
              "      <td>1.375091</td>\n",
              "      <td>0.999666</td>\n",
              "      <td>0.994282</td>\n",
              "      <td>0.999917</td>\n",
              "      <td>0.996764</td>\n",
              "      <td>0.068385</td>\n",
              "      <td>0.275027</td>\n",
              "      <td>37.474623</td>\n",
              "      <td>37.509143</td>\n",
              "    </tr>\n",
              "    <tr>\n",
              "      <th>8</th>\n",
              "      <td></td>\n",
              "      <td>9</td>\n",
              "      <td>0.300010</td>\n",
              "      <td>0.986564</td>\n",
              "      <td>1.374977</td>\n",
              "      <td>1.375053</td>\n",
              "      <td>0.999834</td>\n",
              "      <td>0.990111</td>\n",
              "      <td>0.999889</td>\n",
              "      <td>0.994546</td>\n",
              "      <td>0.137502</td>\n",
              "      <td>0.412530</td>\n",
              "      <td>37.497715</td>\n",
              "      <td>37.505334</td>\n",
              "    </tr>\n",
              "    <tr>\n",
              "      <th>9</th>\n",
              "      <td></td>\n",
              "      <td>10</td>\n",
              "      <td>0.399997</td>\n",
              "      <td>0.975409</td>\n",
              "      <td>1.374749</td>\n",
              "      <td>1.374977</td>\n",
              "      <td>0.999668</td>\n",
              "      <td>0.981403</td>\n",
              "      <td>0.999834</td>\n",
              "      <td>0.991261</td>\n",
              "      <td>0.137457</td>\n",
              "      <td>0.549986</td>\n",
              "      <td>37.474852</td>\n",
              "      <td>37.497714</td>\n",
              "    </tr>\n",
              "    <tr>\n",
              "      <th>10</th>\n",
              "      <td></td>\n",
              "      <td>11</td>\n",
              "      <td>0.500000</td>\n",
              "      <td>0.956284</td>\n",
              "      <td>1.374063</td>\n",
              "      <td>1.374794</td>\n",
              "      <td>0.999169</td>\n",
              "      <td>0.966952</td>\n",
              "      <td>0.999701</td>\n",
              "      <td>0.986399</td>\n",
              "      <td>0.137411</td>\n",
              "      <td>0.687397</td>\n",
              "      <td>37.406294</td>\n",
              "      <td>37.479430</td>\n",
              "    </tr>\n",
              "    <tr>\n",
              "      <th>11</th>\n",
              "      <td></td>\n",
              "      <td>12</td>\n",
              "      <td>0.600003</td>\n",
              "      <td>0.917249</td>\n",
              "      <td>1.373377</td>\n",
              "      <td>1.374558</td>\n",
              "      <td>0.998670</td>\n",
              "      <td>0.939201</td>\n",
              "      <td>0.999529</td>\n",
              "      <td>0.978532</td>\n",
              "      <td>0.137342</td>\n",
              "      <td>0.824739</td>\n",
              "      <td>37.337728</td>\n",
              "      <td>37.455812</td>\n",
              "    </tr>\n",
              "    <tr>\n",
              "      <th>12</th>\n",
              "      <td></td>\n",
              "      <td>13</td>\n",
              "      <td>0.699990</td>\n",
              "      <td>0.783741</td>\n",
              "      <td>1.364005</td>\n",
              "      <td>1.373051</td>\n",
              "      <td>0.991855</td>\n",
              "      <td>0.868807</td>\n",
              "      <td>0.998433</td>\n",
              "      <td>0.962859</td>\n",
              "      <td>0.136382</td>\n",
              "      <td>0.961122</td>\n",
              "      <td>36.400473</td>\n",
              "      <td>37.305067</td>\n",
              "    </tr>\n",
              "    <tr>\n",
              "      <th>13</th>\n",
              "      <td></td>\n",
              "      <td>14</td>\n",
              "      <td>0.799993</td>\n",
              "      <td>0.170778</td>\n",
              "      <td>0.387398</td>\n",
              "      <td>1.249839</td>\n",
              "      <td>0.281702</td>\n",
              "      <td>0.423294</td>\n",
              "      <td>0.908838</td>\n",
              "      <td>0.895411</td>\n",
              "      <td>0.038741</td>\n",
              "      <td>0.999863</td>\n",
              "      <td>-61.260202</td>\n",
              "      <td>24.983897</td>\n",
              "    </tr>\n",
              "    <tr>\n",
              "      <th>14</th>\n",
              "      <td></td>\n",
              "      <td>15</td>\n",
              "      <td>0.899997</td>\n",
              "      <td>0.038730</td>\n",
              "      <td>0.001371</td>\n",
              "      <td>1.111115</td>\n",
              "      <td>0.000997</td>\n",
              "      <td>0.093957</td>\n",
              "      <td>0.807963</td>\n",
              "      <td>0.806357</td>\n",
              "      <td>0.000137</td>\n",
              "      <td>1.000000</td>\n",
              "      <td>-99.862868</td>\n",
              "      <td>11.111521</td>\n",
              "    </tr>\n",
              "    <tr>\n",
              "      <th>15</th>\n",
              "      <td></td>\n",
              "      <td>16</td>\n",
              "      <td>1.000000</td>\n",
              "      <td>0.000287</td>\n",
              "      <td>0.000000</td>\n",
              "      <td>1.000000</td>\n",
              "      <td>0.000000</td>\n",
              "      <td>0.014222</td>\n",
              "      <td>0.727164</td>\n",
              "      <td>0.727141</td>\n",
              "      <td>0.000000</td>\n",
              "      <td>1.000000</td>\n",
              "      <td>-100.000000</td>\n",
              "      <td>0.000000</td>\n",
              "    </tr>\n",
              "  </tbody>\n",
              "</table>\n",
              "</div>"
            ],
            "text/plain": [
              "      group  ...        gain  cumulative_gain\n",
              "0         1  ...   37.520570        37.520570\n",
              "1         2  ...   37.520570        37.520570\n",
              "2         3  ...   37.520570        37.520570\n",
              "3         4  ...   37.520570        37.520570\n",
              "4         5  ...   37.520570        37.520570\n",
              "5         6  ...   37.520570        37.520570\n",
              "6         7  ...   37.520570        37.520570\n",
              "7         8  ...   37.474623        37.509143\n",
              "8         9  ...   37.497715        37.505334\n",
              "9        10  ...   37.474852        37.497714\n",
              "10       11  ...   37.406294        37.479430\n",
              "11       12  ...   37.337728        37.455812\n",
              "12       13  ...   36.400473        37.305067\n",
              "13       14  ...  -61.260202        24.983897\n",
              "14       15  ...  -99.862868        11.111521\n",
              "15       16  ... -100.000000         0.000000\n",
              "\n",
              "[16 rows x 14 columns]"
            ]
          },
          "metadata": {
            "tags": []
          }
        },
        {
          "output_type": "stream",
          "text": [
            "\n",
            "\n",
            "ModelMetricsBinomial: gbm\n",
            "** Reported on validation data. **\n",
            "\n",
            "MSE: 0.08317238577028288\n",
            "RMSE: 0.28839623050636926\n",
            "LogLoss: 0.27029501458589067\n",
            "Mean Per-Class Error: 0.1369293272876705\n",
            "AUC: 0.9409643296272235\n",
            "AUCPR: 0.975318005058134\n",
            "Gini: 0.8819286592544471\n",
            "\n",
            "Confusion Matrix (Act/Pred) for max f1 @ threshold = 0.5321598785962229: \n"
          ],
          "name": "stdout"
        },
        {
          "output_type": "display_data",
          "data": {
            "text/html": [
              "<div>\n",
              "<style scoped>\n",
              "    .dataframe tbody tr th:only-of-type {\n",
              "        vertical-align: middle;\n",
              "    }\n",
              "\n",
              "    .dataframe tbody tr th {\n",
              "        vertical-align: top;\n",
              "    }\n",
              "\n",
              "    .dataframe thead th {\n",
              "        text-align: right;\n",
              "    }\n",
              "</style>\n",
              "<table border=\"1\" class=\"dataframe\">\n",
              "  <thead>\n",
              "    <tr style=\"text-align: right;\">\n",
              "      <th></th>\n",
              "      <th></th>\n",
              "      <th>0</th>\n",
              "      <th>1</th>\n",
              "      <th>Error</th>\n",
              "      <th>Rate</th>\n",
              "    </tr>\n",
              "  </thead>\n",
              "  <tbody>\n",
              "    <tr>\n",
              "      <th>0</th>\n",
              "      <td>0</td>\n",
              "      <td>2578.0</td>\n",
              "      <td>965.0</td>\n",
              "      <td>0.2724</td>\n",
              "      <td>(965.0/3543.0)</td>\n",
              "    </tr>\n",
              "    <tr>\n",
              "      <th>1</th>\n",
              "      <td>1</td>\n",
              "      <td>478.0</td>\n",
              "      <td>8853.0</td>\n",
              "      <td>0.0512</td>\n",
              "      <td>(478.0/9331.0)</td>\n",
              "    </tr>\n",
              "    <tr>\n",
              "      <th>2</th>\n",
              "      <td>Total</td>\n",
              "      <td>3056.0</td>\n",
              "      <td>9818.0</td>\n",
              "      <td>0.1121</td>\n",
              "      <td>(1443.0/12874.0)</td>\n",
              "    </tr>\n",
              "  </tbody>\n",
              "</table>\n",
              "</div>"
            ],
            "text/plain": [
              "               0       1   Error               Rate\n",
              "0      0  2578.0   965.0  0.2724     (965.0/3543.0)\n",
              "1      1   478.0  8853.0  0.0512     (478.0/9331.0)\n",
              "2  Total  3056.0  9818.0  0.1121   (1443.0/12874.0)"
            ]
          },
          "metadata": {
            "tags": []
          }
        },
        {
          "output_type": "stream",
          "text": [
            "\n",
            "Maximum Metrics: Maximum metrics at their respective thresholds\n"
          ],
          "name": "stdout"
        },
        {
          "output_type": "display_data",
          "data": {
            "text/html": [
              "<div>\n",
              "<style scoped>\n",
              "    .dataframe tbody tr th:only-of-type {\n",
              "        vertical-align: middle;\n",
              "    }\n",
              "\n",
              "    .dataframe tbody tr th {\n",
              "        vertical-align: top;\n",
              "    }\n",
              "\n",
              "    .dataframe thead th {\n",
              "        text-align: right;\n",
              "    }\n",
              "</style>\n",
              "<table border=\"1\" class=\"dataframe\">\n",
              "  <thead>\n",
              "    <tr style=\"text-align: right;\">\n",
              "      <th></th>\n",
              "      <th>metric</th>\n",
              "      <th>threshold</th>\n",
              "      <th>value</th>\n",
              "      <th>idx</th>\n",
              "    </tr>\n",
              "  </thead>\n",
              "  <tbody>\n",
              "    <tr>\n",
              "      <th>0</th>\n",
              "      <td>max f1</td>\n",
              "      <td>0.532160</td>\n",
              "      <td>0.924644</td>\n",
              "      <td>221.0</td>\n",
              "    </tr>\n",
              "    <tr>\n",
              "      <th>1</th>\n",
              "      <td>max f2</td>\n",
              "      <td>0.172809</td>\n",
              "      <td>0.954844</td>\n",
              "      <td>326.0</td>\n",
              "    </tr>\n",
              "    <tr>\n",
              "      <th>2</th>\n",
              "      <td>max f0point5</td>\n",
              "      <td>0.774446</td>\n",
              "      <td>0.925740</td>\n",
              "      <td>140.0</td>\n",
              "    </tr>\n",
              "    <tr>\n",
              "      <th>3</th>\n",
              "      <td>max accuracy</td>\n",
              "      <td>0.534805</td>\n",
              "      <td>0.887914</td>\n",
              "      <td>220.0</td>\n",
              "    </tr>\n",
              "    <tr>\n",
              "      <th>4</th>\n",
              "      <td>max precision</td>\n",
              "      <td>0.998956</td>\n",
              "      <td>1.000000</td>\n",
              "      <td>0.0</td>\n",
              "    </tr>\n",
              "    <tr>\n",
              "      <th>5</th>\n",
              "      <td>max recall</td>\n",
              "      <td>0.007619</td>\n",
              "      <td>1.000000</td>\n",
              "      <td>393.0</td>\n",
              "    </tr>\n",
              "    <tr>\n",
              "      <th>6</th>\n",
              "      <td>max specificity</td>\n",
              "      <td>0.998956</td>\n",
              "      <td>1.000000</td>\n",
              "      <td>0.0</td>\n",
              "    </tr>\n",
              "    <tr>\n",
              "      <th>7</th>\n",
              "      <td>max absolute_mcc</td>\n",
              "      <td>0.640571</td>\n",
              "      <td>0.710656</td>\n",
              "      <td>187.0</td>\n",
              "    </tr>\n",
              "    <tr>\n",
              "      <th>8</th>\n",
              "      <td>max min_per_class_accuracy</td>\n",
              "      <td>0.787172</td>\n",
              "      <td>0.861965</td>\n",
              "      <td>135.0</td>\n",
              "    </tr>\n",
              "    <tr>\n",
              "      <th>9</th>\n",
              "      <td>max mean_per_class_accuracy</td>\n",
              "      <td>0.745236</td>\n",
              "      <td>0.863071</td>\n",
              "      <td>151.0</td>\n",
              "    </tr>\n",
              "    <tr>\n",
              "      <th>10</th>\n",
              "      <td>max tns</td>\n",
              "      <td>0.998956</td>\n",
              "      <td>3543.000000</td>\n",
              "      <td>0.0</td>\n",
              "    </tr>\n",
              "    <tr>\n",
              "      <th>11</th>\n",
              "      <td>max fns</td>\n",
              "      <td>0.998956</td>\n",
              "      <td>8984.000000</td>\n",
              "      <td>0.0</td>\n",
              "    </tr>\n",
              "    <tr>\n",
              "      <th>12</th>\n",
              "      <td>max fps</td>\n",
              "      <td>0.000868</td>\n",
              "      <td>3543.000000</td>\n",
              "      <td>399.0</td>\n",
              "    </tr>\n",
              "    <tr>\n",
              "      <th>13</th>\n",
              "      <td>max tps</td>\n",
              "      <td>0.007619</td>\n",
              "      <td>9331.000000</td>\n",
              "      <td>393.0</td>\n",
              "    </tr>\n",
              "    <tr>\n",
              "      <th>14</th>\n",
              "      <td>max tnr</td>\n",
              "      <td>0.998956</td>\n",
              "      <td>1.000000</td>\n",
              "      <td>0.0</td>\n",
              "    </tr>\n",
              "    <tr>\n",
              "      <th>15</th>\n",
              "      <td>max fnr</td>\n",
              "      <td>0.998956</td>\n",
              "      <td>0.962812</td>\n",
              "      <td>0.0</td>\n",
              "    </tr>\n",
              "    <tr>\n",
              "      <th>16</th>\n",
              "      <td>max fpr</td>\n",
              "      <td>0.000868</td>\n",
              "      <td>1.000000</td>\n",
              "      <td>399.0</td>\n",
              "    </tr>\n",
              "    <tr>\n",
              "      <th>17</th>\n",
              "      <td>max tpr</td>\n",
              "      <td>0.007619</td>\n",
              "      <td>1.000000</td>\n",
              "      <td>393.0</td>\n",
              "    </tr>\n",
              "  </tbody>\n",
              "</table>\n",
              "</div>"
            ],
            "text/plain": [
              "                         metric  threshold        value    idx\n",
              "0                        max f1   0.532160     0.924644  221.0\n",
              "1                        max f2   0.172809     0.954844  326.0\n",
              "2                  max f0point5   0.774446     0.925740  140.0\n",
              "3                  max accuracy   0.534805     0.887914  220.0\n",
              "4                 max precision   0.998956     1.000000    0.0\n",
              "5                    max recall   0.007619     1.000000  393.0\n",
              "6               max specificity   0.998956     1.000000    0.0\n",
              "7              max absolute_mcc   0.640571     0.710656  187.0\n",
              "8    max min_per_class_accuracy   0.787172     0.861965  135.0\n",
              "9   max mean_per_class_accuracy   0.745236     0.863071  151.0\n",
              "10                      max tns   0.998956  3543.000000    0.0\n",
              "11                      max fns   0.998956  8984.000000    0.0\n",
              "12                      max fps   0.000868  3543.000000  399.0\n",
              "13                      max tps   0.007619  9331.000000  393.0\n",
              "14                      max tnr   0.998956     1.000000    0.0\n",
              "15                      max fnr   0.998956     0.962812    0.0\n",
              "16                      max fpr   0.000868     1.000000  399.0\n",
              "17                      max tpr   0.007619     1.000000  393.0"
            ]
          },
          "metadata": {
            "tags": []
          }
        },
        {
          "output_type": "stream",
          "text": [
            "\n",
            "Gains/Lift Table: Avg response rate: 72.48 %, avg score: 74.10 %\n"
          ],
          "name": "stdout"
        },
        {
          "output_type": "display_data",
          "data": {
            "text/html": [
              "<div>\n",
              "<style scoped>\n",
              "    .dataframe tbody tr th:only-of-type {\n",
              "        vertical-align: middle;\n",
              "    }\n",
              "\n",
              "    .dataframe tbody tr th {\n",
              "        vertical-align: top;\n",
              "    }\n",
              "\n",
              "    .dataframe thead th {\n",
              "        text-align: right;\n",
              "    }\n",
              "</style>\n",
              "<table border=\"1\" class=\"dataframe\">\n",
              "  <thead>\n",
              "    <tr style=\"text-align: right;\">\n",
              "      <th></th>\n",
              "      <th></th>\n",
              "      <th>group</th>\n",
              "      <th>cumulative_data_fraction</th>\n",
              "      <th>lower_threshold</th>\n",
              "      <th>lift</th>\n",
              "      <th>cumulative_lift</th>\n",
              "      <th>response_rate</th>\n",
              "      <th>score</th>\n",
              "      <th>cumulative_response_rate</th>\n",
              "      <th>cumulative_score</th>\n",
              "      <th>capture_rate</th>\n",
              "      <th>cumulative_capture_rate</th>\n",
              "      <th>gain</th>\n",
              "      <th>cumulative_gain</th>\n",
              "    </tr>\n",
              "  </thead>\n",
              "  <tbody>\n",
              "    <tr>\n",
              "      <th>0</th>\n",
              "      <td></td>\n",
              "      <td>1</td>\n",
              "      <td>0.010098</td>\n",
              "      <td>0.999038</td>\n",
              "      <td>1.379702</td>\n",
              "      <td>1.379702</td>\n",
              "      <td>1.000000</td>\n",
              "      <td>0.999207</td>\n",
              "      <td>1.000000</td>\n",
              "      <td>0.999207</td>\n",
              "      <td>0.013932</td>\n",
              "      <td>0.013932</td>\n",
              "      <td>37.970207</td>\n",
              "      <td>37.970207</td>\n",
              "    </tr>\n",
              "    <tr>\n",
              "      <th>1</th>\n",
              "      <td></td>\n",
              "      <td>2</td>\n",
              "      <td>0.020040</td>\n",
              "      <td>0.998825</td>\n",
              "      <td>1.379702</td>\n",
              "      <td>1.379702</td>\n",
              "      <td>1.000000</td>\n",
              "      <td>0.998944</td>\n",
              "      <td>1.000000</td>\n",
              "      <td>0.999077</td>\n",
              "      <td>0.013718</td>\n",
              "      <td>0.027650</td>\n",
              "      <td>37.970207</td>\n",
              "      <td>37.970207</td>\n",
              "    </tr>\n",
              "    <tr>\n",
              "      <th>2</th>\n",
              "      <td></td>\n",
              "      <td>3</td>\n",
              "      <td>0.030061</td>\n",
              "      <td>0.998621</td>\n",
              "      <td>1.379702</td>\n",
              "      <td>1.379702</td>\n",
              "      <td>1.000000</td>\n",
              "      <td>0.998714</td>\n",
              "      <td>1.000000</td>\n",
              "      <td>0.998956</td>\n",
              "      <td>0.013825</td>\n",
              "      <td>0.041475</td>\n",
              "      <td>37.970207</td>\n",
              "      <td>37.970207</td>\n",
              "    </tr>\n",
              "    <tr>\n",
              "      <th>3</th>\n",
              "      <td></td>\n",
              "      <td>4</td>\n",
              "      <td>0.040003</td>\n",
              "      <td>0.998428</td>\n",
              "      <td>1.379702</td>\n",
              "      <td>1.379702</td>\n",
              "      <td>1.000000</td>\n",
              "      <td>0.998532</td>\n",
              "      <td>1.000000</td>\n",
              "      <td>0.998850</td>\n",
              "      <td>0.013718</td>\n",
              "      <td>0.055192</td>\n",
              "      <td>37.970207</td>\n",
              "      <td>37.970207</td>\n",
              "    </tr>\n",
              "    <tr>\n",
              "      <th>4</th>\n",
              "      <td></td>\n",
              "      <td>5</td>\n",
              "      <td>0.050023</td>\n",
              "      <td>0.998291</td>\n",
              "      <td>1.379702</td>\n",
              "      <td>1.379702</td>\n",
              "      <td>1.000000</td>\n",
              "      <td>0.998358</td>\n",
              "      <td>1.000000</td>\n",
              "      <td>0.998752</td>\n",
              "      <td>0.013825</td>\n",
              "      <td>0.069017</td>\n",
              "      <td>37.970207</td>\n",
              "      <td>37.970207</td>\n",
              "    </tr>\n",
              "    <tr>\n",
              "      <th>5</th>\n",
              "      <td></td>\n",
              "      <td>6</td>\n",
              "      <td>0.100047</td>\n",
              "      <td>0.996950</td>\n",
              "      <td>1.377560</td>\n",
              "      <td>1.378631</td>\n",
              "      <td>0.998447</td>\n",
              "      <td>0.997624</td>\n",
              "      <td>0.999224</td>\n",
              "      <td>0.998188</td>\n",
              "      <td>0.068910</td>\n",
              "      <td>0.137927</td>\n",
              "      <td>37.755967</td>\n",
              "      <td>37.863087</td>\n",
              "    </tr>\n",
              "    <tr>\n",
              "      <th>6</th>\n",
              "      <td></td>\n",
              "      <td>7</td>\n",
              "      <td>0.149992</td>\n",
              "      <td>0.994999</td>\n",
              "      <td>1.379702</td>\n",
              "      <td>1.378988</td>\n",
              "      <td>1.000000</td>\n",
              "      <td>0.996013</td>\n",
              "      <td>0.999482</td>\n",
              "      <td>0.997464</td>\n",
              "      <td>0.068910</td>\n",
              "      <td>0.206837</td>\n",
              "      <td>37.970207</td>\n",
              "      <td>37.898757</td>\n",
              "    </tr>\n",
              "    <tr>\n",
              "      <th>7</th>\n",
              "      <td></td>\n",
              "      <td>8</td>\n",
              "      <td>0.200016</td>\n",
              "      <td>0.992536</td>\n",
              "      <td>1.371132</td>\n",
              "      <td>1.377023</td>\n",
              "      <td>0.993789</td>\n",
              "      <td>0.993796</td>\n",
              "      <td>0.998058</td>\n",
              "      <td>0.996546</td>\n",
              "      <td>0.068589</td>\n",
              "      <td>0.275426</td>\n",
              "      <td>37.113249</td>\n",
              "      <td>37.702304</td>\n",
              "    </tr>\n",
              "    <tr>\n",
              "      <th>8</th>\n",
              "      <td></td>\n",
              "      <td>9</td>\n",
              "      <td>0.299984</td>\n",
              "      <td>0.984324</td>\n",
              "      <td>1.353973</td>\n",
              "      <td>1.369342</td>\n",
              "      <td>0.981352</td>\n",
              "      <td>0.988786</td>\n",
              "      <td>0.992491</td>\n",
              "      <td>0.993960</td>\n",
              "      <td>0.135355</td>\n",
              "      <td>0.410781</td>\n",
              "      <td>35.397336</td>\n",
              "      <td>36.934180</td>\n",
              "    </tr>\n",
              "    <tr>\n",
              "      <th>9</th>\n",
              "      <td></td>\n",
              "      <td>10</td>\n",
              "      <td>0.400031</td>\n",
              "      <td>0.969258</td>\n",
              "      <td>1.344353</td>\n",
              "      <td>1.363092</td>\n",
              "      <td>0.974379</td>\n",
              "      <td>0.977680</td>\n",
              "      <td>0.987961</td>\n",
              "      <td>0.989888</td>\n",
              "      <td>0.134498</td>\n",
              "      <td>0.545279</td>\n",
              "      <td>34.435256</td>\n",
              "      <td>36.309206</td>\n",
              "    </tr>\n",
              "    <tr>\n",
              "      <th>10</th>\n",
              "      <td></td>\n",
              "      <td>11</td>\n",
              "      <td>0.500000</td>\n",
              "      <td>0.936654</td>\n",
              "      <td>1.290724</td>\n",
              "      <td>1.348623</td>\n",
              "      <td>0.935509</td>\n",
              "      <td>0.954744</td>\n",
              "      <td>0.977474</td>\n",
              "      <td>0.982862</td>\n",
              "      <td>0.129032</td>\n",
              "      <td>0.674311</td>\n",
              "      <td>29.072361</td>\n",
              "      <td>34.862287</td>\n",
              "    </tr>\n",
              "    <tr>\n",
              "      <th>11</th>\n",
              "      <td></td>\n",
              "      <td>12</td>\n",
              "      <td>0.599969</td>\n",
              "      <td>0.866827</td>\n",
              "      <td>1.207105</td>\n",
              "      <td>1.325043</td>\n",
              "      <td>0.874903</td>\n",
              "      <td>0.906923</td>\n",
              "      <td>0.960383</td>\n",
              "      <td>0.970209</td>\n",
              "      <td>0.120673</td>\n",
              "      <td>0.794984</td>\n",
              "      <td>20.710531</td>\n",
              "      <td>32.504272</td>\n",
              "    </tr>\n",
              "    <tr>\n",
              "      <th>12</th>\n",
              "      <td></td>\n",
              "      <td>13</td>\n",
              "      <td>0.700016</td>\n",
              "      <td>0.712936</td>\n",
              "      <td>1.026207</td>\n",
              "      <td>1.282333</td>\n",
              "      <td>0.743789</td>\n",
              "      <td>0.799648</td>\n",
              "      <td>0.929427</td>\n",
              "      <td>0.945832</td>\n",
              "      <td>0.102669</td>\n",
              "      <td>0.897653</td>\n",
              "      <td>2.620697</td>\n",
              "      <td>28.233295</td>\n",
              "    </tr>\n",
              "    <tr>\n",
              "      <th>13</th>\n",
              "      <td></td>\n",
              "      <td>14</td>\n",
              "      <td>0.799984</td>\n",
              "      <td>0.386494</td>\n",
              "      <td>0.704323</td>\n",
              "      <td>1.210103</td>\n",
              "      <td>0.510490</td>\n",
              "      <td>0.567157</td>\n",
              "      <td>0.877075</td>\n",
              "      <td>0.898511</td>\n",
              "      <td>0.070410</td>\n",
              "      <td>0.968063</td>\n",
              "      <td>-29.567657</td>\n",
              "      <td>21.010280</td>\n",
              "    </tr>\n",
              "    <tr>\n",
              "      <th>14</th>\n",
              "      <td></td>\n",
              "      <td>15</td>\n",
              "      <td>0.899953</td>\n",
              "      <td>0.062430</td>\n",
              "      <td>0.290520</td>\n",
              "      <td>1.107953</td>\n",
              "      <td>0.210567</td>\n",
              "      <td>0.203330</td>\n",
              "      <td>0.803038</td>\n",
              "      <td>0.821289</td>\n",
              "      <td>0.029043</td>\n",
              "      <td>0.997106</td>\n",
              "      <td>-70.947998</td>\n",
              "      <td>10.795340</td>\n",
              "    </tr>\n",
              "    <tr>\n",
              "      <th>15</th>\n",
              "      <td></td>\n",
              "      <td>16</td>\n",
              "      <td>1.000000</td>\n",
              "      <td>0.000228</td>\n",
              "      <td>0.028922</td>\n",
              "      <td>1.000000</td>\n",
              "      <td>0.020963</td>\n",
              "      <td>0.018818</td>\n",
              "      <td>0.724794</td>\n",
              "      <td>0.741005</td>\n",
              "      <td>0.002894</td>\n",
              "      <td>1.000000</td>\n",
              "      <td>-97.107767</td>\n",
              "      <td>0.000000</td>\n",
              "    </tr>\n",
              "  </tbody>\n",
              "</table>\n",
              "</div>"
            ],
            "text/plain": [
              "      group  ...       gain  cumulative_gain\n",
              "0         1  ...  37.970207        37.970207\n",
              "1         2  ...  37.970207        37.970207\n",
              "2         3  ...  37.970207        37.970207\n",
              "3         4  ...  37.970207        37.970207\n",
              "4         5  ...  37.970207        37.970207\n",
              "5         6  ...  37.755967        37.863087\n",
              "6         7  ...  37.970207        37.898757\n",
              "7         8  ...  37.113249        37.702304\n",
              "8         9  ...  35.397336        36.934180\n",
              "9        10  ...  34.435256        36.309206\n",
              "10       11  ...  29.072361        34.862287\n",
              "11       12  ...  20.710531        32.504272\n",
              "12       13  ...   2.620697        28.233295\n",
              "13       14  ... -29.567657        21.010280\n",
              "14       15  ... -70.947998        10.795340\n",
              "15       16  ... -97.107767         0.000000\n",
              "\n",
              "[16 rows x 14 columns]"
            ]
          },
          "metadata": {
            "tags": []
          }
        },
        {
          "output_type": "stream",
          "text": [
            "\n",
            "\n",
            "Scoring History: \n"
          ],
          "name": "stdout"
        },
        {
          "output_type": "display_data",
          "data": {
            "text/html": [
              "<div>\n",
              "<style scoped>\n",
              "    .dataframe tbody tr th:only-of-type {\n",
              "        vertical-align: middle;\n",
              "    }\n",
              "\n",
              "    .dataframe tbody tr th {\n",
              "        vertical-align: top;\n",
              "    }\n",
              "\n",
              "    .dataframe thead th {\n",
              "        text-align: right;\n",
              "    }\n",
              "</style>\n",
              "<table border=\"1\" class=\"dataframe\">\n",
              "  <thead>\n",
              "    <tr style=\"text-align: right;\">\n",
              "      <th></th>\n",
              "      <th></th>\n",
              "      <th>timestamp</th>\n",
              "      <th>duration</th>\n",
              "      <th>number_of_trees</th>\n",
              "      <th>training_rmse</th>\n",
              "      <th>training_logloss</th>\n",
              "      <th>training_auc</th>\n",
              "      <th>training_pr_auc</th>\n",
              "      <th>training_lift</th>\n",
              "      <th>training_classification_error</th>\n",
              "      <th>validation_rmse</th>\n",
              "      <th>validation_logloss</th>\n",
              "      <th>validation_auc</th>\n",
              "      <th>validation_pr_auc</th>\n",
              "      <th>validation_lift</th>\n",
              "      <th>validation_classification_error</th>\n",
              "    </tr>\n",
              "  </thead>\n",
              "  <tbody>\n",
              "    <tr>\n",
              "      <th>0</th>\n",
              "      <td></td>\n",
              "      <td>2020-07-23 22:20:52</td>\n",
              "      <td>6 min 17.934 sec</td>\n",
              "      <td>0.0</td>\n",
              "      <td>0.445417</td>\n",
              "      <td>0.586059</td>\n",
              "      <td>0.500000</td>\n",
              "      <td>0.727164</td>\n",
              "      <td>1.000000</td>\n",
              "      <td>0.272836</td>\n",
              "      <td>0.446624</td>\n",
              "      <td>0.588382</td>\n",
              "      <td>0.500000</td>\n",
              "      <td>0.724794</td>\n",
              "      <td>1.000000</td>\n",
              "      <td>0.275206</td>\n",
              "    </tr>\n",
              "    <tr>\n",
              "      <th>1</th>\n",
              "      <td></td>\n",
              "      <td>2020-07-23 22:20:53</td>\n",
              "      <td>6 min 19.043 sec</td>\n",
              "      <td>1.0</td>\n",
              "      <td>0.429687</td>\n",
              "      <td>0.552463</td>\n",
              "      <td>0.854963</td>\n",
              "      <td>0.936613</td>\n",
              "      <td>1.370694</td>\n",
              "      <td>0.184467</td>\n",
              "      <td>0.431593</td>\n",
              "      <td>0.556174</td>\n",
              "      <td>0.838861</td>\n",
              "      <td>0.928273</td>\n",
              "      <td>1.370970</td>\n",
              "      <td>0.193335</td>\n",
              "    </tr>\n",
              "    <tr>\n",
              "      <th>2</th>\n",
              "      <td></td>\n",
              "      <td>2020-07-23 22:20:54</td>\n",
              "      <td>6 min 20.000 sec</td>\n",
              "      <td>2.0</td>\n",
              "      <td>0.416101</td>\n",
              "      <td>0.525401</td>\n",
              "      <td>0.872743</td>\n",
              "      <td>0.944410</td>\n",
              "      <td>1.372806</td>\n",
              "      <td>0.168030</td>\n",
              "      <td>0.418835</td>\n",
              "      <td>0.530634</td>\n",
              "      <td>0.856014</td>\n",
              "      <td>0.935779</td>\n",
              "      <td>1.373024</td>\n",
              "      <td>0.181995</td>\n",
              "    </tr>\n",
              "    <tr>\n",
              "      <th>3</th>\n",
              "      <td></td>\n",
              "      <td>2020-07-23 22:20:55</td>\n",
              "      <td>6 min 21.016 sec</td>\n",
              "      <td>3.0</td>\n",
              "      <td>0.403972</td>\n",
              "      <td>0.502149</td>\n",
              "      <td>0.886413</td>\n",
              "      <td>0.950435</td>\n",
              "      <td>1.374083</td>\n",
              "      <td>0.158523</td>\n",
              "      <td>0.407520</td>\n",
              "      <td>0.508791</td>\n",
              "      <td>0.868413</td>\n",
              "      <td>0.941968</td>\n",
              "      <td>1.378303</td>\n",
              "      <td>0.175858</td>\n",
              "    </tr>\n",
              "    <tr>\n",
              "      <th>4</th>\n",
              "      <td></td>\n",
              "      <td>2020-07-23 22:20:59</td>\n",
              "      <td>6 min 25.645 sec</td>\n",
              "      <td>8.0</td>\n",
              "      <td>0.360439</td>\n",
              "      <td>0.421622</td>\n",
              "      <td>0.913910</td>\n",
              "      <td>0.962722</td>\n",
              "      <td>1.374391</td>\n",
              "      <td>0.136518</td>\n",
              "      <td>0.369253</td>\n",
              "      <td>0.436552</td>\n",
              "      <td>0.889815</td>\n",
              "      <td>0.951914</td>\n",
              "      <td>1.379702</td>\n",
              "      <td>0.155818</td>\n",
              "    </tr>\n",
              "    <tr>\n",
              "      <th>5</th>\n",
              "      <td></td>\n",
              "      <td>2020-07-23 22:21:04</td>\n",
              "      <td>6 min 30.310 sec</td>\n",
              "      <td>13.0</td>\n",
              "      <td>0.334037</td>\n",
              "      <td>0.373273</td>\n",
              "      <td>0.928578</td>\n",
              "      <td>0.969239</td>\n",
              "      <td>1.375206</td>\n",
              "      <td>0.122657</td>\n",
              "      <td>0.348617</td>\n",
              "      <td>0.396596</td>\n",
              "      <td>0.900871</td>\n",
              "      <td>0.957245</td>\n",
              "      <td>1.379702</td>\n",
              "      <td>0.148905</td>\n",
              "    </tr>\n",
              "    <tr>\n",
              "      <th>6</th>\n",
              "      <td></td>\n",
              "      <td>2020-07-23 22:21:09</td>\n",
              "      <td>6 min 34.955 sec</td>\n",
              "      <td>18.0</td>\n",
              "      <td>0.315023</td>\n",
              "      <td>0.338120</td>\n",
              "      <td>0.939133</td>\n",
              "      <td>0.973859</td>\n",
              "      <td>1.375206</td>\n",
              "      <td>0.111405</td>\n",
              "      <td>0.334837</td>\n",
              "      <td>0.368587</td>\n",
              "      <td>0.909623</td>\n",
              "      <td>0.961433</td>\n",
              "      <td>1.379702</td>\n",
              "      <td>0.144477</td>\n",
              "    </tr>\n",
              "    <tr>\n",
              "      <th>7</th>\n",
              "      <td></td>\n",
              "      <td>2020-07-23 22:21:13</td>\n",
              "      <td>6 min 39.612 sec</td>\n",
              "      <td>23.0</td>\n",
              "      <td>0.301339</td>\n",
              "      <td>0.312919</td>\n",
              "      <td>0.946514</td>\n",
              "      <td>0.977192</td>\n",
              "      <td>1.375206</td>\n",
              "      <td>0.102995</td>\n",
              "      <td>0.326025</td>\n",
              "      <td>0.350126</td>\n",
              "      <td>0.914531</td>\n",
              "      <td>0.963671</td>\n",
              "      <td>1.379702</td>\n",
              "      <td>0.139273</td>\n",
              "    </tr>\n",
              "    <tr>\n",
              "      <th>8</th>\n",
              "      <td></td>\n",
              "      <td>2020-07-23 22:21:18</td>\n",
              "      <td>6 min 44.303 sec</td>\n",
              "      <td>28.0</td>\n",
              "      <td>0.289986</td>\n",
              "      <td>0.292609</td>\n",
              "      <td>0.952899</td>\n",
              "      <td>0.980013</td>\n",
              "      <td>1.375206</td>\n",
              "      <td>0.096862</td>\n",
              "      <td>0.319366</td>\n",
              "      <td>0.336039</td>\n",
              "      <td>0.919394</td>\n",
              "      <td>0.966023</td>\n",
              "      <td>1.379702</td>\n",
              "      <td>0.134457</td>\n",
              "    </tr>\n",
              "    <tr>\n",
              "      <th>9</th>\n",
              "      <td></td>\n",
              "      <td>2020-07-23 22:21:23</td>\n",
              "      <td>6 min 48.975 sec</td>\n",
              "      <td>33.0</td>\n",
              "      <td>0.280874</td>\n",
              "      <td>0.276352</td>\n",
              "      <td>0.957338</td>\n",
              "      <td>0.981991</td>\n",
              "      <td>1.375206</td>\n",
              "      <td>0.091328</td>\n",
              "      <td>0.314371</td>\n",
              "      <td>0.325194</td>\n",
              "      <td>0.922644</td>\n",
              "      <td>0.967498</td>\n",
              "      <td>1.379702</td>\n",
              "      <td>0.132204</td>\n",
              "    </tr>\n",
              "    <tr>\n",
              "      <th>10</th>\n",
              "      <td></td>\n",
              "      <td>2020-07-23 22:21:27</td>\n",
              "      <td>6 min 53.621 sec</td>\n",
              "      <td>38.0</td>\n",
              "      <td>0.272641</td>\n",
              "      <td>0.262097</td>\n",
              "      <td>0.961509</td>\n",
              "      <td>0.983827</td>\n",
              "      <td>1.375206</td>\n",
              "      <td>0.085993</td>\n",
              "      <td>0.310716</td>\n",
              "      <td>0.316947</td>\n",
              "      <td>0.925271</td>\n",
              "      <td>0.968721</td>\n",
              "      <td>1.379702</td>\n",
              "      <td>0.132282</td>\n",
              "    </tr>\n",
              "    <tr>\n",
              "      <th>11</th>\n",
              "      <td></td>\n",
              "      <td>2020-07-23 22:21:32</td>\n",
              "      <td>6 min 58.277 sec</td>\n",
              "      <td>43.0</td>\n",
              "      <td>0.265443</td>\n",
              "      <td>0.249902</td>\n",
              "      <td>0.964956</td>\n",
              "      <td>0.985319</td>\n",
              "      <td>1.375206</td>\n",
              "      <td>0.082336</td>\n",
              "      <td>0.307702</td>\n",
              "      <td>0.310301</td>\n",
              "      <td>0.927280</td>\n",
              "      <td>0.969611</td>\n",
              "      <td>1.379702</td>\n",
              "      <td>0.130185</td>\n",
              "    </tr>\n",
              "    <tr>\n",
              "      <th>12</th>\n",
              "      <td></td>\n",
              "      <td>2020-07-23 22:21:37</td>\n",
              "      <td>7 min  2.890 sec</td>\n",
              "      <td>48.0</td>\n",
              "      <td>0.259166</td>\n",
              "      <td>0.239392</td>\n",
              "      <td>0.967921</td>\n",
              "      <td>0.986622</td>\n",
              "      <td>1.375206</td>\n",
              "      <td>0.078779</td>\n",
              "      <td>0.305288</td>\n",
              "      <td>0.304926</td>\n",
              "      <td>0.928954</td>\n",
              "      <td>0.970331</td>\n",
              "      <td>1.379702</td>\n",
              "      <td>0.129330</td>\n",
              "    </tr>\n",
              "    <tr>\n",
              "      <th>13</th>\n",
              "      <td></td>\n",
              "      <td>2020-07-23 22:21:42</td>\n",
              "      <td>7 min  7.767 sec</td>\n",
              "      <td>52.0</td>\n",
              "      <td>0.254635</td>\n",
              "      <td>0.231985</td>\n",
              "      <td>0.969949</td>\n",
              "      <td>0.987493</td>\n",
              "      <td>1.375206</td>\n",
              "      <td>0.076187</td>\n",
              "      <td>0.303620</td>\n",
              "      <td>0.301184</td>\n",
              "      <td>0.930233</td>\n",
              "      <td>0.970934</td>\n",
              "      <td>1.379702</td>\n",
              "      <td>0.127699</td>\n",
              "    </tr>\n",
              "    <tr>\n",
              "      <th>14</th>\n",
              "      <td></td>\n",
              "      <td>2020-07-23 22:21:46</td>\n",
              "      <td>7 min 12.417 sec</td>\n",
              "      <td>57.0</td>\n",
              "      <td>0.249406</td>\n",
              "      <td>0.223664</td>\n",
              "      <td>0.972225</td>\n",
              "      <td>0.988452</td>\n",
              "      <td>1.375206</td>\n",
              "      <td>0.072530</td>\n",
              "      <td>0.302169</td>\n",
              "      <td>0.297819</td>\n",
              "      <td>0.931147</td>\n",
              "      <td>0.971313</td>\n",
              "      <td>1.379702</td>\n",
              "      <td>0.126068</td>\n",
              "    </tr>\n",
              "    <tr>\n",
              "      <th>15</th>\n",
              "      <td></td>\n",
              "      <td>2020-07-23 22:21:51</td>\n",
              "      <td>7 min 17.288 sec</td>\n",
              "      <td>62.0</td>\n",
              "      <td>0.244329</td>\n",
              "      <td>0.215825</td>\n",
              "      <td>0.974354</td>\n",
              "      <td>0.989364</td>\n",
              "      <td>1.375206</td>\n",
              "      <td>0.068890</td>\n",
              "      <td>0.300673</td>\n",
              "      <td>0.294534</td>\n",
              "      <td>0.932115</td>\n",
              "      <td>0.971705</td>\n",
              "      <td>1.379702</td>\n",
              "      <td>0.124048</td>\n",
              "    </tr>\n",
              "    <tr>\n",
              "      <th>16</th>\n",
              "      <td></td>\n",
              "      <td>2020-07-23 22:21:56</td>\n",
              "      <td>7 min 21.906 sec</td>\n",
              "      <td>67.0</td>\n",
              "      <td>0.239694</td>\n",
              "      <td>0.208729</td>\n",
              "      <td>0.976201</td>\n",
              "      <td>0.990140</td>\n",
              "      <td>1.375206</td>\n",
              "      <td>0.066464</td>\n",
              "      <td>0.299583</td>\n",
              "      <td>0.291905</td>\n",
              "      <td>0.932879</td>\n",
              "      <td>0.972067</td>\n",
              "      <td>1.379702</td>\n",
              "      <td>0.124748</td>\n",
              "    </tr>\n",
              "    <tr>\n",
              "      <th>17</th>\n",
              "      <td></td>\n",
              "      <td>2020-07-23 22:22:00</td>\n",
              "      <td>7 min 26.509 sec</td>\n",
              "      <td>72.0</td>\n",
              "      <td>0.235322</td>\n",
              "      <td>0.202263</td>\n",
              "      <td>0.977936</td>\n",
              "      <td>0.990883</td>\n",
              "      <td>1.375206</td>\n",
              "      <td>0.063705</td>\n",
              "      <td>0.298544</td>\n",
              "      <td>0.289683</td>\n",
              "      <td>0.933499</td>\n",
              "      <td>0.972298</td>\n",
              "      <td>1.379702</td>\n",
              "      <td>0.123660</td>\n",
              "    </tr>\n",
              "    <tr>\n",
              "      <th>18</th>\n",
              "      <td></td>\n",
              "      <td>2020-07-23 22:22:05</td>\n",
              "      <td>7 min 31.186 sec</td>\n",
              "      <td>77.0</td>\n",
              "      <td>0.230943</td>\n",
              "      <td>0.195874</td>\n",
              "      <td>0.979556</td>\n",
              "      <td>0.991568</td>\n",
              "      <td>1.375206</td>\n",
              "      <td>0.061112</td>\n",
              "      <td>0.297471</td>\n",
              "      <td>0.287411</td>\n",
              "      <td>0.934204</td>\n",
              "      <td>0.972579</td>\n",
              "      <td>1.379702</td>\n",
              "      <td>0.122029</td>\n",
              "    </tr>\n",
              "    <tr>\n",
              "      <th>19</th>\n",
              "      <td></td>\n",
              "      <td>2020-07-23 22:22:10</td>\n",
              "      <td>7 min 35.850 sec</td>\n",
              "      <td>82.0</td>\n",
              "      <td>0.226731</td>\n",
              "      <td>0.189965</td>\n",
              "      <td>0.981075</td>\n",
              "      <td>0.992197</td>\n",
              "      <td>1.375206</td>\n",
              "      <td>0.057805</td>\n",
              "      <td>0.296830</td>\n",
              "      <td>0.285934</td>\n",
              "      <td>0.934632</td>\n",
              "      <td>0.972785</td>\n",
              "      <td>1.379702</td>\n",
              "      <td>0.120941</td>\n",
              "    </tr>\n",
              "  </tbody>\n",
              "</table>\n",
              "</div>"
            ],
            "text/plain": [
              "                timestamp  ... validation_lift  validation_classification_error\n",
              "0     2020-07-23 22:20:52  ...        1.000000                         0.275206\n",
              "1     2020-07-23 22:20:53  ...        1.370970                         0.193335\n",
              "2     2020-07-23 22:20:54  ...        1.373024                         0.181995\n",
              "3     2020-07-23 22:20:55  ...        1.378303                         0.175858\n",
              "4     2020-07-23 22:20:59  ...        1.379702                         0.155818\n",
              "5     2020-07-23 22:21:04  ...        1.379702                         0.148905\n",
              "6     2020-07-23 22:21:09  ...        1.379702                         0.144477\n",
              "7     2020-07-23 22:21:13  ...        1.379702                         0.139273\n",
              "8     2020-07-23 22:21:18  ...        1.379702                         0.134457\n",
              "9     2020-07-23 22:21:23  ...        1.379702                         0.132204\n",
              "10    2020-07-23 22:21:27  ...        1.379702                         0.132282\n",
              "11    2020-07-23 22:21:32  ...        1.379702                         0.130185\n",
              "12    2020-07-23 22:21:37  ...        1.379702                         0.129330\n",
              "13    2020-07-23 22:21:42  ...        1.379702                         0.127699\n",
              "14    2020-07-23 22:21:46  ...        1.379702                         0.126068\n",
              "15    2020-07-23 22:21:51  ...        1.379702                         0.124048\n",
              "16    2020-07-23 22:21:56  ...        1.379702                         0.124748\n",
              "17    2020-07-23 22:22:00  ...        1.379702                         0.123660\n",
              "18    2020-07-23 22:22:05  ...        1.379702                         0.122029\n",
              "19    2020-07-23 22:22:10  ...        1.379702                         0.120941\n",
              "\n",
              "[20 rows x 16 columns]"
            ]
          },
          "metadata": {
            "tags": []
          }
        },
        {
          "output_type": "stream",
          "text": [
            "\n",
            "See the whole table with table.as_data_frame()\n",
            "\n",
            "Variable Importances: \n"
          ],
          "name": "stdout"
        },
        {
          "output_type": "display_data",
          "data": {
            "text/html": [
              "<div>\n",
              "<style scoped>\n",
              "    .dataframe tbody tr th:only-of-type {\n",
              "        vertical-align: middle;\n",
              "    }\n",
              "\n",
              "    .dataframe tbody tr th {\n",
              "        vertical-align: top;\n",
              "    }\n",
              "\n",
              "    .dataframe thead th {\n",
              "        text-align: right;\n",
              "    }\n",
              "</style>\n",
              "<table border=\"1\" class=\"dataframe\">\n",
              "  <thead>\n",
              "    <tr style=\"text-align: right;\">\n",
              "      <th></th>\n",
              "      <th>variable</th>\n",
              "      <th>relative_importance</th>\n",
              "      <th>scaled_importance</th>\n",
              "      <th>percentage</th>\n",
              "    </tr>\n",
              "  </thead>\n",
              "  <tbody>\n",
              "    <tr>\n",
              "      <th>0</th>\n",
              "      <td>C52</td>\n",
              "      <td>3735.636230</td>\n",
              "      <td>1.000000</td>\n",
              "      <td>0.074825</td>\n",
              "    </tr>\n",
              "    <tr>\n",
              "      <th>1</th>\n",
              "      <td>headline_C84</td>\n",
              "      <td>2235.595947</td>\n",
              "      <td>0.598451</td>\n",
              "      <td>0.044779</td>\n",
              "    </tr>\n",
              "    <tr>\n",
              "      <th>2</th>\n",
              "      <td>headline_C99</td>\n",
              "      <td>2125.761475</td>\n",
              "      <td>0.569049</td>\n",
              "      <td>0.042579</td>\n",
              "    </tr>\n",
              "    <tr>\n",
              "      <th>3</th>\n",
              "      <td>headline_C77</td>\n",
              "      <td>1973.272095</td>\n",
              "      <td>0.528229</td>\n",
              "      <td>0.039525</td>\n",
              "    </tr>\n",
              "    <tr>\n",
              "      <th>4</th>\n",
              "      <td>headline_C85</td>\n",
              "      <td>1919.711182</td>\n",
              "      <td>0.513891</td>\n",
              "      <td>0.038452</td>\n",
              "    </tr>\n",
              "    <tr>\n",
              "      <th>5</th>\n",
              "      <td>headline_C46</td>\n",
              "      <td>1445.385742</td>\n",
              "      <td>0.386918</td>\n",
              "      <td>0.028951</td>\n",
              "    </tr>\n",
              "    <tr>\n",
              "      <th>6</th>\n",
              "      <td>headline_C22</td>\n",
              "      <td>1322.880493</td>\n",
              "      <td>0.354125</td>\n",
              "      <td>0.026497</td>\n",
              "    </tr>\n",
              "    <tr>\n",
              "      <th>7</th>\n",
              "      <td>C66</td>\n",
              "      <td>1295.351685</td>\n",
              "      <td>0.346755</td>\n",
              "      <td>0.025946</td>\n",
              "    </tr>\n",
              "    <tr>\n",
              "      <th>8</th>\n",
              "      <td>headline_C20</td>\n",
              "      <td>1147.286255</td>\n",
              "      <td>0.307119</td>\n",
              "      <td>0.022980</td>\n",
              "    </tr>\n",
              "    <tr>\n",
              "      <th>9</th>\n",
              "      <td>C72</td>\n",
              "      <td>1089.683472</td>\n",
              "      <td>0.291700</td>\n",
              "      <td>0.021827</td>\n",
              "    </tr>\n",
              "    <tr>\n",
              "      <th>10</th>\n",
              "      <td>C99</td>\n",
              "      <td>1072.194946</td>\n",
              "      <td>0.287018</td>\n",
              "      <td>0.021476</td>\n",
              "    </tr>\n",
              "    <tr>\n",
              "      <th>11</th>\n",
              "      <td>headline_C49</td>\n",
              "      <td>859.534607</td>\n",
              "      <td>0.230091</td>\n",
              "      <td>0.017217</td>\n",
              "    </tr>\n",
              "    <tr>\n",
              "      <th>12</th>\n",
              "      <td>headline_C66</td>\n",
              "      <td>761.159241</td>\n",
              "      <td>0.203756</td>\n",
              "      <td>0.015246</td>\n",
              "    </tr>\n",
              "    <tr>\n",
              "      <th>13</th>\n",
              "      <td>C49</td>\n",
              "      <td>758.776917</td>\n",
              "      <td>0.203119</td>\n",
              "      <td>0.015198</td>\n",
              "    </tr>\n",
              "    <tr>\n",
              "      <th>14</th>\n",
              "      <td>headline_C92</td>\n",
              "      <td>658.078979</td>\n",
              "      <td>0.176162</td>\n",
              "      <td>0.013181</td>\n",
              "    </tr>\n",
              "    <tr>\n",
              "      <th>15</th>\n",
              "      <td>C77</td>\n",
              "      <td>651.357971</td>\n",
              "      <td>0.174363</td>\n",
              "      <td>0.013047</td>\n",
              "    </tr>\n",
              "    <tr>\n",
              "      <th>16</th>\n",
              "      <td>headline_C59</td>\n",
              "      <td>648.916992</td>\n",
              "      <td>0.173710</td>\n",
              "      <td>0.012998</td>\n",
              "    </tr>\n",
              "    <tr>\n",
              "      <th>17</th>\n",
              "      <td>C94</td>\n",
              "      <td>625.774414</td>\n",
              "      <td>0.167515</td>\n",
              "      <td>0.012534</td>\n",
              "    </tr>\n",
              "    <tr>\n",
              "      <th>18</th>\n",
              "      <td>headline_C52</td>\n",
              "      <td>603.758728</td>\n",
              "      <td>0.161621</td>\n",
              "      <td>0.012093</td>\n",
              "    </tr>\n",
              "    <tr>\n",
              "      <th>19</th>\n",
              "      <td>headline_C53</td>\n",
              "      <td>577.653320</td>\n",
              "      <td>0.154633</td>\n",
              "      <td>0.011570</td>\n",
              "    </tr>\n",
              "  </tbody>\n",
              "</table>\n",
              "</div>"
            ],
            "text/plain": [
              "        variable  relative_importance  scaled_importance  percentage\n",
              "0            C52          3735.636230           1.000000    0.074825\n",
              "1   headline_C84          2235.595947           0.598451    0.044779\n",
              "2   headline_C99          2125.761475           0.569049    0.042579\n",
              "3   headline_C77          1973.272095           0.528229    0.039525\n",
              "4   headline_C85          1919.711182           0.513891    0.038452\n",
              "5   headline_C46          1445.385742           0.386918    0.028951\n",
              "6   headline_C22          1322.880493           0.354125    0.026497\n",
              "7            C66          1295.351685           0.346755    0.025946\n",
              "8   headline_C20          1147.286255           0.307119    0.022980\n",
              "9            C72          1089.683472           0.291700    0.021827\n",
              "10           C99          1072.194946           0.287018    0.021476\n",
              "11  headline_C49           859.534607           0.230091    0.017217\n",
              "12  headline_C66           761.159241           0.203756    0.015246\n",
              "13           C49           758.776917           0.203119    0.015198\n",
              "14  headline_C92           658.078979           0.176162    0.013181\n",
              "15           C77           651.357971           0.174363    0.013047\n",
              "16  headline_C59           648.916992           0.173710    0.012998\n",
              "17           C94           625.774414           0.167515    0.012534\n",
              "18  headline_C52           603.758728           0.161621    0.012093\n",
              "19  headline_C53           577.653320           0.154633    0.011570"
            ]
          },
          "metadata": {
            "tags": []
          }
        },
        {
          "output_type": "stream",
          "text": [
            "\n",
            "See the whole table with table.as_data_frame()\n"
          ],
          "name": "stdout"
        },
        {
          "output_type": "execute_result",
          "data": {
            "text/plain": [
              ""
            ]
          },
          "metadata": {
            "tags": []
          },
          "execution_count": 81
        }
      ]
    }
  ]
}