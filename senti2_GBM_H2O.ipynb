{
  "nbformat": 4,
  "nbformat_minor": 0,
  "metadata": {
    "colab": {
      "name": "senti2_GBM_H2O",
      "provenance": [],
      "collapsed_sections": [],
      "authorship_tag": "ABX9TyPAlIblS2jHhteqKubFcYRk",
      "include_colab_link": true
    },
    "kernelspec": {
      "name": "python3",
      "display_name": "Python 3"
    },
    "accelerator": "GPU",
    "widgets": {
      "application/vnd.jupyter.widget-state+json": {
        "0c63166c5f844ee1a0ae7b95571288c2": {
          "model_module": "@jupyter-widgets/controls",
          "model_name": "HBoxModel",
          "state": {
            "_view_name": "HBoxView",
            "_dom_classes": [],
            "_model_name": "HBoxModel",
            "_view_module": "@jupyter-widgets/controls",
            "_model_module_version": "1.5.0",
            "_view_count": null,
            "_view_module_version": "1.5.0",
            "box_style": "",
            "layout": "IPY_MODEL_58093d4a6f0c4b2387a887afe9377bed",
            "_model_module": "@jupyter-widgets/controls",
            "children": [
              "IPY_MODEL_d4fd794ed2b94427982ed9a9c032d77a",
              "IPY_MODEL_c0227dab1e8e48a2a8ef205367d07394"
            ]
          }
        },
        "58093d4a6f0c4b2387a887afe9377bed": {
          "model_module": "@jupyter-widgets/base",
          "model_name": "LayoutModel",
          "state": {
            "_view_name": "LayoutView",
            "grid_template_rows": null,
            "right": null,
            "justify_content": null,
            "_view_module": "@jupyter-widgets/base",
            "overflow": null,
            "_model_module_version": "1.2.0",
            "_view_count": null,
            "flex_flow": null,
            "width": null,
            "min_width": null,
            "border": null,
            "align_items": null,
            "bottom": null,
            "_model_module": "@jupyter-widgets/base",
            "top": null,
            "grid_column": null,
            "overflow_y": null,
            "overflow_x": null,
            "grid_auto_flow": null,
            "grid_area": null,
            "grid_template_columns": null,
            "flex": null,
            "_model_name": "LayoutModel",
            "justify_items": null,
            "grid_row": null,
            "max_height": null,
            "align_content": null,
            "visibility": null,
            "align_self": null,
            "height": null,
            "min_height": null,
            "padding": null,
            "grid_auto_rows": null,
            "grid_gap": null,
            "max_width": null,
            "order": null,
            "_view_module_version": "1.2.0",
            "grid_template_areas": null,
            "object_position": null,
            "object_fit": null,
            "grid_auto_columns": null,
            "margin": null,
            "display": null,
            "left": null
          }
        },
        "d4fd794ed2b94427982ed9a9c032d77a": {
          "model_module": "@jupyter-widgets/controls",
          "model_name": "FloatProgressModel",
          "state": {
            "_view_name": "ProgressView",
            "style": "IPY_MODEL_2093bfa9cc3b47019b840f045920eaf5",
            "_dom_classes": [],
            "description": "Dl Completed...: 100%",
            "_model_name": "FloatProgressModel",
            "bar_style": "success",
            "max": 1,
            "_view_module": "@jupyter-widgets/controls",
            "_model_module_version": "1.5.0",
            "value": 1,
            "_view_count": null,
            "_view_module_version": "1.5.0",
            "orientation": "horizontal",
            "min": 0,
            "description_tooltip": null,
            "_model_module": "@jupyter-widgets/controls",
            "layout": "IPY_MODEL_8ad36d6b587e42e39a2c8e9d1a6145e3"
          }
        },
        "c0227dab1e8e48a2a8ef205367d07394": {
          "model_module": "@jupyter-widgets/controls",
          "model_name": "HTMLModel",
          "state": {
            "_view_name": "HTMLView",
            "style": "IPY_MODEL_33a87ce5c0da4c00a6daa35e564f28bd",
            "_dom_classes": [],
            "description": "",
            "_model_name": "HTMLModel",
            "placeholder": "​",
            "_view_module": "@jupyter-widgets/controls",
            "_model_module_version": "1.5.0",
            "value": " 1/1 [00:02&lt;00:00,  2.28s/ url]",
            "_view_count": null,
            "_view_module_version": "1.5.0",
            "description_tooltip": null,
            "_model_module": "@jupyter-widgets/controls",
            "layout": "IPY_MODEL_7f1cbf3ec3b842a1bd0fe45330471582"
          }
        },
        "2093bfa9cc3b47019b840f045920eaf5": {
          "model_module": "@jupyter-widgets/controls",
          "model_name": "ProgressStyleModel",
          "state": {
            "_view_name": "StyleView",
            "_model_name": "ProgressStyleModel",
            "description_width": "initial",
            "_view_module": "@jupyter-widgets/base",
            "_model_module_version": "1.5.0",
            "_view_count": null,
            "_view_module_version": "1.2.0",
            "bar_color": null,
            "_model_module": "@jupyter-widgets/controls"
          }
        },
        "8ad36d6b587e42e39a2c8e9d1a6145e3": {
          "model_module": "@jupyter-widgets/base",
          "model_name": "LayoutModel",
          "state": {
            "_view_name": "LayoutView",
            "grid_template_rows": null,
            "right": null,
            "justify_content": null,
            "_view_module": "@jupyter-widgets/base",
            "overflow": null,
            "_model_module_version": "1.2.0",
            "_view_count": null,
            "flex_flow": null,
            "width": null,
            "min_width": null,
            "border": null,
            "align_items": null,
            "bottom": null,
            "_model_module": "@jupyter-widgets/base",
            "top": null,
            "grid_column": null,
            "overflow_y": null,
            "overflow_x": null,
            "grid_auto_flow": null,
            "grid_area": null,
            "grid_template_columns": null,
            "flex": null,
            "_model_name": "LayoutModel",
            "justify_items": null,
            "grid_row": null,
            "max_height": null,
            "align_content": null,
            "visibility": null,
            "align_self": null,
            "height": null,
            "min_height": null,
            "padding": null,
            "grid_auto_rows": null,
            "grid_gap": null,
            "max_width": null,
            "order": null,
            "_view_module_version": "1.2.0",
            "grid_template_areas": null,
            "object_position": null,
            "object_fit": null,
            "grid_auto_columns": null,
            "margin": null,
            "display": null,
            "left": null
          }
        },
        "33a87ce5c0da4c00a6daa35e564f28bd": {
          "model_module": "@jupyter-widgets/controls",
          "model_name": "DescriptionStyleModel",
          "state": {
            "_view_name": "StyleView",
            "_model_name": "DescriptionStyleModel",
            "description_width": "",
            "_view_module": "@jupyter-widgets/base",
            "_model_module_version": "1.5.0",
            "_view_count": null,
            "_view_module_version": "1.2.0",
            "_model_module": "@jupyter-widgets/controls"
          }
        },
        "7f1cbf3ec3b842a1bd0fe45330471582": {
          "model_module": "@jupyter-widgets/base",
          "model_name": "LayoutModel",
          "state": {
            "_view_name": "LayoutView",
            "grid_template_rows": null,
            "right": null,
            "justify_content": null,
            "_view_module": "@jupyter-widgets/base",
            "overflow": null,
            "_model_module_version": "1.2.0",
            "_view_count": null,
            "flex_flow": null,
            "width": null,
            "min_width": null,
            "border": null,
            "align_items": null,
            "bottom": null,
            "_model_module": "@jupyter-widgets/base",
            "top": null,
            "grid_column": null,
            "overflow_y": null,
            "overflow_x": null,
            "grid_auto_flow": null,
            "grid_area": null,
            "grid_template_columns": null,
            "flex": null,
            "_model_name": "LayoutModel",
            "justify_items": null,
            "grid_row": null,
            "max_height": null,
            "align_content": null,
            "visibility": null,
            "align_self": null,
            "height": null,
            "min_height": null,
            "padding": null,
            "grid_auto_rows": null,
            "grid_gap": null,
            "max_width": null,
            "order": null,
            "_view_module_version": "1.2.0",
            "grid_template_areas": null,
            "object_position": null,
            "object_fit": null,
            "grid_auto_columns": null,
            "margin": null,
            "display": null,
            "left": null
          }
        },
        "0023958b9d4346c293e0d3aa28eb375b": {
          "model_module": "@jupyter-widgets/controls",
          "model_name": "HBoxModel",
          "state": {
            "_view_name": "HBoxView",
            "_dom_classes": [],
            "_model_name": "HBoxModel",
            "_view_module": "@jupyter-widgets/controls",
            "_model_module_version": "1.5.0",
            "_view_count": null,
            "_view_module_version": "1.5.0",
            "box_style": "",
            "layout": "IPY_MODEL_d48f6d70cb3b460a9f6d42f70fc1a3b0",
            "_model_module": "@jupyter-widgets/controls",
            "children": [
              "IPY_MODEL_546548dbe770481a804d6243247f9137",
              "IPY_MODEL_a2b4770b70514867b1b114346bce6d66"
            ]
          }
        },
        "d48f6d70cb3b460a9f6d42f70fc1a3b0": {
          "model_module": "@jupyter-widgets/base",
          "model_name": "LayoutModel",
          "state": {
            "_view_name": "LayoutView",
            "grid_template_rows": null,
            "right": null,
            "justify_content": null,
            "_view_module": "@jupyter-widgets/base",
            "overflow": null,
            "_model_module_version": "1.2.0",
            "_view_count": null,
            "flex_flow": null,
            "width": null,
            "min_width": null,
            "border": null,
            "align_items": null,
            "bottom": null,
            "_model_module": "@jupyter-widgets/base",
            "top": null,
            "grid_column": null,
            "overflow_y": null,
            "overflow_x": null,
            "grid_auto_flow": null,
            "grid_area": null,
            "grid_template_columns": null,
            "flex": null,
            "_model_name": "LayoutModel",
            "justify_items": null,
            "grid_row": null,
            "max_height": null,
            "align_content": null,
            "visibility": null,
            "align_self": null,
            "height": null,
            "min_height": null,
            "padding": null,
            "grid_auto_rows": null,
            "grid_gap": null,
            "max_width": null,
            "order": null,
            "_view_module_version": "1.2.0",
            "grid_template_areas": null,
            "object_position": null,
            "object_fit": null,
            "grid_auto_columns": null,
            "margin": null,
            "display": null,
            "left": null
          }
        },
        "546548dbe770481a804d6243247f9137": {
          "model_module": "@jupyter-widgets/controls",
          "model_name": "FloatProgressModel",
          "state": {
            "_view_name": "ProgressView",
            "style": "IPY_MODEL_82682908ffa845b7b34272d9ddb8b767",
            "_dom_classes": [],
            "description": "Dl Size...: 100%",
            "_model_name": "FloatProgressModel",
            "bar_style": "success",
            "max": 1,
            "_view_module": "@jupyter-widgets/controls",
            "_model_module_version": "1.5.0",
            "value": 1,
            "_view_count": null,
            "_view_module_version": "1.5.0",
            "orientation": "horizontal",
            "min": 0,
            "description_tooltip": null,
            "_model_module": "@jupyter-widgets/controls",
            "layout": "IPY_MODEL_42e7f8f3fefc4ba9a55cf357702fe4f1"
          }
        },
        "a2b4770b70514867b1b114346bce6d66": {
          "model_module": "@jupyter-widgets/controls",
          "model_name": "HTMLModel",
          "state": {
            "_view_name": "HTMLView",
            "style": "IPY_MODEL_50ec550255f740dd8df1776422650df2",
            "_dom_classes": [],
            "description": "",
            "_model_name": "HTMLModel",
            "placeholder": "​",
            "_view_module": "@jupyter-widgets/controls",
            "_model_module_version": "1.5.0",
            "value": " 16/16 [00:02&lt;00:00,  7.10 MiB/s]",
            "_view_count": null,
            "_view_module_version": "1.5.0",
            "description_tooltip": null,
            "_model_module": "@jupyter-widgets/controls",
            "layout": "IPY_MODEL_f7ca2ad5832e4df1b013664efc15c82e"
          }
        },
        "82682908ffa845b7b34272d9ddb8b767": {
          "model_module": "@jupyter-widgets/controls",
          "model_name": "ProgressStyleModel",
          "state": {
            "_view_name": "StyleView",
            "_model_name": "ProgressStyleModel",
            "description_width": "initial",
            "_view_module": "@jupyter-widgets/base",
            "_model_module_version": "1.5.0",
            "_view_count": null,
            "_view_module_version": "1.2.0",
            "bar_color": null,
            "_model_module": "@jupyter-widgets/controls"
          }
        },
        "42e7f8f3fefc4ba9a55cf357702fe4f1": {
          "model_module": "@jupyter-widgets/base",
          "model_name": "LayoutModel",
          "state": {
            "_view_name": "LayoutView",
            "grid_template_rows": null,
            "right": null,
            "justify_content": null,
            "_view_module": "@jupyter-widgets/base",
            "overflow": null,
            "_model_module_version": "1.2.0",
            "_view_count": null,
            "flex_flow": null,
            "width": null,
            "min_width": null,
            "border": null,
            "align_items": null,
            "bottom": null,
            "_model_module": "@jupyter-widgets/base",
            "top": null,
            "grid_column": null,
            "overflow_y": null,
            "overflow_x": null,
            "grid_auto_flow": null,
            "grid_area": null,
            "grid_template_columns": null,
            "flex": null,
            "_model_name": "LayoutModel",
            "justify_items": null,
            "grid_row": null,
            "max_height": null,
            "align_content": null,
            "visibility": null,
            "align_self": null,
            "height": null,
            "min_height": null,
            "padding": null,
            "grid_auto_rows": null,
            "grid_gap": null,
            "max_width": null,
            "order": null,
            "_view_module_version": "1.2.0",
            "grid_template_areas": null,
            "object_position": null,
            "object_fit": null,
            "grid_auto_columns": null,
            "margin": null,
            "display": null,
            "left": null
          }
        },
        "50ec550255f740dd8df1776422650df2": {
          "model_module": "@jupyter-widgets/controls",
          "model_name": "DescriptionStyleModel",
          "state": {
            "_view_name": "StyleView",
            "_model_name": "DescriptionStyleModel",
            "description_width": "",
            "_view_module": "@jupyter-widgets/base",
            "_model_module_version": "1.5.0",
            "_view_count": null,
            "_view_module_version": "1.2.0",
            "_model_module": "@jupyter-widgets/controls"
          }
        },
        "f7ca2ad5832e4df1b013664efc15c82e": {
          "model_module": "@jupyter-widgets/base",
          "model_name": "LayoutModel",
          "state": {
            "_view_name": "LayoutView",
            "grid_template_rows": null,
            "right": null,
            "justify_content": null,
            "_view_module": "@jupyter-widgets/base",
            "overflow": null,
            "_model_module_version": "1.2.0",
            "_view_count": null,
            "flex_flow": null,
            "width": null,
            "min_width": null,
            "border": null,
            "align_items": null,
            "bottom": null,
            "_model_module": "@jupyter-widgets/base",
            "top": null,
            "grid_column": null,
            "overflow_y": null,
            "overflow_x": null,
            "grid_auto_flow": null,
            "grid_area": null,
            "grid_template_columns": null,
            "flex": null,
            "_model_name": "LayoutModel",
            "justify_items": null,
            "grid_row": null,
            "max_height": null,
            "align_content": null,
            "visibility": null,
            "align_self": null,
            "height": null,
            "min_height": null,
            "padding": null,
            "grid_auto_rows": null,
            "grid_gap": null,
            "max_width": null,
            "order": null,
            "_view_module_version": "1.2.0",
            "grid_template_areas": null,
            "object_position": null,
            "object_fit": null,
            "grid_auto_columns": null,
            "margin": null,
            "display": null,
            "left": null
          }
        },
        "1e5a7d38dcfe4a489c6e107ee146b4f7": {
          "model_module": "@jupyter-widgets/controls",
          "model_name": "HBoxModel",
          "state": {
            "_view_name": "HBoxView",
            "_dom_classes": [],
            "_model_name": "HBoxModel",
            "_view_module": "@jupyter-widgets/controls",
            "_model_module_version": "1.5.0",
            "_view_count": null,
            "_view_module_version": "1.5.0",
            "box_style": "",
            "layout": "IPY_MODEL_749b5e9af0e54789b0388774709ea59f",
            "_model_module": "@jupyter-widgets/controls",
            "children": [
              "IPY_MODEL_de0d843791174d7ba7c6c038b0ec6cde",
              "IPY_MODEL_8b78a9013aea4893afb6a6df77e5483a"
            ]
          }
        },
        "749b5e9af0e54789b0388774709ea59f": {
          "model_module": "@jupyter-widgets/base",
          "model_name": "LayoutModel",
          "state": {
            "_view_name": "LayoutView",
            "grid_template_rows": null,
            "right": null,
            "justify_content": null,
            "_view_module": "@jupyter-widgets/base",
            "overflow": null,
            "_model_module_version": "1.2.0",
            "_view_count": null,
            "flex_flow": null,
            "width": null,
            "min_width": null,
            "border": null,
            "align_items": null,
            "bottom": null,
            "_model_module": "@jupyter-widgets/base",
            "top": null,
            "grid_column": null,
            "overflow_y": null,
            "overflow_x": null,
            "grid_auto_flow": null,
            "grid_area": null,
            "grid_template_columns": null,
            "flex": null,
            "_model_name": "LayoutModel",
            "justify_items": null,
            "grid_row": null,
            "max_height": null,
            "align_content": null,
            "visibility": null,
            "align_self": null,
            "height": null,
            "min_height": null,
            "padding": null,
            "grid_auto_rows": null,
            "grid_gap": null,
            "max_width": null,
            "order": null,
            "_view_module_version": "1.2.0",
            "grid_template_areas": null,
            "object_position": null,
            "object_fit": null,
            "grid_auto_columns": null,
            "margin": null,
            "display": null,
            "left": null
          }
        },
        "de0d843791174d7ba7c6c038b0ec6cde": {
          "model_module": "@jupyter-widgets/controls",
          "model_name": "FloatProgressModel",
          "state": {
            "_view_name": "ProgressView",
            "style": "IPY_MODEL_f293d2f5f6354b849d75a16c55f11818",
            "_dom_classes": [],
            "description": "Extraction completed...: 100%",
            "_model_name": "FloatProgressModel",
            "bar_style": "success",
            "max": 1,
            "_view_module": "@jupyter-widgets/controls",
            "_model_module_version": "1.5.0",
            "value": 1,
            "_view_count": null,
            "_view_module_version": "1.5.0",
            "orientation": "horizontal",
            "min": 0,
            "description_tooltip": null,
            "_model_module": "@jupyter-widgets/controls",
            "layout": "IPY_MODEL_aaf3efe2f8cd46e9a9603f0a6d1ab6ee"
          }
        },
        "8b78a9013aea4893afb6a6df77e5483a": {
          "model_module": "@jupyter-widgets/controls",
          "model_name": "HTMLModel",
          "state": {
            "_view_name": "HTMLView",
            "style": "IPY_MODEL_5bbe6f166fe240e4814c403ead41258e",
            "_dom_classes": [],
            "description": "",
            "_model_name": "HTMLModel",
            "placeholder": "​",
            "_view_module": "@jupyter-widgets/controls",
            "_model_module_version": "1.5.0",
            "value": " 1/1 [00:02&lt;00:00,  2.22s/ file]",
            "_view_count": null,
            "_view_module_version": "1.5.0",
            "description_tooltip": null,
            "_model_module": "@jupyter-widgets/controls",
            "layout": "IPY_MODEL_acfb47ed9f9543d4b1837318deb669a9"
          }
        },
        "f293d2f5f6354b849d75a16c55f11818": {
          "model_module": "@jupyter-widgets/controls",
          "model_name": "ProgressStyleModel",
          "state": {
            "_view_name": "StyleView",
            "_model_name": "ProgressStyleModel",
            "description_width": "initial",
            "_view_module": "@jupyter-widgets/base",
            "_model_module_version": "1.5.0",
            "_view_count": null,
            "_view_module_version": "1.2.0",
            "bar_color": null,
            "_model_module": "@jupyter-widgets/controls"
          }
        },
        "aaf3efe2f8cd46e9a9603f0a6d1ab6ee": {
          "model_module": "@jupyter-widgets/base",
          "model_name": "LayoutModel",
          "state": {
            "_view_name": "LayoutView",
            "grid_template_rows": null,
            "right": null,
            "justify_content": null,
            "_view_module": "@jupyter-widgets/base",
            "overflow": null,
            "_model_module_version": "1.2.0",
            "_view_count": null,
            "flex_flow": null,
            "width": null,
            "min_width": null,
            "border": null,
            "align_items": null,
            "bottom": null,
            "_model_module": "@jupyter-widgets/base",
            "top": null,
            "grid_column": null,
            "overflow_y": null,
            "overflow_x": null,
            "grid_auto_flow": null,
            "grid_area": null,
            "grid_template_columns": null,
            "flex": null,
            "_model_name": "LayoutModel",
            "justify_items": null,
            "grid_row": null,
            "max_height": null,
            "align_content": null,
            "visibility": null,
            "align_self": null,
            "height": null,
            "min_height": null,
            "padding": null,
            "grid_auto_rows": null,
            "grid_gap": null,
            "max_width": null,
            "order": null,
            "_view_module_version": "1.2.0",
            "grid_template_areas": null,
            "object_position": null,
            "object_fit": null,
            "grid_auto_columns": null,
            "margin": null,
            "display": null,
            "left": null
          }
        },
        "5bbe6f166fe240e4814c403ead41258e": {
          "model_module": "@jupyter-widgets/controls",
          "model_name": "DescriptionStyleModel",
          "state": {
            "_view_name": "StyleView",
            "_model_name": "DescriptionStyleModel",
            "description_width": "",
            "_view_module": "@jupyter-widgets/base",
            "_model_module_version": "1.5.0",
            "_view_count": null,
            "_view_module_version": "1.2.0",
            "_model_module": "@jupyter-widgets/controls"
          }
        },
        "acfb47ed9f9543d4b1837318deb669a9": {
          "model_module": "@jupyter-widgets/base",
          "model_name": "LayoutModel",
          "state": {
            "_view_name": "LayoutView",
            "grid_template_rows": null,
            "right": null,
            "justify_content": null,
            "_view_module": "@jupyter-widgets/base",
            "overflow": null,
            "_model_module_version": "1.2.0",
            "_view_count": null,
            "flex_flow": null,
            "width": null,
            "min_width": null,
            "border": null,
            "align_items": null,
            "bottom": null,
            "_model_module": "@jupyter-widgets/base",
            "top": null,
            "grid_column": null,
            "overflow_y": null,
            "overflow_x": null,
            "grid_auto_flow": null,
            "grid_area": null,
            "grid_template_columns": null,
            "flex": null,
            "_model_name": "LayoutModel",
            "justify_items": null,
            "grid_row": null,
            "max_height": null,
            "align_content": null,
            "visibility": null,
            "align_self": null,
            "height": null,
            "min_height": null,
            "padding": null,
            "grid_auto_rows": null,
            "grid_gap": null,
            "max_width": null,
            "order": null,
            "_view_module_version": "1.2.0",
            "grid_template_areas": null,
            "object_position": null,
            "object_fit": null,
            "grid_auto_columns": null,
            "margin": null,
            "display": null,
            "left": null
          }
        },
        "f0dd89adb23f485081a717bd9a2f531c": {
          "model_module": "@jupyter-widgets/controls",
          "model_name": "HBoxModel",
          "state": {
            "_view_name": "HBoxView",
            "_dom_classes": [],
            "_model_name": "HBoxModel",
            "_view_module": "@jupyter-widgets/controls",
            "_model_module_version": "1.5.0",
            "_view_count": null,
            "_view_module_version": "1.5.0",
            "box_style": "",
            "layout": "IPY_MODEL_604bbde4c6f64730a13fbc3eddb1e4d9",
            "_model_module": "@jupyter-widgets/controls",
            "children": [
              "IPY_MODEL_1f2480e312b44364b3c21b1fc19ebfdd",
              "IPY_MODEL_e5a7589476a34e1ea257d08d19a35f3e"
            ]
          }
        },
        "604bbde4c6f64730a13fbc3eddb1e4d9": {
          "model_module": "@jupyter-widgets/base",
          "model_name": "LayoutModel",
          "state": {
            "_view_name": "LayoutView",
            "grid_template_rows": null,
            "right": null,
            "justify_content": null,
            "_view_module": "@jupyter-widgets/base",
            "overflow": null,
            "_model_module_version": "1.2.0",
            "_view_count": null,
            "flex_flow": null,
            "width": null,
            "min_width": null,
            "border": null,
            "align_items": null,
            "bottom": null,
            "_model_module": "@jupyter-widgets/base",
            "top": null,
            "grid_column": null,
            "overflow_y": null,
            "overflow_x": null,
            "grid_auto_flow": null,
            "grid_area": null,
            "grid_template_columns": null,
            "flex": null,
            "_model_name": "LayoutModel",
            "justify_items": null,
            "grid_row": null,
            "max_height": null,
            "align_content": null,
            "visibility": null,
            "align_self": null,
            "height": null,
            "min_height": null,
            "padding": null,
            "grid_auto_rows": null,
            "grid_gap": null,
            "max_width": null,
            "order": null,
            "_view_module_version": "1.2.0",
            "grid_template_areas": null,
            "object_position": null,
            "object_fit": null,
            "grid_auto_columns": null,
            "margin": null,
            "display": null,
            "left": null
          }
        },
        "1f2480e312b44364b3c21b1fc19ebfdd": {
          "model_module": "@jupyter-widgets/controls",
          "model_name": "FloatProgressModel",
          "state": {
            "_view_name": "ProgressView",
            "style": "IPY_MODEL_351dd91504b64570bf0ed5b4876dad9b",
            "_dom_classes": [],
            "description": "",
            "_model_name": "FloatProgressModel",
            "bar_style": "info",
            "max": 1,
            "_view_module": "@jupyter-widgets/controls",
            "_model_module_version": "1.5.0",
            "value": 1,
            "_view_count": null,
            "_view_module_version": "1.5.0",
            "orientation": "horizontal",
            "min": 0,
            "description_tooltip": null,
            "_model_module": "@jupyter-widgets/controls",
            "layout": "IPY_MODEL_146f70214dcd4106b45a24541cdc18a5"
          }
        },
        "e5a7589476a34e1ea257d08d19a35f3e": {
          "model_module": "@jupyter-widgets/controls",
          "model_name": "HTMLModel",
          "state": {
            "_view_name": "HTMLView",
            "style": "IPY_MODEL_1df31b62b205471ab226b7c1c6e16479",
            "_dom_classes": [],
            "description": "",
            "_model_name": "HTMLModel",
            "placeholder": "​",
            "_view_module": "@jupyter-widgets/controls",
            "_model_module_version": "1.5.0",
            "value": " 85981/0 [01:36&lt;00:00, 888.84 examples/s]",
            "_view_count": null,
            "_view_module_version": "1.5.0",
            "description_tooltip": null,
            "_model_module": "@jupyter-widgets/controls",
            "layout": "IPY_MODEL_1f6f488e9cb948758205fff076c0c26e"
          }
        },
        "351dd91504b64570bf0ed5b4876dad9b": {
          "model_module": "@jupyter-widgets/controls",
          "model_name": "ProgressStyleModel",
          "state": {
            "_view_name": "StyleView",
            "_model_name": "ProgressStyleModel",
            "description_width": "initial",
            "_view_module": "@jupyter-widgets/base",
            "_model_module_version": "1.5.0",
            "_view_count": null,
            "_view_module_version": "1.2.0",
            "bar_color": null,
            "_model_module": "@jupyter-widgets/controls"
          }
        },
        "146f70214dcd4106b45a24541cdc18a5": {
          "model_module": "@jupyter-widgets/base",
          "model_name": "LayoutModel",
          "state": {
            "_view_name": "LayoutView",
            "grid_template_rows": null,
            "right": null,
            "justify_content": null,
            "_view_module": "@jupyter-widgets/base",
            "overflow": null,
            "_model_module_version": "1.2.0",
            "_view_count": null,
            "flex_flow": null,
            "width": null,
            "min_width": null,
            "border": null,
            "align_items": null,
            "bottom": null,
            "_model_module": "@jupyter-widgets/base",
            "top": null,
            "grid_column": null,
            "overflow_y": null,
            "overflow_x": null,
            "grid_auto_flow": null,
            "grid_area": null,
            "grid_template_columns": null,
            "flex": null,
            "_model_name": "LayoutModel",
            "justify_items": null,
            "grid_row": null,
            "max_height": null,
            "align_content": null,
            "visibility": null,
            "align_self": null,
            "height": null,
            "min_height": null,
            "padding": null,
            "grid_auto_rows": null,
            "grid_gap": null,
            "max_width": null,
            "order": null,
            "_view_module_version": "1.2.0",
            "grid_template_areas": null,
            "object_position": null,
            "object_fit": null,
            "grid_auto_columns": null,
            "margin": null,
            "display": null,
            "left": null
          }
        },
        "1df31b62b205471ab226b7c1c6e16479": {
          "model_module": "@jupyter-widgets/controls",
          "model_name": "DescriptionStyleModel",
          "state": {
            "_view_name": "StyleView",
            "_model_name": "DescriptionStyleModel",
            "description_width": "",
            "_view_module": "@jupyter-widgets/base",
            "_model_module_version": "1.5.0",
            "_view_count": null,
            "_view_module_version": "1.2.0",
            "_model_module": "@jupyter-widgets/controls"
          }
        },
        "1f6f488e9cb948758205fff076c0c26e": {
          "model_module": "@jupyter-widgets/base",
          "model_name": "LayoutModel",
          "state": {
            "_view_name": "LayoutView",
            "grid_template_rows": null,
            "right": null,
            "justify_content": null,
            "_view_module": "@jupyter-widgets/base",
            "overflow": null,
            "_model_module_version": "1.2.0",
            "_view_count": null,
            "flex_flow": null,
            "width": null,
            "min_width": null,
            "border": null,
            "align_items": null,
            "bottom": null,
            "_model_module": "@jupyter-widgets/base",
            "top": null,
            "grid_column": null,
            "overflow_y": null,
            "overflow_x": null,
            "grid_auto_flow": null,
            "grid_area": null,
            "grid_template_columns": null,
            "flex": null,
            "_model_name": "LayoutModel",
            "justify_items": null,
            "grid_row": null,
            "max_height": null,
            "align_content": null,
            "visibility": null,
            "align_self": null,
            "height": null,
            "min_height": null,
            "padding": null,
            "grid_auto_rows": null,
            "grid_gap": null,
            "max_width": null,
            "order": null,
            "_view_module_version": "1.2.0",
            "grid_template_areas": null,
            "object_position": null,
            "object_fit": null,
            "grid_auto_columns": null,
            "margin": null,
            "display": null,
            "left": null
          }
        },
        "0fa86a6937854b50987e0113957e9441": {
          "model_module": "@jupyter-widgets/controls",
          "model_name": "HBoxModel",
          "state": {
            "_view_name": "HBoxView",
            "_dom_classes": [],
            "_model_name": "HBoxModel",
            "_view_module": "@jupyter-widgets/controls",
            "_model_module_version": "1.5.0",
            "_view_count": null,
            "_view_module_version": "1.5.0",
            "box_style": "",
            "layout": "IPY_MODEL_a98f71157b514fb5a3f1174b74d695a9",
            "_model_module": "@jupyter-widgets/controls",
            "children": [
              "IPY_MODEL_7e6b4e1c88b4457582564ae194bc0afb",
              "IPY_MODEL_1e2254731a6e4c38b42e4a5badf3dd8b"
            ]
          }
        },
        "a98f71157b514fb5a3f1174b74d695a9": {
          "model_module": "@jupyter-widgets/base",
          "model_name": "LayoutModel",
          "state": {
            "_view_name": "LayoutView",
            "grid_template_rows": null,
            "right": null,
            "justify_content": null,
            "_view_module": "@jupyter-widgets/base",
            "overflow": null,
            "_model_module_version": "1.2.0",
            "_view_count": null,
            "flex_flow": null,
            "width": null,
            "min_width": null,
            "border": null,
            "align_items": null,
            "bottom": null,
            "_model_module": "@jupyter-widgets/base",
            "top": null,
            "grid_column": null,
            "overflow_y": null,
            "overflow_x": null,
            "grid_auto_flow": null,
            "grid_area": null,
            "grid_template_columns": null,
            "flex": null,
            "_model_name": "LayoutModel",
            "justify_items": null,
            "grid_row": null,
            "max_height": null,
            "align_content": null,
            "visibility": null,
            "align_self": null,
            "height": null,
            "min_height": null,
            "padding": null,
            "grid_auto_rows": null,
            "grid_gap": null,
            "max_width": null,
            "order": null,
            "_view_module_version": "1.2.0",
            "grid_template_areas": null,
            "object_position": null,
            "object_fit": null,
            "grid_auto_columns": null,
            "margin": null,
            "display": null,
            "left": null
          }
        },
        "7e6b4e1c88b4457582564ae194bc0afb": {
          "model_module": "@jupyter-widgets/controls",
          "model_name": "FloatProgressModel",
          "state": {
            "_view_name": "ProgressView",
            "style": "IPY_MODEL_e0c0384f13984948b84f9737fd0723a6",
            "_dom_classes": [],
            "description": " 73%",
            "_model_name": "FloatProgressModel",
            "bar_style": "danger",
            "max": 85981,
            "_view_module": "@jupyter-widgets/controls",
            "_model_module_version": "1.5.0",
            "value": 62601,
            "_view_count": null,
            "_view_module_version": "1.5.0",
            "orientation": "horizontal",
            "min": 0,
            "description_tooltip": null,
            "_model_module": "@jupyter-widgets/controls",
            "layout": "IPY_MODEL_eb01c36ce0da4e359c3657f7e0f48c95"
          }
        },
        "1e2254731a6e4c38b42e4a5badf3dd8b": {
          "model_module": "@jupyter-widgets/controls",
          "model_name": "HTMLModel",
          "state": {
            "_view_name": "HTMLView",
            "style": "IPY_MODEL_f6f3d947f9af4bdf89f2a3ad3666e2ff",
            "_dom_classes": [],
            "description": "",
            "_model_name": "HTMLModel",
            "placeholder": "​",
            "_view_module": "@jupyter-widgets/controls",
            "_model_module_version": "1.5.0",
            "value": " 62601/85981 [00:00&lt;31:22, 12.42 examples/s]",
            "_view_count": null,
            "_view_module_version": "1.5.0",
            "description_tooltip": null,
            "_model_module": "@jupyter-widgets/controls",
            "layout": "IPY_MODEL_39c04e4fea804fcb8c3ebcd6d1b060f2"
          }
        },
        "e0c0384f13984948b84f9737fd0723a6": {
          "model_module": "@jupyter-widgets/controls",
          "model_name": "ProgressStyleModel",
          "state": {
            "_view_name": "StyleView",
            "_model_name": "ProgressStyleModel",
            "description_width": "initial",
            "_view_module": "@jupyter-widgets/base",
            "_model_module_version": "1.5.0",
            "_view_count": null,
            "_view_module_version": "1.2.0",
            "bar_color": null,
            "_model_module": "@jupyter-widgets/controls"
          }
        },
        "eb01c36ce0da4e359c3657f7e0f48c95": {
          "model_module": "@jupyter-widgets/base",
          "model_name": "LayoutModel",
          "state": {
            "_view_name": "LayoutView",
            "grid_template_rows": null,
            "right": null,
            "justify_content": null,
            "_view_module": "@jupyter-widgets/base",
            "overflow": null,
            "_model_module_version": "1.2.0",
            "_view_count": null,
            "flex_flow": null,
            "width": null,
            "min_width": null,
            "border": null,
            "align_items": null,
            "bottom": null,
            "_model_module": "@jupyter-widgets/base",
            "top": null,
            "grid_column": null,
            "overflow_y": null,
            "overflow_x": null,
            "grid_auto_flow": null,
            "grid_area": null,
            "grid_template_columns": null,
            "flex": null,
            "_model_name": "LayoutModel",
            "justify_items": null,
            "grid_row": null,
            "max_height": null,
            "align_content": null,
            "visibility": null,
            "align_self": null,
            "height": null,
            "min_height": null,
            "padding": null,
            "grid_auto_rows": null,
            "grid_gap": null,
            "max_width": null,
            "order": null,
            "_view_module_version": "1.2.0",
            "grid_template_areas": null,
            "object_position": null,
            "object_fit": null,
            "grid_auto_columns": null,
            "margin": null,
            "display": null,
            "left": null
          }
        },
        "f6f3d947f9af4bdf89f2a3ad3666e2ff": {
          "model_module": "@jupyter-widgets/controls",
          "model_name": "DescriptionStyleModel",
          "state": {
            "_view_name": "StyleView",
            "_model_name": "DescriptionStyleModel",
            "description_width": "",
            "_view_module": "@jupyter-widgets/base",
            "_model_module_version": "1.5.0",
            "_view_count": null,
            "_view_module_version": "1.2.0",
            "_model_module": "@jupyter-widgets/controls"
          }
        },
        "39c04e4fea804fcb8c3ebcd6d1b060f2": {
          "model_module": "@jupyter-widgets/base",
          "model_name": "LayoutModel",
          "state": {
            "_view_name": "LayoutView",
            "grid_template_rows": null,
            "right": null,
            "justify_content": null,
            "_view_module": "@jupyter-widgets/base",
            "overflow": null,
            "_model_module_version": "1.2.0",
            "_view_count": null,
            "flex_flow": null,
            "width": null,
            "min_width": null,
            "border": null,
            "align_items": null,
            "bottom": null,
            "_model_module": "@jupyter-widgets/base",
            "top": null,
            "grid_column": null,
            "overflow_y": null,
            "overflow_x": null,
            "grid_auto_flow": null,
            "grid_area": null,
            "grid_template_columns": null,
            "flex": null,
            "_model_name": "LayoutModel",
            "justify_items": null,
            "grid_row": null,
            "max_height": null,
            "align_content": null,
            "visibility": null,
            "align_self": null,
            "height": null,
            "min_height": null,
            "padding": null,
            "grid_auto_rows": null,
            "grid_gap": null,
            "max_width": null,
            "order": null,
            "_view_module_version": "1.2.0",
            "grid_template_areas": null,
            "object_position": null,
            "object_fit": null,
            "grid_auto_columns": null,
            "margin": null,
            "display": null,
            "left": null
          }
        },
        "f1afff8f4e3b4113b8859bc0318b040b": {
          "model_module": "@jupyter-widgets/controls",
          "model_name": "HBoxModel",
          "state": {
            "_view_name": "HBoxView",
            "_dom_classes": [],
            "_model_name": "HBoxModel",
            "_view_module": "@jupyter-widgets/controls",
            "_model_module_version": "1.5.0",
            "_view_count": null,
            "_view_module_version": "1.5.0",
            "box_style": "",
            "layout": "IPY_MODEL_de51f6d50e0d41d7b3b06aeaf58013fb",
            "_model_module": "@jupyter-widgets/controls",
            "children": [
              "IPY_MODEL_fe866f1407134a1d93e53e283355e682",
              "IPY_MODEL_6862b75f55b24fa4826537704ef73d50"
            ]
          }
        },
        "de51f6d50e0d41d7b3b06aeaf58013fb": {
          "model_module": "@jupyter-widgets/base",
          "model_name": "LayoutModel",
          "state": {
            "_view_name": "LayoutView",
            "grid_template_rows": null,
            "right": null,
            "justify_content": null,
            "_view_module": "@jupyter-widgets/base",
            "overflow": null,
            "_model_module_version": "1.2.0",
            "_view_count": null,
            "flex_flow": null,
            "width": null,
            "min_width": null,
            "border": null,
            "align_items": null,
            "bottom": null,
            "_model_module": "@jupyter-widgets/base",
            "top": null,
            "grid_column": null,
            "overflow_y": null,
            "overflow_x": null,
            "grid_auto_flow": null,
            "grid_area": null,
            "grid_template_columns": null,
            "flex": null,
            "_model_name": "LayoutModel",
            "justify_items": null,
            "grid_row": null,
            "max_height": null,
            "align_content": null,
            "visibility": null,
            "align_self": null,
            "height": null,
            "min_height": null,
            "padding": null,
            "grid_auto_rows": null,
            "grid_gap": null,
            "max_width": null,
            "order": null,
            "_view_module_version": "1.2.0",
            "grid_template_areas": null,
            "object_position": null,
            "object_fit": null,
            "grid_auto_columns": null,
            "margin": null,
            "display": null,
            "left": null
          }
        },
        "fe866f1407134a1d93e53e283355e682": {
          "model_module": "@jupyter-widgets/controls",
          "model_name": "FloatProgressModel",
          "state": {
            "_view_name": "ProgressView",
            "style": "IPY_MODEL_8bdb503a74e94931868dceeb444db7bb",
            "_dom_classes": [],
            "description": "Computing statistics...: 100%",
            "_model_name": "FloatProgressModel",
            "bar_style": "success",
            "max": 1,
            "_view_module": "@jupyter-widgets/controls",
            "_model_module_version": "1.5.0",
            "value": 1,
            "_view_count": null,
            "_view_module_version": "1.5.0",
            "orientation": "horizontal",
            "min": 0,
            "description_tooltip": null,
            "_model_module": "@jupyter-widgets/controls",
            "layout": "IPY_MODEL_a4ede3ed025043f49f933dcfe5cfa84e"
          }
        },
        "6862b75f55b24fa4826537704ef73d50": {
          "model_module": "@jupyter-widgets/controls",
          "model_name": "HTMLModel",
          "state": {
            "_view_name": "HTMLView",
            "style": "IPY_MODEL_d26c4fd61be448499ef9516baf7e22cd",
            "_dom_classes": [],
            "description": "",
            "_model_name": "HTMLModel",
            "placeholder": "​",
            "_view_module": "@jupyter-widgets/controls",
            "_model_module_version": "1.5.0",
            "value": " 1/1 [00:56&lt;00:00, 56.09s/ split]",
            "_view_count": null,
            "_view_module_version": "1.5.0",
            "description_tooltip": null,
            "_model_module": "@jupyter-widgets/controls",
            "layout": "IPY_MODEL_6a069e466d3f46d184c959dbb2cd8cd2"
          }
        },
        "8bdb503a74e94931868dceeb444db7bb": {
          "model_module": "@jupyter-widgets/controls",
          "model_name": "ProgressStyleModel",
          "state": {
            "_view_name": "StyleView",
            "_model_name": "ProgressStyleModel",
            "description_width": "initial",
            "_view_module": "@jupyter-widgets/base",
            "_model_module_version": "1.5.0",
            "_view_count": null,
            "_view_module_version": "1.2.0",
            "bar_color": null,
            "_model_module": "@jupyter-widgets/controls"
          }
        },
        "a4ede3ed025043f49f933dcfe5cfa84e": {
          "model_module": "@jupyter-widgets/base",
          "model_name": "LayoutModel",
          "state": {
            "_view_name": "LayoutView",
            "grid_template_rows": null,
            "right": null,
            "justify_content": null,
            "_view_module": "@jupyter-widgets/base",
            "overflow": null,
            "_model_module_version": "1.2.0",
            "_view_count": null,
            "flex_flow": null,
            "width": null,
            "min_width": null,
            "border": null,
            "align_items": null,
            "bottom": null,
            "_model_module": "@jupyter-widgets/base",
            "top": null,
            "grid_column": null,
            "overflow_y": null,
            "overflow_x": null,
            "grid_auto_flow": null,
            "grid_area": null,
            "grid_template_columns": null,
            "flex": null,
            "_model_name": "LayoutModel",
            "justify_items": null,
            "grid_row": null,
            "max_height": null,
            "align_content": null,
            "visibility": null,
            "align_self": null,
            "height": null,
            "min_height": null,
            "padding": null,
            "grid_auto_rows": null,
            "grid_gap": null,
            "max_width": null,
            "order": null,
            "_view_module_version": "1.2.0",
            "grid_template_areas": null,
            "object_position": null,
            "object_fit": null,
            "grid_auto_columns": null,
            "margin": null,
            "display": null,
            "left": null
          }
        },
        "d26c4fd61be448499ef9516baf7e22cd": {
          "model_module": "@jupyter-widgets/controls",
          "model_name": "DescriptionStyleModel",
          "state": {
            "_view_name": "StyleView",
            "_model_name": "DescriptionStyleModel",
            "description_width": "",
            "_view_module": "@jupyter-widgets/base",
            "_model_module_version": "1.5.0",
            "_view_count": null,
            "_view_module_version": "1.2.0",
            "_model_module": "@jupyter-widgets/controls"
          }
        },
        "6a069e466d3f46d184c959dbb2cd8cd2": {
          "model_module": "@jupyter-widgets/base",
          "model_name": "LayoutModel",
          "state": {
            "_view_name": "LayoutView",
            "grid_template_rows": null,
            "right": null,
            "justify_content": null,
            "_view_module": "@jupyter-widgets/base",
            "overflow": null,
            "_model_module_version": "1.2.0",
            "_view_count": null,
            "flex_flow": null,
            "width": null,
            "min_width": null,
            "border": null,
            "align_items": null,
            "bottom": null,
            "_model_module": "@jupyter-widgets/base",
            "top": null,
            "grid_column": null,
            "overflow_y": null,
            "overflow_x": null,
            "grid_auto_flow": null,
            "grid_area": null,
            "grid_template_columns": null,
            "flex": null,
            "_model_name": "LayoutModel",
            "justify_items": null,
            "grid_row": null,
            "max_height": null,
            "align_content": null,
            "visibility": null,
            "align_self": null,
            "height": null,
            "min_height": null,
            "padding": null,
            "grid_auto_rows": null,
            "grid_gap": null,
            "max_width": null,
            "order": null,
            "_view_module_version": "1.2.0",
            "grid_template_areas": null,
            "object_position": null,
            "object_fit": null,
            "grid_auto_columns": null,
            "margin": null,
            "display": null,
            "left": null
          }
        },
        "ff896713ee604f43ae412c3026a84d33": {
          "model_module": "@jupyter-widgets/controls",
          "model_name": "HBoxModel",
          "state": {
            "_view_name": "HBoxView",
            "_dom_classes": [],
            "_model_name": "HBoxModel",
            "_view_module": "@jupyter-widgets/controls",
            "_model_module_version": "1.5.0",
            "_view_count": null,
            "_view_module_version": "1.5.0",
            "box_style": "",
            "layout": "IPY_MODEL_1530f84ba46242a8b7722a2418b4d197",
            "_model_module": "@jupyter-widgets/controls",
            "children": [
              "IPY_MODEL_6d26b28b4e814d00beff4a4e5bb4141a",
              "IPY_MODEL_726f826db04f4874a20f2f09c9e05c8f"
            ]
          }
        },
        "1530f84ba46242a8b7722a2418b4d197": {
          "model_module": "@jupyter-widgets/base",
          "model_name": "LayoutModel",
          "state": {
            "_view_name": "LayoutView",
            "grid_template_rows": null,
            "right": null,
            "justify_content": null,
            "_view_module": "@jupyter-widgets/base",
            "overflow": null,
            "_model_module_version": "1.2.0",
            "_view_count": null,
            "flex_flow": null,
            "width": null,
            "min_width": null,
            "border": null,
            "align_items": null,
            "bottom": null,
            "_model_module": "@jupyter-widgets/base",
            "top": null,
            "grid_column": null,
            "overflow_y": null,
            "overflow_x": null,
            "grid_auto_flow": null,
            "grid_area": null,
            "grid_template_columns": null,
            "flex": null,
            "_model_name": "LayoutModel",
            "justify_items": null,
            "grid_row": null,
            "max_height": null,
            "align_content": null,
            "visibility": null,
            "align_self": null,
            "height": null,
            "min_height": null,
            "padding": null,
            "grid_auto_rows": null,
            "grid_gap": null,
            "max_width": null,
            "order": null,
            "_view_module_version": "1.2.0",
            "grid_template_areas": null,
            "object_position": null,
            "object_fit": null,
            "grid_auto_columns": null,
            "margin": null,
            "display": null,
            "left": null
          }
        },
        "6d26b28b4e814d00beff4a4e5bb4141a": {
          "model_module": "@jupyter-widgets/controls",
          "model_name": "FloatProgressModel",
          "state": {
            "_view_name": "ProgressView",
            "style": "IPY_MODEL_33435f95ca9c433798ed448e54a31f4c",
            "_dom_classes": [],
            "description": "",
            "_model_name": "FloatProgressModel",
            "bar_style": "info",
            "max": 1,
            "_view_module": "@jupyter-widgets/controls",
            "_model_module_version": "1.5.0",
            "value": 1,
            "_view_count": null,
            "_view_module_version": "1.5.0",
            "orientation": "horizontal",
            "min": 0,
            "description_tooltip": null,
            "_model_module": "@jupyter-widgets/controls",
            "layout": "IPY_MODEL_fc4f568e3a90449798df3c5f5c5da5b3"
          }
        },
        "726f826db04f4874a20f2f09c9e05c8f": {
          "model_module": "@jupyter-widgets/controls",
          "model_name": "HTMLModel",
          "state": {
            "_view_name": "HTMLView",
            "style": "IPY_MODEL_ad0c5ce1428e4baabf17a16225ee154d",
            "_dom_classes": [],
            "description": "",
            "_model_name": "HTMLModel",
            "placeholder": "​",
            "_view_module": "@jupyter-widgets/controls",
            "_model_module_version": "1.5.0",
            "value": " 85981/? [00:41&lt;00:00, 2066.61 examples/s]",
            "_view_count": null,
            "_view_module_version": "1.5.0",
            "description_tooltip": null,
            "_model_module": "@jupyter-widgets/controls",
            "layout": "IPY_MODEL_edaac5dc1730410996b74c6242adbe23"
          }
        },
        "33435f95ca9c433798ed448e54a31f4c": {
          "model_module": "@jupyter-widgets/controls",
          "model_name": "ProgressStyleModel",
          "state": {
            "_view_name": "StyleView",
            "_model_name": "ProgressStyleModel",
            "description_width": "initial",
            "_view_module": "@jupyter-widgets/base",
            "_model_module_version": "1.5.0",
            "_view_count": null,
            "_view_module_version": "1.2.0",
            "bar_color": null,
            "_model_module": "@jupyter-widgets/controls"
          }
        },
        "fc4f568e3a90449798df3c5f5c5da5b3": {
          "model_module": "@jupyter-widgets/base",
          "model_name": "LayoutModel",
          "state": {
            "_view_name": "LayoutView",
            "grid_template_rows": null,
            "right": null,
            "justify_content": null,
            "_view_module": "@jupyter-widgets/base",
            "overflow": null,
            "_model_module_version": "1.2.0",
            "_view_count": null,
            "flex_flow": null,
            "width": null,
            "min_width": null,
            "border": null,
            "align_items": null,
            "bottom": null,
            "_model_module": "@jupyter-widgets/base",
            "top": null,
            "grid_column": null,
            "overflow_y": null,
            "overflow_x": null,
            "grid_auto_flow": null,
            "grid_area": null,
            "grid_template_columns": null,
            "flex": null,
            "_model_name": "LayoutModel",
            "justify_items": null,
            "grid_row": null,
            "max_height": null,
            "align_content": null,
            "visibility": null,
            "align_self": null,
            "height": null,
            "min_height": null,
            "padding": null,
            "grid_auto_rows": null,
            "grid_gap": null,
            "max_width": null,
            "order": null,
            "_view_module_version": "1.2.0",
            "grid_template_areas": null,
            "object_position": null,
            "object_fit": null,
            "grid_auto_columns": null,
            "margin": null,
            "display": null,
            "left": null
          }
        },
        "ad0c5ce1428e4baabf17a16225ee154d": {
          "model_module": "@jupyter-widgets/controls",
          "model_name": "DescriptionStyleModel",
          "state": {
            "_view_name": "StyleView",
            "_model_name": "DescriptionStyleModel",
            "description_width": "",
            "_view_module": "@jupyter-widgets/base",
            "_model_module_version": "1.5.0",
            "_view_count": null,
            "_view_module_version": "1.2.0",
            "_model_module": "@jupyter-widgets/controls"
          }
        },
        "edaac5dc1730410996b74c6242adbe23": {
          "model_module": "@jupyter-widgets/base",
          "model_name": "LayoutModel",
          "state": {
            "_view_name": "LayoutView",
            "grid_template_rows": null,
            "right": null,
            "justify_content": null,
            "_view_module": "@jupyter-widgets/base",
            "overflow": null,
            "_model_module_version": "1.2.0",
            "_view_count": null,
            "flex_flow": null,
            "width": null,
            "min_width": null,
            "border": null,
            "align_items": null,
            "bottom": null,
            "_model_module": "@jupyter-widgets/base",
            "top": null,
            "grid_column": null,
            "overflow_y": null,
            "overflow_x": null,
            "grid_auto_flow": null,
            "grid_area": null,
            "grid_template_columns": null,
            "flex": null,
            "_model_name": "LayoutModel",
            "justify_items": null,
            "grid_row": null,
            "max_height": null,
            "align_content": null,
            "visibility": null,
            "align_self": null,
            "height": null,
            "min_height": null,
            "padding": null,
            "grid_auto_rows": null,
            "grid_gap": null,
            "max_width": null,
            "order": null,
            "_view_module_version": "1.2.0",
            "grid_template_areas": null,
            "object_position": null,
            "object_fit": null,
            "grid_auto_columns": null,
            "margin": null,
            "display": null,
            "left": null
          }
        }
      }
    }
  },
  "cells": [
    {
      "cell_type": "markdown",
      "metadata": {
        "id": "view-in-github",
        "colab_type": "text"
      },
      "source": [
        "<a href=\"https://colab.research.google.com/github/kappakpr/DeepLearning/blob/master/senti2_GBM_H2O.ipynb\" target=\"_parent\"><img src=\"https://colab.research.google.com/assets/colab-badge.svg\" alt=\"Open In Colab\"/></a>"
      ]
    },
    {
      "cell_type": "code",
      "metadata": {
        "id": "8qnNWWAGRDq0",
        "colab_type": "code",
        "colab": {
          "base_uri": "https://localhost:8080/",
          "height": 235
        },
        "outputId": "7293f749-e9e9-4179-e984-cf898e5023f8"
      },
      "source": [
        "!apt-get install default-jre\n",
        "!java -version"
      ],
      "execution_count": 1,
      "outputs": [
        {
          "output_type": "stream",
          "text": [
            "Reading package lists... Done\n",
            "Building dependency tree       \n",
            "Reading state information... Done\n",
            "default-jre is already the newest version (2:1.11-68ubuntu1~18.04.1).\n",
            "default-jre set to manually installed.\n",
            "The following package was automatically installed and is no longer required:\n",
            "  libnvidia-common-440\n",
            "Use 'apt autoremove' to remove it.\n",
            "0 upgraded, 0 newly installed, 0 to remove and 35 not upgraded.\n",
            "openjdk version \"11.0.7\" 2020-04-14\n",
            "OpenJDK Runtime Environment (build 11.0.7+10-post-Ubuntu-2ubuntu218.04)\n",
            "OpenJDK 64-Bit Server VM (build 11.0.7+10-post-Ubuntu-2ubuntu218.04, mixed mode, sharing)\n"
          ],
          "name": "stdout"
        }
      ]
    },
    {
      "cell_type": "code",
      "metadata": {
        "id": "klfN28y0RgFo",
        "colab_type": "code",
        "colab": {
          "base_uri": "https://localhost:8080/",
          "height": 362
        },
        "outputId": "3d1da86f-6734-4353-ecde-aad0a635c155"
      },
      "source": [
        "!pip install h2o==3.30.0.1\n",
        "#can also install without specifying the version, pip will install the latest version available"
      ],
      "execution_count": 2,
      "outputs": [
        {
          "output_type": "stream",
          "text": [
            "Collecting h2o==3.30.0.1\n",
            "\u001b[?25l  Downloading https://files.pythonhosted.org/packages/96/b2/b6f5e8c7fd1efe0f6d2640b34164b10b0e28231b89cc06542a6b3a3903a0/h2o-3.30.0.1.tar.gz (129.5MB)\n",
            "\u001b[K     |████████████████████████████████| 129.5MB 84kB/s \n",
            "\u001b[?25hRequirement already satisfied: requests in /usr/local/lib/python3.6/dist-packages (from h2o==3.30.0.1) (2.23.0)\n",
            "Requirement already satisfied: tabulate in /usr/local/lib/python3.6/dist-packages (from h2o==3.30.0.1) (0.8.7)\n",
            "Requirement already satisfied: future in /usr/local/lib/python3.6/dist-packages (from h2o==3.30.0.1) (0.16.0)\n",
            "Collecting colorama>=0.3.8\n",
            "  Downloading https://files.pythonhosted.org/packages/c9/dc/45cdef1b4d119eb96316b3117e6d5708a08029992b2fee2c143c7a0a5cc5/colorama-0.4.3-py2.py3-none-any.whl\n",
            "Requirement already satisfied: idna<3,>=2.5 in /usr/local/lib/python3.6/dist-packages (from requests->h2o==3.30.0.1) (2.10)\n",
            "Requirement already satisfied: urllib3!=1.25.0,!=1.25.1,<1.26,>=1.21.1 in /usr/local/lib/python3.6/dist-packages (from requests->h2o==3.30.0.1) (1.24.3)\n",
            "Requirement already satisfied: certifi>=2017.4.17 in /usr/local/lib/python3.6/dist-packages (from requests->h2o==3.30.0.1) (2020.6.20)\n",
            "Requirement already satisfied: chardet<4,>=3.0.2 in /usr/local/lib/python3.6/dist-packages (from requests->h2o==3.30.0.1) (3.0.4)\n",
            "Building wheels for collected packages: h2o\n",
            "  Building wheel for h2o (setup.py) ... \u001b[?25l\u001b[?25hdone\n",
            "  Created wheel for h2o: filename=h2o-3.30.0.1-py2.py3-none-any.whl size=129557718 sha256=e7fa9f12bcfe0604f54b8ef100009e054e3bd2f614801a8fede397a12b504303\n",
            "  Stored in directory: /root/.cache/pip/wheels/db/42/63/d118d7218432054da842f5d10bd4f99e978bde0931164e6c7a\n",
            "Successfully built h2o\n",
            "Installing collected packages: colorama, h2o\n",
            "Successfully installed colorama-0.4.3 h2o-3.30.0.1\n"
          ],
          "name": "stdout"
        }
      ]
    },
    {
      "cell_type": "code",
      "metadata": {
        "id": "qCrE21uLRoyS",
        "colab_type": "code",
        "colab": {}
      },
      "source": [
        "import tensorflow_datasets as tfds\n",
        "import h2o\n",
        "import numpy as np"
      ],
      "execution_count": 3,
      "outputs": []
    },
    {
      "cell_type": "code",
      "metadata": {
        "id": "BjcgXsxyR3cW",
        "colab_type": "code",
        "colab": {
          "base_uri": "https://localhost:8080/",
          "height": 563
        },
        "outputId": "8d1c3253-a68d-4588-b993-5aa0528dc0de"
      },
      "source": [
        "h2o.init()\n",
        "#started the h2o cluster.\n",
        "#gpu cluster is nto required"
      ],
      "execution_count": 4,
      "outputs": [
        {
          "output_type": "stream",
          "text": [
            "Checking whether there is an H2O instance running at http://localhost:54321 ..... not found.\n",
            "Attempting to start a local H2O server...\n",
            "  Java Version: openjdk version \"11.0.7\" 2020-04-14; OpenJDK Runtime Environment (build 11.0.7+10-post-Ubuntu-2ubuntu218.04); OpenJDK 64-Bit Server VM (build 11.0.7+10-post-Ubuntu-2ubuntu218.04, mixed mode, sharing)\n",
            "  Starting server from /usr/local/lib/python3.6/dist-packages/h2o/backend/bin/h2o.jar\n",
            "  Ice root: /tmp/tmp89gzhqz8\n",
            "  JVM stdout: /tmp/tmp89gzhqz8/h2o_unknownUser_started_from_python.out\n",
            "  JVM stderr: /tmp/tmp89gzhqz8/h2o_unknownUser_started_from_python.err\n",
            "  Server is running at http://127.0.0.1:54321\n",
            "Connecting to H2O server at http://127.0.0.1:54321 ... successful.\n",
            "Warning: Your H2O cluster version is too old (3 months and 19 days)! Please download and install the latest version from http://h2o.ai/download/\n"
          ],
          "name": "stdout"
        },
        {
          "output_type": "display_data",
          "data": {
            "text/html": [
              "<div style=\"overflow:auto\"><table style=\"width:50%\"><tr><td>H2O_cluster_uptime:</td>\n",
              "<td>02 secs</td></tr>\n",
              "<tr><td>H2O_cluster_timezone:</td>\n",
              "<td>Etc/UTC</td></tr>\n",
              "<tr><td>H2O_data_parsing_timezone:</td>\n",
              "<td>UTC</td></tr>\n",
              "<tr><td>H2O_cluster_version:</td>\n",
              "<td>3.30.0.1</td></tr>\n",
              "<tr><td>H2O_cluster_version_age:</td>\n",
              "<td>3 months and 19 days !!!</td></tr>\n",
              "<tr><td>H2O_cluster_name:</td>\n",
              "<td>H2O_from_python_unknownUser_3uh28s</td></tr>\n",
              "<tr><td>H2O_cluster_total_nodes:</td>\n",
              "<td>1</td></tr>\n",
              "<tr><td>H2O_cluster_free_memory:</td>\n",
              "<td>3.180 Gb</td></tr>\n",
              "<tr><td>H2O_cluster_total_cores:</td>\n",
              "<td>2</td></tr>\n",
              "<tr><td>H2O_cluster_allowed_cores:</td>\n",
              "<td>2</td></tr>\n",
              "<tr><td>H2O_cluster_status:</td>\n",
              "<td>accepting new members, healthy</td></tr>\n",
              "<tr><td>H2O_connection_url:</td>\n",
              "<td>http://127.0.0.1:54321</td></tr>\n",
              "<tr><td>H2O_connection_proxy:</td>\n",
              "<td>{\"http\": null, \"https\": null}</td></tr>\n",
              "<tr><td>H2O_internal_security:</td>\n",
              "<td>False</td></tr>\n",
              "<tr><td>H2O_API_Extensions:</td>\n",
              "<td>Amazon S3, XGBoost, Algos, AutoML, Core V3, TargetEncoder, Core V4</td></tr>\n",
              "<tr><td>Python_version:</td>\n",
              "<td>3.6.9 final</td></tr></table></div>"
            ],
            "text/plain": [
              "--------------------------  ------------------------------------------------------------------\n",
              "H2O_cluster_uptime:         02 secs\n",
              "H2O_cluster_timezone:       Etc/UTC\n",
              "H2O_data_parsing_timezone:  UTC\n",
              "H2O_cluster_version:        3.30.0.1\n",
              "H2O_cluster_version_age:    3 months and 19 days !!!\n",
              "H2O_cluster_name:           H2O_from_python_unknownUser_3uh28s\n",
              "H2O_cluster_total_nodes:    1\n",
              "H2O_cluster_free_memory:    3.180 Gb\n",
              "H2O_cluster_total_cores:    2\n",
              "H2O_cluster_allowed_cores:  2\n",
              "H2O_cluster_status:         accepting new members, healthy\n",
              "H2O_connection_url:         http://127.0.0.1:54321\n",
              "H2O_connection_proxy:       {\"http\": null, \"https\": null}\n",
              "H2O_internal_security:      False\n",
              "H2O_API_Extensions:         Amazon S3, XGBoost, Algos, AutoML, Core V3, TargetEncoder, Core V4\n",
              "Python_version:             3.6.9 final\n",
              "--------------------------  ------------------------------------------------------------------"
            ]
          },
          "metadata": {
            "tags": []
          }
        }
      ]
    },
    {
      "cell_type": "markdown",
      "metadata": {
        "id": "g9aFxlchSDCB",
        "colab_type": "text"
      },
      "source": [
        "h2o is more efficient than the scikitlearn \n",
        "\n",
        "https://www.quora.com/Why-would-one-use-H2O-ai-over-scikit-learn-machine-learning-tool\n",
        "https://www.quora.com/Why-would-one-use-H2O-ai-over-scikit-learn-machine-learning-tool"
      ]
    },
    {
      "cell_type": "code",
      "metadata": {
        "id": "B7AGtprKUTHy",
        "colab_type": "code",
        "colab": {
          "base_uri": "https://localhost:8080/",
          "height": 451,
          "referenced_widgets": [
            "0c63166c5f844ee1a0ae7b95571288c2",
            "58093d4a6f0c4b2387a887afe9377bed",
            "d4fd794ed2b94427982ed9a9c032d77a",
            "c0227dab1e8e48a2a8ef205367d07394",
            "2093bfa9cc3b47019b840f045920eaf5",
            "8ad36d6b587e42e39a2c8e9d1a6145e3",
            "33a87ce5c0da4c00a6daa35e564f28bd",
            "7f1cbf3ec3b842a1bd0fe45330471582",
            "0023958b9d4346c293e0d3aa28eb375b",
            "d48f6d70cb3b460a9f6d42f70fc1a3b0",
            "546548dbe770481a804d6243247f9137",
            "a2b4770b70514867b1b114346bce6d66",
            "82682908ffa845b7b34272d9ddb8b767",
            "42e7f8f3fefc4ba9a55cf357702fe4f1",
            "50ec550255f740dd8df1776422650df2",
            "f7ca2ad5832e4df1b013664efc15c82e",
            "1e5a7d38dcfe4a489c6e107ee146b4f7",
            "749b5e9af0e54789b0388774709ea59f",
            "de0d843791174d7ba7c6c038b0ec6cde",
            "8b78a9013aea4893afb6a6df77e5483a",
            "f293d2f5f6354b849d75a16c55f11818",
            "aaf3efe2f8cd46e9a9603f0a6d1ab6ee",
            "5bbe6f166fe240e4814c403ead41258e",
            "acfb47ed9f9543d4b1837318deb669a9",
            "f0dd89adb23f485081a717bd9a2f531c",
            "604bbde4c6f64730a13fbc3eddb1e4d9",
            "1f2480e312b44364b3c21b1fc19ebfdd",
            "e5a7589476a34e1ea257d08d19a35f3e",
            "351dd91504b64570bf0ed5b4876dad9b",
            "146f70214dcd4106b45a24541cdc18a5",
            "1df31b62b205471ab226b7c1c6e16479",
            "1f6f488e9cb948758205fff076c0c26e",
            "0fa86a6937854b50987e0113957e9441",
            "a98f71157b514fb5a3f1174b74d695a9",
            "7e6b4e1c88b4457582564ae194bc0afb",
            "1e2254731a6e4c38b42e4a5badf3dd8b",
            "e0c0384f13984948b84f9737fd0723a6",
            "eb01c36ce0da4e359c3657f7e0f48c95",
            "f6f3d947f9af4bdf89f2a3ad3666e2ff",
            "39c04e4fea804fcb8c3ebcd6d1b060f2",
            "f1afff8f4e3b4113b8859bc0318b040b",
            "de51f6d50e0d41d7b3b06aeaf58013fb",
            "fe866f1407134a1d93e53e283355e682",
            "6862b75f55b24fa4826537704ef73d50",
            "8bdb503a74e94931868dceeb444db7bb",
            "a4ede3ed025043f49f933dcfe5cfa84e",
            "d26c4fd61be448499ef9516baf7e22cd",
            "6a069e466d3f46d184c959dbb2cd8cd2",
            "ff896713ee604f43ae412c3026a84d33",
            "1530f84ba46242a8b7722a2418b4d197",
            "6d26b28b4e814d00beff4a4e5bb4141a",
            "726f826db04f4874a20f2f09c9e05c8f",
            "33435f95ca9c433798ed448e54a31f4c",
            "fc4f568e3a90449798df3c5f5c5da5b3",
            "ad0c5ce1428e4baabf17a16225ee154d",
            "edaac5dc1730410996b74c6242adbe23"
          ]
        },
        "outputId": "74df9d8c-46ab-4330-da7a-0311e8c37c3c"
      },
      "source": [
        "from google.colab import drive\n",
        "drive.mount('/content/gdrive')\n",
        "dataset, info = tfds.load('amazon_us_reviews/Personal_Care_Appliances_v1_00',with_info=True,batch_size=-1,data_dir='/content/drive/My Drive/colabfiles')\n",
        "train_dataset=dataset['train']"
      ],
      "execution_count": 5,
      "outputs": [
        {
          "output_type": "stream",
          "text": [
            "Mounted at /content/gdrive\n",
            "Downloading and preparing dataset amazon_us_reviews/Personal_Care_Appliances_v1_00/0.1.0 (download: 16.82 MiB, generated: Unknown size, total: 16.82 MiB) to /content/drive/My Drive/colabfiles/amazon_us_reviews/Personal_Care_Appliances_v1_00/0.1.0...\n"
          ],
          "name": "stdout"
        },
        {
          "output_type": "display_data",
          "data": {
            "application/vnd.jupyter.widget-view+json": {
              "model_id": "0c63166c5f844ee1a0ae7b95571288c2",
              "version_minor": 0,
              "version_major": 2
            },
            "text/plain": [
              "HBox(children=(FloatProgress(value=1.0, bar_style='info', description='Dl Completed...', max=1.0, style=Progre…"
            ]
          },
          "metadata": {
            "tags": []
          }
        },
        {
          "output_type": "display_data",
          "data": {
            "application/vnd.jupyter.widget-view+json": {
              "model_id": "0023958b9d4346c293e0d3aa28eb375b",
              "version_minor": 0,
              "version_major": 2
            },
            "text/plain": [
              "HBox(children=(FloatProgress(value=1.0, bar_style='info', description='Dl Size...', max=1.0, style=ProgressSty…"
            ]
          },
          "metadata": {
            "tags": []
          }
        },
        {
          "output_type": "display_data",
          "data": {
            "application/vnd.jupyter.widget-view+json": {
              "model_id": "1e5a7d38dcfe4a489c6e107ee146b4f7",
              "version_minor": 0,
              "version_major": 2
            },
            "text/plain": [
              "HBox(children=(FloatProgress(value=1.0, bar_style='info', description='Extraction completed...', max=1.0, styl…"
            ]
          },
          "metadata": {
            "tags": []
          }
        },
        {
          "output_type": "stream",
          "text": [
            "/usr/local/lib/python3.6/dist-packages/urllib3/connectionpool.py:847: InsecureRequestWarning: Unverified HTTPS request is being made. Adding certificate verification is strongly advised. See: https://urllib3.readthedocs.io/en/latest/advanced-usage.html#ssl-warnings\n",
            "  InsecureRequestWarning)\n"
          ],
          "name": "stderr"
        },
        {
          "output_type": "stream",
          "text": [
            "\n",
            "\n",
            "\n",
            "\n",
            "\n",
            "\n"
          ],
          "name": "stdout"
        },
        {
          "output_type": "display_data",
          "data": {
            "application/vnd.jupyter.widget-view+json": {
              "model_id": "f0dd89adb23f485081a717bd9a2f531c",
              "version_minor": 0,
              "version_major": 2
            },
            "text/plain": [
              "HBox(children=(FloatProgress(value=1.0, bar_style='info', max=1.0), HTML(value='')))"
            ]
          },
          "metadata": {
            "tags": []
          }
        },
        {
          "output_type": "stream",
          "text": [
            "\rShuffling and writing examples to /content/drive/My Drive/colabfiles/amazon_us_reviews/Personal_Care_Appliances_v1_00/0.1.0.incompleteC5O6LB/amazon_us_reviews-train.tfrecord\n"
          ],
          "name": "stdout"
        },
        {
          "output_type": "display_data",
          "data": {
            "application/vnd.jupyter.widget-view+json": {
              "model_id": "0fa86a6937854b50987e0113957e9441",
              "version_minor": 0,
              "version_major": 2
            },
            "text/plain": [
              "HBox(children=(FloatProgress(value=0.0, max=85981.0), HTML(value='')))"
            ]
          },
          "metadata": {
            "tags": []
          }
        },
        {
          "output_type": "stream",
          "text": [
            "\r"
          ],
          "name": "stdout"
        },
        {
          "output_type": "display_data",
          "data": {
            "application/vnd.jupyter.widget-view+json": {
              "model_id": "f1afff8f4e3b4113b8859bc0318b040b",
              "version_minor": 0,
              "version_major": 2
            },
            "text/plain": [
              "HBox(children=(FloatProgress(value=0.0, description='Computing statistics...', max=1.0, style=ProgressStyle(de…"
            ]
          },
          "metadata": {
            "tags": []
          }
        },
        {
          "output_type": "display_data",
          "data": {
            "application/vnd.jupyter.widget-view+json": {
              "model_id": "ff896713ee604f43ae412c3026a84d33",
              "version_minor": 0,
              "version_major": 2
            },
            "text/plain": [
              "HBox(children=(FloatProgress(value=1.0, bar_style='info', max=1.0), HTML(value='')))"
            ]
          },
          "metadata": {
            "tags": []
          }
        },
        {
          "output_type": "stream",
          "text": [
            "\r"
          ],
          "name": "stdout"
        },
        {
          "output_type": "stream",
          "text": [
            "ERROR:absl:Statistics generation doesn't work for nested structures yet\n"
          ],
          "name": "stderr"
        },
        {
          "output_type": "stream",
          "text": [
            "\n",
            "Dataset amazon_us_reviews downloaded and prepared to /content/drive/My Drive/colabfiles/amazon_us_reviews/Personal_Care_Appliances_v1_00/0.1.0. Subsequent calls will reuse this data.\n"
          ],
          "name": "stdout"
        }
      ]
    },
    {
      "cell_type": "code",
      "metadata": {
        "id": "6CCtpedGVD4o",
        "colab_type": "code",
        "colab": {
          "base_uri": "https://localhost:8080/",
          "height": 1000
        },
        "outputId": "b3d9cf9a-e135-413c-d6a8-e40c2d55af93"
      },
      "source": [
        "info"
      ],
      "execution_count": 6,
      "outputs": [
        {
          "output_type": "execute_result",
          "data": {
            "text/plain": [
              "tfds.core.DatasetInfo(\n",
              "    name='amazon_us_reviews',\n",
              "    version=0.1.0,\n",
              "    description='Amazon Customer Reviews (a.k.a. Product Reviews) is one of Amazons iconic products. In a period of over two decades since the first review in 1995, millions of Amazon customers have contributed over a hundred million reviews to express opinions and describe their experiences regarding products on the Amazon.com website. This makes Amazon Customer Reviews a rich source of information for academic researchers in the fields of Natural Language Processing (NLP), Information Retrieval (IR), and Machine Learning (ML), amongst others. Accordingly, we are releasing this data to further research in multiple disciplines related to understanding customer product experiences. Specifically, this dataset was constructed to represent a sample of customer evaluations and opinions, variation in the perception of a product across geographical regions, and promotional intent or bias in reviews.\n",
              "\n",
              "Over 130+ million customer reviews are available to researchers as part of this release. The data is available in TSV files in the amazon-reviews-pds S3 bucket in AWS US East Region. Each line in the data files corresponds to an individual review (tab delimited, with no quote and escape characters).\n",
              "\n",
              "Each Dataset contains the following columns : \n",
              "  marketplace       - 2 letter country code of the marketplace where the review was written.\n",
              "  customer_id       - Random identifier that can be used to aggregate reviews written by a single author.\n",
              "  review_id         - The unique ID of the review.\n",
              "  product_id        - The unique Product ID the review pertains to. In the multilingual dataset the reviews\n",
              "                      for the same product in different countries can be grouped by the same product_id.\n",
              "  product_parent    - Random identifier that can be used to aggregate reviews for the same product.\n",
              "  product_title     - Title of the product.\n",
              "  product_category  - Broad product category that can be used to group reviews \n",
              "                      (also used to group the dataset into coherent parts).\n",
              "  star_rating       - The 1-5 star rating of the review.\n",
              "  helpful_votes     - Number of helpful votes.\n",
              "  total_votes       - Number of total votes the review received.\n",
              "  vine              - Review was written as part of the Vine program.\n",
              "  verified_purchase - The review is on a verified purchase.\n",
              "  review_headline   - The title of the review.\n",
              "  review_body       - The review text.\n",
              "  review_date       - The date the review was written.\n",
              "',\n",
              "    homepage='https://s3.amazonaws.com/amazon-reviews-pds/readme.html',\n",
              "    features=FeaturesDict({\n",
              "        'data': FeaturesDict({\n",
              "            'customer_id': tf.string,\n",
              "            'helpful_votes': tf.int32,\n",
              "            'marketplace': tf.string,\n",
              "            'product_category': tf.string,\n",
              "            'product_id': tf.string,\n",
              "            'product_parent': tf.string,\n",
              "            'product_title': tf.string,\n",
              "            'review_body': tf.string,\n",
              "            'review_date': tf.string,\n",
              "            'review_headline': tf.string,\n",
              "            'review_id': tf.string,\n",
              "            'star_rating': tf.int32,\n",
              "            'total_votes': tf.int32,\n",
              "            'verified_purchase': ClassLabel(shape=(), dtype=tf.int64, num_classes=2),\n",
              "            'vine': ClassLabel(shape=(), dtype=tf.int64, num_classes=2),\n",
              "        }),\n",
              "    }),\n",
              "    total_num_examples=85981,\n",
              "    splits={\n",
              "        'train': 85981,\n",
              "    },\n",
              "    supervised_keys=None,\n",
              "    citation=\"\"\"\"\"\",\n",
              "    redistribution_info=,\n",
              ")"
            ]
          },
          "metadata": {
            "tags": []
          },
          "execution_count": 6
        }
      ]
    },
    {
      "cell_type": "code",
      "metadata": {
        "id": "h7GD2WT7VFH8",
        "colab_type": "code",
        "colab": {}
      },
      "source": [
        "dataset=tfds.as_numpy(train_dataset)"
      ],
      "execution_count": 7,
      "outputs": []
    },
    {
      "cell_type": "code",
      "metadata": {
        "id": "aBDCGsxCVK2H",
        "colab_type": "code",
        "colab": {
          "base_uri": "https://localhost:8080/",
          "height": 782
        },
        "outputId": "92861308-e3b6-4e34-9e7e-b37ffddcb87f"
      },
      "source": [
        "dataset"
      ],
      "execution_count": 8,
      "outputs": [
        {
          "output_type": "execute_result",
          "data": {
            "text/plain": [
              "{'data': {'customer_id': array([b'13986323', b'50574716', b'50593972', ..., b'40719682',\n",
              "         b'35596948', b'29430209'], dtype=object),\n",
              "  'helpful_votes': array([0, 3, 0, ..., 0, 0, 0], dtype=int32),\n",
              "  'marketplace': array([b'US', b'US', b'US', ..., b'US', b'US', b'US'], dtype=object),\n",
              "  'product_category': array([b'Personal_Care_Appliances', b'Personal_Care_Appliances',\n",
              "         b'Personal_Care_Appliances', ..., b'Personal_Care_Appliances',\n",
              "         b'Personal_Care_Appliances', b'Personal_Care_Appliances'],\n",
              "        dtype=object),\n",
              "  'product_id': array([b'B00847JQZ6', b'B00N5HD340', b'B0077L1X24', ..., b'B000UZ8X2W',\n",
              "         b'B000NURPPK', b'B001EY5GNW'], dtype=object),\n",
              "  'product_parent': array([b'997683625', b'955577225', b'120764066', ..., b'96066145',\n",
              "         b'58591097', b'986877728'], dtype=object),\n",
              "  'product_title': array([b'SE - Reading Glass - Spring Loaded Hinges, 4.0x - RTS62400',\n",
              "         b'Straight Razor',\n",
              "         b'Philips Sonicare Flexcare & Healthy White Plastic Travel Handle Case New Bulk Package',\n",
              "         ...,\n",
              "         b'Remington R-9200 Microflex Ultra TCT Shaver [Health and Beauty]',\n",
              "         b'SUNBEAM Cool Mist HUMIDIFIER with PermaFilter # 1120 \\xe2\\x80\\x93 1 Ea',\n",
              "         b'Andis Blade Set for T-Outliner Trimmer'], dtype=object),\n",
              "  'review_body': array([b\"These glasses are an excellent value.  The fit is good and they are very comfortable.  Because of my legal blindness, there aren't a lot of options to try to see better, but I believe these help with my other visual aids, and because they are reasonably priced I can have more than one pair available.\",\n",
              "         b\"Always wanted to try straight razor shaving (as a DE safety razor user), and this was a cheap way for me to determine I was not into it.<br /><br />Because the blades are disposable and always sharp, I could put a new one in and reasonably rely upon that fact that cuts were probably due to my technique and not the blade.<br /><br />It's very hard to do straight razor shaving on yourself because the ANGLE is difficult to control without switching hands. Being very right-handed, I really couldn't do that. I bet I could shave someone else's face with it though.<br /><br />An immediate upside? Using a DE safety razor (slant edged even) seems SUPER safe now! I'm increased my speed with the DE due to that confidence, and I'd been using it for years now.\",\n",
              "         b'I usually either throw my toothbrush in a plastic bag with spare head so this product is very convenient for keeping all the parts apart, dry and undamaged, and i now keep it in my travel bag all the time ready to go.',\n",
              "         ...,\n",
              "         b\"I have had a Remington before but needed a new one when the batteries died and the cutters were all but gone.  It was cheaper to buy a new one.  The new one has a nice charge level but the trimmer didn't work when I got it.\",\n",
              "         b\"I was surprised that it really didn't do much compared to the 1950s version that I'd inherited. Keeping a wet wash cloth next to my bed for when I start coughing in the middle of the night works better.\",\n",
              "         b'The blades were an excellent fit for my T-line trimmers.  Within five minutes I had my trimmers cleaned, the blades installed, and was putting them to use.  I saw the blades in several locations for almost twice the price I paid, so this worked out to be an awesome deal.'],\n",
              "        dtype=object),\n",
              "  'review_date': array([b'2015-01-04', b'2015-08-05', b'2012-11-17', ..., b'2008-02-08',\n",
              "         b'2007-09-07', b'2012-07-26'], dtype=object),\n",
              "  'review_headline': array([b'These glasses are an excellent value. The fit is good and they are ...',\n",
              "         b'A fantastic way to cheaply try straight razor shaving.',\n",
              "         b'Great for travel', ..., b'Trimmer Not Working',\n",
              "         b'Loud and ineffectual', b'Excellent product, awesomoe price'],\n",
              "        dtype=object),\n",
              "  'review_id': array([b'R3VEUFVA9QJY55', b'R2DTQV5SMJ0CK7', b'R3OJ06NK99WLNJ', ...,\n",
              "         b'R1ZQ0XZXOD9N18', b'R1FJ9OU429X00Y', b'RI28R1W94N1R6'],\n",
              "        dtype=object),\n",
              "  'star_rating': array([4, 5, 4, ..., 3, 2, 5], dtype=int32),\n",
              "  'total_votes': array([0, 3, 0, ..., 0, 0, 0], dtype=int32),\n",
              "  'verified_purchase': array([0, 0, 0, ..., 1, 0, 0]),\n",
              "  'vine': array([1, 1, 1, ..., 1, 1, 1])}}"
            ]
          },
          "metadata": {
            "tags": []
          },
          "execution_count": 8
        }
      ]
    },
    {
      "cell_type": "code",
      "metadata": {
        "id": "wg9SxLdOVMB6",
        "colab_type": "code",
        "colab": {}
      },
      "source": [
        "helpful_votes = dataset['data']['helpful_votes']\n",
        "review_headline = dataset['data']['review_headline']\n",
        "review_body = dataset['data']['review_body']\n",
        "rating = dataset['data']['star_rating']"
      ],
      "execution_count": 9,
      "outputs": []
    },
    {
      "cell_type": "code",
      "metadata": {
        "id": "TemMp7XY985A",
        "colab_type": "code",
        "colab": {
          "base_uri": "https://localhost:8080/",
          "height": 35
        },
        "outputId": "2cfddaa3-3773-4cf3-f6c7-0827fb2c3b92"
      },
      "source": [
        "h2o_df = h2o.H2OFrame(np.hstack((helpful_votes[:,None],review_headline[:,None],review_body[:,None],rating[:,None])),column_names=['votes','headline','reviews','rating'],column_types=['numeric','string','string','numeric'])"
      ],
      "execution_count": 10,
      "outputs": [
        {
          "output_type": "stream",
          "text": [
            "Parse progress: |█████████████████████████████████████████████████████████| 100%\n"
          ],
          "name": "stdout"
        }
      ]
    },
    {
      "cell_type": "code",
      "metadata": {
        "id": "37Eog674_zE-",
        "colab_type": "code",
        "colab": {
          "base_uri": "https://localhost:8080/",
          "height": 723
        },
        "outputId": "f7e36c36-d8d2-456a-a4c0-b67bc85518f6"
      },
      "source": [
        "h2o_df"
      ],
      "execution_count": 11,
      "outputs": [
        {
          "output_type": "display_data",
          "data": {
            "text/html": [
              "<table>\n",
              "<thead>\n",
              "<tr><th style=\"text-align: right;\">  votes</th><th>headline                                                                 </th><th>reviews                                                                                                                                                                                                                                                                                                                                                                                                                                                                                                                                                                                                                                                                                                                                                                                                                                                                                                                                                                                                                                                                                                                           </th><th style=\"text-align: right;\">  rating</th></tr>\n",
              "</thead>\n",
              "<tbody>\n",
              "<tr><td style=\"text-align: right;\">      0</td><td>b&#x27;These glasses are an excellent value. The fit is good and they are ...&#x27;</td><td>b&quot;These glasses are an excellent value.  The fit is good and they are very comfortable.  Because of my legal blindness, there aren&#x27;t a lot of options to try to see better, but I believe these help with my other visual aids, and because they are reasonably priced I can have more than one pair available.&quot;                                                                                                                                                                                                                                                                                                                                                                                                                                                                                                                                                                                                                                                                                                                                                                                                                  </td><td style=\"text-align: right;\">       4</td></tr>\n",
              "<tr><td style=\"text-align: right;\">      3</td><td>b&#x27;A fantastic way to cheaply try straight razor shaving.&#x27;                </td><td>b&quot;Always wanted to try straight razor shaving (as a DE safety razor user), and this was a cheap way for me to determine I was not into it.&lt;br /&gt;&lt;br /&gt;Because the blades are disposable and always sharp, I could put a new one in and reasonably rely upon that fact that cuts were probably due to my technique and not the blade.&lt;br /&gt;&lt;br /&gt;It&#x27;s very hard to do straight razor shaving on yourself because the ANGLE is difficult to control without switching hands. Being very right-handed, I really couldn&#x27;t do that. I bet I could shave someone else&#x27;s face with it though.&lt;br /&gt;&lt;br /&gt;An immediate upside? Using a DE safety razor (slant edged even) seems SUPER safe now! I&#x27;m increased my speed with the DE due to that confidence, and I&#x27;d been using it for years now.&quot;                                                                                                                                                                                                                                                                                                                                          </td><td style=\"text-align: right;\">       5</td></tr>\n",
              "<tr><td style=\"text-align: right;\">      0</td><td>b&#x27;Great for travel&#x27;                                                      </td><td>b&#x27;I usually either throw my toothbrush in a plastic bag with spare head so this product is very convenient for keeping all the parts apart, dry and undamaged, and i now keep it in my travel bag all the time ready to go.&#x27;                                                                                                                                                                                                                                                                                                                                                                                                                                                                                                                                                                                                                                                                                                                                                                                                                                                                                                      </td><td style=\"text-align: right;\">       4</td></tr>\n",
              "<tr><td style=\"text-align: right;\">      0</td><td>b&#x27;Five Stars&#x27;                                                            </td><td>b&#x27;Top quality.&#x27;                                                                                                                                                                                                                                                                                                                                                                                                                                                                                                                                                                                                                                                                                                                                                                                                                                                                                                                                                                                                                                                                                                                   </td><td style=\"text-align: right;\">       5</td></tr>\n",
              "<tr><td style=\"text-align: right;\">      1</td><td>b&#x27;*Product sent not as shown&#x27;                                            </td><td>b&#x27;Today I received  1 Fl. Oz, Natures Balance AlkaMAX alkaline booster liquid unflavored (formally TriMedica) a glass brown bottle with eye dropper.&lt;br /&gt;Supplement Facts; Serving Size: 10 Drops (Approx. 0.5 mL). Servings per Container: Approx. 60&lt;br /&gt;Amount Per Serving % Daily Value&lt;br /&gt;Magnesium (as Magnesium Chloride) 40 mg 10%&lt;br /&gt;Chloride (as Magnesium Chloride) 64 mg 2%&lt;br /&gt;Other Ingredients: Deionized water and trace mineral complex.&lt;br /&gt;Directions: Add 10 drops to 8 oz. of water or other beverage daily as needed or as directed by your health care practitioner. Store in a cool, dry place.&lt;br /&gt;&lt;br /&gt;I have not used product as of yet with changed ingredients of original/as shown in AlkaMax alkaline support white squeeze bottle.&lt;br /&gt;but had to rate to post...heck this new may be better for all I know.&#x27;                                                                                                                                                                                                                                                                          </td><td style=\"text-align: right;\">       3</td></tr>\n",
              "<tr><td style=\"text-align: right;\">      6</td><td>b&#x27;Seems to work well!&#x27;                                                   </td><td>b&#x27;I recently picked this unit up at Bed and Bath where it was $99.00. With a 20% coupon the price was $80 (so comparison shop!) It\\&#x27;s easy to use and seems to work well. I agree with other reviewers about the noise level (loud like a tea kettle boiling), but I use this unit in the living room area so sleeping is not an issue. Having the 2 separate water reservoirs to fill is much easier, weight-wise, as I previously had another humidifier which had one large water reservoir and it was very heavy when full. The unit comes apart quite easily for cleaning and since frequent cleaning is recommended (I usually do it 1x per week, not daily) this is a definite plus. Additionally, one only needs to use vinegar to clean the inside reservoir, which is a lot cheaper than having to buy some kind of \\\\\\\\&quot;special\\\\\\\\&quot; cleaning solution. My one complaint is that it doesn\\&#x27;t, but should, have an automatic shut off when both tanks are empty.I have to remember to turn the unit off when I leave the house. My previous humidifiers all had this auto turn off; seems like every humidifier should.&#x27;</td><td style=\"text-align: right;\">       4</td></tr>\n",
              "<tr><td style=\"text-align: right;\">      8</td><td>b&#x27;deep heat?????&#x27;                                                        </td><td>b&#x27;Not sure what previous reviewer was talking about. The product uses ULTRASOUND waves for pain relief NOT heat.  After repeated use, the pain in my knee and shoulder was feeling great. I think you should re-read the description and reconsider your opinion. Great product sold by a great company.&#x27;                                                                                                                                                                                                                                                                                                                                                                                                                                                                                                                                                                                                                                                                                                                                                                                                                         </td><td style=\"text-align: right;\">       5</td></tr>\n",
              "<tr><td style=\"text-align: right;\">      2</td><td>b&#x27;Thermometer for a toddler&#x27;                                             </td><td>b&quot;The shippers were great....willing to consider speedier shipping options, but in the end the standard shipping arrived quickly enough. The thermometer is fun and easy to use, but with an inquisitive toddler, it would be nice to have the plastic cap attached to the body so that it doesn&#x27;t disappear.  Would buy it again from these sellers.&quot;                                                                                                                                                                                                                                                                                                                                                                                                                                                                                                                                                                                                                                                                                                                                                                            </td><td style=\"text-align: right;\">       4</td></tr>\n",
              "<tr><td style=\"text-align: right;\">      2</td><td>b&#x27;Wow!&#x27;                                                                  </td><td>b&quot;Man, for all you who know what I&#x27;m talking about, this is the best thing I&#x27;ve ever had on my back.  I suffer from back pain constantly and find myself waking up in the middle of the night pushing parts of my back and neck on the edges of walls on the corners of doors and sometimes lying down on tennis or racket balls to get pressure on those dang trigger points.  I opted for the body sticks package not knowing what they would do and it was a good thing.  They are like have racket balls on the ends of sticks to beat your muscle spasms and to lie down on them rolling around on your back. It is worth the money.  They use a device similar to this in physical therapy so if you get your doctor to write you a script for it, insurance may very well pay for it like mine did.  Even so, paid or not, buy this sucker.  Buy two, I thought, just in case it breaks and they for some reason stop manufacturing this thing.  Good stuff.&quot;                                                                                                                                                              </td><td style=\"text-align: right;\">       5</td></tr>\n",
              "<tr><td style=\"text-align: right;\">      1</td><td>b&#x27;Great cane for people with hand and wrist issues&#x27;                      </td><td>b&quot;I purchased this cane to assist me when I have to walk long distances.  I have rheumatoid arthritis that has particularly affected my low back and hips, and it sometimes makes walking difficult.  The problem with using a cane when you have RA is that RA doesn&#x27;t just affect your lower extremities.  My hands, wrists, and shoulders are also affected.  When I tried a normal cane, it was agonizingly painful for my hand and wrist in particular.  That made it not worth using, even though it did help my hip and back.  A friend with similar issues recommended this one, and the difference was amazing.  It is still a bit hard on my hand after awhile, but not to the point that would make it not worth using.  There really is no perfect solution for this circumstance short of a wheelchair, and I&#x27;m nowhere near ready for that yet!  The forearm rest makes it bearable to use this cane, and it does really help me to walk longer distances when I need to!  It is a great product, and I&#x27;m happy that I purchased it!&quot;                                                                               </td><td style=\"text-align: right;\">       4</td></tr>\n",
              "</tbody>\n",
              "</table>"
            ]
          },
          "metadata": {
            "tags": []
          }
        },
        {
          "output_type": "execute_result",
          "data": {
            "text/plain": [
              ""
            ]
          },
          "metadata": {
            "tags": []
          },
          "execution_count": 11
        }
      ]
    },
    {
      "cell_type": "code",
      "metadata": {
        "id": "HS8W5JL5AbuJ",
        "colab_type": "code",
        "colab": {}
      },
      "source": [
        "h2o_df[\"target\"] = (h2o_df[\"rating\"] >= 4).ifelse(\"1\",\"0\")"
      ],
      "execution_count": 12,
      "outputs": []
    },
    {
      "cell_type": "code",
      "metadata": {
        "id": "cIF2Y9nS_1sz",
        "colab_type": "code",
        "colab": {
          "base_uri": "https://localhost:8080/",
          "height": 35
        },
        "outputId": "5f016c14-fe52-46b5-80f7-a6db296a386a"
      },
      "source": [
        "h2o_df.shape"
      ],
      "execution_count": 13,
      "outputs": [
        {
          "output_type": "execute_result",
          "data": {
            "text/plain": [
              "(85981, 5)"
            ]
          },
          "metadata": {
            "tags": []
          },
          "execution_count": 13
        }
      ]
    },
    {
      "cell_type": "code",
      "metadata": {
        "id": "G0gcBnV8AGt0",
        "colab_type": "code",
        "colab": {
          "base_uri": "https://localhost:8080/",
          "height": 83
        },
        "outputId": "0a10ed3b-9248-46c7-99cb-653c168a38de"
      },
      "source": [
        "h2o_df[\"target\"].table()\n",
        "# from output we can see it is an imbalanced dataset positive vs negative wise"
      ],
      "execution_count": 14,
      "outputs": [
        {
          "output_type": "display_data",
          "data": {
            "text/html": [
              "<table>\n",
              "<thead>\n",
              "<tr><th style=\"text-align: right;\">  target</th><th style=\"text-align: right;\">  Count</th></tr>\n",
              "</thead>\n",
              "<tbody>\n",
              "<tr><td style=\"text-align: right;\">       0</td><td style=\"text-align: right;\">  23427</td></tr>\n",
              "<tr><td style=\"text-align: right;\">       1</td><td style=\"text-align: right;\">  62554</td></tr>\n",
              "</tbody>\n",
              "</table>"
            ]
          },
          "metadata": {
            "tags": []
          }
        },
        {
          "output_type": "execute_result",
          "data": {
            "text/plain": [
              ""
            ]
          },
          "metadata": {
            "tags": []
          },
          "execution_count": 14
        }
      ]
    },
    {
      "cell_type": "code",
      "metadata": {
        "id": "gvkgtsntANH_",
        "colab_type": "code",
        "colab": {
          "base_uri": "https://localhost:8080/",
          "height": 1000
        },
        "outputId": "f0baa506-0a83-4a1b-c0fe-72a594017e55"
      },
      "source": [
        "h2o_df.describe()"
      ],
      "execution_count": 15,
      "outputs": [
        {
          "output_type": "stream",
          "text": [
            "Rows:85981\n",
            "Cols:5\n",
            "\n",
            "\n"
          ],
          "name": "stdout"
        },
        {
          "output_type": "display_data",
          "data": {
            "text/html": [
              "<table>\n",
              "<thead>\n",
              "<tr><th>       </th><th>votes             </th><th>headline                                                                 </th><th>reviews                                                                                                                                                                                                                                                                                                                                                                                                                                                                                                                                                                                                                                                                                                                                                                                                                                                                                                                                                                                                                                                                                                                           </th><th>rating           </th><th>target  </th></tr>\n",
              "</thead>\n",
              "<tbody>\n",
              "<tr><td>type   </td><td>int               </td><td>string                                                                   </td><td>string                                                                                                                                                                                                                                                                                                                                                                                                                                                                                                                                                                                                                                                                                                                                                                                                                                                                                                                                                                                                                                                                                                                            </td><td>int              </td><td>enum    </td></tr>\n",
              "<tr><td>mins   </td><td>0.0               </td><td>NaN                                                                      </td><td>NaN                                                                                                                                                                                                                                                                                                                                                                                                                                                                                                                                                                                                                                                                                                                                                                                                                                                                                                                                                                                                                                                                                                                               </td><td>1.0              </td><td>        </td></tr>\n",
              "<tr><td>mean   </td><td>3.3494841883672   </td><td>NaN                                                                      </td><td>NaN                                                                                                                                                                                                                                                                                                                                                                                                                                                                                                                                                                                                                                                                                                                                                                                                                                                                                                                                                                                                                                                                                                                               </td><td>3.977401984159291</td><td>        </td></tr>\n",
              "<tr><td>maxs   </td><td>2785.0            </td><td>NaN                                                                      </td><td>NaN                                                                                                                                                                                                                                                                                                                                                                                                                                                                                                                                                                                                                                                                                                                                                                                                                                                                                                                                                                                                                                                                                                                               </td><td>5.0              </td><td>        </td></tr>\n",
              "<tr><td>sigma  </td><td>19.483167220712946</td><td>NaN                                                                      </td><td>NaN                                                                                                                                                                                                                                                                                                                                                                                                                                                                                                                                                                                                                                                                                                                                                                                                                                                                                                                                                                                                                                                                                                                               </td><td>1.433130291971473</td><td>        </td></tr>\n",
              "<tr><td>zeros  </td><td>44555             </td><td>0                                                                        </td><td>0                                                                                                                                                                                                                                                                                                                                                                                                                                                                                                                                                                                                                                                                                                                                                                                                                                                                                                                                                                                                                                                                                                                                 </td><td>0                </td><td>        </td></tr>\n",
              "<tr><td>missing</td><td>0                 </td><td>0                                                                        </td><td>0                                                                                                                                                                                                                                                                                                                                                                                                                                                                                                                                                                                                                                                                                                                                                                                                                                                                                                                                                                                                                                                                                                                                 </td><td>0                </td><td>0       </td></tr>\n",
              "<tr><td>0      </td><td>0.0               </td><td>b&#x27;These glasses are an excellent value. The fit is good and they are ...&#x27;</td><td>b&quot;These glasses are an excellent value.  The fit is good and they are very comfortable.  Because of my legal blindness, there aren&#x27;t a lot of options to try to see better, but I believe these help with my other visual aids, and because they are reasonably priced I can have more than one pair available.&quot;                                                                                                                                                                                                                                                                                                                                                                                                                                                                                                                                                                                                                                                                                                                                                                                                                  </td><td>4.0              </td><td>1       </td></tr>\n",
              "<tr><td>1      </td><td>3.0               </td><td>b&#x27;A fantastic way to cheaply try straight razor shaving.&#x27;                </td><td>b&quot;Always wanted to try straight razor shaving (as a DE safety razor user), and this was a cheap way for me to determine I was not into it.&lt;br /&gt;&lt;br /&gt;Because the blades are disposable and always sharp, I could put a new one in and reasonably rely upon that fact that cuts were probably due to my technique and not the blade.&lt;br /&gt;&lt;br /&gt;It&#x27;s very hard to do straight razor shaving on yourself because the ANGLE is difficult to control without switching hands. Being very right-handed, I really couldn&#x27;t do that. I bet I could shave someone else&#x27;s face with it though.&lt;br /&gt;&lt;br /&gt;An immediate upside? Using a DE safety razor (slant edged even) seems SUPER safe now! I&#x27;m increased my speed with the DE due to that confidence, and I&#x27;d been using it for years now.&quot;                                                                                                                                                                                                                                                                                                                                          </td><td>5.0              </td><td>1       </td></tr>\n",
              "<tr><td>2      </td><td>0.0               </td><td>b&#x27;Great for travel&#x27;                                                      </td><td>b&#x27;I usually either throw my toothbrush in a plastic bag with spare head so this product is very convenient for keeping all the parts apart, dry and undamaged, and i now keep it in my travel bag all the time ready to go.&#x27;                                                                                                                                                                                                                                                                                                                                                                                                                                                                                                                                                                                                                                                                                                                                                                                                                                                                                                      </td><td>4.0              </td><td>1       </td></tr>\n",
              "<tr><td>3      </td><td>0.0               </td><td>b&#x27;Five Stars&#x27;                                                            </td><td>b&#x27;Top quality.&#x27;                                                                                                                                                                                                                                                                                                                                                                                                                                                                                                                                                                                                                                                                                                                                                                                                                                                                                                                                                                                                                                                                                                                   </td><td>5.0              </td><td>1       </td></tr>\n",
              "<tr><td>4      </td><td>1.0               </td><td>b&#x27;*Product sent not as shown&#x27;                                            </td><td>b&#x27;Today I received  1 Fl. Oz, Natures Balance AlkaMAX alkaline booster liquid unflavored (formally TriMedica) a glass brown bottle with eye dropper.&lt;br /&gt;Supplement Facts; Serving Size: 10 Drops (Approx. 0.5 mL). Servings per Container: Approx. 60&lt;br /&gt;Amount Per Serving % Daily Value&lt;br /&gt;Magnesium (as Magnesium Chloride) 40 mg 10%&lt;br /&gt;Chloride (as Magnesium Chloride) 64 mg 2%&lt;br /&gt;Other Ingredients: Deionized water and trace mineral complex.&lt;br /&gt;Directions: Add 10 drops to 8 oz. of water or other beverage daily as needed or as directed by your health care practitioner. Store in a cool, dry place.&lt;br /&gt;&lt;br /&gt;I have not used product as of yet with changed ingredients of original/as shown in AlkaMax alkaline support white squeeze bottle.&lt;br /&gt;but had to rate to post...heck this new may be better for all I know.&#x27;                                                                                                                                                                                                                                                                          </td><td>3.0              </td><td>0       </td></tr>\n",
              "<tr><td>5      </td><td>6.0               </td><td>b&#x27;Seems to work well!&#x27;                                                   </td><td>b&#x27;I recently picked this unit up at Bed and Bath where it was $99.00. With a 20% coupon the price was $80 (so comparison shop!) It\\&#x27;s easy to use and seems to work well. I agree with other reviewers about the noise level (loud like a tea kettle boiling), but I use this unit in the living room area so sleeping is not an issue. Having the 2 separate water reservoirs to fill is much easier, weight-wise, as I previously had another humidifier which had one large water reservoir and it was very heavy when full. The unit comes apart quite easily for cleaning and since frequent cleaning is recommended (I usually do it 1x per week, not daily) this is a definite plus. Additionally, one only needs to use vinegar to clean the inside reservoir, which is a lot cheaper than having to buy some kind of \\\\\\\\&quot;special\\\\\\\\&quot; cleaning solution. My one complaint is that it doesn\\&#x27;t, but should, have an automatic shut off when both tanks are empty.I have to remember to turn the unit off when I leave the house. My previous humidifiers all had this auto turn off; seems like every humidifier should.&#x27;</td><td>4.0              </td><td>1       </td></tr>\n",
              "<tr><td>6      </td><td>8.0               </td><td>b&#x27;deep heat?????&#x27;                                                        </td><td>b&#x27;Not sure what previous reviewer was talking about. The product uses ULTRASOUND waves for pain relief NOT heat.  After repeated use, the pain in my knee and shoulder was feeling great. I think you should re-read the description and reconsider your opinion. Great product sold by a great company.&#x27;                                                                                                                                                                                                                                                                                                                                                                                                                                                                                                                                                                                                                                                                                                                                                                                                                         </td><td>5.0              </td><td>1       </td></tr>\n",
              "<tr><td>7      </td><td>2.0               </td><td>b&#x27;Thermometer for a toddler&#x27;                                             </td><td>b&quot;The shippers were great....willing to consider speedier shipping options, but in the end the standard shipping arrived quickly enough. The thermometer is fun and easy to use, but with an inquisitive toddler, it would be nice to have the plastic cap attached to the body so that it doesn&#x27;t disappear.  Would buy it again from these sellers.&quot;                                                                                                                                                                                                                                                                                                                                                                                                                                                                                                                                                                                                                                                                                                                                                                            </td><td>4.0              </td><td>1       </td></tr>\n",
              "<tr><td>8      </td><td>2.0               </td><td>b&#x27;Wow!&#x27;                                                                  </td><td>b&quot;Man, for all you who know what I&#x27;m talking about, this is the best thing I&#x27;ve ever had on my back.  I suffer from back pain constantly and find myself waking up in the middle of the night pushing parts of my back and neck on the edges of walls on the corners of doors and sometimes lying down on tennis or racket balls to get pressure on those dang trigger points.  I opted for the body sticks package not knowing what they would do and it was a good thing.  They are like have racket balls on the ends of sticks to beat your muscle spasms and to lie down on them rolling around on your back. It is worth the money.  They use a device similar to this in physical therapy so if you get your doctor to write you a script for it, insurance may very well pay for it like mine did.  Even so, paid or not, buy this sucker.  Buy two, I thought, just in case it breaks and they for some reason stop manufacturing this thing.  Good stuff.&quot;                                                                                                                                                              </td><td>5.0              </td><td>1       </td></tr>\n",
              "<tr><td>9      </td><td>1.0               </td><td>b&#x27;Great cane for people with hand and wrist issues&#x27;                      </td><td>b&quot;I purchased this cane to assist me when I have to walk long distances.  I have rheumatoid arthritis that has particularly affected my low back and hips, and it sometimes makes walking difficult.  The problem with using a cane when you have RA is that RA doesn&#x27;t just affect your lower extremities.  My hands, wrists, and shoulders are also affected.  When I tried a normal cane, it was agonizingly painful for my hand and wrist in particular.  That made it not worth using, even though it did help my hip and back.  A friend with similar issues recommended this one, and the difference was amazing.  It is still a bit hard on my hand after awhile, but not to the point that would make it not worth using.  There really is no perfect solution for this circumstance short of a wheelchair, and I&#x27;m nowhere near ready for that yet!  The forearm rest makes it bearable to use this cane, and it does really help me to walk longer distances when I need to!  It is a great product, and I&#x27;m happy that I purchased it!&quot;                                                                               </td><td>4.0              </td><td>1       </td></tr>\n",
              "</tbody>\n",
              "</table>"
            ]
          },
          "metadata": {
            "tags": []
          }
        }
      ]
    },
    {
      "cell_type": "code",
      "metadata": {
        "id": "REOXDoLdFCaF",
        "colab_type": "code",
        "colab": {
          "base_uri": "https://localhost:8080/",
          "height": 53
        },
        "outputId": "afa334a2-f648-43c0-dbc0-a93b9aadad89"
      },
      "source": [
        "import nltk\n",
        "from nltk.corpus import stopwords\n",
        "nltk.download('stopwords')\n",
        "stop_words = set(stopwords.words('english'))"
      ],
      "execution_count": 16,
      "outputs": [
        {
          "output_type": "stream",
          "text": [
            "[nltk_data] Downloading package stopwords to /root/nltk_data...\n",
            "[nltk_data]   Unzipping corpora/stopwords.zip.\n"
          ],
          "name": "stdout"
        }
      ]
    },
    {
      "cell_type": "code",
      "metadata": {
        "id": "TRUo-8feFZGc",
        "colab_type": "code",
        "colab": {}
      },
      "source": [
        "def tokenize(line):\n",
        "  tokenized = line.tokenize(\"\\\\W+\")\n",
        "  tokenized = tokenized.tolower()\n",
        "  tokenized = tokenized[(tokenized.nchar() >= 2) | (tokenized.isna()),:] #keep any value length of words greater than 2 ignore to , it etc. kind of words\n",
        "  tokenized_filter = tokenized[(tokenized.isna()) | (~ tokenized.isin(stop_words)),:] #filter and remove if in the stop words list\n",
        "  return tokenized_filter"
      ],
      "execution_count": 17,
      "outputs": []
    },
    {
      "cell_type": "code",
      "metadata": {
        "id": "4LW2U1vzGR74",
        "colab_type": "code",
        "colab": {}
      },
      "source": [
        "words_reviews = tokenize(h2o_df[\"reviews\"])"
      ],
      "execution_count": 18,
      "outputs": []
    },
    {
      "cell_type": "code",
      "metadata": {
        "id": "7XYF4p-9HDnF",
        "colab_type": "code",
        "colab": {}
      },
      "source": [
        "words_headline = tokenize(h2o_df[\"headline\"])"
      ],
      "execution_count": 19,
      "outputs": []
    },
    {
      "cell_type": "code",
      "metadata": {
        "id": "oFSizIAKHKil",
        "colab_type": "code",
        "colab": {
          "base_uri": "https://localhost:8080/",
          "height": 254
        },
        "outputId": "6f449884-6183-4736-d104-ae1845a942cd"
      },
      "source": [
        "words_reviews.head()"
      ],
      "execution_count": 20,
      "outputs": [
        {
          "output_type": "display_data",
          "data": {
            "text/html": [
              "<table>\n",
              "<thead>\n",
              "<tr><th>C1         </th></tr>\n",
              "</thead>\n",
              "<tbody>\n",
              "<tr><td>glasses    </td></tr>\n",
              "<tr><td>excellent  </td></tr>\n",
              "<tr><td>value      </td></tr>\n",
              "<tr><td>fit        </td></tr>\n",
              "<tr><td>good       </td></tr>\n",
              "<tr><td>comfortable</td></tr>\n",
              "<tr><td>legal      </td></tr>\n",
              "<tr><td>blindness  </td></tr>\n",
              "<tr><td>lot        </td></tr>\n",
              "<tr><td>options    </td></tr>\n",
              "</tbody>\n",
              "</table>"
            ]
          },
          "metadata": {
            "tags": []
          }
        },
        {
          "output_type": "execute_result",
          "data": {
            "text/plain": [
              ""
            ]
          },
          "metadata": {
            "tags": []
          },
          "execution_count": 20
        }
      ]
    },
    {
      "cell_type": "code",
      "metadata": {
        "id": "9GgNuwerHPqZ",
        "colab_type": "code",
        "colab": {
          "base_uri": "https://localhost:8080/",
          "height": 237
        },
        "outputId": "b75f55ec-2880-4d87-fc1a-95ddaf52538e"
      },
      "source": [
        "words_headline.head()"
      ],
      "execution_count": 21,
      "outputs": [
        {
          "output_type": "display_data",
          "data": {
            "text/html": [
              "<table>\n",
              "<thead>\n",
              "<tr><th>C1       </th></tr>\n",
              "</thead>\n",
              "<tbody>\n",
              "<tr><td>glasses  </td></tr>\n",
              "<tr><td>excellent</td></tr>\n",
              "<tr><td>value    </td></tr>\n",
              "<tr><td>fit      </td></tr>\n",
              "<tr><td>good     </td></tr>\n",
              "<tr><td>         </td></tr>\n",
              "<tr><td>fantastic</td></tr>\n",
              "<tr><td>way      </td></tr>\n",
              "<tr><td>cheaply  </td></tr>\n",
              "<tr><td>try      </td></tr>\n",
              "</tbody>\n",
              "</table>"
            ]
          },
          "metadata": {
            "tags": []
          }
        },
        {
          "output_type": "execute_result",
          "data": {
            "text/plain": [
              ""
            ]
          },
          "metadata": {
            "tags": []
          },
          "execution_count": 21
        }
      ]
    },
    {
      "cell_type": "code",
      "metadata": {
        "id": "H0c-PphuHS3E",
        "colab_type": "code",
        "colab": {
          "base_uri": "https://localhost:8080/",
          "height": 35
        },
        "outputId": "b59c27da-bfcb-4568-e969-c7fc9d7e6e7c"
      },
      "source": [
        "words_reviews.shape"
      ],
      "execution_count": 22,
      "outputs": [
        {
          "output_type": "execute_result",
          "data": {
            "text/plain": [
              "(2797601, 1)"
            ]
          },
          "metadata": {
            "tags": []
          },
          "execution_count": 22
        }
      ]
    },
    {
      "cell_type": "code",
      "metadata": {
        "id": "dzjWnkvEHXXZ",
        "colab_type": "code",
        "colab": {}
      },
      "source": [
        "from h2o.estimators.word2vec import H2OWord2vecEstimator\n",
        "from h2o.estimators import H2OGradientBoostingEstimator, H2OXGBoostEstimator\n",
        "\n",
        "#word2vec model - words which share a close meaning or relation are stored closer in the vector\n",
        "#better than tfidf vectors because in H2OWord2vecEstimator the context of the word is maintained"
      ],
      "execution_count": 23,
      "outputs": []
    },
    {
      "cell_type": "code",
      "metadata": {
        "id": "qA-kBDyFH-B_",
        "colab_type": "code",
        "colab": {
          "base_uri": "https://localhost:8080/",
          "height": 35
        },
        "outputId": "276c361f-7bc4-4462-ff97-8a1a5a85d97a"
      },
      "source": [
        "vec_model = H2OWord2vecEstimator(vec_size = 100, model_id = \"w2v_amazon.model\")\n",
        "vec_model.train(training_frame=words_reviews)"
      ],
      "execution_count": 24,
      "outputs": [
        {
          "output_type": "stream",
          "text": [
            "word2vec Model Build progress: |██████████████████████████████████████████| 100%\n"
          ],
          "name": "stdout"
        }
      ]
    },
    {
      "cell_type": "code",
      "metadata": {
        "id": "b7QfER4AIPTx",
        "colab_type": "code",
        "colab": {
          "base_uri": "https://localhost:8080/",
          "height": 36
        },
        "outputId": "6fa5edc3-daec-4cb6-8b93-ac2782200e24"
      },
      "source": [
        "h2o.save_model(vec_model,path='/content/drive/My Drive/colabfiles/',force=True)"
      ],
      "execution_count": 25,
      "outputs": [
        {
          "output_type": "execute_result",
          "data": {
            "application/vnd.google.colaboratory.intrinsic+json": {
              "type": "string"
            },
            "text/plain": [
              "'/content/drive/My Drive/colabfiles/w2v_amazon.model'"
            ]
          },
          "metadata": {
            "tags": []
          },
          "execution_count": 25
        }
      ]
    },
    {
      "cell_type": "code",
      "metadata": {
        "id": "GLh07L3DCtrv",
        "colab_type": "code",
        "colab": {}
      },
      "source": [
        "#specify the full path to model \n",
        "vec_model=h2o.load_model('/content/drive/My Drive/colabfiles/w2v_amazon.model')"
      ],
      "execution_count": 26,
      "outputs": []
    },
    {
      "cell_type": "code",
      "metadata": {
        "id": "7v_4OXUOC3WD",
        "colab_type": "code",
        "colab": {
          "base_uri": "https://localhost:8080/",
          "height": 108
        },
        "outputId": "2f0a0daa-e23d-45a3-a4e4-9678bc142052"
      },
      "source": [
        "#sanity check of model\n",
        "#takes text corpus as input and produces word vector as output\n",
        "vec_model.find_synonyms(\"perfumes\",count=5)"
      ],
      "execution_count": 27,
      "outputs": [
        {
          "output_type": "execute_result",
          "data": {
            "text/plain": [
              "OrderedDict([('fragrances', 0.7395473718643188),\n",
              "             ('scents', 0.728407621383667),\n",
              "             ('febreze', 0.7216178178787231),\n",
              "             ('perfumey', 0.7166586518287659),\n",
              "             ('scent', 0.7126305103302002)])"
            ]
          },
          "metadata": {
            "tags": []
          },
          "execution_count": 27
        }
      ]
    },
    {
      "cell_type": "code",
      "metadata": {
        "id": "BlRJF65XC-WW",
        "colab_type": "code",
        "colab": {
          "base_uri": "https://localhost:8080/",
          "height": 108
        },
        "outputId": "f7c774e4-5a2a-422f-9eb4-3e210fd9ff1a"
      },
      "source": [
        "vec_model.find_synonyms(\"toothpaste\",count=5)"
      ],
      "execution_count": 28,
      "outputs": [
        {
          "output_type": "execute_result",
          "data": {
            "text/plain": [
              "OrderedDict([('mouthwash', 0.740286111831665),\n",
              "             ('listerine', 0.7149285674095154),\n",
              "             ('plax', 0.6925594210624695),\n",
              "             ('paste', 0.686217188835144),\n",
              "             ('ultreo', 0.6776861548423767)])"
            ]
          },
          "metadata": {
            "tags": []
          },
          "execution_count": 28
        }
      ]
    },
    {
      "cell_type": "code",
      "metadata": {
        "id": "XvM-Hg8pDBYL",
        "colab_type": "code",
        "colab": {
          "base_uri": "https://localhost:8080/",
          "height": 108
        },
        "outputId": "4ac88795-e4e3-4388-e9ee-5543a6fd8f40"
      },
      "source": [
        "vec_model.find_synonyms(\"glasses\",count=5)"
      ],
      "execution_count": 29,
      "outputs": [
        {
          "output_type": "execute_result",
          "data": {
            "text/plain": [
              "OrderedDict([('sunglasses', 0.8857452869415283),\n",
              "             ('readers', 0.8417409062385559),\n",
              "             ('bifocals', 0.8039722442626953),\n",
              "             ('lenses', 0.7840487957000732),\n",
              "             ('bifocal', 0.7825195789337158)])"
            ]
          },
          "metadata": {
            "tags": []
          },
          "execution_count": 29
        }
      ]
    },
    {
      "cell_type": "code",
      "metadata": {
        "id": "kp9ZBM3sDEFy",
        "colab_type": "code",
        "colab": {}
      },
      "source": [
        "reviews_vecs = vec_model.transform(words_reviews,aggregate_method=\"AVERAGE\")\n",
        "#transform the words_reviews and transform to a vector representation as in a numeric representation that the model can understand. model cannot understand string objects\n",
        "#aggregate = NONE , dont aggregate each input word is mapped to a single word vector\n",
        "# average = input is treated as a sequence of words delimited by each sentence. each sentence is mapped to a vector. vector belonging to same sentence is averaged. look into more details."
      ],
      "execution_count": 30,
      "outputs": []
    },
    {
      "cell_type": "code",
      "metadata": {
        "id": "wM9g2NjaDjVX",
        "colab_type": "code",
        "colab": {
          "base_uri": "https://localhost:8080/",
          "height": 35
        },
        "outputId": "b4e0f0be-dfac-4a22-8633-5b61e37bfc35"
      },
      "source": [
        "reviews_vecs.shape"
      ],
      "execution_count": 31,
      "outputs": [
        {
          "output_type": "execute_result",
          "data": {
            "text/plain": [
              "(85981, 100)"
            ]
          },
          "metadata": {
            "tags": []
          },
          "execution_count": 31
        }
      ]
    },
    {
      "cell_type": "code",
      "metadata": {
        "id": "TDU3g32ODtcH",
        "colab_type": "code",
        "colab": {
          "base_uri": "https://localhost:8080/",
          "height": 274
        },
        "outputId": "e6484351-9e02-4d7c-fde3-a8838835ee9d"
      },
      "source": [
        "reviews_vecs.head()"
      ],
      "execution_count": 32,
      "outputs": [
        {
          "output_type": "display_data",
          "data": {
            "text/html": [
              "<table>\n",
              "<thead>\n",
              "<tr><th style=\"text-align: right;\">         C1</th><th style=\"text-align: right;\">         C2</th><th style=\"text-align: right;\">         C3</th><th style=\"text-align: right;\">          C4</th><th style=\"text-align: right;\">        C5</th><th style=\"text-align: right;\">        C6</th><th style=\"text-align: right;\">        C7</th><th style=\"text-align: right;\">        C8</th><th style=\"text-align: right;\">        C9</th><th style=\"text-align: right;\">        C10</th><th style=\"text-align: right;\">        C11</th><th style=\"text-align: right;\">       C12</th><th style=\"text-align: right;\">        C13</th><th style=\"text-align: right;\">        C14</th><th style=\"text-align: right;\">       C15</th><th style=\"text-align: right;\">       C16</th><th style=\"text-align: right;\">       C17</th><th style=\"text-align: right;\">        C18</th><th style=\"text-align: right;\">         C19</th><th style=\"text-align: right;\">        C20</th><th style=\"text-align: right;\">        C21</th><th style=\"text-align: right;\">        C22</th><th style=\"text-align: right;\">        C23</th><th style=\"text-align: right;\">        C24</th><th style=\"text-align: right;\">        C25</th><th style=\"text-align: right;\">        C26</th><th style=\"text-align: right;\">       C27</th><th style=\"text-align: right;\">       C28</th><th style=\"text-align: right;\">        C29</th><th style=\"text-align: right;\">        C30</th><th style=\"text-align: right;\">        C31</th><th style=\"text-align: right;\">      C32</th><th style=\"text-align: right;\">       C33</th><th style=\"text-align: right;\">      C34</th><th style=\"text-align: right;\">       C35</th><th style=\"text-align: right;\">       C36</th><th style=\"text-align: right;\">       C37</th><th style=\"text-align: right;\">       C38</th><th style=\"text-align: right;\">        C39</th><th style=\"text-align: right;\">        C40</th><th style=\"text-align: right;\">       C41</th><th style=\"text-align: right;\">        C42</th><th style=\"text-align: right;\">         C43</th><th style=\"text-align: right;\">       C44</th><th style=\"text-align: right;\">         C45</th><th style=\"text-align: right;\">       C46</th><th style=\"text-align: right;\">       C47</th><th style=\"text-align: right;\">         C48</th><th style=\"text-align: right;\">       C49</th><th style=\"text-align: right;\">      C50</th><th style=\"text-align: right;\">        C51</th><th style=\"text-align: right;\">      C52</th><th style=\"text-align: right;\">         C53</th><th style=\"text-align: right;\">      C54</th><th style=\"text-align: right;\">       C55</th><th style=\"text-align: right;\">        C56</th><th style=\"text-align: right;\">      C57</th><th style=\"text-align: right;\">       C58</th><th style=\"text-align: right;\">        C59</th><th style=\"text-align: right;\">       C60</th><th style=\"text-align: right;\">       C61</th><th style=\"text-align: right;\">         C62</th><th style=\"text-align: right;\">        C63</th><th style=\"text-align: right;\">         C64</th><th style=\"text-align: right;\">        C65</th><th style=\"text-align: right;\">       C66</th><th style=\"text-align: right;\">       C67</th><th style=\"text-align: right;\">       C68</th><th style=\"text-align: right;\">        C69</th><th style=\"text-align: right;\">       C70</th><th style=\"text-align: right;\">        C71</th><th style=\"text-align: right;\">       C72</th><th style=\"text-align: right;\">        C73</th><th style=\"text-align: right;\">       C74</th><th style=\"text-align: right;\">        C75</th><th style=\"text-align: right;\">        C76</th><th style=\"text-align: right;\">        C77</th><th style=\"text-align: right;\">         C78</th><th style=\"text-align: right;\">       C79</th><th style=\"text-align: right;\">        C80</th><th style=\"text-align: right;\">       C81</th><th style=\"text-align: right;\">        C82</th><th style=\"text-align: right;\">      C83</th><th style=\"text-align: right;\">      C84</th><th style=\"text-align: right;\">        C85</th><th style=\"text-align: right;\">        C86</th><th style=\"text-align: right;\">       C87</th><th style=\"text-align: right;\">        C88</th><th style=\"text-align: right;\">       C89</th><th style=\"text-align: right;\">      C90</th><th style=\"text-align: right;\">       C91</th><th style=\"text-align: right;\">      C92</th><th style=\"text-align: right;\">        C93</th><th style=\"text-align: right;\">      C94</th><th style=\"text-align: right;\">        C95</th><th style=\"text-align: right;\">        C96</th><th style=\"text-align: right;\">       C97</th><th style=\"text-align: right;\">       C98</th><th style=\"text-align: right;\">       C99</th><th style=\"text-align: right;\">       C100</th></tr>\n",
              "</thead>\n",
              "<tbody>\n",
              "<tr><td style=\"text-align: right;\"> 0.103508  </td><td style=\"text-align: right;\">-0.0805032 </td><td style=\"text-align: right;\">-0.0603109 </td><td style=\"text-align: right;\">-0.0412945  </td><td style=\"text-align: right;\">-0.0243264</td><td style=\"text-align: right;\">-0.193731 </td><td style=\"text-align: right;\"> 0.105549 </td><td style=\"text-align: right;\"> 0.0270617</td><td style=\"text-align: right;\"> 0.0474832</td><td style=\"text-align: right;\">-0.0206425 </td><td style=\"text-align: right;\">-0.0165391 </td><td style=\"text-align: right;\">-0.0125719</td><td style=\"text-align: right;\">-0.0579739 </td><td style=\"text-align: right;\">-0.0434893 </td><td style=\"text-align: right;\"> 0.0788279</td><td style=\"text-align: right;\">-0.0446767</td><td style=\"text-align: right;\"> 0.0786619</td><td style=\"text-align: right;\"> 0.0152803 </td><td style=\"text-align: right;\">-0.0775012  </td><td style=\"text-align: right;\">-0.139236  </td><td style=\"text-align: right;\"> 0.00608164</td><td style=\"text-align: right;\"> 0.105663  </td><td style=\"text-align: right;\"> 0.079101  </td><td style=\"text-align: right;\">-0.00396536</td><td style=\"text-align: right;\"> 0.00107114</td><td style=\"text-align: right;\"> 0.00107714</td><td style=\"text-align: right;\">-0.032905 </td><td style=\"text-align: right;\">-0.120271 </td><td style=\"text-align: right;\"> 0.0550841 </td><td style=\"text-align: right;\">-0.0873431 </td><td style=\"text-align: right;\">-0.00437647</td><td style=\"text-align: right;\">0.0457385</td><td style=\"text-align: right;\">-0.102353 </td><td style=\"text-align: right;\">0.118598 </td><td style=\"text-align: right;\">-0.0128193</td><td style=\"text-align: right;\">-0.0159136</td><td style=\"text-align: right;\">-0.0381627</td><td style=\"text-align: right;\">-0.0379924</td><td style=\"text-align: right;\"> 0.0459074 </td><td style=\"text-align: right;\">-0.00284195</td><td style=\"text-align: right;\"> 0.0030753</td><td style=\"text-align: right;\">-0.034452  </td><td style=\"text-align: right;\"> 0.0213755  </td><td style=\"text-align: right;\"> 0.113952 </td><td style=\"text-align: right;\">-0.233228   </td><td style=\"text-align: right;\">-0.0256249</td><td style=\"text-align: right;\"> 0.175314 </td><td style=\"text-align: right;\"> 0.135772   </td><td style=\"text-align: right;\"> 0.0232937</td><td style=\"text-align: right;\">-0.266166</td><td style=\"text-align: right;\"> 0.00555355</td><td style=\"text-align: right;\">0.0944914</td><td style=\"text-align: right;\"> 0.0364996  </td><td style=\"text-align: right;\">-0.16477 </td><td style=\"text-align: right;\">-0.101347 </td><td style=\"text-align: right;\">-0.00835908</td><td style=\"text-align: right;\">-0.166429</td><td style=\"text-align: right;\">-0.0566899</td><td style=\"text-align: right;\">-0.0230984 </td><td style=\"text-align: right;\">-0.0229848</td><td style=\"text-align: right;\">-0.0114379</td><td style=\"text-align: right;\">-0.0660845  </td><td style=\"text-align: right;\"> 0.0511603 </td><td style=\"text-align: right;\">-0.0132155  </td><td style=\"text-align: right;\"> 0.0992971 </td><td style=\"text-align: right;\"> 0.0471692</td><td style=\"text-align: right;\">0.0176119 </td><td style=\"text-align: right;\"> 0.18936  </td><td style=\"text-align: right;\"> 0.0784521 </td><td style=\"text-align: right;\">-0.0650049</td><td style=\"text-align: right;\"> 0.0679219 </td><td style=\"text-align: right;\">-0.153654 </td><td style=\"text-align: right;\">-0.0138886 </td><td style=\"text-align: right;\"> 0.122761 </td><td style=\"text-align: right;\">-0.132421  </td><td style=\"text-align: right;\"> 0.0109915 </td><td style=\"text-align: right;\"> 0.130014  </td><td style=\"text-align: right;\">-0.0325091  </td><td style=\"text-align: right;\">0.0608704 </td><td style=\"text-align: right;\">-0.0650901 </td><td style=\"text-align: right;\"> 0.0337777</td><td style=\"text-align: right;\"> 0.0845054 </td><td style=\"text-align: right;\">0.0935574</td><td style=\"text-align: right;\">0.0374667</td><td style=\"text-align: right;\">-0.0383676 </td><td style=\"text-align: right;\"> 0.00644868</td><td style=\"text-align: right;\"> 0.0596815</td><td style=\"text-align: right;\"> 0.0575476 </td><td style=\"text-align: right;\">-0.192398 </td><td style=\"text-align: right;\">0.276227 </td><td style=\"text-align: right;\">-0.0780727</td><td style=\"text-align: right;\">0.127773 </td><td style=\"text-align: right;\"> 0.0450793 </td><td style=\"text-align: right;\">0.229142 </td><td style=\"text-align: right;\">-0.100369  </td><td style=\"text-align: right;\"> 0.00167123</td><td style=\"text-align: right;\">-0.0374238</td><td style=\"text-align: right;\"> 0.184182 </td><td style=\"text-align: right;\">-0.0327172</td><td style=\"text-align: right;\"> 0.0534768 </td></tr>\n",
              "<tr><td style=\"text-align: right;\">-0.0574276 </td><td style=\"text-align: right;\">-0.106626  </td><td style=\"text-align: right;\">-0.0706814 </td><td style=\"text-align: right;\">-0.00530366 </td><td style=\"text-align: right;\">-0.139475 </td><td style=\"text-align: right;\">-0.110256 </td><td style=\"text-align: right;\">-0.0861033</td><td style=\"text-align: right;\"> 0.0118249</td><td style=\"text-align: right;\">-0.0319897</td><td style=\"text-align: right;\">-0.00948084</td><td style=\"text-align: right;\">-0.0472508 </td><td style=\"text-align: right;\">-0.0337342</td><td style=\"text-align: right;\"> 0.126627  </td><td style=\"text-align: right;\">-0.142604  </td><td style=\"text-align: right;\"> 0.170951 </td><td style=\"text-align: right;\">-0.0572307</td><td style=\"text-align: right;\"> 0.0772859</td><td style=\"text-align: right;\"> 0.0487817 </td><td style=\"text-align: right;\">-0.0140949  </td><td style=\"text-align: right;\">-0.132286  </td><td style=\"text-align: right;\">-0.120454  </td><td style=\"text-align: right;\">-0.0260999 </td><td style=\"text-align: right;\">-0.0355556 </td><td style=\"text-align: right;\"> 0.138899  </td><td style=\"text-align: right;\">-0.0856893 </td><td style=\"text-align: right;\">-0.148429  </td><td style=\"text-align: right;\">-0.106316 </td><td style=\"text-align: right;\">-0.0680395</td><td style=\"text-align: right;\">-0.0405813 </td><td style=\"text-align: right;\">-0.0526848 </td><td style=\"text-align: right;\"> 0.0108961 </td><td style=\"text-align: right;\">0.11186  </td><td style=\"text-align: right;\">-0.107902 </td><td style=\"text-align: right;\">0.157048 </td><td style=\"text-align: right;\"> 0.0509355</td><td style=\"text-align: right;\">-0.0210589</td><td style=\"text-align: right;\">-0.0739741</td><td style=\"text-align: right;\"> 0.0265271</td><td style=\"text-align: right;\">-0.0469174 </td><td style=\"text-align: right;\">-0.0207361 </td><td style=\"text-align: right;\">-0.0931629</td><td style=\"text-align: right;\"> 0.0675909 </td><td style=\"text-align: right;\"> 0.000730257</td><td style=\"text-align: right;\"> 0.139389 </td><td style=\"text-align: right;\">-0.140633   </td><td style=\"text-align: right;\"> 0.0397956</td><td style=\"text-align: right;\"> 0.111864 </td><td style=\"text-align: right;\">-0.102877   </td><td style=\"text-align: right;\">-0.0758796</td><td style=\"text-align: right;\">-0.120046</td><td style=\"text-align: right;\"> 0.0426021 </td><td style=\"text-align: right;\">0.132194 </td><td style=\"text-align: right;\"> 0.0222173  </td><td style=\"text-align: right;\">-0.144823</td><td style=\"text-align: right;\">-0.139083 </td><td style=\"text-align: right;\"> 0.125912  </td><td style=\"text-align: right;\">-0.176542</td><td style=\"text-align: right;\">-0.0804075</td><td style=\"text-align: right;\">-0.0987273 </td><td style=\"text-align: right;\">-0.0403816</td><td style=\"text-align: right;\">-0.0349307</td><td style=\"text-align: right;\">-0.169934   </td><td style=\"text-align: right;\">-0.00850941</td><td style=\"text-align: right;\"> 0.0387835  </td><td style=\"text-align: right;\">-0.133491  </td><td style=\"text-align: right;\"> 0.153958 </td><td style=\"text-align: right;\">0.105952  </td><td style=\"text-align: right;\">-0.0647062</td><td style=\"text-align: right;\"> 0.115235  </td><td style=\"text-align: right;\">-0.129634 </td><td style=\"text-align: right;\">-0.0050095 </td><td style=\"text-align: right;\">-0.0579823</td><td style=\"text-align: right;\"> 0.0549438 </td><td style=\"text-align: right;\"> 0.106924 </td><td style=\"text-align: right;\">-0.0988947 </td><td style=\"text-align: right;\">-0.0353834 </td><td style=\"text-align: right;\"> 0.0655166 </td><td style=\"text-align: right;\">-0.196762   </td><td style=\"text-align: right;\">0.0125805 </td><td style=\"text-align: right;\"> 0.0775878 </td><td style=\"text-align: right;\">-0.0408199</td><td style=\"text-align: right;\"> 0.0311123 </td><td style=\"text-align: right;\">0.0438745</td><td style=\"text-align: right;\">0.125915 </td><td style=\"text-align: right;\">-0.092075  </td><td style=\"text-align: right;\">-0.0381355 </td><td style=\"text-align: right;\"> 0.105584 </td><td style=\"text-align: right;\"> 0.0723516 </td><td style=\"text-align: right;\">-0.105149 </td><td style=\"text-align: right;\">0.184986 </td><td style=\"text-align: right;\">-0.0387908</td><td style=\"text-align: right;\">0.0907108</td><td style=\"text-align: right;\">-0.0133455 </td><td style=\"text-align: right;\">0.128321 </td><td style=\"text-align: right;\">-0.0483428 </td><td style=\"text-align: right;\"> 0.143781  </td><td style=\"text-align: right;\"> 0.0782894</td><td style=\"text-align: right;\"> 0.134124 </td><td style=\"text-align: right;\"> 0.0362435</td><td style=\"text-align: right;\"> 0.126437  </td></tr>\n",
              "<tr><td style=\"text-align: right;\">-0.0406828 </td><td style=\"text-align: right;\">-0.012706  </td><td style=\"text-align: right;\">-0.0558478 </td><td style=\"text-align: right;\">-0.0199142  </td><td style=\"text-align: right;\">-0.0228295</td><td style=\"text-align: right;\">-0.0806033</td><td style=\"text-align: right;\">-0.188781 </td><td style=\"text-align: right;\">-0.0429571</td><td style=\"text-align: right;\">-0.0262156</td><td style=\"text-align: right;\">-0.137505  </td><td style=\"text-align: right;\">-0.139385  </td><td style=\"text-align: right;\">-0.0131218</td><td style=\"text-align: right;\"> 0.0116038 </td><td style=\"text-align: right;\"> 0.198784  </td><td style=\"text-align: right;\"> 0.0459996</td><td style=\"text-align: right;\">-0.0228656</td><td style=\"text-align: right;\">-0.0283037</td><td style=\"text-align: right;\"> 0.0202299 </td><td style=\"text-align: right;\">-0.0116051  </td><td style=\"text-align: right;\">-0.133897  </td><td style=\"text-align: right;\">-0.0159179 </td><td style=\"text-align: right;\"> 0.025421  </td><td style=\"text-align: right;\"> 0.0627931 </td><td style=\"text-align: right;\">-0.0173677 </td><td style=\"text-align: right;\">-0.00134844</td><td style=\"text-align: right;\">-0.184776  </td><td style=\"text-align: right;\"> 0.0360982</td><td style=\"text-align: right;\">-0.119874 </td><td style=\"text-align: right;\">-0.00938859</td><td style=\"text-align: right;\">-0.0160633 </td><td style=\"text-align: right;\"> 0.0934339 </td><td style=\"text-align: right;\">0.0964163</td><td style=\"text-align: right;\">-0.174437 </td><td style=\"text-align: right;\">0.184208 </td><td style=\"text-align: right;\"> 0.0711072</td><td style=\"text-align: right;\">-0.0165821</td><td style=\"text-align: right;\">-0.138311 </td><td style=\"text-align: right;\">-0.181852 </td><td style=\"text-align: right;\">-0.00259431</td><td style=\"text-align: right;\">-0.186456  </td><td style=\"text-align: right;\">-0.155647 </td><td style=\"text-align: right;\"> 0.00921692</td><td style=\"text-align: right;\">-0.0847789  </td><td style=\"text-align: right;\"> 0.105664 </td><td style=\"text-align: right;\">-0.138338   </td><td style=\"text-align: right;\">-0.0246616</td><td style=\"text-align: right;\"> 0.0071917</td><td style=\"text-align: right;\">-0.0618084  </td><td style=\"text-align: right;\">-0.0527641</td><td style=\"text-align: right;\">-0.141806</td><td style=\"text-align: right;\"> 0.0166745 </td><td style=\"text-align: right;\">0.157917 </td><td style=\"text-align: right;\">-0.0667674  </td><td style=\"text-align: right;\">-0.143471</td><td style=\"text-align: right;\">-0.121824 </td><td style=\"text-align: right;\"> 0.0109598 </td><td style=\"text-align: right;\">-0.293066</td><td style=\"text-align: right;\">-0.185175 </td><td style=\"text-align: right;\"> 0.033704  </td><td style=\"text-align: right;\">-0.0905342</td><td style=\"text-align: right;\">-0.171567 </td><td style=\"text-align: right;\">-0.0185847  </td><td style=\"text-align: right;\"> 0.0590673 </td><td style=\"text-align: right;\">-0.039832   </td><td style=\"text-align: right;\"> 0.00613753</td><td style=\"text-align: right;\"> 0.119605 </td><td style=\"text-align: right;\">0.026545  </td><td style=\"text-align: right;\">-0.0395491</td><td style=\"text-align: right;\"> 0.117747  </td><td style=\"text-align: right;\">-0.011804 </td><td style=\"text-align: right;\"> 0.0752608 </td><td style=\"text-align: right;\">-0.0613632</td><td style=\"text-align: right;\">-0.0104467 </td><td style=\"text-align: right;\"> 0.0570278</td><td style=\"text-align: right;\">-0.0243488 </td><td style=\"text-align: right;\"> 0.0131363 </td><td style=\"text-align: right;\"> 0.0515129 </td><td style=\"text-align: right;\"> 0.0657231  </td><td style=\"text-align: right;\">0.00651378</td><td style=\"text-align: right;\">-0.125286  </td><td style=\"text-align: right;\"> 0.0954047</td><td style=\"text-align: right;\">-0.00177321</td><td style=\"text-align: right;\">0.10093  </td><td style=\"text-align: right;\">0.0347674</td><td style=\"text-align: right;\">-0.0962631 </td><td style=\"text-align: right;\">-0.0853278 </td><td style=\"text-align: right;\"> 0.0125296</td><td style=\"text-align: right;\"> 0.104107  </td><td style=\"text-align: right;\">-0.167439 </td><td style=\"text-align: right;\">0.160836 </td><td style=\"text-align: right;\">-0.0080109</td><td style=\"text-align: right;\">0.129232 </td><td style=\"text-align: right;\">-0.0236909 </td><td style=\"text-align: right;\">0.178275 </td><td style=\"text-align: right;\"> 0.00990027</td><td style=\"text-align: right;\">-0.00366844</td><td style=\"text-align: right;\"> 0.130957 </td><td style=\"text-align: right;\">-0.0909388</td><td style=\"text-align: right;\"> 0.112822 </td><td style=\"text-align: right;\">-0.0731427 </td></tr>\n",
              "<tr><td style=\"text-align: right;\">-0.0567047 </td><td style=\"text-align: right;\">-0.068707  </td><td style=\"text-align: right;\"> 0.0643703 </td><td style=\"text-align: right;\"> 0.0038336  </td><td style=\"text-align: right;\"> 0.225453 </td><td style=\"text-align: right;\">-0.515567 </td><td style=\"text-align: right;\"> 0.0137966</td><td style=\"text-align: right;\"> 0.105561 </td><td style=\"text-align: right;\">-0.0111972</td><td style=\"text-align: right;\">-0.242452  </td><td style=\"text-align: right;\">-0.274085  </td><td style=\"text-align: right;\">-0.026472 </td><td style=\"text-align: right;\">-0.00808941</td><td style=\"text-align: right;\">-0.0453169 </td><td style=\"text-align: right;\"> 0.0830491</td><td style=\"text-align: right;\"> 0.0399343</td><td style=\"text-align: right;\">-0.0386375</td><td style=\"text-align: right;\">-0.249728  </td><td style=\"text-align: right;\"> 0.150318   </td><td style=\"text-align: right;\">-0.356902  </td><td style=\"text-align: right;\">-0.0871666 </td><td style=\"text-align: right;\"> 0.165222  </td><td style=\"text-align: right;\"> 0.0984669 </td><td style=\"text-align: right;\"> 0.0678825 </td><td style=\"text-align: right;\">-0.0880486 </td><td style=\"text-align: right;\"> 0.0781054 </td><td style=\"text-align: right;\">-0.0145445</td><td style=\"text-align: right;\">-0.0257574</td><td style=\"text-align: right;\"> 0.122305  </td><td style=\"text-align: right;\">-0.0531261 </td><td style=\"text-align: right;\"> 0.00501819</td><td style=\"text-align: right;\">0.0441946</td><td style=\"text-align: right;\">-0.222808 </td><td style=\"text-align: right;\">0.0442884</td><td style=\"text-align: right;\"> 0.0746239</td><td style=\"text-align: right;\"> 0.107991 </td><td style=\"text-align: right;\">-0.135095 </td><td style=\"text-align: right;\">-0.118012 </td><td style=\"text-align: right;\">-0.0947019 </td><td style=\"text-align: right;\">-0.129622  </td><td style=\"text-align: right;\">-0.0765845</td><td style=\"text-align: right;\"> 0.0421151 </td><td style=\"text-align: right;\">-0.0369141  </td><td style=\"text-align: right;\">-0.108056 </td><td style=\"text-align: right;\">-0.383505   </td><td style=\"text-align: right;\">-0.133974 </td><td style=\"text-align: right;\"> 0.202681 </td><td style=\"text-align: right;\"> 0.0990651  </td><td style=\"text-align: right;\">-0.196124 </td><td style=\"text-align: right;\">-0.158834</td><td style=\"text-align: right;\">-0.204139  </td><td style=\"text-align: right;\">0.26012  </td><td style=\"text-align: right;\"> 0.0736783  </td><td style=\"text-align: right;\">-0.178962</td><td style=\"text-align: right;\">-0.186086 </td><td style=\"text-align: right;\"> 0.0383506 </td><td style=\"text-align: right;\"> 0.071643</td><td style=\"text-align: right;\"> 0.133812 </td><td style=\"text-align: right;\">-0.0903918 </td><td style=\"text-align: right;\">-0.0859815</td><td style=\"text-align: right;\">-0.0530521</td><td style=\"text-align: right;\"> 0.0426736  </td><td style=\"text-align: right;\"> 0.0165194 </td><td style=\"text-align: right;\">-0.000464892</td><td style=\"text-align: right;\">-0.0634562 </td><td style=\"text-align: right;\">-0.0507529</td><td style=\"text-align: right;\">0.127734  </td><td style=\"text-align: right;\"> 0.0606184</td><td style=\"text-align: right;\">-0.0488008 </td><td style=\"text-align: right;\"> 0.0924877</td><td style=\"text-align: right;\"> 0.104938  </td><td style=\"text-align: right;\"> 0.0519548</td><td style=\"text-align: right;\">-0.0613849 </td><td style=\"text-align: right;\"> 0.0850846</td><td style=\"text-align: right;\">-0.225247  </td><td style=\"text-align: right;\">-0.147807  </td><td style=\"text-align: right;\"> 0.137477  </td><td style=\"text-align: right;\">-0.0929056  </td><td style=\"text-align: right;\">0.11519   </td><td style=\"text-align: right;\">-0.00647514</td><td style=\"text-align: right;\"> 0.0784097</td><td style=\"text-align: right;\"> 0.177459  </td><td style=\"text-align: right;\">0.0244503</td><td style=\"text-align: right;\">0.211519 </td><td style=\"text-align: right;\">-0.177638  </td><td style=\"text-align: right;\">-0.0385452 </td><td style=\"text-align: right;\"> 0.167692 </td><td style=\"text-align: right;\"> 0.0941704 </td><td style=\"text-align: right;\">-0.101166 </td><td style=\"text-align: right;\">0.294958 </td><td style=\"text-align: right;\">-0.159391 </td><td style=\"text-align: right;\">0.0557992</td><td style=\"text-align: right;\">-0.173751  </td><td style=\"text-align: right;\">0.177474 </td><td style=\"text-align: right;\"> 0.0233962 </td><td style=\"text-align: right;\"> 0.26346   </td><td style=\"text-align: right;\"> 0.115284 </td><td style=\"text-align: right;\">-0.121677 </td><td style=\"text-align: right;\"> 0.226174 </td><td style=\"text-align: right;\">-0.00649806</td></tr>\n",
              "<tr><td style=\"text-align: right;\"> 0.0222978 </td><td style=\"text-align: right;\">-0.0922982 </td><td style=\"text-align: right;\">-0.0419765 </td><td style=\"text-align: right;\"> 0.158848   </td><td style=\"text-align: right;\">-0.0557394</td><td style=\"text-align: right;\">-0.279888 </td><td style=\"text-align: right;\"> 0.0272767</td><td style=\"text-align: right;\"> 0.0641346</td><td style=\"text-align: right;\">-0.103144 </td><td style=\"text-align: right;\">-0.180468  </td><td style=\"text-align: right;\">-0.0955152 </td><td style=\"text-align: right;\"> 0.109594 </td><td style=\"text-align: right;\">-0.0677179 </td><td style=\"text-align: right;\">-0.0110404 </td><td style=\"text-align: right;\">-0.0356144</td><td style=\"text-align: right;\"> 0.0346004</td><td style=\"text-align: right;\"> 0.0310708</td><td style=\"text-align: right;\"> 0.0686045 </td><td style=\"text-align: right;\"> 0.0318621  </td><td style=\"text-align: right;\"> 0.0244693 </td><td style=\"text-align: right;\">-0.0774184 </td><td style=\"text-align: right;\">-0.0897152 </td><td style=\"text-align: right;\"> 0.040599  </td><td style=\"text-align: right;\">-0.00666975</td><td style=\"text-align: right;\">-0.105204  </td><td style=\"text-align: right;\"> 0.0765094 </td><td style=\"text-align: right;\">-0.169516 </td><td style=\"text-align: right;\">-0.0421835</td><td style=\"text-align: right;\"> 0.0573085 </td><td style=\"text-align: right;\">-0.0396072 </td><td style=\"text-align: right;\"> 0.10941   </td><td style=\"text-align: right;\">0.106874 </td><td style=\"text-align: right;\">-0.178321 </td><td style=\"text-align: right;\">0.118755 </td><td style=\"text-align: right;\">-0.058888 </td><td style=\"text-align: right;\">-0.160914 </td><td style=\"text-align: right;\">-0.0209608</td><td style=\"text-align: right;\">-0.0420393</td><td style=\"text-align: right;\">-0.0583021 </td><td style=\"text-align: right;\"> 0.048864  </td><td style=\"text-align: right;\">-0.182084 </td><td style=\"text-align: right;\"> 0.00232341</td><td style=\"text-align: right;\"> 0.0296209  </td><td style=\"text-align: right;\"> 0.117294 </td><td style=\"text-align: right;\">-0.0659697  </td><td style=\"text-align: right;\">-0.084563 </td><td style=\"text-align: right;\">-0.0233168</td><td style=\"text-align: right;\"> 0.151849   </td><td style=\"text-align: right;\"> 0.0786444</td><td style=\"text-align: right;\">-0.114769</td><td style=\"text-align: right;\">-0.046457  </td><td style=\"text-align: right;\">0.121036 </td><td style=\"text-align: right;\"> 0.0152601  </td><td style=\"text-align: right;\">-0.121255</td><td style=\"text-align: right;\">-0.116457 </td><td style=\"text-align: right;\"> 0.0185022 </td><td style=\"text-align: right;\">-0.202561</td><td style=\"text-align: right;\">-0.224979 </td><td style=\"text-align: right;\">-0.0929983 </td><td style=\"text-align: right;\">-0.0171436</td><td style=\"text-align: right;\">-0.116187 </td><td style=\"text-align: right;\"> 0.0907746  </td><td style=\"text-align: right;\"> 0.150117  </td><td style=\"text-align: right;\">-0.1661     </td><td style=\"text-align: right;\">-0.0637851 </td><td style=\"text-align: right;\"> 0.197444 </td><td style=\"text-align: right;\">0.0135204 </td><td style=\"text-align: right;\"> 0.109565 </td><td style=\"text-align: right;\"> 0.112197  </td><td style=\"text-align: right;\">-0.0571374</td><td style=\"text-align: right;\">-0.0685391 </td><td style=\"text-align: right;\"> 0.0512773</td><td style=\"text-align: right;\"> 0.12231   </td><td style=\"text-align: right;\"> 0.111076 </td><td style=\"text-align: right;\"> 0.04588   </td><td style=\"text-align: right;\">-0.143212  </td><td style=\"text-align: right;\">-0.0843078 </td><td style=\"text-align: right;\"> 0.0570969  </td><td style=\"text-align: right;\">0.0762335 </td><td style=\"text-align: right;\">-0.0775838 </td><td style=\"text-align: right;\"> 0.118012 </td><td style=\"text-align: right;\">-0.0208511 </td><td style=\"text-align: right;\">0.013704 </td><td style=\"text-align: right;\">0.203495 </td><td style=\"text-align: right;\">-0.00454497</td><td style=\"text-align: right;\"> 0.0614056 </td><td style=\"text-align: right;\">-0.0472139</td><td style=\"text-align: right;\"> 0.0961264 </td><td style=\"text-align: right;\">-0.0172931</td><td style=\"text-align: right;\">0.232273 </td><td style=\"text-align: right;\">-0.105193 </td><td style=\"text-align: right;\">0.123804 </td><td style=\"text-align: right;\">-0.0987253 </td><td style=\"text-align: right;\">0.0324661</td><td style=\"text-align: right;\"> 0.191808  </td><td style=\"text-align: right;\">-0.0366363 </td><td style=\"text-align: right;\">-0.142189 </td><td style=\"text-align: right;\"> 0.250086 </td><td style=\"text-align: right;\"> 0.0692362</td><td style=\"text-align: right;\">-0.0106125 </td></tr>\n",
              "<tr><td style=\"text-align: right;\"> 0.0305457 </td><td style=\"text-align: right;\">-0.00662079</td><td style=\"text-align: right;\">-0.00648439</td><td style=\"text-align: right;\"> 0.111999   </td><td style=\"text-align: right;\">-0.0668142</td><td style=\"text-align: right;\">-0.15225  </td><td style=\"text-align: right;\">-0.0510814</td><td style=\"text-align: right;\">-0.0401915</td><td style=\"text-align: right;\">-0.0856968</td><td style=\"text-align: right;\">-0.0437886 </td><td style=\"text-align: right;\">-0.0139096 </td><td style=\"text-align: right;\"> 0.0103027</td><td style=\"text-align: right;\">-0.0364054 </td><td style=\"text-align: right;\">-0.00441807</td><td style=\"text-align: right;\"> 0.0703715</td><td style=\"text-align: right;\">-0.0121885</td><td style=\"text-align: right;\">-0.062578 </td><td style=\"text-align: right;\"> 0.00269891</td><td style=\"text-align: right;\"> 0.067697   </td><td style=\"text-align: right;\">-0.0119055 </td><td style=\"text-align: right;\"> 0.0340495 </td><td style=\"text-align: right;\"> 0.0203409 </td><td style=\"text-align: right;\"> 0.00308936</td><td style=\"text-align: right;\"> 0.0356009 </td><td style=\"text-align: right;\"> 0.00864383</td><td style=\"text-align: right;\">-0.0287168 </td><td style=\"text-align: right;\">-0.0237435</td><td style=\"text-align: right;\">-0.11902  </td><td style=\"text-align: right;\"> 0.0888209 </td><td style=\"text-align: right;\">-0.0954641 </td><td style=\"text-align: right;\"> 0.0762387 </td><td style=\"text-align: right;\">0.125687 </td><td style=\"text-align: right;\">-0.0902184</td><td style=\"text-align: right;\">0.137398 </td><td style=\"text-align: right;\"> 0.0210624</td><td style=\"text-align: right;\">-0.0555403</td><td style=\"text-align: right;\">-0.156273 </td><td style=\"text-align: right;\">-0.131462 </td><td style=\"text-align: right;\">-0.0665808 </td><td style=\"text-align: right;\">-0.0656381 </td><td style=\"text-align: right;\">-0.0716048</td><td style=\"text-align: right;\">-0.0060202 </td><td style=\"text-align: right;\"> 0.00812338 </td><td style=\"text-align: right;\"> 0.129746 </td><td style=\"text-align: right;\">-0.077935   </td><td style=\"text-align: right;\">-0.0499285</td><td style=\"text-align: right;\"> 0.0223145</td><td style=\"text-align: right;\"> 0.0545334  </td><td style=\"text-align: right;\"> 0.0227378</td><td style=\"text-align: right;\">-0.13199 </td><td style=\"text-align: right;\"> 0.0388597 </td><td style=\"text-align: right;\">0.132352 </td><td style=\"text-align: right;\"> 0.0010432  </td><td style=\"text-align: right;\">-0.21582 </td><td style=\"text-align: right;\">-0.0980721</td><td style=\"text-align: right;\"> 0.0209286 </td><td style=\"text-align: right;\">-0.142957</td><td style=\"text-align: right;\">-0.17897  </td><td style=\"text-align: right;\">-0.0162238 </td><td style=\"text-align: right;\">-0.063424 </td><td style=\"text-align: right;\">-0.121835 </td><td style=\"text-align: right;\"> 0.000749962</td><td style=\"text-align: right;\"> 0.00671235</td><td style=\"text-align: right;\">-0.0882738  </td><td style=\"text-align: right;\"> 0.0261328 </td><td style=\"text-align: right;\"> 0.144234 </td><td style=\"text-align: right;\">0.0518994 </td><td style=\"text-align: right;\">-0.0239238</td><td style=\"text-align: right;\"> 0.00079931</td><td style=\"text-align: right;\">-0.0483857</td><td style=\"text-align: right;\"> 0.00911429</td><td style=\"text-align: right;\">-0.0561405</td><td style=\"text-align: right;\"> 0.144424  </td><td style=\"text-align: right;\">-0.0189977</td><td style=\"text-align: right;\">-0.00467019</td><td style=\"text-align: right;\">-0.0488366 </td><td style=\"text-align: right;\"> 0.0144399 </td><td style=\"text-align: right;\"> 0.080564   </td><td style=\"text-align: right;\">0.107852  </td><td style=\"text-align: right;\">-0.110958  </td><td style=\"text-align: right;\"> 0.0219105</td><td style=\"text-align: right;\"> 0.00819882</td><td style=\"text-align: right;\">0.119814 </td><td style=\"text-align: right;\">0.139216 </td><td style=\"text-align: right;\">-0.119694  </td><td style=\"text-align: right;\">-0.0405141 </td><td style=\"text-align: right;\"> 0.132925 </td><td style=\"text-align: right;\"> 0.0711429 </td><td style=\"text-align: right;\">-0.0460251</td><td style=\"text-align: right;\">0.231311 </td><td style=\"text-align: right;\">-0.115262 </td><td style=\"text-align: right;\">0.161717 </td><td style=\"text-align: right;\">-0.109546  </td><td style=\"text-align: right;\">0.0942377</td><td style=\"text-align: right;\">-0.0824826 </td><td style=\"text-align: right;\"> 0.0944654 </td><td style=\"text-align: right;\"> 0.0301559</td><td style=\"text-align: right;\"> 0.0336261</td><td style=\"text-align: right;\"> 0.0555778</td><td style=\"text-align: right;\"> 0.00431548</td></tr>\n",
              "<tr><td style=\"text-align: right;\"> 0.00126619</td><td style=\"text-align: right;\">-0.0205366 </td><td style=\"text-align: right;\">-0.0129306 </td><td style=\"text-align: right;\"> 0.0624862  </td><td style=\"text-align: right;\">-0.0732524</td><td style=\"text-align: right;\">-0.140997 </td><td style=\"text-align: right;\">-0.0401256</td><td style=\"text-align: right;\"> 0.0302701</td><td style=\"text-align: right;\"> 0.0145355</td><td style=\"text-align: right;\">-0.0867141 </td><td style=\"text-align: right;\"> 0.0436216 </td><td style=\"text-align: right;\"> 0.0254491</td><td style=\"text-align: right;\"> 0.0337884 </td><td style=\"text-align: right;\"> 0.0351355 </td><td style=\"text-align: right;\"> 0.0399583</td><td style=\"text-align: right;\">-0.0273373</td><td style=\"text-align: right;\">-0.014849 </td><td style=\"text-align: right;\">-0.0450806 </td><td style=\"text-align: right;\"> 0.00422914 </td><td style=\"text-align: right;\">-0.0135373 </td><td style=\"text-align: right;\">-0.0289524 </td><td style=\"text-align: right;\"> 0.0649201 </td><td style=\"text-align: right;\"> 0.134473  </td><td style=\"text-align: right;\"> 0.120575  </td><td style=\"text-align: right;\"> 0.0793616 </td><td style=\"text-align: right;\"> 0.045581  </td><td style=\"text-align: right;\"> 0.0126527</td><td style=\"text-align: right;\">-0.147981 </td><td style=\"text-align: right;\">-0.159526  </td><td style=\"text-align: right;\">-0.0662472 </td><td style=\"text-align: right;\">-0.0315819 </td><td style=\"text-align: right;\">0.0169023</td><td style=\"text-align: right;\">-0.0959056</td><td style=\"text-align: right;\">0.0905864</td><td style=\"text-align: right;\"> 0.0222536</td><td style=\"text-align: right;\">-0.0904654</td><td style=\"text-align: right;\">-0.194726 </td><td style=\"text-align: right;\"> 0.0703625</td><td style=\"text-align: right;\">-0.0149378 </td><td style=\"text-align: right;\"> 0.020599  </td><td style=\"text-align: right;\"> 0.0315258</td><td style=\"text-align: right;\">-0.041405  </td><td style=\"text-align: right;\"> 0.00335682 </td><td style=\"text-align: right;\"> 0.115836 </td><td style=\"text-align: right;\">-5.03526e-05</td><td style=\"text-align: right;\"> 0.0384163</td><td style=\"text-align: right;\"> 0.195376 </td><td style=\"text-align: right;\"> 0.0752509  </td><td style=\"text-align: right;\"> 0.0646617</td><td style=\"text-align: right;\">-0.100693</td><td style=\"text-align: right;\"> 0.133458  </td><td style=\"text-align: right;\">0.131381 </td><td style=\"text-align: right;\">-0.000733182</td><td style=\"text-align: right;\">-0.165711</td><td style=\"text-align: right;\">-0.0362471</td><td style=\"text-align: right;\"> 0.0393593 </td><td style=\"text-align: right;\">-0.241101</td><td style=\"text-align: right;\">-0.0653537</td><td style=\"text-align: right;\"> 0.00688553</td><td style=\"text-align: right;\">-0.0352881</td><td style=\"text-align: right;\">-0.0604508</td><td style=\"text-align: right;\"> 0.0168583  </td><td style=\"text-align: right;\">-0.0165872 </td><td style=\"text-align: right;\">-0.0123904  </td><td style=\"text-align: right;\"> 0.100694  </td><td style=\"text-align: right;\"> 0.0317523</td><td style=\"text-align: right;\">0.112635  </td><td style=\"text-align: right;\"> 0.0635943</td><td style=\"text-align: right;\"> 0.0085483 </td><td style=\"text-align: right;\">-0.0203367</td><td style=\"text-align: right;\"> 0.0545799 </td><td style=\"text-align: right;\">-0.0802452</td><td style=\"text-align: right;\"> 0.0321658 </td><td style=\"text-align: right;\"> 0.0172836</td><td style=\"text-align: right;\"> 0.0209576 </td><td style=\"text-align: right;\">-0.0589836 </td><td style=\"text-align: right;\">-0.012467  </td><td style=\"text-align: right;\">-0.0828245  </td><td style=\"text-align: right;\">0.127977  </td><td style=\"text-align: right;\">-0.0639073 </td><td style=\"text-align: right;\">-0.0314007</td><td style=\"text-align: right;\"> 0.0160739 </td><td style=\"text-align: right;\">0.0263205</td><td style=\"text-align: right;\">0.153751 </td><td style=\"text-align: right;\">-0.130174  </td><td style=\"text-align: right;\"> 0.0628202 </td><td style=\"text-align: right;\"> 0.196093 </td><td style=\"text-align: right;\">-0.0419499 </td><td style=\"text-align: right;\">-0.0961573</td><td style=\"text-align: right;\">0.183626 </td><td style=\"text-align: right;\">-0.0222524</td><td style=\"text-align: right;\">0.167065 </td><td style=\"text-align: right;\"> 0.00194459</td><td style=\"text-align: right;\">0.125317 </td><td style=\"text-align: right;\"> 0.0274117 </td><td style=\"text-align: right;\">-0.0514781 </td><td style=\"text-align: right;\"> 0.0235877</td><td style=\"text-align: right;\"> 0.225952 </td><td style=\"text-align: right;\"> 0.0693139</td><td style=\"text-align: right;\"> 0.118644  </td></tr>\n",
              "<tr><td style=\"text-align: right;\">-0.0956268 </td><td style=\"text-align: right;\"> 0.0442001 </td><td style=\"text-align: right;\">-0.0758322 </td><td style=\"text-align: right;\">-0.000799568</td><td style=\"text-align: right;\">-0.016198 </td><td style=\"text-align: right;\">-0.15244  </td><td style=\"text-align: right;\">-0.102824 </td><td style=\"text-align: right;\"> 0.0306898</td><td style=\"text-align: right;\">-0.104827 </td><td style=\"text-align: right;\">-0.0207099 </td><td style=\"text-align: right;\">-0.0819238 </td><td style=\"text-align: right;\">-0.0267424</td><td style=\"text-align: right;\"> 0.00566844</td><td style=\"text-align: right;\"> 0.0748394 </td><td style=\"text-align: right;\"> 0.0142763</td><td style=\"text-align: right;\">-0.0310397</td><td style=\"text-align: right;\"> 0.130624 </td><td style=\"text-align: right;\">-0.036786  </td><td style=\"text-align: right;\">-0.0554493  </td><td style=\"text-align: right;\">-0.168684  </td><td style=\"text-align: right;\">-0.0744841 </td><td style=\"text-align: right;\">-0.0545794 </td><td style=\"text-align: right;\"> 0.163762  </td><td style=\"text-align: right;\"> 0.0244503 </td><td style=\"text-align: right;\"> 0.0149554 </td><td style=\"text-align: right;\">-0.0279901 </td><td style=\"text-align: right;\"> 0.0610347</td><td style=\"text-align: right;\">-0.137991 </td><td style=\"text-align: right;\">-0.0224097 </td><td style=\"text-align: right;\">-0.00929057</td><td style=\"text-align: right;\">-0.0260143 </td><td style=\"text-align: right;\">0.0617365</td><td style=\"text-align: right;\">-0.145554 </td><td style=\"text-align: right;\">0.103388 </td><td style=\"text-align: right;\"> 0.0324006</td><td style=\"text-align: right;\">-0.0947591</td><td style=\"text-align: right;\">-0.0947918</td><td style=\"text-align: right;\">-0.0753692</td><td style=\"text-align: right;\">-0.0628327 </td><td style=\"text-align: right;\"> 0.0548527 </td><td style=\"text-align: right;\">-0.0341364</td><td style=\"text-align: right;\">-0.0113625 </td><td style=\"text-align: right;\"> 0.0511091  </td><td style=\"text-align: right;\"> 0.0349164</td><td style=\"text-align: right;\">-0.0956549  </td><td style=\"text-align: right;\">-0.0954382</td><td style=\"text-align: right;\"> 0.0646413</td><td style=\"text-align: right;\"> 0.0172255  </td><td style=\"text-align: right;\">-0.0208096</td><td style=\"text-align: right;\">-0.192488</td><td style=\"text-align: right;\">-0.00204362</td><td style=\"text-align: right;\">0.141916 </td><td style=\"text-align: right;\">-0.0370586  </td><td style=\"text-align: right;\">-0.137803</td><td style=\"text-align: right;\">-0.0712015</td><td style=\"text-align: right;\">-0.0145575 </td><td style=\"text-align: right;\">-0.201576</td><td style=\"text-align: right;\">-0.0883473</td><td style=\"text-align: right;\">-0.0162291 </td><td style=\"text-align: right;\">-0.0760812</td><td style=\"text-align: right;\">-0.0467661</td><td style=\"text-align: right;\">-0.0398494  </td><td style=\"text-align: right;\"> 0.00809272</td><td style=\"text-align: right;\"> 0.0244908  </td><td style=\"text-align: right;\"> 0.0155281 </td><td style=\"text-align: right;\"> 0.0867229</td><td style=\"text-align: right;\">0.00653098</td><td style=\"text-align: right;\"> 0.0837284</td><td style=\"text-align: right;\"> 0.0434167 </td><td style=\"text-align: right;\">-0.0323648</td><td style=\"text-align: right;\"> 0.135496  </td><td style=\"text-align: right;\">-0.134493 </td><td style=\"text-align: right;\"> 0.046277  </td><td style=\"text-align: right;\"> 0.0217213</td><td style=\"text-align: right;\">-0.121445  </td><td style=\"text-align: right;\"> 0.0259756 </td><td style=\"text-align: right;\">-0.00376275</td><td style=\"text-align: right;\">-0.000629876</td><td style=\"text-align: right;\">0.0202484 </td><td style=\"text-align: right;\">-0.0983045 </td><td style=\"text-align: right;\"> 0.028206 </td><td style=\"text-align: right;\">-0.0592779 </td><td style=\"text-align: right;\">0.0578676</td><td style=\"text-align: right;\">0.187181 </td><td style=\"text-align: right;\">-0.0849956 </td><td style=\"text-align: right;\">-0.0113758 </td><td style=\"text-align: right;\"> 0.0963985</td><td style=\"text-align: right;\"> 0.00341649</td><td style=\"text-align: right;\">-0.208411 </td><td style=\"text-align: right;\">0.188207 </td><td style=\"text-align: right;\">-0.0686231</td><td style=\"text-align: right;\">0.141513 </td><td style=\"text-align: right;\">-0.0676895 </td><td style=\"text-align: right;\">0.17524  </td><td style=\"text-align: right;\">-0.0118946 </td><td style=\"text-align: right;\"> 0.0664989 </td><td style=\"text-align: right;\"> 0.0790757</td><td style=\"text-align: right;\"> 0.0814133</td><td style=\"text-align: right;\"> 0.0695194</td><td style=\"text-align: right;\"> 0.0194604 </td></tr>\n",
              "<tr><td style=\"text-align: right;\">-0.0979268 </td><td style=\"text-align: right;\">-0.0117755 </td><td style=\"text-align: right;\">-0.0388122 </td><td style=\"text-align: right;\"> 0.0317553  </td><td style=\"text-align: right;\">-0.0274651</td><td style=\"text-align: right;\">-0.163816 </td><td style=\"text-align: right;\">-0.0591127</td><td style=\"text-align: right;\"> 0.0505797</td><td style=\"text-align: right;\">-0.0292082</td><td style=\"text-align: right;\">-0.0716756 </td><td style=\"text-align: right;\">-0.0354214 </td><td style=\"text-align: right;\">-0.0596271</td><td style=\"text-align: right;\"> 0.060281  </td><td style=\"text-align: right;\"> 0.0303595 </td><td style=\"text-align: right;\">-0.015975 </td><td style=\"text-align: right;\">-0.0277628</td><td style=\"text-align: right;\"> 0.0540528</td><td style=\"text-align: right;\">-0.0126057 </td><td style=\"text-align: right;\"> 0.000551724</td><td style=\"text-align: right;\">-0.00140058</td><td style=\"text-align: right;\">-0.0784007 </td><td style=\"text-align: right;\"> 0.0727065 </td><td style=\"text-align: right;\"> 0.141768  </td><td style=\"text-align: right;\"> 0.0237235 </td><td style=\"text-align: right;\"> 0.111196  </td><td style=\"text-align: right;\">-0.0618528 </td><td style=\"text-align: right;\"> 0.015586 </td><td style=\"text-align: right;\">-0.149168 </td><td style=\"text-align: right;\">-0.112937  </td><td style=\"text-align: right;\">-0.0351092 </td><td style=\"text-align: right;\">-0.0221625 </td><td style=\"text-align: right;\">0.0860738</td><td style=\"text-align: right;\">-0.0791562</td><td style=\"text-align: right;\">0.12221  </td><td style=\"text-align: right;\">-0.0438558</td><td style=\"text-align: right;\">-0.129701 </td><td style=\"text-align: right;\">-0.178934 </td><td style=\"text-align: right;\"> 0.0699669</td><td style=\"text-align: right;\">-0.0180713 </td><td style=\"text-align: right;\">-0.0985354 </td><td style=\"text-align: right;\">-0.102073 </td><td style=\"text-align: right;\"> 0.0291849 </td><td style=\"text-align: right;\">-0.0053725  </td><td style=\"text-align: right;\"> 0.146467 </td><td style=\"text-align: right;\">-0.0613117  </td><td style=\"text-align: right;\">-0.0338963</td><td style=\"text-align: right;\"> 0.0901908</td><td style=\"text-align: right;\">-0.0971854  </td><td style=\"text-align: right;\"> 0.0823657</td><td style=\"text-align: right;\">-0.172079</td><td style=\"text-align: right;\"> 0.075399  </td><td style=\"text-align: right;\">0.10967  </td><td style=\"text-align: right;\"> 0.0180711  </td><td style=\"text-align: right;\">-0.203212</td><td style=\"text-align: right;\">-0.0821399</td><td style=\"text-align: right;\"> 0.0169961 </td><td style=\"text-align: right;\">-0.125559</td><td style=\"text-align: right;\">-0.0422429</td><td style=\"text-align: right;\">-0.015022  </td><td style=\"text-align: right;\">-0.0762795</td><td style=\"text-align: right;\">-0.118616 </td><td style=\"text-align: right;\">-0.0508305  </td><td style=\"text-align: right;\"> 0.0860538 </td><td style=\"text-align: right;\"> 0.044015   </td><td style=\"text-align: right;\"> 0.00648899</td><td style=\"text-align: right;\"> 0.0786637</td><td style=\"text-align: right;\">0.0399941 </td><td style=\"text-align: right;\"> 0.0952419</td><td style=\"text-align: right;\"> 0.0605682 </td><td style=\"text-align: right;\"> 0.079869 </td><td style=\"text-align: right;\"> 0.0136752 </td><td style=\"text-align: right;\"> 0.0143178</td><td style=\"text-align: right;\">-0.00249458</td><td style=\"text-align: right;\">-0.0393152</td><td style=\"text-align: right;\">-0.0780677 </td><td style=\"text-align: right;\">-0.00521028</td><td style=\"text-align: right;\"> 0.0729624 </td><td style=\"text-align: right;\">-0.0427059  </td><td style=\"text-align: right;\">0.0706731 </td><td style=\"text-align: right;\">-0.146946  </td><td style=\"text-align: right;\">-0.0404716</td><td style=\"text-align: right;\"> 0.0210575 </td><td style=\"text-align: right;\">0.115663 </td><td style=\"text-align: right;\">0.0956761</td><td style=\"text-align: right;\">-0.0870526 </td><td style=\"text-align: right;\">-0.031353  </td><td style=\"text-align: right;\"> 0.200667 </td><td style=\"text-align: right;\">-0.0492834 </td><td style=\"text-align: right;\">-0.0586958</td><td style=\"text-align: right;\">0.146007 </td><td style=\"text-align: right;\"> 0.039654 </td><td style=\"text-align: right;\">0.11492  </td><td style=\"text-align: right;\">-0.0823883 </td><td style=\"text-align: right;\">0.133844 </td><td style=\"text-align: right;\"> 0.00365314</td><td style=\"text-align: right;\"> 0.0658539 </td><td style=\"text-align: right;\"> 0.0674757</td><td style=\"text-align: right;\"> 0.136518 </td><td style=\"text-align: right;\"> 0.0695206</td><td style=\"text-align: right;\"> 0.10616   </td></tr>\n",
              "<tr><td style=\"text-align: right;\">-0.0109688 </td><td style=\"text-align: right;\"> 0.0747454 </td><td style=\"text-align: right;\">-0.0311785 </td><td style=\"text-align: right;\">-0.0211297  </td><td style=\"text-align: right;\">-0.0577231</td><td style=\"text-align: right;\">-0.186593 </td><td style=\"text-align: right;\">-0.088431 </td><td style=\"text-align: right;\"> 0.0955855</td><td style=\"text-align: right;\">-0.0452339</td><td style=\"text-align: right;\">-0.0703843 </td><td style=\"text-align: right;\"> 0.00582778</td><td style=\"text-align: right;\"> 0.0338289</td><td style=\"text-align: right;\"> 0.0224587 </td><td style=\"text-align: right;\"> 0.00519211</td><td style=\"text-align: right;\">-0.0432514</td><td style=\"text-align: right;\">-0.0478652</td><td style=\"text-align: right;\">-0.0061253</td><td style=\"text-align: right;\"> 0.00519498</td><td style=\"text-align: right;\"> 0.0689049  </td><td style=\"text-align: right;\">-0.0670968 </td><td style=\"text-align: right;\">-0.0756002 </td><td style=\"text-align: right;\"> 0.00586225</td><td style=\"text-align: right;\"> 0.086229  </td><td style=\"text-align: right;\"> 0.0880039 </td><td style=\"text-align: right;\"> 0.126293  </td><td style=\"text-align: right;\">-0.0712055 </td><td style=\"text-align: right;\"> 0.0166013</td><td style=\"text-align: right;\">-0.115846 </td><td style=\"text-align: right;\">-0.0833289 </td><td style=\"text-align: right;\">-0.0556774 </td><td style=\"text-align: right;\"> 0.0369539 </td><td style=\"text-align: right;\">0.0686958</td><td style=\"text-align: right;\">-0.112322 </td><td style=\"text-align: right;\">0.13175  </td><td style=\"text-align: right;\">-0.0369262</td><td style=\"text-align: right;\">-0.131458 </td><td style=\"text-align: right;\">-0.195098 </td><td style=\"text-align: right;\"> 0.036045 </td><td style=\"text-align: right;\">-0.109411  </td><td style=\"text-align: right;\">-0.0570248 </td><td style=\"text-align: right;\"> 0.0167364</td><td style=\"text-align: right;\"> 0.0347799 </td><td style=\"text-align: right;\"> 0.0542769  </td><td style=\"text-align: right;\"> 0.0968286</td><td style=\"text-align: right;\">-0.128582   </td><td style=\"text-align: right;\"> 0.110445 </td><td style=\"text-align: right;\"> 0.14089  </td><td style=\"text-align: right;\">-0.000924619</td><td style=\"text-align: right;\"> 0.0759618</td><td style=\"text-align: right;\">-0.198932</td><td style=\"text-align: right;\"> 0.137276  </td><td style=\"text-align: right;\">0.0478031</td><td style=\"text-align: right;\"> 0.0331634  </td><td style=\"text-align: right;\">-0.224268</td><td style=\"text-align: right;\">-0.133322 </td><td style=\"text-align: right;\">-0.0333649 </td><td style=\"text-align: right;\">-0.185635</td><td style=\"text-align: right;\">-0.0421546</td><td style=\"text-align: right;\">-0.0504665 </td><td style=\"text-align: right;\">-0.0275279</td><td style=\"text-align: right;\">-0.123102 </td><td style=\"text-align: right;\">-0.0848512  </td><td style=\"text-align: right;\">-0.0170784 </td><td style=\"text-align: right;\"> 0.00121782 </td><td style=\"text-align: right;\">-0.0180388 </td><td style=\"text-align: right;\"> 0.0543665</td><td style=\"text-align: right;\">0.11134   </td><td style=\"text-align: right;\"> 0.0717034</td><td style=\"text-align: right;\"> 0.0662032 </td><td style=\"text-align: right;\">-0.0319363</td><td style=\"text-align: right;\">-0.0110172 </td><td style=\"text-align: right;\">-0.110331 </td><td style=\"text-align: right;\"> 0.0327252 </td><td style=\"text-align: right;\"> 0.0401515</td><td style=\"text-align: right;\">-0.00299113</td><td style=\"text-align: right;\">-0.0463483 </td><td style=\"text-align: right;\"> 0.0692225 </td><td style=\"text-align: right;\">-0.0400314  </td><td style=\"text-align: right;\">0.07241   </td><td style=\"text-align: right;\">-0.0763747 </td><td style=\"text-align: right;\">-0.125211 </td><td style=\"text-align: right;\"> 0.0798495 </td><td style=\"text-align: right;\">0.121247 </td><td style=\"text-align: right;\">0.0491371</td><td style=\"text-align: right;\">-0.00203286</td><td style=\"text-align: right;\">-0.0207179 </td><td style=\"text-align: right;\"> 0.179157 </td><td style=\"text-align: right;\">-0.0711505 </td><td style=\"text-align: right;\">-0.04417  </td><td style=\"text-align: right;\">0.0858006</td><td style=\"text-align: right;\"> 0.0312605</td><td style=\"text-align: right;\">0.0460737</td><td style=\"text-align: right;\">-0.00307853</td><td style=\"text-align: right;\">0.174859 </td><td style=\"text-align: right;\">-0.013934  </td><td style=\"text-align: right;\"> 0.00190942</td><td style=\"text-align: right;\">-0.0134057</td><td style=\"text-align: right;\"> 0.146637 </td><td style=\"text-align: right;\">-0.0965649</td><td style=\"text-align: right;\"> 0.0523402 </td></tr>\n",
              "</tbody>\n",
              "</table>"
            ]
          },
          "metadata": {
            "tags": []
          }
        },
        {
          "output_type": "execute_result",
          "data": {
            "text/plain": [
              ""
            ]
          },
          "metadata": {
            "tags": []
          },
          "execution_count": 32
        }
      ]
    },
    {
      "cell_type": "code",
      "metadata": {
        "id": "oO3N1dUuDxG-",
        "colab_type": "code",
        "colab": {}
      },
      "source": [
        "h2o_df_ext=h2o_df.cbind(reviews_vecs)"
      ],
      "execution_count": 33,
      "outputs": []
    },
    {
      "cell_type": "code",
      "metadata": {
        "id": "EYeT-blSKSbA",
        "colab_type": "code",
        "colab": {}
      },
      "source": [
        "h2o_train,h2o_valid = h2o_df_ext.split_frame(ratios=[0.8])"
      ],
      "execution_count": 34,
      "outputs": []
    },
    {
      "cell_type": "code",
      "metadata": {
        "id": "u_mcxr9aL2fH",
        "colab_type": "code",
        "colab": {
          "base_uri": "https://localhost:8080/",
          "height": 83
        },
        "outputId": "42f48d03-f4a9-4659-92cd-735b14759132"
      },
      "source": [
        "h2o_valid['target'].table()"
      ],
      "execution_count": 35,
      "outputs": [
        {
          "output_type": "display_data",
          "data": {
            "text/html": [
              "<table>\n",
              "<thead>\n",
              "<tr><th style=\"text-align: right;\">  target</th><th style=\"text-align: right;\">  Count</th></tr>\n",
              "</thead>\n",
              "<tbody>\n",
              "<tr><td style=\"text-align: right;\">       0</td><td style=\"text-align: right;\">   4651</td></tr>\n",
              "<tr><td style=\"text-align: right;\">       1</td><td style=\"text-align: right;\">  12569</td></tr>\n",
              "</tbody>\n",
              "</table>"
            ]
          },
          "metadata": {
            "tags": []
          }
        },
        {
          "output_type": "execute_result",
          "data": {
            "text/plain": [
              ""
            ]
          },
          "metadata": {
            "tags": []
          },
          "execution_count": 35
        }
      ]
    },
    {
      "cell_type": "code",
      "metadata": {
        "id": "74QLnVAbL8D6",
        "colab_type": "code",
        "colab": {}
      },
      "source": [
        "gbm_baseline = H2OGradientBoostingEstimator(stopping_metric=\"AUC\", stopping_tolerance=0.001, stopping_rounds=5, score_tree_interval=10)\n",
        "# every 10 tree score and check the model performance"
      ],
      "execution_count": 36,
      "outputs": []
    },
    {
      "cell_type": "code",
      "metadata": {
        "id": "Lznwud2TMYjD",
        "colab_type": "code",
        "colab": {
          "base_uri": "https://localhost:8080/",
          "height": 35
        },
        "outputId": "54c4a3e7-6be0-4d69-f567-a306dfd6ec42"
      },
      "source": [
        "gbm_baseline.train(x=reviews_vecs.names,y='target',training_frame=h2o_train,validation_frame=h2o_valid)"
      ],
      "execution_count": 37,
      "outputs": [
        {
          "output_type": "stream",
          "text": [
            "gbm Model Build progress: |███████████████████████████████████████████████| 100%\n"
          ],
          "name": "stdout"
        }
      ]
    },
    {
      "cell_type": "code",
      "metadata": {
        "id": "NekaLtMLMw-P",
        "colab_type": "code",
        "colab": {
          "base_uri": "https://localhost:8080/",
          "height": 35
        },
        "outputId": "46771b80-cce8-4af0-9fc4-774c6655eddf"
      },
      "source": [
        "print(\"Baseline AUC : \" + str(round(gbm_baseline.auc(valid=True),3)))"
      ],
      "execution_count": 38,
      "outputs": [
        {
          "output_type": "stream",
          "text": [
            "Baseline AUC : 0.879\n"
          ],
          "name": "stdout"
        }
      ]
    },
    {
      "cell_type": "code",
      "metadata": {
        "id": "nWhqFOnwNHwe",
        "colab_type": "code",
        "colab": {
          "base_uri": "https://localhost:8080/",
          "height": 180
        },
        "outputId": "f0003a4b-fc08-4d52-d12b-8a36838bdaaa"
      },
      "source": [
        "gbm_baseline.confusion_matrix(valid=True)"
      ],
      "execution_count": 39,
      "outputs": [
        {
          "output_type": "stream",
          "text": [
            "\n",
            "Confusion Matrix (Act/Pred) for max f1 @ threshold = 0.5334125126562173: \n"
          ],
          "name": "stdout"
        },
        {
          "output_type": "display_data",
          "data": {
            "text/html": [
              "<div>\n",
              "<style scoped>\n",
              "    .dataframe tbody tr th:only-of-type {\n",
              "        vertical-align: middle;\n",
              "    }\n",
              "\n",
              "    .dataframe tbody tr th {\n",
              "        vertical-align: top;\n",
              "    }\n",
              "\n",
              "    .dataframe thead th {\n",
              "        text-align: right;\n",
              "    }\n",
              "</style>\n",
              "<table border=\"1\" class=\"dataframe\">\n",
              "  <thead>\n",
              "    <tr style=\"text-align: right;\">\n",
              "      <th></th>\n",
              "      <th></th>\n",
              "      <th>0</th>\n",
              "      <th>1</th>\n",
              "      <th>Error</th>\n",
              "      <th>Rate</th>\n",
              "    </tr>\n",
              "  </thead>\n",
              "  <tbody>\n",
              "    <tr>\n",
              "      <th>0</th>\n",
              "      <td>0</td>\n",
              "      <td>2611.0</td>\n",
              "      <td>2040.0</td>\n",
              "      <td>0.4386</td>\n",
              "      <td>(2040.0/4651.0)</td>\n",
              "    </tr>\n",
              "    <tr>\n",
              "      <th>1</th>\n",
              "      <td>1</td>\n",
              "      <td>762.0</td>\n",
              "      <td>11807.0</td>\n",
              "      <td>0.0606</td>\n",
              "      <td>(762.0/12569.0)</td>\n",
              "    </tr>\n",
              "    <tr>\n",
              "      <th>2</th>\n",
              "      <td>Total</td>\n",
              "      <td>3373.0</td>\n",
              "      <td>13847.0</td>\n",
              "      <td>0.1627</td>\n",
              "      <td>(2802.0/17220.0)</td>\n",
              "    </tr>\n",
              "  </tbody>\n",
              "</table>\n",
              "</div>"
            ],
            "text/plain": [
              "               0        1   Error               Rate\n",
              "0      0  2611.0   2040.0  0.4386    (2040.0/4651.0)\n",
              "1      1   762.0  11807.0  0.0606    (762.0/12569.0)\n",
              "2  Total  3373.0  13847.0  0.1627   (2802.0/17220.0)"
            ]
          },
          "metadata": {
            "tags": []
          }
        },
        {
          "output_type": "execute_result",
          "data": {
            "text/plain": [
              ""
            ]
          },
          "metadata": {
            "tags": []
          },
          "execution_count": 39
        }
      ]
    },
    {
      "cell_type": "code",
      "metadata": {
        "id": "JX7jLqDBNlsc",
        "colab_type": "code",
        "colab": {}
      },
      "source": [
        "gbm_balanced = H2OGradientBoostingEstimator(stopping_metric=\"AUC\", stopping_tolerance=0.001, stopping_rounds=5, score_tree_interval=10, balance_classes=True)"
      ],
      "execution_count": 40,
      "outputs": []
    },
    {
      "cell_type": "code",
      "metadata": {
        "id": "wRsGlKoVN5jS",
        "colab_type": "code",
        "colab": {
          "base_uri": "https://localhost:8080/",
          "height": 35
        },
        "outputId": "0550d35e-bae4-43d5-c376-3d1b7f1c960f"
      },
      "source": [
        "gbm_balanced.train(x=reviews_vecs.names,y='target',training_frame=h2o_train,validation_frame=h2o_valid)"
      ],
      "execution_count": 41,
      "outputs": [
        {
          "output_type": "stream",
          "text": [
            "gbm Model Build progress: |███████████████████████████████████████████████| 100%\n"
          ],
          "name": "stdout"
        }
      ]
    },
    {
      "cell_type": "code",
      "metadata": {
        "id": "kkEKlyXJOByP",
        "colab_type": "code",
        "colab": {
          "base_uri": "https://localhost:8080/",
          "height": 35
        },
        "outputId": "3aa434f4-b31b-4964-b5ed-638f98ac7ac9"
      },
      "source": [
        "print(\"Balanced AUC : \" + str(round(gbm_balanced.auc(valid=True),3)))"
      ],
      "execution_count": 42,
      "outputs": [
        {
          "output_type": "stream",
          "text": [
            "Balanced AUC : 0.879\n"
          ],
          "name": "stdout"
        }
      ]
    },
    {
      "cell_type": "code",
      "metadata": {
        "id": "j20NpwGDOMWr",
        "colab_type": "code",
        "colab": {
          "base_uri": "https://localhost:8080/",
          "height": 180
        },
        "outputId": "22e0b3d6-961b-4687-f909-6ac86b4a7297"
      },
      "source": [
        "gbm_balanced.confusion_matrix(valid=True)"
      ],
      "execution_count": 43,
      "outputs": [
        {
          "output_type": "stream",
          "text": [
            "\n",
            "Confusion Matrix (Act/Pred) for max f1 @ threshold = 0.5266181328475654: \n"
          ],
          "name": "stdout"
        },
        {
          "output_type": "display_data",
          "data": {
            "text/html": [
              "<div>\n",
              "<style scoped>\n",
              "    .dataframe tbody tr th:only-of-type {\n",
              "        vertical-align: middle;\n",
              "    }\n",
              "\n",
              "    .dataframe tbody tr th {\n",
              "        vertical-align: top;\n",
              "    }\n",
              "\n",
              "    .dataframe thead th {\n",
              "        text-align: right;\n",
              "    }\n",
              "</style>\n",
              "<table border=\"1\" class=\"dataframe\">\n",
              "  <thead>\n",
              "    <tr style=\"text-align: right;\">\n",
              "      <th></th>\n",
              "      <th></th>\n",
              "      <th>0</th>\n",
              "      <th>1</th>\n",
              "      <th>Error</th>\n",
              "      <th>Rate</th>\n",
              "    </tr>\n",
              "  </thead>\n",
              "  <tbody>\n",
              "    <tr>\n",
              "      <th>0</th>\n",
              "      <td>0</td>\n",
              "      <td>2450.0</td>\n",
              "      <td>2201.0</td>\n",
              "      <td>0.4732</td>\n",
              "      <td>(2201.0/4651.0)</td>\n",
              "    </tr>\n",
              "    <tr>\n",
              "      <th>1</th>\n",
              "      <td>1</td>\n",
              "      <td>659.0</td>\n",
              "      <td>11910.0</td>\n",
              "      <td>0.0524</td>\n",
              "      <td>(659.0/12569.0)</td>\n",
              "    </tr>\n",
              "    <tr>\n",
              "      <th>2</th>\n",
              "      <td>Total</td>\n",
              "      <td>3109.0</td>\n",
              "      <td>14111.0</td>\n",
              "      <td>0.1661</td>\n",
              "      <td>(2860.0/17220.0)</td>\n",
              "    </tr>\n",
              "  </tbody>\n",
              "</table>\n",
              "</div>"
            ],
            "text/plain": [
              "               0        1   Error               Rate\n",
              "0      0  2450.0   2201.0  0.4732    (2201.0/4651.0)\n",
              "1      1   659.0  11910.0  0.0524    (659.0/12569.0)\n",
              "2  Total  3109.0  14111.0  0.1661   (2860.0/17220.0)"
            ]
          },
          "metadata": {
            "tags": []
          }
        },
        {
          "output_type": "execute_result",
          "data": {
            "text/plain": [
              ""
            ]
          },
          "metadata": {
            "tags": []
          },
          "execution_count": 43
        }
      ]
    },
    {
      "cell_type": "code",
      "metadata": {
        "id": "S4UWYVKsOs8e",
        "colab_type": "code",
        "colab": {
          "base_uri": "https://localhost:8080/",
          "height": 568
        },
        "outputId": "47180c7e-043b-4782-9e44-d7cb04a47c73"
      },
      "source": [
        "h2o_train.head(1)"
      ],
      "execution_count": 44,
      "outputs": [
        {
          "output_type": "display_data",
          "data": {
            "text/html": [
              "<table>\n",
              "<thead>\n",
              "<tr><th style=\"text-align: right;\">  votes</th><th>headline                                                                 </th><th>reviews                                                                                                                                                                                                                                                                                                         </th><th style=\"text-align: right;\">  rating</th><th style=\"text-align: right;\">  target</th><th style=\"text-align: right;\">      C1</th><th style=\"text-align: right;\">        C2</th><th style=\"text-align: right;\">        C3</th><th style=\"text-align: right;\">        C4</th><th style=\"text-align: right;\">        C5</th><th style=\"text-align: right;\">       C6</th><th style=\"text-align: right;\">      C7</th><th style=\"text-align: right;\">       C8</th><th style=\"text-align: right;\">       C9</th><th style=\"text-align: right;\">       C10</th><th style=\"text-align: right;\">       C11</th><th style=\"text-align: right;\">       C12</th><th style=\"text-align: right;\">       C13</th><th style=\"text-align: right;\">       C14</th><th style=\"text-align: right;\">      C15</th><th style=\"text-align: right;\">       C16</th><th style=\"text-align: right;\">      C17</th><th style=\"text-align: right;\">      C18</th><th style=\"text-align: right;\">       C19</th><th style=\"text-align: right;\">      C20</th><th style=\"text-align: right;\">       C21</th><th style=\"text-align: right;\">     C22</th><th style=\"text-align: right;\">     C23</th><th style=\"text-align: right;\">        C24</th><th style=\"text-align: right;\">       C25</th><th style=\"text-align: right;\">       C26</th><th style=\"text-align: right;\">      C27</th><th style=\"text-align: right;\">      C28</th><th style=\"text-align: right;\">      C29</th><th style=\"text-align: right;\">       C30</th><th style=\"text-align: right;\">        C31</th><th style=\"text-align: right;\">      C32</th><th style=\"text-align: right;\">      C33</th><th style=\"text-align: right;\">     C34</th><th style=\"text-align: right;\">       C35</th><th style=\"text-align: right;\">       C36</th><th style=\"text-align: right;\">       C37</th><th style=\"text-align: right;\">       C38</th><th style=\"text-align: right;\">      C39</th><th style=\"text-align: right;\">        C40</th><th style=\"text-align: right;\">      C41</th><th style=\"text-align: right;\">      C42</th><th style=\"text-align: right;\">      C43</th><th style=\"text-align: right;\">     C44</th><th style=\"text-align: right;\">      C45</th><th style=\"text-align: right;\">       C46</th><th style=\"text-align: right;\">     C47</th><th style=\"text-align: right;\">     C48</th><th style=\"text-align: right;\">      C49</th><th style=\"text-align: right;\">      C50</th><th style=\"text-align: right;\">       C51</th><th style=\"text-align: right;\">      C52</th><th style=\"text-align: right;\">      C53</th><th style=\"text-align: right;\">     C54</th><th style=\"text-align: right;\">      C55</th><th style=\"text-align: right;\">        C56</th><th style=\"text-align: right;\">      C57</th><th style=\"text-align: right;\">       C58</th><th style=\"text-align: right;\">       C59</th><th style=\"text-align: right;\">       C60</th><th style=\"text-align: right;\">       C61</th><th style=\"text-align: right;\">       C62</th><th style=\"text-align: right;\">      C63</th><th style=\"text-align: right;\">       C64</th><th style=\"text-align: right;\">      C65</th><th style=\"text-align: right;\">      C66</th><th style=\"text-align: right;\">      C67</th><th style=\"text-align: right;\">    C68</th><th style=\"text-align: right;\">      C69</th><th style=\"text-align: right;\">       C70</th><th style=\"text-align: right;\">      C71</th><th style=\"text-align: right;\">      C72</th><th style=\"text-align: right;\">       C73</th><th style=\"text-align: right;\">     C74</th><th style=\"text-align: right;\">      C75</th><th style=\"text-align: right;\">      C76</th><th style=\"text-align: right;\">     C77</th><th style=\"text-align: right;\">       C78</th><th style=\"text-align: right;\">      C79</th><th style=\"text-align: right;\">       C80</th><th style=\"text-align: right;\">      C81</th><th style=\"text-align: right;\">      C82</th><th style=\"text-align: right;\">      C83</th><th style=\"text-align: right;\">      C84</th><th style=\"text-align: right;\">       C85</th><th style=\"text-align: right;\">       C86</th><th style=\"text-align: right;\">      C87</th><th style=\"text-align: right;\">      C88</th><th style=\"text-align: right;\">      C89</th><th style=\"text-align: right;\">     C90</th><th style=\"text-align: right;\">       C91</th><th style=\"text-align: right;\">     C92</th><th style=\"text-align: right;\">      C93</th><th style=\"text-align: right;\">     C94</th><th style=\"text-align: right;\">      C95</th><th style=\"text-align: right;\">       C96</th><th style=\"text-align: right;\">       C97</th><th style=\"text-align: right;\">     C98</th><th style=\"text-align: right;\">       C99</th><th style=\"text-align: right;\">     C100</th></tr>\n",
              "</thead>\n",
              "<tbody>\n",
              "<tr><td style=\"text-align: right;\">      0</td><td>b&#x27;These glasses are an excellent value. The fit is good and they are ...&#x27;</td><td>b&quot;These glasses are an excellent value.  The fit is good and they are very comfortable.  Because of my legal blindness, there aren&#x27;t a lot of options to try to see better, but I believe these help with my other visual aids, and because they are reasonably priced I can have more than one pair available.&quot;</td><td style=\"text-align: right;\">       4</td><td style=\"text-align: right;\">       1</td><td style=\"text-align: right;\">0.103508</td><td style=\"text-align: right;\">-0.0805032</td><td style=\"text-align: right;\">-0.0603109</td><td style=\"text-align: right;\">-0.0412945</td><td style=\"text-align: right;\">-0.0243264</td><td style=\"text-align: right;\">-0.193731</td><td style=\"text-align: right;\">0.105549</td><td style=\"text-align: right;\">0.0270617</td><td style=\"text-align: right;\">0.0474832</td><td style=\"text-align: right;\">-0.0206425</td><td style=\"text-align: right;\">-0.0165391</td><td style=\"text-align: right;\">-0.0125719</td><td style=\"text-align: right;\">-0.0579739</td><td style=\"text-align: right;\">-0.0434893</td><td style=\"text-align: right;\">0.0788279</td><td style=\"text-align: right;\">-0.0446767</td><td style=\"text-align: right;\">0.0786619</td><td style=\"text-align: right;\">0.0152803</td><td style=\"text-align: right;\">-0.0775012</td><td style=\"text-align: right;\">-0.139236</td><td style=\"text-align: right;\">0.00608164</td><td style=\"text-align: right;\">0.105663</td><td style=\"text-align: right;\">0.079101</td><td style=\"text-align: right;\">-0.00396536</td><td style=\"text-align: right;\">0.00107114</td><td style=\"text-align: right;\">0.00107714</td><td style=\"text-align: right;\">-0.032905</td><td style=\"text-align: right;\">-0.120271</td><td style=\"text-align: right;\">0.0550841</td><td style=\"text-align: right;\">-0.0873431</td><td style=\"text-align: right;\">-0.00437647</td><td style=\"text-align: right;\">0.0457385</td><td style=\"text-align: right;\">-0.102353</td><td style=\"text-align: right;\">0.118598</td><td style=\"text-align: right;\">-0.0128193</td><td style=\"text-align: right;\">-0.0159136</td><td style=\"text-align: right;\">-0.0381627</td><td style=\"text-align: right;\">-0.0379924</td><td style=\"text-align: right;\">0.0459074</td><td style=\"text-align: right;\">-0.00284195</td><td style=\"text-align: right;\">0.0030753</td><td style=\"text-align: right;\">-0.034452</td><td style=\"text-align: right;\">0.0213755</td><td style=\"text-align: right;\">0.113952</td><td style=\"text-align: right;\">-0.233228</td><td style=\"text-align: right;\">-0.0256249</td><td style=\"text-align: right;\">0.175314</td><td style=\"text-align: right;\">0.135772</td><td style=\"text-align: right;\">0.0232937</td><td style=\"text-align: right;\">-0.266166</td><td style=\"text-align: right;\">0.00555355</td><td style=\"text-align: right;\">0.0944914</td><td style=\"text-align: right;\">0.0364996</td><td style=\"text-align: right;\">-0.16477</td><td style=\"text-align: right;\">-0.101347</td><td style=\"text-align: right;\">-0.00835908</td><td style=\"text-align: right;\">-0.166429</td><td style=\"text-align: right;\">-0.0566899</td><td style=\"text-align: right;\">-0.0230984</td><td style=\"text-align: right;\">-0.0229848</td><td style=\"text-align: right;\">-0.0114379</td><td style=\"text-align: right;\">-0.0660845</td><td style=\"text-align: right;\">0.0511603</td><td style=\"text-align: right;\">-0.0132155</td><td style=\"text-align: right;\">0.0992971</td><td style=\"text-align: right;\">0.0471692</td><td style=\"text-align: right;\">0.0176119</td><td style=\"text-align: right;\">0.18936</td><td style=\"text-align: right;\">0.0784521</td><td style=\"text-align: right;\">-0.0650049</td><td style=\"text-align: right;\">0.0679219</td><td style=\"text-align: right;\">-0.153654</td><td style=\"text-align: right;\">-0.0138886</td><td style=\"text-align: right;\">0.122761</td><td style=\"text-align: right;\">-0.132421</td><td style=\"text-align: right;\">0.0109915</td><td style=\"text-align: right;\">0.130014</td><td style=\"text-align: right;\">-0.0325091</td><td style=\"text-align: right;\">0.0608704</td><td style=\"text-align: right;\">-0.0650901</td><td style=\"text-align: right;\">0.0337777</td><td style=\"text-align: right;\">0.0845054</td><td style=\"text-align: right;\">0.0935574</td><td style=\"text-align: right;\">0.0374667</td><td style=\"text-align: right;\">-0.0383676</td><td style=\"text-align: right;\">0.00644868</td><td style=\"text-align: right;\">0.0596815</td><td style=\"text-align: right;\">0.0575476</td><td style=\"text-align: right;\">-0.192398</td><td style=\"text-align: right;\">0.276227</td><td style=\"text-align: right;\">-0.0780727</td><td style=\"text-align: right;\">0.127773</td><td style=\"text-align: right;\">0.0450793</td><td style=\"text-align: right;\">0.229142</td><td style=\"text-align: right;\">-0.100369</td><td style=\"text-align: right;\">0.00167123</td><td style=\"text-align: right;\">-0.0374238</td><td style=\"text-align: right;\">0.184182</td><td style=\"text-align: right;\">-0.0327172</td><td style=\"text-align: right;\">0.0534768</td></tr>\n",
              "</tbody>\n",
              "</table>"
            ]
          },
          "metadata": {
            "tags": []
          }
        },
        {
          "output_type": "execute_result",
          "data": {
            "text/plain": [
              ""
            ]
          },
          "metadata": {
            "tags": []
          },
          "execution_count": 44
        }
      ]
    },
    {
      "cell_type": "code",
      "metadata": {
        "id": "Q4MOPtz1OWK4",
        "colab_type": "code",
        "colab": {}
      },
      "source": [
        "gbm_add_cols = H2OGradientBoostingEstimator(stopping_metric=\"AUC\", stopping_tolerance=0.001, stopping_rounds=5, score_tree_interval=10)"
      ],
      "execution_count": 45,
      "outputs": []
    },
    {
      "cell_type": "code",
      "metadata": {
        "id": "7CIbnESvOe_Q",
        "colab_type": "code",
        "colab": {
          "base_uri": "https://localhost:8080/",
          "height": 35
        },
        "outputId": "1a1e29b8-0972-43b3-8a2e-c67d519b5347"
      },
      "source": [
        "gbm_add_cols.train(x=['votes']+reviews_vecs.names,y='target',training_frame=h2o_train,validation_frame=h2o_valid)"
      ],
      "execution_count": 46,
      "outputs": [
        {
          "output_type": "stream",
          "text": [
            "gbm Model Build progress: |███████████████████████████████████████████████| 100%\n"
          ],
          "name": "stdout"
        }
      ]
    },
    {
      "cell_type": "code",
      "metadata": {
        "id": "72f8bL35O41T",
        "colab_type": "code",
        "colab": {
          "base_uri": "https://localhost:8080/",
          "height": 35
        },
        "outputId": "81f7c714-c72c-4da8-9a97-b7534267d794"
      },
      "source": [
        "print(\"Add Columns AUC : \" + str(round(gbm_add_cols.auc(valid=True),3)))"
      ],
      "execution_count": 47,
      "outputs": [
        {
          "output_type": "stream",
          "text": [
            "Add Columns AUC : 0.879\n"
          ],
          "name": "stdout"
        }
      ]
    },
    {
      "cell_type": "code",
      "metadata": {
        "id": "C9CiTKx0PBUK",
        "colab_type": "code",
        "colab": {
          "base_uri": "https://localhost:8080/",
          "height": 180
        },
        "outputId": "4b1525d1-ad67-4363-bdb5-bb9103257f47"
      },
      "source": [
        "gbm_add_cols.confusion_matrix(valid=True)"
      ],
      "execution_count": 48,
      "outputs": [
        {
          "output_type": "stream",
          "text": [
            "\n",
            "Confusion Matrix (Act/Pred) for max f1 @ threshold = 0.5334125126562173: \n"
          ],
          "name": "stdout"
        },
        {
          "output_type": "display_data",
          "data": {
            "text/html": [
              "<div>\n",
              "<style scoped>\n",
              "    .dataframe tbody tr th:only-of-type {\n",
              "        vertical-align: middle;\n",
              "    }\n",
              "\n",
              "    .dataframe tbody tr th {\n",
              "        vertical-align: top;\n",
              "    }\n",
              "\n",
              "    .dataframe thead th {\n",
              "        text-align: right;\n",
              "    }\n",
              "</style>\n",
              "<table border=\"1\" class=\"dataframe\">\n",
              "  <thead>\n",
              "    <tr style=\"text-align: right;\">\n",
              "      <th></th>\n",
              "      <th></th>\n",
              "      <th>0</th>\n",
              "      <th>1</th>\n",
              "      <th>Error</th>\n",
              "      <th>Rate</th>\n",
              "    </tr>\n",
              "  </thead>\n",
              "  <tbody>\n",
              "    <tr>\n",
              "      <th>0</th>\n",
              "      <td>0</td>\n",
              "      <td>2611.0</td>\n",
              "      <td>2040.0</td>\n",
              "      <td>0.4386</td>\n",
              "      <td>(2040.0/4651.0)</td>\n",
              "    </tr>\n",
              "    <tr>\n",
              "      <th>1</th>\n",
              "      <td>1</td>\n",
              "      <td>762.0</td>\n",
              "      <td>11807.0</td>\n",
              "      <td>0.0606</td>\n",
              "      <td>(762.0/12569.0)</td>\n",
              "    </tr>\n",
              "    <tr>\n",
              "      <th>2</th>\n",
              "      <td>Total</td>\n",
              "      <td>3373.0</td>\n",
              "      <td>13847.0</td>\n",
              "      <td>0.1627</td>\n",
              "      <td>(2802.0/17220.0)</td>\n",
              "    </tr>\n",
              "  </tbody>\n",
              "</table>\n",
              "</div>"
            ],
            "text/plain": [
              "               0        1   Error               Rate\n",
              "0      0  2611.0   2040.0  0.4386    (2040.0/4651.0)\n",
              "1      1   762.0  11807.0  0.0606    (762.0/12569.0)\n",
              "2  Total  3373.0  13847.0  0.1627   (2802.0/17220.0)"
            ]
          },
          "metadata": {
            "tags": []
          }
        },
        {
          "output_type": "execute_result",
          "data": {
            "text/plain": [
              ""
            ]
          },
          "metadata": {
            "tags": []
          },
          "execution_count": 48
        }
      ]
    },
    {
      "cell_type": "code",
      "metadata": {
        "id": "q7_N7dqAPNGy",
        "colab_type": "code",
        "colab": {}
      },
      "source": [
        "headlines_vecs=vec_model.transform(words_headline,aggregate_method=\"AVERAGE\")\n",
        "headlines_vecs.names=[\"headline_\" + s for s in headlines_vecs.names]\n",
        "#as c1, c2 etc is already used by the first vector for review_vecs prefix headline in front of each of the vector column names"
      ],
      "execution_count": 49,
      "outputs": []
    },
    {
      "cell_type": "code",
      "metadata": {
        "id": "raT-TAZeP4U8",
        "colab_type": "code",
        "colab": {
          "base_uri": "https://localhost:8080/",
          "height": 274
        },
        "outputId": "5f941309-f28e-4f3f-85d6-945bf4281d52"
      },
      "source": [
        "headlines_vecs.head()"
      ],
      "execution_count": 50,
      "outputs": [
        {
          "output_type": "display_data",
          "data": {
            "text/html": [
              "<table>\n",
              "<thead>\n",
              "<tr><th style=\"text-align: right;\">  headline_C1</th><th style=\"text-align: right;\">  headline_C2</th><th style=\"text-align: right;\">  headline_C3</th><th style=\"text-align: right;\">  headline_C4</th><th style=\"text-align: right;\">  headline_C5</th><th style=\"text-align: right;\">  headline_C6</th><th style=\"text-align: right;\">  headline_C7</th><th style=\"text-align: right;\">  headline_C8</th><th style=\"text-align: right;\">  headline_C9</th><th style=\"text-align: right;\">  headline_C10</th><th style=\"text-align: right;\">  headline_C11</th><th style=\"text-align: right;\">  headline_C12</th><th style=\"text-align: right;\">  headline_C13</th><th style=\"text-align: right;\">  headline_C14</th><th style=\"text-align: right;\">  headline_C15</th><th style=\"text-align: right;\">  headline_C16</th><th style=\"text-align: right;\">  headline_C17</th><th style=\"text-align: right;\">  headline_C18</th><th style=\"text-align: right;\">  headline_C19</th><th style=\"text-align: right;\">  headline_C20</th><th style=\"text-align: right;\">  headline_C21</th><th style=\"text-align: right;\">  headline_C22</th><th style=\"text-align: right;\">  headline_C23</th><th style=\"text-align: right;\">  headline_C24</th><th style=\"text-align: right;\">  headline_C25</th><th style=\"text-align: right;\">  headline_C26</th><th style=\"text-align: right;\">  headline_C27</th><th style=\"text-align: right;\">  headline_C28</th><th style=\"text-align: right;\">  headline_C29</th><th style=\"text-align: right;\">  headline_C30</th><th style=\"text-align: right;\">  headline_C31</th><th style=\"text-align: right;\">  headline_C32</th><th style=\"text-align: right;\">  headline_C33</th><th style=\"text-align: right;\">  headline_C34</th><th style=\"text-align: right;\">  headline_C35</th><th style=\"text-align: right;\">  headline_C36</th><th style=\"text-align: right;\">  headline_C37</th><th style=\"text-align: right;\">  headline_C38</th><th style=\"text-align: right;\">  headline_C39</th><th style=\"text-align: right;\">  headline_C40</th><th style=\"text-align: right;\">  headline_C41</th><th style=\"text-align: right;\">  headline_C42</th><th style=\"text-align: right;\">  headline_C43</th><th style=\"text-align: right;\">  headline_C44</th><th style=\"text-align: right;\">  headline_C45</th><th style=\"text-align: right;\">  headline_C46</th><th style=\"text-align: right;\">  headline_C47</th><th style=\"text-align: right;\">  headline_C48</th><th style=\"text-align: right;\">  headline_C49</th><th style=\"text-align: right;\">  headline_C50</th><th style=\"text-align: right;\">  headline_C51</th><th style=\"text-align: right;\">  headline_C52</th><th style=\"text-align: right;\">  headline_C53</th><th style=\"text-align: right;\">  headline_C54</th><th style=\"text-align: right;\">  headline_C55</th><th style=\"text-align: right;\">  headline_C56</th><th style=\"text-align: right;\">  headline_C57</th><th style=\"text-align: right;\">  headline_C58</th><th style=\"text-align: right;\">  headline_C59</th><th style=\"text-align: right;\">  headline_C60</th><th style=\"text-align: right;\">  headline_C61</th><th style=\"text-align: right;\">  headline_C62</th><th style=\"text-align: right;\">  headline_C63</th><th style=\"text-align: right;\">  headline_C64</th><th style=\"text-align: right;\">  headline_C65</th><th style=\"text-align: right;\">  headline_C66</th><th style=\"text-align: right;\">  headline_C67</th><th style=\"text-align: right;\">  headline_C68</th><th style=\"text-align: right;\">  headline_C69</th><th style=\"text-align: right;\">  headline_C70</th><th style=\"text-align: right;\">  headline_C71</th><th style=\"text-align: right;\">  headline_C72</th><th style=\"text-align: right;\">  headline_C73</th><th style=\"text-align: right;\">  headline_C74</th><th style=\"text-align: right;\">  headline_C75</th><th style=\"text-align: right;\">  headline_C76</th><th style=\"text-align: right;\">  headline_C77</th><th style=\"text-align: right;\">  headline_C78</th><th style=\"text-align: right;\">  headline_C79</th><th style=\"text-align: right;\">  headline_C80</th><th style=\"text-align: right;\">  headline_C81</th><th style=\"text-align: right;\">  headline_C82</th><th style=\"text-align: right;\">  headline_C83</th><th style=\"text-align: right;\">  headline_C84</th><th style=\"text-align: right;\">  headline_C85</th><th style=\"text-align: right;\">  headline_C86</th><th style=\"text-align: right;\">  headline_C87</th><th style=\"text-align: right;\">  headline_C88</th><th style=\"text-align: right;\">  headline_C89</th><th style=\"text-align: right;\">  headline_C90</th><th style=\"text-align: right;\">  headline_C91</th><th style=\"text-align: right;\">  headline_C92</th><th style=\"text-align: right;\">  headline_C93</th><th style=\"text-align: right;\">  headline_C94</th><th style=\"text-align: right;\">  headline_C95</th><th style=\"text-align: right;\">  headline_C96</th><th style=\"text-align: right;\">  headline_C97</th><th style=\"text-align: right;\">  headline_C98</th><th style=\"text-align: right;\">  headline_C99</th><th style=\"text-align: right;\">  headline_C100</th></tr>\n",
              "</thead>\n",
              "<tbody>\n",
              "<tr><td style=\"text-align: right;\">  0.0207165  </td><td style=\"text-align: right;\">  -0.309267  </td><td style=\"text-align: right;\">   -0.0587597</td><td style=\"text-align: right;\">  -0.164662  </td><td style=\"text-align: right;\">   0.179497  </td><td style=\"text-align: right;\"> -0.219314   </td><td style=\"text-align: right;\">   -0.0149423</td><td style=\"text-align: right;\">   0.0774067 </td><td style=\"text-align: right;\">   -0.0582724</td><td style=\"text-align: right;\">    -0.0258747</td><td style=\"text-align: right;\">    -0.180603 </td><td style=\"text-align: right;\">     0.0119489</td><td style=\"text-align: right;\">    -0.0622734</td><td style=\"text-align: right;\">    0.00604478</td><td style=\"text-align: right;\">     0.154776 </td><td style=\"text-align: right;\">    -0.0131359</td><td style=\"text-align: right;\">     0.123391 </td><td style=\"text-align: right;\">    -0.17241  </td><td style=\"text-align: right;\">    -0.0111863</td><td style=\"text-align: right;\">    -0.157061 </td><td style=\"text-align: right;\">    -0.0310662</td><td style=\"text-align: right;\">     0.142685 </td><td style=\"text-align: right;\">    -0.0304263</td><td style=\"text-align: right;\">     0.0346584</td><td style=\"text-align: right;\">   -0.128878  </td><td style=\"text-align: right;\">   -0.00777537</td><td style=\"text-align: right;\">    0.0771321 </td><td style=\"text-align: right;\">    -0.118994 </td><td style=\"text-align: right;\">     0.224436 </td><td style=\"text-align: right;\">   -0.0863963 </td><td style=\"text-align: right;\">   0.0256919  </td><td style=\"text-align: right;\">     0.0283769</td><td style=\"text-align: right;\">     -0.234518</td><td style=\"text-align: right;\">     0.0985249</td><td style=\"text-align: right;\">    -0.0665196</td><td style=\"text-align: right;\">     0.0827546</td><td style=\"text-align: right;\">    -0.0726011</td><td style=\"text-align: right;\">    -0.0992042</td><td style=\"text-align: right;\">   0.0181308  </td><td style=\"text-align: right;\">   -0.0778129 </td><td style=\"text-align: right;\">    0.068891  </td><td style=\"text-align: right;\">    -0.0600325</td><td style=\"text-align: right;\">     0.0370554</td><td style=\"text-align: right;\">   -0.00700648</td><td style=\"text-align: right;\">    -0.278298 </td><td style=\"text-align: right;\">     0.048228 </td><td style=\"text-align: right;\">     0.23831  </td><td style=\"text-align: right;\">     0.124641 </td><td style=\"text-align: right;\">    -0.194524 </td><td style=\"text-align: right;\">    -0.464733 </td><td style=\"text-align: right;\">    -0.100868 </td><td style=\"text-align: right;\">    0.0464421 </td><td style=\"text-align: right;\">     0.0981902</td><td style=\"text-align: right;\">    -0.101173 </td><td style=\"text-align: right;\">    -0.125509 </td><td style=\"text-align: right;\">    -0.0481144</td><td style=\"text-align: right;\">    -0.128142 </td><td style=\"text-align: right;\">   -0.0205259 </td><td style=\"text-align: right;\">    -0.0911826</td><td style=\"text-align: right;\">     0.0512818</td><td style=\"text-align: right;\">    -0.0286987</td><td style=\"text-align: right;\">    -0.10119  </td><td style=\"text-align: right;\">    0.0490027 </td><td style=\"text-align: right;\">     0.0508589</td><td style=\"text-align: right;\">     0.115349 </td><td style=\"text-align: right;\">    0.0281707 </td><td style=\"text-align: right;\">    -0.0625311</td><td style=\"text-align: right;\">     0.266604 </td><td style=\"text-align: right;\">     0.123621 </td><td style=\"text-align: right;\">    -0.0733469</td><td style=\"text-align: right;\">    0.181039  </td><td style=\"text-align: right;\">    -0.0184078</td><td style=\"text-align: right;\">    -0.128164 </td><td style=\"text-align: right;\">     0.222123 </td><td style=\"text-align: right;\">    -0.169971 </td><td style=\"text-align: right;\">    -0.0219005</td><td style=\"text-align: right;\">     0.158633 </td><td style=\"text-align: right;\">    0.00552763</td><td style=\"text-align: right;\">     0.0890087</td><td style=\"text-align: right;\">    -0.0274979</td><td style=\"text-align: right;\">     0.0425633</td><td style=\"text-align: right;\">    0.119161  </td><td style=\"text-align: right;\">     0.0107159</td><td style=\"text-align: right;\">    0.127502  </td><td style=\"text-align: right;\">    0.00336787</td><td style=\"text-align: right;\">     0.0364779</td><td style=\"text-align: right;\">     0.0639882</td><td style=\"text-align: right;\">     0.171896 </td><td style=\"text-align: right;\">   -0.275646  </td><td style=\"text-align: right;\">     0.216863 </td><td style=\"text-align: right;\">   -0.0228025 </td><td style=\"text-align: right;\">     0.193017 </td><td style=\"text-align: right;\">     0.0346628</td><td style=\"text-align: right;\">     0.288903 </td><td style=\"text-align: right;\">   -0.13105   </td><td style=\"text-align: right;\">    -0.213865 </td><td style=\"text-align: right;\">    -0.0617236</td><td style=\"text-align: right;\">     0.255557 </td><td style=\"text-align: right;\">    -0.0279574</td><td style=\"text-align: right;\">      0.0838517</td></tr>\n",
              "<tr><td style=\"text-align: right;\"> -0.069235   </td><td style=\"text-align: right;\">  -0.150206  </td><td style=\"text-align: right;\">   -0.0806968</td><td style=\"text-align: right;\">  -0.00486739</td><td style=\"text-align: right;\">  -0.079584  </td><td style=\"text-align: right;\"> -0.131473   </td><td style=\"text-align: right;\">   -0.0473675</td><td style=\"text-align: right;\">  -0.112814  </td><td style=\"text-align: right;\">   -0.0704574</td><td style=\"text-align: right;\">    -0.0694321</td><td style=\"text-align: right;\">    -0.0318351</td><td style=\"text-align: right;\">    -0.102676 </td><td style=\"text-align: right;\">     0.175916 </td><td style=\"text-align: right;\">   -0.0719714 </td><td style=\"text-align: right;\">     0.118815 </td><td style=\"text-align: right;\">    -0.0703345</td><td style=\"text-align: right;\">     0.0212811</td><td style=\"text-align: right;\">     0.0944099</td><td style=\"text-align: right;\">    -0.0317085</td><td style=\"text-align: right;\">    -0.165305 </td><td style=\"text-align: right;\">    -0.232028 </td><td style=\"text-align: right;\">    -0.0266308</td><td style=\"text-align: right;\">    -0.0399047</td><td style=\"text-align: right;\">     0.186181 </td><td style=\"text-align: right;\">   -0.0525883 </td><td style=\"text-align: right;\">   -0.265084  </td><td style=\"text-align: right;\">   -0.16375   </td><td style=\"text-align: right;\">     0.048316 </td><td style=\"text-align: right;\">    -0.0989517</td><td style=\"text-align: right;\">    0.0119633 </td><td style=\"text-align: right;\">  -0.0209347  </td><td style=\"text-align: right;\">     0.0356752</td><td style=\"text-align: right;\">     -0.268284</td><td style=\"text-align: right;\">     0.104023 </td><td style=\"text-align: right;\">     0.061998 </td><td style=\"text-align: right;\">     0.162205 </td><td style=\"text-align: right;\">    -0.0546325</td><td style=\"text-align: right;\">     0.015563 </td><td style=\"text-align: right;\">   0.0971732  </td><td style=\"text-align: right;\">   -0.0670941 </td><td style=\"text-align: right;\">   -0.0747684 </td><td style=\"text-align: right;\">     0.0474658</td><td style=\"text-align: right;\">    -0.0999028</td><td style=\"text-align: right;\">    0.276946  </td><td style=\"text-align: right;\">    -0.133805 </td><td style=\"text-align: right;\">    -0.0101411</td><td style=\"text-align: right;\">     0.110676 </td><td style=\"text-align: right;\">    -0.101349 </td><td style=\"text-align: right;\">    -0.0846309</td><td style=\"text-align: right;\">    -0.155525 </td><td style=\"text-align: right;\">    -0.0712812</td><td style=\"text-align: right;\">    0.140123  </td><td style=\"text-align: right;\">     0.0317575</td><td style=\"text-align: right;\">    -0.0440737</td><td style=\"text-align: right;\">    -0.0990862</td><td style=\"text-align: right;\">     0.074391 </td><td style=\"text-align: right;\">    -0.217399 </td><td style=\"text-align: right;\">   -0.00419543</td><td style=\"text-align: right;\">    -0.115238 </td><td style=\"text-align: right;\">    -0.0130078</td><td style=\"text-align: right;\">     0.0490016</td><td style=\"text-align: right;\">    -0.2037   </td><td style=\"text-align: right;\">   -0.0114638 </td><td style=\"text-align: right;\">     0.0539411</td><td style=\"text-align: right;\">    -0.151112 </td><td style=\"text-align: right;\">    0.183209  </td><td style=\"text-align: right;\">     0.106995 </td><td style=\"text-align: right;\">    -0.110198 </td><td style=\"text-align: right;\">     0.123336 </td><td style=\"text-align: right;\">    -0.160078 </td><td style=\"text-align: right;\">    0.0954924 </td><td style=\"text-align: right;\">    -0.0240308</td><td style=\"text-align: right;\">     0.0549689</td><td style=\"text-align: right;\">     0.195437 </td><td style=\"text-align: right;\">    -0.208423 </td><td style=\"text-align: right;\">     0.0126573</td><td style=\"text-align: right;\">     0.12176  </td><td style=\"text-align: right;\">   -0.206038  </td><td style=\"text-align: right;\">     0.028517 </td><td style=\"text-align: right;\">     0.0296942</td><td style=\"text-align: right;\">    -0.072735 </td><td style=\"text-align: right;\">   -0.00793166</td><td style=\"text-align: right;\">     0.018384 </td><td style=\"text-align: right;\">    0.114635  </td><td style=\"text-align: right;\">   -0.152088  </td><td style=\"text-align: right;\">    -0.105512 </td><td style=\"text-align: right;\">     0.195814 </td><td style=\"text-align: right;\">     0.101283 </td><td style=\"text-align: right;\">   -0.10135   </td><td style=\"text-align: right;\">     0.294679 </td><td style=\"text-align: right;\">   -0.0975818 </td><td style=\"text-align: right;\">     0.0922493</td><td style=\"text-align: right;\">    -0.0291636</td><td style=\"text-align: right;\">     0.0841959</td><td style=\"text-align: right;\">   -0.0100626 </td><td style=\"text-align: right;\">     0.101986 </td><td style=\"text-align: right;\">     0.212848 </td><td style=\"text-align: right;\">     0.0820847</td><td style=\"text-align: right;\">     0.0680144</td><td style=\"text-align: right;\">      0.252363 </td></tr>\n",
              "<tr><td style=\"text-align: right;\">  0.0684703  </td><td style=\"text-align: right;\">  -0.0757557 </td><td style=\"text-align: right;\">   -0.107042 </td><td style=\"text-align: right;\">   0.0967334 </td><td style=\"text-align: right;\">   0.00380758</td><td style=\"text-align: right;\">  0.0742053  </td><td style=\"text-align: right;\">   -0.182974 </td><td style=\"text-align: right;\">   0.00610216</td><td style=\"text-align: right;\">   -0.185798 </td><td style=\"text-align: right;\">     0.171026 </td><td style=\"text-align: right;\">    -0.201507 </td><td style=\"text-align: right;\">    -0.0133775</td><td style=\"text-align: right;\">     0.110332 </td><td style=\"text-align: right;\">    0.412494  </td><td style=\"text-align: right;\">     0.0908189</td><td style=\"text-align: right;\">    -0.0179626</td><td style=\"text-align: right;\">    -0.103182 </td><td style=\"text-align: right;\">     0.0688276</td><td style=\"text-align: right;\">    -0.0125708</td><td style=\"text-align: right;\">     0.0187284</td><td style=\"text-align: right;\">     0.128675 </td><td style=\"text-align: right;\">     0.146123 </td><td style=\"text-align: right;\">    -0.0409603</td><td style=\"text-align: right;\">     0.0878347</td><td style=\"text-align: right;\">   -0.108859  </td><td style=\"text-align: right;\">   -0.127715  </td><td style=\"text-align: right;\">    0.0432353 </td><td style=\"text-align: right;\">    -0.277417 </td><td style=\"text-align: right;\">     0.186638 </td><td style=\"text-align: right;\">    0.0999607 </td><td style=\"text-align: right;\">   0.187024   </td><td style=\"text-align: right;\">    -0.0694069</td><td style=\"text-align: right;\">     -0.35033 </td><td style=\"text-align: right;\">     0.0570517</td><td style=\"text-align: right;\">     0.244523 </td><td style=\"text-align: right;\">     0.12254  </td><td style=\"text-align: right;\">    -0.141159 </td><td style=\"text-align: right;\">    -0.24475  </td><td style=\"text-align: right;\">  -0.128139   </td><td style=\"text-align: right;\">   -0.00974368</td><td style=\"text-align: right;\">   -0.0878178 </td><td style=\"text-align: right;\">     0.0206129</td><td style=\"text-align: right;\">    -0.136592 </td><td style=\"text-align: right;\">    0.118049  </td><td style=\"text-align: right;\">    -0.201093 </td><td style=\"text-align: right;\">    -0.134255 </td><td style=\"text-align: right;\">     0.263094 </td><td style=\"text-align: right;\">     0.0541073</td><td style=\"text-align: right;\">     0.0338704</td><td style=\"text-align: right;\">    -0.357794 </td><td style=\"text-align: right;\">     0.158279 </td><td style=\"text-align: right;\">    0.0461149 </td><td style=\"text-align: right;\">     0.0651351</td><td style=\"text-align: right;\">    -0.0821598</td><td style=\"text-align: right;\">    -0.202092 </td><td style=\"text-align: right;\">     0.0565505</td><td style=\"text-align: right;\">    -0.460265 </td><td style=\"text-align: right;\">   -0.105797  </td><td style=\"text-align: right;\">     0.0471846</td><td style=\"text-align: right;\">     0.0195285</td><td style=\"text-align: right;\">    -0.0195664</td><td style=\"text-align: right;\">    -0.250188 </td><td style=\"text-align: right;\">    0.0336813 </td><td style=\"text-align: right;\">    -0.195064 </td><td style=\"text-align: right;\">     0.135782 </td><td style=\"text-align: right;\">   -0.0140406 </td><td style=\"text-align: right;\">    -0.119457 </td><td style=\"text-align: right;\">     0.0711779</td><td style=\"text-align: right;\">     0.0402941</td><td style=\"text-align: right;\">     0.0665667</td><td style=\"text-align: right;\">   -0.0187555 </td><td style=\"text-align: right;\">    -0.10836  </td><td style=\"text-align: right;\">    -0.0755072</td><td style=\"text-align: right;\">    -0.14699  </td><td style=\"text-align: right;\">     0.0413275</td><td style=\"text-align: right;\">    -0.158784 </td><td style=\"text-align: right;\">     0.119172 </td><td style=\"text-align: right;\">    0.10701   </td><td style=\"text-align: right;\">     0.0252208</td><td style=\"text-align: right;\">    -0.113392 </td><td style=\"text-align: right;\">     0.220708 </td><td style=\"text-align: right;\">   -0.00913466</td><td style=\"text-align: right;\">     0.083099 </td><td style=\"text-align: right;\">    0.149507  </td><td style=\"text-align: right;\">   -0.105878  </td><td style=\"text-align: right;\">    -0.253718 </td><td style=\"text-align: right;\">     0.10871  </td><td style=\"text-align: right;\">     0.152719 </td><td style=\"text-align: right;\">   -0.33603   </td><td style=\"text-align: right;\">     0.189413 </td><td style=\"text-align: right;\">    0.0716144 </td><td style=\"text-align: right;\">     0.0762503</td><td style=\"text-align: right;\">    -0.0587918</td><td style=\"text-align: right;\">     0.14955  </td><td style=\"text-align: right;\">    0.051377  </td><td style=\"text-align: right;\">    -0.239752 </td><td style=\"text-align: right;\">     0.0191872</td><td style=\"text-align: right;\">    -0.0283184</td><td style=\"text-align: right;\">    -0.0215725</td><td style=\"text-align: right;\">      0.0393097</td></tr>\n",
              "<tr><td style=\"text-align: right;\">  0.204449   </td><td style=\"text-align: right;\">   0.0386097 </td><td style=\"text-align: right;\">    0.532448 </td><td style=\"text-align: right;\">   0.169348  </td><td style=\"text-align: right;\">   0.0917133 </td><td style=\"text-align: right;\"> -0.340883   </td><td style=\"text-align: right;\">   -0.184571 </td><td style=\"text-align: right;\">  -0.0763462 </td><td style=\"text-align: right;\">   -0.380177 </td><td style=\"text-align: right;\">     0.106013 </td><td style=\"text-align: right;\">    -0.141037 </td><td style=\"text-align: right;\">    -0.111163 </td><td style=\"text-align: right;\">    -0.228151 </td><td style=\"text-align: right;\">    0.128005  </td><td style=\"text-align: right;\">     0.418107 </td><td style=\"text-align: right;\">     0.29788  </td><td style=\"text-align: right;\">     0.226527 </td><td style=\"text-align: right;\">     0.0798965</td><td style=\"text-align: right;\">    -0.086093 </td><td style=\"text-align: right;\">    -0.195354 </td><td style=\"text-align: right;\">     0.0234018</td><td style=\"text-align: right;\">     0.294483 </td><td style=\"text-align: right;\">     0.148234 </td><td style=\"text-align: right;\">     0.136449 </td><td style=\"text-align: right;\">    0.180397  </td><td style=\"text-align: right;\">   -0.411262  </td><td style=\"text-align: right;\">   -0.00222372</td><td style=\"text-align: right;\">     0.171936 </td><td style=\"text-align: right;\">    -0.149354 </td><td style=\"text-align: right;\">    0.172357  </td><td style=\"text-align: right;\">   0.373606   </td><td style=\"text-align: right;\">    -0.216972 </td><td style=\"text-align: right;\">     -0.169642</td><td style=\"text-align: right;\">    -0.0289283</td><td style=\"text-align: right;\">    -0.255906 </td><td style=\"text-align: right;\">    -0.212202 </td><td style=\"text-align: right;\">     0.163423 </td><td style=\"text-align: right;\">     0.245335 </td><td style=\"text-align: right;\">   0.0172503  </td><td style=\"text-align: right;\">    0.109061  </td><td style=\"text-align: right;\">    0.203192  </td><td style=\"text-align: right;\">    -0.126162 </td><td style=\"text-align: right;\">     0.41967  </td><td style=\"text-align: right;\">    0.236346  </td><td style=\"text-align: right;\">     0.288813 </td><td style=\"text-align: right;\">     0.136734 </td><td style=\"text-align: right;\">     0.0866737</td><td style=\"text-align: right;\">    -0.210719 </td><td style=\"text-align: right;\">     0.106438 </td><td style=\"text-align: right;\">    -0.226264 </td><td style=\"text-align: right;\">    -0.474725 </td><td style=\"text-align: right;\">    0.240247  </td><td style=\"text-align: right;\">    -0.117292 </td><td style=\"text-align: right;\">    -0.243104 </td><td style=\"text-align: right;\">     0.147802 </td><td style=\"text-align: right;\">     0.348796 </td><td style=\"text-align: right;\">    -0.436637 </td><td style=\"text-align: right;\">    0.0833558 </td><td style=\"text-align: right;\">     0.0456809</td><td style=\"text-align: right;\">    -0.289131 </td><td style=\"text-align: right;\">    -0.268833 </td><td style=\"text-align: right;\">     0.116154 </td><td style=\"text-align: right;\">    0.200254  </td><td style=\"text-align: right;\">    -0.352757 </td><td style=\"text-align: right;\">    -0.0922589</td><td style=\"text-align: right;\">    0.0751723 </td><td style=\"text-align: right;\">     0.0853871</td><td style=\"text-align: right;\">    -0.0898386</td><td style=\"text-align: right;\">     0.027006 </td><td style=\"text-align: right;\">    -0.300839 </td><td style=\"text-align: right;\">   -0.1224    </td><td style=\"text-align: right;\">    -0.136108 </td><td style=\"text-align: right;\">     0.194885 </td><td style=\"text-align: right;\">     0.295271 </td><td style=\"text-align: right;\">     0.30909  </td><td style=\"text-align: right;\">     0.137938 </td><td style=\"text-align: right;\">     0.143729 </td><td style=\"text-align: right;\">   -0.0391511 </td><td style=\"text-align: right;\">     0.119922 </td><td style=\"text-align: right;\">     0.0543674</td><td style=\"text-align: right;\">     0.411743 </td><td style=\"text-align: right;\">    0.20421   </td><td style=\"text-align: right;\">    -0.0358131</td><td style=\"text-align: right;\">    0.134711  </td><td style=\"text-align: right;\">    0.0147891 </td><td style=\"text-align: right;\">     0.4069   </td><td style=\"text-align: right;\">    -0.104619 </td><td style=\"text-align: right;\">    -0.418279 </td><td style=\"text-align: right;\">   -0.444282  </td><td style=\"text-align: right;\">     0.607014 </td><td style=\"text-align: right;\">   -0.00831784</td><td style=\"text-align: right;\">     0.0682735</td><td style=\"text-align: right;\">    -0.113572 </td><td style=\"text-align: right;\">    -0.0269616</td><td style=\"text-align: right;\">   -0.00341457</td><td style=\"text-align: right;\">     0.0782182</td><td style=\"text-align: right;\">     0.136957 </td><td style=\"text-align: right;\">     0.203008 </td><td style=\"text-align: right;\">     0.328311 </td><td style=\"text-align: right;\">      0.353926 </td></tr>\n",
              "<tr><td style=\"text-align: right;\">  0.00476355 </td><td style=\"text-align: right;\">   0.105188  </td><td style=\"text-align: right;\">    0.191555 </td><td style=\"text-align: right;\">   0.0740499 </td><td style=\"text-align: right;\">   0.115519  </td><td style=\"text-align: right;\"> -0.247936   </td><td style=\"text-align: right;\">   -0.0160819</td><td style=\"text-align: right;\">   0.00670416</td><td style=\"text-align: right;\">   -0.033883 </td><td style=\"text-align: right;\">    -0.292712 </td><td style=\"text-align: right;\">    -0.0620749</td><td style=\"text-align: right;\">     0.0887281</td><td style=\"text-align: right;\">    -0.0923853</td><td style=\"text-align: right;\">    0.031657  </td><td style=\"text-align: right;\">     0.0153692</td><td style=\"text-align: right;\">    -0.139216 </td><td style=\"text-align: right;\">     0.0348084</td><td style=\"text-align: right;\">    -0.21489  </td><td style=\"text-align: right;\">    -0.0583529</td><td style=\"text-align: right;\">    -0.289629 </td><td style=\"text-align: right;\">    -0.0182439</td><td style=\"text-align: right;\">    -0.0131628</td><td style=\"text-align: right;\">     0.198581 </td><td style=\"text-align: right;\">     0.0123359</td><td style=\"text-align: right;\">    0.168719  </td><td style=\"text-align: right;\">    0.113344  </td><td style=\"text-align: right;\">   -0.0270825 </td><td style=\"text-align: right;\">    -0.255327 </td><td style=\"text-align: right;\">    -0.292885 </td><td style=\"text-align: right;\">   -0.00454199</td><td style=\"text-align: right;\">   0.000665406</td><td style=\"text-align: right;\">    -0.133403 </td><td style=\"text-align: right;\">     -0.097644</td><td style=\"text-align: right;\">     0.0224388</td><td style=\"text-align: right;\">     0.0929396</td><td style=\"text-align: right;\">    -0.243604 </td><td style=\"text-align: right;\">    -0.0520801</td><td style=\"text-align: right;\">     0.114108 </td><td style=\"text-align: right;\">   0.0193516  </td><td style=\"text-align: right;\">   -0.038503  </td><td style=\"text-align: right;\">    0.204581  </td><td style=\"text-align: right;\">    -0.171839 </td><td style=\"text-align: right;\">    -0.0345395</td><td style=\"text-align: right;\">    0.115503  </td><td style=\"text-align: right;\">    -0.0300872</td><td style=\"text-align: right;\">    -0.0226673</td><td style=\"text-align: right;\">     0.0940854</td><td style=\"text-align: right;\">    -0.0830168</td><td style=\"text-align: right;\">     0.154723 </td><td style=\"text-align: right;\">     0.153645 </td><td style=\"text-align: right;\">    -0.11321  </td><td style=\"text-align: right;\">    0.29233   </td><td style=\"text-align: right;\">     0.0264699</td><td style=\"text-align: right;\">    -0.0475038</td><td style=\"text-align: right;\">     0.149604 </td><td style=\"text-align: right;\">    -0.0364623</td><td style=\"text-align: right;\">    -0.229839 </td><td style=\"text-align: right;\">   -0.116452  </td><td style=\"text-align: right;\">    -0.0939   </td><td style=\"text-align: right;\">    -0.105288 </td><td style=\"text-align: right;\">    -0.0560505</td><td style=\"text-align: right;\">    -0.0608472</td><td style=\"text-align: right;\">    0.00746748</td><td style=\"text-align: right;\">     0.0785033</td><td style=\"text-align: right;\">     0.0576537</td><td style=\"text-align: right;\">   -0.0645706 </td><td style=\"text-align: right;\">    -0.104558 </td><td style=\"text-align: right;\">     0.200202 </td><td style=\"text-align: right;\">    -0.0332658</td><td style=\"text-align: right;\">    -0.236005 </td><td style=\"text-align: right;\">    0.177995  </td><td style=\"text-align: right;\">     0.101876 </td><td style=\"text-align: right;\">    -0.12968  </td><td style=\"text-align: right;\">     0.0454212</td><td style=\"text-align: right;\">    -0.0764637</td><td style=\"text-align: right;\">    -0.064048 </td><td style=\"text-align: right;\">    -0.0684569</td><td style=\"text-align: right;\">    0.133884  </td><td style=\"text-align: right;\">     0.0242503</td><td style=\"text-align: right;\">    -0.0368984</td><td style=\"text-align: right;\">    -0.0615414</td><td style=\"text-align: right;\">   -0.212307  </td><td style=\"text-align: right;\">     0.0742945</td><td style=\"text-align: right;\">    0.190069  </td><td style=\"text-align: right;\">   -0.0355704 </td><td style=\"text-align: right;\">     0.0097312</td><td style=\"text-align: right;\">     0.0493197</td><td style=\"text-align: right;\">     0.039201 </td><td style=\"text-align: right;\">   -0.298923  </td><td style=\"text-align: right;\">     0.28019  </td><td style=\"text-align: right;\">   -0.3646    </td><td style=\"text-align: right;\">     0.0438283</td><td style=\"text-align: right;\">     0.0718095</td><td style=\"text-align: right;\">     0.317914 </td><td style=\"text-align: right;\">   -0.0926742 </td><td style=\"text-align: right;\">    -0.243239 </td><td style=\"text-align: right;\">    -0.176574 </td><td style=\"text-align: right;\">     0.224893 </td><td style=\"text-align: right;\">     0.0834422</td><td style=\"text-align: right;\">      0.235195 </td></tr>\n",
              "<tr><td style=\"text-align: right;\"> -0.147569   </td><td style=\"text-align: right;\">  -0.0490563 </td><td style=\"text-align: right;\">   -0.0979634</td><td style=\"text-align: right;\">   0.211676  </td><td style=\"text-align: right;\">   0.0862209 </td><td style=\"text-align: right;\"> -0.100828   </td><td style=\"text-align: right;\">    0.0429293</td><td style=\"text-align: right;\">  -0.0299176 </td><td style=\"text-align: right;\">   -0.0192619</td><td style=\"text-align: right;\">    -0.0248003</td><td style=\"text-align: right;\">    -0.0536158</td><td style=\"text-align: right;\">    -0.0282339</td><td style=\"text-align: right;\">    -0.120427 </td><td style=\"text-align: right;\">   -0.0731495 </td><td style=\"text-align: right;\">    -0.0403758</td><td style=\"text-align: right;\">    -0.151612 </td><td style=\"text-align: right;\">    -0.103779 </td><td style=\"text-align: right;\">    -0.0476686</td><td style=\"text-align: right;\">    -0.0320831</td><td style=\"text-align: right;\">    -0.0759227</td><td style=\"text-align: right;\">    -0.0878855</td><td style=\"text-align: right;\">     0.139935 </td><td style=\"text-align: right;\">     0.0676105</td><td style=\"text-align: right;\">     0.0235149</td><td style=\"text-align: right;\">   -0.0415096 </td><td style=\"text-align: right;\">    0.0082096 </td><td style=\"text-align: right;\">   -0.019811  </td><td style=\"text-align: right;\">    -0.0301018</td><td style=\"text-align: right;\">    -0.0736396</td><td style=\"text-align: right;\">    0.0438467 </td><td style=\"text-align: right;\">   0.016143   </td><td style=\"text-align: right;\">    -0.0400719</td><td style=\"text-align: right;\">     -0.141174</td><td style=\"text-align: right;\">     0.0711161</td><td style=\"text-align: right;\">     0.0252402</td><td style=\"text-align: right;\">     0.019139 </td><td style=\"text-align: right;\">    -0.200062 </td><td style=\"text-align: right;\">     0.0291833</td><td style=\"text-align: right;\">   0.0641828  </td><td style=\"text-align: right;\">   -0.0062028 </td><td style=\"text-align: right;\">   -0.00490454</td><td style=\"text-align: right;\">     0.0703162</td><td style=\"text-align: right;\">    -0.118595 </td><td style=\"text-align: right;\">   -0.0206174 </td><td style=\"text-align: right;\">    -0.175781 </td><td style=\"text-align: right;\">     0.051853 </td><td style=\"text-align: right;\">     0.025761 </td><td style=\"text-align: right;\">     0.0761798</td><td style=\"text-align: right;\">    -0.0854282</td><td style=\"text-align: right;\">    -0.279558 </td><td style=\"text-align: right;\">    -0.0517676</td><td style=\"text-align: right;\">    0.113708  </td><td style=\"text-align: right;\">     0.151913 </td><td style=\"text-align: right;\">    -0.12033  </td><td style=\"text-align: right;\">    -0.0687706</td><td style=\"text-align: right;\">     0.0156255</td><td style=\"text-align: right;\">    -0.1289   </td><td style=\"text-align: right;\">   -0.252861  </td><td style=\"text-align: right;\">     0.0399159</td><td style=\"text-align: right;\">    -0.0280349</td><td style=\"text-align: right;\">    -0.0250045</td><td style=\"text-align: right;\">     0.0504914</td><td style=\"text-align: right;\">    0.155506  </td><td style=\"text-align: right;\">    -0.0475848</td><td style=\"text-align: right;\">     0.068828 </td><td style=\"text-align: right;\">    0.179501  </td><td style=\"text-align: right;\">     0.117905 </td><td style=\"text-align: right;\">     0.133835 </td><td style=\"text-align: right;\">    -0.0494137</td><td style=\"text-align: right;\">    -0.0569516</td><td style=\"text-align: right;\">    0.0918785 </td><td style=\"text-align: right;\">    -0.113712 </td><td style=\"text-align: right;\">     0.019923 </td><td style=\"text-align: right;\">     0.135146 </td><td style=\"text-align: right;\">    -0.0841557</td><td style=\"text-align: right;\">    -0.112179 </td><td style=\"text-align: right;\">     0.119905 </td><td style=\"text-align: right;\">    0.10646   </td><td style=\"text-align: right;\">    -0.0168095</td><td style=\"text-align: right;\">    -0.165329 </td><td style=\"text-align: right;\">     0.0234603</td><td style=\"text-align: right;\">    0.107431  </td><td style=\"text-align: right;\">     0.104851 </td><td style=\"text-align: right;\">   -0.00374029</td><td style=\"text-align: right;\">   -0.0686385 </td><td style=\"text-align: right;\">    -0.0510563</td><td style=\"text-align: right;\">     0.366577 </td><td style=\"text-align: right;\">    -0.0146536</td><td style=\"text-align: right;\">   -0.112421  </td><td style=\"text-align: right;\">     0.19151  </td><td style=\"text-align: right;\">    0.0316064 </td><td style=\"text-align: right;\">     0.232334 </td><td style=\"text-align: right;\">     0.0652646</td><td style=\"text-align: right;\">     0.178228 </td><td style=\"text-align: right;\">   -0.195649  </td><td style=\"text-align: right;\">    -0.0221939</td><td style=\"text-align: right;\">     0.0648437</td><td style=\"text-align: right;\">     0.14029  </td><td style=\"text-align: right;\">    -0.0360149</td><td style=\"text-align: right;\">      0.181333 </td></tr>\n",
              "<tr><td style=\"text-align: right;\"> -0.000451587</td><td style=\"text-align: right;\">   0.175223  </td><td style=\"text-align: right;\">   -0.191661 </td><td style=\"text-align: right;\">   0.309409  </td><td style=\"text-align: right;\">  -0.218031  </td><td style=\"text-align: right;\"> -0.0577127  </td><td style=\"text-align: right;\">   -0.270925 </td><td style=\"text-align: right;\">   0.345701  </td><td style=\"text-align: right;\">   -0.0236741</td><td style=\"text-align: right;\">     0.113793 </td><td style=\"text-align: right;\">     0.104587 </td><td style=\"text-align: right;\">    -0.145921 </td><td style=\"text-align: right;\">    -0.0217362</td><td style=\"text-align: right;\">   -0.0582276 </td><td style=\"text-align: right;\">    -0.0497733</td><td style=\"text-align: right;\">     0.117373 </td><td style=\"text-align: right;\">    -0.0233605</td><td style=\"text-align: right;\">    -0.375628 </td><td style=\"text-align: right;\">    -0.0119172</td><td style=\"text-align: right;\">     0.150032 </td><td style=\"text-align: right;\">    -0.326526 </td><td style=\"text-align: right;\">     0.277667 </td><td style=\"text-align: right;\">     0.254678 </td><td style=\"text-align: right;\">     0.16296  </td><td style=\"text-align: right;\">    0.229265  </td><td style=\"text-align: right;\">    0.0511147 </td><td style=\"text-align: right;\">    0.427355  </td><td style=\"text-align: right;\">     0.0789241</td><td style=\"text-align: right;\">     0.164638 </td><td style=\"text-align: right;\">    0.0539986 </td><td style=\"text-align: right;\">  -0.00809309 </td><td style=\"text-align: right;\">     0.0367094</td><td style=\"text-align: right;\">     -0.201561</td><td style=\"text-align: right;\">     0.331112 </td><td style=\"text-align: right;\">     0.057319 </td><td style=\"text-align: right;\">    -0.225279 </td><td style=\"text-align: right;\">    -0.0138739</td><td style=\"text-align: right;\">     0.133168 </td><td style=\"text-align: right;\">  -0.0738551  </td><td style=\"text-align: right;\">    0.0150649 </td><td style=\"text-align: right;\">   -0.171473  </td><td style=\"text-align: right;\">     0.025493 </td><td style=\"text-align: right;\">     0.10312  </td><td style=\"text-align: right;\">    0.150625  </td><td style=\"text-align: right;\">    -0.10487  </td><td style=\"text-align: right;\">    -0.23496  </td><td style=\"text-align: right;\">     0.126612 </td><td style=\"text-align: right;\">     0.0165691</td><td style=\"text-align: right;\">     0.0149598</td><td style=\"text-align: right;\">    -0.024058 </td><td style=\"text-align: right;\">     0.174699 </td><td style=\"text-align: right;\">   -0.0853938 </td><td style=\"text-align: right;\">     0.317711 </td><td style=\"text-align: right;\">    -0.362973 </td><td style=\"text-align: right;\">    -0.229256 </td><td style=\"text-align: right;\">     0.128448 </td><td style=\"text-align: right;\">    -0.141131 </td><td style=\"text-align: right;\">    0.0365502 </td><td style=\"text-align: right;\">    -0.147107 </td><td style=\"text-align: right;\">     0.0205775</td><td style=\"text-align: right;\">    -0.217877 </td><td style=\"text-align: right;\">     0.555252 </td><td style=\"text-align: right;\">   -0.145582  </td><td style=\"text-align: right;\">     0.125207 </td><td style=\"text-align: right;\">     0.361534 </td><td style=\"text-align: right;\">   -0.153929  </td><td style=\"text-align: right;\">     0.157863 </td><td style=\"text-align: right;\">    -0.0756921</td><td style=\"text-align: right;\">     0.36361  </td><td style=\"text-align: right;\">     0.107301 </td><td style=\"text-align: right;\">    0.0815372 </td><td style=\"text-align: right;\">     0.286396 </td><td style=\"text-align: right;\">     0.183722 </td><td style=\"text-align: right;\">    -0.195017 </td><td style=\"text-align: right;\">     0.154433 </td><td style=\"text-align: right;\">    -0.0933957</td><td style=\"text-align: right;\">     0.117192 </td><td style=\"text-align: right;\">   -0.189542  </td><td style=\"text-align: right;\">     0.263192 </td><td style=\"text-align: right;\">     0.0316218</td><td style=\"text-align: right;\">     0.0267443</td><td style=\"text-align: right;\">    0.168755  </td><td style=\"text-align: right;\">     0.277668 </td><td style=\"text-align: right;\">    0.168112  </td><td style=\"text-align: right;\">   -0.260589  </td><td style=\"text-align: right;\">     0.0402019</td><td style=\"text-align: right;\">     0.0867718</td><td style=\"text-align: right;\">     0.0160057</td><td style=\"text-align: right;\">    0.131821  </td><td style=\"text-align: right;\">     0.331    </td><td style=\"text-align: right;\">    0.183317  </td><td style=\"text-align: right;\">     0.43067  </td><td style=\"text-align: right;\">     0.0637474</td><td style=\"text-align: right;\">     0.190268 </td><td style=\"text-align: right;\">    0.131946  </td><td style=\"text-align: right;\">    -0.057421 </td><td style=\"text-align: right;\">     0.0883103</td><td style=\"text-align: right;\">     0.0666625</td><td style=\"text-align: right;\">     0.182168 </td><td style=\"text-align: right;\">      0.194965 </td></tr>\n",
              "<tr><td style=\"text-align: right;\"> -0.0074255  </td><td style=\"text-align: right;\">   0.0936193 </td><td style=\"text-align: right;\">   -0.235998 </td><td style=\"text-align: right;\">  -0.0442696 </td><td style=\"text-align: right;\">  -0.249     </td><td style=\"text-align: right;\">  0.0496076  </td><td style=\"text-align: right;\">   -0.367034 </td><td style=\"text-align: right;\">  -0.118004  </td><td style=\"text-align: right;\">    0.15515  </td><td style=\"text-align: right;\">     0.350952 </td><td style=\"text-align: right;\">    -0.0177149</td><td style=\"text-align: right;\">    -0.149258 </td><td style=\"text-align: right;\">     0.10806  </td><td style=\"text-align: right;\">    0.299689  </td><td style=\"text-align: right;\">     0.321867 </td><td style=\"text-align: right;\">     0.193622 </td><td style=\"text-align: right;\">     0.250004 </td><td style=\"text-align: right;\">    -0.0181946</td><td style=\"text-align: right;\">     0.043332 </td><td style=\"text-align: right;\">    -0.295095 </td><td style=\"text-align: right;\">    -0.29967  </td><td style=\"text-align: right;\">    -0.314041 </td><td style=\"text-align: right;\">     0.0426287</td><td style=\"text-align: right;\">    -0.0464819</td><td style=\"text-align: right;\">    0.0267975 </td><td style=\"text-align: right;\">   -0.436778  </td><td style=\"text-align: right;\">    0.00667881</td><td style=\"text-align: right;\">    -0.344499 </td><td style=\"text-align: right;\">    -0.0205376</td><td style=\"text-align: right;\">   -0.204052  </td><td style=\"text-align: right;\">  -0.193338   </td><td style=\"text-align: right;\">     0.0962576</td><td style=\"text-align: right;\">     -0.285244</td><td style=\"text-align: right;\">    -0.0504104</td><td style=\"text-align: right;\">     0.0183224</td><td style=\"text-align: right;\">    -0.259362 </td><td style=\"text-align: right;\">     0.221547 </td><td style=\"text-align: right;\">    -0.170851 </td><td style=\"text-align: right;\">   0.118962   </td><td style=\"text-align: right;\">    0.229037  </td><td style=\"text-align: right;\">   -0.166607  </td><td style=\"text-align: right;\">    -0.166482 </td><td style=\"text-align: right;\">     0.254624 </td><td style=\"text-align: right;\">    0.312233  </td><td style=\"text-align: right;\">    -0.0820438</td><td style=\"text-align: right;\">    -0.571011 </td><td style=\"text-align: right;\">    -0.240033 </td><td style=\"text-align: right;\">     0.382378 </td><td style=\"text-align: right;\">    -0.0147098</td><td style=\"text-align: right;\">    -0.581891 </td><td style=\"text-align: right;\">     0.269546 </td><td style=\"text-align: right;\">    0.543596  </td><td style=\"text-align: right;\">     0.0284746</td><td style=\"text-align: right;\">    -0.189566 </td><td style=\"text-align: right;\">    -0.437401 </td><td style=\"text-align: right;\">    -0.31652  </td><td style=\"text-align: right;\">     0.0587687</td><td style=\"text-align: right;\">   -0.333752  </td><td style=\"text-align: right;\">     0.0398834</td><td style=\"text-align: right;\">     0.17427  </td><td style=\"text-align: right;\">     0.135574 </td><td style=\"text-align: right;\">     0.0549799</td><td style=\"text-align: right;\">    0.0635637 </td><td style=\"text-align: right;\">     0.441392 </td><td style=\"text-align: right;\">     0.0363569</td><td style=\"text-align: right;\">    0.226292  </td><td style=\"text-align: right;\">    -0.28693  </td><td style=\"text-align: right;\">    -0.321195 </td><td style=\"text-align: right;\">    -0.430127 </td><td style=\"text-align: right;\">    -0.122764 </td><td style=\"text-align: right;\">    0.165388  </td><td style=\"text-align: right;\">    -0.265906 </td><td style=\"text-align: right;\">     0.191868 </td><td style=\"text-align: right;\">    -0.164051 </td><td style=\"text-align: right;\">     0.130865 </td><td style=\"text-align: right;\">     0.135754 </td><td style=\"text-align: right;\">    -0.473639 </td><td style=\"text-align: right;\">   -0.0114175 </td><td style=\"text-align: right;\">    -0.309437 </td><td style=\"text-align: right;\">    -0.428461 </td><td style=\"text-align: right;\">     0.0275988</td><td style=\"text-align: right;\">    0.0708629 </td><td style=\"text-align: right;\">     0.0998933</td><td style=\"text-align: right;\">    0.554756  </td><td style=\"text-align: right;\">    0.20285   </td><td style=\"text-align: right;\">     0.19007  </td><td style=\"text-align: right;\">    -0.0760662</td><td style=\"text-align: right;\">    -0.735914 </td><td style=\"text-align: right;\">   -0.496358  </td><td style=\"text-align: right;\">    -0.166699 </td><td style=\"text-align: right;\">   -0.0232532 </td><td style=\"text-align: right;\">     0.328281 </td><td style=\"text-align: right;\">     0.313549 </td><td style=\"text-align: right;\">     0.0766479</td><td style=\"text-align: right;\">   -0.326862  </td><td style=\"text-align: right;\">     0.0470053</td><td style=\"text-align: right;\">     0.130243 </td><td style=\"text-align: right;\">    -0.0355034</td><td style=\"text-align: right;\">    -0.0160046</td><td style=\"text-align: right;\">      0.0990683</td></tr>\n",
              "<tr><td style=\"text-align: right;\"> -0.0272383  </td><td style=\"text-align: right;\">  -0.19973   </td><td style=\"text-align: right;\">   -0.166147 </td><td style=\"text-align: right;\">  -0.187401  </td><td style=\"text-align: right;\">  -0.0631669 </td><td style=\"text-align: right;\"> -0.368724   </td><td style=\"text-align: right;\">   -0.0834369</td><td style=\"text-align: right;\">  -0.0546101 </td><td style=\"text-align: right;\">   -0.105121 </td><td style=\"text-align: right;\">     0.218705 </td><td style=\"text-align: right;\">     0.0614585</td><td style=\"text-align: right;\">    -0.1778   </td><td style=\"text-align: right;\">     0.0731113</td><td style=\"text-align: right;\">   -0.205162  </td><td style=\"text-align: right;\">    -0.0831313</td><td style=\"text-align: right;\">     0.0910182</td><td style=\"text-align: right;\">    -0.132241 </td><td style=\"text-align: right;\">    -0.191944 </td><td style=\"text-align: right;\">    -0.175591 </td><td style=\"text-align: right;\">    -0.244931 </td><td style=\"text-align: right;\">     0.0856966</td><td style=\"text-align: right;\">     0.0070205</td><td style=\"text-align: right;\">     0.234378 </td><td style=\"text-align: right;\">     0.145318 </td><td style=\"text-align: right;\">    0.164734  </td><td style=\"text-align: right;\">    0.0504555 </td><td style=\"text-align: right;\">   -0.148053  </td><td style=\"text-align: right;\">     0.230178 </td><td style=\"text-align: right;\">     0.0797897</td><td style=\"text-align: right;\">    0.157416  </td><td style=\"text-align: right;\">   0.106364   </td><td style=\"text-align: right;\">     0.0417459</td><td style=\"text-align: right;\">     -0.29732 </td><td style=\"text-align: right;\">     0.0328209</td><td style=\"text-align: right;\">    -0.12297  </td><td style=\"text-align: right;\">    -0.0890138</td><td style=\"text-align: right;\">    -0.27488  </td><td style=\"text-align: right;\">     0.0558284</td><td style=\"text-align: right;\">   8.55157e-05</td><td style=\"text-align: right;\">    0.232284  </td><td style=\"text-align: right;\">    0.0799715 </td><td style=\"text-align: right;\">    -0.02624  </td><td style=\"text-align: right;\">    -0.0729166</td><td style=\"text-align: right;\">    0.118113  </td><td style=\"text-align: right;\">    -0.050965 </td><td style=\"text-align: right;\">    -0.393714 </td><td style=\"text-align: right;\">     0.135898 </td><td style=\"text-align: right;\">    -0.14458  </td><td style=\"text-align: right;\">     0.330416 </td><td style=\"text-align: right;\">    -0.0214385</td><td style=\"text-align: right;\">    -0.0491712</td><td style=\"text-align: right;\">   -0.030125  </td><td style=\"text-align: right;\">    -0.085469 </td><td style=\"text-align: right;\">     0.176252 </td><td style=\"text-align: right;\">    -0.0760793</td><td style=\"text-align: right;\">    -0.113098 </td><td style=\"text-align: right;\">    -0.121758 </td><td style=\"text-align: right;\">   -0.237106  </td><td style=\"text-align: right;\">    -0.250699 </td><td style=\"text-align: right;\">     0.0697322</td><td style=\"text-align: right;\">    -0.33033  </td><td style=\"text-align: right;\">    -0.292524 </td><td style=\"text-align: right;\">    0.00966382</td><td style=\"text-align: right;\">     0.301166 </td><td style=\"text-align: right;\">     0.338242 </td><td style=\"text-align: right;\">    0.262569  </td><td style=\"text-align: right;\">     0.218454 </td><td style=\"text-align: right;\">    -0.107639 </td><td style=\"text-align: right;\">    -0.137531 </td><td style=\"text-align: right;\">     0.0278071</td><td style=\"text-align: right;\">   -0.0653709 </td><td style=\"text-align: right;\">    -0.0132024</td><td style=\"text-align: right;\">    -0.180033 </td><td style=\"text-align: right;\">     0.151307 </td><td style=\"text-align: right;\">     0.0748603</td><td style=\"text-align: right;\">    -0.296854 </td><td style=\"text-align: right;\">    -0.122585 </td><td style=\"text-align: right;\">   -0.368335  </td><td style=\"text-align: right;\">     0.054806 </td><td style=\"text-align: right;\">    -0.139117 </td><td style=\"text-align: right;\">    -0.314094 </td><td style=\"text-align: right;\">   -0.0800067 </td><td style=\"text-align: right;\">     0.42065  </td><td style=\"text-align: right;\">    0.183379  </td><td style=\"text-align: right;\">   -0.254333  </td><td style=\"text-align: right;\">    -0.241556 </td><td style=\"text-align: right;\">    -0.104545 </td><td style=\"text-align: right;\">     0.109206 </td><td style=\"text-align: right;\">   -0.00468614</td><td style=\"text-align: right;\">     0.174843 </td><td style=\"text-align: right;\">    0.144543  </td><td style=\"text-align: right;\">     0.150466 </td><td style=\"text-align: right;\">    -0.0304086</td><td style=\"text-align: right;\">    -0.150796 </td><td style=\"text-align: right;\">    0.310896  </td><td style=\"text-align: right;\">     0.235944 </td><td style=\"text-align: right;\">     0.115571 </td><td style=\"text-align: right;\">     0.405994 </td><td style=\"text-align: right;\">     0.0497756</td><td style=\"text-align: right;\">      0.381715 </td></tr>\n",
              "<tr><td style=\"text-align: right;\"> -0.0504652  </td><td style=\"text-align: right;\">  -0.00397264</td><td style=\"text-align: right;\">    0.0457537</td><td style=\"text-align: right;\">  -0.174947  </td><td style=\"text-align: right;\">  -0.0364437 </td><td style=\"text-align: right;\">  0.000670084</td><td style=\"text-align: right;\">   -0.13781  </td><td style=\"text-align: right;\">   0.10993   </td><td style=\"text-align: right;\">   -0.0974308</td><td style=\"text-align: right;\">    -0.117666 </td><td style=\"text-align: right;\">    -0.0168252</td><td style=\"text-align: right;\">     0.128865 </td><td style=\"text-align: right;\">     0.119334 </td><td style=\"text-align: right;\">    0.0203433 </td><td style=\"text-align: right;\">    -0.0325097</td><td style=\"text-align: right;\">    -0.239784 </td><td style=\"text-align: right;\">     0.0718663</td><td style=\"text-align: right;\">    -0.0530034</td><td style=\"text-align: right;\">     0.134881 </td><td style=\"text-align: right;\">    -0.0431821</td><td style=\"text-align: right;\">    -0.0493229</td><td style=\"text-align: right;\">    -0.0267416</td><td style=\"text-align: right;\">     0.0909415</td><td style=\"text-align: right;\">     0.0828573</td><td style=\"text-align: right;\">    0.00268719</td><td style=\"text-align: right;\">   -0.0861672 </td><td style=\"text-align: right;\">   -0.0133878 </td><td style=\"text-align: right;\">    -0.0867394</td><td style=\"text-align: right;\">    -0.15214  </td><td style=\"text-align: right;\">   -0.218405  </td><td style=\"text-align: right;\">  -0.00307667 </td><td style=\"text-align: right;\">     0.0473689</td><td style=\"text-align: right;\">     -0.156824</td><td style=\"text-align: right;\">     0.055579 </td><td style=\"text-align: right;\">     0.0268565</td><td style=\"text-align: right;\">    -0.217515 </td><td style=\"text-align: right;\">    -0.226752 </td><td style=\"text-align: right;\">    -0.0151765</td><td style=\"text-align: right;\">  -0.110195   </td><td style=\"text-align: right;\">   -0.0688595 </td><td style=\"text-align: right;\">   -0.00601318</td><td style=\"text-align: right;\">    -0.0699297</td><td style=\"text-align: right;\">     0.11767  </td><td style=\"text-align: right;\">    0.0778407 </td><td style=\"text-align: right;\">    -0.102296 </td><td style=\"text-align: right;\">     0.0167059</td><td style=\"text-align: right;\">     0.149952 </td><td style=\"text-align: right;\">     0.030528 </td><td style=\"text-align: right;\">     0.121694 </td><td style=\"text-align: right;\">    -0.285172 </td><td style=\"text-align: right;\">     0.164869 </td><td style=\"text-align: right;\">    0.00176614</td><td style=\"text-align: right;\">     0.0518603</td><td style=\"text-align: right;\">    -0.215792 </td><td style=\"text-align: right;\">    -0.150872 </td><td style=\"text-align: right;\">    -0.0116907</td><td style=\"text-align: right;\">    -0.194353 </td><td style=\"text-align: right;\">    0.118704  </td><td style=\"text-align: right;\">    -0.0957869</td><td style=\"text-align: right;\">    -0.110082 </td><td style=\"text-align: right;\">    -0.259304 </td><td style=\"text-align: right;\">    -0.118555 </td><td style=\"text-align: right;\">   -0.10471   </td><td style=\"text-align: right;\">    -0.0531541</td><td style=\"text-align: right;\">    -0.0206855</td><td style=\"text-align: right;\">    0.00131419</td><td style=\"text-align: right;\">     0.108466 </td><td style=\"text-align: right;\">     0.0825249</td><td style=\"text-align: right;\">     0.0416974</td><td style=\"text-align: right;\">    -0.0808815</td><td style=\"text-align: right;\">    0.00487084</td><td style=\"text-align: right;\">    -0.130177 </td><td style=\"text-align: right;\">     0.0210907</td><td style=\"text-align: right;\">     0.0876342</td><td style=\"text-align: right;\">     0.0111897</td><td style=\"text-align: right;\">    -0.0301985</td><td style=\"text-align: right;\">     0.0620878</td><td style=\"text-align: right;\">   -0.0696473 </td><td style=\"text-align: right;\">     0.0212744</td><td style=\"text-align: right;\">    -0.0867053</td><td style=\"text-align: right;\">    -0.161834 </td><td style=\"text-align: right;\">    0.208016  </td><td style=\"text-align: right;\">     0.201671 </td><td style=\"text-align: right;\">    0.0626229 </td><td style=\"text-align: right;\">   -0.0278496 </td><td style=\"text-align: right;\">     0.0772734</td><td style=\"text-align: right;\">     0.296698 </td><td style=\"text-align: right;\">    -0.149996 </td><td style=\"text-align: right;\">   -0.071854  </td><td style=\"text-align: right;\">     0.0113475</td><td style=\"text-align: right;\">   -0.0746441 </td><td style=\"text-align: right;\">     0.0361455</td><td style=\"text-align: right;\">     0.0420724</td><td style=\"text-align: right;\">     0.173481 </td><td style=\"text-align: right;\">   -0.0383935 </td><td style=\"text-align: right;\">    -0.0712738</td><td style=\"text-align: right;\">     0.010661 </td><td style=\"text-align: right;\">     0.0869191</td><td style=\"text-align: right;\">    -0.129191 </td><td style=\"text-align: right;\">      0.175816 </td></tr>\n",
              "</tbody>\n",
              "</table>"
            ]
          },
          "metadata": {
            "tags": []
          }
        },
        {
          "output_type": "execute_result",
          "data": {
            "text/plain": [
              ""
            ]
          },
          "metadata": {
            "tags": []
          },
          "execution_count": 50
        }
      ]
    },
    {
      "cell_type": "code",
      "metadata": {
        "id": "d6fr0kT9P8Kf",
        "colab_type": "code",
        "colab": {}
      },
      "source": [
        "h2o_df_ext = h2o_df_ext.cbind(headlines_vecs)"
      ],
      "execution_count": 51,
      "outputs": []
    },
    {
      "cell_type": "code",
      "metadata": {
        "id": "xy2ivmKDQFMW",
        "colab_type": "code",
        "colab": {
          "base_uri": "https://localhost:8080/",
          "height": 568
        },
        "outputId": "f9472e83-e0c3-4c2b-8dfd-3249a8c96590"
      },
      "source": [
        "h2o_df_ext.head(1)"
      ],
      "execution_count": 52,
      "outputs": [
        {
          "output_type": "display_data",
          "data": {
            "text/html": [
              "<table>\n",
              "<thead>\n",
              "<tr><th style=\"text-align: right;\">  votes</th><th>headline                                                                 </th><th>reviews                                                                                                                                                                                                                                                                                                         </th><th style=\"text-align: right;\">  rating</th><th style=\"text-align: right;\">  target</th><th style=\"text-align: right;\">      C1</th><th style=\"text-align: right;\">        C2</th><th style=\"text-align: right;\">        C3</th><th style=\"text-align: right;\">        C4</th><th style=\"text-align: right;\">        C5</th><th style=\"text-align: right;\">       C6</th><th style=\"text-align: right;\">      C7</th><th style=\"text-align: right;\">       C8</th><th style=\"text-align: right;\">       C9</th><th style=\"text-align: right;\">       C10</th><th style=\"text-align: right;\">       C11</th><th style=\"text-align: right;\">       C12</th><th style=\"text-align: right;\">       C13</th><th style=\"text-align: right;\">       C14</th><th style=\"text-align: right;\">      C15</th><th style=\"text-align: right;\">       C16</th><th style=\"text-align: right;\">      C17</th><th style=\"text-align: right;\">      C18</th><th style=\"text-align: right;\">       C19</th><th style=\"text-align: right;\">      C20</th><th style=\"text-align: right;\">       C21</th><th style=\"text-align: right;\">     C22</th><th style=\"text-align: right;\">     C23</th><th style=\"text-align: right;\">        C24</th><th style=\"text-align: right;\">       C25</th><th style=\"text-align: right;\">       C26</th><th style=\"text-align: right;\">      C27</th><th style=\"text-align: right;\">      C28</th><th style=\"text-align: right;\">      C29</th><th style=\"text-align: right;\">       C30</th><th style=\"text-align: right;\">        C31</th><th style=\"text-align: right;\">      C32</th><th style=\"text-align: right;\">      C33</th><th style=\"text-align: right;\">     C34</th><th style=\"text-align: right;\">       C35</th><th style=\"text-align: right;\">       C36</th><th style=\"text-align: right;\">       C37</th><th style=\"text-align: right;\">       C38</th><th style=\"text-align: right;\">      C39</th><th style=\"text-align: right;\">        C40</th><th style=\"text-align: right;\">      C41</th><th style=\"text-align: right;\">      C42</th><th style=\"text-align: right;\">      C43</th><th style=\"text-align: right;\">     C44</th><th style=\"text-align: right;\">      C45</th><th style=\"text-align: right;\">       C46</th><th style=\"text-align: right;\">     C47</th><th style=\"text-align: right;\">     C48</th><th style=\"text-align: right;\">      C49</th><th style=\"text-align: right;\">      C50</th><th style=\"text-align: right;\">       C51</th><th style=\"text-align: right;\">      C52</th><th style=\"text-align: right;\">      C53</th><th style=\"text-align: right;\">     C54</th><th style=\"text-align: right;\">      C55</th><th style=\"text-align: right;\">        C56</th><th style=\"text-align: right;\">      C57</th><th style=\"text-align: right;\">       C58</th><th style=\"text-align: right;\">       C59</th><th style=\"text-align: right;\">       C60</th><th style=\"text-align: right;\">       C61</th><th style=\"text-align: right;\">       C62</th><th style=\"text-align: right;\">      C63</th><th style=\"text-align: right;\">       C64</th><th style=\"text-align: right;\">      C65</th><th style=\"text-align: right;\">      C66</th><th style=\"text-align: right;\">      C67</th><th style=\"text-align: right;\">    C68</th><th style=\"text-align: right;\">      C69</th><th style=\"text-align: right;\">       C70</th><th style=\"text-align: right;\">      C71</th><th style=\"text-align: right;\">      C72</th><th style=\"text-align: right;\">       C73</th><th style=\"text-align: right;\">     C74</th><th style=\"text-align: right;\">      C75</th><th style=\"text-align: right;\">      C76</th><th style=\"text-align: right;\">     C77</th><th style=\"text-align: right;\">       C78</th><th style=\"text-align: right;\">      C79</th><th style=\"text-align: right;\">       C80</th><th style=\"text-align: right;\">      C81</th><th style=\"text-align: right;\">      C82</th><th style=\"text-align: right;\">      C83</th><th style=\"text-align: right;\">      C84</th><th style=\"text-align: right;\">       C85</th><th style=\"text-align: right;\">       C86</th><th style=\"text-align: right;\">      C87</th><th style=\"text-align: right;\">      C88</th><th style=\"text-align: right;\">      C89</th><th style=\"text-align: right;\">     C90</th><th style=\"text-align: right;\">       C91</th><th style=\"text-align: right;\">     C92</th><th style=\"text-align: right;\">      C93</th><th style=\"text-align: right;\">     C94</th><th style=\"text-align: right;\">      C95</th><th style=\"text-align: right;\">       C96</th><th style=\"text-align: right;\">       C97</th><th style=\"text-align: right;\">     C98</th><th style=\"text-align: right;\">       C99</th><th style=\"text-align: right;\">     C100</th><th style=\"text-align: right;\">  headline_C1</th><th style=\"text-align: right;\">  headline_C2</th><th style=\"text-align: right;\">  headline_C3</th><th style=\"text-align: right;\">  headline_C4</th><th style=\"text-align: right;\">  headline_C5</th><th style=\"text-align: right;\">  headline_C6</th><th style=\"text-align: right;\">  headline_C7</th><th style=\"text-align: right;\">  headline_C8</th><th style=\"text-align: right;\">  headline_C9</th><th style=\"text-align: right;\">  headline_C10</th><th style=\"text-align: right;\">  headline_C11</th><th style=\"text-align: right;\">  headline_C12</th><th style=\"text-align: right;\">  headline_C13</th><th style=\"text-align: right;\">  headline_C14</th><th style=\"text-align: right;\">  headline_C15</th><th style=\"text-align: right;\">  headline_C16</th><th style=\"text-align: right;\">  headline_C17</th><th style=\"text-align: right;\">  headline_C18</th><th style=\"text-align: right;\">  headline_C19</th><th style=\"text-align: right;\">  headline_C20</th><th style=\"text-align: right;\">  headline_C21</th><th style=\"text-align: right;\">  headline_C22</th><th style=\"text-align: right;\">  headline_C23</th><th style=\"text-align: right;\">  headline_C24</th><th style=\"text-align: right;\">  headline_C25</th><th style=\"text-align: right;\">  headline_C26</th><th style=\"text-align: right;\">  headline_C27</th><th style=\"text-align: right;\">  headline_C28</th><th style=\"text-align: right;\">  headline_C29</th><th style=\"text-align: right;\">  headline_C30</th><th style=\"text-align: right;\">  headline_C31</th><th style=\"text-align: right;\">  headline_C32</th><th style=\"text-align: right;\">  headline_C33</th><th style=\"text-align: right;\">  headline_C34</th><th style=\"text-align: right;\">  headline_C35</th><th style=\"text-align: right;\">  headline_C36</th><th style=\"text-align: right;\">  headline_C37</th><th style=\"text-align: right;\">  headline_C38</th><th style=\"text-align: right;\">  headline_C39</th><th style=\"text-align: right;\">  headline_C40</th><th style=\"text-align: right;\">  headline_C41</th><th style=\"text-align: right;\">  headline_C42</th><th style=\"text-align: right;\">  headline_C43</th><th style=\"text-align: right;\">  headline_C44</th><th style=\"text-align: right;\">  headline_C45</th><th style=\"text-align: right;\">  headline_C46</th><th style=\"text-align: right;\">  headline_C47</th><th style=\"text-align: right;\">  headline_C48</th><th style=\"text-align: right;\">  headline_C49</th><th style=\"text-align: right;\">  headline_C50</th><th style=\"text-align: right;\">  headline_C51</th><th style=\"text-align: right;\">  headline_C52</th><th style=\"text-align: right;\">  headline_C53</th><th style=\"text-align: right;\">  headline_C54</th><th style=\"text-align: right;\">  headline_C55</th><th style=\"text-align: right;\">  headline_C56</th><th style=\"text-align: right;\">  headline_C57</th><th style=\"text-align: right;\">  headline_C58</th><th style=\"text-align: right;\">  headline_C59</th><th style=\"text-align: right;\">  headline_C60</th><th style=\"text-align: right;\">  headline_C61</th><th style=\"text-align: right;\">  headline_C62</th><th style=\"text-align: right;\">  headline_C63</th><th style=\"text-align: right;\">  headline_C64</th><th style=\"text-align: right;\">  headline_C65</th><th style=\"text-align: right;\">  headline_C66</th><th style=\"text-align: right;\">  headline_C67</th><th style=\"text-align: right;\">  headline_C68</th><th style=\"text-align: right;\">  headline_C69</th><th style=\"text-align: right;\">  headline_C70</th><th style=\"text-align: right;\">  headline_C71</th><th style=\"text-align: right;\">  headline_C72</th><th style=\"text-align: right;\">  headline_C73</th><th style=\"text-align: right;\">  headline_C74</th><th style=\"text-align: right;\">  headline_C75</th><th style=\"text-align: right;\">  headline_C76</th><th style=\"text-align: right;\">  headline_C77</th><th style=\"text-align: right;\">  headline_C78</th><th style=\"text-align: right;\">  headline_C79</th><th style=\"text-align: right;\">  headline_C80</th><th style=\"text-align: right;\">  headline_C81</th><th style=\"text-align: right;\">  headline_C82</th><th style=\"text-align: right;\">  headline_C83</th><th style=\"text-align: right;\">  headline_C84</th><th style=\"text-align: right;\">  headline_C85</th><th style=\"text-align: right;\">  headline_C86</th><th style=\"text-align: right;\">  headline_C87</th><th style=\"text-align: right;\">  headline_C88</th><th style=\"text-align: right;\">  headline_C89</th><th style=\"text-align: right;\">  headline_C90</th><th style=\"text-align: right;\">  headline_C91</th><th style=\"text-align: right;\">  headline_C92</th><th style=\"text-align: right;\">  headline_C93</th><th style=\"text-align: right;\">  headline_C94</th><th style=\"text-align: right;\">  headline_C95</th></tr>\n",
              "</thead>\n",
              "<tbody>\n",
              "<tr><td style=\"text-align: right;\">      0</td><td>b&#x27;These glasses are an excellent value. The fit is good and they are ...&#x27;</td><td>b&quot;These glasses are an excellent value.  The fit is good and they are very comfortable.  Because of my legal blindness, there aren&#x27;t a lot of options to try to see better, but I believe these help with my other visual aids, and because they are reasonably priced I can have more than one pair available.&quot;</td><td style=\"text-align: right;\">       4</td><td style=\"text-align: right;\">       1</td><td style=\"text-align: right;\">0.103508</td><td style=\"text-align: right;\">-0.0805032</td><td style=\"text-align: right;\">-0.0603109</td><td style=\"text-align: right;\">-0.0412945</td><td style=\"text-align: right;\">-0.0243264</td><td style=\"text-align: right;\">-0.193731</td><td style=\"text-align: right;\">0.105549</td><td style=\"text-align: right;\">0.0270617</td><td style=\"text-align: right;\">0.0474832</td><td style=\"text-align: right;\">-0.0206425</td><td style=\"text-align: right;\">-0.0165391</td><td style=\"text-align: right;\">-0.0125719</td><td style=\"text-align: right;\">-0.0579739</td><td style=\"text-align: right;\">-0.0434893</td><td style=\"text-align: right;\">0.0788279</td><td style=\"text-align: right;\">-0.0446767</td><td style=\"text-align: right;\">0.0786619</td><td style=\"text-align: right;\">0.0152803</td><td style=\"text-align: right;\">-0.0775012</td><td style=\"text-align: right;\">-0.139236</td><td style=\"text-align: right;\">0.00608164</td><td style=\"text-align: right;\">0.105663</td><td style=\"text-align: right;\">0.079101</td><td style=\"text-align: right;\">-0.00396536</td><td style=\"text-align: right;\">0.00107114</td><td style=\"text-align: right;\">0.00107714</td><td style=\"text-align: right;\">-0.032905</td><td style=\"text-align: right;\">-0.120271</td><td style=\"text-align: right;\">0.0550841</td><td style=\"text-align: right;\">-0.0873431</td><td style=\"text-align: right;\">-0.00437647</td><td style=\"text-align: right;\">0.0457385</td><td style=\"text-align: right;\">-0.102353</td><td style=\"text-align: right;\">0.118598</td><td style=\"text-align: right;\">-0.0128193</td><td style=\"text-align: right;\">-0.0159136</td><td style=\"text-align: right;\">-0.0381627</td><td style=\"text-align: right;\">-0.0379924</td><td style=\"text-align: right;\">0.0459074</td><td style=\"text-align: right;\">-0.00284195</td><td style=\"text-align: right;\">0.0030753</td><td style=\"text-align: right;\">-0.034452</td><td style=\"text-align: right;\">0.0213755</td><td style=\"text-align: right;\">0.113952</td><td style=\"text-align: right;\">-0.233228</td><td style=\"text-align: right;\">-0.0256249</td><td style=\"text-align: right;\">0.175314</td><td style=\"text-align: right;\">0.135772</td><td style=\"text-align: right;\">0.0232937</td><td style=\"text-align: right;\">-0.266166</td><td style=\"text-align: right;\">0.00555355</td><td style=\"text-align: right;\">0.0944914</td><td style=\"text-align: right;\">0.0364996</td><td style=\"text-align: right;\">-0.16477</td><td style=\"text-align: right;\">-0.101347</td><td style=\"text-align: right;\">-0.00835908</td><td style=\"text-align: right;\">-0.166429</td><td style=\"text-align: right;\">-0.0566899</td><td style=\"text-align: right;\">-0.0230984</td><td style=\"text-align: right;\">-0.0229848</td><td style=\"text-align: right;\">-0.0114379</td><td style=\"text-align: right;\">-0.0660845</td><td style=\"text-align: right;\">0.0511603</td><td style=\"text-align: right;\">-0.0132155</td><td style=\"text-align: right;\">0.0992971</td><td style=\"text-align: right;\">0.0471692</td><td style=\"text-align: right;\">0.0176119</td><td style=\"text-align: right;\">0.18936</td><td style=\"text-align: right;\">0.0784521</td><td style=\"text-align: right;\">-0.0650049</td><td style=\"text-align: right;\">0.0679219</td><td style=\"text-align: right;\">-0.153654</td><td style=\"text-align: right;\">-0.0138886</td><td style=\"text-align: right;\">0.122761</td><td style=\"text-align: right;\">-0.132421</td><td style=\"text-align: right;\">0.0109915</td><td style=\"text-align: right;\">0.130014</td><td style=\"text-align: right;\">-0.0325091</td><td style=\"text-align: right;\">0.0608704</td><td style=\"text-align: right;\">-0.0650901</td><td style=\"text-align: right;\">0.0337777</td><td style=\"text-align: right;\">0.0845054</td><td style=\"text-align: right;\">0.0935574</td><td style=\"text-align: right;\">0.0374667</td><td style=\"text-align: right;\">-0.0383676</td><td style=\"text-align: right;\">0.00644868</td><td style=\"text-align: right;\">0.0596815</td><td style=\"text-align: right;\">0.0575476</td><td style=\"text-align: right;\">-0.192398</td><td style=\"text-align: right;\">0.276227</td><td style=\"text-align: right;\">-0.0780727</td><td style=\"text-align: right;\">0.127773</td><td style=\"text-align: right;\">0.0450793</td><td style=\"text-align: right;\">0.229142</td><td style=\"text-align: right;\">-0.100369</td><td style=\"text-align: right;\">0.00167123</td><td style=\"text-align: right;\">-0.0374238</td><td style=\"text-align: right;\">0.184182</td><td style=\"text-align: right;\">-0.0327172</td><td style=\"text-align: right;\">0.0534768</td><td style=\"text-align: right;\">    0.0207165</td><td style=\"text-align: right;\">    -0.309267</td><td style=\"text-align: right;\">   -0.0587597</td><td style=\"text-align: right;\">    -0.164662</td><td style=\"text-align: right;\">     0.179497</td><td style=\"text-align: right;\">    -0.219314</td><td style=\"text-align: right;\">   -0.0149423</td><td style=\"text-align: right;\">    0.0774067</td><td style=\"text-align: right;\">   -0.0582724</td><td style=\"text-align: right;\">    -0.0258747</td><td style=\"text-align: right;\">     -0.180603</td><td style=\"text-align: right;\">     0.0119489</td><td style=\"text-align: right;\">    -0.0622734</td><td style=\"text-align: right;\">    0.00604478</td><td style=\"text-align: right;\">      0.154776</td><td style=\"text-align: right;\">    -0.0131359</td><td style=\"text-align: right;\">      0.123391</td><td style=\"text-align: right;\">      -0.17241</td><td style=\"text-align: right;\">    -0.0111863</td><td style=\"text-align: right;\">     -0.157061</td><td style=\"text-align: right;\">    -0.0310662</td><td style=\"text-align: right;\">      0.142685</td><td style=\"text-align: right;\">    -0.0304263</td><td style=\"text-align: right;\">     0.0346584</td><td style=\"text-align: right;\">     -0.128878</td><td style=\"text-align: right;\">   -0.00777537</td><td style=\"text-align: right;\">     0.0771321</td><td style=\"text-align: right;\">     -0.118994</td><td style=\"text-align: right;\">      0.224436</td><td style=\"text-align: right;\">    -0.0863963</td><td style=\"text-align: right;\">     0.0256919</td><td style=\"text-align: right;\">     0.0283769</td><td style=\"text-align: right;\">     -0.234518</td><td style=\"text-align: right;\">     0.0985249</td><td style=\"text-align: right;\">    -0.0665196</td><td style=\"text-align: right;\">     0.0827546</td><td style=\"text-align: right;\">    -0.0726011</td><td style=\"text-align: right;\">    -0.0992042</td><td style=\"text-align: right;\">     0.0181308</td><td style=\"text-align: right;\">    -0.0778129</td><td style=\"text-align: right;\">      0.068891</td><td style=\"text-align: right;\">    -0.0600325</td><td style=\"text-align: right;\">     0.0370554</td><td style=\"text-align: right;\">   -0.00700648</td><td style=\"text-align: right;\">     -0.278298</td><td style=\"text-align: right;\">      0.048228</td><td style=\"text-align: right;\">       0.23831</td><td style=\"text-align: right;\">      0.124641</td><td style=\"text-align: right;\">     -0.194524</td><td style=\"text-align: right;\">     -0.464733</td><td style=\"text-align: right;\">     -0.100868</td><td style=\"text-align: right;\">     0.0464421</td><td style=\"text-align: right;\">     0.0981902</td><td style=\"text-align: right;\">     -0.101173</td><td style=\"text-align: right;\">     -0.125509</td><td style=\"text-align: right;\">    -0.0481144</td><td style=\"text-align: right;\">     -0.128142</td><td style=\"text-align: right;\">    -0.0205259</td><td style=\"text-align: right;\">    -0.0911826</td><td style=\"text-align: right;\">     0.0512818</td><td style=\"text-align: right;\">    -0.0286987</td><td style=\"text-align: right;\">      -0.10119</td><td style=\"text-align: right;\">     0.0490027</td><td style=\"text-align: right;\">     0.0508589</td><td style=\"text-align: right;\">      0.115349</td><td style=\"text-align: right;\">     0.0281707</td><td style=\"text-align: right;\">    -0.0625311</td><td style=\"text-align: right;\">      0.266604</td><td style=\"text-align: right;\">      0.123621</td><td style=\"text-align: right;\">    -0.0733469</td><td style=\"text-align: right;\">      0.181039</td><td style=\"text-align: right;\">    -0.0184078</td><td style=\"text-align: right;\">     -0.128164</td><td style=\"text-align: right;\">      0.222123</td><td style=\"text-align: right;\">     -0.169971</td><td style=\"text-align: right;\">    -0.0219005</td><td style=\"text-align: right;\">      0.158633</td><td style=\"text-align: right;\">    0.00552763</td><td style=\"text-align: right;\">     0.0890087</td><td style=\"text-align: right;\">    -0.0274979</td><td style=\"text-align: right;\">     0.0425633</td><td style=\"text-align: right;\">      0.119161</td><td style=\"text-align: right;\">     0.0107159</td><td style=\"text-align: right;\">      0.127502</td><td style=\"text-align: right;\">    0.00336787</td><td style=\"text-align: right;\">     0.0364779</td><td style=\"text-align: right;\">     0.0639882</td><td style=\"text-align: right;\">      0.171896</td><td style=\"text-align: right;\">     -0.275646</td><td style=\"text-align: right;\">      0.216863</td><td style=\"text-align: right;\">    -0.0228025</td><td style=\"text-align: right;\">      0.193017</td><td style=\"text-align: right;\">     0.0346628</td><td style=\"text-align: right;\">      0.288903</td><td style=\"text-align: right;\">      -0.13105</td></tr>\n",
              "</tbody>\n",
              "</table>"
            ]
          },
          "metadata": {
            "tags": []
          }
        },
        {
          "output_type": "execute_result",
          "data": {
            "text/plain": [
              ""
            ]
          },
          "metadata": {
            "tags": []
          },
          "execution_count": 52
        }
      ]
    },
    {
      "cell_type": "code",
      "metadata": {
        "id": "3DogUnx9QJeR",
        "colab_type": "code",
        "colab": {}
      },
      "source": [
        "h2o_train,h2o_valid = h2o_df_ext.split_frame(ratios=[0.8])"
      ],
      "execution_count": 53,
      "outputs": []
    },
    {
      "cell_type": "code",
      "metadata": {
        "id": "cEhR6cZSQbOm",
        "colab_type": "code",
        "colab": {}
      },
      "source": [
        "gbm_all_cols = H2OGradientBoostingEstimator(stopping_metric=\"AUC\", stopping_tolerance=0.001, stopping_rounds=5, score_tree_interval=10)"
      ],
      "execution_count": 54,
      "outputs": []
    },
    {
      "cell_type": "code",
      "metadata": {
        "id": "6126FTRpQrHn",
        "colab_type": "code",
        "colab": {
          "base_uri": "https://localhost:8080/",
          "height": 35
        },
        "outputId": "b3b282b4-8539-4599-d72b-2543396f76a3"
      },
      "source": [
        "gbm_all_cols.train(x=['votes']+headlines_vecs.names+reviews_vecs.names,y='target',training_frame=h2o_train,validation_frame=h2o_valid)"
      ],
      "execution_count": 55,
      "outputs": [
        {
          "output_type": "stream",
          "text": [
            "gbm Model Build progress: |███████████████████████████████████████████████| 100%\n"
          ],
          "name": "stdout"
        }
      ]
    },
    {
      "cell_type": "code",
      "metadata": {
        "colab_type": "code",
        "id": "8RM_Gcd9Q9Y1",
        "colab": {
          "base_uri": "https://localhost:8080/",
          "height": 35
        },
        "outputId": "73a01bd9-75f6-4d52-87c8-452a2c2b083f"
      },
      "source": [
        "print(\"All Columns AUC : \" + str(round(gbm_all_cols.auc(valid=True),3)))"
      ],
      "execution_count": 56,
      "outputs": [
        {
          "output_type": "stream",
          "text": [
            "All Columns AUC : 0.922\n"
          ],
          "name": "stdout"
        }
      ]
    },
    {
      "cell_type": "code",
      "metadata": {
        "colab_type": "code",
        "id": "Ia_NbreJQ9Z-",
        "colab": {
          "base_uri": "https://localhost:8080/",
          "height": 180
        },
        "outputId": "1a11b96b-1233-4ff8-9731-bd743f0282a7"
      },
      "source": [
        "gbm_all_cols.confusion_matrix(valid=True)"
      ],
      "execution_count": 57,
      "outputs": [
        {
          "output_type": "stream",
          "text": [
            "\n",
            "Confusion Matrix (Act/Pred) for max f1 @ threshold = 0.5047181645083612: \n"
          ],
          "name": "stdout"
        },
        {
          "output_type": "display_data",
          "data": {
            "text/html": [
              "<div>\n",
              "<style scoped>\n",
              "    .dataframe tbody tr th:only-of-type {\n",
              "        vertical-align: middle;\n",
              "    }\n",
              "\n",
              "    .dataframe tbody tr th {\n",
              "        vertical-align: top;\n",
              "    }\n",
              "\n",
              "    .dataframe thead th {\n",
              "        text-align: right;\n",
              "    }\n",
              "</style>\n",
              "<table border=\"1\" class=\"dataframe\">\n",
              "  <thead>\n",
              "    <tr style=\"text-align: right;\">\n",
              "      <th></th>\n",
              "      <th></th>\n",
              "      <th>0</th>\n",
              "      <th>1</th>\n",
              "      <th>Error</th>\n",
              "      <th>Rate</th>\n",
              "    </tr>\n",
              "  </thead>\n",
              "  <tbody>\n",
              "    <tr>\n",
              "      <th>0</th>\n",
              "      <td>0</td>\n",
              "      <td>2918.0</td>\n",
              "      <td>1766.0</td>\n",
              "      <td>0.377</td>\n",
              "      <td>(1766.0/4684.0)</td>\n",
              "    </tr>\n",
              "    <tr>\n",
              "      <th>1</th>\n",
              "      <td>1</td>\n",
              "      <td>565.0</td>\n",
              "      <td>12000.0</td>\n",
              "      <td>0.045</td>\n",
              "      <td>(565.0/12565.0)</td>\n",
              "    </tr>\n",
              "    <tr>\n",
              "      <th>2</th>\n",
              "      <td>Total</td>\n",
              "      <td>3483.0</td>\n",
              "      <td>13766.0</td>\n",
              "      <td>0.1351</td>\n",
              "      <td>(2331.0/17249.0)</td>\n",
              "    </tr>\n",
              "  </tbody>\n",
              "</table>\n",
              "</div>"
            ],
            "text/plain": [
              "               0        1   Error               Rate\n",
              "0      0  2918.0   1766.0   0.377    (1766.0/4684.0)\n",
              "1      1   565.0  12000.0   0.045    (565.0/12565.0)\n",
              "2  Total  3483.0  13766.0  0.1351   (2331.0/17249.0)"
            ]
          },
          "metadata": {
            "tags": []
          }
        },
        {
          "output_type": "execute_result",
          "data": {
            "text/plain": [
              ""
            ]
          },
          "metadata": {
            "tags": []
          },
          "execution_count": 57
        }
      ]
    },
    {
      "cell_type": "code",
      "metadata": {
        "id": "744jYY79RFBa",
        "colab_type": "code",
        "colab": {
          "base_uri": "https://localhost:8080/",
          "height": 362
        },
        "outputId": "be131c90-85c4-4d9b-9c2d-befc98cb82f6"
      },
      "source": [
        "gbm_all_cols.score_history()"
      ],
      "execution_count": 58,
      "outputs": [
        {
          "output_type": "execute_result",
          "data": {
            "text/html": [
              "<div>\n",
              "<style scoped>\n",
              "    .dataframe tbody tr th:only-of-type {\n",
              "        vertical-align: middle;\n",
              "    }\n",
              "\n",
              "    .dataframe tbody tr th {\n",
              "        vertical-align: top;\n",
              "    }\n",
              "\n",
              "    .dataframe thead th {\n",
              "        text-align: right;\n",
              "    }\n",
              "</style>\n",
              "<table border=\"1\" class=\"dataframe\">\n",
              "  <thead>\n",
              "    <tr style=\"text-align: right;\">\n",
              "      <th></th>\n",
              "      <th></th>\n",
              "      <th>timestamp</th>\n",
              "      <th>duration</th>\n",
              "      <th>number_of_trees</th>\n",
              "      <th>training_rmse</th>\n",
              "      <th>training_logloss</th>\n",
              "      <th>training_auc</th>\n",
              "      <th>training_pr_auc</th>\n",
              "      <th>training_lift</th>\n",
              "      <th>training_classification_error</th>\n",
              "      <th>validation_rmse</th>\n",
              "      <th>validation_logloss</th>\n",
              "      <th>validation_auc</th>\n",
              "      <th>validation_pr_auc</th>\n",
              "      <th>validation_lift</th>\n",
              "      <th>validation_classification_error</th>\n",
              "    </tr>\n",
              "  </thead>\n",
              "  <tbody>\n",
              "    <tr>\n",
              "      <th>0</th>\n",
              "      <td></td>\n",
              "      <td>2020-07-23 19:47:45</td>\n",
              "      <td>0.007 sec</td>\n",
              "      <td>0.0</td>\n",
              "      <td>0.445346</td>\n",
              "      <td>0.585923</td>\n",
              "      <td>0.500000</td>\n",
              "      <td>0.727303</td>\n",
              "      <td>1.000000</td>\n",
              "      <td>0.272697</td>\n",
              "      <td>0.444762</td>\n",
              "      <td>0.584800</td>\n",
              "      <td>0.500000</td>\n",
              "      <td>0.728448</td>\n",
              "      <td>1.000000</td>\n",
              "      <td>0.271552</td>\n",
              "    </tr>\n",
              "    <tr>\n",
              "      <th>1</th>\n",
              "      <td></td>\n",
              "      <td>2020-07-23 19:47:53</td>\n",
              "      <td>8.409 sec</td>\n",
              "      <td>10.0</td>\n",
              "      <td>0.364194</td>\n",
              "      <td>0.426578</td>\n",
              "      <td>0.888631</td>\n",
              "      <td>0.951933</td>\n",
              "      <td>1.374942</td>\n",
              "      <td>0.158602</td>\n",
              "      <td>0.368136</td>\n",
              "      <td>0.432911</td>\n",
              "      <td>0.879325</td>\n",
              "      <td>0.948285</td>\n",
              "      <td>1.372782</td>\n",
              "      <td>0.165517</td>\n",
              "    </tr>\n",
              "    <tr>\n",
              "      <th>2</th>\n",
              "      <td></td>\n",
              "      <td>2020-07-23 19:48:01</td>\n",
              "      <td>16.075 sec</td>\n",
              "      <td>20.0</td>\n",
              "      <td>0.333617</td>\n",
              "      <td>0.366906</td>\n",
              "      <td>0.911594</td>\n",
              "      <td>0.962393</td>\n",
              "      <td>1.373121</td>\n",
              "      <td>0.140182</td>\n",
              "      <td>0.341051</td>\n",
              "      <td>0.378529</td>\n",
              "      <td>0.900122</td>\n",
              "      <td>0.957801</td>\n",
              "      <td>1.372782</td>\n",
              "      <td>0.149748</td>\n",
              "    </tr>\n",
              "    <tr>\n",
              "      <th>3</th>\n",
              "      <td></td>\n",
              "      <td>2020-07-23 19:48:09</td>\n",
              "      <td>23.724 sec</td>\n",
              "      <td>30.0</td>\n",
              "      <td>0.316940</td>\n",
              "      <td>0.334105</td>\n",
              "      <td>0.924147</td>\n",
              "      <td>0.967927</td>\n",
              "      <td>1.373117</td>\n",
              "      <td>0.131176</td>\n",
              "      <td>0.327103</td>\n",
              "      <td>0.349941</td>\n",
              "      <td>0.910794</td>\n",
              "      <td>0.962434</td>\n",
              "      <td>1.372782</td>\n",
              "      <td>0.141747</td>\n",
              "    </tr>\n",
              "    <tr>\n",
              "      <th>4</th>\n",
              "      <td></td>\n",
              "      <td>2020-07-23 19:48:16</td>\n",
              "      <td>31.154 sec</td>\n",
              "      <td>40.0</td>\n",
              "      <td>0.305992</td>\n",
              "      <td>0.312413</td>\n",
              "      <td>0.931751</td>\n",
              "      <td>0.971343</td>\n",
              "      <td>1.374942</td>\n",
              "      <td>0.124513</td>\n",
              "      <td>0.318712</td>\n",
              "      <td>0.332048</td>\n",
              "      <td>0.917141</td>\n",
              "      <td>0.965293</td>\n",
              "      <td>1.372782</td>\n",
              "      <td>0.137747</td>\n",
              "    </tr>\n",
              "    <tr>\n",
              "      <th>5</th>\n",
              "      <td></td>\n",
              "      <td>2020-07-23 19:48:23</td>\n",
              "      <td>38.431 sec</td>\n",
              "      <td>50.0</td>\n",
              "      <td>0.297710</td>\n",
              "      <td>0.296464</td>\n",
              "      <td>0.937594</td>\n",
              "      <td>0.973913</td>\n",
              "      <td>1.374942</td>\n",
              "      <td>0.116743</td>\n",
              "      <td>0.312875</td>\n",
              "      <td>0.319758</td>\n",
              "      <td>0.921678</td>\n",
              "      <td>0.967318</td>\n",
              "      <td>1.372782</td>\n",
              "      <td>0.135138</td>\n",
              "    </tr>\n",
              "  </tbody>\n",
              "</table>\n",
              "</div>"
            ],
            "text/plain": [
              "               timestamp  ... validation_lift  validation_classification_error\n",
              "0    2020-07-23 19:47:45  ...        1.000000                         0.271552\n",
              "1    2020-07-23 19:47:53  ...        1.372782                         0.165517\n",
              "2    2020-07-23 19:48:01  ...        1.372782                         0.149748\n",
              "3    2020-07-23 19:48:09  ...        1.372782                         0.141747\n",
              "4    2020-07-23 19:48:16  ...        1.372782                         0.137747\n",
              "5    2020-07-23 19:48:23  ...        1.372782                         0.135138\n",
              "\n",
              "[6 rows x 16 columns]"
            ]
          },
          "metadata": {
            "tags": []
          },
          "execution_count": 58
        }
      ]
    },
    {
      "cell_type": "code",
      "metadata": {
        "id": "OT9w1XsxRKqs",
        "colab_type": "code",
        "colab": {
          "base_uri": "https://localhost:8080/",
          "height": 612
        },
        "outputId": "c2657c5b-2eb2-4cf7-ec2c-6ff5c4a4fe88"
      },
      "source": [
        "gbm_all_cols.varimp_plot()"
      ],
      "execution_count": 59,
      "outputs": [
        {
          "output_type": "display_data",
          "data": {
            "image/png": "[encoded data removed]",
            "text/plain": [
              "<Figure size 1008x720 with 1 Axes>"
            ]
          },
          "metadata": {
            "tags": [],
            "needs_background": "light"
          }
        }
      ]
    },
    {
      "cell_type": "code",
      "metadata": {
        "id": "UevRkYiHRPTl",
        "colab_type": "code",
        "colab": {}
      },
      "source": [
        ""
      ],
      "execution_count": 59,
      "outputs": []
    },
    {
      "cell_type": "code",
      "metadata": {
        "id": "sSbhq4AELhST",
        "colab_type": "code",
        "colab": {}
      },
      "source": [
        "gbm_hyperparameters = H2OGradientBoostingEstimator(ntrees=100,max_depth=6,learn_rate=0.1)"
      ],
      "execution_count": 61,
      "outputs": []
    },
    {
      "cell_type": "code",
      "metadata": {
        "id": "KXnZ3q2yMqBm",
        "colab_type": "code",
        "colab": {
          "base_uri": "https://localhost:8080/",
          "height": 35
        },
        "outputId": "9e2319a0-7ab3-4e06-c051-53dbe916ffbd"
      },
      "source": [
        "gbm_hyperparameters.train(x=headlines_vecs.names+reviews_vecs.names,y='target',training_frame=h2o_train, validation_frame=h2o_valid)"
      ],
      "execution_count": 64,
      "outputs": [
        {
          "output_type": "stream",
          "text": [
            "gbm Model Build progress: |███████████████████████████████████████████████| 100%\n"
          ],
          "name": "stdout"
        }
      ]
    },
    {
      "cell_type": "code",
      "metadata": {
        "id": "H_RDnGEeNsP1",
        "colab_type": "code",
        "colab": {
          "base_uri": "https://localhost:8080/",
          "height": 35
        },
        "outputId": "e3de32b0-fbeb-46fa-faaa-205519a65ffa"
      },
      "source": [
        "print(\"Hyperparameter AUC : \" + str(round(gbm_hyperparameters.auc(valid=True),3)))"
      ],
      "execution_count": 65,
      "outputs": [
        {
          "output_type": "stream",
          "text": [
            "Hyperparameter AUC : 0.933\n"
          ],
          "name": "stdout"
        }
      ]
    },
    {
      "cell_type": "code",
      "metadata": {
        "id": "vWpQFVWnN0BI",
        "colab_type": "code",
        "colab": {
          "base_uri": "https://localhost:8080/",
          "height": 180
        },
        "outputId": "7435b7c4-a563-4cb1-88d2-589f53f7fb77"
      },
      "source": [
        "gbm_hyperparameters.confusion_matrix(valid=True)"
      ],
      "execution_count": 66,
      "outputs": [
        {
          "output_type": "stream",
          "text": [
            "\n",
            "Confusion Matrix (Act/Pred) for max f1 @ threshold = 0.5048280096700644: \n"
          ],
          "name": "stdout"
        },
        {
          "output_type": "display_data",
          "data": {
            "text/html": [
              "<div>\n",
              "<style scoped>\n",
              "    .dataframe tbody tr th:only-of-type {\n",
              "        vertical-align: middle;\n",
              "    }\n",
              "\n",
              "    .dataframe tbody tr th {\n",
              "        vertical-align: top;\n",
              "    }\n",
              "\n",
              "    .dataframe thead th {\n",
              "        text-align: right;\n",
              "    }\n",
              "</style>\n",
              "<table border=\"1\" class=\"dataframe\">\n",
              "  <thead>\n",
              "    <tr style=\"text-align: right;\">\n",
              "      <th></th>\n",
              "      <th></th>\n",
              "      <th>0</th>\n",
              "      <th>1</th>\n",
              "      <th>Error</th>\n",
              "      <th>Rate</th>\n",
              "    </tr>\n",
              "  </thead>\n",
              "  <tbody>\n",
              "    <tr>\n",
              "      <th>0</th>\n",
              "      <td>0</td>\n",
              "      <td>3208.0</td>\n",
              "      <td>1476.0</td>\n",
              "      <td>0.3151</td>\n",
              "      <td>(1476.0/4684.0)</td>\n",
              "    </tr>\n",
              "    <tr>\n",
              "      <th>1</th>\n",
              "      <td>1</td>\n",
              "      <td>644.0</td>\n",
              "      <td>11921.0</td>\n",
              "      <td>0.0513</td>\n",
              "      <td>(644.0/12565.0)</td>\n",
              "    </tr>\n",
              "    <tr>\n",
              "      <th>2</th>\n",
              "      <td>Total</td>\n",
              "      <td>3852.0</td>\n",
              "      <td>13397.0</td>\n",
              "      <td>0.1229</td>\n",
              "      <td>(2120.0/17249.0)</td>\n",
              "    </tr>\n",
              "  </tbody>\n",
              "</table>\n",
              "</div>"
            ],
            "text/plain": [
              "               0        1   Error               Rate\n",
              "0      0  3208.0   1476.0  0.3151    (1476.0/4684.0)\n",
              "1      1   644.0  11921.0  0.0513    (644.0/12565.0)\n",
              "2  Total  3852.0  13397.0  0.1229   (2120.0/17249.0)"
            ]
          },
          "metadata": {
            "tags": []
          }
        },
        {
          "output_type": "execute_result",
          "data": {
            "text/plain": [
              ""
            ]
          },
          "metadata": {
            "tags": []
          },
          "execution_count": 66
        }
      ]
    },
    {
      "cell_type": "code",
      "metadata": {
        "id": "BkBhKFZ4N3gt",
        "colab_type": "code",
        "colab": {
          "base_uri": "https://localhost:8080/",
          "height": 1000
        },
        "outputId": "8cbd510b-e974-4f38-a3b0-40d1cd72c68b"
      },
      "source": [
        "gbm_hyperparameters.score_history()"
      ],
      "execution_count": 67,
      "outputs": [
        {
          "output_type": "execute_result",
          "data": {
            "text/html": [
              "<div>\n",
              "<style scoped>\n",
              "    .dataframe tbody tr th:only-of-type {\n",
              "        vertical-align: middle;\n",
              "    }\n",
              "\n",
              "    .dataframe tbody tr th {\n",
              "        vertical-align: top;\n",
              "    }\n",
              "\n",
              "    .dataframe thead th {\n",
              "        text-align: right;\n",
              "    }\n",
              "</style>\n",
              "<table border=\"1\" class=\"dataframe\">\n",
              "  <thead>\n",
              "    <tr style=\"text-align: right;\">\n",
              "      <th></th>\n",
              "      <th></th>\n",
              "      <th>timestamp</th>\n",
              "      <th>duration</th>\n",
              "      <th>number_of_trees</th>\n",
              "      <th>training_rmse</th>\n",
              "      <th>training_logloss</th>\n",
              "      <th>training_auc</th>\n",
              "      <th>training_pr_auc</th>\n",
              "      <th>training_lift</th>\n",
              "      <th>training_classification_error</th>\n",
              "      <th>validation_rmse</th>\n",
              "      <th>validation_logloss</th>\n",
              "      <th>validation_auc</th>\n",
              "      <th>validation_pr_auc</th>\n",
              "      <th>validation_lift</th>\n",
              "      <th>validation_classification_error</th>\n",
              "    </tr>\n",
              "  </thead>\n",
              "  <tbody>\n",
              "    <tr>\n",
              "      <th>0</th>\n",
              "      <td></td>\n",
              "      <td>2020-07-23 19:53:59</td>\n",
              "      <td>0.016 sec</td>\n",
              "      <td>0.0</td>\n",
              "      <td>0.445346</td>\n",
              "      <td>0.585923</td>\n",
              "      <td>0.500000</td>\n",
              "      <td>0.727303</td>\n",
              "      <td>1.000000</td>\n",
              "      <td>0.272697</td>\n",
              "      <td>0.444762</td>\n",
              "      <td>0.584800</td>\n",
              "      <td>0.500000</td>\n",
              "      <td>0.728448</td>\n",
              "      <td>1.000000</td>\n",
              "      <td>0.271552</td>\n",
              "    </tr>\n",
              "    <tr>\n",
              "      <th>1</th>\n",
              "      <td></td>\n",
              "      <td>2020-07-23 19:54:00</td>\n",
              "      <td>1.213 sec</td>\n",
              "      <td>1.0</td>\n",
              "      <td>0.429977</td>\n",
              "      <td>0.553094</td>\n",
              "      <td>0.848637</td>\n",
              "      <td>0.931522</td>\n",
              "      <td>1.356667</td>\n",
              "      <td>0.184819</td>\n",
              "      <td>0.430326</td>\n",
              "      <td>0.553911</td>\n",
              "      <td>0.836618</td>\n",
              "      <td>0.926325</td>\n",
              "      <td>1.350751</td>\n",
              "      <td>0.192881</td>\n",
              "    </tr>\n",
              "    <tr>\n",
              "      <th>2</th>\n",
              "      <td></td>\n",
              "      <td>2020-07-23 19:54:02</td>\n",
              "      <td>2.408 sec</td>\n",
              "      <td>2.0</td>\n",
              "      <td>0.416881</td>\n",
              "      <td>0.526950</td>\n",
              "      <td>0.865522</td>\n",
              "      <td>0.941286</td>\n",
              "      <td>1.372997</td>\n",
              "      <td>0.175682</td>\n",
              "      <td>0.417919</td>\n",
              "      <td>0.529019</td>\n",
              "      <td>0.853285</td>\n",
              "      <td>0.935583</td>\n",
              "      <td>1.368577</td>\n",
              "      <td>0.184880</td>\n",
              "    </tr>\n",
              "    <tr>\n",
              "      <th>3</th>\n",
              "      <td></td>\n",
              "      <td>2020-07-23 19:54:03</td>\n",
              "      <td>3.439 sec</td>\n",
              "      <td>3.0</td>\n",
              "      <td>0.405770</td>\n",
              "      <td>0.505543</td>\n",
              "      <td>0.872490</td>\n",
              "      <td>0.944595</td>\n",
              "      <td>1.373328</td>\n",
              "      <td>0.172467</td>\n",
              "      <td>0.407458</td>\n",
              "      <td>0.508690</td>\n",
              "      <td>0.860938</td>\n",
              "      <td>0.939787</td>\n",
              "      <td>1.370637</td>\n",
              "      <td>0.183663</td>\n",
              "    </tr>\n",
              "    <tr>\n",
              "      <th>4</th>\n",
              "      <td></td>\n",
              "      <td>2020-07-23 19:54:07</td>\n",
              "      <td>8.275 sec</td>\n",
              "      <td>8.0</td>\n",
              "      <td>0.365710</td>\n",
              "      <td>0.430568</td>\n",
              "      <td>0.897371</td>\n",
              "      <td>0.955763</td>\n",
              "      <td>1.374942</td>\n",
              "      <td>0.151123</td>\n",
              "      <td>0.370814</td>\n",
              "      <td>0.438960</td>\n",
              "      <td>0.883348</td>\n",
              "      <td>0.950162</td>\n",
              "      <td>1.372782</td>\n",
              "      <td>0.165285</td>\n",
              "    </tr>\n",
              "    <tr>\n",
              "      <th>5</th>\n",
              "      <td></td>\n",
              "      <td>2020-07-23 19:54:12</td>\n",
              "      <td>13.117 sec</td>\n",
              "      <td>13.0</td>\n",
              "      <td>0.342911</td>\n",
              "      <td>0.387131</td>\n",
              "      <td>0.910200</td>\n",
              "      <td>0.961620</td>\n",
              "      <td>1.374942</td>\n",
              "      <td>0.142321</td>\n",
              "      <td>0.350691</td>\n",
              "      <td>0.399443</td>\n",
              "      <td>0.895044</td>\n",
              "      <td>0.955452</td>\n",
              "      <td>1.372782</td>\n",
              "      <td>0.154444</td>\n",
              "    </tr>\n",
              "    <tr>\n",
              "      <th>6</th>\n",
              "      <td></td>\n",
              "      <td>2020-07-23 19:54:16</td>\n",
              "      <td>17.144 sec</td>\n",
              "      <td>17.0</td>\n",
              "      <td>0.330104</td>\n",
              "      <td>0.362466</td>\n",
              "      <td>0.918354</td>\n",
              "      <td>0.965319</td>\n",
              "      <td>1.374942</td>\n",
              "      <td>0.134639</td>\n",
              "      <td>0.340133</td>\n",
              "      <td>0.378091</td>\n",
              "      <td>0.902023</td>\n",
              "      <td>0.958660</td>\n",
              "      <td>1.372782</td>\n",
              "      <td>0.151429</td>\n",
              "    </tr>\n",
              "    <tr>\n",
              "      <th>7</th>\n",
              "      <td></td>\n",
              "      <td>2020-07-23 19:54:21</td>\n",
              "      <td>22.047 sec</td>\n",
              "      <td>22.0</td>\n",
              "      <td>0.318056</td>\n",
              "      <td>0.338928</td>\n",
              "      <td>0.926763</td>\n",
              "      <td>0.969129</td>\n",
              "      <td>1.374942</td>\n",
              "      <td>0.126331</td>\n",
              "      <td>0.331047</td>\n",
              "      <td>0.358924</td>\n",
              "      <td>0.908503</td>\n",
              "      <td>0.961665</td>\n",
              "      <td>1.372782</td>\n",
              "      <td>0.144878</td>\n",
              "    </tr>\n",
              "    <tr>\n",
              "      <th>8</th>\n",
              "      <td></td>\n",
              "      <td>2020-07-23 19:54:26</td>\n",
              "      <td>26.945 sec</td>\n",
              "      <td>27.0</td>\n",
              "      <td>0.309020</td>\n",
              "      <td>0.321463</td>\n",
              "      <td>0.932546</td>\n",
              "      <td>0.971644</td>\n",
              "      <td>1.374942</td>\n",
              "      <td>0.120861</td>\n",
              "      <td>0.324609</td>\n",
              "      <td>0.345316</td>\n",
              "      <td>0.912899</td>\n",
              "      <td>0.963559</td>\n",
              "      <td>1.372782</td>\n",
              "      <td>0.141689</td>\n",
              "    </tr>\n",
              "    <tr>\n",
              "      <th>9</th>\n",
              "      <td></td>\n",
              "      <td>2020-07-23 19:54:30</td>\n",
              "      <td>31.100 sec</td>\n",
              "      <td>31.0</td>\n",
              "      <td>0.302821</td>\n",
              "      <td>0.309597</td>\n",
              "      <td>0.936782</td>\n",
              "      <td>0.973507</td>\n",
              "      <td>1.374942</td>\n",
              "      <td>0.118096</td>\n",
              "      <td>0.320498</td>\n",
              "      <td>0.336461</td>\n",
              "      <td>0.915910</td>\n",
              "      <td>0.964932</td>\n",
              "      <td>1.372782</td>\n",
              "      <td>0.139312</td>\n",
              "    </tr>\n",
              "    <tr>\n",
              "      <th>10</th>\n",
              "      <td></td>\n",
              "      <td>2020-07-23 19:54:35</td>\n",
              "      <td>35.744 sec</td>\n",
              "      <td>36.0</td>\n",
              "      <td>0.296286</td>\n",
              "      <td>0.297075</td>\n",
              "      <td>0.941088</td>\n",
              "      <td>0.975393</td>\n",
              "      <td>1.374942</td>\n",
              "      <td>0.112873</td>\n",
              "      <td>0.316386</td>\n",
              "      <td>0.327462</td>\n",
              "      <td>0.918976</td>\n",
              "      <td>0.966316</td>\n",
              "      <td>1.372782</td>\n",
              "      <td>0.135718</td>\n",
              "    </tr>\n",
              "    <tr>\n",
              "      <th>11</th>\n",
              "      <td></td>\n",
              "      <td>2020-07-23 19:54:40</td>\n",
              "      <td>40.487 sec</td>\n",
              "      <td>41.0</td>\n",
              "      <td>0.290588</td>\n",
              "      <td>0.286616</td>\n",
              "      <td>0.944848</td>\n",
              "      <td>0.977014</td>\n",
              "      <td>1.374942</td>\n",
              "      <td>0.108436</td>\n",
              "      <td>0.313138</td>\n",
              "      <td>0.320644</td>\n",
              "      <td>0.921192</td>\n",
              "      <td>0.967189</td>\n",
              "      <td>1.372782</td>\n",
              "      <td>0.135544</td>\n",
              "    </tr>\n",
              "    <tr>\n",
              "      <th>12</th>\n",
              "      <td></td>\n",
              "      <td>2020-07-23 19:54:44</td>\n",
              "      <td>45.063 sec</td>\n",
              "      <td>46.0</td>\n",
              "      <td>0.285631</td>\n",
              "      <td>0.277601</td>\n",
              "      <td>0.947914</td>\n",
              "      <td>0.978307</td>\n",
              "      <td>1.374942</td>\n",
              "      <td>0.103765</td>\n",
              "      <td>0.310290</td>\n",
              "      <td>0.314663</td>\n",
              "      <td>0.923407</td>\n",
              "      <td>0.968134</td>\n",
              "      <td>1.372782</td>\n",
              "      <td>0.132761</td>\n",
              "    </tr>\n",
              "    <tr>\n",
              "      <th>13</th>\n",
              "      <td></td>\n",
              "      <td>2020-07-23 19:54:49</td>\n",
              "      <td>49.759 sec</td>\n",
              "      <td>51.0</td>\n",
              "      <td>0.281297</td>\n",
              "      <td>0.269598</td>\n",
              "      <td>0.950620</td>\n",
              "      <td>0.979490</td>\n",
              "      <td>1.374942</td>\n",
              "      <td>0.100695</td>\n",
              "      <td>0.307973</td>\n",
              "      <td>0.309663</td>\n",
              "      <td>0.925040</td>\n",
              "      <td>0.968854</td>\n",
              "      <td>1.372782</td>\n",
              "      <td>0.131544</td>\n",
              "    </tr>\n",
              "    <tr>\n",
              "      <th>14</th>\n",
              "      <td></td>\n",
              "      <td>2020-07-23 19:54:54</td>\n",
              "      <td>54.410 sec</td>\n",
              "      <td>56.0</td>\n",
              "      <td>0.277025</td>\n",
              "      <td>0.262231</td>\n",
              "      <td>0.953355</td>\n",
              "      <td>0.980662</td>\n",
              "      <td>1.374942</td>\n",
              "      <td>0.098164</td>\n",
              "      <td>0.306056</td>\n",
              "      <td>0.305713</td>\n",
              "      <td>0.926429</td>\n",
              "      <td>0.969428</td>\n",
              "      <td>1.372782</td>\n",
              "      <td>0.130500</td>\n",
              "    </tr>\n",
              "    <tr>\n",
              "      <th>15</th>\n",
              "      <td></td>\n",
              "      <td>2020-07-23 19:54:58</td>\n",
              "      <td>58.994 sec</td>\n",
              "      <td>61.0</td>\n",
              "      <td>0.273389</td>\n",
              "      <td>0.255795</td>\n",
              "      <td>0.955609</td>\n",
              "      <td>0.981657</td>\n",
              "      <td>1.374942</td>\n",
              "      <td>0.096083</td>\n",
              "      <td>0.304457</td>\n",
              "      <td>0.302249</td>\n",
              "      <td>0.927646</td>\n",
              "      <td>0.969966</td>\n",
              "      <td>1.372782</td>\n",
              "      <td>0.128413</td>\n",
              "    </tr>\n",
              "    <tr>\n",
              "      <th>16</th>\n",
              "      <td></td>\n",
              "      <td>2020-07-23 19:55:03</td>\n",
              "      <td>1 min  3.550 sec</td>\n",
              "      <td>66.0</td>\n",
              "      <td>0.269919</td>\n",
              "      <td>0.249849</td>\n",
              "      <td>0.957643</td>\n",
              "      <td>0.982512</td>\n",
              "      <td>1.374942</td>\n",
              "      <td>0.093159</td>\n",
              "      <td>0.302989</td>\n",
              "      <td>0.299145</td>\n",
              "      <td>0.928744</td>\n",
              "      <td>0.970460</td>\n",
              "      <td>1.372782</td>\n",
              "      <td>0.127312</td>\n",
              "    </tr>\n",
              "    <tr>\n",
              "      <th>17</th>\n",
              "      <td></td>\n",
              "      <td>2020-07-23 19:55:07</td>\n",
              "      <td>1 min  7.850 sec</td>\n",
              "      <td>70.0</td>\n",
              "      <td>0.267374</td>\n",
              "      <td>0.245585</td>\n",
              "      <td>0.959121</td>\n",
              "      <td>0.983136</td>\n",
              "      <td>1.374942</td>\n",
              "      <td>0.091137</td>\n",
              "      <td>0.302075</td>\n",
              "      <td>0.297172</td>\n",
              "      <td>0.929404</td>\n",
              "      <td>0.970745</td>\n",
              "      <td>1.372782</td>\n",
              "      <td>0.126964</td>\n",
              "    </tr>\n",
              "    <tr>\n",
              "      <th>18</th>\n",
              "      <td></td>\n",
              "      <td>2020-07-23 19:55:11</td>\n",
              "      <td>1 min 12.273 sec</td>\n",
              "      <td>74.0</td>\n",
              "      <td>0.264752</td>\n",
              "      <td>0.241251</td>\n",
              "      <td>0.960706</td>\n",
              "      <td>0.983829</td>\n",
              "      <td>1.374942</td>\n",
              "      <td>0.089551</td>\n",
              "      <td>0.301096</td>\n",
              "      <td>0.295144</td>\n",
              "      <td>0.930191</td>\n",
              "      <td>0.971056</td>\n",
              "      <td>1.372782</td>\n",
              "      <td>0.125978</td>\n",
              "    </tr>\n",
              "    <tr>\n",
              "      <th>19</th>\n",
              "      <td></td>\n",
              "      <td>2020-07-23 19:55:16</td>\n",
              "      <td>1 min 17.001 sec</td>\n",
              "      <td>79.0</td>\n",
              "      <td>0.261794</td>\n",
              "      <td>0.236408</td>\n",
              "      <td>0.962360</td>\n",
              "      <td>0.984540</td>\n",
              "      <td>1.374942</td>\n",
              "      <td>0.086975</td>\n",
              "      <td>0.299982</td>\n",
              "      <td>0.292843</td>\n",
              "      <td>0.931023</td>\n",
              "      <td>0.971377</td>\n",
              "      <td>1.372782</td>\n",
              "      <td>0.125167</td>\n",
              "    </tr>\n",
              "    <tr>\n",
              "      <th>20</th>\n",
              "      <td></td>\n",
              "      <td>2020-07-23 19:55:21</td>\n",
              "      <td>1 min 21.754 sec</td>\n",
              "      <td>84.0</td>\n",
              "      <td>0.258894</td>\n",
              "      <td>0.231696</td>\n",
              "      <td>0.964006</td>\n",
              "      <td>0.985241</td>\n",
              "      <td>1.374942</td>\n",
              "      <td>0.084546</td>\n",
              "      <td>0.298959</td>\n",
              "      <td>0.290777</td>\n",
              "      <td>0.931760</td>\n",
              "      <td>0.971697</td>\n",
              "      <td>1.372782</td>\n",
              "      <td>0.126036</td>\n",
              "    </tr>\n",
              "    <tr>\n",
              "      <th>21</th>\n",
              "      <td></td>\n",
              "      <td>2020-07-23 19:55:26</td>\n",
              "      <td>1 min 26.391 sec</td>\n",
              "      <td>89.0</td>\n",
              "      <td>0.256206</td>\n",
              "      <td>0.227433</td>\n",
              "      <td>0.965470</td>\n",
              "      <td>0.985855</td>\n",
              "      <td>1.374942</td>\n",
              "      <td>0.082582</td>\n",
              "      <td>0.298240</td>\n",
              "      <td>0.289270</td>\n",
              "      <td>0.932181</td>\n",
              "      <td>0.971826</td>\n",
              "      <td>1.372782</td>\n",
              "      <td>0.122384</td>\n",
              "    </tr>\n",
              "    <tr>\n",
              "      <th>22</th>\n",
              "      <td></td>\n",
              "      <td>2020-07-23 19:55:30</td>\n",
              "      <td>1 min 30.916 sec</td>\n",
              "      <td>94.0</td>\n",
              "      <td>0.253848</td>\n",
              "      <td>0.223688</td>\n",
              "      <td>0.966706</td>\n",
              "      <td>0.986375</td>\n",
              "      <td>1.374942</td>\n",
              "      <td>0.080865</td>\n",
              "      <td>0.297738</td>\n",
              "      <td>0.288132</td>\n",
              "      <td>0.932549</td>\n",
              "      <td>0.971965</td>\n",
              "      <td>1.372782</td>\n",
              "      <td>0.122964</td>\n",
              "    </tr>\n",
              "    <tr>\n",
              "      <th>23</th>\n",
              "      <td></td>\n",
              "      <td>2020-07-23 19:55:34</td>\n",
              "      <td>1 min 35.180 sec</td>\n",
              "      <td>98.0</td>\n",
              "      <td>0.251852</td>\n",
              "      <td>0.220543</td>\n",
              "      <td>0.967715</td>\n",
              "      <td>0.986796</td>\n",
              "      <td>1.374942</td>\n",
              "      <td>0.079817</td>\n",
              "      <td>0.297275</td>\n",
              "      <td>0.287100</td>\n",
              "      <td>0.932896</td>\n",
              "      <td>0.972158</td>\n",
              "      <td>1.372782</td>\n",
              "      <td>0.122616</td>\n",
              "    </tr>\n",
              "    <tr>\n",
              "      <th>24</th>\n",
              "      <td></td>\n",
              "      <td>2020-07-23 19:55:36</td>\n",
              "      <td>1 min 37.103 sec</td>\n",
              "      <td>100.0</td>\n",
              "      <td>0.250866</td>\n",
              "      <td>0.219001</td>\n",
              "      <td>0.968204</td>\n",
              "      <td>0.987010</td>\n",
              "      <td>1.374942</td>\n",
              "      <td>0.078377</td>\n",
              "      <td>0.296956</td>\n",
              "      <td>0.286486</td>\n",
              "      <td>0.933105</td>\n",
              "      <td>0.972224</td>\n",
              "      <td>1.372782</td>\n",
              "      <td>0.122906</td>\n",
              "    </tr>\n",
              "  </tbody>\n",
              "</table>\n",
              "</div>"
            ],
            "text/plain": [
              "                timestamp  ... validation_lift  validation_classification_error\n",
              "0     2020-07-23 19:53:59  ...        1.000000                         0.271552\n",
              "1     2020-07-23 19:54:00  ...        1.350751                         0.192881\n",
              "2     2020-07-23 19:54:02  ...        1.368577                         0.184880\n",
              "3     2020-07-23 19:54:03  ...        1.370637                         0.183663\n",
              "4     2020-07-23 19:54:07  ...        1.372782                         0.165285\n",
              "5     2020-07-23 19:54:12  ...        1.372782                         0.154444\n",
              "6     2020-07-23 19:54:16  ...        1.372782                         0.151429\n",
              "7     2020-07-23 19:54:21  ...        1.372782                         0.144878\n",
              "8     2020-07-23 19:54:26  ...        1.372782                         0.141689\n",
              "9     2020-07-23 19:54:30  ...        1.372782                         0.139312\n",
              "10    2020-07-23 19:54:35  ...        1.372782                         0.135718\n",
              "11    2020-07-23 19:54:40  ...        1.372782                         0.135544\n",
              "12    2020-07-23 19:54:44  ...        1.372782                         0.132761\n",
              "13    2020-07-23 19:54:49  ...        1.372782                         0.131544\n",
              "14    2020-07-23 19:54:54  ...        1.372782                         0.130500\n",
              "15    2020-07-23 19:54:58  ...        1.372782                         0.128413\n",
              "16    2020-07-23 19:55:03  ...        1.372782                         0.127312\n",
              "17    2020-07-23 19:55:07  ...        1.372782                         0.126964\n",
              "18    2020-07-23 19:55:11  ...        1.372782                         0.125978\n",
              "19    2020-07-23 19:55:16  ...        1.372782                         0.125167\n",
              "20    2020-07-23 19:55:21  ...        1.372782                         0.126036\n",
              "21    2020-07-23 19:55:26  ...        1.372782                         0.122384\n",
              "22    2020-07-23 19:55:30  ...        1.372782                         0.122964\n",
              "23    2020-07-23 19:55:34  ...        1.372782                         0.122616\n",
              "24    2020-07-23 19:55:36  ...        1.372782                         0.122906\n",
              "\n",
              "[25 rows x 16 columns]"
            ]
          },
          "metadata": {
            "tags": []
          },
          "execution_count": 67
        }
      ]
    },
    {
      "cell_type": "code",
      "metadata": {
        "id": "kosPaWrHN8Wv",
        "colab_type": "code",
        "colab": {}
      },
      "source": [
        "xgb_all_feat=H2OXGBoostEstimator(ntrees=100,learn_rate=0.1,max_leaves=6,tree_method=\"hist\",grow_policy=\"lossguide\")"
      ],
      "execution_count": 70,
      "outputs": []
    },
    {
      "cell_type": "code",
      "metadata": {
        "id": "64hBMAGsORuR",
        "colab_type": "code",
        "colab": {
          "base_uri": "https://localhost:8080/",
          "height": 35
        },
        "outputId": "9e27c5d3-79da-4ed2-8c1c-332067d6fd1a"
      },
      "source": [
        "xgb_all_feat.train(x=headlines_vecs.names+reviews_vecs.names,y='target',training_frame=h2o_train, validation_frame=h2o_valid)"
      ],
      "execution_count": 71,
      "outputs": [
        {
          "output_type": "stream",
          "text": [
            "xgboost Model Build progress: |███████████████████████████████████████████| 100%\n"
          ],
          "name": "stdout"
        }
      ]
    },
    {
      "cell_type": "code",
      "metadata": {
        "id": "NPVbq1ZHOdYZ",
        "colab_type": "code",
        "colab": {
          "base_uri": "https://localhost:8080/",
          "height": 35
        },
        "outputId": "a72f7772-2bab-4b84-fa2b-e154ef0fc6e5"
      },
      "source": [
        "print(\"XGBoost AUC : \" + str(round(xgb_all_feat.auc(valid=True),3)))"
      ],
      "execution_count": 72,
      "outputs": [
        {
          "output_type": "stream",
          "text": [
            "XGBoost AUC : 0.92\n"
          ],
          "name": "stdout"
        }
      ]
    },
    {
      "cell_type": "code",
      "metadata": {
        "id": "BYjDt8PLOudQ",
        "colab_type": "code",
        "colab": {
          "base_uri": "https://localhost:8080/",
          "height": 180
        },
        "outputId": "820a5443-9807-4c7b-988b-f17e5779056e"
      },
      "source": [
        "xgb_all_feat.confusion_matrix(valid=True)"
      ],
      "execution_count": 73,
      "outputs": [
        {
          "output_type": "stream",
          "text": [
            "\n",
            "Confusion Matrix (Act/Pred) for max f1 @ threshold = 0.5421013385057449: \n"
          ],
          "name": "stdout"
        },
        {
          "output_type": "display_data",
          "data": {
            "text/html": [
              "<div>\n",
              "<style scoped>\n",
              "    .dataframe tbody tr th:only-of-type {\n",
              "        vertical-align: middle;\n",
              "    }\n",
              "\n",
              "    .dataframe tbody tr th {\n",
              "        vertical-align: top;\n",
              "    }\n",
              "\n",
              "    .dataframe thead th {\n",
              "        text-align: right;\n",
              "    }\n",
              "</style>\n",
              "<table border=\"1\" class=\"dataframe\">\n",
              "  <thead>\n",
              "    <tr style=\"text-align: right;\">\n",
              "      <th></th>\n",
              "      <th></th>\n",
              "      <th>0</th>\n",
              "      <th>1</th>\n",
              "      <th>Error</th>\n",
              "      <th>Rate</th>\n",
              "    </tr>\n",
              "  </thead>\n",
              "  <tbody>\n",
              "    <tr>\n",
              "      <th>0</th>\n",
              "      <td>0</td>\n",
              "      <td>3067.0</td>\n",
              "      <td>1617.0</td>\n",
              "      <td>0.3452</td>\n",
              "      <td>(1617.0/4684.0)</td>\n",
              "    </tr>\n",
              "    <tr>\n",
              "      <th>1</th>\n",
              "      <td>1</td>\n",
              "      <td>732.0</td>\n",
              "      <td>11833.0</td>\n",
              "      <td>0.0583</td>\n",
              "      <td>(732.0/12565.0)</td>\n",
              "    </tr>\n",
              "    <tr>\n",
              "      <th>2</th>\n",
              "      <td>Total</td>\n",
              "      <td>3799.0</td>\n",
              "      <td>13450.0</td>\n",
              "      <td>0.1362</td>\n",
              "      <td>(2349.0/17249.0)</td>\n",
              "    </tr>\n",
              "  </tbody>\n",
              "</table>\n",
              "</div>"
            ],
            "text/plain": [
              "               0        1   Error               Rate\n",
              "0      0  3067.0   1617.0  0.3452    (1617.0/4684.0)\n",
              "1      1   732.0  11833.0  0.0583    (732.0/12565.0)\n",
              "2  Total  3799.0  13450.0  0.1362   (2349.0/17249.0)"
            ]
          },
          "metadata": {
            "tags": []
          }
        },
        {
          "output_type": "execute_result",
          "data": {
            "text/plain": [
              ""
            ]
          },
          "metadata": {
            "tags": []
          },
          "execution_count": 73
        }
      ]
    },
    {
      "cell_type": "code",
      "metadata": {
        "id": "onLpRxtjOysn",
        "colab_type": "code",
        "colab": {
          "base_uri": "https://localhost:8080/",
          "height": 410
        },
        "outputId": "bc9fc1e3-ddac-4e0b-96a1-492800c37a38"
      },
      "source": [
        "xgb_all_feat.score_history()"
      ],
      "execution_count": 74,
      "outputs": [
        {
          "output_type": "execute_result",
          "data": {
            "text/html": [
              "<div>\n",
              "<style scoped>\n",
              "    .dataframe tbody tr th:only-of-type {\n",
              "        vertical-align: middle;\n",
              "    }\n",
              "\n",
              "    .dataframe tbody tr th {\n",
              "        vertical-align: top;\n",
              "    }\n",
              "\n",
              "    .dataframe thead th {\n",
              "        text-align: right;\n",
              "    }\n",
              "</style>\n",
              "<table border=\"1\" class=\"dataframe\">\n",
              "  <thead>\n",
              "    <tr style=\"text-align: right;\">\n",
              "      <th></th>\n",
              "      <th></th>\n",
              "      <th>timestamp</th>\n",
              "      <th>duration</th>\n",
              "      <th>number_of_trees</th>\n",
              "      <th>training_rmse</th>\n",
              "      <th>training_logloss</th>\n",
              "      <th>training_auc</th>\n",
              "      <th>training_pr_auc</th>\n",
              "      <th>training_lift</th>\n",
              "      <th>training_classification_error</th>\n",
              "      <th>validation_rmse</th>\n",
              "      <th>validation_logloss</th>\n",
              "      <th>validation_auc</th>\n",
              "      <th>validation_pr_auc</th>\n",
              "      <th>validation_lift</th>\n",
              "      <th>validation_classification_error</th>\n",
              "    </tr>\n",
              "  </thead>\n",
              "  <tbody>\n",
              "    <tr>\n",
              "      <th>0</th>\n",
              "      <td></td>\n",
              "      <td>2020-07-23 19:57:31</td>\n",
              "      <td>0.243 sec</td>\n",
              "      <td>0.0</td>\n",
              "      <td>0.500000</td>\n",
              "      <td>0.693147</td>\n",
              "      <td>0.500000</td>\n",
              "      <td>0.727303</td>\n",
              "      <td>1.000000</td>\n",
              "      <td>0.272697</td>\n",
              "      <td>0.500000</td>\n",
              "      <td>0.693147</td>\n",
              "      <td>0.500000</td>\n",
              "      <td>0.728448</td>\n",
              "      <td>1.000000</td>\n",
              "      <td>0.271552</td>\n",
              "    </tr>\n",
              "    <tr>\n",
              "      <th>1</th>\n",
              "      <td></td>\n",
              "      <td>2020-07-23 19:57:35</td>\n",
              "      <td>3.995 sec</td>\n",
              "      <td>1.0</td>\n",
              "      <td>0.481500</td>\n",
              "      <td>0.656770</td>\n",
              "      <td>0.761580</td>\n",
              "      <td>0.863690</td>\n",
              "      <td>1.211053</td>\n",
              "      <td>0.233981</td>\n",
              "      <td>0.481740</td>\n",
              "      <td>0.657234</td>\n",
              "      <td>0.754586</td>\n",
              "      <td>0.860348</td>\n",
              "      <td>1.203854</td>\n",
              "      <td>0.237173</td>\n",
              "    </tr>\n",
              "    <tr>\n",
              "      <th>2</th>\n",
              "      <td></td>\n",
              "      <td>2020-07-23 19:57:36</td>\n",
              "      <td>4.669 sec</td>\n",
              "      <td>2.0</td>\n",
              "      <td>0.465774</td>\n",
              "      <td>0.626643</td>\n",
              "      <td>0.789797</td>\n",
              "      <td>0.887245</td>\n",
              "      <td>1.258812</td>\n",
              "      <td>0.230184</td>\n",
              "      <td>0.466132</td>\n",
              "      <td>0.627313</td>\n",
              "      <td>0.784390</td>\n",
              "      <td>0.884673</td>\n",
              "      <td>1.252917</td>\n",
              "      <td>0.233753</td>\n",
              "    </tr>\n",
              "    <tr>\n",
              "      <th>3</th>\n",
              "      <td></td>\n",
              "      <td>2020-07-23 19:57:36</td>\n",
              "      <td>5.270 sec</td>\n",
              "      <td>3.0</td>\n",
              "      <td>0.452608</td>\n",
              "      <td>0.601780</td>\n",
              "      <td>0.793604</td>\n",
              "      <td>0.888262</td>\n",
              "      <td>1.258812</td>\n",
              "      <td>0.219243</td>\n",
              "      <td>0.453258</td>\n",
              "      <td>0.602971</td>\n",
              "      <td>0.786712</td>\n",
              "      <td>0.885106</td>\n",
              "      <td>1.252917</td>\n",
              "      <td>0.223027</td>\n",
              "    </tr>\n",
              "    <tr>\n",
              "      <th>4</th>\n",
              "      <td></td>\n",
              "      <td>2020-07-23 19:57:41</td>\n",
              "      <td>9.658 sec</td>\n",
              "      <td>45.0</td>\n",
              "      <td>0.333506</td>\n",
              "      <td>0.362604</td>\n",
              "      <td>0.905948</td>\n",
              "      <td>0.960021</td>\n",
              "      <td>1.374942</td>\n",
              "      <td>0.148810</td>\n",
              "      <td>0.337480</td>\n",
              "      <td>0.368767</td>\n",
              "      <td>0.900797</td>\n",
              "      <td>0.958170</td>\n",
              "      <td>1.372782</td>\n",
              "      <td>0.151081</td>\n",
              "    </tr>\n",
              "    <tr>\n",
              "      <th>5</th>\n",
              "      <td></td>\n",
              "      <td>2020-07-23 19:57:45</td>\n",
              "      <td>13.722 sec</td>\n",
              "      <td>83.0</td>\n",
              "      <td>0.313405</td>\n",
              "      <td>0.321441</td>\n",
              "      <td>0.922637</td>\n",
              "      <td>0.967576</td>\n",
              "      <td>1.374942</td>\n",
              "      <td>0.133824</td>\n",
              "      <td>0.319215</td>\n",
              "      <td>0.330380</td>\n",
              "      <td>0.916676</td>\n",
              "      <td>0.965441</td>\n",
              "      <td>1.372782</td>\n",
              "      <td>0.137457</td>\n",
              "    </tr>\n",
              "    <tr>\n",
              "      <th>6</th>\n",
              "      <td></td>\n",
              "      <td>2020-07-23 19:57:47</td>\n",
              "      <td>16.095 sec</td>\n",
              "      <td>100.0</td>\n",
              "      <td>0.307977</td>\n",
              "      <td>0.310550</td>\n",
              "      <td>0.926903</td>\n",
              "      <td>0.969468</td>\n",
              "      <td>1.374942</td>\n",
              "      <td>0.130274</td>\n",
              "      <td>0.314885</td>\n",
              "      <td>0.321249</td>\n",
              "      <td>0.919941</td>\n",
              "      <td>0.966870</td>\n",
              "      <td>1.372782</td>\n",
              "      <td>0.136182</td>\n",
              "    </tr>\n",
              "  </tbody>\n",
              "</table>\n",
              "</div>"
            ],
            "text/plain": [
              "               timestamp  ... validation_lift  validation_classification_error\n",
              "0    2020-07-23 19:57:31  ...        1.000000                         0.271552\n",
              "1    2020-07-23 19:57:35  ...        1.203854                         0.237173\n",
              "2    2020-07-23 19:57:36  ...        1.252917                         0.233753\n",
              "3    2020-07-23 19:57:36  ...        1.252917                         0.223027\n",
              "4    2020-07-23 19:57:41  ...        1.372782                         0.151081\n",
              "5    2020-07-23 19:57:45  ...        1.372782                         0.137457\n",
              "6    2020-07-23 19:57:47  ...        1.372782                         0.136182\n",
              "\n",
              "[7 rows x 16 columns]"
            ]
          },
          "metadata": {
            "tags": []
          },
          "execution_count": 74
        }
      ]
    },
    {
      "cell_type": "code",
      "metadata": {
        "id": "D9j5Axc_O0cR",
        "colab_type": "code",
        "colab": {}
      },
      "source": [
        "h2o_train,h2o_valid, h2o_test = h2o_df_ext.split_frame(ratios=[0.7,0.15])"
      ],
      "execution_count": 75,
      "outputs": []
    },
    {
      "cell_type": "code",
      "metadata": {
        "id": "P9o1cyY_PqkI",
        "colab_type": "code",
        "colab": {}
      },
      "source": [
        "gbm_final = H2OGradientBoostingEstimator(ntrees=200,max_depth=6,learn_rate=0.1)"
      ],
      "execution_count": 76,
      "outputs": []
    },
    {
      "cell_type": "code",
      "metadata": {
        "id": "Y83MZc1IQ32s",
        "colab_type": "code",
        "colab": {
          "base_uri": "https://localhost:8080/",
          "height": 35
        },
        "outputId": "c457bcfb-4b6d-43e5-eab3-250d3f902c8a"
      },
      "source": [
        "gbm_final.train(x=headlines_vecs.names+reviews_vecs.names,y='target',training_frame=h2o_train, validation_frame=h2o_valid)"
      ],
      "execution_count": 77,
      "outputs": [
        {
          "output_type": "stream",
          "text": [
            "gbm Model Build progress: |███████████████████████████████████████████████| 100%\n"
          ],
          "name": "stdout"
        }
      ]
    },
    {
      "cell_type": "code",
      "metadata": {
        "id": "RGqtOvHURACz",
        "colab_type": "code",
        "colab": {
          "base_uri": "https://localhost:8080/",
          "height": 35
        },
        "outputId": "0ba20313-18cd-44dc-d221-e66aaaa06671"
      },
      "source": [
        "print(\"XGBoost AUC : \" + str(round(gbm_final.auc(valid=True),3)))"
      ],
      "execution_count": 78,
      "outputs": [
        {
          "output_type": "stream",
          "text": [
            "XGBoost AUC : 0.937\n"
          ],
          "name": "stdout"
        }
      ]
    },
    {
      "cell_type": "code",
      "metadata": {
        "id": "r9ifnqqdRk-E",
        "colab_type": "code",
        "colab": {
          "base_uri": "https://localhost:8080/",
          "height": 180
        },
        "outputId": "2fe0e472-01df-4d60-9f75-dcc86a6d082d"
      },
      "source": [
        "gbm_final.confusion_matrix(valid=True)"
      ],
      "execution_count": 79,
      "outputs": [
        {
          "output_type": "stream",
          "text": [
            "\n",
            "Confusion Matrix (Act/Pred) for max f1 @ threshold = 0.46717291239821385: \n"
          ],
          "name": "stdout"
        },
        {
          "output_type": "display_data",
          "data": {
            "text/html": [
              "<div>\n",
              "<style scoped>\n",
              "    .dataframe tbody tr th:only-of-type {\n",
              "        vertical-align: middle;\n",
              "    }\n",
              "\n",
              "    .dataframe tbody tr th {\n",
              "        vertical-align: top;\n",
              "    }\n",
              "\n",
              "    .dataframe thead th {\n",
              "        text-align: right;\n",
              "    }\n",
              "</style>\n",
              "<table border=\"1\" class=\"dataframe\">\n",
              "  <thead>\n",
              "    <tr style=\"text-align: right;\">\n",
              "      <th></th>\n",
              "      <th></th>\n",
              "      <th>0</th>\n",
              "      <th>1</th>\n",
              "      <th>Error</th>\n",
              "      <th>Rate</th>\n",
              "    </tr>\n",
              "  </thead>\n",
              "  <tbody>\n",
              "    <tr>\n",
              "      <th>0</th>\n",
              "      <td>0</td>\n",
              "      <td>2514.0</td>\n",
              "      <td>1100.0</td>\n",
              "      <td>0.3044</td>\n",
              "      <td>(1100.0/3614.0)</td>\n",
              "    </tr>\n",
              "    <tr>\n",
              "      <th>1</th>\n",
              "      <td>1</td>\n",
              "      <td>452.0</td>\n",
              "      <td>9031.0</td>\n",
              "      <td>0.0477</td>\n",
              "      <td>(452.0/9483.0)</td>\n",
              "    </tr>\n",
              "    <tr>\n",
              "      <th>2</th>\n",
              "      <td>Total</td>\n",
              "      <td>2966.0</td>\n",
              "      <td>10131.0</td>\n",
              "      <td>0.1185</td>\n",
              "      <td>(1552.0/13097.0)</td>\n",
              "    </tr>\n",
              "  </tbody>\n",
              "</table>\n",
              "</div>"
            ],
            "text/plain": [
              "               0        1   Error               Rate\n",
              "0      0  2514.0   1100.0  0.3044    (1100.0/3614.0)\n",
              "1      1   452.0   9031.0  0.0477     (452.0/9483.0)\n",
              "2  Total  2966.0  10131.0  0.1185   (1552.0/13097.0)"
            ]
          },
          "metadata": {
            "tags": []
          }
        },
        {
          "output_type": "execute_result",
          "data": {
            "text/plain": [
              ""
            ]
          },
          "metadata": {
            "tags": []
          },
          "execution_count": 79
        }
      ]
    },
    {
      "cell_type": "code",
      "metadata": {
        "id": "1jQLwpZXRpyt",
        "colab_type": "code",
        "colab": {
          "base_uri": "https://localhost:8080/",
          "height": 612
        },
        "outputId": "552cc098-ada4-4f43-d8a3-81b5408035f0"
      },
      "source": [
        "gbm_final.varimp_plot()"
      ],
      "execution_count": 80,
      "outputs": [
        {
          "output_type": "display_data",
          "data": {
            "image/png": "[encoded data removed]",
            "text/plain": [
              "<Figure size 1008x720 with 1 Axes>"
            ]
          },
          "metadata": {
            "tags": [],
            "needs_background": "light"
          }
        }
      ]
    },
    {
      "cell_type": "code",
      "metadata": {
        "id": "THAgI8Q5RuYP",
        "colab_type": "code",
        "colab": {}
      },
      "source": [
        "ntrees_opt=[100,200,250,300]\n",
        "max_dept_opt=[0,7,8]\n",
        "learn_rate_opt=[0.01,0.1]"
      ],
      "execution_count": 84,
      "outputs": []
    },
    {
      "cell_type": "code",
      "metadata": {
        "id": "Spkrre6_SJ7V",
        "colab_type": "code",
        "colab": {}
      },
      "source": [
        "hyper_parameters={\"ntrees\":ntrees_opt,\"max_depth\":max_dept_opt,\"learn_rate\":learn_rate_opt}\n",
        "search_criteria={\"strategy\":\"RandomDiscrete\",\"max_models\":4}"
      ],
      "execution_count": 90,
      "outputs": []
    },
    {
      "cell_type": "code",
      "metadata": {
        "id": "gD7BQwGeSlVf",
        "colab_type": "code",
        "colab": {}
      },
      "source": [
        "from h2o.grid.grid_search import H2OGridSearch\n",
        "gs = H2OGridSearch(H2OGradientBoostingEstimator,hyper_params=hyper_parameters,search_criteria=search_criteria) "
      ],
      "execution_count": 91,
      "outputs": []
    },
    {
      "cell_type": "code",
      "metadata": {
        "id": "dJSSnHEuTTdV",
        "colab_type": "code",
        "colab": {
          "base_uri": "https://localhost:8080/",
          "height": 35
        },
        "outputId": "4148ee00-712a-4ab4-a11a-39e78fa9b913"
      },
      "source": [
        "gs.train(x=headlines_vecs.names+reviews_vecs.names,y='target',training_frame=h2o_train, validation_frame=h2o_valid)"
      ],
      "execution_count": null,
      "outputs": [
        {
          "output_type": "stream",
          "text": [
            "gbm Grid Build progress: |████████████"
          ],
          "name": "stdout"
        }
      ]
    },
    {
      "cell_type": "code",
      "metadata": {
        "id": "NVQUi0VvTbPq",
        "colab_type": "code",
        "colab": {}
      },
      "source": [
        "print(gs.get_grid(sort_by='auc', decreasing=True))"
      ],
      "execution_count": null,
      "outputs": []
    },
    {
      "cell_type": "code",
      "metadata": {
        "id": "jLyP60HPTm2M",
        "colab_type": "code",
        "colab": {}
      },
      "source": [
        "gs.models[0]"
      ],
      "execution_count": null,
      "outputs": []
    }
  ]
}