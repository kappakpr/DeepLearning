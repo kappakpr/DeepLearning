{
  "nbformat": 4,
  "nbformat_minor": 0,
  "metadata": {
    "colab": {
      "name": "senti2_GBM_H2O",
      "provenance": [],
      "collapsed_sections": [],
      "authorship_tag": "ABX9TyP0Afb1wgN6KqGlkVGAwaAM",
      "include_colab_link": true
    },
    "kernelspec": {
      "name": "python3",
      "display_name": "Python 3"
    },
    "accelerator": "GPU",
    "widgets": {
      "application/vnd.jupyter.widget-state+json": {
        "c704197794e94898b0eecb4c4d44788a": {
          "model_module": "@jupyter-widgets/controls",
          "model_name": "HBoxModel",
          "state": {
            "_view_name": "HBoxView",
            "_dom_classes": [],
            "_model_name": "HBoxModel",
            "_view_module": "@jupyter-widgets/controls",
            "_model_module_version": "1.5.0",
            "_view_count": null,
            "_view_module_version": "1.5.0",
            "box_style": "",
            "layout": "IPY_MODEL_a9cbbbabdf5543a6adde101cf8f03456",
            "_model_module": "@jupyter-widgets/controls",
            "children": [
              "IPY_MODEL_0ad30865727647d292727d370c8d0cbb",
              "IPY_MODEL_5b70bb65bce4434ba94e46898318cea1"
            ]
          }
        },
        "a9cbbbabdf5543a6adde101cf8f03456": {
          "model_module": "@jupyter-widgets/base",
          "model_name": "LayoutModel",
          "state": {
            "_view_name": "LayoutView",
            "grid_template_rows": null,
            "right": null,
            "justify_content": null,
            "_view_module": "@jupyter-widgets/base",
            "overflow": null,
            "_model_module_version": "1.2.0",
            "_view_count": null,
            "flex_flow": null,
            "width": null,
            "min_width": null,
            "border": null,
            "align_items": null,
            "bottom": null,
            "_model_module": "@jupyter-widgets/base",
            "top": null,
            "grid_column": null,
            "overflow_y": null,
            "overflow_x": null,
            "grid_auto_flow": null,
            "grid_area": null,
            "grid_template_columns": null,
            "flex": null,
            "_model_name": "LayoutModel",
            "justify_items": null,
            "grid_row": null,
            "max_height": null,
            "align_content": null,
            "visibility": null,
            "align_self": null,
            "height": null,
            "min_height": null,
            "padding": null,
            "grid_auto_rows": null,
            "grid_gap": null,
            "max_width": null,
            "order": null,
            "_view_module_version": "1.2.0",
            "grid_template_areas": null,
            "object_position": null,
            "object_fit": null,
            "grid_auto_columns": null,
            "margin": null,
            "display": null,
            "left": null
          }
        },
        "0ad30865727647d292727d370c8d0cbb": {
          "model_module": "@jupyter-widgets/controls",
          "model_name": "FloatProgressModel",
          "state": {
            "_view_name": "ProgressView",
            "style": "IPY_MODEL_b6710e5768af4d5c826d9df8318bec9d",
            "_dom_classes": [],
            "description": "Dl Completed...: 100%",
            "_model_name": "FloatProgressModel",
            "bar_style": "success",
            "max": 1,
            "_view_module": "@jupyter-widgets/controls",
            "_model_module_version": "1.5.0",
            "value": 1,
            "_view_count": null,
            "_view_module_version": "1.5.0",
            "orientation": "horizontal",
            "min": 0,
            "description_tooltip": null,
            "_model_module": "@jupyter-widgets/controls",
            "layout": "IPY_MODEL_9a39d87d51f540dba8f5b543dfa79291"
          }
        },
        "5b70bb65bce4434ba94e46898318cea1": {
          "model_module": "@jupyter-widgets/controls",
          "model_name": "HTMLModel",
          "state": {
            "_view_name": "HTMLView",
            "style": "IPY_MODEL_f7908ff7f44c4c84986fdcd630d3016f",
            "_dom_classes": [],
            "description": "",
            "_model_name": "HTMLModel",
            "placeholder": "​",
            "_view_module": "@jupyter-widgets/controls",
            "_model_module_version": "1.5.0",
            "value": " 1/1 [00:04&lt;00:00,  4.03s/ url]",
            "_view_count": null,
            "_view_module_version": "1.5.0",
            "description_tooltip": null,
            "_model_module": "@jupyter-widgets/controls",
            "layout": "IPY_MODEL_f769a46bc56945cb8ae8cb8eeb56c32c"
          }
        },
        "b6710e5768af4d5c826d9df8318bec9d": {
          "model_module": "@jupyter-widgets/controls",
          "model_name": "ProgressStyleModel",
          "state": {
            "_view_name": "StyleView",
            "_model_name": "ProgressStyleModel",
            "description_width": "initial",
            "_view_module": "@jupyter-widgets/base",
            "_model_module_version": "1.5.0",
            "_view_count": null,
            "_view_module_version": "1.2.0",
            "bar_color": null,
            "_model_module": "@jupyter-widgets/controls"
          }
        },
        "9a39d87d51f540dba8f5b543dfa79291": {
          "model_module": "@jupyter-widgets/base",
          "model_name": "LayoutModel",
          "state": {
            "_view_name": "LayoutView",
            "grid_template_rows": null,
            "right": null,
            "justify_content": null,
            "_view_module": "@jupyter-widgets/base",
            "overflow": null,
            "_model_module_version": "1.2.0",
            "_view_count": null,
            "flex_flow": null,
            "width": null,
            "min_width": null,
            "border": null,
            "align_items": null,
            "bottom": null,
            "_model_module": "@jupyter-widgets/base",
            "top": null,
            "grid_column": null,
            "overflow_y": null,
            "overflow_x": null,
            "grid_auto_flow": null,
            "grid_area": null,
            "grid_template_columns": null,
            "flex": null,
            "_model_name": "LayoutModel",
            "justify_items": null,
            "grid_row": null,
            "max_height": null,
            "align_content": null,
            "visibility": null,
            "align_self": null,
            "height": null,
            "min_height": null,
            "padding": null,
            "grid_auto_rows": null,
            "grid_gap": null,
            "max_width": null,
            "order": null,
            "_view_module_version": "1.2.0",
            "grid_template_areas": null,
            "object_position": null,
            "object_fit": null,
            "grid_auto_columns": null,
            "margin": null,
            "display": null,
            "left": null
          }
        },
        "f7908ff7f44c4c84986fdcd630d3016f": {
          "model_module": "@jupyter-widgets/controls",
          "model_name": "DescriptionStyleModel",
          "state": {
            "_view_name": "StyleView",
            "_model_name": "DescriptionStyleModel",
            "description_width": "",
            "_view_module": "@jupyter-widgets/base",
            "_model_module_version": "1.5.0",
            "_view_count": null,
            "_view_module_version": "1.2.0",
            "_model_module": "@jupyter-widgets/controls"
          }
        },
        "f769a46bc56945cb8ae8cb8eeb56c32c": {
          "model_module": "@jupyter-widgets/base",
          "model_name": "LayoutModel",
          "state": {
            "_view_name": "LayoutView",
            "grid_template_rows": null,
            "right": null,
            "justify_content": null,
            "_view_module": "@jupyter-widgets/base",
            "overflow": null,
            "_model_module_version": "1.2.0",
            "_view_count": null,
            "flex_flow": null,
            "width": null,
            "min_width": null,
            "border": null,
            "align_items": null,
            "bottom": null,
            "_model_module": "@jupyter-widgets/base",
            "top": null,
            "grid_column": null,
            "overflow_y": null,
            "overflow_x": null,
            "grid_auto_flow": null,
            "grid_area": null,
            "grid_template_columns": null,
            "flex": null,
            "_model_name": "LayoutModel",
            "justify_items": null,
            "grid_row": null,
            "max_height": null,
            "align_content": null,
            "visibility": null,
            "align_self": null,
            "height": null,
            "min_height": null,
            "padding": null,
            "grid_auto_rows": null,
            "grid_gap": null,
            "max_width": null,
            "order": null,
            "_view_module_version": "1.2.0",
            "grid_template_areas": null,
            "object_position": null,
            "object_fit": null,
            "grid_auto_columns": null,
            "margin": null,
            "display": null,
            "left": null
          }
        },
        "03832aac958a44c684473db85dcab624": {
          "model_module": "@jupyter-widgets/controls",
          "model_name": "HBoxModel",
          "state": {
            "_view_name": "HBoxView",
            "_dom_classes": [],
            "_model_name": "HBoxModel",
            "_view_module": "@jupyter-widgets/controls",
            "_model_module_version": "1.5.0",
            "_view_count": null,
            "_view_module_version": "1.5.0",
            "box_style": "",
            "layout": "IPY_MODEL_19cef52e95af438a89304f6b4d1ed40a",
            "_model_module": "@jupyter-widgets/controls",
            "children": [
              "IPY_MODEL_515a281ab60f4308a1f9e33c1c76bb5b",
              "IPY_MODEL_35d4ffe30cee43bc9624be6aacdb9cf9"
            ]
          }
        },
        "19cef52e95af438a89304f6b4d1ed40a": {
          "model_module": "@jupyter-widgets/base",
          "model_name": "LayoutModel",
          "state": {
            "_view_name": "LayoutView",
            "grid_template_rows": null,
            "right": null,
            "justify_content": null,
            "_view_module": "@jupyter-widgets/base",
            "overflow": null,
            "_model_module_version": "1.2.0",
            "_view_count": null,
            "flex_flow": null,
            "width": null,
            "min_width": null,
            "border": null,
            "align_items": null,
            "bottom": null,
            "_model_module": "@jupyter-widgets/base",
            "top": null,
            "grid_column": null,
            "overflow_y": null,
            "overflow_x": null,
            "grid_auto_flow": null,
            "grid_area": null,
            "grid_template_columns": null,
            "flex": null,
            "_model_name": "LayoutModel",
            "justify_items": null,
            "grid_row": null,
            "max_height": null,
            "align_content": null,
            "visibility": null,
            "align_self": null,
            "height": null,
            "min_height": null,
            "padding": null,
            "grid_auto_rows": null,
            "grid_gap": null,
            "max_width": null,
            "order": null,
            "_view_module_version": "1.2.0",
            "grid_template_areas": null,
            "object_position": null,
            "object_fit": null,
            "grid_auto_columns": null,
            "margin": null,
            "display": null,
            "left": null
          }
        },
        "515a281ab60f4308a1f9e33c1c76bb5b": {
          "model_module": "@jupyter-widgets/controls",
          "model_name": "FloatProgressModel",
          "state": {
            "_view_name": "ProgressView",
            "style": "IPY_MODEL_19072f7fe9f2447e857fd655e1f0725e",
            "_dom_classes": [],
            "description": "Dl Size...: 100%",
            "_model_name": "FloatProgressModel",
            "bar_style": "success",
            "max": 1,
            "_view_module": "@jupyter-widgets/controls",
            "_model_module_version": "1.5.0",
            "value": 1,
            "_view_count": null,
            "_view_module_version": "1.5.0",
            "orientation": "horizontal",
            "min": 0,
            "description_tooltip": null,
            "_model_module": "@jupyter-widgets/controls",
            "layout": "IPY_MODEL_0dc226a1df9343518488b168df2e73f8"
          }
        },
        "35d4ffe30cee43bc9624be6aacdb9cf9": {
          "model_module": "@jupyter-widgets/controls",
          "model_name": "HTMLModel",
          "state": {
            "_view_name": "HTMLView",
            "style": "IPY_MODEL_5fb30eb319954290ac3ea4293a4eba5f",
            "_dom_classes": [],
            "description": "",
            "_model_name": "HTMLModel",
            "placeholder": "​",
            "_view_module": "@jupyter-widgets/controls",
            "_model_module_version": "1.5.0",
            "value": " 16/16 [00:03&lt;00:00,  4.00 MiB/s]",
            "_view_count": null,
            "_view_module_version": "1.5.0",
            "description_tooltip": null,
            "_model_module": "@jupyter-widgets/controls",
            "layout": "IPY_MODEL_3fc2b906b33f453e9dbdca70b5cd1312"
          }
        },
        "19072f7fe9f2447e857fd655e1f0725e": {
          "model_module": "@jupyter-widgets/controls",
          "model_name": "ProgressStyleModel",
          "state": {
            "_view_name": "StyleView",
            "_model_name": "ProgressStyleModel",
            "description_width": "initial",
            "_view_module": "@jupyter-widgets/base",
            "_model_module_version": "1.5.0",
            "_view_count": null,
            "_view_module_version": "1.2.0",
            "bar_color": null,
            "_model_module": "@jupyter-widgets/controls"
          }
        },
        "0dc226a1df9343518488b168df2e73f8": {
          "model_module": "@jupyter-widgets/base",
          "model_name": "LayoutModel",
          "state": {
            "_view_name": "LayoutView",
            "grid_template_rows": null,
            "right": null,
            "justify_content": null,
            "_view_module": "@jupyter-widgets/base",
            "overflow": null,
            "_model_module_version": "1.2.0",
            "_view_count": null,
            "flex_flow": null,
            "width": null,
            "min_width": null,
            "border": null,
            "align_items": null,
            "bottom": null,
            "_model_module": "@jupyter-widgets/base",
            "top": null,
            "grid_column": null,
            "overflow_y": null,
            "overflow_x": null,
            "grid_auto_flow": null,
            "grid_area": null,
            "grid_template_columns": null,
            "flex": null,
            "_model_name": "LayoutModel",
            "justify_items": null,
            "grid_row": null,
            "max_height": null,
            "align_content": null,
            "visibility": null,
            "align_self": null,
            "height": null,
            "min_height": null,
            "padding": null,
            "grid_auto_rows": null,
            "grid_gap": null,
            "max_width": null,
            "order": null,
            "_view_module_version": "1.2.0",
            "grid_template_areas": null,
            "object_position": null,
            "object_fit": null,
            "grid_auto_columns": null,
            "margin": null,
            "display": null,
            "left": null
          }
        },
        "5fb30eb319954290ac3ea4293a4eba5f": {
          "model_module": "@jupyter-widgets/controls",
          "model_name": "DescriptionStyleModel",
          "state": {
            "_view_name": "StyleView",
            "_model_name": "DescriptionStyleModel",
            "description_width": "",
            "_view_module": "@jupyter-widgets/base",
            "_model_module_version": "1.5.0",
            "_view_count": null,
            "_view_module_version": "1.2.0",
            "_model_module": "@jupyter-widgets/controls"
          }
        },
        "3fc2b906b33f453e9dbdca70b5cd1312": {
          "model_module": "@jupyter-widgets/base",
          "model_name": "LayoutModel",
          "state": {
            "_view_name": "LayoutView",
            "grid_template_rows": null,
            "right": null,
            "justify_content": null,
            "_view_module": "@jupyter-widgets/base",
            "overflow": null,
            "_model_module_version": "1.2.0",
            "_view_count": null,
            "flex_flow": null,
            "width": null,
            "min_width": null,
            "border": null,
            "align_items": null,
            "bottom": null,
            "_model_module": "@jupyter-widgets/base",
            "top": null,
            "grid_column": null,
            "overflow_y": null,
            "overflow_x": null,
            "grid_auto_flow": null,
            "grid_area": null,
            "grid_template_columns": null,
            "flex": null,
            "_model_name": "LayoutModel",
            "justify_items": null,
            "grid_row": null,
            "max_height": null,
            "align_content": null,
            "visibility": null,
            "align_self": null,
            "height": null,
            "min_height": null,
            "padding": null,
            "grid_auto_rows": null,
            "grid_gap": null,
            "max_width": null,
            "order": null,
            "_view_module_version": "1.2.0",
            "grid_template_areas": null,
            "object_position": null,
            "object_fit": null,
            "grid_auto_columns": null,
            "margin": null,
            "display": null,
            "left": null
          }
        },
        "a79fdcdd2bd44f33a71c7318816b25ef": {
          "model_module": "@jupyter-widgets/controls",
          "model_name": "HBoxModel",
          "state": {
            "_view_name": "HBoxView",
            "_dom_classes": [],
            "_model_name": "HBoxModel",
            "_view_module": "@jupyter-widgets/controls",
            "_model_module_version": "1.5.0",
            "_view_count": null,
            "_view_module_version": "1.5.0",
            "box_style": "",
            "layout": "IPY_MODEL_94603041deaf4c10ab81d561bdd068df",
            "_model_module": "@jupyter-widgets/controls",
            "children": [
              "IPY_MODEL_4281320f30c24e28b29587a33449f0cf",
              "IPY_MODEL_60d929281ae44dfe90855668a17305e5"
            ]
          }
        },
        "94603041deaf4c10ab81d561bdd068df": {
          "model_module": "@jupyter-widgets/base",
          "model_name": "LayoutModel",
          "state": {
            "_view_name": "LayoutView",
            "grid_template_rows": null,
            "right": null,
            "justify_content": null,
            "_view_module": "@jupyter-widgets/base",
            "overflow": null,
            "_model_module_version": "1.2.0",
            "_view_count": null,
            "flex_flow": null,
            "width": null,
            "min_width": null,
            "border": null,
            "align_items": null,
            "bottom": null,
            "_model_module": "@jupyter-widgets/base",
            "top": null,
            "grid_column": null,
            "overflow_y": null,
            "overflow_x": null,
            "grid_auto_flow": null,
            "grid_area": null,
            "grid_template_columns": null,
            "flex": null,
            "_model_name": "LayoutModel",
            "justify_items": null,
            "grid_row": null,
            "max_height": null,
            "align_content": null,
            "visibility": null,
            "align_self": null,
            "height": null,
            "min_height": null,
            "padding": null,
            "grid_auto_rows": null,
            "grid_gap": null,
            "max_width": null,
            "order": null,
            "_view_module_version": "1.2.0",
            "grid_template_areas": null,
            "object_position": null,
            "object_fit": null,
            "grid_auto_columns": null,
            "margin": null,
            "display": null,
            "left": null
          }
        },
        "4281320f30c24e28b29587a33449f0cf": {
          "model_module": "@jupyter-widgets/controls",
          "model_name": "FloatProgressModel",
          "state": {
            "_view_name": "ProgressView",
            "style": "IPY_MODEL_424fc229caa54ecba7782b62cfdfb1a0",
            "_dom_classes": [],
            "description": "Extraction completed...: 100%",
            "_model_name": "FloatProgressModel",
            "bar_style": "success",
            "max": 1,
            "_view_module": "@jupyter-widgets/controls",
            "_model_module_version": "1.5.0",
            "value": 1,
            "_view_count": null,
            "_view_module_version": "1.5.0",
            "orientation": "horizontal",
            "min": 0,
            "description_tooltip": null,
            "_model_module": "@jupyter-widgets/controls",
            "layout": "IPY_MODEL_0c5e0c4b1a2f46519c8fbf168bbaa477"
          }
        },
        "60d929281ae44dfe90855668a17305e5": {
          "model_module": "@jupyter-widgets/controls",
          "model_name": "HTMLModel",
          "state": {
            "_view_name": "HTMLView",
            "style": "IPY_MODEL_c79d9637b70149a69631d3e73a15d186",
            "_dom_classes": [],
            "description": "",
            "_model_name": "HTMLModel",
            "placeholder": "​",
            "_view_module": "@jupyter-widgets/controls",
            "_model_module_version": "1.5.0",
            "value": " 1/1 [00:03&lt;00:00,  3.95s/ file]",
            "_view_count": null,
            "_view_module_version": "1.5.0",
            "description_tooltip": null,
            "_model_module": "@jupyter-widgets/controls",
            "layout": "IPY_MODEL_7db2a42fbcff45b98e994d063294e7b8"
          }
        },
        "424fc229caa54ecba7782b62cfdfb1a0": {
          "model_module": "@jupyter-widgets/controls",
          "model_name": "ProgressStyleModel",
          "state": {
            "_view_name": "StyleView",
            "_model_name": "ProgressStyleModel",
            "description_width": "initial",
            "_view_module": "@jupyter-widgets/base",
            "_model_module_version": "1.5.0",
            "_view_count": null,
            "_view_module_version": "1.2.0",
            "bar_color": null,
            "_model_module": "@jupyter-widgets/controls"
          }
        },
        "0c5e0c4b1a2f46519c8fbf168bbaa477": {
          "model_module": "@jupyter-widgets/base",
          "model_name": "LayoutModel",
          "state": {
            "_view_name": "LayoutView",
            "grid_template_rows": null,
            "right": null,
            "justify_content": null,
            "_view_module": "@jupyter-widgets/base",
            "overflow": null,
            "_model_module_version": "1.2.0",
            "_view_count": null,
            "flex_flow": null,
            "width": null,
            "min_width": null,
            "border": null,
            "align_items": null,
            "bottom": null,
            "_model_module": "@jupyter-widgets/base",
            "top": null,
            "grid_column": null,
            "overflow_y": null,
            "overflow_x": null,
            "grid_auto_flow": null,
            "grid_area": null,
            "grid_template_columns": null,
            "flex": null,
            "_model_name": "LayoutModel",
            "justify_items": null,
            "grid_row": null,
            "max_height": null,
            "align_content": null,
            "visibility": null,
            "align_self": null,
            "height": null,
            "min_height": null,
            "padding": null,
            "grid_auto_rows": null,
            "grid_gap": null,
            "max_width": null,
            "order": null,
            "_view_module_version": "1.2.0",
            "grid_template_areas": null,
            "object_position": null,
            "object_fit": null,
            "grid_auto_columns": null,
            "margin": null,
            "display": null,
            "left": null
          }
        },
        "c79d9637b70149a69631d3e73a15d186": {
          "model_module": "@jupyter-widgets/controls",
          "model_name": "DescriptionStyleModel",
          "state": {
            "_view_name": "StyleView",
            "_model_name": "DescriptionStyleModel",
            "description_width": "",
            "_view_module": "@jupyter-widgets/base",
            "_model_module_version": "1.5.0",
            "_view_count": null,
            "_view_module_version": "1.2.0",
            "_model_module": "@jupyter-widgets/controls"
          }
        },
        "7db2a42fbcff45b98e994d063294e7b8": {
          "model_module": "@jupyter-widgets/base",
          "model_name": "LayoutModel",
          "state": {
            "_view_name": "LayoutView",
            "grid_template_rows": null,
            "right": null,
            "justify_content": null,
            "_view_module": "@jupyter-widgets/base",
            "overflow": null,
            "_model_module_version": "1.2.0",
            "_view_count": null,
            "flex_flow": null,
            "width": null,
            "min_width": null,
            "border": null,
            "align_items": null,
            "bottom": null,
            "_model_module": "@jupyter-widgets/base",
            "top": null,
            "grid_column": null,
            "overflow_y": null,
            "overflow_x": null,
            "grid_auto_flow": null,
            "grid_area": null,
            "grid_template_columns": null,
            "flex": null,
            "_model_name": "LayoutModel",
            "justify_items": null,
            "grid_row": null,
            "max_height": null,
            "align_content": null,
            "visibility": null,
            "align_self": null,
            "height": null,
            "min_height": null,
            "padding": null,
            "grid_auto_rows": null,
            "grid_gap": null,
            "max_width": null,
            "order": null,
            "_view_module_version": "1.2.0",
            "grid_template_areas": null,
            "object_position": null,
            "object_fit": null,
            "grid_auto_columns": null,
            "margin": null,
            "display": null,
            "left": null
          }
        },
        "c5db3fb6290b425bb8a4182e416193b6": {
          "model_module": "@jupyter-widgets/controls",
          "model_name": "HBoxModel",
          "state": {
            "_view_name": "HBoxView",
            "_dom_classes": [],
            "_model_name": "HBoxModel",
            "_view_module": "@jupyter-widgets/controls",
            "_model_module_version": "1.5.0",
            "_view_count": null,
            "_view_module_version": "1.5.0",
            "box_style": "",
            "layout": "IPY_MODEL_1c25f055391f437c8d68ca39e012aef2",
            "_model_module": "@jupyter-widgets/controls",
            "children": [
              "IPY_MODEL_dab2937458db43f7908a4bfb1f96c3c6",
              "IPY_MODEL_ba46f16f7f424dc98eb72c3201c121c7"
            ]
          }
        },
        "1c25f055391f437c8d68ca39e012aef2": {
          "model_module": "@jupyter-widgets/base",
          "model_name": "LayoutModel",
          "state": {
            "_view_name": "LayoutView",
            "grid_template_rows": null,
            "right": null,
            "justify_content": null,
            "_view_module": "@jupyter-widgets/base",
            "overflow": null,
            "_model_module_version": "1.2.0",
            "_view_count": null,
            "flex_flow": null,
            "width": null,
            "min_width": null,
            "border": null,
            "align_items": null,
            "bottom": null,
            "_model_module": "@jupyter-widgets/base",
            "top": null,
            "grid_column": null,
            "overflow_y": null,
            "overflow_x": null,
            "grid_auto_flow": null,
            "grid_area": null,
            "grid_template_columns": null,
            "flex": null,
            "_model_name": "LayoutModel",
            "justify_items": null,
            "grid_row": null,
            "max_height": null,
            "align_content": null,
            "visibility": null,
            "align_self": null,
            "height": null,
            "min_height": null,
            "padding": null,
            "grid_auto_rows": null,
            "grid_gap": null,
            "max_width": null,
            "order": null,
            "_view_module_version": "1.2.0",
            "grid_template_areas": null,
            "object_position": null,
            "object_fit": null,
            "grid_auto_columns": null,
            "margin": null,
            "display": null,
            "left": null
          }
        },
        "dab2937458db43f7908a4bfb1f96c3c6": {
          "model_module": "@jupyter-widgets/controls",
          "model_name": "FloatProgressModel",
          "state": {
            "_view_name": "ProgressView",
            "style": "IPY_MODEL_fb1c473de1a148ddae54d3635747890b",
            "_dom_classes": [],
            "description": "",
            "_model_name": "FloatProgressModel",
            "bar_style": "info",
            "max": 1,
            "_view_module": "@jupyter-widgets/controls",
            "_model_module_version": "1.5.0",
            "value": 1,
            "_view_count": null,
            "_view_module_version": "1.5.0",
            "orientation": "horizontal",
            "min": 0,
            "description_tooltip": null,
            "_model_module": "@jupyter-widgets/controls",
            "layout": "IPY_MODEL_14a564343b624519a89c68eba16e178e"
          }
        },
        "ba46f16f7f424dc98eb72c3201c121c7": {
          "model_module": "@jupyter-widgets/controls",
          "model_name": "HTMLModel",
          "state": {
            "_view_name": "HTMLView",
            "style": "IPY_MODEL_19f7426ca94e461a97f9164daaf3ae0b",
            "_dom_classes": [],
            "description": "",
            "_model_name": "HTMLModel",
            "placeholder": "​",
            "_view_module": "@jupyter-widgets/controls",
            "_model_module_version": "1.5.0",
            "value": " 85981/0 [02:17&lt;00:00, 662.78 examples/s]",
            "_view_count": null,
            "_view_module_version": "1.5.0",
            "description_tooltip": null,
            "_model_module": "@jupyter-widgets/controls",
            "layout": "IPY_MODEL_09667c68c2b14a09a4fef8b61c919667"
          }
        },
        "fb1c473de1a148ddae54d3635747890b": {
          "model_module": "@jupyter-widgets/controls",
          "model_name": "ProgressStyleModel",
          "state": {
            "_view_name": "StyleView",
            "_model_name": "ProgressStyleModel",
            "description_width": "initial",
            "_view_module": "@jupyter-widgets/base",
            "_model_module_version": "1.5.0",
            "_view_count": null,
            "_view_module_version": "1.2.0",
            "bar_color": null,
            "_model_module": "@jupyter-widgets/controls"
          }
        },
        "14a564343b624519a89c68eba16e178e": {
          "model_module": "@jupyter-widgets/base",
          "model_name": "LayoutModel",
          "state": {
            "_view_name": "LayoutView",
            "grid_template_rows": null,
            "right": null,
            "justify_content": null,
            "_view_module": "@jupyter-widgets/base",
            "overflow": null,
            "_model_module_version": "1.2.0",
            "_view_count": null,
            "flex_flow": null,
            "width": null,
            "min_width": null,
            "border": null,
            "align_items": null,
            "bottom": null,
            "_model_module": "@jupyter-widgets/base",
            "top": null,
            "grid_column": null,
            "overflow_y": null,
            "overflow_x": null,
            "grid_auto_flow": null,
            "grid_area": null,
            "grid_template_columns": null,
            "flex": null,
            "_model_name": "LayoutModel",
            "justify_items": null,
            "grid_row": null,
            "max_height": null,
            "align_content": null,
            "visibility": null,
            "align_self": null,
            "height": null,
            "min_height": null,
            "padding": null,
            "grid_auto_rows": null,
            "grid_gap": null,
            "max_width": null,
            "order": null,
            "_view_module_version": "1.2.0",
            "grid_template_areas": null,
            "object_position": null,
            "object_fit": null,
            "grid_auto_columns": null,
            "margin": null,
            "display": null,
            "left": null
          }
        },
        "19f7426ca94e461a97f9164daaf3ae0b": {
          "model_module": "@jupyter-widgets/controls",
          "model_name": "DescriptionStyleModel",
          "state": {
            "_view_name": "StyleView",
            "_model_name": "DescriptionStyleModel",
            "description_width": "",
            "_view_module": "@jupyter-widgets/base",
            "_model_module_version": "1.5.0",
            "_view_count": null,
            "_view_module_version": "1.2.0",
            "_model_module": "@jupyter-widgets/controls"
          }
        },
        "09667c68c2b14a09a4fef8b61c919667": {
          "model_module": "@jupyter-widgets/base",
          "model_name": "LayoutModel",
          "state": {
            "_view_name": "LayoutView",
            "grid_template_rows": null,
            "right": null,
            "justify_content": null,
            "_view_module": "@jupyter-widgets/base",
            "overflow": null,
            "_model_module_version": "1.2.0",
            "_view_count": null,
            "flex_flow": null,
            "width": null,
            "min_width": null,
            "border": null,
            "align_items": null,
            "bottom": null,
            "_model_module": "@jupyter-widgets/base",
            "top": null,
            "grid_column": null,
            "overflow_y": null,
            "overflow_x": null,
            "grid_auto_flow": null,
            "grid_area": null,
            "grid_template_columns": null,
            "flex": null,
            "_model_name": "LayoutModel",
            "justify_items": null,
            "grid_row": null,
            "max_height": null,
            "align_content": null,
            "visibility": null,
            "align_self": null,
            "height": null,
            "min_height": null,
            "padding": null,
            "grid_auto_rows": null,
            "grid_gap": null,
            "max_width": null,
            "order": null,
            "_view_module_version": "1.2.0",
            "grid_template_areas": null,
            "object_position": null,
            "object_fit": null,
            "grid_auto_columns": null,
            "margin": null,
            "display": null,
            "left": null
          }
        },
        "0e495dc7e69d4aceb188b0c97e9f74aa": {
          "model_module": "@jupyter-widgets/controls",
          "model_name": "HBoxModel",
          "state": {
            "_view_name": "HBoxView",
            "_dom_classes": [],
            "_model_name": "HBoxModel",
            "_view_module": "@jupyter-widgets/controls",
            "_model_module_version": "1.5.0",
            "_view_count": null,
            "_view_module_version": "1.5.0",
            "box_style": "",
            "layout": "IPY_MODEL_98144b79d1f14e3fbd25858c934a077d",
            "_model_module": "@jupyter-widgets/controls",
            "children": [
              "IPY_MODEL_d03fac98658e498db06d852260775219",
              "IPY_MODEL_93e9d567544c4ad1b9b38de88d94aa44"
            ]
          }
        },
        "98144b79d1f14e3fbd25858c934a077d": {
          "model_module": "@jupyter-widgets/base",
          "model_name": "LayoutModel",
          "state": {
            "_view_name": "LayoutView",
            "grid_template_rows": null,
            "right": null,
            "justify_content": null,
            "_view_module": "@jupyter-widgets/base",
            "overflow": null,
            "_model_module_version": "1.2.0",
            "_view_count": null,
            "flex_flow": null,
            "width": null,
            "min_width": null,
            "border": null,
            "align_items": null,
            "bottom": null,
            "_model_module": "@jupyter-widgets/base",
            "top": null,
            "grid_column": null,
            "overflow_y": null,
            "overflow_x": null,
            "grid_auto_flow": null,
            "grid_area": null,
            "grid_template_columns": null,
            "flex": null,
            "_model_name": "LayoutModel",
            "justify_items": null,
            "grid_row": null,
            "max_height": null,
            "align_content": null,
            "visibility": null,
            "align_self": null,
            "height": null,
            "min_height": null,
            "padding": null,
            "grid_auto_rows": null,
            "grid_gap": null,
            "max_width": null,
            "order": null,
            "_view_module_version": "1.2.0",
            "grid_template_areas": null,
            "object_position": null,
            "object_fit": null,
            "grid_auto_columns": null,
            "margin": null,
            "display": null,
            "left": null
          }
        },
        "d03fac98658e498db06d852260775219": {
          "model_module": "@jupyter-widgets/controls",
          "model_name": "FloatProgressModel",
          "state": {
            "_view_name": "ProgressView",
            "style": "IPY_MODEL_75fe6e2d0a1f4afea145c4c87c03081b",
            "_dom_classes": [],
            "description": " 79%",
            "_model_name": "FloatProgressModel",
            "bar_style": "danger",
            "max": 85981,
            "_view_module": "@jupyter-widgets/controls",
            "_model_module_version": "1.5.0",
            "value": 68142,
            "_view_count": null,
            "_view_module_version": "1.5.0",
            "orientation": "horizontal",
            "min": 0,
            "description_tooltip": null,
            "_model_module": "@jupyter-widgets/controls",
            "layout": "IPY_MODEL_3f777d870fa7460796eb6fe4836a3814"
          }
        },
        "93e9d567544c4ad1b9b38de88d94aa44": {
          "model_module": "@jupyter-widgets/controls",
          "model_name": "HTMLModel",
          "state": {
            "_view_name": "HTMLView",
            "style": "IPY_MODEL_0ce90ebcd69840ab9003cdb0df93a8f4",
            "_dom_classes": [],
            "description": "",
            "_model_name": "HTMLModel",
            "placeholder": "​",
            "_view_module": "@jupyter-widgets/controls",
            "_model_module_version": "1.5.0",
            "value": " 68142/85981 [00:07&lt;14:30, 20.50 examples/s]",
            "_view_count": null,
            "_view_module_version": "1.5.0",
            "description_tooltip": null,
            "_model_module": "@jupyter-widgets/controls",
            "layout": "IPY_MODEL_574ceae561274eacbdc6de5b6561e201"
          }
        },
        "75fe6e2d0a1f4afea145c4c87c03081b": {
          "model_module": "@jupyter-widgets/controls",
          "model_name": "ProgressStyleModel",
          "state": {
            "_view_name": "StyleView",
            "_model_name": "ProgressStyleModel",
            "description_width": "initial",
            "_view_module": "@jupyter-widgets/base",
            "_model_module_version": "1.5.0",
            "_view_count": null,
            "_view_module_version": "1.2.0",
            "bar_color": null,
            "_model_module": "@jupyter-widgets/controls"
          }
        },
        "3f777d870fa7460796eb6fe4836a3814": {
          "model_module": "@jupyter-widgets/base",
          "model_name": "LayoutModel",
          "state": {
            "_view_name": "LayoutView",
            "grid_template_rows": null,
            "right": null,
            "justify_content": null,
            "_view_module": "@jupyter-widgets/base",
            "overflow": null,
            "_model_module_version": "1.2.0",
            "_view_count": null,
            "flex_flow": null,
            "width": null,
            "min_width": null,
            "border": null,
            "align_items": null,
            "bottom": null,
            "_model_module": "@jupyter-widgets/base",
            "top": null,
            "grid_column": null,
            "overflow_y": null,
            "overflow_x": null,
            "grid_auto_flow": null,
            "grid_area": null,
            "grid_template_columns": null,
            "flex": null,
            "_model_name": "LayoutModel",
            "justify_items": null,
            "grid_row": null,
            "max_height": null,
            "align_content": null,
            "visibility": null,
            "align_self": null,
            "height": null,
            "min_height": null,
            "padding": null,
            "grid_auto_rows": null,
            "grid_gap": null,
            "max_width": null,
            "order": null,
            "_view_module_version": "1.2.0",
            "grid_template_areas": null,
            "object_position": null,
            "object_fit": null,
            "grid_auto_columns": null,
            "margin": null,
            "display": null,
            "left": null
          }
        },
        "0ce90ebcd69840ab9003cdb0df93a8f4": {
          "model_module": "@jupyter-widgets/controls",
          "model_name": "DescriptionStyleModel",
          "state": {
            "_view_name": "StyleView",
            "_model_name": "DescriptionStyleModel",
            "description_width": "",
            "_view_module": "@jupyter-widgets/base",
            "_model_module_version": "1.5.0",
            "_view_count": null,
            "_view_module_version": "1.2.0",
            "_model_module": "@jupyter-widgets/controls"
          }
        },
        "574ceae561274eacbdc6de5b6561e201": {
          "model_module": "@jupyter-widgets/base",
          "model_name": "LayoutModel",
          "state": {
            "_view_name": "LayoutView",
            "grid_template_rows": null,
            "right": null,
            "justify_content": null,
            "_view_module": "@jupyter-widgets/base",
            "overflow": null,
            "_model_module_version": "1.2.0",
            "_view_count": null,
            "flex_flow": null,
            "width": null,
            "min_width": null,
            "border": null,
            "align_items": null,
            "bottom": null,
            "_model_module": "@jupyter-widgets/base",
            "top": null,
            "grid_column": null,
            "overflow_y": null,
            "overflow_x": null,
            "grid_auto_flow": null,
            "grid_area": null,
            "grid_template_columns": null,
            "flex": null,
            "_model_name": "LayoutModel",
            "justify_items": null,
            "grid_row": null,
            "max_height": null,
            "align_content": null,
            "visibility": null,
            "align_self": null,
            "height": null,
            "min_height": null,
            "padding": null,
            "grid_auto_rows": null,
            "grid_gap": null,
            "max_width": null,
            "order": null,
            "_view_module_version": "1.2.0",
            "grid_template_areas": null,
            "object_position": null,
            "object_fit": null,
            "grid_auto_columns": null,
            "margin": null,
            "display": null,
            "left": null
          }
        },
        "566d5a543687461582e428408803f609": {
          "model_module": "@jupyter-widgets/controls",
          "model_name": "HBoxModel",
          "state": {
            "_view_name": "HBoxView",
            "_dom_classes": [],
            "_model_name": "HBoxModel",
            "_view_module": "@jupyter-widgets/controls",
            "_model_module_version": "1.5.0",
            "_view_count": null,
            "_view_module_version": "1.5.0",
            "box_style": "",
            "layout": "IPY_MODEL_5681d39bfb3840168fc9532671ce7e0b",
            "_model_module": "@jupyter-widgets/controls",
            "children": [
              "IPY_MODEL_a38aa5f657dc4e939f08e4f2abdd6b1c",
              "IPY_MODEL_33d078b00c9c469da63acfd3bcea6834"
            ]
          }
        },
        "5681d39bfb3840168fc9532671ce7e0b": {
          "model_module": "@jupyter-widgets/base",
          "model_name": "LayoutModel",
          "state": {
            "_view_name": "LayoutView",
            "grid_template_rows": null,
            "right": null,
            "justify_content": null,
            "_view_module": "@jupyter-widgets/base",
            "overflow": null,
            "_model_module_version": "1.2.0",
            "_view_count": null,
            "flex_flow": null,
            "width": null,
            "min_width": null,
            "border": null,
            "align_items": null,
            "bottom": null,
            "_model_module": "@jupyter-widgets/base",
            "top": null,
            "grid_column": null,
            "overflow_y": null,
            "overflow_x": null,
            "grid_auto_flow": null,
            "grid_area": null,
            "grid_template_columns": null,
            "flex": null,
            "_model_name": "LayoutModel",
            "justify_items": null,
            "grid_row": null,
            "max_height": null,
            "align_content": null,
            "visibility": null,
            "align_self": null,
            "height": null,
            "min_height": null,
            "padding": null,
            "grid_auto_rows": null,
            "grid_gap": null,
            "max_width": null,
            "order": null,
            "_view_module_version": "1.2.0",
            "grid_template_areas": null,
            "object_position": null,
            "object_fit": null,
            "grid_auto_columns": null,
            "margin": null,
            "display": null,
            "left": null
          }
        },
        "a38aa5f657dc4e939f08e4f2abdd6b1c": {
          "model_module": "@jupyter-widgets/controls",
          "model_name": "FloatProgressModel",
          "state": {
            "_view_name": "ProgressView",
            "style": "IPY_MODEL_8dd5520a6c6342a9aa8fe547c3e21127",
            "_dom_classes": [],
            "description": "Computing statistics...: 100%",
            "_model_name": "FloatProgressModel",
            "bar_style": "success",
            "max": 1,
            "_view_module": "@jupyter-widgets/controls",
            "_model_module_version": "1.5.0",
            "value": 1,
            "_view_count": null,
            "_view_module_version": "1.5.0",
            "orientation": "horizontal",
            "min": 0,
            "description_tooltip": null,
            "_model_module": "@jupyter-widgets/controls",
            "layout": "IPY_MODEL_a584cf0e00224ed4be5120a0e58d5898"
          }
        },
        "33d078b00c9c469da63acfd3bcea6834": {
          "model_module": "@jupyter-widgets/controls",
          "model_name": "HTMLModel",
          "state": {
            "_view_name": "HTMLView",
            "style": "IPY_MODEL_4fd684e4df284ae68659f843bed48ce3",
            "_dom_classes": [],
            "description": "",
            "_model_name": "HTMLModel",
            "placeholder": "​",
            "_view_module": "@jupyter-widgets/controls",
            "_model_module_version": "1.5.0",
            "value": " 1/1 [03:36&lt;00:00, 216.83s/ split]",
            "_view_count": null,
            "_view_module_version": "1.5.0",
            "description_tooltip": null,
            "_model_module": "@jupyter-widgets/controls",
            "layout": "IPY_MODEL_23356d54dfae40edad4611739a986b6c"
          }
        },
        "8dd5520a6c6342a9aa8fe547c3e21127": {
          "model_module": "@jupyter-widgets/controls",
          "model_name": "ProgressStyleModel",
          "state": {
            "_view_name": "StyleView",
            "_model_name": "ProgressStyleModel",
            "description_width": "initial",
            "_view_module": "@jupyter-widgets/base",
            "_model_module_version": "1.5.0",
            "_view_count": null,
            "_view_module_version": "1.2.0",
            "bar_color": null,
            "_model_module": "@jupyter-widgets/controls"
          }
        },
        "a584cf0e00224ed4be5120a0e58d5898": {
          "model_module": "@jupyter-widgets/base",
          "model_name": "LayoutModel",
          "state": {
            "_view_name": "LayoutView",
            "grid_template_rows": null,
            "right": null,
            "justify_content": null,
            "_view_module": "@jupyter-widgets/base",
            "overflow": null,
            "_model_module_version": "1.2.0",
            "_view_count": null,
            "flex_flow": null,
            "width": null,
            "min_width": null,
            "border": null,
            "align_items": null,
            "bottom": null,
            "_model_module": "@jupyter-widgets/base",
            "top": null,
            "grid_column": null,
            "overflow_y": null,
            "overflow_x": null,
            "grid_auto_flow": null,
            "grid_area": null,
            "grid_template_columns": null,
            "flex": null,
            "_model_name": "LayoutModel",
            "justify_items": null,
            "grid_row": null,
            "max_height": null,
            "align_content": null,
            "visibility": null,
            "align_self": null,
            "height": null,
            "min_height": null,
            "padding": null,
            "grid_auto_rows": null,
            "grid_gap": null,
            "max_width": null,
            "order": null,
            "_view_module_version": "1.2.0",
            "grid_template_areas": null,
            "object_position": null,
            "object_fit": null,
            "grid_auto_columns": null,
            "margin": null,
            "display": null,
            "left": null
          }
        },
        "4fd684e4df284ae68659f843bed48ce3": {
          "model_module": "@jupyter-widgets/controls",
          "model_name": "DescriptionStyleModel",
          "state": {
            "_view_name": "StyleView",
            "_model_name": "DescriptionStyleModel",
            "description_width": "",
            "_view_module": "@jupyter-widgets/base",
            "_model_module_version": "1.5.0",
            "_view_count": null,
            "_view_module_version": "1.2.0",
            "_model_module": "@jupyter-widgets/controls"
          }
        },
        "23356d54dfae40edad4611739a986b6c": {
          "model_module": "@jupyter-widgets/base",
          "model_name": "LayoutModel",
          "state": {
            "_view_name": "LayoutView",
            "grid_template_rows": null,
            "right": null,
            "justify_content": null,
            "_view_module": "@jupyter-widgets/base",
            "overflow": null,
            "_model_module_version": "1.2.0",
            "_view_count": null,
            "flex_flow": null,
            "width": null,
            "min_width": null,
            "border": null,
            "align_items": null,
            "bottom": null,
            "_model_module": "@jupyter-widgets/base",
            "top": null,
            "grid_column": null,
            "overflow_y": null,
            "overflow_x": null,
            "grid_auto_flow": null,
            "grid_area": null,
            "grid_template_columns": null,
            "flex": null,
            "_model_name": "LayoutModel",
            "justify_items": null,
            "grid_row": null,
            "max_height": null,
            "align_content": null,
            "visibility": null,
            "align_self": null,
            "height": null,
            "min_height": null,
            "padding": null,
            "grid_auto_rows": null,
            "grid_gap": null,
            "max_width": null,
            "order": null,
            "_view_module_version": "1.2.0",
            "grid_template_areas": null,
            "object_position": null,
            "object_fit": null,
            "grid_auto_columns": null,
            "margin": null,
            "display": null,
            "left": null
          }
        },
        "14ecb2da988f481582a506425d57ca0c": {
          "model_module": "@jupyter-widgets/controls",
          "model_name": "HBoxModel",
          "state": {
            "_view_name": "HBoxView",
            "_dom_classes": [],
            "_model_name": "HBoxModel",
            "_view_module": "@jupyter-widgets/controls",
            "_model_module_version": "1.5.0",
            "_view_count": null,
            "_view_module_version": "1.5.0",
            "box_style": "",
            "layout": "IPY_MODEL_2b274903bcb24288a633241d86ab1d1b",
            "_model_module": "@jupyter-widgets/controls",
            "children": [
              "IPY_MODEL_70ffaa6c90ca408e8fb6c3a876baf255",
              "IPY_MODEL_71590d1c958549a7b42dc90f46b80b7a"
            ]
          }
        },
        "2b274903bcb24288a633241d86ab1d1b": {
          "model_module": "@jupyter-widgets/base",
          "model_name": "LayoutModel",
          "state": {
            "_view_name": "LayoutView",
            "grid_template_rows": null,
            "right": null,
            "justify_content": null,
            "_view_module": "@jupyter-widgets/base",
            "overflow": null,
            "_model_module_version": "1.2.0",
            "_view_count": null,
            "flex_flow": null,
            "width": null,
            "min_width": null,
            "border": null,
            "align_items": null,
            "bottom": null,
            "_model_module": "@jupyter-widgets/base",
            "top": null,
            "grid_column": null,
            "overflow_y": null,
            "overflow_x": null,
            "grid_auto_flow": null,
            "grid_area": null,
            "grid_template_columns": null,
            "flex": null,
            "_model_name": "LayoutModel",
            "justify_items": null,
            "grid_row": null,
            "max_height": null,
            "align_content": null,
            "visibility": null,
            "align_self": null,
            "height": null,
            "min_height": null,
            "padding": null,
            "grid_auto_rows": null,
            "grid_gap": null,
            "max_width": null,
            "order": null,
            "_view_module_version": "1.2.0",
            "grid_template_areas": null,
            "object_position": null,
            "object_fit": null,
            "grid_auto_columns": null,
            "margin": null,
            "display": null,
            "left": null
          }
        },
        "70ffaa6c90ca408e8fb6c3a876baf255": {
          "model_module": "@jupyter-widgets/controls",
          "model_name": "FloatProgressModel",
          "state": {
            "_view_name": "ProgressView",
            "style": "IPY_MODEL_b6e69a90354747ba93fb3f428adaa1a0",
            "_dom_classes": [],
            "description": "",
            "_model_name": "FloatProgressModel",
            "bar_style": "info",
            "max": 1,
            "_view_module": "@jupyter-widgets/controls",
            "_model_module_version": "1.5.0",
            "value": 1,
            "_view_count": null,
            "_view_module_version": "1.5.0",
            "orientation": "horizontal",
            "min": 0,
            "description_tooltip": null,
            "_model_module": "@jupyter-widgets/controls",
            "layout": "IPY_MODEL_3a3705d8d1ce4225a88898b441b692e9"
          }
        },
        "71590d1c958549a7b42dc90f46b80b7a": {
          "model_module": "@jupyter-widgets/controls",
          "model_name": "HTMLModel",
          "state": {
            "_view_name": "HTMLView",
            "style": "IPY_MODEL_d869a3b857eb41eeb8ccf524d3542a65",
            "_dom_classes": [],
            "description": "",
            "_model_name": "HTMLModel",
            "placeholder": "​",
            "_view_module": "@jupyter-widgets/controls",
            "_model_module_version": "1.5.0",
            "value": " 85981/? [00:53&lt;00:00, 1630.02 examples/s]",
            "_view_count": null,
            "_view_module_version": "1.5.0",
            "description_tooltip": null,
            "_model_module": "@jupyter-widgets/controls",
            "layout": "IPY_MODEL_ed6ba93a519642ff941219bcb4ad2060"
          }
        },
        "b6e69a90354747ba93fb3f428adaa1a0": {
          "model_module": "@jupyter-widgets/controls",
          "model_name": "ProgressStyleModel",
          "state": {
            "_view_name": "StyleView",
            "_model_name": "ProgressStyleModel",
            "description_width": "initial",
            "_view_module": "@jupyter-widgets/base",
            "_model_module_version": "1.5.0",
            "_view_count": null,
            "_view_module_version": "1.2.0",
            "bar_color": null,
            "_model_module": "@jupyter-widgets/controls"
          }
        },
        "3a3705d8d1ce4225a88898b441b692e9": {
          "model_module": "@jupyter-widgets/base",
          "model_name": "LayoutModel",
          "state": {
            "_view_name": "LayoutView",
            "grid_template_rows": null,
            "right": null,
            "justify_content": null,
            "_view_module": "@jupyter-widgets/base",
            "overflow": null,
            "_model_module_version": "1.2.0",
            "_view_count": null,
            "flex_flow": null,
            "width": null,
            "min_width": null,
            "border": null,
            "align_items": null,
            "bottom": null,
            "_model_module": "@jupyter-widgets/base",
            "top": null,
            "grid_column": null,
            "overflow_y": null,
            "overflow_x": null,
            "grid_auto_flow": null,
            "grid_area": null,
            "grid_template_columns": null,
            "flex": null,
            "_model_name": "LayoutModel",
            "justify_items": null,
            "grid_row": null,
            "max_height": null,
            "align_content": null,
            "visibility": null,
            "align_self": null,
            "height": null,
            "min_height": null,
            "padding": null,
            "grid_auto_rows": null,
            "grid_gap": null,
            "max_width": null,
            "order": null,
            "_view_module_version": "1.2.0",
            "grid_template_areas": null,
            "object_position": null,
            "object_fit": null,
            "grid_auto_columns": null,
            "margin": null,
            "display": null,
            "left": null
          }
        },
        "d869a3b857eb41eeb8ccf524d3542a65": {
          "model_module": "@jupyter-widgets/controls",
          "model_name": "DescriptionStyleModel",
          "state": {
            "_view_name": "StyleView",
            "_model_name": "DescriptionStyleModel",
            "description_width": "",
            "_view_module": "@jupyter-widgets/base",
            "_model_module_version": "1.5.0",
            "_view_count": null,
            "_view_module_version": "1.2.0",
            "_model_module": "@jupyter-widgets/controls"
          }
        },
        "ed6ba93a519642ff941219bcb4ad2060": {
          "model_module": "@jupyter-widgets/base",
          "model_name": "LayoutModel",
          "state": {
            "_view_name": "LayoutView",
            "grid_template_rows": null,
            "right": null,
            "justify_content": null,
            "_view_module": "@jupyter-widgets/base",
            "overflow": null,
            "_model_module_version": "1.2.0",
            "_view_count": null,
            "flex_flow": null,
            "width": null,
            "min_width": null,
            "border": null,
            "align_items": null,
            "bottom": null,
            "_model_module": "@jupyter-widgets/base",
            "top": null,
            "grid_column": null,
            "overflow_y": null,
            "overflow_x": null,
            "grid_auto_flow": null,
            "grid_area": null,
            "grid_template_columns": null,
            "flex": null,
            "_model_name": "LayoutModel",
            "justify_items": null,
            "grid_row": null,
            "max_height": null,
            "align_content": null,
            "visibility": null,
            "align_self": null,
            "height": null,
            "min_height": null,
            "padding": null,
            "grid_auto_rows": null,
            "grid_gap": null,
            "max_width": null,
            "order": null,
            "_view_module_version": "1.2.0",
            "grid_template_areas": null,
            "object_position": null,
            "object_fit": null,
            "grid_auto_columns": null,
            "margin": null,
            "display": null,
            "left": null
          }
        }
      }
    }
  },
  "cells": [
    {
      "cell_type": "markdown",
      "metadata": {
        "id": "view-in-github",
        "colab_type": "text"
      },
      "source": [
        "<a href=\"https://colab.research.google.com/github/kappakpr/DeepLearning/blob/master/senti2_GBM_H2O.ipynb\" target=\"_parent\"><img src=\"https://colab.research.google.com/assets/colab-badge.svg\" alt=\"Open In Colab\"/></a>"
      ]
    },
    {
      "cell_type": "code",
      "metadata": {
        "id": "8qnNWWAGRDq0",
        "colab_type": "code",
        "colab": {
          "base_uri": "https://localhost:8080/",
          "height": 225
        },
        "outputId": "5becc4ec-fafc-4ea5-e95d-71263d5ac91a"
      },
      "source": [
        "!apt-get install default-jre\n",
        "!java -version"
      ],
      "execution_count": 1,
      "outputs": [
        {
          "output_type": "stream",
          "text": [
            "Reading package lists... Done\n",
            "Building dependency tree       \n",
            "Reading state information... Done\n",
            "default-jre is already the newest version (2:1.11-68ubuntu1~18.04.1).\n",
            "default-jre set to manually installed.\n",
            "The following package was automatically installed and is no longer required:\n",
            "  libnvidia-common-440\n",
            "Use 'apt autoremove' to remove it.\n",
            "0 upgraded, 0 newly installed, 0 to remove and 35 not upgraded.\n",
            "openjdk version \"11.0.7\" 2020-04-14\n",
            "OpenJDK Runtime Environment (build 11.0.7+10-post-Ubuntu-2ubuntu218.04)\n",
            "OpenJDK 64-Bit Server VM (build 11.0.7+10-post-Ubuntu-2ubuntu218.04, mixed mode, sharing)\n"
          ],
          "name": "stdout"
        }
      ]
    },
    {
      "cell_type": "code",
      "metadata": {
        "id": "klfN28y0RgFo",
        "colab_type": "code",
        "colab": {
          "base_uri": "https://localhost:8080/",
          "height": 347
        },
        "outputId": "52a55631-eb63-404f-c71a-02710ce9d228"
      },
      "source": [
        "!pip install h2o==3.30.0.1\n",
        "#can also install without specifying the version, pip will install the latest version available"
      ],
      "execution_count": 2,
      "outputs": [
        {
          "output_type": "stream",
          "text": [
            "Collecting h2o==3.30.0.1\n",
            "\u001b[?25l  Downloading https://files.pythonhosted.org/packages/96/b2/b6f5e8c7fd1efe0f6d2640b34164b10b0e28231b89cc06542a6b3a3903a0/h2o-3.30.0.1.tar.gz (129.5MB)\n",
            "\u001b[K     |████████████████████████████████| 129.5MB 80kB/s \n",
            "\u001b[?25hRequirement already satisfied: requests in /usr/local/lib/python3.6/dist-packages (from h2o==3.30.0.1) (2.23.0)\n",
            "Requirement already satisfied: tabulate in /usr/local/lib/python3.6/dist-packages (from h2o==3.30.0.1) (0.8.7)\n",
            "Requirement already satisfied: future in /usr/local/lib/python3.6/dist-packages (from h2o==3.30.0.1) (0.16.0)\n",
            "Collecting colorama>=0.3.8\n",
            "  Downloading https://files.pythonhosted.org/packages/c9/dc/45cdef1b4d119eb96316b3117e6d5708a08029992b2fee2c143c7a0a5cc5/colorama-0.4.3-py2.py3-none-any.whl\n",
            "Requirement already satisfied: certifi>=2017.4.17 in /usr/local/lib/python3.6/dist-packages (from requests->h2o==3.30.0.1) (2020.6.20)\n",
            "Requirement already satisfied: idna<3,>=2.5 in /usr/local/lib/python3.6/dist-packages (from requests->h2o==3.30.0.1) (2.10)\n",
            "Requirement already satisfied: urllib3!=1.25.0,!=1.25.1,<1.26,>=1.21.1 in /usr/local/lib/python3.6/dist-packages (from requests->h2o==3.30.0.1) (1.24.3)\n",
            "Requirement already satisfied: chardet<4,>=3.0.2 in /usr/local/lib/python3.6/dist-packages (from requests->h2o==3.30.0.1) (3.0.4)\n",
            "Building wheels for collected packages: h2o\n",
            "  Building wheel for h2o (setup.py) ... \u001b[?25l\u001b[?25hdone\n",
            "  Created wheel for h2o: filename=h2o-3.30.0.1-py2.py3-none-any.whl size=129557718 sha256=91f71f5280cfd85bbfc5dcfa009c9fd9ae823a46e0c5eea7fc0c700700ea3284\n",
            "  Stored in directory: /root/.cache/pip/wheels/db/42/63/d118d7218432054da842f5d10bd4f99e978bde0931164e6c7a\n",
            "Successfully built h2o\n",
            "Installing collected packages: colorama, h2o\n",
            "Successfully installed colorama-0.4.3 h2o-3.30.0.1\n"
          ],
          "name": "stdout"
        }
      ]
    },
    {
      "cell_type": "code",
      "metadata": {
        "id": "qCrE21uLRoyS",
        "colab_type": "code",
        "colab": {}
      },
      "source": [
        "import tensorflow_datasets as tfds\n",
        "import h2o\n",
        "import numpy as np"
      ],
      "execution_count": 3,
      "outputs": []
    },
    {
      "cell_type": "code",
      "metadata": {
        "id": "BjcgXsxyR3cW",
        "colab_type": "code",
        "colab": {
          "base_uri": "https://localhost:8080/",
          "height": 555
        },
        "outputId": "eb6af7eb-07dd-4993-cd2c-24d86b9ae61c"
      },
      "source": [
        "h2o.init()\n",
        "#started the h2o cluster.\n",
        "#gpu cluster is nto required"
      ],
      "execution_count": 4,
      "outputs": [
        {
          "output_type": "stream",
          "text": [
            "Checking whether there is an H2O instance running at http://localhost:54321 ..... not found.\n",
            "Attempting to start a local H2O server...\n",
            "  Java Version: openjdk version \"11.0.7\" 2020-04-14; OpenJDK Runtime Environment (build 11.0.7+10-post-Ubuntu-2ubuntu218.04); OpenJDK 64-Bit Server VM (build 11.0.7+10-post-Ubuntu-2ubuntu218.04, mixed mode, sharing)\n",
            "  Starting server from /usr/local/lib/python3.6/dist-packages/h2o/backend/bin/h2o.jar\n",
            "  Ice root: /tmp/tmpga02cpqa\n",
            "  JVM stdout: /tmp/tmpga02cpqa/h2o_unknownUser_started_from_python.out\n",
            "  JVM stderr: /tmp/tmpga02cpqa/h2o_unknownUser_started_from_python.err\n",
            "  Server is running at http://127.0.0.1:54321\n",
            "Connecting to H2O server at http://127.0.0.1:54321 ... successful.\n",
            "Warning: Your H2O cluster version is too old (3 months and 18 days)! Please download and install the latest version from http://h2o.ai/download/\n"
          ],
          "name": "stdout"
        },
        {
          "output_type": "display_data",
          "data": {
            "text/html": [
              "<div style=\"overflow:auto\"><table style=\"width:50%\"><tr><td>H2O_cluster_uptime:</td>\n",
              "<td>02 secs</td></tr>\n",
              "<tr><td>H2O_cluster_timezone:</td>\n",
              "<td>Etc/UTC</td></tr>\n",
              "<tr><td>H2O_data_parsing_timezone:</td>\n",
              "<td>UTC</td></tr>\n",
              "<tr><td>H2O_cluster_version:</td>\n",
              "<td>3.30.0.1</td></tr>\n",
              "<tr><td>H2O_cluster_version_age:</td>\n",
              "<td>3 months and 18 days !!!</td></tr>\n",
              "<tr><td>H2O_cluster_name:</td>\n",
              "<td>H2O_from_python_unknownUser_62c1jg</td></tr>\n",
              "<tr><td>H2O_cluster_total_nodes:</td>\n",
              "<td>1</td></tr>\n",
              "<tr><td>H2O_cluster_free_memory:</td>\n",
              "<td>3.180 Gb</td></tr>\n",
              "<tr><td>H2O_cluster_total_cores:</td>\n",
              "<td>2</td></tr>\n",
              "<tr><td>H2O_cluster_allowed_cores:</td>\n",
              "<td>2</td></tr>\n",
              "<tr><td>H2O_cluster_status:</td>\n",
              "<td>accepting new members, healthy</td></tr>\n",
              "<tr><td>H2O_connection_url:</td>\n",
              "<td>http://127.0.0.1:54321</td></tr>\n",
              "<tr><td>H2O_connection_proxy:</td>\n",
              "<td>{\"http\": null, \"https\": null}</td></tr>\n",
              "<tr><td>H2O_internal_security:</td>\n",
              "<td>False</td></tr>\n",
              "<tr><td>H2O_API_Extensions:</td>\n",
              "<td>Amazon S3, XGBoost, Algos, AutoML, Core V3, TargetEncoder, Core V4</td></tr>\n",
              "<tr><td>Python_version:</td>\n",
              "<td>3.6.9 final</td></tr></table></div>"
            ],
            "text/plain": [
              "--------------------------  ------------------------------------------------------------------\n",
              "H2O_cluster_uptime:         02 secs\n",
              "H2O_cluster_timezone:       Etc/UTC\n",
              "H2O_data_parsing_timezone:  UTC\n",
              "H2O_cluster_version:        3.30.0.1\n",
              "H2O_cluster_version_age:    3 months and 18 days !!!\n",
              "H2O_cluster_name:           H2O_from_python_unknownUser_62c1jg\n",
              "H2O_cluster_total_nodes:    1\n",
              "H2O_cluster_free_memory:    3.180 Gb\n",
              "H2O_cluster_total_cores:    2\n",
              "H2O_cluster_allowed_cores:  2\n",
              "H2O_cluster_status:         accepting new members, healthy\n",
              "H2O_connection_url:         http://127.0.0.1:54321\n",
              "H2O_connection_proxy:       {\"http\": null, \"https\": null}\n",
              "H2O_internal_security:      False\n",
              "H2O_API_Extensions:         Amazon S3, XGBoost, Algos, AutoML, Core V3, TargetEncoder, Core V4\n",
              "Python_version:             3.6.9 final\n",
              "--------------------------  ------------------------------------------------------------------"
            ]
          },
          "metadata": {
            "tags": []
          }
        }
      ]
    },
    {
      "cell_type": "markdown",
      "metadata": {
        "id": "g9aFxlchSDCB",
        "colab_type": "text"
      },
      "source": [
        "h2o is more efficient than the scikitlearn \n",
        "\n",
        "https://www.quora.com/Why-would-one-use-H2O-ai-over-scikit-learn-machine-learning-tool\n",
        "https://www.quora.com/Why-would-one-use-H2O-ai-over-scikit-learn-machine-learning-tool"
      ]
    },
    {
      "cell_type": "code",
      "metadata": {
        "id": "B7AGtprKUTHy",
        "colab_type": "code",
        "colab": {
          "base_uri": "https://localhost:8080/",
          "height": 510,
          "referenced_widgets": [
            "c704197794e94898b0eecb4c4d44788a",
            "a9cbbbabdf5543a6adde101cf8f03456",
            "0ad30865727647d292727d370c8d0cbb",
            "5b70bb65bce4434ba94e46898318cea1",
            "b6710e5768af4d5c826d9df8318bec9d",
            "9a39d87d51f540dba8f5b543dfa79291",
            "f7908ff7f44c4c84986fdcd630d3016f",
            "f769a46bc56945cb8ae8cb8eeb56c32c",
            "03832aac958a44c684473db85dcab624",
            "19cef52e95af438a89304f6b4d1ed40a",
            "515a281ab60f4308a1f9e33c1c76bb5b",
            "35d4ffe30cee43bc9624be6aacdb9cf9",
            "19072f7fe9f2447e857fd655e1f0725e",
            "0dc226a1df9343518488b168df2e73f8",
            "5fb30eb319954290ac3ea4293a4eba5f",
            "3fc2b906b33f453e9dbdca70b5cd1312",
            "a79fdcdd2bd44f33a71c7318816b25ef",
            "94603041deaf4c10ab81d561bdd068df",
            "4281320f30c24e28b29587a33449f0cf",
            "60d929281ae44dfe90855668a17305e5",
            "424fc229caa54ecba7782b62cfdfb1a0",
            "0c5e0c4b1a2f46519c8fbf168bbaa477",
            "c79d9637b70149a69631d3e73a15d186",
            "7db2a42fbcff45b98e994d063294e7b8",
            "c5db3fb6290b425bb8a4182e416193b6",
            "1c25f055391f437c8d68ca39e012aef2",
            "dab2937458db43f7908a4bfb1f96c3c6",
            "ba46f16f7f424dc98eb72c3201c121c7",
            "fb1c473de1a148ddae54d3635747890b",
            "14a564343b624519a89c68eba16e178e",
            "19f7426ca94e461a97f9164daaf3ae0b",
            "09667c68c2b14a09a4fef8b61c919667",
            "0e495dc7e69d4aceb188b0c97e9f74aa",
            "98144b79d1f14e3fbd25858c934a077d",
            "d03fac98658e498db06d852260775219",
            "93e9d567544c4ad1b9b38de88d94aa44",
            "75fe6e2d0a1f4afea145c4c87c03081b",
            "3f777d870fa7460796eb6fe4836a3814",
            "0ce90ebcd69840ab9003cdb0df93a8f4",
            "574ceae561274eacbdc6de5b6561e201",
            "566d5a543687461582e428408803f609",
            "5681d39bfb3840168fc9532671ce7e0b",
            "a38aa5f657dc4e939f08e4f2abdd6b1c",
            "33d078b00c9c469da63acfd3bcea6834",
            "8dd5520a6c6342a9aa8fe547c3e21127",
            "a584cf0e00224ed4be5120a0e58d5898",
            "4fd684e4df284ae68659f843bed48ce3",
            "23356d54dfae40edad4611739a986b6c",
            "14ecb2da988f481582a506425d57ca0c",
            "2b274903bcb24288a633241d86ab1d1b",
            "70ffaa6c90ca408e8fb6c3a876baf255",
            "71590d1c958549a7b42dc90f46b80b7a",
            "b6e69a90354747ba93fb3f428adaa1a0",
            "3a3705d8d1ce4225a88898b441b692e9",
            "d869a3b857eb41eeb8ccf524d3542a65",
            "ed6ba93a519642ff941219bcb4ad2060"
          ]
        },
        "outputId": "8a8af762-9e14-4d56-804d-8ab1e4a99dab"
      },
      "source": [
        "from google.colab import drive\n",
        "drive.mount('/content/gdrive')\n",
        "dataset, info = tfds.load('amazon_us_reviews/Personal_Care_Appliances_v1_00',with_info=True,batch_size=-1,data_dir='/content/drive/My Drive/colabfiles')\n",
        "train_dataset=dataset['train']"
      ],
      "execution_count": 5,
      "outputs": [
        {
          "output_type": "stream",
          "text": [
            "Go to this URL in a browser: https://accounts.google.com/o/oauth2/auth?client_id=947318989803-6bn6qk8qdgf4n4g3pfee6491hc0brc4i.apps.googleusercontent.com&redirect_uri=urn%3aietf%3awg%3aoauth%3a2.0%3aoob&response_type=code&scope=email%20https%3a%2f%2fwww.googleapis.com%2fauth%2fdocs.test%20https%3a%2f%2fwww.googleapis.com%2fauth%2fdrive%20https%3a%2f%2fwww.googleapis.com%2fauth%2fdrive.photos.readonly%20https%3a%2f%2fwww.googleapis.com%2fauth%2fpeopleapi.readonly\n",
            "\n",
            "Enter your authorization code:\n",
            "··········\n",
            "Mounted at /content/gdrive\n",
            "Downloading and preparing dataset amazon_us_reviews/Personal_Care_Appliances_v1_00/0.1.0 (download: 16.82 MiB, generated: Unknown size, total: 16.82 MiB) to /content/drive/My Drive/colabfiles/amazon_us_reviews/Personal_Care_Appliances_v1_00/0.1.0...\n"
          ],
          "name": "stdout"
        },
        {
          "output_type": "display_data",
          "data": {
            "application/vnd.jupyter.widget-view+json": {
              "model_id": "c704197794e94898b0eecb4c4d44788a",
              "version_minor": 0,
              "version_major": 2
            },
            "text/plain": [
              "HBox(children=(FloatProgress(value=1.0, bar_style='info', description='Dl Completed...', max=1.0, style=Progre…"
            ]
          },
          "metadata": {
            "tags": []
          }
        },
        {
          "output_type": "display_data",
          "data": {
            "application/vnd.jupyter.widget-view+json": {
              "model_id": "03832aac958a44c684473db85dcab624",
              "version_minor": 0,
              "version_major": 2
            },
            "text/plain": [
              "HBox(children=(FloatProgress(value=1.0, bar_style='info', description='Dl Size...', max=1.0, style=ProgressSty…"
            ]
          },
          "metadata": {
            "tags": []
          }
        },
        {
          "output_type": "display_data",
          "data": {
            "application/vnd.jupyter.widget-view+json": {
              "model_id": "a79fdcdd2bd44f33a71c7318816b25ef",
              "version_minor": 0,
              "version_major": 2
            },
            "text/plain": [
              "HBox(children=(FloatProgress(value=1.0, bar_style='info', description='Extraction completed...', max=1.0, styl…"
            ]
          },
          "metadata": {
            "tags": []
          }
        },
        {
          "output_type": "stream",
          "text": [
            "/usr/local/lib/python3.6/dist-packages/urllib3/connectionpool.py:847: InsecureRequestWarning: Unverified HTTPS request is being made. Adding certificate verification is strongly advised. See: https://urllib3.readthedocs.io/en/latest/advanced-usage.html#ssl-warnings\n",
            "  InsecureRequestWarning)\n"
          ],
          "name": "stderr"
        },
        {
          "output_type": "stream",
          "text": [
            "\n",
            "\n",
            "\n",
            "\n",
            "\n",
            "\n"
          ],
          "name": "stdout"
        },
        {
          "output_type": "display_data",
          "data": {
            "application/vnd.jupyter.widget-view+json": {
              "model_id": "c5db3fb6290b425bb8a4182e416193b6",
              "version_minor": 0,
              "version_major": 2
            },
            "text/plain": [
              "HBox(children=(FloatProgress(value=1.0, bar_style='info', max=1.0), HTML(value='')))"
            ]
          },
          "metadata": {
            "tags": []
          }
        },
        {
          "output_type": "stream",
          "text": [
            "\rShuffling and writing examples to /content/drive/My Drive/colabfiles/amazon_us_reviews/Personal_Care_Appliances_v1_00/0.1.0.incomplete519LG7/amazon_us_reviews-train.tfrecord\n"
          ],
          "name": "stdout"
        },
        {
          "output_type": "display_data",
          "data": {
            "application/vnd.jupyter.widget-view+json": {
              "model_id": "0e495dc7e69d4aceb188b0c97e9f74aa",
              "version_minor": 0,
              "version_major": 2
            },
            "text/plain": [
              "HBox(children=(FloatProgress(value=0.0, max=85981.0), HTML(value='')))"
            ]
          },
          "metadata": {
            "tags": []
          }
        },
        {
          "output_type": "display_data",
          "data": {
            "application/vnd.jupyter.widget-view+json": {
              "model_id": "566d5a543687461582e428408803f609",
              "version_minor": 0,
              "version_major": 2
            },
            "text/plain": [
              "HBox(children=(FloatProgress(value=0.0, description='Computing statistics...', max=1.0, style=ProgressStyle(de…"
            ]
          },
          "metadata": {
            "tags": []
          }
        },
        {
          "output_type": "stream",
          "text": [
            "\r"
          ],
          "name": "stdout"
        },
        {
          "output_type": "display_data",
          "data": {
            "application/vnd.jupyter.widget-view+json": {
              "model_id": "14ecb2da988f481582a506425d57ca0c",
              "version_minor": 0,
              "version_major": 2
            },
            "text/plain": [
              "HBox(children=(FloatProgress(value=1.0, bar_style='info', max=1.0), HTML(value='')))"
            ]
          },
          "metadata": {
            "tags": []
          }
        },
        {
          "output_type": "stream",
          "text": [
            "\r"
          ],
          "name": "stdout"
        },
        {
          "output_type": "stream",
          "text": [
            "ERROR:absl:Statistics generation doesn't work for nested structures yet\n"
          ],
          "name": "stderr"
        },
        {
          "output_type": "stream",
          "text": [
            "\n",
            "Dataset amazon_us_reviews downloaded and prepared to /content/drive/My Drive/colabfiles/amazon_us_reviews/Personal_Care_Appliances_v1_00/0.1.0. Subsequent calls will reuse this data.\n"
          ],
          "name": "stdout"
        }
      ]
    },
    {
      "cell_type": "code",
      "metadata": {
        "id": "6CCtpedGVD4o",
        "colab_type": "code",
        "colab": {
          "base_uri": "https://localhost:8080/",
          "height": 975
        },
        "outputId": "bea31572-3daf-4668-aa8e-a8091d5ff070"
      },
      "source": [
        "info"
      ],
      "execution_count": 7,
      "outputs": [
        {
          "output_type": "execute_result",
          "data": {
            "text/plain": [
              "tfds.core.DatasetInfo(\n",
              "    name='amazon_us_reviews',\n",
              "    version=0.1.0,\n",
              "    description='Amazon Customer Reviews (a.k.a. Product Reviews) is one of Amazons iconic products. In a period of over two decades since the first review in 1995, millions of Amazon customers have contributed over a hundred million reviews to express opinions and describe their experiences regarding products on the Amazon.com website. This makes Amazon Customer Reviews a rich source of information for academic researchers in the fields of Natural Language Processing (NLP), Information Retrieval (IR), and Machine Learning (ML), amongst others. Accordingly, we are releasing this data to further research in multiple disciplines related to understanding customer product experiences. Specifically, this dataset was constructed to represent a sample of customer evaluations and opinions, variation in the perception of a product across geographical regions, and promotional intent or bias in reviews.\n",
              "\n",
              "Over 130+ million customer reviews are available to researchers as part of this release. The data is available in TSV files in the amazon-reviews-pds S3 bucket in AWS US East Region. Each line in the data files corresponds to an individual review (tab delimited, with no quote and escape characters).\n",
              "\n",
              "Each Dataset contains the following columns : \n",
              "  marketplace       - 2 letter country code of the marketplace where the review was written.\n",
              "  customer_id       - Random identifier that can be used to aggregate reviews written by a single author.\n",
              "  review_id         - The unique ID of the review.\n",
              "  product_id        - The unique Product ID the review pertains to. In the multilingual dataset the reviews\n",
              "                      for the same product in different countries can be grouped by the same product_id.\n",
              "  product_parent    - Random identifier that can be used to aggregate reviews for the same product.\n",
              "  product_title     - Title of the product.\n",
              "  product_category  - Broad product category that can be used to group reviews \n",
              "                      (also used to group the dataset into coherent parts).\n",
              "  star_rating       - The 1-5 star rating of the review.\n",
              "  helpful_votes     - Number of helpful votes.\n",
              "  total_votes       - Number of total votes the review received.\n",
              "  vine              - Review was written as part of the Vine program.\n",
              "  verified_purchase - The review is on a verified purchase.\n",
              "  review_headline   - The title of the review.\n",
              "  review_body       - The review text.\n",
              "  review_date       - The date the review was written.\n",
              "',\n",
              "    homepage='https://s3.amazonaws.com/amazon-reviews-pds/readme.html',\n",
              "    features=FeaturesDict({\n",
              "        'data': FeaturesDict({\n",
              "            'customer_id': tf.string,\n",
              "            'helpful_votes': tf.int32,\n",
              "            'marketplace': tf.string,\n",
              "            'product_category': tf.string,\n",
              "            'product_id': tf.string,\n",
              "            'product_parent': tf.string,\n",
              "            'product_title': tf.string,\n",
              "            'review_body': tf.string,\n",
              "            'review_date': tf.string,\n",
              "            'review_headline': tf.string,\n",
              "            'review_id': tf.string,\n",
              "            'star_rating': tf.int32,\n",
              "            'total_votes': tf.int32,\n",
              "            'verified_purchase': ClassLabel(shape=(), dtype=tf.int64, num_classes=2),\n",
              "            'vine': ClassLabel(shape=(), dtype=tf.int64, num_classes=2),\n",
              "        }),\n",
              "    }),\n",
              "    total_num_examples=85981,\n",
              "    splits={\n",
              "        'train': 85981,\n",
              "    },\n",
              "    supervised_keys=None,\n",
              "    citation=\"\"\"\"\"\",\n",
              "    redistribution_info=,\n",
              ")"
            ]
          },
          "metadata": {
            "tags": []
          },
          "execution_count": 7
        }
      ]
    },
    {
      "cell_type": "code",
      "metadata": {
        "id": "h7GD2WT7VFH8",
        "colab_type": "code",
        "colab": {}
      },
      "source": [
        "dataset=tfds.as_numpy(train_dataset)"
      ],
      "execution_count": 8,
      "outputs": []
    },
    {
      "cell_type": "code",
      "metadata": {
        "id": "aBDCGsxCVK2H",
        "colab_type": "code",
        "colab": {
          "base_uri": "https://localhost:8080/",
          "height": 749
        },
        "outputId": "66ffc81c-c62e-4d5c-b831-f84e9cff7346"
      },
      "source": [
        "dataset"
      ],
      "execution_count": 9,
      "outputs": [
        {
          "output_type": "execute_result",
          "data": {
            "text/plain": [
              "{'data': {'customer_id': array([b'13986323', b'50574716', b'50593972', ..., b'40719682',\n",
              "         b'35596948', b'29430209'], dtype=object),\n",
              "  'helpful_votes': array([0, 3, 0, ..., 0, 0, 0], dtype=int32),\n",
              "  'marketplace': array([b'US', b'US', b'US', ..., b'US', b'US', b'US'], dtype=object),\n",
              "  'product_category': array([b'Personal_Care_Appliances', b'Personal_Care_Appliances',\n",
              "         b'Personal_Care_Appliances', ..., b'Personal_Care_Appliances',\n",
              "         b'Personal_Care_Appliances', b'Personal_Care_Appliances'],\n",
              "        dtype=object),\n",
              "  'product_id': array([b'B00847JQZ6', b'B00N5HD340', b'B0077L1X24', ..., b'B000UZ8X2W',\n",
              "         b'B000NURPPK', b'B001EY5GNW'], dtype=object),\n",
              "  'product_parent': array([b'997683625', b'955577225', b'120764066', ..., b'96066145',\n",
              "         b'58591097', b'986877728'], dtype=object),\n",
              "  'product_title': array([b'SE - Reading Glass - Spring Loaded Hinges, 4.0x - RTS62400',\n",
              "         b'Straight Razor',\n",
              "         b'Philips Sonicare Flexcare & Healthy White Plastic Travel Handle Case New Bulk Package',\n",
              "         ...,\n",
              "         b'Remington R-9200 Microflex Ultra TCT Shaver [Health and Beauty]',\n",
              "         b'SUNBEAM Cool Mist HUMIDIFIER with PermaFilter # 1120 \\xe2\\x80\\x93 1 Ea',\n",
              "         b'Andis Blade Set for T-Outliner Trimmer'], dtype=object),\n",
              "  'review_body': array([b\"These glasses are an excellent value.  The fit is good and they are very comfortable.  Because of my legal blindness, there aren't a lot of options to try to see better, but I believe these help with my other visual aids, and because they are reasonably priced I can have more than one pair available.\",\n",
              "         b\"Always wanted to try straight razor shaving (as a DE safety razor user), and this was a cheap way for me to determine I was not into it.<br /><br />Because the blades are disposable and always sharp, I could put a new one in and reasonably rely upon that fact that cuts were probably due to my technique and not the blade.<br /><br />It's very hard to do straight razor shaving on yourself because the ANGLE is difficult to control without switching hands. Being very right-handed, I really couldn't do that. I bet I could shave someone else's face with it though.<br /><br />An immediate upside? Using a DE safety razor (slant edged even) seems SUPER safe now! I'm increased my speed with the DE due to that confidence, and I'd been using it for years now.\",\n",
              "         b'I usually either throw my toothbrush in a plastic bag with spare head so this product is very convenient for keeping all the parts apart, dry and undamaged, and i now keep it in my travel bag all the time ready to go.',\n",
              "         ...,\n",
              "         b\"I have had a Remington before but needed a new one when the batteries died and the cutters were all but gone.  It was cheaper to buy a new one.  The new one has a nice charge level but the trimmer didn't work when I got it.\",\n",
              "         b\"I was surprised that it really didn't do much compared to the 1950s version that I'd inherited. Keeping a wet wash cloth next to my bed for when I start coughing in the middle of the night works better.\",\n",
              "         b'The blades were an excellent fit for my T-line trimmers.  Within five minutes I had my trimmers cleaned, the blades installed, and was putting them to use.  I saw the blades in several locations for almost twice the price I paid, so this worked out to be an awesome deal.'],\n",
              "        dtype=object),\n",
              "  'review_date': array([b'2015-01-04', b'2015-08-05', b'2012-11-17', ..., b'2008-02-08',\n",
              "         b'2007-09-07', b'2012-07-26'], dtype=object),\n",
              "  'review_headline': array([b'These glasses are an excellent value. The fit is good and they are ...',\n",
              "         b'A fantastic way to cheaply try straight razor shaving.',\n",
              "         b'Great for travel', ..., b'Trimmer Not Working',\n",
              "         b'Loud and ineffectual', b'Excellent product, awesomoe price'],\n",
              "        dtype=object),\n",
              "  'review_id': array([b'R3VEUFVA9QJY55', b'R2DTQV5SMJ0CK7', b'R3OJ06NK99WLNJ', ...,\n",
              "         b'R1ZQ0XZXOD9N18', b'R1FJ9OU429X00Y', b'RI28R1W94N1R6'],\n",
              "        dtype=object),\n",
              "  'star_rating': array([4, 5, 4, ..., 3, 2, 5], dtype=int32),\n",
              "  'total_votes': array([0, 3, 0, ..., 0, 0, 0], dtype=int32),\n",
              "  'verified_purchase': array([0, 0, 0, ..., 1, 0, 0]),\n",
              "  'vine': array([1, 1, 1, ..., 1, 1, 1])}}"
            ]
          },
          "metadata": {
            "tags": []
          },
          "execution_count": 9
        }
      ]
    },
    {
      "cell_type": "code",
      "metadata": {
        "id": "wg9SxLdOVMB6",
        "colab_type": "code",
        "colab": {}
      },
      "source": [
        "helpful_votes = dataset['data']['helpful_votes']\n",
        "review_headline = dataset['data']['review_headline']\n",
        "review_body = dataset['data']['review_body']\n",
        "rating = dataset['data']['star_rating']"
      ],
      "execution_count": 10,
      "outputs": []
    },
    {
      "cell_type": "code",
      "metadata": {
        "id": "TemMp7XY985A",
        "colab_type": "code",
        "colab": {
          "base_uri": "https://localhost:8080/",
          "height": 34
        },
        "outputId": "2e22d063-ed73-43f4-974f-7570f94d05e5"
      },
      "source": [
        "h2o_df = h2o.H2OFrame(np.hstack((helpful_votes[:,None],review_headline[:,None],review_body[:,None],rating[:,None])),column_names=['votes','headline','reviews','rating'],column_types=['numeric','string','string','numeric'])"
      ],
      "execution_count": 11,
      "outputs": [
        {
          "output_type": "stream",
          "text": [
            "Parse progress: |█████████████████████████████████████████████████████████| 100%\n"
          ],
          "name": "stdout"
        }
      ]
    },
    {
      "cell_type": "code",
      "metadata": {
        "id": "37Eog674_zE-",
        "colab_type": "code",
        "colab": {
          "base_uri": "https://localhost:8080/",
          "height": 827
        },
        "outputId": "dda3bbfc-30d7-4ae0-d4c9-5b42ef23320b"
      },
      "source": [
        "h2o_df"
      ],
      "execution_count": 12,
      "outputs": [
        {
          "output_type": "display_data",
          "data": {
            "text/html": [
              "<table>\n",
              "<thead>\n",
              "<tr><th style=\"text-align: right;\">  votes</th><th>headline                                                                 </th><th>reviews                                                                                                                                                                                                                                                                                                                                                                                                                                                                                                                                                                                                                                                                                                                                                                                                                                                                                                                                                                                                                                                                                                                           </th><th style=\"text-align: right;\">  rating</th></tr>\n",
              "</thead>\n",
              "<tbody>\n",
              "<tr><td style=\"text-align: right;\">      0</td><td>b&#x27;These glasses are an excellent value. The fit is good and they are ...&#x27;</td><td>b&quot;These glasses are an excellent value.  The fit is good and they are very comfortable.  Because of my legal blindness, there aren&#x27;t a lot of options to try to see better, but I believe these help with my other visual aids, and because they are reasonably priced I can have more than one pair available.&quot;                                                                                                                                                                                                                                                                                                                                                                                                                                                                                                                                                                                                                                                                                                                                                                                                                  </td><td style=\"text-align: right;\">       4</td></tr>\n",
              "<tr><td style=\"text-align: right;\">      3</td><td>b&#x27;A fantastic way to cheaply try straight razor shaving.&#x27;                </td><td>b&quot;Always wanted to try straight razor shaving (as a DE safety razor user), and this was a cheap way for me to determine I was not into it.&lt;br /&gt;&lt;br /&gt;Because the blades are disposable and always sharp, I could put a new one in and reasonably rely upon that fact that cuts were probably due to my technique and not the blade.&lt;br /&gt;&lt;br /&gt;It&#x27;s very hard to do straight razor shaving on yourself because the ANGLE is difficult to control without switching hands. Being very right-handed, I really couldn&#x27;t do that. I bet I could shave someone else&#x27;s face with it though.&lt;br /&gt;&lt;br /&gt;An immediate upside? Using a DE safety razor (slant edged even) seems SUPER safe now! I&#x27;m increased my speed with the DE due to that confidence, and I&#x27;d been using it for years now.&quot;                                                                                                                                                                                                                                                                                                                                          </td><td style=\"text-align: right;\">       5</td></tr>\n",
              "<tr><td style=\"text-align: right;\">      0</td><td>b&#x27;Great for travel&#x27;                                                      </td><td>b&#x27;I usually either throw my toothbrush in a plastic bag with spare head so this product is very convenient for keeping all the parts apart, dry and undamaged, and i now keep it in my travel bag all the time ready to go.&#x27;                                                                                                                                                                                                                                                                                                                                                                                                                                                                                                                                                                                                                                                                                                                                                                                                                                                                                                      </td><td style=\"text-align: right;\">       4</td></tr>\n",
              "<tr><td style=\"text-align: right;\">      0</td><td>b&#x27;Five Stars&#x27;                                                            </td><td>b&#x27;Top quality.&#x27;                                                                                                                                                                                                                                                                                                                                                                                                                                                                                                                                                                                                                                                                                                                                                                                                                                                                                                                                                                                                                                                                                                                   </td><td style=\"text-align: right;\">       5</td></tr>\n",
              "<tr><td style=\"text-align: right;\">      1</td><td>b&#x27;*Product sent not as shown&#x27;                                            </td><td>b&#x27;Today I received  1 Fl. Oz, Natures Balance AlkaMAX alkaline booster liquid unflavored (formally TriMedica) a glass brown bottle with eye dropper.&lt;br /&gt;Supplement Facts; Serving Size: 10 Drops (Approx. 0.5 mL). Servings per Container: Approx. 60&lt;br /&gt;Amount Per Serving % Daily Value&lt;br /&gt;Magnesium (as Magnesium Chloride) 40 mg 10%&lt;br /&gt;Chloride (as Magnesium Chloride) 64 mg 2%&lt;br /&gt;Other Ingredients: Deionized water and trace mineral complex.&lt;br /&gt;Directions: Add 10 drops to 8 oz. of water or other beverage daily as needed or as directed by your health care practitioner. Store in a cool, dry place.&lt;br /&gt;&lt;br /&gt;I have not used product as of yet with changed ingredients of original/as shown in AlkaMax alkaline support white squeeze bottle.&lt;br /&gt;but had to rate to post...heck this new may be better for all I know.&#x27;                                                                                                                                                                                                                                                                          </td><td style=\"text-align: right;\">       3</td></tr>\n",
              "<tr><td style=\"text-align: right;\">      6</td><td>b&#x27;Seems to work well!&#x27;                                                   </td><td>b&#x27;I recently picked this unit up at Bed and Bath where it was $99.00. With a 20% coupon the price was $80 (so comparison shop!) It\\&#x27;s easy to use and seems to work well. I agree with other reviewers about the noise level (loud like a tea kettle boiling), but I use this unit in the living room area so sleeping is not an issue. Having the 2 separate water reservoirs to fill is much easier, weight-wise, as I previously had another humidifier which had one large water reservoir and it was very heavy when full. The unit comes apart quite easily for cleaning and since frequent cleaning is recommended (I usually do it 1x per week, not daily) this is a definite plus. Additionally, one only needs to use vinegar to clean the inside reservoir, which is a lot cheaper than having to buy some kind of \\\\\\\\&quot;special\\\\\\\\&quot; cleaning solution. My one complaint is that it doesn\\&#x27;t, but should, have an automatic shut off when both tanks are empty.I have to remember to turn the unit off when I leave the house. My previous humidifiers all had this auto turn off; seems like every humidifier should.&#x27;</td><td style=\"text-align: right;\">       4</td></tr>\n",
              "<tr><td style=\"text-align: right;\">      8</td><td>b&#x27;deep heat?????&#x27;                                                        </td><td>b&#x27;Not sure what previous reviewer was talking about. The product uses ULTRASOUND waves for pain relief NOT heat.  After repeated use, the pain in my knee and shoulder was feeling great. I think you should re-read the description and reconsider your opinion. Great product sold by a great company.&#x27;                                                                                                                                                                                                                                                                                                                                                                                                                                                                                                                                                                                                                                                                                                                                                                                                                         </td><td style=\"text-align: right;\">       5</td></tr>\n",
              "<tr><td style=\"text-align: right;\">      2</td><td>b&#x27;Thermometer for a toddler&#x27;                                             </td><td>b&quot;The shippers were great....willing to consider speedier shipping options, but in the end the standard shipping arrived quickly enough. The thermometer is fun and easy to use, but with an inquisitive toddler, it would be nice to have the plastic cap attached to the body so that it doesn&#x27;t disappear.  Would buy it again from these sellers.&quot;                                                                                                                                                                                                                                                                                                                                                                                                                                                                                                                                                                                                                                                                                                                                                                            </td><td style=\"text-align: right;\">       4</td></tr>\n",
              "<tr><td style=\"text-align: right;\">      2</td><td>b&#x27;Wow!&#x27;                                                                  </td><td>b&quot;Man, for all you who know what I&#x27;m talking about, this is the best thing I&#x27;ve ever had on my back.  I suffer from back pain constantly and find myself waking up in the middle of the night pushing parts of my back and neck on the edges of walls on the corners of doors and sometimes lying down on tennis or racket balls to get pressure on those dang trigger points.  I opted for the body sticks package not knowing what they would do and it was a good thing.  They are like have racket balls on the ends of sticks to beat your muscle spasms and to lie down on them rolling around on your back. It is worth the money.  They use a device similar to this in physical therapy so if you get your doctor to write you a script for it, insurance may very well pay for it like mine did.  Even so, paid or not, buy this sucker.  Buy two, I thought, just in case it breaks and they for some reason stop manufacturing this thing.  Good stuff.&quot;                                                                                                                                                              </td><td style=\"text-align: right;\">       5</td></tr>\n",
              "<tr><td style=\"text-align: right;\">      1</td><td>b&#x27;Great cane for people with hand and wrist issues&#x27;                      </td><td>b&quot;I purchased this cane to assist me when I have to walk long distances.  I have rheumatoid arthritis that has particularly affected my low back and hips, and it sometimes makes walking difficult.  The problem with using a cane when you have RA is that RA doesn&#x27;t just affect your lower extremities.  My hands, wrists, and shoulders are also affected.  When I tried a normal cane, it was agonizingly painful for my hand and wrist in particular.  That made it not worth using, even though it did help my hip and back.  A friend with similar issues recommended this one, and the difference was amazing.  It is still a bit hard on my hand after awhile, but not to the point that would make it not worth using.  There really is no perfect solution for this circumstance short of a wheelchair, and I&#x27;m nowhere near ready for that yet!  The forearm rest makes it bearable to use this cane, and it does really help me to walk longer distances when I need to!  It is a great product, and I&#x27;m happy that I purchased it!&quot;                                                                               </td><td style=\"text-align: right;\">       4</td></tr>\n",
              "</tbody>\n",
              "</table>"
            ]
          },
          "metadata": {
            "tags": []
          }
        },
        {
          "output_type": "execute_result",
          "data": {
            "text/plain": [
              ""
            ]
          },
          "metadata": {
            "tags": []
          },
          "execution_count": 12
        }
      ]
    },
    {
      "cell_type": "code",
      "metadata": {
        "id": "HS8W5JL5AbuJ",
        "colab_type": "code",
        "colab": {}
      },
      "source": [
        "h2o_df[\"target\"] = (h2o_df[\"rating\"] >= 4).ifelse(\"1\",\"0\")"
      ],
      "execution_count": 13,
      "outputs": []
    },
    {
      "cell_type": "code",
      "metadata": {
        "id": "cIF2Y9nS_1sz",
        "colab_type": "code",
        "colab": {
          "base_uri": "https://localhost:8080/",
          "height": 34
        },
        "outputId": "785df4ae-8eb9-449c-c961-7685b4cfaa13"
      },
      "source": [
        "h2o_df.shape"
      ],
      "execution_count": 14,
      "outputs": [
        {
          "output_type": "execute_result",
          "data": {
            "text/plain": [
              "(85981, 5)"
            ]
          },
          "metadata": {
            "tags": []
          },
          "execution_count": 14
        }
      ]
    },
    {
      "cell_type": "code",
      "metadata": {
        "id": "G0gcBnV8AGt0",
        "colab_type": "code",
        "colab": {
          "base_uri": "https://localhost:8080/",
          "height": 83
        },
        "outputId": "39cbc9ca-5271-494c-deda-5fba8eb267fe"
      },
      "source": [
        "h2o_df[\"target\"].table()\n",
        "# from output we can see it is an imbalanced dataset positive vs negative wise"
      ],
      "execution_count": 15,
      "outputs": [
        {
          "output_type": "display_data",
          "data": {
            "text/html": [
              "<table>\n",
              "<thead>\n",
              "<tr><th style=\"text-align: right;\">  target</th><th style=\"text-align: right;\">  Count</th></tr>\n",
              "</thead>\n",
              "<tbody>\n",
              "<tr><td style=\"text-align: right;\">       0</td><td style=\"text-align: right;\">  23427</td></tr>\n",
              "<tr><td style=\"text-align: right;\">       1</td><td style=\"text-align: right;\">  62554</td></tr>\n",
              "</tbody>\n",
              "</table>"
            ]
          },
          "metadata": {
            "tags": []
          }
        },
        {
          "output_type": "execute_result",
          "data": {
            "text/plain": [
              ""
            ]
          },
          "metadata": {
            "tags": []
          },
          "execution_count": 15
        }
      ]
    },
    {
      "cell_type": "code",
      "metadata": {
        "id": "gvkgtsntANH_",
        "colab_type": "code",
        "colab": {
          "base_uri": "https://localhost:8080/",
          "height": 1000
        },
        "outputId": "c7e4bb92-c98b-4ed7-864e-7a536c8ce937"
      },
      "source": [
        "h2o_df.describe()"
      ],
      "execution_count": 16,
      "outputs": [
        {
          "output_type": "stream",
          "text": [
            "Rows:85981\n",
            "Cols:5\n",
            "\n",
            "\n"
          ],
          "name": "stdout"
        },
        {
          "output_type": "display_data",
          "data": {
            "text/html": [
              "<table>\n",
              "<thead>\n",
              "<tr><th>       </th><th>votes             </th><th>headline                                                                 </th><th>reviews                                                                                                                                                                                                                                                                                                                                                                                                                                                                                                                                                                                                                                                                                                                                                                                                                                                                                                                                                                                                                                                                                                                           </th><th>rating           </th><th>target  </th></tr>\n",
              "</thead>\n",
              "<tbody>\n",
              "<tr><td>type   </td><td>int               </td><td>string                                                                   </td><td>string                                                                                                                                                                                                                                                                                                                                                                                                                                                                                                                                                                                                                                                                                                                                                                                                                                                                                                                                                                                                                                                                                                                            </td><td>int              </td><td>enum    </td></tr>\n",
              "<tr><td>mins   </td><td>0.0               </td><td>NaN                                                                      </td><td>NaN                                                                                                                                                                                                                                                                                                                                                                                                                                                                                                                                                                                                                                                                                                                                                                                                                                                                                                                                                                                                                                                                                                                               </td><td>1.0              </td><td>        </td></tr>\n",
              "<tr><td>mean   </td><td>3.3494841883672   </td><td>NaN                                                                      </td><td>NaN                                                                                                                                                                                                                                                                                                                                                                                                                                                                                                                                                                                                                                                                                                                                                                                                                                                                                                                                                                                                                                                                                                                               </td><td>3.977401984159291</td><td>        </td></tr>\n",
              "<tr><td>maxs   </td><td>2785.0            </td><td>NaN                                                                      </td><td>NaN                                                                                                                                                                                                                                                                                                                                                                                                                                                                                                                                                                                                                                                                                                                                                                                                                                                                                                                                                                                                                                                                                                                               </td><td>5.0              </td><td>        </td></tr>\n",
              "<tr><td>sigma  </td><td>19.483167220712946</td><td>NaN                                                                      </td><td>NaN                                                                                                                                                                                                                                                                                                                                                                                                                                                                                                                                                                                                                                                                                                                                                                                                                                                                                                                                                                                                                                                                                                                               </td><td>1.433130291971473</td><td>        </td></tr>\n",
              "<tr><td>zeros  </td><td>44555             </td><td>0                                                                        </td><td>0                                                                                                                                                                                                                                                                                                                                                                                                                                                                                                                                                                                                                                                                                                                                                                                                                                                                                                                                                                                                                                                                                                                                 </td><td>0                </td><td>        </td></tr>\n",
              "<tr><td>missing</td><td>0                 </td><td>0                                                                        </td><td>0                                                                                                                                                                                                                                                                                                                                                                                                                                                                                                                                                                                                                                                                                                                                                                                                                                                                                                                                                                                                                                                                                                                                 </td><td>0                </td><td>0       </td></tr>\n",
              "<tr><td>0      </td><td>0.0               </td><td>b&#x27;These glasses are an excellent value. The fit is good and they are ...&#x27;</td><td>b&quot;These glasses are an excellent value.  The fit is good and they are very comfortable.  Because of my legal blindness, there aren&#x27;t a lot of options to try to see better, but I believe these help with my other visual aids, and because they are reasonably priced I can have more than one pair available.&quot;                                                                                                                                                                                                                                                                                                                                                                                                                                                                                                                                                                                                                                                                                                                                                                                                                  </td><td>4.0              </td><td>1       </td></tr>\n",
              "<tr><td>1      </td><td>3.0               </td><td>b&#x27;A fantastic way to cheaply try straight razor shaving.&#x27;                </td><td>b&quot;Always wanted to try straight razor shaving (as a DE safety razor user), and this was a cheap way for me to determine I was not into it.&lt;br /&gt;&lt;br /&gt;Because the blades are disposable and always sharp, I could put a new one in and reasonably rely upon that fact that cuts were probably due to my technique and not the blade.&lt;br /&gt;&lt;br /&gt;It&#x27;s very hard to do straight razor shaving on yourself because the ANGLE is difficult to control without switching hands. Being very right-handed, I really couldn&#x27;t do that. I bet I could shave someone else&#x27;s face with it though.&lt;br /&gt;&lt;br /&gt;An immediate upside? Using a DE safety razor (slant edged even) seems SUPER safe now! I&#x27;m increased my speed with the DE due to that confidence, and I&#x27;d been using it for years now.&quot;                                                                                                                                                                                                                                                                                                                                          </td><td>5.0              </td><td>1       </td></tr>\n",
              "<tr><td>2      </td><td>0.0               </td><td>b&#x27;Great for travel&#x27;                                                      </td><td>b&#x27;I usually either throw my toothbrush in a plastic bag with spare head so this product is very convenient for keeping all the parts apart, dry and undamaged, and i now keep it in my travel bag all the time ready to go.&#x27;                                                                                                                                                                                                                                                                                                                                                                                                                                                                                                                                                                                                                                                                                                                                                                                                                                                                                                      </td><td>4.0              </td><td>1       </td></tr>\n",
              "<tr><td>3      </td><td>0.0               </td><td>b&#x27;Five Stars&#x27;                                                            </td><td>b&#x27;Top quality.&#x27;                                                                                                                                                                                                                                                                                                                                                                                                                                                                                                                                                                                                                                                                                                                                                                                                                                                                                                                                                                                                                                                                                                                   </td><td>5.0              </td><td>1       </td></tr>\n",
              "<tr><td>4      </td><td>1.0               </td><td>b&#x27;*Product sent not as shown&#x27;                                            </td><td>b&#x27;Today I received  1 Fl. Oz, Natures Balance AlkaMAX alkaline booster liquid unflavored (formally TriMedica) a glass brown bottle with eye dropper.&lt;br /&gt;Supplement Facts; Serving Size: 10 Drops (Approx. 0.5 mL). Servings per Container: Approx. 60&lt;br /&gt;Amount Per Serving % Daily Value&lt;br /&gt;Magnesium (as Magnesium Chloride) 40 mg 10%&lt;br /&gt;Chloride (as Magnesium Chloride) 64 mg 2%&lt;br /&gt;Other Ingredients: Deionized water and trace mineral complex.&lt;br /&gt;Directions: Add 10 drops to 8 oz. of water or other beverage daily as needed or as directed by your health care practitioner. Store in a cool, dry place.&lt;br /&gt;&lt;br /&gt;I have not used product as of yet with changed ingredients of original/as shown in AlkaMax alkaline support white squeeze bottle.&lt;br /&gt;but had to rate to post...heck this new may be better for all I know.&#x27;                                                                                                                                                                                                                                                                          </td><td>3.0              </td><td>0       </td></tr>\n",
              "<tr><td>5      </td><td>6.0               </td><td>b&#x27;Seems to work well!&#x27;                                                   </td><td>b&#x27;I recently picked this unit up at Bed and Bath where it was $99.00. With a 20% coupon the price was $80 (so comparison shop!) It\\&#x27;s easy to use and seems to work well. I agree with other reviewers about the noise level (loud like a tea kettle boiling), but I use this unit in the living room area so sleeping is not an issue. Having the 2 separate water reservoirs to fill is much easier, weight-wise, as I previously had another humidifier which had one large water reservoir and it was very heavy when full. The unit comes apart quite easily for cleaning and since frequent cleaning is recommended (I usually do it 1x per week, not daily) this is a definite plus. Additionally, one only needs to use vinegar to clean the inside reservoir, which is a lot cheaper than having to buy some kind of \\\\\\\\&quot;special\\\\\\\\&quot; cleaning solution. My one complaint is that it doesn\\&#x27;t, but should, have an automatic shut off when both tanks are empty.I have to remember to turn the unit off when I leave the house. My previous humidifiers all had this auto turn off; seems like every humidifier should.&#x27;</td><td>4.0              </td><td>1       </td></tr>\n",
              "<tr><td>6      </td><td>8.0               </td><td>b&#x27;deep heat?????&#x27;                                                        </td><td>b&#x27;Not sure what previous reviewer was talking about. The product uses ULTRASOUND waves for pain relief NOT heat.  After repeated use, the pain in my knee and shoulder was feeling great. I think you should re-read the description and reconsider your opinion. Great product sold by a great company.&#x27;                                                                                                                                                                                                                                                                                                                                                                                                                                                                                                                                                                                                                                                                                                                                                                                                                         </td><td>5.0              </td><td>1       </td></tr>\n",
              "<tr><td>7      </td><td>2.0               </td><td>b&#x27;Thermometer for a toddler&#x27;                                             </td><td>b&quot;The shippers were great....willing to consider speedier shipping options, but in the end the standard shipping arrived quickly enough. The thermometer is fun and easy to use, but with an inquisitive toddler, it would be nice to have the plastic cap attached to the body so that it doesn&#x27;t disappear.  Would buy it again from these sellers.&quot;                                                                                                                                                                                                                                                                                                                                                                                                                                                                                                                                                                                                                                                                                                                                                                            </td><td>4.0              </td><td>1       </td></tr>\n",
              "<tr><td>8      </td><td>2.0               </td><td>b&#x27;Wow!&#x27;                                                                  </td><td>b&quot;Man, for all you who know what I&#x27;m talking about, this is the best thing I&#x27;ve ever had on my back.  I suffer from back pain constantly and find myself waking up in the middle of the night pushing parts of my back and neck on the edges of walls on the corners of doors and sometimes lying down on tennis or racket balls to get pressure on those dang trigger points.  I opted for the body sticks package not knowing what they would do and it was a good thing.  They are like have racket balls on the ends of sticks to beat your muscle spasms and to lie down on them rolling around on your back. It is worth the money.  They use a device similar to this in physical therapy so if you get your doctor to write you a script for it, insurance may very well pay for it like mine did.  Even so, paid or not, buy this sucker.  Buy two, I thought, just in case it breaks and they for some reason stop manufacturing this thing.  Good stuff.&quot;                                                                                                                                                              </td><td>5.0              </td><td>1       </td></tr>\n",
              "<tr><td>9      </td><td>1.0               </td><td>b&#x27;Great cane for people with hand and wrist issues&#x27;                      </td><td>b&quot;I purchased this cane to assist me when I have to walk long distances.  I have rheumatoid arthritis that has particularly affected my low back and hips, and it sometimes makes walking difficult.  The problem with using a cane when you have RA is that RA doesn&#x27;t just affect your lower extremities.  My hands, wrists, and shoulders are also affected.  When I tried a normal cane, it was agonizingly painful for my hand and wrist in particular.  That made it not worth using, even though it did help my hip and back.  A friend with similar issues recommended this one, and the difference was amazing.  It is still a bit hard on my hand after awhile, but not to the point that would make it not worth using.  There really is no perfect solution for this circumstance short of a wheelchair, and I&#x27;m nowhere near ready for that yet!  The forearm rest makes it bearable to use this cane, and it does really help me to walk longer distances when I need to!  It is a great product, and I&#x27;m happy that I purchased it!&quot;                                                                               </td><td>4.0              </td><td>1       </td></tr>\n",
              "</tbody>\n",
              "</table>"
            ]
          },
          "metadata": {
            "tags": []
          }
        }
      ]
    },
    {
      "cell_type": "code",
      "metadata": {
        "id": "REOXDoLdFCaF",
        "colab_type": "code",
        "colab": {
          "base_uri": "https://localhost:8080/",
          "height": 52
        },
        "outputId": "b754cd03-4ad5-45d0-b99b-ebacb483ec53"
      },
      "source": [
        "import nltk\n",
        "from nltk.corpus import stopwords\n",
        "nltk.download('stopwords')\n",
        "stop_words = set(stopwords.words('english'))"
      ],
      "execution_count": 17,
      "outputs": [
        {
          "output_type": "stream",
          "text": [
            "[nltk_data] Downloading package stopwords to /root/nltk_data...\n",
            "[nltk_data]   Unzipping corpora/stopwords.zip.\n"
          ],
          "name": "stdout"
        }
      ]
    },
    {
      "cell_type": "code",
      "metadata": {
        "id": "TRUo-8feFZGc",
        "colab_type": "code",
        "colab": {}
      },
      "source": [
        "def tokenize(line):\n",
        "  tokenized = line.tokenize(\"\\\\W+\")\n",
        "  tokenized = tokenized.tolower()\n",
        "  tokenized = tokenized[(tokenized.nchar() >= 2) | (tokenized.isna()),:] #keep any value length of words greater than 2 ignore to , it etc. kind of words\n",
        "  tokenized_filter = tokenized[(tokenized.isna()) | (~ tokenized.isin(stop_words)),:] #filter and remove if in the stop words list\n",
        "  return tokenized_filter"
      ],
      "execution_count": 18,
      "outputs": []
    },
    {
      "cell_type": "code",
      "metadata": {
        "id": "4LW2U1vzGR74",
        "colab_type": "code",
        "colab": {}
      },
      "source": [
        "words_reviews = tokenize(h2o_df[\"reviews\"])"
      ],
      "execution_count": 19,
      "outputs": []
    },
    {
      "cell_type": "code",
      "metadata": {
        "id": "7XYF4p-9HDnF",
        "colab_type": "code",
        "colab": {}
      },
      "source": [
        "words_headline = tokenize(h2o_df[\"headline\"])"
      ],
      "execution_count": 20,
      "outputs": []
    },
    {
      "cell_type": "code",
      "metadata": {
        "id": "oFSizIAKHKil",
        "colab_type": "code",
        "colab": {
          "base_uri": "https://localhost:8080/",
          "height": 254
        },
        "outputId": "c25bb3bb-5627-41b0-c880-f947ce1bbd76"
      },
      "source": [
        "words_reviews.head()"
      ],
      "execution_count": 21,
      "outputs": [
        {
          "output_type": "display_data",
          "data": {
            "text/html": [
              "<table>\n",
              "<thead>\n",
              "<tr><th>C1         </th></tr>\n",
              "</thead>\n",
              "<tbody>\n",
              "<tr><td>glasses    </td></tr>\n",
              "<tr><td>excellent  </td></tr>\n",
              "<tr><td>value      </td></tr>\n",
              "<tr><td>fit        </td></tr>\n",
              "<tr><td>good       </td></tr>\n",
              "<tr><td>comfortable</td></tr>\n",
              "<tr><td>legal      </td></tr>\n",
              "<tr><td>blindness  </td></tr>\n",
              "<tr><td>lot        </td></tr>\n",
              "<tr><td>options    </td></tr>\n",
              "</tbody>\n",
              "</table>"
            ]
          },
          "metadata": {
            "tags": []
          }
        },
        {
          "output_type": "execute_result",
          "data": {
            "text/plain": [
              ""
            ]
          },
          "metadata": {
            "tags": []
          },
          "execution_count": 21
        }
      ]
    },
    {
      "cell_type": "code",
      "metadata": {
        "id": "9GgNuwerHPqZ",
        "colab_type": "code",
        "colab": {
          "base_uri": "https://localhost:8080/",
          "height": 237
        },
        "outputId": "0e687594-bad9-41c9-a822-6886ded4a419"
      },
      "source": [
        "words_headline.head()"
      ],
      "execution_count": 22,
      "outputs": [
        {
          "output_type": "display_data",
          "data": {
            "text/html": [
              "<table>\n",
              "<thead>\n",
              "<tr><th>C1       </th></tr>\n",
              "</thead>\n",
              "<tbody>\n",
              "<tr><td>glasses  </td></tr>\n",
              "<tr><td>excellent</td></tr>\n",
              "<tr><td>value    </td></tr>\n",
              "<tr><td>fit      </td></tr>\n",
              "<tr><td>good     </td></tr>\n",
              "<tr><td>         </td></tr>\n",
              "<tr><td>fantastic</td></tr>\n",
              "<tr><td>way      </td></tr>\n",
              "<tr><td>cheaply  </td></tr>\n",
              "<tr><td>try      </td></tr>\n",
              "</tbody>\n",
              "</table>"
            ]
          },
          "metadata": {
            "tags": []
          }
        },
        {
          "output_type": "execute_result",
          "data": {
            "text/plain": [
              ""
            ]
          },
          "metadata": {
            "tags": []
          },
          "execution_count": 22
        }
      ]
    },
    {
      "cell_type": "code",
      "metadata": {
        "id": "H0c-PphuHS3E",
        "colab_type": "code",
        "colab": {
          "base_uri": "https://localhost:8080/",
          "height": 34
        },
        "outputId": "30d630c0-1181-4645-9dcd-76c5510d60fd"
      },
      "source": [
        "words_reviews.shape"
      ],
      "execution_count": 23,
      "outputs": [
        {
          "output_type": "execute_result",
          "data": {
            "text/plain": [
              "(2797601, 1)"
            ]
          },
          "metadata": {
            "tags": []
          },
          "execution_count": 23
        }
      ]
    },
    {
      "cell_type": "code",
      "metadata": {
        "id": "dzjWnkvEHXXZ",
        "colab_type": "code",
        "colab": {}
      },
      "source": [
        "from h2o.estimators.word2vec import H2OWord2vecEstimator\n",
        "from h2o.estimators import H2OGradientBoostingEstimator, H2OXGBoostEstimator\n",
        "\n",
        "#word2vec model - words which share a close meaning or relation are stored closer in the vector\n",
        "#better than tfidf vectors because in H2OWord2vecEstimator the context of the word is maintained"
      ],
      "execution_count": 24,
      "outputs": []
    },
    {
      "cell_type": "code",
      "metadata": {
        "id": "qA-kBDyFH-B_",
        "colab_type": "code",
        "colab": {
          "base_uri": "https://localhost:8080/",
          "height": 34
        },
        "outputId": "a7d00ffc-2112-45f6-a01a-85de68bbac0d"
      },
      "source": [
        "vec_model = H2OWord2vecEstimator(vec_size = 100, model_id = \"w2v_amazon.model\")\n",
        "vec_model.train(training_frame=words_reviews)"
      ],
      "execution_count": 25,
      "outputs": [
        {
          "output_type": "stream",
          "text": [
            "word2vec Model Build progress: |██████████████████████████████████████████| 100%\n"
          ],
          "name": "stdout"
        }
      ]
    },
    {
      "cell_type": "code",
      "metadata": {
        "id": "b7QfER4AIPTx",
        "colab_type": "code",
        "colab": {
          "base_uri": "https://localhost:8080/",
          "height": 35
        },
        "outputId": "d92bba08-c2ae-4536-ccfe-97a2beba065e"
      },
      "source": [
        "h2o.save_model(vec_model,path='/content/drive/My Drive/colabfiles/',force=True)"
      ],
      "execution_count": 39,
      "outputs": [
        {
          "output_type": "execute_result",
          "data": {
            "application/vnd.google.colaboratory.intrinsic": {
              "type": "string"
            },
            "text/plain": [
              "'/content/drive/My Drive/colabfiles/w2v_amazon.model'"
            ]
          },
          "metadata": {
            "tags": []
          },
          "execution_count": 39
        }
      ]
    },
    {
      "cell_type": "code",
      "metadata": {
        "id": "GLh07L3DCtrv",
        "colab_type": "code",
        "colab": {}
      },
      "source": [
        "#specify the full path to model \n",
        "vec_model=h2o.load_model('/content/drive/My Drive/colabfiles/w2v_amazon.model')"
      ],
      "execution_count": 40,
      "outputs": []
    },
    {
      "cell_type": "code",
      "metadata": {
        "id": "7v_4OXUOC3WD",
        "colab_type": "code",
        "colab": {
          "base_uri": "https://localhost:8080/",
          "height": 104
        },
        "outputId": "100d66f1-3191-4b92-b877-148f384c7487"
      },
      "source": [
        "#sanity check of model\n",
        "#takes text corpus as input and produces word vector as output\n",
        "vec_model.find_synonyms(\"perfumes\",count=5)"
      ],
      "execution_count": 41,
      "outputs": [
        {
          "output_type": "execute_result",
          "data": {
            "text/plain": [
              "OrderedDict([('scents', 0.7439516186714172),\n",
              "             ('fragrances', 0.7290123105049133),\n",
              "             ('woodsy', 0.724243700504303),\n",
              "             ('weleda', 0.6952806115150452),\n",
              "             ('patchouli', 0.694543719291687)])"
            ]
          },
          "metadata": {
            "tags": []
          },
          "execution_count": 41
        }
      ]
    },
    {
      "cell_type": "code",
      "metadata": {
        "id": "BlRJF65XC-WW",
        "colab_type": "code",
        "colab": {
          "base_uri": "https://localhost:8080/",
          "height": 104
        },
        "outputId": "c069b698-0e8f-4eae-c60d-3459ffbbcd42"
      },
      "source": [
        "vec_model.find_synonyms(\"toothpaste\",count=5)"
      ],
      "execution_count": 42,
      "outputs": [
        {
          "output_type": "execute_result",
          "data": {
            "text/plain": [
              "OrderedDict([('listerine', 0.7599316239356995),\n",
              "             ('mouthwash', 0.7313197255134583),\n",
              "             ('whitening', 0.7158499360084534),\n",
              "             ('mentadent', 0.6744013428688049),\n",
              "             ('ultreo', 0.6656889915466309)])"
            ]
          },
          "metadata": {
            "tags": []
          },
          "execution_count": 42
        }
      ]
    },
    {
      "cell_type": "code",
      "metadata": {
        "id": "XvM-Hg8pDBYL",
        "colab_type": "code",
        "colab": {
          "base_uri": "https://localhost:8080/",
          "height": 104
        },
        "outputId": "712b7cb6-e907-4ad9-e8d4-c8ff3bfd3082"
      },
      "source": [
        "vec_model.find_synonyms(\"glasses\",count=5)"
      ],
      "execution_count": 43,
      "outputs": [
        {
          "output_type": "execute_result",
          "data": {
            "text/plain": [
              "OrderedDict([('sunglasses', 0.8881055116653442),\n",
              "             ('readers', 0.8635859489440918),\n",
              "             ('bifocal', 0.7921496033668518),\n",
              "             ('lenses', 0.7885411977767944),\n",
              "             ('bifocals', 0.7791802287101746)])"
            ]
          },
          "metadata": {
            "tags": []
          },
          "execution_count": 43
        }
      ]
    },
    {
      "cell_type": "code",
      "metadata": {
        "id": "kp9ZBM3sDEFy",
        "colab_type": "code",
        "colab": {}
      },
      "source": [
        "reviews_vecs = vec_model.transform(words_reviews,aggregate_method=\"AVERAGE\")\n",
        "#transform the words_reviews and transform to a vector representation as in a numeric representation that the model can understand. model cannot understand string objects\n",
        "#aggregate = NONE , dont aggregate each input word is mapped to a single word vector\n",
        "# average = input is treated as a sequence of words delimited by each sentence. each sentence is mapped to a vector. vector belonging to same sentence is averaged. look into more details."
      ],
      "execution_count": 44,
      "outputs": []
    },
    {
      "cell_type": "code",
      "metadata": {
        "id": "wM9g2NjaDjVX",
        "colab_type": "code",
        "colab": {
          "base_uri": "https://localhost:8080/",
          "height": 34
        },
        "outputId": "feaf04f4-a8c6-4d93-b290-fb25b2b031e0"
      },
      "source": [
        "reviews_vecs.shape"
      ],
      "execution_count": 45,
      "outputs": [
        {
          "output_type": "execute_result",
          "data": {
            "text/plain": [
              "(85981, 100)"
            ]
          },
          "metadata": {
            "tags": []
          },
          "execution_count": 45
        }
      ]
    },
    {
      "cell_type": "code",
      "metadata": {
        "id": "TDU3g32ODtcH",
        "colab_type": "code",
        "colab": {
          "base_uri": "https://localhost:8080/",
          "height": 274
        },
        "outputId": "8285f973-4d91-463d-c596-e6e83180b155"
      },
      "source": [
        "reviews_vecs.head()"
      ],
      "execution_count": 46,
      "outputs": [
        {
          "output_type": "display_data",
          "data": {
            "text/html": [
              "<table>\n",
              "<thead>\n",
              "<tr><th style=\"text-align: right;\">        C1</th><th style=\"text-align: right;\">        C2</th><th style=\"text-align: right;\">         C3</th><th style=\"text-align: right;\">         C4</th><th style=\"text-align: right;\">         C5</th><th style=\"text-align: right;\">        C6</th><th style=\"text-align: right;\">        C7</th><th style=\"text-align: right;\">        C8</th><th style=\"text-align: right;\">          C9</th><th style=\"text-align: right;\">       C10</th><th style=\"text-align: right;\">        C11</th><th style=\"text-align: right;\">       C12</th><th style=\"text-align: right;\">       C13</th><th style=\"text-align: right;\">       C14</th><th style=\"text-align: right;\">       C15</th><th style=\"text-align: right;\">         C16</th><th style=\"text-align: right;\">      C17</th><th style=\"text-align: right;\">       C18</th><th style=\"text-align: right;\">        C19</th><th style=\"text-align: right;\">        C20</th><th style=\"text-align: right;\">       C21</th><th style=\"text-align: right;\">         C22</th><th style=\"text-align: right;\">       C23</th><th style=\"text-align: right;\">         C24</th><th style=\"text-align: right;\">       C25</th><th style=\"text-align: right;\">        C26</th><th style=\"text-align: right;\">        C27</th><th style=\"text-align: right;\">       C28</th><th style=\"text-align: right;\">       C29</th><th style=\"text-align: right;\">         C30</th><th style=\"text-align: right;\">        C31</th><th style=\"text-align: right;\">       C32</th><th style=\"text-align: right;\">       C33</th><th style=\"text-align: right;\">      C34</th><th style=\"text-align: right;\">        C35</th><th style=\"text-align: right;\">         C36</th><th style=\"text-align: right;\">        C37</th><th style=\"text-align: right;\">        C38</th><th style=\"text-align: right;\">       C39</th><th style=\"text-align: right;\">         C40</th><th style=\"text-align: right;\">       C41</th><th style=\"text-align: right;\">      C42</th><th style=\"text-align: right;\">        C43</th><th style=\"text-align: right;\">       C44</th><th style=\"text-align: right;\">        C45</th><th style=\"text-align: right;\">        C46</th><th style=\"text-align: right;\">        C47</th><th style=\"text-align: right;\">       C48</th><th style=\"text-align: right;\">       C49</th><th style=\"text-align: right;\">        C50</th><th style=\"text-align: right;\">        C51</th><th style=\"text-align: right;\">      C52</th><th style=\"text-align: right;\">        C53</th><th style=\"text-align: right;\">       C54</th><th style=\"text-align: right;\">        C55</th><th style=\"text-align: right;\">        C56</th><th style=\"text-align: right;\">       C57</th><th style=\"text-align: right;\">       C58</th><th style=\"text-align: right;\">        C59</th><th style=\"text-align: right;\">        C60</th><th style=\"text-align: right;\">       C61</th><th style=\"text-align: right;\">       C62</th><th style=\"text-align: right;\">        C63</th><th style=\"text-align: right;\">        C64</th><th style=\"text-align: right;\">       C65</th><th style=\"text-align: right;\">       C66</th><th style=\"text-align: right;\">        C67</th><th style=\"text-align: right;\">       C68</th><th style=\"text-align: right;\">       C69</th><th style=\"text-align: right;\">       C70</th><th style=\"text-align: right;\">         C71</th><th style=\"text-align: right;\">        C72</th><th style=\"text-align: right;\">       C73</th><th style=\"text-align: right;\">       C74</th><th style=\"text-align: right;\">       C75</th><th style=\"text-align: right;\">       C76</th><th style=\"text-align: right;\">       C77</th><th style=\"text-align: right;\">       C78</th><th style=\"text-align: right;\">        C79</th><th style=\"text-align: right;\">       C80</th><th style=\"text-align: right;\">        C81</th><th style=\"text-align: right;\">        C82</th><th style=\"text-align: right;\">       C83</th><th style=\"text-align: right;\">        C84</th><th style=\"text-align: right;\">       C85</th><th style=\"text-align: right;\">        C86</th><th style=\"text-align: right;\">        C87</th><th style=\"text-align: right;\">      C88</th><th style=\"text-align: right;\">      C89</th><th style=\"text-align: right;\">     C90</th><th style=\"text-align: right;\">        C91</th><th style=\"text-align: right;\">        C92</th><th style=\"text-align: right;\">        C93</th><th style=\"text-align: right;\">      C94</th><th style=\"text-align: right;\">       C95</th><th style=\"text-align: right;\">        C96</th><th style=\"text-align: right;\">         C97</th><th style=\"text-align: right;\">       C98</th><th style=\"text-align: right;\">       C99</th><th style=\"text-align: right;\">      C100</th></tr>\n",
              "</thead>\n",
              "<tbody>\n",
              "<tr><td style=\"text-align: right;\"> 0.159065 </td><td style=\"text-align: right;\">-0.0695679</td><td style=\"text-align: right;\">-0.044262  </td><td style=\"text-align: right;\">-0.00451119</td><td style=\"text-align: right;\">-0.10524   </td><td style=\"text-align: right;\">-0.120872 </td><td style=\"text-align: right;\"> 0.161854 </td><td style=\"text-align: right;\"> 0.0305692</td><td style=\"text-align: right;\"> 0.101904   </td><td style=\"text-align: right;\">-0.0701404</td><td style=\"text-align: right;\"> 0.0811984 </td><td style=\"text-align: right;\">-0.0183747</td><td style=\"text-align: right;\">-0.0773768</td><td style=\"text-align: right;\">-0.0464118</td><td style=\"text-align: right;\"> 0.0758169</td><td style=\"text-align: right;\">-0.0120015  </td><td style=\"text-align: right;\">0.101512 </td><td style=\"text-align: right;\">-0.0265924</td><td style=\"text-align: right;\">-0.00569368</td><td style=\"text-align: right;\">-0.119037  </td><td style=\"text-align: right;\">-0.061712 </td><td style=\"text-align: right;\"> 0.00695841 </td><td style=\"text-align: right;\"> 0.0711838</td><td style=\"text-align: right;\">-0.0810358  </td><td style=\"text-align: right;\">-0.080483 </td><td style=\"text-align: right;\">-0.00602151</td><td style=\"text-align: right;\">-0.0151043 </td><td style=\"text-align: right;\">-0.214798 </td><td style=\"text-align: right;\"> 0.188073 </td><td style=\"text-align: right;\">-0.049908   </td><td style=\"text-align: right;\"> 0.0672455 </td><td style=\"text-align: right;\">-0.0232842</td><td style=\"text-align: right;\">-0.216857 </td><td style=\"text-align: right;\">0.162059 </td><td style=\"text-align: right;\"> 0.0861185 </td><td style=\"text-align: right;\"> 0.0304362  </td><td style=\"text-align: right;\">-0.0986123 </td><td style=\"text-align: right;\"> 0.0868728 </td><td style=\"text-align: right;\"> 0.0347802</td><td style=\"text-align: right;\">-0.011445   </td><td style=\"text-align: right;\">-0.189832 </td><td style=\"text-align: right;\">0.0459568</td><td style=\"text-align: right;\"> 0.00169208</td><td style=\"text-align: right;\"> 0.0347999</td><td style=\"text-align: right;\">-0.118835  </td><td style=\"text-align: right;\">-0.0071293 </td><td style=\"text-align: right;\"> 0.201103  </td><td style=\"text-align: right;\"> 0.0999017</td><td style=\"text-align: right;\"> 0.0433043</td><td style=\"text-align: right;\">-0.0553131 </td><td style=\"text-align: right;\"> 0.0583689 </td><td style=\"text-align: right;\">0.284984 </td><td style=\"text-align: right;\">-0.0125126 </td><td style=\"text-align: right;\">-0.0329167</td><td style=\"text-align: right;\">-0.165511  </td><td style=\"text-align: right;\"> 0.0275919 </td><td style=\"text-align: right;\">-0.106101 </td><td style=\"text-align: right;\"> 0.0672348</td><td style=\"text-align: right;\"> 0.00376391</td><td style=\"text-align: right;\">-0.035072  </td><td style=\"text-align: right;\">-0.0626953</td><td style=\"text-align: right;\">-0.0152396</td><td style=\"text-align: right;\"> 0.0148236 </td><td style=\"text-align: right;\">-0.0311493 </td><td style=\"text-align: right;\">-0.119648 </td><td style=\"text-align: right;\">0.104999  </td><td style=\"text-align: right;\">-0.12311   </td><td style=\"text-align: right;\">0.18843   </td><td style=\"text-align: right;\"> 0.115969 </td><td style=\"text-align: right;\"> 0.0561582</td><td style=\"text-align: right;\">-0.084873   </td><td style=\"text-align: right;\">-0.121456  </td><td style=\"text-align: right;\">-0.0669129</td><td style=\"text-align: right;\"> 0.124051 </td><td style=\"text-align: right;\"> 0.0140443</td><td style=\"text-align: right;\">-0.059215 </td><td style=\"text-align: right;\"> 0.135367 </td><td style=\"text-align: right;\"> 0.0530504</td><td style=\"text-align: right;\"> 0.0822683 </td><td style=\"text-align: right;\">-0.0867747</td><td style=\"text-align: right;\">-0.00211917</td><td style=\"text-align: right;\"> 0.0264257 </td><td style=\"text-align: right;\"> 0.0175586</td><td style=\"text-align: right;\">-0.0167558 </td><td style=\"text-align: right;\">-0.0719407</td><td style=\"text-align: right;\"> 0.0620847 </td><td style=\"text-align: right;\"> 0.0464337 </td><td style=\"text-align: right;\">0.078521 </td><td style=\"text-align: right;\">0.0169472</td><td style=\"text-align: right;\">0.139801</td><td style=\"text-align: right;\">-0.0591891 </td><td style=\"text-align: right;\">-0.0649219 </td><td style=\"text-align: right;\">-0.0566241 </td><td style=\"text-align: right;\">0.182947 </td><td style=\"text-align: right;\">-0.0380743</td><td style=\"text-align: right;\">-0.0614765 </td><td style=\"text-align: right;\"> 0.00551296 </td><td style=\"text-align: right;\"> 0.162098 </td><td style=\"text-align: right;\"> 0.0146094</td><td style=\"text-align: right;\"> 0.0123741</td></tr>\n",
              "<tr><td style=\"text-align: right;\">-0.0121303</td><td style=\"text-align: right;\"> 0.0715496</td><td style=\"text-align: right;\">-0.148657  </td><td style=\"text-align: right;\">-0.0483579 </td><td style=\"text-align: right;\">-0.125889  </td><td style=\"text-align: right;\">-0.211522 </td><td style=\"text-align: right;\">-0.0400784</td><td style=\"text-align: right;\"> 0.0241381</td><td style=\"text-align: right;\">-0.0724646  </td><td style=\"text-align: right;\">-0.121377 </td><td style=\"text-align: right;\">-0.0476408 </td><td style=\"text-align: right;\"> 0.0541916</td><td style=\"text-align: right;\"> 0.0370132</td><td style=\"text-align: right;\">-0.0467518</td><td style=\"text-align: right;\"> 0.0208398</td><td style=\"text-align: right;\"> 0.000396439</td><td style=\"text-align: right;\">0.0881359</td><td style=\"text-align: right;\"> 0.1164   </td><td style=\"text-align: right;\"> 0.0280921 </td><td style=\"text-align: right;\">-0.0438392 </td><td style=\"text-align: right;\">-0.0518272</td><td style=\"text-align: right;\">-0.0532945  </td><td style=\"text-align: right;\"> 0.041016 </td><td style=\"text-align: right;\"> 0.00336947 </td><td style=\"text-align: right;\">-0.134482 </td><td style=\"text-align: right;\">-0.125205  </td><td style=\"text-align: right;\">-0.135642  </td><td style=\"text-align: right;\">-0.055517 </td><td style=\"text-align: right;\"> 0.0102885</td><td style=\"text-align: right;\">-0.00127493 </td><td style=\"text-align: right;\"> 0.112208  </td><td style=\"text-align: right;\"> 0.0877871</td><td style=\"text-align: right;\">-0.211701 </td><td style=\"text-align: right;\">0.176113 </td><td style=\"text-align: right;\"> 0.00933897</td><td style=\"text-align: right;\"> 0.0702944  </td><td style=\"text-align: right;\">-0.102127  </td><td style=\"text-align: right;\"> 0.0519632 </td><td style=\"text-align: right;\">-0.0487731</td><td style=\"text-align: right;\">-0.140834   </td><td style=\"text-align: right;\">-0.290142 </td><td style=\"text-align: right;\">0.0508243</td><td style=\"text-align: right;\">-0.0565894 </td><td style=\"text-align: right;\"> 0.120052 </td><td style=\"text-align: right;\">-0.00490817</td><td style=\"text-align: right;\"> 0.170791  </td><td style=\"text-align: right;\"> 0.274651  </td><td style=\"text-align: right;\">-0.11375  </td><td style=\"text-align: right;\">-0.103787 </td><td style=\"text-align: right;\">-0.00436879</td><td style=\"text-align: right;\"> 0.0609322 </td><td style=\"text-align: right;\">0.133775 </td><td style=\"text-align: right;\">-0.00364681</td><td style=\"text-align: right;\">-0.0243833</td><td style=\"text-align: right;\">-0.165821  </td><td style=\"text-align: right;\"> 0.0854756 </td><td style=\"text-align: right;\">-0.0772678</td><td style=\"text-align: right;\"> 0.0451881</td><td style=\"text-align: right;\">-0.0083775 </td><td style=\"text-align: right;\">-0.00961716</td><td style=\"text-align: right;\">-0.0875445</td><td style=\"text-align: right;\">-0.0279449</td><td style=\"text-align: right;\"> 0.0690855 </td><td style=\"text-align: right;\"> 0.0201051 </td><td style=\"text-align: right;\">-0.139299 </td><td style=\"text-align: right;\">0.149993  </td><td style=\"text-align: right;\"> 0.0396791 </td><td style=\"text-align: right;\">0.00865685</td><td style=\"text-align: right;\"> 0.147627 </td><td style=\"text-align: right;\"> 0.0873509</td><td style=\"text-align: right;\">-0.0676782  </td><td style=\"text-align: right;\"> 0.00525626</td><td style=\"text-align: right;\">-0.0821385</td><td style=\"text-align: right;\"> 0.0264186</td><td style=\"text-align: right;\">-0.124302 </td><td style=\"text-align: right;\">-0.0835362</td><td style=\"text-align: right;\"> 0.0677949</td><td style=\"text-align: right;\">-0.0580411</td><td style=\"text-align: right;\"> 0.0245154 </td><td style=\"text-align: right;\">-0.0194159</td><td style=\"text-align: right;\">-0.0946606 </td><td style=\"text-align: right;\">-0.0465931 </td><td style=\"text-align: right;\">-0.0555924</td><td style=\"text-align: right;\"> 0.00483387</td><td style=\"text-align: right;\"> 0.0151704</td><td style=\"text-align: right;\">-0.0263208 </td><td style=\"text-align: right;\"> 0.0784847 </td><td style=\"text-align: right;\">0.192729 </td><td style=\"text-align: right;\">0.102259 </td><td style=\"text-align: right;\">0.100319</td><td style=\"text-align: right;\">-0.0884916 </td><td style=\"text-align: right;\"> 0.00595638</td><td style=\"text-align: right;\">-0.0268561 </td><td style=\"text-align: right;\">0.0270517</td><td style=\"text-align: right;\"> 0.0573739</td><td style=\"text-align: right;\"> 0.104121  </td><td style=\"text-align: right;\"> 0.0305728  </td><td style=\"text-align: right;\"> 0.120421 </td><td style=\"text-align: right;\"> 0.0671868</td><td style=\"text-align: right;\"> 0.0852161</td></tr>\n",
              "<tr><td style=\"text-align: right;\"> 0.0423663</td><td style=\"text-align: right;\">-0.054278 </td><td style=\"text-align: right;\"> 0.011334  </td><td style=\"text-align: right;\"> 0.103314  </td><td style=\"text-align: right;\">-0.133465  </td><td style=\"text-align: right;\">-0.0964777</td><td style=\"text-align: right;\">-0.122465 </td><td style=\"text-align: right;\">-0.0645083</td><td style=\"text-align: right;\">-0.0538524  </td><td style=\"text-align: right;\">-0.115683 </td><td style=\"text-align: right;\">-0.0056722 </td><td style=\"text-align: right;\"> 0.0935795</td><td style=\"text-align: right;\"> 0.0178846</td><td style=\"text-align: right;\"> 0.106558 </td><td style=\"text-align: right;\">-0.0393015</td><td style=\"text-align: right;\">-0.00432922 </td><td style=\"text-align: right;\">0.0660326</td><td style=\"text-align: right;\">-0.0211374</td><td style=\"text-align: right;\"> 0.0510114 </td><td style=\"text-align: right;\">-0.237599  </td><td style=\"text-align: right;\">-0.155716 </td><td style=\"text-align: right;\">-0.000711579</td><td style=\"text-align: right;\"> 0.112888 </td><td style=\"text-align: right;\">-0.0641811  </td><td style=\"text-align: right;\">-0.162616 </td><td style=\"text-align: right;\">-0.179745  </td><td style=\"text-align: right;\"> 0.0767009 </td><td style=\"text-align: right;\">-0.0137526</td><td style=\"text-align: right;\"> 0.0818808</td><td style=\"text-align: right;\">-0.0506365  </td><td style=\"text-align: right;\"> 0.0274429 </td><td style=\"text-align: right;\"> 0.0691674</td><td style=\"text-align: right;\">-0.22985  </td><td style=\"text-align: right;\">0.0498593</td><td style=\"text-align: right;\"> 0.0472129 </td><td style=\"text-align: right;\">-0.0904063  </td><td style=\"text-align: right;\"> 0.00912473</td><td style=\"text-align: right;\">-0.101973  </td><td style=\"text-align: right;\">-0.0947424</td><td style=\"text-align: right;\">-0.121249   </td><td style=\"text-align: right;\">-0.319479 </td><td style=\"text-align: right;\">0.106696 </td><td style=\"text-align: right;\">-0.0708721 </td><td style=\"text-align: right;\"> 0.128146 </td><td style=\"text-align: right;\">-0.0847446 </td><td style=\"text-align: right;\"> 0.0786706 </td><td style=\"text-align: right;\">-0.0532304 </td><td style=\"text-align: right;\"> 0.0625502</td><td style=\"text-align: right;\">-0.0171913</td><td style=\"text-align: right;\"> 0.0223831 </td><td style=\"text-align: right;\">-0.00874606</td><td style=\"text-align: right;\">0.191131 </td><td style=\"text-align: right;\">-0.100159  </td><td style=\"text-align: right;\">-0.04063  </td><td style=\"text-align: right;\">-0.0394694 </td><td style=\"text-align: right;\"> 0.0136128 </td><td style=\"text-align: right;\">-0.162696 </td><td style=\"text-align: right;\">-0.0680124</td><td style=\"text-align: right;\"> 0.0822946 </td><td style=\"text-align: right;\">-0.176956  </td><td style=\"text-align: right;\">-0.128832 </td><td style=\"text-align: right;\">-0.0298409</td><td style=\"text-align: right;\">-0.00240394</td><td style=\"text-align: right;\"> 0.0369105 </td><td style=\"text-align: right;\">-0.0332681</td><td style=\"text-align: right;\">0.0718978 </td><td style=\"text-align: right;\">-0.063275  </td><td style=\"text-align: right;\">0.070579  </td><td style=\"text-align: right;\"> 0.124829 </td><td style=\"text-align: right;\">-0.0587965</td><td style=\"text-align: right;\"> 0.000749187</td><td style=\"text-align: right;\">-0.128934  </td><td style=\"text-align: right;\">-0.0158834</td><td style=\"text-align: right;\">-0.0936429</td><td style=\"text-align: right;\">-0.0672141</td><td style=\"text-align: right;\">-0.12182  </td><td style=\"text-align: right;\"> 0.0937999</td><td style=\"text-align: right;\"> 0.0264917</td><td style=\"text-align: right;\"> 0.14068   </td><td style=\"text-align: right;\">-0.085169 </td><td style=\"text-align: right;\">-0.0406362 </td><td style=\"text-align: right;\">-0.00830762</td><td style=\"text-align: right;\"> 0.0772125</td><td style=\"text-align: right;\"> 0.0256574 </td><td style=\"text-align: right;\">-0.118631 </td><td style=\"text-align: right;\">-0.0310958 </td><td style=\"text-align: right;\"> 0.00988365</td><td style=\"text-align: right;\">0.0528161</td><td style=\"text-align: right;\">0.143076 </td><td style=\"text-align: right;\">0.118325</td><td style=\"text-align: right;\">-0.179785  </td><td style=\"text-align: right;\"> 0.0726316 </td><td style=\"text-align: right;\">-0.119318  </td><td style=\"text-align: right;\">0.152957 </td><td style=\"text-align: right;\"> 0.0242713</td><td style=\"text-align: right;\"> 0.0409947 </td><td style=\"text-align: right;\"> 0.099212   </td><td style=\"text-align: right;\">-0.0538118</td><td style=\"text-align: right;\"> 0.0817105</td><td style=\"text-align: right;\"> 0.0153966</td></tr>\n",
              "<tr><td style=\"text-align: right;\">-0.0491227</td><td style=\"text-align: right;\">-0.0611696</td><td style=\"text-align: right;\">-0.0719773 </td><td style=\"text-align: right;\">-0.0600334 </td><td style=\"text-align: right;\">-0.145317  </td><td style=\"text-align: right;\">-0.398135 </td><td style=\"text-align: right;\"> 0.0903167</td><td style=\"text-align: right;\"> 0.187697 </td><td style=\"text-align: right;\">-0.120398   </td><td style=\"text-align: right;\">-0.278973 </td><td style=\"text-align: right;\"> 0.0650825 </td><td style=\"text-align: right;\"> 0.183099 </td><td style=\"text-align: right;\"> 0.0277089</td><td style=\"text-align: right;\">-0.0668446</td><td style=\"text-align: right;\">-0.156244 </td><td style=\"text-align: right;\">-0.0230193  </td><td style=\"text-align: right;\">0.208217 </td><td style=\"text-align: right;\">-0.0547922</td><td style=\"text-align: right;\"> 0.185532  </td><td style=\"text-align: right;\">-0.282716  </td><td style=\"text-align: right;\">-0.0497108</td><td style=\"text-align: right;\">-0.188823   </td><td style=\"text-align: right;\"> 0.0384947</td><td style=\"text-align: right;\">-0.0018506  </td><td style=\"text-align: right;\">-0.254016 </td><td style=\"text-align: right;\"> 0.0251169 </td><td style=\"text-align: right;\">-0.0699478 </td><td style=\"text-align: right;\">-0.0798458</td><td style=\"text-align: right;\"> 0.140281 </td><td style=\"text-align: right;\">-0.000557691</td><td style=\"text-align: right;\">-0.217277  </td><td style=\"text-align: right;\"> 0.0386261</td><td style=\"text-align: right;\">-0.121641 </td><td style=\"text-align: right;\">0.188629 </td><td style=\"text-align: right;\"> 0.153224  </td><td style=\"text-align: right;\"> 0.32332    </td><td style=\"text-align: right;\">-0.00128651</td><td style=\"text-align: right;\">-0.0322262 </td><td style=\"text-align: right;\">-0.102995 </td><td style=\"text-align: right;\">-0.0498885  </td><td style=\"text-align: right;\">-0.162556 </td><td style=\"text-align: right;\">0.065664 </td><td style=\"text-align: right;\"> 0.207959  </td><td style=\"text-align: right;\">-0.139206 </td><td style=\"text-align: right;\">-0.17475   </td><td style=\"text-align: right;\">-0.144038  </td><td style=\"text-align: right;\"> 0.0171192 </td><td style=\"text-align: right;\"> 0.0176642</td><td style=\"text-align: right;\">-0.166963 </td><td style=\"text-align: right;\"> 0.0250587 </td><td style=\"text-align: right;\">-0.0390203 </td><td style=\"text-align: right;\">0.0488041</td><td style=\"text-align: right;\"> 0.0270663 </td><td style=\"text-align: right;\">-0.0763264</td><td style=\"text-align: right;\">-0.28721   </td><td style=\"text-align: right;\"> 0.0598345 </td><td style=\"text-align: right;\">-0.220864 </td><td style=\"text-align: right;\"> 0.126201 </td><td style=\"text-align: right;\"> 0.0957117 </td><td style=\"text-align: right;\">-0.177899  </td><td style=\"text-align: right;\">-0.171838 </td><td style=\"text-align: right;\">-0.0580908</td><td style=\"text-align: right;\">-0.122499  </td><td style=\"text-align: right;\">-0.00604431</td><td style=\"text-align: right;\"> 0.03206  </td><td style=\"text-align: right;\">0.081382  </td><td style=\"text-align: right;\"> 0.166391  </td><td style=\"text-align: right;\">0.0469852 </td><td style=\"text-align: right;\"> 0.0505723</td><td style=\"text-align: right;\">-0.075094 </td><td style=\"text-align: right;\">-0.0994704  </td><td style=\"text-align: right;\">-0.0258683 </td><td style=\"text-align: right;\"> 0.0409591</td><td style=\"text-align: right;\">-0.0571031</td><td style=\"text-align: right;\">-0.0940992</td><td style=\"text-align: right;\">-0.128698 </td><td style=\"text-align: right;\"> 0.130045 </td><td style=\"text-align: right;\"> 0.105125 </td><td style=\"text-align: right;\"> 0.0149641 </td><td style=\"text-align: right;\">-0.040414 </td><td style=\"text-align: right;\"> 0.0639719 </td><td style=\"text-align: right;\"> 0.110837  </td><td style=\"text-align: right;\"> 0.0443442</td><td style=\"text-align: right;\"> 0.111337  </td><td style=\"text-align: right;\">-0.208661 </td><td style=\"text-align: right;\"> 0.0165503 </td><td style=\"text-align: right;\">-0.104984  </td><td style=\"text-align: right;\">0.0947067</td><td style=\"text-align: right;\">0.117578 </td><td style=\"text-align: right;\">0.361709</td><td style=\"text-align: right;\">-0.0888585 </td><td style=\"text-align: right;\">-0.212566  </td><td style=\"text-align: right;\">-0.0691898 </td><td style=\"text-align: right;\">0.227107 </td><td style=\"text-align: right;\">-0.168665 </td><td style=\"text-align: right;\">-0.0615667 </td><td style=\"text-align: right;\">-0.217451   </td><td style=\"text-align: right;\"> 0.221773 </td><td style=\"text-align: right;\"> 0.208567 </td><td style=\"text-align: right;\">-0.0196377</td></tr>\n",
              "<tr><td style=\"text-align: right;\"> 0.0404785</td><td style=\"text-align: right;\">-0.105673 </td><td style=\"text-align: right;\">-0.0873797 </td><td style=\"text-align: right;\"> 0.114536  </td><td style=\"text-align: right;\"> 0.0532333 </td><td style=\"text-align: right;\">-0.117739 </td><td style=\"text-align: right;\">-0.0365977</td><td style=\"text-align: right;\">-0.0641734</td><td style=\"text-align: right;\"> 0.0913893  </td><td style=\"text-align: right;\">-0.0713536</td><td style=\"text-align: right;\"> 0.0893494 </td><td style=\"text-align: right;\"> 0.125899 </td><td style=\"text-align: right;\">-0.126858 </td><td style=\"text-align: right;\">-0.219656 </td><td style=\"text-align: right;\"> 0.0358325</td><td style=\"text-align: right;\"> 0.0799971  </td><td style=\"text-align: right;\">0.0865112</td><td style=\"text-align: right;\"> 0.0838685</td><td style=\"text-align: right;\"> 0.0749245 </td><td style=\"text-align: right;\"> 0.035566  </td><td style=\"text-align: right;\">-0.17708  </td><td style=\"text-align: right;\">-0.114833   </td><td style=\"text-align: right;\">-0.037884 </td><td style=\"text-align: right;\">-0.0267328  </td><td style=\"text-align: right;\">-0.168471 </td><td style=\"text-align: right;\"> 0.00969605</td><td style=\"text-align: right;\">-0.0483101 </td><td style=\"text-align: right;\">-0.0335336</td><td style=\"text-align: right;\"> 0.0672033</td><td style=\"text-align: right;\">-0.0781273  </td><td style=\"text-align: right;\"> 0.0432499 </td><td style=\"text-align: right;\"> 0.199728 </td><td style=\"text-align: right;\">-0.0519071</td><td style=\"text-align: right;\">0.0619269</td><td style=\"text-align: right;\">-0.0929011 </td><td style=\"text-align: right;\">-0.0921135  </td><td style=\"text-align: right;\"> 0.0331241 </td><td style=\"text-align: right;\"> 0.00381178</td><td style=\"text-align: right;\"> 0.0168316</td><td style=\"text-align: right;\">-0.059671   </td><td style=\"text-align: right;\">-0.0987348</td><td style=\"text-align: right;\">0.0267842</td><td style=\"text-align: right;\"> 0.10817   </td><td style=\"text-align: right;\"> 0.144655 </td><td style=\"text-align: right;\">-0.0783903 </td><td style=\"text-align: right;\">-0.0911934 </td><td style=\"text-align: right;\"> 0.0151315 </td><td style=\"text-align: right;\"> 0.156877 </td><td style=\"text-align: right;\"> 0.0057038</td><td style=\"text-align: right;\">-0.0495813 </td><td style=\"text-align: right;\">-0.075369  </td><td style=\"text-align: right;\">0.0542528</td><td style=\"text-align: right;\"> 0.0462196 </td><td style=\"text-align: right;\">-0.0226801</td><td style=\"text-align: right;\">-0.0971162 </td><td style=\"text-align: right;\"> 0.116153  </td><td style=\"text-align: right;\">-0.177223 </td><td style=\"text-align: right;\">-0.242581 </td><td style=\"text-align: right;\">-0.0826911 </td><td style=\"text-align: right;\"> 0.0906835 </td><td style=\"text-align: right;\">-0.162028 </td><td style=\"text-align: right;\">-0.0366819</td><td style=\"text-align: right;\"> 0.0784005 </td><td style=\"text-align: right;\">-0.164278  </td><td style=\"text-align: right;\">-0.157817 </td><td style=\"text-align: right;\">0.149023  </td><td style=\"text-align: right;\">-0.0841819 </td><td style=\"text-align: right;\">0.0860594 </td><td style=\"text-align: right;\"> 0.158194 </td><td style=\"text-align: right;\">-0.112124 </td><td style=\"text-align: right;\">-0.0692033  </td><td style=\"text-align: right;\">-0.0583284 </td><td style=\"text-align: right;\"> 0.0623119</td><td style=\"text-align: right;\"> 0.0923872</td><td style=\"text-align: right;\"> 0.0123266</td><td style=\"text-align: right;\">-0.179056 </td><td style=\"text-align: right;\">-0.0462464</td><td style=\"text-align: right;\"> 0.0301714</td><td style=\"text-align: right;\"> 0.155627  </td><td style=\"text-align: right;\">-0.107884 </td><td style=\"text-align: right;\"> 0.0392472 </td><td style=\"text-align: right;\">-0.0684219 </td><td style=\"text-align: right;\"> 0.0759198</td><td style=\"text-align: right;\"> 0.0755761 </td><td style=\"text-align: right;\">-0.125498 </td><td style=\"text-align: right;\"> 0.20996   </td><td style=\"text-align: right;\"> 0.0599176 </td><td style=\"text-align: right;\">0.22492  </td><td style=\"text-align: right;\">0.0793702</td><td style=\"text-align: right;\">0.172898</td><td style=\"text-align: right;\">-0.15864   </td><td style=\"text-align: right;\"> 0.129005  </td><td style=\"text-align: right;\"> 0.04489   </td><td style=\"text-align: right;\">0.0891714</td><td style=\"text-align: right;\"> 0.0692405</td><td style=\"text-align: right;\"> 0.0943616 </td><td style=\"text-align: right;\">-0.0224614  </td><td style=\"text-align: right;\"> 0.15865  </td><td style=\"text-align: right;\"> 0.0547067</td><td style=\"text-align: right;\">-0.0383898</td></tr>\n",
              "<tr><td style=\"text-align: right;\"> 0.0792823</td><td style=\"text-align: right;\"> 0.0374609</td><td style=\"text-align: right;\">-0.0379622 </td><td style=\"text-align: right;\"> 0.140057  </td><td style=\"text-align: right;\">-0.0433232 </td><td style=\"text-align: right;\">-0.152865 </td><td style=\"text-align: right;\">-0.0830813</td><td style=\"text-align: right;\">-0.072467 </td><td style=\"text-align: right;\">-0.0547553  </td><td style=\"text-align: right;\">-0.130684 </td><td style=\"text-align: right;\"> 0.00378177</td><td style=\"text-align: right;\"> 0.0483929</td><td style=\"text-align: right;\">-0.0614044</td><td style=\"text-align: right;\">-0.0370385</td><td style=\"text-align: right;\">-0.0573345</td><td style=\"text-align: right;\"> 0.0673518  </td><td style=\"text-align: right;\">0.0287304</td><td style=\"text-align: right;\"> 0.0574252</td><td style=\"text-align: right;\"> 0.054047  </td><td style=\"text-align: right;\">-0.0369587 </td><td style=\"text-align: right;\"> 0.0223035</td><td style=\"text-align: right;\">-0.000580071</td><td style=\"text-align: right;\">-0.0229115</td><td style=\"text-align: right;\">-0.0624807  </td><td style=\"text-align: right;\">-0.208324 </td><td style=\"text-align: right;\">-0.00857399</td><td style=\"text-align: right;\"> 0.0177557 </td><td style=\"text-align: right;\">-0.168832 </td><td style=\"text-align: right;\"> 0.13777  </td><td style=\"text-align: right;\">-0.0903634  </td><td style=\"text-align: right;\"> 0.0661679 </td><td style=\"text-align: right;\"> 0.070114 </td><td style=\"text-align: right;\">-0.125474 </td><td style=\"text-align: right;\">0.0706727</td><td style=\"text-align: right;\">-0.00444482</td><td style=\"text-align: right;\">-0.0363223  </td><td style=\"text-align: right;\">-0.0273422 </td><td style=\"text-align: right;\">-0.0353705 </td><td style=\"text-align: right;\">-0.0341677</td><td style=\"text-align: right;\"> 0.00176184 </td><td style=\"text-align: right;\">-0.164207 </td><td style=\"text-align: right;\">0.0516309</td><td style=\"text-align: right;\"> 0.0165597 </td><td style=\"text-align: right;\"> 0.196561 </td><td style=\"text-align: right;\">-0.0245224 </td><td style=\"text-align: right;\"> 0.00208263</td><td style=\"text-align: right;\"> 0.0562629 </td><td style=\"text-align: right;\"> 0.0269984</td><td style=\"text-align: right;\"> 0.0364472</td><td style=\"text-align: right;\"> 0.00609355</td><td style=\"text-align: right;\"> 0.0402067 </td><td style=\"text-align: right;\">0.15786  </td><td style=\"text-align: right;\">-0.0256676 </td><td style=\"text-align: right;\">-0.0959425</td><td style=\"text-align: right;\">-0.158871  </td><td style=\"text-align: right;\">-0.0231121 </td><td style=\"text-align: right;\">-0.0980732</td><td style=\"text-align: right;\">-0.1345   </td><td style=\"text-align: right;\"> 0.0190226 </td><td style=\"text-align: right;\">-0.0484292 </td><td style=\"text-align: right;\">-0.101234 </td><td style=\"text-align: right;\"> 0.0172089</td><td style=\"text-align: right;\">-0.0142421 </td><td style=\"text-align: right;\">-0.0456244 </td><td style=\"text-align: right;\">-0.0240912</td><td style=\"text-align: right;\">0.199507  </td><td style=\"text-align: right;\"> 0.011115  </td><td style=\"text-align: right;\">0.0602313 </td><td style=\"text-align: right;\"> 0.0663404</td><td style=\"text-align: right;\">-0.0745525</td><td style=\"text-align: right;\">-0.085607   </td><td style=\"text-align: right;\">-0.109773  </td><td style=\"text-align: right;\"> 0.0630668</td><td style=\"text-align: right;\">-0.0120192</td><td style=\"text-align: right;\">-0.0241497</td><td style=\"text-align: right;\">-0.179615 </td><td style=\"text-align: right;\"> 0.0214154</td><td style=\"text-align: right;\"> 0.0295706</td><td style=\"text-align: right;\"> 0.0731836 </td><td style=\"text-align: right;\">-0.107473 </td><td style=\"text-align: right;\">-0.028425  </td><td style=\"text-align: right;\"> 0.0522141 </td><td style=\"text-align: right;\"> 0.0325692</td><td style=\"text-align: right;\"> 0.0801749 </td><td style=\"text-align: right;\">-0.0925094</td><td style=\"text-align: right;\">-0.0514968 </td><td style=\"text-align: right;\"> 0.0733934 </td><td style=\"text-align: right;\">0.108869 </td><td style=\"text-align: right;\">0.0827016</td><td style=\"text-align: right;\">0.195448</td><td style=\"text-align: right;\">-0.163084  </td><td style=\"text-align: right;\"> 0.109586  </td><td style=\"text-align: right;\">-0.0412416 </td><td style=\"text-align: right;\">0.0889263</td><td style=\"text-align: right;\">-0.0856046</td><td style=\"text-align: right;\"> 0.072247  </td><td style=\"text-align: right;\"> 0.0138904  </td><td style=\"text-align: right;\"> 0.0669225</td><td style=\"text-align: right;\"> 0.0242974</td><td style=\"text-align: right;\">-0.0428708</td></tr>\n",
              "<tr><td style=\"text-align: right;\"> 0.173998 </td><td style=\"text-align: right;\">-0.0918257</td><td style=\"text-align: right;\">-0.0139087 </td><td style=\"text-align: right;\"> 0.037318  </td><td style=\"text-align: right;\"> 0.0519456 </td><td style=\"text-align: right;\">-0.0915552</td><td style=\"text-align: right;\">-0.0396943</td><td style=\"text-align: right;\">-0.0339918</td><td style=\"text-align: right;\"> 0.000701902</td><td style=\"text-align: right;\">-0.217738 </td><td style=\"text-align: right;\"> 0.0514149 </td><td style=\"text-align: right;\"> 0.0356128</td><td style=\"text-align: right;\">-0.0260643</td><td style=\"text-align: right;\">-0.0372952</td><td style=\"text-align: right;\">-0.0614444</td><td style=\"text-align: right;\"> 0.0591335  </td><td style=\"text-align: right;\">0.146367 </td><td style=\"text-align: right;\"> 0.0464898</td><td style=\"text-align: right;\"> 0.0555809 </td><td style=\"text-align: right;\">-0.00515322</td><td style=\"text-align: right;\"> 0.0558933</td><td style=\"text-align: right;\"> 0.0358972  </td><td style=\"text-align: right;\"> 0.0659067</td><td style=\"text-align: right;\"> 0.0565198  </td><td style=\"text-align: right;\">-0.125401 </td><td style=\"text-align: right;\">-0.0601552 </td><td style=\"text-align: right;\"> 0.00477676</td><td style=\"text-align: right;\">-0.0965137</td><td style=\"text-align: right;\">-0.0699908</td><td style=\"text-align: right;\">-0.0787929  </td><td style=\"text-align: right;\"> 0.0795256 </td><td style=\"text-align: right;\"> 0.0053182</td><td style=\"text-align: right;\">-0.0959243</td><td style=\"text-align: right;\">0.198369 </td><td style=\"text-align: right;\">-0.0333899 </td><td style=\"text-align: right;\">-0.0525347  </td><td style=\"text-align: right;\">-0.130198  </td><td style=\"text-align: right;\"> 0.0617061 </td><td style=\"text-align: right;\"> 0.0380484</td><td style=\"text-align: right;\">-0.0391917  </td><td style=\"text-align: right;\">-0.157317 </td><td style=\"text-align: right;\">0.173186 </td><td style=\"text-align: right;\"> 0.0389669 </td><td style=\"text-align: right;\"> 0.12906  </td><td style=\"text-align: right;\">-0.0149364 </td><td style=\"text-align: right;\"> 0.067514  </td><td style=\"text-align: right;\"> 0.119946  </td><td style=\"text-align: right;\"> 0.0873927</td><td style=\"text-align: right;\"> 0.102902 </td><td style=\"text-align: right;\">-0.0378934 </td><td style=\"text-align: right;\"> 0.0715899 </td><td style=\"text-align: right;\">0.234439 </td><td style=\"text-align: right;\">-0.0553049 </td><td style=\"text-align: right;\">-0.0825539</td><td style=\"text-align: right;\">-0.11086   </td><td style=\"text-align: right;\">-0.0399448 </td><td style=\"text-align: right;\">-0.124556 </td><td style=\"text-align: right;\">-0.0224878</td><td style=\"text-align: right;\">-0.00951437</td><td style=\"text-align: right;\"> 0.0676021 </td><td style=\"text-align: right;\"> 0.0254757</td><td style=\"text-align: right;\"> 0.104809 </td><td style=\"text-align: right;\">-0.062549  </td><td style=\"text-align: right;\">-0.0121615 </td><td style=\"text-align: right;\">-0.0803741</td><td style=\"text-align: right;\">0.00571024</td><td style=\"text-align: right;\"> 0.0297625 </td><td style=\"text-align: right;\">0.153296  </td><td style=\"text-align: right;\">-0.0118283</td><td style=\"text-align: right;\"> 0.0286334</td><td style=\"text-align: right;\">-0.0225284  </td><td style=\"text-align: right;\">-0.110407  </td><td style=\"text-align: right;\">-0.0134932</td><td style=\"text-align: right;\"> 0.0972884</td><td style=\"text-align: right;\">-0.0206708</td><td style=\"text-align: right;\">-0.11088  </td><td style=\"text-align: right;\">-0.0399831</td><td style=\"text-align: right;\">-0.0335357</td><td style=\"text-align: right;\"> 0.0172687 </td><td style=\"text-align: right;\">-0.160248 </td><td style=\"text-align: right;\"> 0.0129533 </td><td style=\"text-align: right;\"> 0.0216184 </td><td style=\"text-align: right;\">-0.0540825</td><td style=\"text-align: right;\">-0.0486556 </td><td style=\"text-align: right;\">-0.0457283</td><td style=\"text-align: right;\">-0.0175004 </td><td style=\"text-align: right;\"> 0.103172  </td><td style=\"text-align: right;\">0.0428927</td><td style=\"text-align: right;\">0.0885283</td><td style=\"text-align: right;\">0.129393</td><td style=\"text-align: right;\">-0.0490084 </td><td style=\"text-align: right;\"> 0.089469  </td><td style=\"text-align: right;\"> 0.00685699</td><td style=\"text-align: right;\">0.149419 </td><td style=\"text-align: right;\"> 0.0695709</td><td style=\"text-align: right;\"> 0.038832  </td><td style=\"text-align: right;\">-0.000229007</td><td style=\"text-align: right;\"> 0.21581  </td><td style=\"text-align: right;\"> 0.0901176</td><td style=\"text-align: right;\"> 0.070365 </td></tr>\n",
              "<tr><td style=\"text-align: right;\"> 0.0667016</td><td style=\"text-align: right;\">-0.098074 </td><td style=\"text-align: right;\">-0.0948071 </td><td style=\"text-align: right;\"> 0.0141542 </td><td style=\"text-align: right;\">-0.0479719 </td><td style=\"text-align: right;\">-0.100912 </td><td style=\"text-align: right;\"> 0.0190839</td><td style=\"text-align: right;\">-0.0233372</td><td style=\"text-align: right;\">-0.0786977  </td><td style=\"text-align: right;\">-0.0374164</td><td style=\"text-align: right;\">-0.0324526 </td><td style=\"text-align: right;\"> 0.0585632</td><td style=\"text-align: right;\"> 0.017377 </td><td style=\"text-align: right;\"> 0.0092544</td><td style=\"text-align: right;\">-0.0639864</td><td style=\"text-align: right;\">-0.0219904  </td><td style=\"text-align: right;\">0.159317 </td><td style=\"text-align: right;\">-0.0389992</td><td style=\"text-align: right;\"> 0.0421185 </td><td style=\"text-align: right;\">-0.159402  </td><td style=\"text-align: right;\">-0.0792304</td><td style=\"text-align: right;\">-0.0319938  </td><td style=\"text-align: right;\"> 0.202408 </td><td style=\"text-align: right;\">-0.0335596  </td><td style=\"text-align: right;\">-0.144134 </td><td style=\"text-align: right;\">-0.0855708 </td><td style=\"text-align: right;\">-0.011833  </td><td style=\"text-align: right;\">-0.104361 </td><td style=\"text-align: right;\"> 0.0104221</td><td style=\"text-align: right;\">-0.0692738  </td><td style=\"text-align: right;\"> 0.025582  </td><td style=\"text-align: right;\"> 0.0554005</td><td style=\"text-align: right;\">-0.254313 </td><td style=\"text-align: right;\">0.139785 </td><td style=\"text-align: right;\"> 0.0323903 </td><td style=\"text-align: right;\"> 0.000258722</td><td style=\"text-align: right;\">-0.127172  </td><td style=\"text-align: right;\">-0.0323016 </td><td style=\"text-align: right;\">-0.0511341</td><td style=\"text-align: right;\">-0.000406661</td><td style=\"text-align: right;\">-0.0873921</td><td style=\"text-align: right;\">0.0501816</td><td style=\"text-align: right;\"> 0.0161352 </td><td style=\"text-align: right;\"> 0.134492 </td><td style=\"text-align: right;\">-0.0737796 </td><td style=\"text-align: right;\">-0.00347357</td><td style=\"text-align: right;\"> 0.0342663 </td><td style=\"text-align: right;\"> 0.0229469</td><td style=\"text-align: right;\"> 0.0315317</td><td style=\"text-align: right;\">-0.0692886 </td><td style=\"text-align: right;\"> 0.0775228 </td><td style=\"text-align: right;\">0.109521 </td><td style=\"text-align: right;\">-0.0954701 </td><td style=\"text-align: right;\">-0.015513 </td><td style=\"text-align: right;\">-0.135718  </td><td style=\"text-align: right;\">-0.00425632</td><td style=\"text-align: right;\">-0.0932522</td><td style=\"text-align: right;\">-0.0697326</td><td style=\"text-align: right;\"> 0.020183  </td><td style=\"text-align: right;\">-0.0457519 </td><td style=\"text-align: right;\">-0.0488975</td><td style=\"text-align: right;\"> 0.0480625</td><td style=\"text-align: right;\">-0.082983  </td><td style=\"text-align: right;\">-0.0325246 </td><td style=\"text-align: right;\">-0.0265963</td><td style=\"text-align: right;\">0.14172   </td><td style=\"text-align: right;\">-0.0843099 </td><td style=\"text-align: right;\">0.174697  </td><td style=\"text-align: right;\"> 0.134528 </td><td style=\"text-align: right;\">-0.0759799</td><td style=\"text-align: right;\"> 0.0286164  </td><td style=\"text-align: right;\">-0.096097  </td><td style=\"text-align: right;\"> 0.0315314</td><td style=\"text-align: right;\"> 0.0754742</td><td style=\"text-align: right;\">-0.103902 </td><td style=\"text-align: right;\">-0.0411978</td><td style=\"text-align: right;\"> 0.0456535</td><td style=\"text-align: right;\"> 0.0397752</td><td style=\"text-align: right;\"> 0.0561249 </td><td style=\"text-align: right;\">-0.159912 </td><td style=\"text-align: right;\">-0.0695998 </td><td style=\"text-align: right;\">-0.0884256 </td><td style=\"text-align: right;\"> 0.0362341</td><td style=\"text-align: right;\"> 0.033979  </td><td style=\"text-align: right;\">-0.0586785</td><td style=\"text-align: right;\">-0.0284779 </td><td style=\"text-align: right;\"> 0.0379341 </td><td style=\"text-align: right;\">0.0867026</td><td style=\"text-align: right;\">0.0589007</td><td style=\"text-align: right;\">0.125286</td><td style=\"text-align: right;\">-0.108197  </td><td style=\"text-align: right;\"> 0.0133205 </td><td style=\"text-align: right;\">-0.132611  </td><td style=\"text-align: right;\">0.160613 </td><td style=\"text-align: right;\">-0.0326802</td><td style=\"text-align: right;\"> 0.0857218 </td><td style=\"text-align: right;\"> 0.0151015  </td><td style=\"text-align: right;\"> 0.192774 </td><td style=\"text-align: right;\"> 0.0968877</td><td style=\"text-align: right;\"> 0.0916232</td></tr>\n",
              "<tr><td style=\"text-align: right;\"> 0.133157 </td><td style=\"text-align: right;\">-0.0761313</td><td style=\"text-align: right;\">-0.0432931 </td><td style=\"text-align: right;\"> 0.0834566 </td><td style=\"text-align: right;\"> 0.00133191</td><td style=\"text-align: right;\">-0.137419 </td><td style=\"text-align: right;\"> 0.020986 </td><td style=\"text-align: right;\"> 0.0250182</td><td style=\"text-align: right;\">-0.00420858 </td><td style=\"text-align: right;\">-0.158738 </td><td style=\"text-align: right;\"> 0.0104959 </td><td style=\"text-align: right;\">-0.0344838</td><td style=\"text-align: right;\"> 0.0354882</td><td style=\"text-align: right;\">-0.010179 </td><td style=\"text-align: right;\">-0.0964307</td><td style=\"text-align: right;\"> 0.0554823  </td><td style=\"text-align: right;\">0.160413 </td><td style=\"text-align: right;\"> 0.0493226</td><td style=\"text-align: right;\"> 0.0255016 </td><td style=\"text-align: right;\">-0.0348198 </td><td style=\"text-align: right;\">-0.0125833</td><td style=\"text-align: right;\"> 0.0609667  </td><td style=\"text-align: right;\"> 0.117118 </td><td style=\"text-align: right;\"> 0.000875449</td><td style=\"text-align: right;\">-0.0362402</td><td style=\"text-align: right;\">-0.141227  </td><td style=\"text-align: right;\"> 0.0247451 </td><td style=\"text-align: right;\">-0.120928 </td><td style=\"text-align: right;\">-0.0402535</td><td style=\"text-align: right;\">-0.0641233  </td><td style=\"text-align: right;\">-0.00410329</td><td style=\"text-align: right;\"> 0.0540179</td><td style=\"text-align: right;\">-0.158586 </td><td style=\"text-align: right;\">0.224858 </td><td style=\"text-align: right;\">-0.0855779 </td><td style=\"text-align: right;\">-0.000199505</td><td style=\"text-align: right;\">-0.125538  </td><td style=\"text-align: right;\"> 0.0580917 </td><td style=\"text-align: right;\"> 0.042006 </td><td style=\"text-align: right;\">-0.0621866  </td><td style=\"text-align: right;\">-0.193139 </td><td style=\"text-align: right;\">0.081771 </td><td style=\"text-align: right;\">-0.0695952 </td><td style=\"text-align: right;\"> 0.121571 </td><td style=\"text-align: right;\">-0.0492399 </td><td style=\"text-align: right;\"> 0.0917174 </td><td style=\"text-align: right;\"> 0.00141229</td><td style=\"text-align: right;\">-0.0337914</td><td style=\"text-align: right;\"> 0.0798092</td><td style=\"text-align: right;\">-0.0906016 </td><td style=\"text-align: right;\"> 0.037657  </td><td style=\"text-align: right;\">0.106513 </td><td style=\"text-align: right;\"> 0.0065371 </td><td style=\"text-align: right;\">-0.129605 </td><td style=\"text-align: right;\"> 0.00909598</td><td style=\"text-align: right;\"> 0.0333679 </td><td style=\"text-align: right;\">-0.128687 </td><td style=\"text-align: right;\">-0.0240223</td><td style=\"text-align: right;\">-0.0102502 </td><td style=\"text-align: right;\">-0.00107341</td><td style=\"text-align: right;\">-0.117196 </td><td style=\"text-align: right;\"> 0.106142 </td><td style=\"text-align: right;\">-0.0364253 </td><td style=\"text-align: right;\"> 0.0514675 </td><td style=\"text-align: right;\">-0.0551615</td><td style=\"text-align: right;\">0.161496  </td><td style=\"text-align: right;\">-0.0378876 </td><td style=\"text-align: right;\">0.122774  </td><td style=\"text-align: right;\"> 0.0815113</td><td style=\"text-align: right;\"> 0.0486859</td><td style=\"text-align: right;\">-0.0629252  </td><td style=\"text-align: right;\">-0.0703397 </td><td style=\"text-align: right;\"> 0.0285704</td><td style=\"text-align: right;\">-0.0578613</td><td style=\"text-align: right;\">-0.0468209</td><td style=\"text-align: right;\">-0.0832891</td><td style=\"text-align: right;\"> 0.0493123</td><td style=\"text-align: right;\"> 0.0832149</td><td style=\"text-align: right;\">-0.00528286</td><td style=\"text-align: right;\">-0.125023 </td><td style=\"text-align: right;\">-0.0171368 </td><td style=\"text-align: right;\"> 0.0405259 </td><td style=\"text-align: right;\"> 0.024251 </td><td style=\"text-align: right;\"> 0.0037854 </td><td style=\"text-align: right;\">-0.115384 </td><td style=\"text-align: right;\">-0.0774145 </td><td style=\"text-align: right;\"> 0.0874595 </td><td style=\"text-align: right;\">0.101021 </td><td style=\"text-align: right;\">0.134337 </td><td style=\"text-align: right;\">0.139858</td><td style=\"text-align: right;\">-0.0232559 </td><td style=\"text-align: right;\"> 0.0291763 </td><td style=\"text-align: right;\">-0.060074  </td><td style=\"text-align: right;\">0.10256  </td><td style=\"text-align: right;\"> 0.0270563</td><td style=\"text-align: right;\"> 0.0822019 </td><td style=\"text-align: right;\">-0.063699   </td><td style=\"text-align: right;\"> 0.11856  </td><td style=\"text-align: right;\"> 0.13075  </td><td style=\"text-align: right;\"> 0.0682153</td></tr>\n",
              "<tr><td style=\"text-align: right;\"> 0.100849 </td><td style=\"text-align: right;\"> 0.0521152</td><td style=\"text-align: right;\">-0.00656872</td><td style=\"text-align: right;\"> 0.0754594 </td><td style=\"text-align: right;\"> 0.0401153 </td><td style=\"text-align: right;\">-0.147363 </td><td style=\"text-align: right;\"> 0.0244113</td><td style=\"text-align: right;\"> 0.0295686</td><td style=\"text-align: right;\"> 0.0172035  </td><td style=\"text-align: right;\">-0.180315 </td><td style=\"text-align: right;\">-0.0143385 </td><td style=\"text-align: right;\">-0.0820339</td><td style=\"text-align: right;\">-0.052825 </td><td style=\"text-align: right;\"> 0.0438083</td><td style=\"text-align: right;\">-0.0635139</td><td style=\"text-align: right;\"> 0.00297158 </td><td style=\"text-align: right;\">0.100241 </td><td style=\"text-align: right;\"> 0.0772894</td><td style=\"text-align: right;\"> 0.00865249</td><td style=\"text-align: right;\"> 0.00856588</td><td style=\"text-align: right;\">-0.0375243</td><td style=\"text-align: right;\"> 0.0155478  </td><td style=\"text-align: right;\"> 0.0506063</td><td style=\"text-align: right;\"> 0.0759455  </td><td style=\"text-align: right;\">-0.132958 </td><td style=\"text-align: right;\">-0.06029   </td><td style=\"text-align: right;\">-0.0192601 </td><td style=\"text-align: right;\">-0.0751411</td><td style=\"text-align: right;\"> 0.0204639</td><td style=\"text-align: right;\">-0.0902466  </td><td style=\"text-align: right;\"> 0.0340629 </td><td style=\"text-align: right;\"> 0.0287716</td><td style=\"text-align: right;\">-0.212695 </td><td style=\"text-align: right;\">0.205961 </td><td style=\"text-align: right;\"> 0.00282453</td><td style=\"text-align: right;\">-0.0643847  </td><td style=\"text-align: right;\">-0.218515  </td><td style=\"text-align: right;\"> 0.0327437 </td><td style=\"text-align: right;\">-0.0118152</td><td style=\"text-align: right;\">-0.0974348  </td><td style=\"text-align: right;\">-0.128218 </td><td style=\"text-align: right;\">0.168318 </td><td style=\"text-align: right;\"> 0.0313295 </td><td style=\"text-align: right;\"> 0.125274 </td><td style=\"text-align: right;\">-0.040643  </td><td style=\"text-align: right;\"> 0.129739  </td><td style=\"text-align: right;\"> 0.0499709 </td><td style=\"text-align: right;\">-0.0238381</td><td style=\"text-align: right;\"> 0.0702202</td><td style=\"text-align: right;\">-0.155874  </td><td style=\"text-align: right;\"> 0.122318  </td><td style=\"text-align: right;\">0.14932  </td><td style=\"text-align: right;\"> 0.0172451 </td><td style=\"text-align: right;\">-0.0938447</td><td style=\"text-align: right;\">-0.105146  </td><td style=\"text-align: right;\"> 0.00335917</td><td style=\"text-align: right;\">-0.124768 </td><td style=\"text-align: right;\"> 0.0231147</td><td style=\"text-align: right;\">-0.0298545 </td><td style=\"text-align: right;\"> 0.0884614 </td><td style=\"text-align: right;\">-0.0891361</td><td style=\"text-align: right;\"> 0.0689556</td><td style=\"text-align: right;\">-0.0494536 </td><td style=\"text-align: right;\">-0.0341893 </td><td style=\"text-align: right;\">-0.0432751</td><td style=\"text-align: right;\">0.124234  </td><td style=\"text-align: right;\">-0.00616772</td><td style=\"text-align: right;\">0.124943  </td><td style=\"text-align: right;\"> 0.0762731</td><td style=\"text-align: right;\"> 0.0491065</td><td style=\"text-align: right;\">-0.0775278  </td><td style=\"text-align: right;\">-0.0961752 </td><td style=\"text-align: right;\">-0.0121699</td><td style=\"text-align: right;\">-0.0344935</td><td style=\"text-align: right;\"> 0.0725592</td><td style=\"text-align: right;\">-0.0491713</td><td style=\"text-align: right;\"> 0.0265149</td><td style=\"text-align: right;\"> 0.0751421</td><td style=\"text-align: right;\"> 0.0386978 </td><td style=\"text-align: right;\">-0.123488 </td><td style=\"text-align: right;\">-0.0730761 </td><td style=\"text-align: right;\"> 0.0942518 </td><td style=\"text-align: right;\"> 0.0441579</td><td style=\"text-align: right;\">-0.0935709 </td><td style=\"text-align: right;\">-0.0689614</td><td style=\"text-align: right;\">-0.00845217</td><td style=\"text-align: right;\"> 0.183935  </td><td style=\"text-align: right;\">0.0750489</td><td style=\"text-align: right;\">0.136712 </td><td style=\"text-align: right;\">0.034476</td><td style=\"text-align: right;\"> 0.00282488</td><td style=\"text-align: right;\"> 0.038256  </td><td style=\"text-align: right;\">-0.0523431 </td><td style=\"text-align: right;\">0.132834 </td><td style=\"text-align: right;\"> 0.0975885</td><td style=\"text-align: right;\"> 0.00615348</td><td style=\"text-align: right;\"> 0.0407689  </td><td style=\"text-align: right;\"> 0.105016 </td><td style=\"text-align: right;\">-0.029694 </td><td style=\"text-align: right;\"> 0.0507765</td></tr>\n",
              "</tbody>\n",
              "</table>"
            ]
          },
          "metadata": {
            "tags": []
          }
        },
        {
          "output_type": "execute_result",
          "data": {
            "text/plain": [
              ""
            ]
          },
          "metadata": {
            "tags": []
          },
          "execution_count": 46
        }
      ]
    },
    {
      "cell_type": "code",
      "metadata": {
        "id": "oO3N1dUuDxG-",
        "colab_type": "code",
        "colab": {}
      },
      "source": [
        "h2o_df_ext=h2o_df.cbind(reviews_vecs)"
      ],
      "execution_count": 47,
      "outputs": []
    },
    {
      "cell_type": "code",
      "metadata": {
        "id": "EYeT-blSKSbA",
        "colab_type": "code",
        "colab": {}
      },
      "source": [
        "h2o_train,h2o_valid = h2o_df_ext.split_frame(ratios=[0.8])"
      ],
      "execution_count": 48,
      "outputs": []
    },
    {
      "cell_type": "code",
      "metadata": {
        "id": "u_mcxr9aL2fH",
        "colab_type": "code",
        "colab": {
          "base_uri": "https://localhost:8080/",
          "height": 83
        },
        "outputId": "c19358b3-50cf-418c-ac5c-c5ee56d0949c"
      },
      "source": [
        "h2o_valid['target'].table()"
      ],
      "execution_count": 49,
      "outputs": [
        {
          "output_type": "display_data",
          "data": {
            "text/html": [
              "<table>\n",
              "<thead>\n",
              "<tr><th style=\"text-align: right;\">  target</th><th style=\"text-align: right;\">  Count</th></tr>\n",
              "</thead>\n",
              "<tbody>\n",
              "<tr><td style=\"text-align: right;\">       0</td><td style=\"text-align: right;\">   4612</td></tr>\n",
              "<tr><td style=\"text-align: right;\">       1</td><td style=\"text-align: right;\">  12469</td></tr>\n",
              "</tbody>\n",
              "</table>"
            ]
          },
          "metadata": {
            "tags": []
          }
        },
        {
          "output_type": "execute_result",
          "data": {
            "text/plain": [
              ""
            ]
          },
          "metadata": {
            "tags": []
          },
          "execution_count": 49
        }
      ]
    },
    {
      "cell_type": "code",
      "metadata": {
        "id": "74QLnVAbL8D6",
        "colab_type": "code",
        "colab": {}
      },
      "source": [
        ""
      ],
      "execution_count": null,
      "outputs": []
    }
  ]
}