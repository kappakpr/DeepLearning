{
  "nbformat": 4,
  "nbformat_minor": 0,
  "metadata": {
    "colab": {
      "name": "Copy of senti_LSTM1.ipynb",
      "provenance": [],
      "collapsed_sections": [],
      "mount_file_id": "1vxZko9yMe2uwND1xn2hRgh4BBVvlDmXY",
      "authorship_tag": "ABX9TyNsQ9rj3A4+QPDNvZKVgQej",
      "include_colab_link": true
    },
    "kernelspec": {
      "name": "python3",
      "display_name": "Python 3"
    },
    "accelerator": "GPU",
    "widgets": {
      "application/vnd.jupyter.widget-state+json": {
        "1747d4627d234f5cafbec2d997d75f2e": {
          "model_module": "@jupyter-widgets/controls",
          "model_name": "HBoxModel",
          "state": {
            "_view_name": "HBoxView",
            "_dom_classes": [],
            "_model_name": "HBoxModel",
            "_view_module": "@jupyter-widgets/controls",
            "_model_module_version": "1.5.0",
            "_view_count": null,
            "_view_module_version": "1.5.0",
            "box_style": "",
            "layout": "IPY_MODEL_4249c02ca5cb4166956aa3e349b23355",
            "_model_module": "@jupyter-widgets/controls",
            "children": [
              "IPY_MODEL_cb4b9c4eeb1f4496bdbe18bfcbbe1162",
              "IPY_MODEL_19cb5aa1fa65452bb01394dd901ea3ed"
            ]
          }
        },
        "4249c02ca5cb4166956aa3e349b23355": {
          "model_module": "@jupyter-widgets/base",
          "model_name": "LayoutModel",
          "state": {
            "_view_name": "LayoutView",
            "grid_template_rows": null,
            "right": null,
            "justify_content": null,
            "_view_module": "@jupyter-widgets/base",
            "overflow": null,
            "_model_module_version": "1.2.0",
            "_view_count": null,
            "flex_flow": null,
            "width": null,
            "min_width": null,
            "border": null,
            "align_items": null,
            "bottom": null,
            "_model_module": "@jupyter-widgets/base",
            "top": null,
            "grid_column": null,
            "overflow_y": null,
            "overflow_x": null,
            "grid_auto_flow": null,
            "grid_area": null,
            "grid_template_columns": null,
            "flex": null,
            "_model_name": "LayoutModel",
            "justify_items": null,
            "grid_row": null,
            "max_height": null,
            "align_content": null,
            "visibility": null,
            "align_self": null,
            "height": null,
            "min_height": null,
            "padding": null,
            "grid_auto_rows": null,
            "grid_gap": null,
            "max_width": null,
            "order": null,
            "_view_module_version": "1.2.0",
            "grid_template_areas": null,
            "object_position": null,
            "object_fit": null,
            "grid_auto_columns": null,
            "margin": null,
            "display": null,
            "left": null
          }
        },
        "cb4b9c4eeb1f4496bdbe18bfcbbe1162": {
          "model_module": "@jupyter-widgets/controls",
          "model_name": "FloatProgressModel",
          "state": {
            "_view_name": "ProgressView",
            "style": "IPY_MODEL_16291af98f944af6b4999a20c6f32e9d",
            "_dom_classes": [],
            "description": "Dl Completed...: 100%",
            "_model_name": "FloatProgressModel",
            "bar_style": "success",
            "max": 1,
            "_view_module": "@jupyter-widgets/controls",
            "_model_module_version": "1.5.0",
            "value": 1,
            "_view_count": null,
            "_view_module_version": "1.5.0",
            "orientation": "horizontal",
            "min": 0,
            "description_tooltip": null,
            "_model_module": "@jupyter-widgets/controls",
            "layout": "IPY_MODEL_9baea655008f46da9afa5af0a115b0b8"
          }
        },
        "19cb5aa1fa65452bb01394dd901ea3ed": {
          "model_module": "@jupyter-widgets/controls",
          "model_name": "HTMLModel",
          "state": {
            "_view_name": "HTMLView",
            "style": "IPY_MODEL_464bd82f8d784dd69961000092a60f92",
            "_dom_classes": [],
            "description": "",
            "_model_name": "HTMLModel",
            "placeholder": "​",
            "_view_module": "@jupyter-widgets/controls",
            "_model_module_version": "1.5.0",
            "value": " 1/1 [00:02&lt;00:00,  2.12s/ url]",
            "_view_count": null,
            "_view_module_version": "1.5.0",
            "description_tooltip": null,
            "_model_module": "@jupyter-widgets/controls",
            "layout": "IPY_MODEL_1d63ede96acf40ad88862f464339bea0"
          }
        },
        "16291af98f944af6b4999a20c6f32e9d": {
          "model_module": "@jupyter-widgets/controls",
          "model_name": "ProgressStyleModel",
          "state": {
            "_view_name": "StyleView",
            "_model_name": "ProgressStyleModel",
            "description_width": "initial",
            "_view_module": "@jupyter-widgets/base",
            "_model_module_version": "1.5.0",
            "_view_count": null,
            "_view_module_version": "1.2.0",
            "bar_color": null,
            "_model_module": "@jupyter-widgets/controls"
          }
        },
        "9baea655008f46da9afa5af0a115b0b8": {
          "model_module": "@jupyter-widgets/base",
          "model_name": "LayoutModel",
          "state": {
            "_view_name": "LayoutView",
            "grid_template_rows": null,
            "right": null,
            "justify_content": null,
            "_view_module": "@jupyter-widgets/base",
            "overflow": null,
            "_model_module_version": "1.2.0",
            "_view_count": null,
            "flex_flow": null,
            "width": null,
            "min_width": null,
            "border": null,
            "align_items": null,
            "bottom": null,
            "_model_module": "@jupyter-widgets/base",
            "top": null,
            "grid_column": null,
            "overflow_y": null,
            "overflow_x": null,
            "grid_auto_flow": null,
            "grid_area": null,
            "grid_template_columns": null,
            "flex": null,
            "_model_name": "LayoutModel",
            "justify_items": null,
            "grid_row": null,
            "max_height": null,
            "align_content": null,
            "visibility": null,
            "align_self": null,
            "height": null,
            "min_height": null,
            "padding": null,
            "grid_auto_rows": null,
            "grid_gap": null,
            "max_width": null,
            "order": null,
            "_view_module_version": "1.2.0",
            "grid_template_areas": null,
            "object_position": null,
            "object_fit": null,
            "grid_auto_columns": null,
            "margin": null,
            "display": null,
            "left": null
          }
        },
        "464bd82f8d784dd69961000092a60f92": {
          "model_module": "@jupyter-widgets/controls",
          "model_name": "DescriptionStyleModel",
          "state": {
            "_view_name": "StyleView",
            "_model_name": "DescriptionStyleModel",
            "description_width": "",
            "_view_module": "@jupyter-widgets/base",
            "_model_module_version": "1.5.0",
            "_view_count": null,
            "_view_module_version": "1.2.0",
            "_model_module": "@jupyter-widgets/controls"
          }
        },
        "1d63ede96acf40ad88862f464339bea0": {
          "model_module": "@jupyter-widgets/base",
          "model_name": "LayoutModel",
          "state": {
            "_view_name": "LayoutView",
            "grid_template_rows": null,
            "right": null,
            "justify_content": null,
            "_view_module": "@jupyter-widgets/base",
            "overflow": null,
            "_model_module_version": "1.2.0",
            "_view_count": null,
            "flex_flow": null,
            "width": null,
            "min_width": null,
            "border": null,
            "align_items": null,
            "bottom": null,
            "_model_module": "@jupyter-widgets/base",
            "top": null,
            "grid_column": null,
            "overflow_y": null,
            "overflow_x": null,
            "grid_auto_flow": null,
            "grid_area": null,
            "grid_template_columns": null,
            "flex": null,
            "_model_name": "LayoutModel",
            "justify_items": null,
            "grid_row": null,
            "max_height": null,
            "align_content": null,
            "visibility": null,
            "align_self": null,
            "height": null,
            "min_height": null,
            "padding": null,
            "grid_auto_rows": null,
            "grid_gap": null,
            "max_width": null,
            "order": null,
            "_view_module_version": "1.2.0",
            "grid_template_areas": null,
            "object_position": null,
            "object_fit": null,
            "grid_auto_columns": null,
            "margin": null,
            "display": null,
            "left": null
          }
        },
        "2fa8da76b9154c66864b3cddde7677a6": {
          "model_module": "@jupyter-widgets/controls",
          "model_name": "HBoxModel",
          "state": {
            "_view_name": "HBoxView",
            "_dom_classes": [],
            "_model_name": "HBoxModel",
            "_view_module": "@jupyter-widgets/controls",
            "_model_module_version": "1.5.0",
            "_view_count": null,
            "_view_module_version": "1.5.0",
            "box_style": "",
            "layout": "IPY_MODEL_0ecf1c54c1694014892bf8ec31731f91",
            "_model_module": "@jupyter-widgets/controls",
            "children": [
              "IPY_MODEL_5ec707bbc492429698e0e7204854d405",
              "IPY_MODEL_e975bb8338cf49a78f362f562876ee80"
            ]
          }
        },
        "0ecf1c54c1694014892bf8ec31731f91": {
          "model_module": "@jupyter-widgets/base",
          "model_name": "LayoutModel",
          "state": {
            "_view_name": "LayoutView",
            "grid_template_rows": null,
            "right": null,
            "justify_content": null,
            "_view_module": "@jupyter-widgets/base",
            "overflow": null,
            "_model_module_version": "1.2.0",
            "_view_count": null,
            "flex_flow": null,
            "width": null,
            "min_width": null,
            "border": null,
            "align_items": null,
            "bottom": null,
            "_model_module": "@jupyter-widgets/base",
            "top": null,
            "grid_column": null,
            "overflow_y": null,
            "overflow_x": null,
            "grid_auto_flow": null,
            "grid_area": null,
            "grid_template_columns": null,
            "flex": null,
            "_model_name": "LayoutModel",
            "justify_items": null,
            "grid_row": null,
            "max_height": null,
            "align_content": null,
            "visibility": null,
            "align_self": null,
            "height": null,
            "min_height": null,
            "padding": null,
            "grid_auto_rows": null,
            "grid_gap": null,
            "max_width": null,
            "order": null,
            "_view_module_version": "1.2.0",
            "grid_template_areas": null,
            "object_position": null,
            "object_fit": null,
            "grid_auto_columns": null,
            "margin": null,
            "display": null,
            "left": null
          }
        },
        "5ec707bbc492429698e0e7204854d405": {
          "model_module": "@jupyter-widgets/controls",
          "model_name": "FloatProgressModel",
          "state": {
            "_view_name": "ProgressView",
            "style": "IPY_MODEL_38db50333ec64efd89a103c62af6cbad",
            "_dom_classes": [],
            "description": "Dl Size...: 100%",
            "_model_name": "FloatProgressModel",
            "bar_style": "success",
            "max": 1,
            "_view_module": "@jupyter-widgets/controls",
            "_model_module_version": "1.5.0",
            "value": 1,
            "_view_count": null,
            "_view_module_version": "1.5.0",
            "orientation": "horizontal",
            "min": 0,
            "description_tooltip": null,
            "_model_module": "@jupyter-widgets/controls",
            "layout": "IPY_MODEL_3503502a88c44f04b1ab1170bbc63f5f"
          }
        },
        "e975bb8338cf49a78f362f562876ee80": {
          "model_module": "@jupyter-widgets/controls",
          "model_name": "HTMLModel",
          "state": {
            "_view_name": "HTMLView",
            "style": "IPY_MODEL_60566a8841d54024b036d9290900c3ee",
            "_dom_classes": [],
            "description": "",
            "_model_name": "HTMLModel",
            "placeholder": "​",
            "_view_module": "@jupyter-widgets/controls",
            "_model_module_version": "1.5.0",
            "value": " 21/21 [00:02&lt;00:00, 10.09 MiB/s]",
            "_view_count": null,
            "_view_module_version": "1.5.0",
            "description_tooltip": null,
            "_model_module": "@jupyter-widgets/controls",
            "layout": "IPY_MODEL_c7d079174af74b56a7abe4d8b18cd250"
          }
        },
        "38db50333ec64efd89a103c62af6cbad": {
          "model_module": "@jupyter-widgets/controls",
          "model_name": "ProgressStyleModel",
          "state": {
            "_view_name": "StyleView",
            "_model_name": "ProgressStyleModel",
            "description_width": "initial",
            "_view_module": "@jupyter-widgets/base",
            "_model_module_version": "1.5.0",
            "_view_count": null,
            "_view_module_version": "1.2.0",
            "bar_color": null,
            "_model_module": "@jupyter-widgets/controls"
          }
        },
        "3503502a88c44f04b1ab1170bbc63f5f": {
          "model_module": "@jupyter-widgets/base",
          "model_name": "LayoutModel",
          "state": {
            "_view_name": "LayoutView",
            "grid_template_rows": null,
            "right": null,
            "justify_content": null,
            "_view_module": "@jupyter-widgets/base",
            "overflow": null,
            "_model_module_version": "1.2.0",
            "_view_count": null,
            "flex_flow": null,
            "width": null,
            "min_width": null,
            "border": null,
            "align_items": null,
            "bottom": null,
            "_model_module": "@jupyter-widgets/base",
            "top": null,
            "grid_column": null,
            "overflow_y": null,
            "overflow_x": null,
            "grid_auto_flow": null,
            "grid_area": null,
            "grid_template_columns": null,
            "flex": null,
            "_model_name": "LayoutModel",
            "justify_items": null,
            "grid_row": null,
            "max_height": null,
            "align_content": null,
            "visibility": null,
            "align_self": null,
            "height": null,
            "min_height": null,
            "padding": null,
            "grid_auto_rows": null,
            "grid_gap": null,
            "max_width": null,
            "order": null,
            "_view_module_version": "1.2.0",
            "grid_template_areas": null,
            "object_position": null,
            "object_fit": null,
            "grid_auto_columns": null,
            "margin": null,
            "display": null,
            "left": null
          }
        },
        "60566a8841d54024b036d9290900c3ee": {
          "model_module": "@jupyter-widgets/controls",
          "model_name": "DescriptionStyleModel",
          "state": {
            "_view_name": "StyleView",
            "_model_name": "DescriptionStyleModel",
            "description_width": "",
            "_view_module": "@jupyter-widgets/base",
            "_model_module_version": "1.5.0",
            "_view_count": null,
            "_view_module_version": "1.2.0",
            "_model_module": "@jupyter-widgets/controls"
          }
        },
        "c7d079174af74b56a7abe4d8b18cd250": {
          "model_module": "@jupyter-widgets/base",
          "model_name": "LayoutModel",
          "state": {
            "_view_name": "LayoutView",
            "grid_template_rows": null,
            "right": null,
            "justify_content": null,
            "_view_module": "@jupyter-widgets/base",
            "overflow": null,
            "_model_module_version": "1.2.0",
            "_view_count": null,
            "flex_flow": null,
            "width": null,
            "min_width": null,
            "border": null,
            "align_items": null,
            "bottom": null,
            "_model_module": "@jupyter-widgets/base",
            "top": null,
            "grid_column": null,
            "overflow_y": null,
            "overflow_x": null,
            "grid_auto_flow": null,
            "grid_area": null,
            "grid_template_columns": null,
            "flex": null,
            "_model_name": "LayoutModel",
            "justify_items": null,
            "grid_row": null,
            "max_height": null,
            "align_content": null,
            "visibility": null,
            "align_self": null,
            "height": null,
            "min_height": null,
            "padding": null,
            "grid_auto_rows": null,
            "grid_gap": null,
            "max_width": null,
            "order": null,
            "_view_module_version": "1.2.0",
            "grid_template_areas": null,
            "object_position": null,
            "object_fit": null,
            "grid_auto_columns": null,
            "margin": null,
            "display": null,
            "left": null
          }
        },
        "4268331215714625ae78863f85ba372c": {
          "model_module": "@jupyter-widgets/controls",
          "model_name": "HBoxModel",
          "state": {
            "_view_name": "HBoxView",
            "_dom_classes": [],
            "_model_name": "HBoxModel",
            "_view_module": "@jupyter-widgets/controls",
            "_model_module_version": "1.5.0",
            "_view_count": null,
            "_view_module_version": "1.5.0",
            "box_style": "",
            "layout": "IPY_MODEL_a22ddac8a0ed492b84de56f69b45a65e",
            "_model_module": "@jupyter-widgets/controls",
            "children": [
              "IPY_MODEL_4b8c4d250e3a451cbbfdc375a1c3e3f8",
              "IPY_MODEL_dd8a45f686c34725983d32c06ebacd87"
            ]
          }
        },
        "a22ddac8a0ed492b84de56f69b45a65e": {
          "model_module": "@jupyter-widgets/base",
          "model_name": "LayoutModel",
          "state": {
            "_view_name": "LayoutView",
            "grid_template_rows": null,
            "right": null,
            "justify_content": null,
            "_view_module": "@jupyter-widgets/base",
            "overflow": null,
            "_model_module_version": "1.2.0",
            "_view_count": null,
            "flex_flow": null,
            "width": null,
            "min_width": null,
            "border": null,
            "align_items": null,
            "bottom": null,
            "_model_module": "@jupyter-widgets/base",
            "top": null,
            "grid_column": null,
            "overflow_y": null,
            "overflow_x": null,
            "grid_auto_flow": null,
            "grid_area": null,
            "grid_template_columns": null,
            "flex": null,
            "_model_name": "LayoutModel",
            "justify_items": null,
            "grid_row": null,
            "max_height": null,
            "align_content": null,
            "visibility": null,
            "align_self": null,
            "height": null,
            "min_height": null,
            "padding": null,
            "grid_auto_rows": null,
            "grid_gap": null,
            "max_width": null,
            "order": null,
            "_view_module_version": "1.2.0",
            "grid_template_areas": null,
            "object_position": null,
            "object_fit": null,
            "grid_auto_columns": null,
            "margin": null,
            "display": null,
            "left": null
          }
        },
        "4b8c4d250e3a451cbbfdc375a1c3e3f8": {
          "model_module": "@jupyter-widgets/controls",
          "model_name": "FloatProgressModel",
          "state": {
            "_view_name": "ProgressView",
            "style": "IPY_MODEL_1d802b2829034729b09521f045924ee3",
            "_dom_classes": [],
            "description": "Extraction completed...: 100%",
            "_model_name": "FloatProgressModel",
            "bar_style": "success",
            "max": 1,
            "_view_module": "@jupyter-widgets/controls",
            "_model_module_version": "1.5.0",
            "value": 1,
            "_view_count": null,
            "_view_module_version": "1.5.0",
            "orientation": "horizontal",
            "min": 0,
            "description_tooltip": null,
            "_model_module": "@jupyter-widgets/controls",
            "layout": "IPY_MODEL_48f7a6e113e44aca9191a960ed8b5c07"
          }
        },
        "dd8a45f686c34725983d32c06ebacd87": {
          "model_module": "@jupyter-widgets/controls",
          "model_name": "HTMLModel",
          "state": {
            "_view_name": "HTMLView",
            "style": "IPY_MODEL_1db1ad2621b847b59479932720ae5334",
            "_dom_classes": [],
            "description": "",
            "_model_name": "HTMLModel",
            "placeholder": "​",
            "_view_module": "@jupyter-widgets/controls",
            "_model_module_version": "1.5.0",
            "value": " 1/1 [00:02&lt;00:00,  2.04s/ file]",
            "_view_count": null,
            "_view_module_version": "1.5.0",
            "description_tooltip": null,
            "_model_module": "@jupyter-widgets/controls",
            "layout": "IPY_MODEL_f6c3094cb92c4eb48e4191b027b949d2"
          }
        },
        "1d802b2829034729b09521f045924ee3": {
          "model_module": "@jupyter-widgets/controls",
          "model_name": "ProgressStyleModel",
          "state": {
            "_view_name": "StyleView",
            "_model_name": "ProgressStyleModel",
            "description_width": "initial",
            "_view_module": "@jupyter-widgets/base",
            "_model_module_version": "1.5.0",
            "_view_count": null,
            "_view_module_version": "1.2.0",
            "bar_color": null,
            "_model_module": "@jupyter-widgets/controls"
          }
        },
        "48f7a6e113e44aca9191a960ed8b5c07": {
          "model_module": "@jupyter-widgets/base",
          "model_name": "LayoutModel",
          "state": {
            "_view_name": "LayoutView",
            "grid_template_rows": null,
            "right": null,
            "justify_content": null,
            "_view_module": "@jupyter-widgets/base",
            "overflow": null,
            "_model_module_version": "1.2.0",
            "_view_count": null,
            "flex_flow": null,
            "width": null,
            "min_width": null,
            "border": null,
            "align_items": null,
            "bottom": null,
            "_model_module": "@jupyter-widgets/base",
            "top": null,
            "grid_column": null,
            "overflow_y": null,
            "overflow_x": null,
            "grid_auto_flow": null,
            "grid_area": null,
            "grid_template_columns": null,
            "flex": null,
            "_model_name": "LayoutModel",
            "justify_items": null,
            "grid_row": null,
            "max_height": null,
            "align_content": null,
            "visibility": null,
            "align_self": null,
            "height": null,
            "min_height": null,
            "padding": null,
            "grid_auto_rows": null,
            "grid_gap": null,
            "max_width": null,
            "order": null,
            "_view_module_version": "1.2.0",
            "grid_template_areas": null,
            "object_position": null,
            "object_fit": null,
            "grid_auto_columns": null,
            "margin": null,
            "display": null,
            "left": null
          }
        },
        "1db1ad2621b847b59479932720ae5334": {
          "model_module": "@jupyter-widgets/controls",
          "model_name": "DescriptionStyleModel",
          "state": {
            "_view_name": "StyleView",
            "_model_name": "DescriptionStyleModel",
            "description_width": "",
            "_view_module": "@jupyter-widgets/base",
            "_model_module_version": "1.5.0",
            "_view_count": null,
            "_view_module_version": "1.2.0",
            "_model_module": "@jupyter-widgets/controls"
          }
        },
        "f6c3094cb92c4eb48e4191b027b949d2": {
          "model_module": "@jupyter-widgets/base",
          "model_name": "LayoutModel",
          "state": {
            "_view_name": "LayoutView",
            "grid_template_rows": null,
            "right": null,
            "justify_content": null,
            "_view_module": "@jupyter-widgets/base",
            "overflow": null,
            "_model_module_version": "1.2.0",
            "_view_count": null,
            "flex_flow": null,
            "width": null,
            "min_width": null,
            "border": null,
            "align_items": null,
            "bottom": null,
            "_model_module": "@jupyter-widgets/base",
            "top": null,
            "grid_column": null,
            "overflow_y": null,
            "overflow_x": null,
            "grid_auto_flow": null,
            "grid_area": null,
            "grid_template_columns": null,
            "flex": null,
            "_model_name": "LayoutModel",
            "justify_items": null,
            "grid_row": null,
            "max_height": null,
            "align_content": null,
            "visibility": null,
            "align_self": null,
            "height": null,
            "min_height": null,
            "padding": null,
            "grid_auto_rows": null,
            "grid_gap": null,
            "max_width": null,
            "order": null,
            "_view_module_version": "1.2.0",
            "grid_template_areas": null,
            "object_position": null,
            "object_fit": null,
            "grid_auto_columns": null,
            "margin": null,
            "display": null,
            "left": null
          }
        },
        "c8a0b4a86681435e81734abd242b07fc": {
          "model_module": "@jupyter-widgets/controls",
          "model_name": "HBoxModel",
          "state": {
            "_view_name": "HBoxView",
            "_dom_classes": [],
            "_model_name": "HBoxModel",
            "_view_module": "@jupyter-widgets/controls",
            "_model_module_version": "1.5.0",
            "_view_count": null,
            "_view_module_version": "1.5.0",
            "box_style": "",
            "layout": "IPY_MODEL_2079d67029e6445680549305f3bf5694",
            "_model_module": "@jupyter-widgets/controls",
            "children": [
              "IPY_MODEL_9fcd33ef698e49f78067674c0d3a1abf",
              "IPY_MODEL_2bbd1e33e00b42ec8a7eaf23cedd29b2"
            ]
          }
        },
        "2079d67029e6445680549305f3bf5694": {
          "model_module": "@jupyter-widgets/base",
          "model_name": "LayoutModel",
          "state": {
            "_view_name": "LayoutView",
            "grid_template_rows": null,
            "right": null,
            "justify_content": null,
            "_view_module": "@jupyter-widgets/base",
            "overflow": null,
            "_model_module_version": "1.2.0",
            "_view_count": null,
            "flex_flow": null,
            "width": null,
            "min_width": null,
            "border": null,
            "align_items": null,
            "bottom": null,
            "_model_module": "@jupyter-widgets/base",
            "top": null,
            "grid_column": null,
            "overflow_y": null,
            "overflow_x": null,
            "grid_auto_flow": null,
            "grid_area": null,
            "grid_template_columns": null,
            "flex": null,
            "_model_name": "LayoutModel",
            "justify_items": null,
            "grid_row": null,
            "max_height": null,
            "align_content": null,
            "visibility": null,
            "align_self": null,
            "height": null,
            "min_height": null,
            "padding": null,
            "grid_auto_rows": null,
            "grid_gap": null,
            "max_width": null,
            "order": null,
            "_view_module_version": "1.2.0",
            "grid_template_areas": null,
            "object_position": null,
            "object_fit": null,
            "grid_auto_columns": null,
            "margin": null,
            "display": null,
            "left": null
          }
        },
        "9fcd33ef698e49f78067674c0d3a1abf": {
          "model_module": "@jupyter-widgets/controls",
          "model_name": "FloatProgressModel",
          "state": {
            "_view_name": "ProgressView",
            "style": "IPY_MODEL_e2b432c96056410ea97c8a8b0a74a65f",
            "_dom_classes": [],
            "description": "",
            "_model_name": "FloatProgressModel",
            "bar_style": "info",
            "max": 1,
            "_view_module": "@jupyter-widgets/controls",
            "_model_module_version": "1.5.0",
            "value": 1,
            "_view_count": null,
            "_view_module_version": "1.5.0",
            "orientation": "horizontal",
            "min": 0,
            "description_tooltip": null,
            "_model_module": "@jupyter-widgets/controls",
            "layout": "IPY_MODEL_d4005571b0e0461cb5713bf9e4f7fa14"
          }
        },
        "2bbd1e33e00b42ec8a7eaf23cedd29b2": {
          "model_module": "@jupyter-widgets/controls",
          "model_name": "HTMLModel",
          "state": {
            "_view_name": "HTMLView",
            "style": "IPY_MODEL_eefa0aa7a7354c9c9746b3b44f2b71e8",
            "_dom_classes": [],
            "description": "",
            "_model_name": "HTMLModel",
            "placeholder": "​",
            "_view_module": "@jupyter-widgets/controls",
            "_model_module_version": "1.5.0",
            "value": " 104975/0 [01:55&lt;00:00, 891.93 examples/s]",
            "_view_count": null,
            "_view_module_version": "1.5.0",
            "description_tooltip": null,
            "_model_module": "@jupyter-widgets/controls",
            "layout": "IPY_MODEL_826c297114614cedb889ff3adee7bf89"
          }
        },
        "e2b432c96056410ea97c8a8b0a74a65f": {
          "model_module": "@jupyter-widgets/controls",
          "model_name": "ProgressStyleModel",
          "state": {
            "_view_name": "StyleView",
            "_model_name": "ProgressStyleModel",
            "description_width": "initial",
            "_view_module": "@jupyter-widgets/base",
            "_model_module_version": "1.5.0",
            "_view_count": null,
            "_view_module_version": "1.2.0",
            "bar_color": null,
            "_model_module": "@jupyter-widgets/controls"
          }
        },
        "d4005571b0e0461cb5713bf9e4f7fa14": {
          "model_module": "@jupyter-widgets/base",
          "model_name": "LayoutModel",
          "state": {
            "_view_name": "LayoutView",
            "grid_template_rows": null,
            "right": null,
            "justify_content": null,
            "_view_module": "@jupyter-widgets/base",
            "overflow": null,
            "_model_module_version": "1.2.0",
            "_view_count": null,
            "flex_flow": null,
            "width": null,
            "min_width": null,
            "border": null,
            "align_items": null,
            "bottom": null,
            "_model_module": "@jupyter-widgets/base",
            "top": null,
            "grid_column": null,
            "overflow_y": null,
            "overflow_x": null,
            "grid_auto_flow": null,
            "grid_area": null,
            "grid_template_columns": null,
            "flex": null,
            "_model_name": "LayoutModel",
            "justify_items": null,
            "grid_row": null,
            "max_height": null,
            "align_content": null,
            "visibility": null,
            "align_self": null,
            "height": null,
            "min_height": null,
            "padding": null,
            "grid_auto_rows": null,
            "grid_gap": null,
            "max_width": null,
            "order": null,
            "_view_module_version": "1.2.0",
            "grid_template_areas": null,
            "object_position": null,
            "object_fit": null,
            "grid_auto_columns": null,
            "margin": null,
            "display": null,
            "left": null
          }
        },
        "eefa0aa7a7354c9c9746b3b44f2b71e8": {
          "model_module": "@jupyter-widgets/controls",
          "model_name": "DescriptionStyleModel",
          "state": {
            "_view_name": "StyleView",
            "_model_name": "DescriptionStyleModel",
            "description_width": "",
            "_view_module": "@jupyter-widgets/base",
            "_model_module_version": "1.5.0",
            "_view_count": null,
            "_view_module_version": "1.2.0",
            "_model_module": "@jupyter-widgets/controls"
          }
        },
        "826c297114614cedb889ff3adee7bf89": {
          "model_module": "@jupyter-widgets/base",
          "model_name": "LayoutModel",
          "state": {
            "_view_name": "LayoutView",
            "grid_template_rows": null,
            "right": null,
            "justify_content": null,
            "_view_module": "@jupyter-widgets/base",
            "overflow": null,
            "_model_module_version": "1.2.0",
            "_view_count": null,
            "flex_flow": null,
            "width": null,
            "min_width": null,
            "border": null,
            "align_items": null,
            "bottom": null,
            "_model_module": "@jupyter-widgets/base",
            "top": null,
            "grid_column": null,
            "overflow_y": null,
            "overflow_x": null,
            "grid_auto_flow": null,
            "grid_area": null,
            "grid_template_columns": null,
            "flex": null,
            "_model_name": "LayoutModel",
            "justify_items": null,
            "grid_row": null,
            "max_height": null,
            "align_content": null,
            "visibility": null,
            "align_self": null,
            "height": null,
            "min_height": null,
            "padding": null,
            "grid_auto_rows": null,
            "grid_gap": null,
            "max_width": null,
            "order": null,
            "_view_module_version": "1.2.0",
            "grid_template_areas": null,
            "object_position": null,
            "object_fit": null,
            "grid_auto_columns": null,
            "margin": null,
            "display": null,
            "left": null
          }
        },
        "e36cead0355a4d8898d42d65356b5c96": {
          "model_module": "@jupyter-widgets/controls",
          "model_name": "HBoxModel",
          "state": {
            "_view_name": "HBoxView",
            "_dom_classes": [],
            "_model_name": "HBoxModel",
            "_view_module": "@jupyter-widgets/controls",
            "_model_module_version": "1.5.0",
            "_view_count": null,
            "_view_module_version": "1.5.0",
            "box_style": "",
            "layout": "IPY_MODEL_eebb9228ec4e4816bc3724ef2e20ccb5",
            "_model_module": "@jupyter-widgets/controls",
            "children": [
              "IPY_MODEL_f815a0e544b74a6bb86605c1f570c88c",
              "IPY_MODEL_591b158a28384956966fa75d59119596"
            ]
          }
        },
        "eebb9228ec4e4816bc3724ef2e20ccb5": {
          "model_module": "@jupyter-widgets/base",
          "model_name": "LayoutModel",
          "state": {
            "_view_name": "LayoutView",
            "grid_template_rows": null,
            "right": null,
            "justify_content": null,
            "_view_module": "@jupyter-widgets/base",
            "overflow": null,
            "_model_module_version": "1.2.0",
            "_view_count": null,
            "flex_flow": null,
            "width": null,
            "min_width": null,
            "border": null,
            "align_items": null,
            "bottom": null,
            "_model_module": "@jupyter-widgets/base",
            "top": null,
            "grid_column": null,
            "overflow_y": null,
            "overflow_x": null,
            "grid_auto_flow": null,
            "grid_area": null,
            "grid_template_columns": null,
            "flex": null,
            "_model_name": "LayoutModel",
            "justify_items": null,
            "grid_row": null,
            "max_height": null,
            "align_content": null,
            "visibility": null,
            "align_self": null,
            "height": null,
            "min_height": null,
            "padding": null,
            "grid_auto_rows": null,
            "grid_gap": null,
            "max_width": null,
            "order": null,
            "_view_module_version": "1.2.0",
            "grid_template_areas": null,
            "object_position": null,
            "object_fit": null,
            "grid_auto_columns": null,
            "margin": null,
            "display": null,
            "left": null
          }
        },
        "f815a0e544b74a6bb86605c1f570c88c": {
          "model_module": "@jupyter-widgets/controls",
          "model_name": "FloatProgressModel",
          "state": {
            "_view_name": "ProgressView",
            "style": "IPY_MODEL_a0001e7e3b5e48208e05d258d940edb0",
            "_dom_classes": [],
            "description": " 87%",
            "_model_name": "FloatProgressModel",
            "bar_style": "danger",
            "max": 104975,
            "_view_module": "@jupyter-widgets/controls",
            "_model_module_version": "1.5.0",
            "value": 91299,
            "_view_count": null,
            "_view_module_version": "1.5.0",
            "orientation": "horizontal",
            "min": 0,
            "description_tooltip": null,
            "_model_module": "@jupyter-widgets/controls",
            "layout": "IPY_MODEL_079b9669388649119620f2a61b63da9f"
          }
        },
        "591b158a28384956966fa75d59119596": {
          "model_module": "@jupyter-widgets/controls",
          "model_name": "HTMLModel",
          "state": {
            "_view_name": "HTMLView",
            "style": "IPY_MODEL_20495b20eb074612b7217b55e6e49708",
            "_dom_classes": [],
            "description": "",
            "_model_name": "HTMLModel",
            "placeholder": "​",
            "_view_module": "@jupyter-widgets/controls",
            "_model_module_version": "1.5.0",
            "value": " 91299/104975 [00:07&lt;11:52, 19.21 examples/s]",
            "_view_count": null,
            "_view_module_version": "1.5.0",
            "description_tooltip": null,
            "_model_module": "@jupyter-widgets/controls",
            "layout": "IPY_MODEL_9a4703e86cbb4004913bd66835ae5f17"
          }
        },
        "a0001e7e3b5e48208e05d258d940edb0": {
          "model_module": "@jupyter-widgets/controls",
          "model_name": "ProgressStyleModel",
          "state": {
            "_view_name": "StyleView",
            "_model_name": "ProgressStyleModel",
            "description_width": "initial",
            "_view_module": "@jupyter-widgets/base",
            "_model_module_version": "1.5.0",
            "_view_count": null,
            "_view_module_version": "1.2.0",
            "bar_color": null,
            "_model_module": "@jupyter-widgets/controls"
          }
        },
        "079b9669388649119620f2a61b63da9f": {
          "model_module": "@jupyter-widgets/base",
          "model_name": "LayoutModel",
          "state": {
            "_view_name": "LayoutView",
            "grid_template_rows": null,
            "right": null,
            "justify_content": null,
            "_view_module": "@jupyter-widgets/base",
            "overflow": null,
            "_model_module_version": "1.2.0",
            "_view_count": null,
            "flex_flow": null,
            "width": null,
            "min_width": null,
            "border": null,
            "align_items": null,
            "bottom": null,
            "_model_module": "@jupyter-widgets/base",
            "top": null,
            "grid_column": null,
            "overflow_y": null,
            "overflow_x": null,
            "grid_auto_flow": null,
            "grid_area": null,
            "grid_template_columns": null,
            "flex": null,
            "_model_name": "LayoutModel",
            "justify_items": null,
            "grid_row": null,
            "max_height": null,
            "align_content": null,
            "visibility": null,
            "align_self": null,
            "height": null,
            "min_height": null,
            "padding": null,
            "grid_auto_rows": null,
            "grid_gap": null,
            "max_width": null,
            "order": null,
            "_view_module_version": "1.2.0",
            "grid_template_areas": null,
            "object_position": null,
            "object_fit": null,
            "grid_auto_columns": null,
            "margin": null,
            "display": null,
            "left": null
          }
        },
        "20495b20eb074612b7217b55e6e49708": {
          "model_module": "@jupyter-widgets/controls",
          "model_name": "DescriptionStyleModel",
          "state": {
            "_view_name": "StyleView",
            "_model_name": "DescriptionStyleModel",
            "description_width": "",
            "_view_module": "@jupyter-widgets/base",
            "_model_module_version": "1.5.0",
            "_view_count": null,
            "_view_module_version": "1.2.0",
            "_model_module": "@jupyter-widgets/controls"
          }
        },
        "9a4703e86cbb4004913bd66835ae5f17": {
          "model_module": "@jupyter-widgets/base",
          "model_name": "LayoutModel",
          "state": {
            "_view_name": "LayoutView",
            "grid_template_rows": null,
            "right": null,
            "justify_content": null,
            "_view_module": "@jupyter-widgets/base",
            "overflow": null,
            "_model_module_version": "1.2.0",
            "_view_count": null,
            "flex_flow": null,
            "width": null,
            "min_width": null,
            "border": null,
            "align_items": null,
            "bottom": null,
            "_model_module": "@jupyter-widgets/base",
            "top": null,
            "grid_column": null,
            "overflow_y": null,
            "overflow_x": null,
            "grid_auto_flow": null,
            "grid_area": null,
            "grid_template_columns": null,
            "flex": null,
            "_model_name": "LayoutModel",
            "justify_items": null,
            "grid_row": null,
            "max_height": null,
            "align_content": null,
            "visibility": null,
            "align_self": null,
            "height": null,
            "min_height": null,
            "padding": null,
            "grid_auto_rows": null,
            "grid_gap": null,
            "max_width": null,
            "order": null,
            "_view_module_version": "1.2.0",
            "grid_template_areas": null,
            "object_position": null,
            "object_fit": null,
            "grid_auto_columns": null,
            "margin": null,
            "display": null,
            "left": null
          }
        },
        "4272ee3afe9d4be0994ac6da8799fa85": {
          "model_module": "@jupyter-widgets/controls",
          "model_name": "HBoxModel",
          "state": {
            "_view_name": "HBoxView",
            "_dom_classes": [],
            "_model_name": "HBoxModel",
            "_view_module": "@jupyter-widgets/controls",
            "_model_module_version": "1.5.0",
            "_view_count": null,
            "_view_module_version": "1.5.0",
            "box_style": "",
            "layout": "IPY_MODEL_43e6d6d35c784b1f92c87c38bf51a872",
            "_model_module": "@jupyter-widgets/controls",
            "children": [
              "IPY_MODEL_ad28d629265d421eb44a66cc69914d72",
              "IPY_MODEL_bd209c3a353849a184d76f7064ca36fe"
            ]
          }
        },
        "43e6d6d35c784b1f92c87c38bf51a872": {
          "model_module": "@jupyter-widgets/base",
          "model_name": "LayoutModel",
          "state": {
            "_view_name": "LayoutView",
            "grid_template_rows": null,
            "right": null,
            "justify_content": null,
            "_view_module": "@jupyter-widgets/base",
            "overflow": null,
            "_model_module_version": "1.2.0",
            "_view_count": null,
            "flex_flow": null,
            "width": null,
            "min_width": null,
            "border": null,
            "align_items": null,
            "bottom": null,
            "_model_module": "@jupyter-widgets/base",
            "top": null,
            "grid_column": null,
            "overflow_y": null,
            "overflow_x": null,
            "grid_auto_flow": null,
            "grid_area": null,
            "grid_template_columns": null,
            "flex": null,
            "_model_name": "LayoutModel",
            "justify_items": null,
            "grid_row": null,
            "max_height": null,
            "align_content": null,
            "visibility": null,
            "align_self": null,
            "height": null,
            "min_height": null,
            "padding": null,
            "grid_auto_rows": null,
            "grid_gap": null,
            "max_width": null,
            "order": null,
            "_view_module_version": "1.2.0",
            "grid_template_areas": null,
            "object_position": null,
            "object_fit": null,
            "grid_auto_columns": null,
            "margin": null,
            "display": null,
            "left": null
          }
        },
        "ad28d629265d421eb44a66cc69914d72": {
          "model_module": "@jupyter-widgets/controls",
          "model_name": "FloatProgressModel",
          "state": {
            "_view_name": "ProgressView",
            "style": "IPY_MODEL_711021af62f04cdbb5a871a3bd3caf7a",
            "_dom_classes": [],
            "description": "Computing statistics...: 100%",
            "_model_name": "FloatProgressModel",
            "bar_style": "success",
            "max": 1,
            "_view_module": "@jupyter-widgets/controls",
            "_model_module_version": "1.5.0",
            "value": 1,
            "_view_count": null,
            "_view_module_version": "1.5.0",
            "orientation": "horizontal",
            "min": 0,
            "description_tooltip": null,
            "_model_module": "@jupyter-widgets/controls",
            "layout": "IPY_MODEL_978088c3073d47a48ebc2aaebd0bbd9c"
          }
        },
        "bd209c3a353849a184d76f7064ca36fe": {
          "model_module": "@jupyter-widgets/controls",
          "model_name": "HTMLModel",
          "state": {
            "_view_name": "HTMLView",
            "style": "IPY_MODEL_72d4670f4ec54f01957b101d6fee7d9a",
            "_dom_classes": [],
            "description": "",
            "_model_name": "HTMLModel",
            "placeholder": "​",
            "_view_module": "@jupyter-widgets/controls",
            "_model_module_version": "1.5.0",
            "value": " 1/1 [00:58&lt;00:00, 58.51s/ split]",
            "_view_count": null,
            "_view_module_version": "1.5.0",
            "description_tooltip": null,
            "_model_module": "@jupyter-widgets/controls",
            "layout": "IPY_MODEL_91191b0b6ef3472c964b62f31001a083"
          }
        },
        "711021af62f04cdbb5a871a3bd3caf7a": {
          "model_module": "@jupyter-widgets/controls",
          "model_name": "ProgressStyleModel",
          "state": {
            "_view_name": "StyleView",
            "_model_name": "ProgressStyleModel",
            "description_width": "initial",
            "_view_module": "@jupyter-widgets/base",
            "_model_module_version": "1.5.0",
            "_view_count": null,
            "_view_module_version": "1.2.0",
            "bar_color": null,
            "_model_module": "@jupyter-widgets/controls"
          }
        },
        "978088c3073d47a48ebc2aaebd0bbd9c": {
          "model_module": "@jupyter-widgets/base",
          "model_name": "LayoutModel",
          "state": {
            "_view_name": "LayoutView",
            "grid_template_rows": null,
            "right": null,
            "justify_content": null,
            "_view_module": "@jupyter-widgets/base",
            "overflow": null,
            "_model_module_version": "1.2.0",
            "_view_count": null,
            "flex_flow": null,
            "width": null,
            "min_width": null,
            "border": null,
            "align_items": null,
            "bottom": null,
            "_model_module": "@jupyter-widgets/base",
            "top": null,
            "grid_column": null,
            "overflow_y": null,
            "overflow_x": null,
            "grid_auto_flow": null,
            "grid_area": null,
            "grid_template_columns": null,
            "flex": null,
            "_model_name": "LayoutModel",
            "justify_items": null,
            "grid_row": null,
            "max_height": null,
            "align_content": null,
            "visibility": null,
            "align_self": null,
            "height": null,
            "min_height": null,
            "padding": null,
            "grid_auto_rows": null,
            "grid_gap": null,
            "max_width": null,
            "order": null,
            "_view_module_version": "1.2.0",
            "grid_template_areas": null,
            "object_position": null,
            "object_fit": null,
            "grid_auto_columns": null,
            "margin": null,
            "display": null,
            "left": null
          }
        },
        "72d4670f4ec54f01957b101d6fee7d9a": {
          "model_module": "@jupyter-widgets/controls",
          "model_name": "DescriptionStyleModel",
          "state": {
            "_view_name": "StyleView",
            "_model_name": "DescriptionStyleModel",
            "description_width": "",
            "_view_module": "@jupyter-widgets/base",
            "_model_module_version": "1.5.0",
            "_view_count": null,
            "_view_module_version": "1.2.0",
            "_model_module": "@jupyter-widgets/controls"
          }
        },
        "91191b0b6ef3472c964b62f31001a083": {
          "model_module": "@jupyter-widgets/base",
          "model_name": "LayoutModel",
          "state": {
            "_view_name": "LayoutView",
            "grid_template_rows": null,
            "right": null,
            "justify_content": null,
            "_view_module": "@jupyter-widgets/base",
            "overflow": null,
            "_model_module_version": "1.2.0",
            "_view_count": null,
            "flex_flow": null,
            "width": null,
            "min_width": null,
            "border": null,
            "align_items": null,
            "bottom": null,
            "_model_module": "@jupyter-widgets/base",
            "top": null,
            "grid_column": null,
            "overflow_y": null,
            "overflow_x": null,
            "grid_auto_flow": null,
            "grid_area": null,
            "grid_template_columns": null,
            "flex": null,
            "_model_name": "LayoutModel",
            "justify_items": null,
            "grid_row": null,
            "max_height": null,
            "align_content": null,
            "visibility": null,
            "align_self": null,
            "height": null,
            "min_height": null,
            "padding": null,
            "grid_auto_rows": null,
            "grid_gap": null,
            "max_width": null,
            "order": null,
            "_view_module_version": "1.2.0",
            "grid_template_areas": null,
            "object_position": null,
            "object_fit": null,
            "grid_auto_columns": null,
            "margin": null,
            "display": null,
            "left": null
          }
        },
        "2e953c9354f849639638341d7f21f460": {
          "model_module": "@jupyter-widgets/controls",
          "model_name": "HBoxModel",
          "state": {
            "_view_name": "HBoxView",
            "_dom_classes": [],
            "_model_name": "HBoxModel",
            "_view_module": "@jupyter-widgets/controls",
            "_model_module_version": "1.5.0",
            "_view_count": null,
            "_view_module_version": "1.5.0",
            "box_style": "",
            "layout": "IPY_MODEL_972ed84aa2c140e5bedfc21474cfbf88",
            "_model_module": "@jupyter-widgets/controls",
            "children": [
              "IPY_MODEL_6cf35742b2d245399a8d9b310a7d3809",
              "IPY_MODEL_ac92a88d1e7e47c79840439bcee58d65"
            ]
          }
        },
        "972ed84aa2c140e5bedfc21474cfbf88": {
          "model_module": "@jupyter-widgets/base",
          "model_name": "LayoutModel",
          "state": {
            "_view_name": "LayoutView",
            "grid_template_rows": null,
            "right": null,
            "justify_content": null,
            "_view_module": "@jupyter-widgets/base",
            "overflow": null,
            "_model_module_version": "1.2.0",
            "_view_count": null,
            "flex_flow": null,
            "width": null,
            "min_width": null,
            "border": null,
            "align_items": null,
            "bottom": null,
            "_model_module": "@jupyter-widgets/base",
            "top": null,
            "grid_column": null,
            "overflow_y": null,
            "overflow_x": null,
            "grid_auto_flow": null,
            "grid_area": null,
            "grid_template_columns": null,
            "flex": null,
            "_model_name": "LayoutModel",
            "justify_items": null,
            "grid_row": null,
            "max_height": null,
            "align_content": null,
            "visibility": null,
            "align_self": null,
            "height": null,
            "min_height": null,
            "padding": null,
            "grid_auto_rows": null,
            "grid_gap": null,
            "max_width": null,
            "order": null,
            "_view_module_version": "1.2.0",
            "grid_template_areas": null,
            "object_position": null,
            "object_fit": null,
            "grid_auto_columns": null,
            "margin": null,
            "display": null,
            "left": null
          }
        },
        "6cf35742b2d245399a8d9b310a7d3809": {
          "model_module": "@jupyter-widgets/controls",
          "model_name": "FloatProgressModel",
          "state": {
            "_view_name": "ProgressView",
            "style": "IPY_MODEL_84018e3946bb4f4eb646c220bd9d8da7",
            "_dom_classes": [],
            "description": "",
            "_model_name": "FloatProgressModel",
            "bar_style": "info",
            "max": 1,
            "_view_module": "@jupyter-widgets/controls",
            "_model_module_version": "1.5.0",
            "value": 1,
            "_view_count": null,
            "_view_module_version": "1.5.0",
            "orientation": "horizontal",
            "min": 0,
            "description_tooltip": null,
            "_model_module": "@jupyter-widgets/controls",
            "layout": "IPY_MODEL_be9b692e9dfb4a51b6493dd22c5c5a99"
          }
        },
        "ac92a88d1e7e47c79840439bcee58d65": {
          "model_module": "@jupyter-widgets/controls",
          "model_name": "HTMLModel",
          "state": {
            "_view_name": "HTMLView",
            "style": "IPY_MODEL_ae42d2b4e6be4d0189486a878a908e9e",
            "_dom_classes": [],
            "description": "",
            "_model_name": "HTMLModel",
            "placeholder": "​",
            "_view_module": "@jupyter-widgets/controls",
            "_model_module_version": "1.5.0",
            "value": " 104975/? [00:51&lt;00:00, 2126.09 examples/s]",
            "_view_count": null,
            "_view_module_version": "1.5.0",
            "description_tooltip": null,
            "_model_module": "@jupyter-widgets/controls",
            "layout": "IPY_MODEL_10e69aff56ae4451aa4657f5b0895ba6"
          }
        },
        "84018e3946bb4f4eb646c220bd9d8da7": {
          "model_module": "@jupyter-widgets/controls",
          "model_name": "ProgressStyleModel",
          "state": {
            "_view_name": "StyleView",
            "_model_name": "ProgressStyleModel",
            "description_width": "initial",
            "_view_module": "@jupyter-widgets/base",
            "_model_module_version": "1.5.0",
            "_view_count": null,
            "_view_module_version": "1.2.0",
            "bar_color": null,
            "_model_module": "@jupyter-widgets/controls"
          }
        },
        "be9b692e9dfb4a51b6493dd22c5c5a99": {
          "model_module": "@jupyter-widgets/base",
          "model_name": "LayoutModel",
          "state": {
            "_view_name": "LayoutView",
            "grid_template_rows": null,
            "right": null,
            "justify_content": null,
            "_view_module": "@jupyter-widgets/base",
            "overflow": null,
            "_model_module_version": "1.2.0",
            "_view_count": null,
            "flex_flow": null,
            "width": null,
            "min_width": null,
            "border": null,
            "align_items": null,
            "bottom": null,
            "_model_module": "@jupyter-widgets/base",
            "top": null,
            "grid_column": null,
            "overflow_y": null,
            "overflow_x": null,
            "grid_auto_flow": null,
            "grid_area": null,
            "grid_template_columns": null,
            "flex": null,
            "_model_name": "LayoutModel",
            "justify_items": null,
            "grid_row": null,
            "max_height": null,
            "align_content": null,
            "visibility": null,
            "align_self": null,
            "height": null,
            "min_height": null,
            "padding": null,
            "grid_auto_rows": null,
            "grid_gap": null,
            "max_width": null,
            "order": null,
            "_view_module_version": "1.2.0",
            "grid_template_areas": null,
            "object_position": null,
            "object_fit": null,
            "grid_auto_columns": null,
            "margin": null,
            "display": null,
            "left": null
          }
        },
        "ae42d2b4e6be4d0189486a878a908e9e": {
          "model_module": "@jupyter-widgets/controls",
          "model_name": "DescriptionStyleModel",
          "state": {
            "_view_name": "StyleView",
            "_model_name": "DescriptionStyleModel",
            "description_width": "",
            "_view_module": "@jupyter-widgets/base",
            "_model_module_version": "1.5.0",
            "_view_count": null,
            "_view_module_version": "1.2.0",
            "_model_module": "@jupyter-widgets/controls"
          }
        },
        "10e69aff56ae4451aa4657f5b0895ba6": {
          "model_module": "@jupyter-widgets/base",
          "model_name": "LayoutModel",
          "state": {
            "_view_name": "LayoutView",
            "grid_template_rows": null,
            "right": null,
            "justify_content": null,
            "_view_module": "@jupyter-widgets/base",
            "overflow": null,
            "_model_module_version": "1.2.0",
            "_view_count": null,
            "flex_flow": null,
            "width": null,
            "min_width": null,
            "border": null,
            "align_items": null,
            "bottom": null,
            "_model_module": "@jupyter-widgets/base",
            "top": null,
            "grid_column": null,
            "overflow_y": null,
            "overflow_x": null,
            "grid_auto_flow": null,
            "grid_area": null,
            "grid_template_columns": null,
            "flex": null,
            "_model_name": "LayoutModel",
            "justify_items": null,
            "grid_row": null,
            "max_height": null,
            "align_content": null,
            "visibility": null,
            "align_self": null,
            "height": null,
            "min_height": null,
            "padding": null,
            "grid_auto_rows": null,
            "grid_gap": null,
            "max_width": null,
            "order": null,
            "_view_module_version": "1.2.0",
            "grid_template_areas": null,
            "object_position": null,
            "object_fit": null,
            "grid_auto_columns": null,
            "margin": null,
            "display": null,
            "left": null
          }
        }
      }
    }
  },
  "cells": [
    {
      "cell_type": "markdown",
      "metadata": {
        "id": "view-in-github",
        "colab_type": "text"
      },
      "source": [
        "<a href=\"https://colab.research.google.com/github/kappakpr/DeepLearning/blob/master/Copy_of_senti_LSTM1.ipynb\" target=\"_parent\"><img src=\"https://colab.research.google.com/assets/colab-badge.svg\" alt=\"Open In Colab\"/></a>"
      ]
    },
    {
      "cell_type": "code",
      "metadata": {
        "id": "D26BcZGCxU8O",
        "colab_type": "code",
        "colab": {
          "base_uri": "https://localhost:8080/",
          "height": 124
        },
        "outputId": "5cd85b0b-216c-40f3-85f4-5d3a9658792a"
      },
      "source": [
        "from google.colab import drive\n",
        "drive.mount('/content/gdrive')"
      ],
      "execution_count": 1,
      "outputs": [
        {
          "output_type": "stream",
          "text": [
            "Go to this URL in a browser: https://accounts.google.com/o/oauth2/auth?client_id=947318989803-6bn6qk8qdgf4n4g3pfee6491hc0brc4i.apps.googleusercontent.com&redirect_uri=urn%3aietf%3awg%3aoauth%3a2.0%3aoob&response_type=code&scope=email%20https%3a%2f%2fwww.googleapis.com%2fauth%2fdocs.test%20https%3a%2f%2fwww.googleapis.com%2fauth%2fdrive%20https%3a%2f%2fwww.googleapis.com%2fauth%2fdrive.photos.readonly%20https%3a%2f%2fwww.googleapis.com%2fauth%2fpeopleapi.readonly\n",
            "\n",
            "Enter your authorization code:\n",
            "··········\n",
            "Mounted at /content/gdrive\n"
          ],
          "name": "stdout"
        }
      ]
    },
    {
      "cell_type": "code",
      "metadata": {
        "id": "WI9UiSMExrDF",
        "colab_type": "code",
        "colab": {
          "base_uri": "https://localhost:8080/",
          "height": 104
        },
        "outputId": "d2a898d8-1715-4f08-9292-94ba553040e4"
      },
      "source": [
        "#!ls '/content/gdrive/My Drive/Colab Notebooks'\n",
        "!ls '/content/gdrive/My Drive'"
      ],
      "execution_count": 2,
      "outputs": [
        {
          "output_type": "stream",
          "text": [
            " colabfiles\t\t\t\t    jdk-8u60-windows-x64.exe\n",
            "'Colab Notebooks'\t\t\t    ubuntu-16.04.2-desktop-amd64.iso\n",
            " E1B458F2-3664-406B-9188-24D8840C594F.JPG  'Untitled spreadsheet.gsheet'\n",
            "'Getting started.pdf'\t\t\t    VBoxGuestAdditions.iso\n",
            " gparted-live-0.28.1-1-i686.iso\n"
          ],
          "name": "stdout"
        }
      ]
    },
    {
      "cell_type": "code",
      "metadata": {
        "id": "Vjjs086l8wE2",
        "colab_type": "code",
        "colab": {
          "base_uri": "https://localhost:8080/",
          "height": 54
        },
        "outputId": "756882f5-4213-47af-b117-4e9ebe0eb7a7"
      },
      "source": [
        ""
      ],
      "execution_count": null,
      "outputs": [
        {
          "output_type": "stream",
          "text": [
            "[PhysicalDevice(name='/physical_device:CPU:0', device_type='CPU'), PhysicalDevice(name='/physical_device:XLA_CPU:0', device_type='XLA_CPU'), PhysicalDevice(name='/physical_device:XLA_GPU:0', device_type='XLA_GPU'), PhysicalDevice(name='/physical_device:GPU:0', device_type='GPU')]\n"
          ],
          "name": "stdout"
        }
      ]
    },
    {
      "cell_type": "code",
      "metadata": {
        "id": "9ZzqjVO_8gvG",
        "colab_type": "code",
        "colab": {
          "base_uri": "https://localhost:8080/",
          "height": 86
        },
        "outputId": "d6c8c744-4eaf-41df-d5ba-b5b0ac146501"
      },
      "source": [
        "from __future__ import absolute_import, division, print_function, unicode_literals\n",
        "\n",
        "try:\n",
        "  !pip uninstall tb-nightly tensorboardX tensorboardX\n",
        "  # !pip install tf-nightly\n",
        "except Exception:\n",
        "  pass\n",
        "\n",
        "import tensorflow as tf\n",
        "import os\n",
        "import datetime\n",
        "import attr\n",
        "import tensorflow_datasets as tfds\n",
        "\n",
        "%load_ext tensorboard"
      ],
      "execution_count": 4,
      "outputs": [
        {
          "output_type": "stream",
          "text": [
            "\u001b[33mWARNING: Skipping tb-nightly as it is not installed.\u001b[0m\n",
            "\u001b[33mWARNING: Skipping tensorboardX as it is not installed.\u001b[0m\n",
            "The tensorboard extension is already loaded. To reload it, use:\n",
            "  %reload_ext tensorboard\n"
          ],
          "name": "stdout"
        }
      ]
    },
    {
      "cell_type": "code",
      "metadata": {
        "id": "aqfYgGrd9_4v",
        "colab_type": "code",
        "colab": {
          "base_uri": "https://localhost:8080/",
          "height": 86
        },
        "outputId": "62f7289b-7118-4a07-b9b5-3b3b227c3d85"
      },
      "source": [
        "tf.config.experimental.list_physical_devices()"
      ],
      "execution_count": 5,
      "outputs": [
        {
          "output_type": "execute_result",
          "data": {
            "text/plain": [
              "[PhysicalDevice(name='/physical_device:CPU:0', device_type='CPU'),\n",
              " PhysicalDevice(name='/physical_device:XLA_CPU:0', device_type='XLA_CPU'),\n",
              " PhysicalDevice(name='/physical_device:XLA_GPU:0', device_type='XLA_GPU'),\n",
              " PhysicalDevice(name='/physical_device:GPU:0', device_type='GPU')]"
            ]
          },
          "metadata": {
            "tags": []
          },
          "execution_count": 5
        }
      ]
    },
    {
      "cell_type": "code",
      "metadata": {
        "id": "eFal0Jsk8kyT",
        "colab_type": "code",
        "colab": {
          "base_uri": "https://localhost:8080/",
          "height": 34
        },
        "outputId": "35b3a686-378e-4603-e325-bf3965033050"
      },
      "source": [
        "print(tf.__version__)"
      ],
      "execution_count": 7,
      "outputs": [
        {
          "output_type": "stream",
          "text": [
            "2.2.0\n"
          ],
          "name": "stdout"
        }
      ]
    },
    {
      "cell_type": "code",
      "metadata": {
        "id": "s56pvnXWJWwW",
        "colab_type": "code",
        "colab": {
          "base_uri": "https://localhost:8080/",
          "height": 52
        },
        "outputId": "b0445cd9-d854-45aa-ad10-f1f628219b73"
      },
      "source": [
        "import pkg_resources\n",
        "for entry_point in pkg_resources.iter_entry_points('tensorboard_plugins'):\n",
        "  print(entry_point.dist)"
      ],
      "execution_count": 8,
      "outputs": [
        {
          "output_type": "stream",
          "text": [
            "tensorboard 2.2.2\n",
            "tensorboard-plugin-wit 1.7.0\n"
          ],
          "name": "stdout"
        }
      ]
    },
    {
      "cell_type": "code",
      "metadata": {
        "id": "l99JEv5hK2rX",
        "colab_type": "code",
        "colab": {
          "base_uri": "https://localhost:8080/",
          "height": 52
        },
        "outputId": "66086cb7-35e9-489a-b204-f24167d930c7"
      },
      "source": [
        "!ls /usr/local/lib/python3.6/dist-packages/tensorboardcolab-0.0.22.dist-info/\n",
        "\n",
        "!rm -r /usr/local/lib/python3.6/dist-packages/tensorboardcolab-0.0.22.dist-info/\n",
        "\n",
        "!ls /usr/local/lib/python3.6/dist-packages/tensorboardcolab-0.0.22.dist-info/"
      ],
      "execution_count": 9,
      "outputs": [
        {
          "output_type": "stream",
          "text": [
            "INSTALLER  METADATA  RECORD  top_level.txt  WHEEL\n",
            "ls: cannot access '/usr/local/lib/python3.6/dist-packages/tensorboardcolab-0.0.22.dist-info/': No such file or directory\n"
          ],
          "name": "stdout"
        }
      ]
    },
    {
      "cell_type": "code",
      "metadata": {
        "id": "jpGbfQ5W82dT",
        "colab_type": "code",
        "colab": {
          "base_uri": "https://localhost:8080/",
          "height": 423,
          "referenced_widgets": [
            "1747d4627d234f5cafbec2d997d75f2e",
            "4249c02ca5cb4166956aa3e349b23355",
            "cb4b9c4eeb1f4496bdbe18bfcbbe1162",
            "19cb5aa1fa65452bb01394dd901ea3ed",
            "16291af98f944af6b4999a20c6f32e9d",
            "9baea655008f46da9afa5af0a115b0b8",
            "464bd82f8d784dd69961000092a60f92",
            "1d63ede96acf40ad88862f464339bea0",
            "2fa8da76b9154c66864b3cddde7677a6",
            "0ecf1c54c1694014892bf8ec31731f91",
            "5ec707bbc492429698e0e7204854d405",
            "e975bb8338cf49a78f362f562876ee80",
            "38db50333ec64efd89a103c62af6cbad",
            "3503502a88c44f04b1ab1170bbc63f5f",
            "60566a8841d54024b036d9290900c3ee",
            "c7d079174af74b56a7abe4d8b18cd250",
            "4268331215714625ae78863f85ba372c",
            "a22ddac8a0ed492b84de56f69b45a65e",
            "4b8c4d250e3a451cbbfdc375a1c3e3f8",
            "dd8a45f686c34725983d32c06ebacd87",
            "1d802b2829034729b09521f045924ee3",
            "48f7a6e113e44aca9191a960ed8b5c07",
            "1db1ad2621b847b59479932720ae5334",
            "f6c3094cb92c4eb48e4191b027b949d2",
            "c8a0b4a86681435e81734abd242b07fc",
            "2079d67029e6445680549305f3bf5694",
            "9fcd33ef698e49f78067674c0d3a1abf",
            "2bbd1e33e00b42ec8a7eaf23cedd29b2",
            "e2b432c96056410ea97c8a8b0a74a65f",
            "d4005571b0e0461cb5713bf9e4f7fa14",
            "eefa0aa7a7354c9c9746b3b44f2b71e8",
            "826c297114614cedb889ff3adee7bf89",
            "e36cead0355a4d8898d42d65356b5c96",
            "eebb9228ec4e4816bc3724ef2e20ccb5",
            "f815a0e544b74a6bb86605c1f570c88c",
            "591b158a28384956966fa75d59119596",
            "a0001e7e3b5e48208e05d258d940edb0",
            "079b9669388649119620f2a61b63da9f",
            "20495b20eb074612b7217b55e6e49708",
            "9a4703e86cbb4004913bd66835ae5f17",
            "4272ee3afe9d4be0994ac6da8799fa85",
            "43e6d6d35c784b1f92c87c38bf51a872",
            "ad28d629265d421eb44a66cc69914d72",
            "bd209c3a353849a184d76f7064ca36fe",
            "711021af62f04cdbb5a871a3bd3caf7a",
            "978088c3073d47a48ebc2aaebd0bbd9c",
            "72d4670f4ec54f01957b101d6fee7d9a",
            "91191b0b6ef3472c964b62f31001a083",
            "2e953c9354f849639638341d7f21f460",
            "972ed84aa2c140e5bedfc21474cfbf88",
            "6cf35742b2d245399a8d9b310a7d3809",
            "ac92a88d1e7e47c79840439bcee58d65",
            "84018e3946bb4f4eb646c220bd9d8da7",
            "be9b692e9dfb4a51b6493dd22c5c5a99",
            "ae42d2b4e6be4d0189486a878a908e9e",
            "10e69aff56ae4451aa4657f5b0895ba6"
          ]
        },
        "outputId": "ec769579-bfeb-4a05-837f-07fa836d09e8"
      },
      "source": [
        "dataset, info = tfds.load('amazon_us_reviews/Mobile_Electronics_v1_00',with_info=True,data_dir='/content/drive/My Drive/colabfiles')\n",
        "train_dataset=dataset['train']"
      ],
      "execution_count": 10,
      "outputs": [
        {
          "output_type": "stream",
          "text": [
            "\u001b[1mDownloading and preparing dataset amazon_us_reviews/Mobile_Electronics_v1_00/0.1.0 (download: 21.81 MiB, generated: Unknown size, total: 21.81 MiB) to /content/drive/My Drive/colabfiles/amazon_us_reviews/Mobile_Electronics_v1_00/0.1.0...\u001b[0m\n"
          ],
          "name": "stdout"
        },
        {
          "output_type": "display_data",
          "data": {
            "application/vnd.jupyter.widget-view+json": {
              "model_id": "1747d4627d234f5cafbec2d997d75f2e",
              "version_minor": 0,
              "version_major": 2
            },
            "text/plain": [
              "HBox(children=(FloatProgress(value=1.0, bar_style='info', description='Dl Completed...', max=1.0, style=Progre…"
            ]
          },
          "metadata": {
            "tags": []
          }
        },
        {
          "output_type": "display_data",
          "data": {
            "application/vnd.jupyter.widget-view+json": {
              "model_id": "2fa8da76b9154c66864b3cddde7677a6",
              "version_minor": 0,
              "version_major": 2
            },
            "text/plain": [
              "HBox(children=(FloatProgress(value=1.0, bar_style='info', description='Dl Size...', max=1.0, style=ProgressSty…"
            ]
          },
          "metadata": {
            "tags": []
          }
        },
        {
          "output_type": "display_data",
          "data": {
            "application/vnd.jupyter.widget-view+json": {
              "model_id": "4268331215714625ae78863f85ba372c",
              "version_minor": 0,
              "version_major": 2
            },
            "text/plain": [
              "HBox(children=(FloatProgress(value=1.0, bar_style='info', description='Extraction completed...', max=1.0, styl…"
            ]
          },
          "metadata": {
            "tags": []
          }
        },
        {
          "output_type": "stream",
          "text": [
            "/usr/local/lib/python3.6/dist-packages/urllib3/connectionpool.py:847: InsecureRequestWarning: Unverified HTTPS request is being made. Adding certificate verification is strongly advised. See: https://urllib3.readthedocs.io/en/latest/advanced-usage.html#ssl-warnings\n",
            "  InsecureRequestWarning)\n"
          ],
          "name": "stderr"
        },
        {
          "output_type": "stream",
          "text": [
            "\n",
            "\n",
            "\n",
            "\n",
            "\n",
            "\n"
          ],
          "name": "stdout"
        },
        {
          "output_type": "display_data",
          "data": {
            "application/vnd.jupyter.widget-view+json": {
              "model_id": "c8a0b4a86681435e81734abd242b07fc",
              "version_minor": 0,
              "version_major": 2
            },
            "text/plain": [
              "HBox(children=(FloatProgress(value=1.0, bar_style='info', max=1.0), HTML(value='')))"
            ]
          },
          "metadata": {
            "tags": []
          }
        },
        {
          "output_type": "stream",
          "text": [
            "\rShuffling and writing examples to /content/drive/My Drive/colabfiles/amazon_us_reviews/Mobile_Electronics_v1_00/0.1.0.incompleteTP9086/amazon_us_reviews-train.tfrecord\n"
          ],
          "name": "stdout"
        },
        {
          "output_type": "display_data",
          "data": {
            "application/vnd.jupyter.widget-view+json": {
              "model_id": "e36cead0355a4d8898d42d65356b5c96",
              "version_minor": 0,
              "version_major": 2
            },
            "text/plain": [
              "HBox(children=(FloatProgress(value=0.0, max=104975.0), HTML(value='')))"
            ]
          },
          "metadata": {
            "tags": []
          }
        },
        {
          "output_type": "display_data",
          "data": {
            "application/vnd.jupyter.widget-view+json": {
              "model_id": "4272ee3afe9d4be0994ac6da8799fa85",
              "version_minor": 0,
              "version_major": 2
            },
            "text/plain": [
              "HBox(children=(FloatProgress(value=0.0, description='Computing statistics...', max=1.0, style=ProgressStyle(de…"
            ]
          },
          "metadata": {
            "tags": []
          }
        },
        {
          "output_type": "stream",
          "text": [
            "\r"
          ],
          "name": "stdout"
        },
        {
          "output_type": "display_data",
          "data": {
            "application/vnd.jupyter.widget-view+json": {
              "model_id": "2e953c9354f849639638341d7f21f460",
              "version_minor": 0,
              "version_major": 2
            },
            "text/plain": [
              "HBox(children=(FloatProgress(value=1.0, bar_style='info', max=1.0), HTML(value='')))"
            ]
          },
          "metadata": {
            "tags": []
          }
        },
        {
          "output_type": "stream",
          "text": [
            "ERROR:absl:Statistics generation doesn't work for nested structures yet\n"
          ],
          "name": "stderr"
        },
        {
          "output_type": "stream",
          "text": [
            "\r\n",
            "\u001b[1mDataset amazon_us_reviews downloaded and prepared to /content/drive/My Drive/colabfiles/amazon_us_reviews/Mobile_Electronics_v1_00/0.1.0. Subsequent calls will reuse this data.\u001b[0m\n"
          ],
          "name": "stdout"
        }
      ]
    },
    {
      "cell_type": "code",
      "metadata": {
        "id": "nVUR4x2D91U-",
        "colab_type": "code",
        "colab": {
          "base_uri": "https://localhost:8080/",
          "height": 86
        },
        "outputId": "6fa6faa4-d4bc-4c8a-9e22-017df0bea2f3"
      },
      "source": [
        "!ls -l /root/tensorflow_datasets/downloads"
      ],
      "execution_count": null,
      "outputs": [
        {
          "output_type": "stream",
          "text": [
            "total 22344\n",
            "drwxr-xr-x 2 root root     4096 Jul 16 18:41 extracted\n",
            "-rw-r--r-- 1 root root 22870508 Jul 16 18:41 s3_amaz-revi-pds_tsv_amaz_revi_us_Mobi_ElecPkyC_o4G7jk7fLKKAVqFMDwTbzc_lgbviQOD60eB-6A.gz\n",
            "-rw-r--r-- 1 root root      222 Jul 16 18:41 s3_amaz-revi-pds_tsv_amaz_revi_us_Mobi_ElecPkyC_o4G7jk7fLKKAVqFMDwTbzc_lgbviQOD60eB-6A.gz.INFO\n"
          ],
          "name": "stdout"
        }
      ]
    },
    {
      "cell_type": "code",
      "metadata": {
        "id": "v5598Ifa-BCk",
        "colab_type": "code",
        "colab": {
          "base_uri": "https://localhost:8080/",
          "height": 34
        },
        "outputId": "7b9ac1e5-fbd6-4497-80ec-7b906dba7326"
      },
      "source": [
        "!cp /root/tensorflow_datasets/downloads/s3_amaz-revi-pds_tsv_amaz_revi_us_Mobi_ElecPkyC_o4G7jk7fLKKAVqFMDwTbzc_lgbviQOD60eB-6A.gz.INFO '/content/gdrive/colabfiles/testfile.gz.INFO'"
      ],
      "execution_count": null,
      "outputs": [
        {
          "output_type": "stream",
          "text": [
            "cp: cannot create regular file '/content/gdrive/colabfiles/testfile.gz.INFO': No such file or directory\n"
          ],
          "name": "stdout"
        }
      ]
    },
    {
      "cell_type": "code",
      "metadata": {
        "id": "tQTFb6x1AbuB",
        "colab_type": "code",
        "colab": {
          "base_uri": "https://localhost:8080/",
          "height": 54
        },
        "outputId": "f068c631-3ea0-4850-8812-e467d56b505c"
      },
      "source": [
        "train_dataset"
      ],
      "execution_count": null,
      "outputs": [
        {
          "output_type": "execute_result",
          "data": {
            "text/plain": [
              "<DatasetV1Adapter shapes: {data: {customer_id: (), helpful_votes: (), marketplace: (), product_category: (), product_id: (), product_parent: (), product_title: (), review_body: (), review_date: (), review_headline: (), review_id: (), star_rating: (), total_votes: (), verified_purchase: (), vine: ()}}, types: {data: {customer_id: tf.string, helpful_votes: tf.int32, marketplace: tf.string, product_category: tf.string, product_id: tf.string, product_parent: tf.string, product_title: tf.string, review_body: tf.string, review_date: tf.string, review_headline: tf.string, review_id: tf.string, star_rating: tf.int32, total_votes: tf.int32, verified_purchase: tf.int64, vine: tf.int64}}>"
            ]
          },
          "metadata": {
            "tags": []
          },
          "execution_count": 10
        }
      ]
    },
    {
      "cell_type": "code",
      "metadata": {
        "id": "GN7ciEnTAfVx",
        "colab_type": "code",
        "colab": {
          "base_uri": "https://localhost:8080/",
          "height": 973
        },
        "outputId": "4ae26675-8a92-4ed9-fd21-1b201d6b9474"
      },
      "source": [
        "info"
      ],
      "execution_count": null,
      "outputs": [
        {
          "output_type": "execute_result",
          "data": {
            "text/plain": [
              "tfds.core.DatasetInfo(\n",
              "    name='amazon_us_reviews',\n",
              "    version=0.1.0,\n",
              "    description='Amazon Customer Reviews (a.k.a. Product Reviews) is one of Amazons iconic products. In a period of over two decades since the first review in 1995, millions of Amazon customers have contributed over a hundred million reviews to express opinions and describe their experiences regarding products on the Amazon.com website. This makes Amazon Customer Reviews a rich source of information for academic researchers in the fields of Natural Language Processing (NLP), Information Retrieval (IR), and Machine Learning (ML), amongst others. Accordingly, we are releasing this data to further research in multiple disciplines related to understanding customer product experiences. Specifically, this dataset was constructed to represent a sample of customer evaluations and opinions, variation in the perception of a product across geographical regions, and promotional intent or bias in reviews.\n",
              "\n",
              "Over 130+ million customer reviews are available to researchers as part of this release. The data is available in TSV files in the amazon-reviews-pds S3 bucket in AWS US East Region. Each line in the data files corresponds to an individual review (tab delimited, with no quote and escape characters).\n",
              "\n",
              "Each Dataset contains the following columns : \n",
              "  marketplace       - 2 letter country code of the marketplace where the review was written.\n",
              "  customer_id       - Random identifier that can be used to aggregate reviews written by a single author.\n",
              "  review_id         - The unique ID of the review.\n",
              "  product_id        - The unique Product ID the review pertains to. In the multilingual dataset the reviews\n",
              "                      for the same product in different countries can be grouped by the same product_id.\n",
              "  product_parent    - Random identifier that can be used to aggregate reviews for the same product.\n",
              "  product_title     - Title of the product.\n",
              "  product_category  - Broad product category that can be used to group reviews \n",
              "                      (also used to group the dataset into coherent parts).\n",
              "  star_rating       - The 1-5 star rating of the review.\n",
              "  helpful_votes     - Number of helpful votes.\n",
              "  total_votes       - Number of total votes the review received.\n",
              "  vine              - Review was written as part of the Vine program.\n",
              "  verified_purchase - The review is on a verified purchase.\n",
              "  review_headline   - The title of the review.\n",
              "  review_body       - The review text.\n",
              "  review_date       - The date the review was written.\n",
              "',\n",
              "    homepage='https://s3.amazonaws.com/amazon-reviews-pds/readme.html',\n",
              "    features=FeaturesDict({\n",
              "        'data': FeaturesDict({\n",
              "            'customer_id': tf.string,\n",
              "            'helpful_votes': tf.int32,\n",
              "            'marketplace': tf.string,\n",
              "            'product_category': tf.string,\n",
              "            'product_id': tf.string,\n",
              "            'product_parent': tf.string,\n",
              "            'product_title': tf.string,\n",
              "            'review_body': tf.string,\n",
              "            'review_date': tf.string,\n",
              "            'review_headline': tf.string,\n",
              "            'review_id': tf.string,\n",
              "            'star_rating': tf.int32,\n",
              "            'total_votes': tf.int32,\n",
              "            'verified_purchase': ClassLabel(shape=(), dtype=tf.int64, num_classes=2),\n",
              "            'vine': ClassLabel(shape=(), dtype=tf.int64, num_classes=2),\n",
              "        }),\n",
              "    }),\n",
              "    total_num_examples=104975,\n",
              "    splits={\n",
              "        'train': 104975,\n",
              "    },\n",
              "    supervised_keys=None,\n",
              "    citation=\"\"\"\"\"\",\n",
              "    redistribution_info=,\n",
              ")"
            ]
          },
          "metadata": {
            "tags": []
          },
          "execution_count": 18
        }
      ]
    },
    {
      "cell_type": "code",
      "metadata": {
        "id": "RmFAjLMRAjW3",
        "colab_type": "code",
        "colab": {
          "base_uri": "https://localhost:8080/",
          "height": 34
        },
        "outputId": "0dd9bb29-f878-45c7-a017-a114ad00cdd8"
      },
      "source": [
        "len(list(train_dataset))"
      ],
      "execution_count": null,
      "outputs": [
        {
          "output_type": "execute_result",
          "data": {
            "text/plain": [
              "104975"
            ]
          },
          "metadata": {
            "tags": []
          },
          "execution_count": 12
        }
      ]
    },
    {
      "cell_type": "code",
      "metadata": {
        "id": "kzK0cl8WJG2K",
        "colab_type": "code",
        "colab": {
          "base_uri": "https://localhost:8080/",
          "height": 364
        },
        "outputId": "e69f4486-0317-495b-d347-45e7ae17788f"
      },
      "source": [
        "!nvidia-smi"
      ],
      "execution_count": null,
      "outputs": [
        {
          "output_type": "stream",
          "text": [
            "Thu Jul 16 20:43:59 2020       \n",
            "+-----------------------------------------------------------------------------+\n",
            "| NVIDIA-SMI 450.51.05    Driver Version: 418.67       CUDA Version: 10.1     |\n",
            "|-------------------------------+----------------------+----------------------+\n",
            "| GPU  Name        Persistence-M| Bus-Id        Disp.A | Volatile Uncorr. ECC |\n",
            "| Fan  Temp  Perf  Pwr:Usage/Cap|         Memory-Usage | GPU-Util  Compute M. |\n",
            "|                               |                      |               MIG M. |\n",
            "|===============================+======================+======================|\n",
            "|   0  Tesla P100-PCIE...  Off  | 00000000:00:04.0 Off |                    0 |\n",
            "| N/A   40C    P0    33W / 250W |    353MiB / 16280MiB |      0%      Default |\n",
            "|                               |                      |                 ERR! |\n",
            "+-------------------------------+----------------------+----------------------+\n",
            "                                                                               \n",
            "+-----------------------------------------------------------------------------+\n",
            "| Processes:                                                                  |\n",
            "|  GPU   GI   CI        PID   Type   Process name                  GPU Memory |\n",
            "|        ID   ID                                                   Usage      |\n",
            "|=============================================================================|\n",
            "|  No running processes found                                                 |\n",
            "+-----------------------------------------------------------------------------+\n"
          ],
          "name": "stdout"
        }
      ]
    },
    {
      "cell_type": "code",
      "metadata": {
        "id": "SwEVdjWTJYE8",
        "colab_type": "code",
        "colab": {}
      },
      "source": [
        "BUFFER_SIZE = 300\n",
        "BATCH_SIZE = 100"
      ],
      "execution_count": 11,
      "outputs": []
    },
    {
      "cell_type": "code",
      "metadata": {
        "id": "NGVbLGyLMYQO",
        "colab_type": "code",
        "colab": {}
      },
      "source": [
        "train_dataset = train_dataset.shuffle(BUFFER_SIZE, reshuffle_each_iteration=False)"
      ],
      "execution_count": 12,
      "outputs": []
    },
    {
      "cell_type": "code",
      "metadata": {
        "id": "l_Cd51DFMdug",
        "colab_type": "code",
        "colab": {
          "base_uri": "https://localhost:8080/",
          "height": 123
        },
        "outputId": "42367e2c-5a46-4f92-c4fd-56e0e1d29e71"
      },
      "source": [
        "for reviews in train_dataset.take(5):\n",
        "    print(reviews)"
      ],
      "execution_count": null,
      "outputs": [
        {
          "output_type": "stream",
          "text": [
            "{'data': {'customer_id': <tf.Tensor: shape=(), dtype=string, numpy=b'20602736'>, 'helpful_votes': <tf.Tensor: shape=(), dtype=int32, numpy=0>, 'marketplace': <tf.Tensor: shape=(), dtype=string, numpy=b'US'>, 'product_category': <tf.Tensor: shape=(), dtype=string, numpy=b'Mobile_Electronics'>, 'product_id': <tf.Tensor: shape=(), dtype=string, numpy=b'B009L7EEZA'>, 'product_parent': <tf.Tensor: shape=(), dtype=string, numpy=b'970268868'>, 'product_title': <tf.Tensor: shape=(), dtype=string, numpy=b'Ionic Bluetooth Keyboard Tablet Stand Leather Case for New Barnes & Noble Nook HD+ 9-inch Wifi (Black/ Brown)[Does not fit Nook Tablet]'>, 'review_body': <tf.Tensor: shape=(), dtype=string, numpy=b\"Perfect fit for Nook HD+. Keeps it protected very well, magnet turns nook off, and the blue tooth keyboard is great and holds a charge for many days. The 'kick stand' is an added bonus that proved to be more stable than I thought it would be.\">, 'review_date': <tf.Tensor: shape=(), dtype=string, numpy=b'2013-12-13'>, 'review_headline': <tf.Tensor: shape=(), dtype=string, numpy=b'Great cover/keyboard combo. Would gladly order again.'>, 'review_id': <tf.Tensor: shape=(), dtype=string, numpy=b'R1CJ7MU99YG55R'>, 'star_rating': <tf.Tensor: shape=(), dtype=int32, numpy=5>, 'total_votes': <tf.Tensor: shape=(), dtype=int32, numpy=0>, 'verified_purchase': <tf.Tensor: shape=(), dtype=int64, numpy=0>, 'vine': <tf.Tensor: shape=(), dtype=int64, numpy=1>}}\n",
            "{'data': {'customer_id': <tf.Tensor: shape=(), dtype=string, numpy=b'21335163'>, 'helpful_votes': <tf.Tensor: shape=(), dtype=int32, numpy=0>, 'marketplace': <tf.Tensor: shape=(), dtype=string, numpy=b'US'>, 'product_category': <tf.Tensor: shape=(), dtype=string, numpy=b'Mobile_Electronics'>, 'product_id': <tf.Tensor: shape=(), dtype=string, numpy=b'B00EYY3H76'>, 'product_parent': <tf.Tensor: shape=(), dtype=string, numpy=b'396758614'>, 'product_title': <tf.Tensor: shape=(), dtype=string, numpy=b'Pac Isgm655 Isimple Connect Interface 2003-2012 Select Gm Vehicles'>, 'review_body': <tf.Tensor: shape=(), dtype=string, numpy=b\"They were very fast at shipping the product and I received it right away. Excited to install it I followed the instructions completely step by step and it caused all kinds of electrical problems even deleting the chip I had installed in my truck back to factory. It also caused problems with my radio. It said it was supposed to take over the xm radio. Well...that didn't happen. In fact when I finally made any kind of progress with getting it to connect with my phone it started flashing a weird GM code on the radio and had somehow deleted the xm from my radio completely. That's when I finally called it quits and took it back out of my truck. I got my radio working again but I wouldn't recommend this product to anyone who has a chipped truck.\">, 'review_date': <tf.Tensor: shape=(), dtype=string, numpy=b'2015-03-14'>, 'review_headline': <tf.Tensor: shape=(), dtype=string, numpy=b\"I got my radio working again but I wouldn't recommend this product to anyone who has a chipped truck\">, 'review_id': <tf.Tensor: shape=(), dtype=string, numpy=b'R26Q8OI30OAM4S'>, 'star_rating': <tf.Tensor: shape=(), dtype=int32, numpy=1>, 'total_votes': <tf.Tensor: shape=(), dtype=int32, numpy=1>, 'verified_purchase': <tf.Tensor: shape=(), dtype=int64, numpy=0>, 'vine': <tf.Tensor: shape=(), dtype=int64, numpy=1>}}\n",
            "{'data': {'customer_id': <tf.Tensor: shape=(), dtype=string, numpy=b'39107817'>, 'helpful_votes': <tf.Tensor: shape=(), dtype=int32, numpy=1>, 'marketplace': <tf.Tensor: shape=(), dtype=string, numpy=b'US'>, 'product_category': <tf.Tensor: shape=(), dtype=string, numpy=b'Mobile_Electronics'>, 'product_id': <tf.Tensor: shape=(), dtype=string, numpy=b'B00BKNPN30'>, 'product_parent': <tf.Tensor: shape=(), dtype=string, numpy=b'3685910'>, 'product_title': <tf.Tensor: shape=(), dtype=string, numpy=b'360 Degree Rotating Cover Case for Samsung Galaxy Tab 2 7.0 7-inch Tablet, Pink with Multi-angle Stand Sheath with Screen Protector and Stylus Bundle'>, 'review_body': <tf.Tensor: shape=(), dtype=string, numpy=b'Perfect fit! Beautiful absolutely love it!! One thing negative though, its covering my infrared sensor to use my remote for my tv..other than that its perfect and gorgeous!'>, 'review_date': <tf.Tensor: shape=(), dtype=string, numpy=b'2013-05-21'>, 'review_headline': <tf.Tensor: shape=(), dtype=string, numpy=b'love it!!!!'>, 'review_id': <tf.Tensor: shape=(), dtype=string, numpy=b'R3URBREQHM3IYW'>, 'star_rating': <tf.Tensor: shape=(), dtype=int32, numpy=5>, 'total_votes': <tf.Tensor: shape=(), dtype=int32, numpy=1>, 'verified_purchase': <tf.Tensor: shape=(), dtype=int64, numpy=0>, 'vine': <tf.Tensor: shape=(), dtype=int64, numpy=1>}}\n",
            "{'data': {'customer_id': <tf.Tensor: shape=(), dtype=string, numpy=b'50510859'>, 'helpful_votes': <tf.Tensor: shape=(), dtype=int32, numpy=0>, 'marketplace': <tf.Tensor: shape=(), dtype=string, numpy=b'US'>, 'product_category': <tf.Tensor: shape=(), dtype=string, numpy=b'Mobile_Electronics'>, 'product_id': <tf.Tensor: shape=(), dtype=string, numpy=b'B008RV3DEY'>, 'product_parent': <tf.Tensor: shape=(), dtype=string, numpy=b'371839803'>, 'product_title': <tf.Tensor: shape=(), dtype=string, numpy=b'New Uncut Blank Transponder Ignition Key for Toyota Avalon Camry Corolla Rav4 Tundra Yaris Matrix Solara (Chip #4d-67)'>, 'review_body': <tf.Tensor: shape=(), dtype=string, numpy=b'I had it cut and programmed at our local dealer.  Saved a lot. I would but from Crystalcity again.'>, 'review_date': <tf.Tensor: shape=(), dtype=string, numpy=b'2014-11-13'>, 'review_headline': <tf.Tensor: shape=(), dtype=string, numpy=b'I had it cut and programmed at our local dealer ...'>, 'review_id': <tf.Tensor: shape=(), dtype=string, numpy=b'R81VLF24E6I6Q'>, 'star_rating': <tf.Tensor: shape=(), dtype=int32, numpy=5>, 'total_votes': <tf.Tensor: shape=(), dtype=int32, numpy=0>, 'verified_purchase': <tf.Tensor: shape=(), dtype=int64, numpy=0>, 'vine': <tf.Tensor: shape=(), dtype=int64, numpy=1>}}\n",
            "{'data': {'customer_id': <tf.Tensor: shape=(), dtype=string, numpy=b'12871375'>, 'helpful_votes': <tf.Tensor: shape=(), dtype=int32, numpy=2>, 'marketplace': <tf.Tensor: shape=(), dtype=string, numpy=b'US'>, 'product_category': <tf.Tensor: shape=(), dtype=string, numpy=b'Mobile_Electronics'>, 'product_id': <tf.Tensor: shape=(), dtype=string, numpy=b'B007WLPJI8'>, 'product_parent': <tf.Tensor: shape=(), dtype=string, numpy=b'932019434'>, 'product_title': <tf.Tensor: shape=(), dtype=string, numpy=b'XO Vision XD103 - Digital Media Receiver'>, 'review_body': <tf.Tensor: shape=(), dtype=string, numpy=b\"Ok , I would not purchase this as a head unit for the daily driver. It's perfect for the golfcart , or in the RV. I saw no reason to buy a unit with a CD player as I , and many other people, no longer have or use CD's. this thing works great for what it is. You will need to by a small amp as it really doesn't have much built in power. And for what I paid for it if it crapped out in a year, I will buy another. At least it won't get stolen.\">, 'review_date': <tf.Tensor: shape=(), dtype=string, numpy=b'2012-07-09'>, 'review_headline': <tf.Tensor: shape=(), dtype=string, numpy=b'Perfect for the cart'>, 'review_id': <tf.Tensor: shape=(), dtype=string, numpy=b'R16CH15AQAACTA'>, 'star_rating': <tf.Tensor: shape=(), dtype=int32, numpy=5>, 'total_votes': <tf.Tensor: shape=(), dtype=int32, numpy=3>, 'verified_purchase': <tf.Tensor: shape=(), dtype=int64, numpy=0>, 'vine': <tf.Tensor: shape=(), dtype=int64, numpy=1>}}\n"
          ],
          "name": "stdout"
        }
      ]
    },
    {
      "cell_type": "code",
      "metadata": {
        "id": "0NzMOVHhMh8v",
        "colab_type": "code",
        "colab": {}
      },
      "source": [
        "for reviews in train_dataset.take(20):\n",
        "    review_text = reviews['data']\n",
        "    print(review_text.get('review_body').numpy())\n",
        "    print(review_text.get('star_rating'))\n",
        "    print(tf.where(review_text.get('star_rating')>3,1,0).numpy())"
      ],
      "execution_count": null,
      "outputs": []
    },
    {
      "cell_type": "code",
      "metadata": {
        "id": "szz-n_IaM980",
        "colab_type": "code",
        "colab": {}
      },
      "source": [
        "tokenizer = tfds.features.text.Tokenizer()"
      ],
      "execution_count": 13,
      "outputs": []
    },
    {
      "cell_type": "code",
      "metadata": {
        "id": "KWcJZknpNAas",
        "colab_type": "code",
        "colab": {}
      },
      "source": [
        "vocabulary_set = set()"
      ],
      "execution_count": 14,
      "outputs": []
    },
    {
      "cell_type": "code",
      "metadata": {
        "id": "GfHSsHs5NDNz",
        "colab_type": "code",
        "colab": {}
      },
      "source": [
        "# for all data just .enumerate():\n",
        "for _, reviews in train_dataset.enumerate():\n",
        "    #print(reviews)\n",
        "    review_text = reviews['data']\n",
        "    reviews_tokens = tokenizer.tokenize(review_text.get('review_body').numpy())\n",
        "    vocabulary_set.update(reviews_tokens)"
      ],
      "execution_count": 15,
      "outputs": []
    },
    {
      "cell_type": "code",
      "metadata": {
        "id": "qxwx7KXHOIxA",
        "colab_type": "code",
        "colab": {
          "base_uri": "https://localhost:8080/",
          "height": 34
        },
        "outputId": "19de5903-fb45-4a4e-c548-cb4aeee9bf79"
      },
      "source": [
        "vocab_size = len(vocabulary_set)\n",
        "print(f\"vocab size {vocab_size}\")"
      ],
      "execution_count": 16,
      "outputs": [
        {
          "output_type": "stream",
          "text": [
            "vocab size 73738\n"
          ],
          "name": "stdout"
        }
      ]
    },
    {
      "cell_type": "code",
      "metadata": {
        "id": "MU6W5YEJOM7H",
        "colab_type": "code",
        "colab": {}
      },
      "source": [
        "encoder = tfds.features.text.TokenTextEncoder(vocabulary_set)"
      ],
      "execution_count": 17,
      "outputs": []
    },
    {
      "cell_type": "code",
      "metadata": {
        "id": "okfYQ_c1OPnw",
        "colab_type": "code",
        "colab": {}
      },
      "source": [
        "for reviews in train_dataset.take(5):\n",
        "    review_text = reviews['data']\n",
        "    #print(review_text.get('review_body').numpy())\n",
        "    encoded_example = encoder.encode(review_text.get('review_body').numpy())\n",
        "    #print(encoded_example)"
      ],
      "execution_count": 18,
      "outputs": []
    },
    {
      "cell_type": "code",
      "metadata": {
        "id": "V8a-xr6pOS9l",
        "colab_type": "code",
        "colab": {}
      },
      "source": [
        "for index in encoded_example:\n",
        "    print('{} ----> {}'.format(index,encoder.decode([index])))"
      ],
      "execution_count": null,
      "outputs": []
    },
    {
      "cell_type": "code",
      "metadata": {
        "id": "i7LXJx0DOWHw",
        "colab_type": "code",
        "colab": {}
      },
      "source": [
        "def encode(text_tensor, label_tensor):\n",
        "    encoded_text = encoder.encode(text_tensor.numpy())\n",
        "    label = tf.where(label_tensor>3,1,0)\n",
        "    return encoded_text, label"
      ],
      "execution_count": 19,
      "outputs": []
    },
    {
      "cell_type": "code",
      "metadata": {
        "id": "bKGbVz4MOZg8",
        "colab_type": "code",
        "colab": {}
      },
      "source": [
        "def encode_map_fn(tensor):\n",
        "    text = tensor['data'].get('review_body')\n",
        "    label = tensor['data'].get('star_rating')\n",
        "\n",
        "    encoded_text, label = tf.py_function(encode,\n",
        "                                         inp=[text,label],\n",
        "                                         Tout=(tf.int64,tf.int32))\n",
        "    encoded_text.set_shape([None])\n",
        "    label.set_shape([])\n",
        "\n",
        "    return encoded_text, label"
      ],
      "execution_count": 20,
      "outputs": []
    },
    {
      "cell_type": "code",
      "metadata": {
        "id": "PjN2H0sBOcun",
        "colab_type": "code",
        "colab": {}
      },
      "source": [
        "ar_encoded_data = train_dataset.map(encode_map_fn)\n",
        "\n",
        "#for f0,f1 in ar_encoded_data.take(2):\n",
        "#    print(f\"f0 encoded review body:- {f0}\")\n",
        "#    print(f\"f1 encoded star rating:- {f1}\")"
      ],
      "execution_count": 23,
      "outputs": []
    },
    {
      "cell_type": "code",
      "metadata": {
        "id": "2d363FdJOpLp",
        "colab_type": "code",
        "colab": {}
      },
      "source": [
        "TAKE_SIZE = 10000"
      ],
      "execution_count": 25,
      "outputs": []
    },
    {
      "cell_type": "code",
      "metadata": {
        "id": "Hc1WBaDkOsBz",
        "colab_type": "code",
        "colab": {}
      },
      "source": [
        "train_data = ar_encoded_data.skip(TAKE_SIZE).shuffle(BUFFER_SIZE)\n",
        "train_data = train_data.padded_batch(BATCH_SIZE)"
      ],
      "execution_count": 26,
      "outputs": []
    },
    {
      "cell_type": "code",
      "metadata": {
        "id": "FPyIxJHbOwFT",
        "colab_type": "code",
        "colab": {}
      },
      "source": [
        "test_data = ar_encoded_data.take(TAKE_SIZE)\n",
        "test_data = test_data.padded_batch(BATCH_SIZE)"
      ],
      "execution_count": 27,
      "outputs": []
    },
    {
      "cell_type": "code",
      "metadata": {
        "id": "xTTPQJXAOzAQ",
        "colab_type": "code",
        "colab": {}
      },
      "source": [
        "vocab_size += 1"
      ],
      "execution_count": 28,
      "outputs": []
    },
    {
      "cell_type": "code",
      "metadata": {
        "id": "gC-wd-WAOzwL",
        "colab_type": "code",
        "colab": {}
      },
      "source": [
        "sample_text, sample_labels = next(iter(test_data))\n",
        "\n",
        "#print(sample_text[0])\n",
        "#print(sample_labels[0])"
      ],
      "execution_count": null,
      "outputs": []
    },
    {
      "cell_type": "code",
      "metadata": {
        "id": "igDq8zo0O3eK",
        "colab_type": "code",
        "colab": {
          "base_uri": "https://localhost:8080/",
          "height": 191
        },
        "outputId": "5eb21178-47bc-4122-d36d-a44d4b554451"
      },
      "source": [
        "for f0,f1 in test_data.take(10):\n",
        "    print(tf.unique_with_counts(f1)[2].numpy())"
      ],
      "execution_count": null,
      "outputs": [
        {
          "output_type": "stream",
          "text": [
            "[64 36]\n",
            "[68 32]\n",
            "[78 22]\n",
            "[67 33]\n",
            "[66 34]\n",
            "[74 26]\n",
            "[68 32]\n",
            "[64 36]\n",
            "[34 66]\n",
            "[67 33]\n"
          ],
          "name": "stdout"
        }
      ]
    },
    {
      "cell_type": "code",
      "metadata": {
        "id": "ZfQX-neIO-_j",
        "colab_type": "code",
        "colab": {
          "base_uri": "https://localhost:8080/",
          "height": 34
        },
        "outputId": "5a4440ca-5880-42ee-c26d-0a08aafb5ca8"
      },
      "source": [
        "print(\"model define started\")\n",
        "model = tf.keras.Sequential()\n",
        "model.add(tf.keras.layers.Embedding(vocab_size,128))\n",
        "model.add(tf.keras.layers.Bidirectional(tf.keras.layers.LSTM(128,return_sequences=True)))\n",
        "model.add(tf.keras.layers.Bidirectional(tf.keras.layers.LSTM(64)))\n",
        "for units in [64,64]:\n",
        "    model.add(tf.keras.layers.Dense(units,activation='relu'))\n",
        "model.add(tf.keras.layers.Dense(1))\n"
      ],
      "execution_count": null,
      "outputs": [
        {
          "output_type": "stream",
          "text": [
            "model define started\n"
          ],
          "name": "stdout"
        }
      ]
    },
    {
      "cell_type": "code",
      "metadata": {
        "id": "OJjZHSnyPCoS",
        "colab_type": "code",
        "colab": {
          "base_uri": "https://localhost:8080/",
          "height": 34
        },
        "outputId": "2934538a-6204-4f66-bb7d-c4c0b02d02df"
      },
      "source": [
        "print(\"set tensorboar callback and checkpoints\")\n",
        "logdir = os.path.join('/content/gdrive/My Drive/colabfiles/logs',datetime.datetime.now().strftime(\"%Y%m%d-%H%M%S\"))\n",
        "tensorboard_callback = tf.keras.callbacks.TensorBoard(logdir,histogram_freq=1)\n",
        "checkpointer = tf.keras.callbacks.ModelCheckpoint(filepath='/content/gdrive/My Drive/colabfiles/sentiment_analysis.hdf5',verbose=1,save_best_only=True)"
      ],
      "execution_count": null,
      "outputs": [
        {
          "output_type": "stream",
          "text": [
            "set tensorboar callback and checkpoints\n"
          ],
          "name": "stdout"
        }
      ]
    },
    {
      "cell_type": "code",
      "metadata": {
        "id": "6e9vC1-pPaM9",
        "colab_type": "code",
        "colab": {
          "base_uri": "https://localhost:8080/",
          "height": 34
        },
        "outputId": "43f05ac2-3364-4f46-9a7c-be63fe8a17d1"
      },
      "source": [
        "print(\"model compile started\")\n",
        "model.compile(optimizer='adam',\n",
        "              loss=tf.keras.losses.BinaryCrossentropy(from_logits=True),\n",
        "              metrics=['accuracy'])"
      ],
      "execution_count": null,
      "outputs": [
        {
          "output_type": "stream",
          "text": [
            "model compile started\n"
          ],
          "name": "stdout"
        }
      ]
    },
    {
      "cell_type": "code",
      "metadata": {
        "id": "wXCXdKUWPfY_",
        "colab_type": "code",
        "colab": {
          "base_uri": "https://localhost:8080/",
          "height": 193
        },
        "outputId": "2fbd4cf2-35b4-4f39-89ae-37afed7fca09"
      },
      "source": [
        "print(\"model fit started\")\n",
        "history=model.fit(train_data,epochs=2,validation_data=test_data,callbacks=[tensorboard_callback,checkpointer])\n",
        "\n",
        "model.save('/content/gdrive/My Drive/colabfiles/final_sentiment_analysis.hdf5')"
      ],
      "execution_count": null,
      "outputs": [
        {
          "output_type": "stream",
          "text": [
            "model fit started\n",
            "Epoch 1/2\n",
            "950/950 [==============================] - ETA: 0s - loss: 0.3623 - accuracy: 0.8363\n",
            "Epoch 00001: val_loss improved from inf to 0.27738, saving model to /content/gdrive/My Drive/colabfiles/sentiment_analysis.hdf5\n",
            "950/950 [==============================] - 835s 879ms/step - loss: 0.3623 - accuracy: 0.8363 - val_loss: 0.2774 - val_accuracy: 0.8884\n",
            "Epoch 2/2\n",
            "950/950 [==============================] - ETA: 0s - loss: 0.2300 - accuracy: 0.9056\n",
            "Epoch 00002: val_loss did not improve from 0.27738\n",
            "950/950 [==============================] - 837s 881ms/step - loss: 0.2300 - accuracy: 0.9056 - val_loss: 0.2778 - val_accuracy: 0.8936\n"
          ],
          "name": "stdout"
        }
      ]
    },
    {
      "cell_type": "code",
      "metadata": {
        "id": "RA22GDYmXPAR",
        "colab_type": "code",
        "colab": {
          "base_uri": "https://localhost:8080/",
          "height": 34
        },
        "outputId": "5ae46e9c-6fdc-4cee-b704-bc9db3a7bf2e"
      },
      "source": [
        "eval_loss, eval_acc = model.evaluate(test_data)"
      ],
      "execution_count": null,
      "outputs": [
        {
          "output_type": "stream",
          "text": [
            "100/100 [==============================] - 37s 366ms/step - loss: 0.2778 - accuracy: 0.8936\n"
          ],
          "name": "stdout"
        }
      ]
    },
    {
      "cell_type": "code",
      "metadata": {
        "id": "zqr3uc8DYIpA",
        "colab_type": "code",
        "colab": {
          "base_uri": "https://localhost:8080/",
          "height": 1000
        },
        "outputId": "3bacec8f-e1d6-42e9-f143-485cdcf66eae"
      },
      "source": [
        "for f0,f1 in test_data.take(1):\n",
        "  print(f\"actual labels:- {f1}\")\n",
        "  print(f\"predicted labels:- {model.predict(f0)} +ve=1 and -ve=0\")"
      ],
      "execution_count": null,
      "outputs": [
        {
          "output_type": "stream",
          "text": [
            "actual labels:- [1 0 1 1 1 0 0 1 1 0 1 1 1 1 1 1 0 1 1 1 0 0 1 1 1 0 0 1 1 1 1 1 1 1 0 1 0\n",
            " 1 0 1 0 1 1 1 1 1 1 1 1 1 0 1 1 0 0 1 0 1 1 1 1 1 1 0 1 1 0 0 1 1 0 0 1 1\n",
            " 1 0 1 1 0 1 1 1 1 1 1 1 0 0 1 0 1 1 1 1 1 1 0 0 1 1]\n",
            "predicted labels:- [[ 5.3618402 ]\n",
            " [-1.529299  ]\n",
            " [ 5.4608717 ]\n",
            " [ 3.3693905 ]\n",
            " [ 2.6012151 ]\n",
            " [-0.368173  ]\n",
            " [-1.2707765 ]\n",
            " [ 3.8979452 ]\n",
            " [ 4.424858  ]\n",
            " [-3.3911264 ]\n",
            " [-0.9889862 ]\n",
            " [ 4.9206405 ]\n",
            " [ 4.3371    ]\n",
            " [ 4.5599422 ]\n",
            " [ 4.7615848 ]\n",
            " [ 4.4415636 ]\n",
            " [-1.1868194 ]\n",
            " [-0.82897294]\n",
            " [ 5.0935197 ]\n",
            " [ 5.2715693 ]\n",
            " [-3.3656256 ]\n",
            " [ 0.04816687]\n",
            " [ 5.1379166 ]\n",
            " [ 5.014592  ]\n",
            " [ 5.221121  ]\n",
            " [ 1.9805354 ]\n",
            " [-2.637799  ]\n",
            " [ 4.2529945 ]\n",
            " [ 4.6795306 ]\n",
            " [ 2.1930034 ]\n",
            " [ 2.9651449 ]\n",
            " [ 3.9347782 ]\n",
            " [ 1.7794207 ]\n",
            " [ 5.3931465 ]\n",
            " [-2.588462  ]\n",
            " [ 4.840185  ]\n",
            " [-2.0020478 ]\n",
            " [ 4.5156517 ]\n",
            " [-4.5197344 ]\n",
            " [ 3.611327  ]\n",
            " [ 1.2904301 ]\n",
            " [ 4.166727  ]\n",
            " [-2.1844757 ]\n",
            " [ 4.575974  ]\n",
            " [ 4.651437  ]\n",
            " [ 5.161581  ]\n",
            " [ 4.5156703 ]\n",
            " [ 4.879048  ]\n",
            " [ 1.6261514 ]\n",
            " [ 2.4840426 ]\n",
            " [-1.1610403 ]\n",
            " [ 5.13396   ]\n",
            " [ 4.6558485 ]\n",
            " [-3.9278471 ]\n",
            " [ 0.95603937]\n",
            " [ 4.2592993 ]\n",
            " [-3.4738505 ]\n",
            " [ 3.5110226 ]\n",
            " [ 4.592595  ]\n",
            " [ 5.387671  ]\n",
            " [ 4.866382  ]\n",
            " [ 4.061651  ]\n",
            " [ 5.257204  ]\n",
            " [-1.971295  ]\n",
            " [ 4.61307   ]\n",
            " [ 2.6177251 ]\n",
            " [-2.4827757 ]\n",
            " [-3.584716  ]\n",
            " [ 4.696494  ]\n",
            " [ 4.6977677 ]\n",
            " [ 2.8753078 ]\n",
            " [-0.13086514]\n",
            " [ 4.4740157 ]\n",
            " [ 1.7052833 ]\n",
            " [ 4.8813233 ]\n",
            " [-4.7208343 ]\n",
            " [ 2.7402458 ]\n",
            " [ 1.375544  ]\n",
            " [-3.4127107 ]\n",
            " [ 4.750447  ]\n",
            " [ 4.7067566 ]\n",
            " [ 4.3292155 ]\n",
            " [ 4.356211  ]\n",
            " [ 4.8660665 ]\n",
            " [ 5.006654  ]\n",
            " [ 4.9095726 ]\n",
            " [-2.810999  ]\n",
            " [-1.4719219 ]\n",
            " [ 3.621195  ]\n",
            " [-1.277298  ]\n",
            " [ 4.164778  ]\n",
            " [ 3.7811022 ]\n",
            " [ 5.4600234 ]\n",
            " [ 5.4762373 ]\n",
            " [ 1.0314873 ]\n",
            " [ 4.513138  ]\n",
            " [ 2.909162  ]\n",
            " [ 0.62676615]\n",
            " [ 2.2405396 ]\n",
            " [ 4.2105618 ]] +ve=1 and -ve=0\n"
          ],
          "name": "stdout"
        }
      ]
    },
    {
      "cell_type": "code",
      "metadata": {
        "id": "XOohXaU7QaX_",
        "colab_type": "code",
        "colab": {
          "base_uri": "https://localhost:8080/",
          "height": 121
        },
        "outputId": "930a51b4-f488-4011-edc0-c1baa20e84b5"
      },
      "source": [
        "model.layers"
      ],
      "execution_count": null,
      "outputs": [
        {
          "output_type": "execute_result",
          "data": {
            "text/plain": [
              "[<tensorflow.python.keras.layers.embeddings.Embedding at 0x7ff80f2ecef0>,\n",
              " <tensorflow.python.keras.layers.wrappers.Bidirectional at 0x7ff8200fc518>,\n",
              " <tensorflow.python.keras.layers.wrappers.Bidirectional at 0x7ff81fe81160>,\n",
              " <tensorflow.python.keras.layers.core.Dense at 0x7ff81fe8a2e8>,\n",
              " <tensorflow.python.keras.layers.core.Dense at 0x7ff81ff15e80>,\n",
              " <tensorflow.python.keras.layers.core.Dense at 0x7ff81fe8a438>]"
            ]
          },
          "metadata": {
            "tags": []
          },
          "execution_count": 63
        }
      ]
    },
    {
      "cell_type": "code",
      "metadata": {
        "id": "GLLN0fW3YBoD",
        "colab_type": "code",
        "colab": {
          "base_uri": "https://localhost:8080/",
          "height": 363
        },
        "outputId": "8d7c36e6-a27c-4dca-e6ee-7109610109e5"
      },
      "source": [
        "model.summary()"
      ],
      "execution_count": null,
      "outputs": [
        {
          "output_type": "stream",
          "text": [
            "Model: \"sequential\"\n",
            "_________________________________________________________________\n",
            "Layer (type)                 Output Shape              Param #   \n",
            "=================================================================\n",
            "embedding (Embedding)        (None, None, 128)         9438592   \n",
            "_________________________________________________________________\n",
            "bidirectional (Bidirectional (None, None, 256)         263168    \n",
            "_________________________________________________________________\n",
            "bidirectional_1 (Bidirection (None, 128)               164352    \n",
            "_________________________________________________________________\n",
            "dense (Dense)                (None, 64)                8256      \n",
            "_________________________________________________________________\n",
            "dense_1 (Dense)              (None, 64)                4160      \n",
            "_________________________________________________________________\n",
            "dense_2 (Dense)              (None, 1)                 65        \n",
            "=================================================================\n",
            "Total params: 9,878,593\n",
            "Trainable params: 9,878,593\n",
            "Non-trainable params: 0\n",
            "_________________________________________________________________\n"
          ],
          "name": "stdout"
        }
      ]
    },
    {
      "cell_type": "code",
      "metadata": {
        "id": "QRPLKOixYEGe",
        "colab_type": "code",
        "colab": {}
      },
      "source": [
        "import matplotlib.pyplot as plt\n",
        "\n",
        "def plot_graphs(history,metric):\n",
        "  plt.plot(history.history[metric])\n",
        "  plt.plot(history.history['val_'+metric], '')\n",
        "  plt.xlabel(\"Epochs\")\n",
        "  plt.ylabel(metric)\n",
        "  plt.legend([metric, 'val_'+metric])\n",
        "  plt.show()"
      ],
      "execution_count": null,
      "outputs": []
    },
    {
      "cell_type": "code",
      "metadata": {
        "id": "Avz_K1FMZxhS",
        "colab_type": "code",
        "colab": {
          "base_uri": "https://localhost:8080/",
          "height": 279
        },
        "outputId": "39b98a47-034b-4126-c316-1485e0d3f5a8"
      },
      "source": [
        "plot_graphs(history,'accuracy')"
      ],
      "execution_count": null,
      "outputs": [
        {
          "output_type": "display_data",
          "data": {
            "image/png": "[encoded data removed]",
            "text/plain": [
              "<Figure size 432x288 with 1 Axes>"
            ]
          },
          "metadata": {
            "tags": [],
            "needs_background": "light"
          }
        }
      ]
    },
    {
      "cell_type": "code",
      "metadata": {
        "id": "GSc_dtQpZ2ZK",
        "colab_type": "code",
        "colab": {
          "base_uri": "https://localhost:8080/",
          "height": 279
        },
        "outputId": "91f4eda4-605b-462e-8094-893e8daa8c6d"
      },
      "source": [
        "plot_graphs(history,'loss')"
      ],
      "execution_count": null,
      "outputs": [
        {
          "output_type": "display_data",
          "data": {
            "image/png": "[encoded data removed]",
            "text/plain": [
              "<Figure size 432x288 with 1 Axes>"
            ]
          },
          "metadata": {
            "tags": [],
            "needs_background": "light"
          }
        }
      ]
    },
    {
      "cell_type": "code",
      "metadata": {
        "id": "QfFr7jMGZ5_u",
        "colab_type": "code",
        "colab": {}
      },
      "source": [
        "tf.keras.backend.clear_session()\n",
        "sa_load = tf.keras.models.load_model('/content/gdrive/My Drive/colabfiles/sentiment_analysis.hdf5', compile=False)"
      ],
      "execution_count": 29,
      "outputs": []
    },
    {
      "cell_type": "code",
      "metadata": {
        "id": "7yAqN1Yw9X03",
        "colab_type": "code",
        "colab": {}
      },
      "source": [
        "def pad_to_size(vec,size):\n",
        "  zeros = [0] * (size - len(vec))\n",
        "  vec.extend(zeros)\n",
        "  return vec"
      ],
      "execution_count": 30,
      "outputs": []
    },
    {
      "cell_type": "code",
      "metadata": {
        "id": "thVXRwmv9oxy",
        "colab_type": "code",
        "colab": {}
      },
      "source": [
        "def predict_fn(pred_text):\n",
        "  encoded_pred_text = encoder.encode(pred_text)\n",
        "  print(encoded_pred_text)\n",
        "  encoded_pred_text = pad_to_size(encoded_pred_text,32)\n",
        "  print(encoded_pred_text)\n",
        "  encoded_pred_text = tf.cast(encoded_pred_text, tf.float32)\n",
        "  predictions = sa_load.predict(tf.expand_dims(encoded_pred_text,0))\n",
        "  return (predictions)"
      ],
      "execution_count": 31,
      "outputs": []
    },
    {
      "cell_type": "code",
      "metadata": {
        "id": "6Iega6UD_Tjm",
        "colab_type": "code",
        "colab": {
          "base_uri": "https://localhost:8080/",
          "height": 69
        },
        "outputId": "0f1c1c9e-a3b0-404a-b5a9-3ab0c98a7ffb"
      },
      "source": [
        "pred_text = ('This watch is pretty bad. Color and dial look pathetic')\n",
        "predictions = predict_fn(pred_text)\n",
        "print(predictions)"
      ],
      "execution_count": 32,
      "outputs": [
        {
          "output_type": "stream",
          "text": [
            "[15606, 24804, 42951, 39409, 33229, 41221, 72173, 6832, 62243, 3963]\n",
            "[15606, 24804, 42951, 39409, 33229, 41221, 72173, 6832, 62243, 3963, 0, 0, 0, 0, 0, 0, 0, 0, 0, 0, 0, 0, 0, 0, 0, 0, 0, 0, 0, 0, 0, 0]\n",
            "[[0.8173491]]\n"
          ],
          "name": "stdout"
        }
      ]
    },
    {
      "cell_type": "code",
      "metadata": {
        "id": "MFUYGiRElYap",
        "colab_type": "code",
        "colab": {
          "base_uri": "https://localhost:8080/",
          "height": 69
        },
        "outputId": "7c746367-683f-4503-89bf-117f3905c21d"
      },
      "source": [
        "pred_text = ('bad batch of watches')\n",
        "predictions = predict_fn(pred_text)\n",
        "print(predictions)"
      ],
      "execution_count": 33,
      "outputs": [
        {
          "output_type": "stream",
          "text": [
            "[33229, 29316, 43471, 57637]\n",
            "[33229, 29316, 43471, 57637, 0, 0, 0, 0, 0, 0, 0, 0, 0, 0, 0, 0, 0, 0, 0, 0, 0, 0, 0, 0, 0, 0, 0, 0, 0, 0, 0, 0]\n",
            "[[-0.08192927]]\n"
          ],
          "name": "stdout"
        }
      ]
    },
    {
      "cell_type": "code",
      "metadata": {
        "id": "6s_oJIR3l2Ls",
        "colab_type": "code",
        "colab": {
          "base_uri": "https://localhost:8080/",
          "height": 69
        },
        "outputId": "c4028b1f-0c49-40a9-cf73-97d7be91816c"
      },
      "source": [
        "pred_text = ('This watch is pretty good. Color and dial look could be better')\n",
        "predictions = predict_fn(pred_text)\n",
        "print(predictions)"
      ],
      "execution_count": 34,
      "outputs": [
        {
          "output_type": "stream",
          "text": [
            "[15606, 24804, 42951, 39409, 23215, 41221, 72173, 6832, 62243, 28401, 32119, 38321]\n",
            "[15606, 24804, 42951, 39409, 23215, 41221, 72173, 6832, 62243, 28401, 32119, 38321, 0, 0, 0, 0, 0, 0, 0, 0, 0, 0, 0, 0, 0, 0, 0, 0, 0, 0, 0, 0]\n",
            "[[2.3603022]]\n"
          ],
          "name": "stdout"
        }
      ]
    },
    {
      "cell_type": "code",
      "metadata": {
        "id": "6J4tb6spl_7h",
        "colab_type": "code",
        "colab": {
          "base_uri": "https://localhost:8080/",
          "height": 69
        },
        "outputId": "25d53167-5ac4-425e-9d51-9c7b49d6adb4"
      },
      "source": [
        "pred_text = ('best ever watch')\n",
        "predictions = predict_fn(pred_text)\n",
        "print(predictions)"
      ],
      "execution_count": 36,
      "outputs": [
        {
          "output_type": "stream",
          "text": [
            "[12993, 20364, 24804]\n",
            "[12993, 20364, 24804, 0, 0, 0, 0, 0, 0, 0, 0, 0, 0, 0, 0, 0, 0, 0, 0, 0, 0, 0, 0, 0, 0, 0, 0, 0, 0, 0, 0, 0]\n",
            "[[0.5505378]]\n"
          ],
          "name": "stdout"
        }
      ]
    },
    {
      "cell_type": "code",
      "metadata": {
        "id": "KikutaDsmHqn",
        "colab_type": "code",
        "colab": {
          "base_uri": "https://localhost:8080/",
          "height": 69
        },
        "outputId": "31c81fb1-c838-4b01-fae3-aea954adb70d"
      },
      "source": [
        "pred_text = ('This watch is great')\n",
        "predictions = predict_fn(pred_text)\n",
        "print(predictions)"
      ],
      "execution_count": 37,
      "outputs": [
        {
          "output_type": "stream",
          "text": [
            "[15606, 24804, 42951, 21668]\n",
            "[15606, 24804, 42951, 21668, 0, 0, 0, 0, 0, 0, 0, 0, 0, 0, 0, 0, 0, 0, 0, 0, 0, 0, 0, 0, 0, 0, 0, 0, 0, 0, 0, 0]\n",
            "[[0.04468853]]\n"
          ],
          "name": "stdout"
        }
      ]
    },
    {
      "cell_type": "code",
      "metadata": {
        "id": "5RFMqtBPmSeO",
        "colab_type": "code",
        "colab": {}
      },
      "source": [
        ""
      ],
      "execution_count": null,
      "outputs": []
    }
  ]
}